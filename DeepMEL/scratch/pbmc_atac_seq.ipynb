{
 "cells": [
  {
   "cell_type": "code",
   "execution_count": null,
   "id": "6dcffdcd-8812-49fd-8a08-5135dc0532d9",
   "metadata": {
    "execution": {
     "iopub.execute_input": "2023-01-05T21:41:02.067783Z",
     "iopub.status.busy": "2023-01-05T21:41:02.067386Z",
     "iopub.status.idle": "2023-01-05T21:41:02.072080Z",
     "shell.execute_reply": "2023-01-05T21:41:02.071331Z",
     "shell.execute_reply.started": "2023-01-05T21:41:02.067752Z"
    },
    "tags": []
   },
   "outputs": [],
   "source": [
    "import os\n",
    "import sys\n",
    "import warnings\n",
    "import dill\n",
    "import pickle\n",
    "import pandas\n",
    "import pyranges\n",
    "import numpy as np\n",
    "import pandas as pd"
   ]
  },
  {
   "cell_type": "code",
   "execution_count": null,
   "id": "2b39f208-11c8-47f6-86b4-1e3666fbf5c6",
   "metadata": {
    "execution": {
     "iopub.execute_input": "2023-01-06T00:33:31.086459Z",
     "iopub.status.busy": "2023-01-06T00:33:31.086071Z",
     "iopub.status.idle": "2023-01-06T00:33:31.091323Z",
     "shell.execute_reply": "2023-01-06T00:33:31.090437Z",
     "shell.execute_reply.started": "2023-01-06T00:33:31.086429Z"
    },
    "tags": []
   },
   "outputs": [],
   "source": [
    "warnings.filterwarnings(\"ignore\")\n",
    "# Set stderr to null to avoid strange messages from ray\n",
    "_stderr = sys.stderr\n",
    "null = open(os.devnull, 'wb')\n",
    "work_dir = '/cellar/users/aklie/projects/beta_cell_networks/notebooks/tutorial/infer_grns/scenicplus/pbmc_tutorial'\n",
    "tmp_dir = '/cellar/users/aklie/tmp/'"
   ]
  },
  {
   "cell_type": "code",
   "execution_count": null,
   "id": "e2019edf-0d3b-496a-a8df-7af7cc388db3",
   "metadata": {
    "execution": {
     "iopub.execute_input": "2023-01-06T00:37:59.085218Z",
     "iopub.status.busy": "2023-01-06T00:37:59.084814Z",
     "iopub.status.idle": "2023-01-06T00:37:59.628665Z",
     "shell.execute_reply": "2023-01-06T00:37:59.627786Z",
     "shell.execute_reply.started": "2023-01-06T00:37:59.085189Z"
    },
    "tags": []
   },
   "outputs": [],
   "source": [
    "cistopic_obj = dill.load(open(os.path.join(work_dir, 'scATAC/cistopic_obj.pkl'), 'rb'))\n",
    "region_bin_topics_otsu = pickle.load(open(os.path.join(work_dir, 'scATAC/candidate_enhancers/region_bin_topics_otsu.pkl'), 'rb'))"
   ]
  },
  {
   "attachments": {},
   "cell_type": "markdown",
   "id": "3a50a7be-db8c-42ab-ad39-1e1ebb90b722",
   "metadata": {},
   "source": [
    "# CisTopic object"
   ]
  },
  {
   "cell_type": "code",
   "execution_count": null,
   "id": "bfe9188a-b80a-4cce-b7ed-e1a879fab263",
   "metadata": {
    "execution": {
     "iopub.execute_input": "2023-01-06T00:38:00.087823Z",
     "iopub.status.busy": "2023-01-06T00:38:00.087352Z",
     "iopub.status.idle": "2023-01-06T00:38:00.093003Z",
     "shell.execute_reply": "2023-01-06T00:38:00.092206Z",
     "shell.execute_reply.started": "2023-01-06T00:38:00.087793Z"
    },
    "tags": []
   },
   "outputs": [],
   "source": [
    "cistopic_obj.binary_matrix.shape"
   ]
  },
  {
   "cell_type": "code",
   "execution_count": null,
   "id": "9003d062-5b2f-4473-bf60-3e03fd22646b",
   "metadata": {
    "execution": {
     "iopub.execute_input": "2023-01-06T00:38:00.187139Z",
     "iopub.status.busy": "2023-01-06T00:38:00.186701Z",
     "iopub.status.idle": "2023-01-06T00:38:00.222488Z",
     "shell.execute_reply": "2023-01-06T00:38:00.221633Z",
     "shell.execute_reply.started": "2023-01-06T00:38:00.187108Z"
    },
    "tags": []
   },
   "outputs": [],
   "source": [
    "cistopic_obj.cell_data"
   ]
  },
  {
   "cell_type": "code",
   "execution_count": null,
   "id": "3a751b80-79c9-4fab-889a-6155be5cd9a6",
   "metadata": {
    "execution": {
     "iopub.execute_input": "2023-01-06T00:38:26.566309Z",
     "iopub.status.busy": "2023-01-06T00:38:26.565912Z",
     "iopub.status.idle": "2023-01-06T00:38:26.570129Z",
     "shell.execute_reply": "2023-01-06T00:38:26.569407Z",
     "shell.execute_reply.started": "2023-01-06T00:38:26.566279Z"
    },
    "tags": []
   },
   "outputs": [],
   "source": [
    "region_data = cistopic_obj.region_data"
   ]
  },
  {
   "cell_type": "code",
   "execution_count": null,
   "id": "4ad3c608-c035-4dff-b30f-5e9ead49cf5c",
   "metadata": {
    "execution": {
     "iopub.execute_input": "2023-01-06T00:39:30.119876Z",
     "iopub.status.busy": "2023-01-06T00:39:30.119408Z",
     "iopub.status.idle": "2023-01-06T00:39:30.138188Z",
     "shell.execute_reply": "2023-01-06T00:39:30.137338Z",
     "shell.execute_reply.started": "2023-01-06T00:39:30.119846Z"
    },
    "tags": []
   },
   "outputs": [],
   "source": [
    "region_data"
   ]
  },
  {
   "attachments": {},
   "cell_type": "markdown",
   "id": "7655ae9c-3eb1-44bd-b63d-24b7a15698eb",
   "metadata": {},
   "source": [
    "# Binarized regions"
   ]
  },
  {
   "cell_type": "code",
   "execution_count": null,
   "id": "d157c04e-89aa-4e5c-b116-28c7c69cf556",
   "metadata": {
    "execution": {
     "iopub.execute_input": "2023-01-06T00:39:52.086424Z",
     "iopub.status.busy": "2023-01-06T00:39:52.086046Z",
     "iopub.status.idle": "2023-01-06T00:39:52.179590Z",
     "shell.execute_reply": "2023-01-06T00:39:52.178685Z",
     "shell.execute_reply.started": "2023-01-06T00:39:52.086394Z"
    },
    "tags": []
   },
   "outputs": [],
   "source": [
    "region_data_filt = region_data[region_data.index.str.contains(\"chr\")]"
   ]
  },
  {
   "cell_type": "code",
   "execution_count": null,
   "id": "83c80157-1122-4c76-8f59-fcc1072d3d27",
   "metadata": {
    "execution": {
     "iopub.execute_input": "2023-01-06T00:39:59.085615Z",
     "iopub.status.busy": "2023-01-06T00:39:59.085243Z",
     "iopub.status.idle": "2023-01-06T00:39:59.089383Z",
     "shell.execute_reply": "2023-01-06T00:39:59.088669Z",
     "shell.execute_reply.started": "2023-01-06T00:39:59.085586Z"
    },
    "tags": []
   },
   "outputs": [],
   "source": [
    "all_regions = region_data_filt.index"
   ]
  },
  {
   "cell_type": "code",
   "execution_count": null,
   "id": "416bea54-8514-45ef-80a3-17e92ed81da8",
   "metadata": {
    "execution": {
     "iopub.execute_input": "2023-01-06T00:40:03.087395Z",
     "iopub.status.busy": "2023-01-06T00:40:03.087021Z",
     "iopub.status.idle": "2023-01-06T00:40:03.743890Z",
     "shell.execute_reply": "2023-01-06T00:40:03.742998Z",
     "shell.execute_reply.started": "2023-01-06T00:40:03.087366Z"
    },
    "tags": []
   },
   "outputs": [],
   "source": [
    "topic_regions_pd = pd.Index([])\n",
    "topic_regions_lst = []\n",
    "topic_region_mp = {}\n",
    "for topic, regions in region_bin_topics_otsu.items():\n",
    "    topic_regions_lst += list(regions.index)\n",
    "    topic_regions_pd = pd.Index.union(topic_regions_pd, regions.index)\n",
    "    for region in regions.index:\n",
    "        topic_region_mp.setdefault(region, []).append(topic)\n",
    "topic_regions_np = np.array(topic_regions_lst)\n",
    "topic_regions_set = set(topic_regions_lst)"
   ]
  },
  {
   "cell_type": "code",
   "execution_count": null,
   "id": "268adb0a-a488-43b1-af95-c38719550d32",
   "metadata": {
    "execution": {
     "iopub.execute_input": "2023-01-06T00:40:05.087837Z",
     "iopub.status.busy": "2023-01-06T00:40:05.087459Z",
     "iopub.status.idle": "2023-01-06T00:40:05.093016Z",
     "shell.execute_reply": "2023-01-06T00:40:05.092211Z",
     "shell.execute_reply.started": "2023-01-06T00:40:05.087807Z"
    },
    "tags": []
   },
   "outputs": [],
   "source": [
    "len(all_regions)"
   ]
  },
  {
   "cell_type": "code",
   "execution_count": null,
   "id": "1cd8c697-3740-440a-87b2-f9b61fbf6681",
   "metadata": {
    "execution": {
     "iopub.execute_input": "2023-01-06T00:40:05.238046Z",
     "iopub.status.busy": "2023-01-06T00:40:05.237582Z",
     "iopub.status.idle": "2023-01-06T00:40:05.243643Z",
     "shell.execute_reply": "2023-01-06T00:40:05.242853Z",
     "shell.execute_reply.started": "2023-01-06T00:40:05.238016Z"
    },
    "tags": []
   },
   "outputs": [],
   "source": [
    "len(topic_regions_pd), len(topic_regions_lst), len(topic_regions_np), len(topic_regions_set)"
   ]
  },
  {
   "cell_type": "code",
   "execution_count": null,
   "id": "72c90505-59ec-4698-8bb8-ebf8f10c8d4f",
   "metadata": {
    "execution": {
     "iopub.execute_input": "2023-01-06T00:40:06.189635Z",
     "iopub.status.busy": "2023-01-06T00:40:06.189256Z",
     "iopub.status.idle": "2023-01-06T00:40:06.252880Z",
     "shell.execute_reply": "2023-01-06T00:40:06.252052Z",
     "shell.execute_reply.started": "2023-01-06T00:40:06.189605Z"
    },
    "tags": []
   },
   "outputs": [],
   "source": [
    "topic_regions_pd.isin(all_regions).sum()"
   ]
  },
  {
   "cell_type": "code",
   "execution_count": null,
   "id": "488f027d-62a1-4d21-81a0-48f1503cc3e2",
   "metadata": {
    "execution": {
     "iopub.execute_input": "2023-01-06T00:40:07.378401Z",
     "iopub.status.busy": "2023-01-06T00:40:07.378025Z",
     "iopub.status.idle": "2023-01-06T00:40:07.429883Z",
     "shell.execute_reply": "2023-01-06T00:40:07.428981Z",
     "shell.execute_reply.started": "2023-01-06T00:40:07.378371Z"
    },
    "tags": []
   },
   "outputs": [],
   "source": [
    "non_topic_regions = all_regions[~all_regions.isin(topic_regions_pd)]"
   ]
  },
  {
   "cell_type": "code",
   "execution_count": null,
   "id": "506e0b38-1ff8-42ac-92e7-57a3bd241e82",
   "metadata": {
    "execution": {
     "iopub.execute_input": "2023-01-06T00:40:08.086573Z",
     "iopub.status.busy": "2023-01-06T00:40:08.086201Z",
     "iopub.status.idle": "2023-01-06T00:40:08.266485Z",
     "shell.execute_reply": "2023-01-06T00:40:08.265585Z",
     "shell.execute_reply.started": "2023-01-06T00:40:08.086543Z"
    },
    "tags": []
   },
   "outputs": [],
   "source": [
    "for topic, regions in region_bin_topics_otsu.items():\n",
    "    print(non_topic_regions.isin(regions.index).sum())"
   ]
  },
  {
   "cell_type": "code",
   "execution_count": null,
   "id": "f9e63baa-8a50-4b28-ac41-07c77f2ae457",
   "metadata": {
    "execution": {
     "iopub.execute_input": "2023-01-06T00:40:10.085537Z",
     "iopub.status.busy": "2023-01-06T00:40:10.085164Z",
     "iopub.status.idle": "2023-01-06T00:40:10.399373Z",
     "shell.execute_reply": "2023-01-06T00:40:10.398474Z",
     "shell.execute_reply.started": "2023-01-06T00:40:10.085507Z"
    },
    "tags": []
   },
   "outputs": [],
   "source": [
    "arr = np.zeros((len(all_regions), len(region_bin_topics_otsu)))\n",
    "for i, row in enumerate(all_regions):\n",
    "    if row in topic_region_mp:\n",
    "        topic_nums = []\n",
    "        for topic in topic_region_mp[row]:\n",
    "            #print(i, row, topic, topic.split(\"Topic\")[-1])\n",
    "            topic_nums.append(int(topic.split(\"Topic\")[-1])-1)\n",
    "        arr[i, topic_nums] = 1"
   ]
  },
  {
   "cell_type": "code",
   "execution_count": null,
   "id": "fd10dde2-9cc9-4e43-9109-68d7f6c362ca",
   "metadata": {
    "execution": {
     "iopub.execute_input": "2023-01-06T00:40:10.609182Z",
     "iopub.status.busy": "2023-01-06T00:40:10.608778Z",
     "iopub.status.idle": "2023-01-06T00:40:10.620729Z",
     "shell.execute_reply": "2023-01-06T00:40:10.619892Z",
     "shell.execute_reply.started": "2023-01-06T00:40:10.609152Z"
    },
    "tags": []
   },
   "outputs": [],
   "source": [
    "arr.sum(axis=0)"
   ]
  },
  {
   "cell_type": "code",
   "execution_count": null,
   "id": "76f64519-293b-4c8a-a625-078fe423f254",
   "metadata": {
    "execution": {
     "iopub.execute_input": "2023-01-06T00:40:12.086197Z",
     "iopub.status.busy": "2023-01-06T00:40:12.085793Z",
     "iopub.status.idle": "2023-01-06T00:40:12.098199Z",
     "shell.execute_reply": "2023-01-06T00:40:12.097432Z",
     "shell.execute_reply.started": "2023-01-06T00:40:12.086167Z"
    },
    "tags": []
   },
   "outputs": [],
   "source": [
    "np.array([len(regions) for topic, regions in region_bin_topics_otsu.items()]) == arr.sum(axis=0)"
   ]
  },
  {
   "cell_type": "code",
   "execution_count": null,
   "id": "21e051d2-2d89-4334-8618-88cb1823da68",
   "metadata": {
    "execution": {
     "iopub.execute_input": "2023-01-06T00:40:13.085695Z",
     "iopub.status.busy": "2023-01-06T00:40:13.085235Z",
     "iopub.status.idle": "2023-01-06T00:40:13.123235Z",
     "shell.execute_reply": "2023-01-06T00:40:13.122488Z",
     "shell.execute_reply.started": "2023-01-06T00:40:13.085664Z"
    },
    "tags": []
   },
   "outputs": [],
   "source": [
    "np.all(all_regions[arr.sum(axis=1) == 0].isin(non_topic_regions))"
   ]
  },
  {
   "cell_type": "code",
   "execution_count": null,
   "id": "af43623d-5ad1-4e68-846f-70672f49db79",
   "metadata": {
    "execution": {
     "iopub.execute_input": "2023-01-06T00:40:14.087357Z",
     "iopub.status.busy": "2023-01-06T00:40:14.086979Z",
     "iopub.status.idle": "2023-01-06T00:40:14.127472Z",
     "shell.execute_reply": "2023-01-06T00:40:14.126663Z",
     "shell.execute_reply.started": "2023-01-06T00:40:14.087327Z"
    },
    "tags": []
   },
   "outputs": [],
   "source": [
    "np.all(~all_regions[arr.sum(axis=1) == 0].isin(topic_regions_pd))"
   ]
  },
  {
   "cell_type": "code",
   "execution_count": null,
   "id": "29d3addf-be9f-4125-a992-f801f37c8341",
   "metadata": {
    "execution": {
     "iopub.execute_input": "2023-01-06T00:40:15.087757Z",
     "iopub.status.busy": "2023-01-06T00:40:15.087370Z",
     "iopub.status.idle": "2023-01-06T00:40:15.094879Z",
     "shell.execute_reply": "2023-01-06T00:40:15.094055Z",
     "shell.execute_reply.started": "2023-01-06T00:40:15.087727Z"
    },
    "tags": []
   },
   "outputs": [],
   "source": [
    "arr.sum() == len(topic_regions_lst)"
   ]
  },
  {
   "cell_type": "code",
   "execution_count": null,
   "id": "a626370a-40aa-4456-bbe6-1d6315e78a4a",
   "metadata": {
    "execution": {
     "iopub.execute_input": "2023-01-06T00:40:38.324368Z",
     "iopub.status.busy": "2023-01-06T00:40:38.323992Z",
     "iopub.status.idle": "2023-01-06T00:40:38.387572Z",
     "shell.execute_reply": "2023-01-06T00:40:38.386677Z",
     "shell.execute_reply.started": "2023-01-06T00:40:38.324338Z"
    },
    "tags": []
   },
   "outputs": [],
   "source": [
    "pr_obj = pyranges.PyRanges(region_data_filt)"
   ]
  },
  {
   "cell_type": "code",
   "execution_count": null,
   "id": "7a0c7b95-1485-42b4-9a03-05f3d16eabce",
   "metadata": {
    "execution": {
     "iopub.execute_input": "2023-01-06T00:40:39.085449Z",
     "iopub.status.busy": "2023-01-06T00:40:39.085070Z",
     "iopub.status.idle": "2023-01-06T00:41:39.353925Z",
     "shell.execute_reply": "2023-01-06T00:41:39.352924Z",
     "shell.execute_reply.started": "2023-01-06T00:40:39.085419Z"
    },
    "tags": []
   },
   "outputs": [],
   "source": [
    "seqs = pyranges.get_fasta(\n",
    "    pr_obj, \n",
    "    \"/cellar/users/aklie/projects/beta_cell_networks/notebooks/tutorial/infer_grns/dictys/tutorial/data/genome/genome.fa\"\n",
    ")"
   ]
  },
  {
   "cell_type": "code",
   "execution_count": null,
   "id": "b7786b38-c200-4665-852e-713a4261ec09",
   "metadata": {
    "execution": {
     "iopub.execute_input": "2023-01-06T00:41:39.355864Z",
     "iopub.status.busy": "2023-01-06T00:41:39.355468Z",
     "iopub.status.idle": "2023-01-06T00:41:39.361495Z",
     "shell.execute_reply": "2023-01-06T00:41:39.360716Z",
     "shell.execute_reply.started": "2023-01-06T00:41:39.355832Z"
    },
    "tags": []
   },
   "outputs": [],
   "source": [
    "seqs.values[:5], len(seqs)"
   ]
  },
  {
   "cell_type": "code",
   "execution_count": null,
   "id": "5785ce90-9f85-4622-8169-674ee1f31fa2",
   "metadata": {
    "execution": {
     "iopub.execute_input": "2023-01-06T00:41:39.362768Z",
     "iopub.status.busy": "2023-01-06T00:41:39.362415Z",
     "iopub.status.idle": "2023-01-06T00:41:39.373000Z",
     "shell.execute_reply": "2023-01-06T00:41:39.372181Z",
     "shell.execute_reply.started": "2023-01-06T00:41:39.362740Z"
    }
   },
   "outputs": [],
   "source": [
    "len(arr) == len(seqs)"
   ]
  },
  {
   "cell_type": "code",
   "execution_count": null,
   "id": "e0a91c26-513a-4719-8a82-c096f687e65c",
   "metadata": {
    "execution": {
     "iopub.execute_input": "2023-01-06T00:44:15.086256Z",
     "iopub.status.busy": "2023-01-06T00:44:15.085816Z",
     "iopub.status.idle": "2023-01-06T00:44:15.118579Z",
     "shell.execute_reply": "2023-01-06T00:44:15.117681Z",
     "shell.execute_reply.started": "2023-01-06T00:44:15.086225Z"
    },
    "tags": []
   },
   "outputs": [],
   "source": [
    "np.save(\"_data/topic_labels\", arr)"
   ]
  },
  {
   "cell_type": "code",
   "execution_count": null,
   "id": "4a840f93-3c93-40e7-b8da-885386fec4fb",
   "metadata": {
    "execution": {
     "iopub.execute_input": "2023-01-06T00:44:31.133770Z",
     "iopub.status.busy": "2023-01-06T00:44:31.133319Z",
     "iopub.status.idle": "2023-01-06T00:44:31.359580Z",
     "shell.execute_reply": "2023-01-06T00:44:31.358681Z",
     "shell.execute_reply.started": "2023-01-06T00:44:31.133738Z"
    }
   },
   "outputs": [],
   "source": [
    "np.save(\"_data/seqs\", seqs)"
   ]
  },
  {
   "cell_type": "code",
   "execution_count": null,
   "id": "3b43117d-6052-446f-af75-4cd036134d90",
   "metadata": {
    "execution": {
     "iopub.execute_input": "2023-01-06T00:48:15.318025Z",
     "iopub.status.busy": "2023-01-06T00:48:15.317551Z",
     "iopub.status.idle": "2023-01-06T00:48:15.388459Z",
     "shell.execute_reply": "2023-01-06T00:48:15.387538Z",
     "shell.execute_reply.started": "2023-01-06T00:48:15.317995Z"
    },
    "tags": []
   },
   "outputs": [],
   "source": [
    "np.save(\"_data/regions\", all_regions.to_numpy())"
   ]
  },
  {
   "cell_type": "code",
   "execution_count": null,
   "id": "80f45537-7030-4469-92b7-80eef8fb7207",
   "metadata": {},
   "outputs": [],
   "source": []
  }
 ],
 "metadata": {
  "kernelspec": {
   "display_name": "Python 3.8 scenicplus",
   "language": "python",
   "name": "scenicplus"
  },
  "language_info": {
   "codemirror_mode": {
    "name": "ipython",
    "version": 3
   },
   "file_extension": ".py",
   "mimetype": "text/x-python",
   "name": "python",
   "nbconvert_exporter": "python",
   "pygments_lexer": "ipython3",
   "version": "3.8.15"
  }
 },
 "nbformat": 4,
 "nbformat_minor": 5
}
