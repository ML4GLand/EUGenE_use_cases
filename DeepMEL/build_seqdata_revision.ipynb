{
 "cells": [
  {
   "attachments": {},
   "cell_type": "markdown",
   "metadata": {},
   "source": [
    "# Build a SeqData object from a pycisTopic run"
   ]
  },
  {
   "cell_type": "code",
   "execution_count": 7,
   "metadata": {},
   "outputs": [],
   "source": [
    "import os\n",
    "import numpy as np\n",
    "import seqdata as sd\n",
    "import xarray as xr\n",
    "from eugene import preprocess as pp"
   ]
  },
  {
   "cell_type": "code",
   "execution_count": 8,
   "metadata": {},
   "outputs": [],
   "source": [
    "dataset_name = \"multiome_cells_all_peaks\"\n",
    "data_dir = f\"/cellar/users/aklie/data/ml4gland/collabs/er_stress_regulation/{dataset_name}\"\n",
    "output_dir = f\"/cellar/users/aklie/data/ml4gland/collabs/er_stress_regulation/{dataset_name}\""
   ]
  },
  {
   "cell_type": "code",
   "execution_count": 9,
   "metadata": {},
   "outputs": [],
   "source": [
    "targets = np.load(os.path.join(output_dir, dataset_name + \"_labels.npy\"))\n",
    "names = np.load(os.path.join(output_dir, dataset_name + \"_regions.npy\"), allow_pickle=True)\n",
    "seqs = np.load(os.path.join(output_dir, dataset_name + \"_seqs.npy\"), allow_pickle=True)"
   ]
  },
  {
   "cell_type": "code",
   "execution_count": 10,
   "metadata": {},
   "outputs": [],
   "source": [
    "# Make the sdata object\n",
    "sdata = xr.Dataset(\n",
    "    {\n",
    "        \"seqs\": (\"_sequence\", seqs),\n",
    "        \"chr:start:end\": (\"_sequence\", names),\n",
    "        \"topics\": ([\"_sequence\", \"_topic\"], targets)\n",
    "    }\n",
    ")"
   ]
  },
  {
   "cell_type": "code",
   "execution_count": 11,
   "metadata": {},
   "outputs": [],
   "source": [
    "# Get boolean mask for any seqs with N and filter\n",
    "mask = np.array([False if \"N\" in seq else True for seq in sdata[\"seqs\"].values])\n",
    "sdata = sdata.sel(_sequence=mask)"
   ]
  },
  {
   "cell_type": "code",
   "execution_count": 12,
   "metadata": {},
   "outputs": [],
   "source": [
    "# Upper case all seqs\n",
    "sdata[\"seqs\"] = sdata[\"seqs\"].str.upper()"
   ]
  },
  {
   "cell_type": "code",
   "execution_count": 13,
   "metadata": {},
   "outputs": [],
   "source": [
    "# OHE seqs\n",
    "pp.ohe_seqs_sdata(sdata, seq_key=\"seqs\", ohe_key=\"ohe_seqs\")"
   ]
  },
  {
   "cell_type": "code",
   "execution_count": 14,
   "metadata": {},
   "outputs": [],
   "source": [
    "# Add chrom\n",
    "sdata[\"chrom\"] = xr.DataArray([i.split(\":\")[0] for i in sdata[\"chr:start:end\"].values], dims=\"_sequence\")"
   ]
  },
  {
   "cell_type": "code",
   "execution_count": 15,
   "metadata": {},
   "outputs": [],
   "source": [
    "# Split into train and test\n",
    "pp.train_test_chrom_split(\n",
    "    sdata,\n",
    "    train_key=\"train_test\",\n",
    "    test_chroms=[\"chr2\"]\n",
    ")"
   ]
  },
  {
   "cell_type": "code",
   "execution_count": 16,
   "metadata": {},
   "outputs": [],
   "source": [
    "train_sdata = sdata.sel(_sequence=sdata[\"train_test\"])\n",
    "test_sdata = sdata.sel(_sequence=~sdata[\"train_test\"])"
   ]
  },
  {
   "cell_type": "code",
   "execution_count": 17,
   "metadata": {},
   "outputs": [],
   "source": [
    "pp.train_test_chrom_split(train_sdata, train_key=\"train_val\", test_chroms=[\"chr3\"])"
   ]
  },
  {
   "cell_type": "code",
   "execution_count": 18,
   "metadata": {},
   "outputs": [],
   "source": [
    "sd.to_zarr(train_sdata, os.path.join(output_dir, dataset_name + \".train.zarr\"))\n"
   ]
  },
  {
   "cell_type": "code",
   "execution_count": 19,
   "metadata": {},
   "outputs": [],
   "source": [
    "sd.to_zarr(test_sdata, os.path.join(output_dir, dataset_name + \".test.zarr\"))"
   ]
  },
  {
   "attachments": {},
   "cell_type": "markdown",
   "metadata": {},
   "source": [
    "## Script"
   ]
  },
  {
   "cell_type": "code",
   "execution_count": 57,
   "metadata": {},
   "outputs": [
    {
     "name": "stdout",
     "output_type": "stream",
     "text": [
      "python /cellar/users/aklie/projects/ML4GLand/collabs/er_stress_regulation/scripts/build_seqdata.py --dataset_name beta_cells_all_peaks --data_dir /cellar/users/aklie/data/ml4gland/collabs/er_stress_regulation/beta_cells_all_peaks --output_dir /cellar/users/aklie/data/ml4gland/collabs/er_stress_regulation/beta_cells_all_peaks\n",
      "Loading targets, names, and seqs from npy files\n",
      "Preprocessing\n",
      "SeqData object modified:\n",
      "\tseqs: ['NNNNNNNNNNNNNNNNNNNNNNNNNNNNNNNNNNNNNNNNNNNNNNNNNNNNNNNNNNNNNNNNNNNNNNNNNNNNNNNNNNNNNNNNNNNNNNNNNNNNNNNNNNNNNNNNNNNNNNNNNNNNNNNNNNNNNNNNNNNNNNNNNNNNtaaccctaaccctaaccctaaccctaaccctaaccctaaccctaaccctaaccctaaccctaaccctaaccctaaccctaaccctaaccctaaccctaaccctaacccaaccctaaccctaaccctaaccctaaccctaaccctaacccctaaccctaaccctaaccctaaccctaacctaaccctaaccctaaccctaaccctaaccctaaccctaaccctaaccctaacccctaaccctaaccctaaaccctaaaccctaaccctaaccctaaccctaaccctaaccccaaccccaaccccaaccccaaccccaaccccaaccctaacccctaaccctaaccctaaccct'\n",
      " 'taaatccgaacctgaacccgaaccctaaccataacccaaacccgaacccaaaccctaacccctaacccctaaccctaaccctaccctaacccaaccctaacccaaccctaactctagccctaaccctaaccctaaccctaaccctaaccctaaccctaaccctaaccctaacaccctaaccctaaccctaaccctaaccctaaccctaaccctaacaaccctaaccctaaccctaacaaccctaaccctaaccctaaccctaaccctaaccctaaccctaaaccctaaaccctaaccctaaccctaaccctaaccctaacccctaacccctaaccctaaccctaaccctaaccctaaccctaaccctcgcggtaccctcagccggcccgcccgcccgggtctgacctgaggagaactgtgctccgccttcagagtaccaccgaaatctgtgcagaggacaacgcagctccgccctcgcggtactctccgggtctgtgctg'\n",
      " 'aggcgcagagaggcgcgccgcgccggcgcaggcgcagagaggcgcgcctcgccggcgcaggcgcagagaggcgcgccgggccggcgcaggcgcagagaggcgcgccgcgccggcgcaggcgcagagaggcgcgccgcgccggcgcaggcgcagagacacatgctagcgcgtccaggggaggaggcgtggcacaggcgcagagacacatgctagcgcgcccaggggaggaggcgtggcgcaggcgcagagaggcgcgccgtgctgccgcaggcgcagagacacatgctagcgcgtccagggggtggaggcgtggcgcaggcgcagagacgcacgcctacgggcggggttggggggggcgtgtgttacaggagcaaagtcgcacggcgccgggctgggggcgggggggggggggggggcgccgtgcacgcgcagaaactcacgtcacggcggcgcggcgcagagacgggtggaacctcagtaatccgaaacgccgggatcga'\n",
      " ...\n",
      " 'taagcaggagagacggGGCAAGCTTGGCTCTTCATTTATGCCGCCTACTCATTGCTGGTAGATTCTTTATCTAGCCTGCATCCTCTCATTTTCCTGGATCCCTATACGGCATTTGACGCTGTTTACCACAAGAGCTGTCGAACGAACGTGAAACACTCAGTGATACTCCAACCGGAACTACTACTCCCAGAATGCAGTACGGCTCCTGGGAAGTGCGGGGGGCTGGGAACGCAGCAGGCCTAGCCGTGTCGCCTGCTGCCATTGGAGGAGCGCTCCCACTCCCAAGAGGCCACGCGTAGACGGGGCGCTTCATGCGGAAGTCAGCGGCGTCCGGTCCCAGCCTCCTCTGGGAGCGGGCAGTTGGCGACCCTGCACTGACCCGCGTCCCTCCGTCCCGAGCCCGCGCGCCCTCAGAGGGTGCCCGGACAGGTAAATGGAGTGGGGTGCGCCTGCGGGAGGCGGGGAGAGAACTGCGGAGGGAGGGCGGAGGTGTCGATGGA'\n",
      " 'taatgcacacatgatacccaaaatataacacccacattcctcatgTGCttagggtgagggtgagggttggggttggggttgcggttggggttggggttggggttggggttggggttagggtttgggtttagggttggggtaggggtaggggtggggttggggttggggttggggttggggttaggggttggggttggggttggggttggggttggggttagggttaagggttagggttaggggttaggggttagggttggggttggggttagggttagggtagggttagggttagggttaggggttaggggttagggtagggttagggtgagggtgagggtgagggtgagggtgagggtgagggttagggttagggttagggttagggttaggggttaggggttagggttagggttaggggttaggggttagggttagggttaggggttagggttagggttaggggttaggggttaggggttaggggttagggtagggta'\n",
      " 'tagggttagggttagggttagggttagggttagggttagggttagggttagggttagggttagggttagggttagggttagggttagggttagggttagggttagggttagggttagggttagggttagggttagggttagggttagggttagggttagggttagggttagggttagggttagggttagggttagggttagggttagggttagggttagggttagggttagggttagggtgagggttagggttagggttagggttagggttagggttagggttagggttagggttagggttagggttagggttagggttagggttagggttagggttagggttagggttagggttagggttaggggttaggggttaggggttaggggttaggggttaggggttagggttagggttagggttagggtgtggtgtgtgggtgtgtgtgggtgtggtgtgtgtgggtgtggtgtgtgggtgtgggtgtgggtgtgggtgtgtg'] -> 134655 seqs added\n",
      "Removed 23 sequences with N\n",
      "SeqData object modified:\n",
      "    seqs_annot:\n",
      "        + end, start, chr\n",
      "SeqData object modified:\n",
      "\tohe_seqs: None -> 134632 ohe_seqs added\n",
      "SeqData object modified:\n",
      "    seqs_annot:\n",
      "        + train_test\n",
      "Split into train and test\n",
      "Train: 124605\n",
      "Test: 10027\n",
      "SeqData object modified:\n",
      "    seqs_annot:\n",
      "        + train_val\n"
     ]
    },
    {
     "name": "stderr",
     "output_type": "stream",
     "text": [
      "One-hot encoding sequences: 100%|██████████| 134632/134632 [00:21<00:00, 6399.67it/s]\n"
     ]
    }
   ],
   "source": [
    "%%bash\n",
    "source activate eugene_dev\n",
    "script=/cellar/users/aklie/projects/ML4GLand/collabs/er_stress_regulation/scripts/build_seqdata.py\n",
    "dataset_name=beta_cells_all_peaks\n",
    "data_dir=/cellar/users/aklie/data/ml4gland/collabs/er_stress_regulation/$dataset_name\n",
    "output_dir=/cellar/users/aklie/data/ml4gland/collabs/er_stress_regulation/$dataset_name\n",
    "cmd=\"python $script \\\n",
    "    --dataset_name $dataset_name \\\n",
    "    --data_dir $data_dir \\\n",
    "    --output_dir $output_dir\"\n",
    "echo $cmd\n",
    "$cmd"
   ]
  },
  {
   "attachments": {},
   "cell_type": "markdown",
   "metadata": {},
   "source": [
    "---"
   ]
  },
  {
   "attachments": {},
   "cell_type": "markdown",
   "metadata": {},
   "source": [
    "# Scratch"
   ]
  }
 ],
 "metadata": {
  "kernelspec": {
   "display_name": "Python 3.9 ml4gland",
   "language": "python",
   "name": "ml4gland"
  },
  "language_info": {
   "codemirror_mode": {
    "name": "ipython",
    "version": 3
   },
   "file_extension": ".py",
   "mimetype": "text/x-python",
   "name": "python",
   "nbconvert_exporter": "python",
   "pygments_lexer": "ipython3",
   "version": "3.9.16"
  },
  "orig_nbformat": 4
 },
 "nbformat": 4,
 "nbformat_minor": 2
}
