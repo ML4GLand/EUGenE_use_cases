{
 "cells": [
  {
   "cell_type": "code",
   "execution_count": 1,
   "id": "5018e0bd-a2f2-45bd-9fcd-b3fda0b40a0e",
   "metadata": {
    "execution": {
     "iopub.execute_input": "2023-01-14T19:10:27.921512Z",
     "iopub.status.busy": "2023-01-14T19:10:27.921242Z",
     "iopub.status.idle": "2023-01-14T19:10:30.736561Z",
     "shell.execute_reply": "2023-01-14T19:10:30.735769Z",
     "shell.execute_reply.started": "2023-01-14T19:10:27.921484Z"
    },
    "tags": []
   },
   "outputs": [],
   "source": [
    "import os\n",
    "work_dir = 'pbmc_tutorial'\n",
    "import pycisTopic\n",
    "#set some figure parameters for nice display inside jupyternotebooks.\n",
    "%matplotlib inline\n",
    "\n",
    "#make a directory for to store the processed scRNA-seq data.\n",
    "if not os.path.exists(os.path.join(work_dir, 'scATAC')):\n",
    "    os.makedirs(os.path.join(work_dir, 'scATAC'))\n",
    "tmp_dir = '/cellar/users/aklie/tmp/'"
   ]
  },
  {
   "cell_type": "code",
   "execution_count": 2,
   "id": "b6f0d376-6c07-4843-8bef-1a9d25f616c1",
   "metadata": {
    "execution": {
     "iopub.execute_input": "2023-01-14T19:10:30.737956Z",
     "iopub.status.busy": "2023-01-14T19:10:30.737552Z",
     "iopub.status.idle": "2023-01-14T19:10:30.741787Z",
     "shell.execute_reply": "2023-01-14T19:10:30.741041Z",
     "shell.execute_reply.started": "2023-01-14T19:10:30.737926Z"
    },
    "tags": []
   },
   "outputs": [],
   "source": [
    "fragments_dict = {'10x_pbmc': os.path.join(work_dir, 'data/pbmc_granulocyte_sorted_3k_atac_fragments.tsv.gz')}"
   ]
  },
  {
   "cell_type": "code",
   "execution_count": 3,
   "id": "5a0c0dda-1ae3-4445-a52a-f928e9007077",
   "metadata": {
    "execution": {
     "iopub.execute_input": "2023-01-14T19:10:30.744117Z",
     "iopub.status.busy": "2023-01-14T19:10:30.743774Z",
     "iopub.status.idle": "2023-01-14T19:10:49.777288Z",
     "shell.execute_reply": "2023-01-14T19:10:49.776192Z",
     "shell.execute_reply.started": "2023-01-14T19:10:30.744081Z"
    },
    "tags": []
   },
   "outputs": [],
   "source": [
    "import scanpy as sc\n",
    "adata = sc.read_h5ad(os.path.join(work_dir, 'scRNA/adata.h5ad'))\n",
    "cell_data = adata.obs\n",
    "cell_data['sample_id'] = '10x_pbmc'\n",
    "cell_data['celltype'] = cell_data['celltype'].astype(str) # set data type of the celltype column to str, otherwise the export_pseudobulk function will complain.\n",
    "del(adata)"
   ]
  },
  {
   "cell_type": "code",
   "execution_count": 4,
   "id": "fba5e379-0397-416c-8dd1-e3a886da2e4a",
   "metadata": {
    "execution": {
     "iopub.execute_input": "2023-01-14T19:10:49.781746Z",
     "iopub.status.busy": "2023-01-14T19:10:49.781465Z",
     "iopub.status.idle": "2023-01-14T19:10:51.127439Z",
     "shell.execute_reply": "2023-01-14T19:10:51.126558Z",
     "shell.execute_reply.started": "2023-01-14T19:10:49.781718Z"
    },
    "tags": []
   },
   "outputs": [],
   "source": [
    "# Get chromosome sizes (for hg38 here)\n",
    "import pyranges as pr\n",
    "import requests\n",
    "import pandas as pd\n",
    "target_url='http://hgdownload.cse.ucsc.edu/goldenPath/hg38/bigZips/hg38.chrom.sizes'\n",
    "chromsizes=pd.read_csv(target_url, sep='\\t', header=None)\n",
    "chromsizes.columns=['Chromosome', 'End']\n",
    "chromsizes['Start']=[0]*chromsizes.shape[0]\n",
    "chromsizes=chromsizes.loc[:,['Chromosome', 'Start', 'End']]\n",
    "# Exceptionally in this case, to agree with CellRangerARC annotations\n",
    "chromsizes['Chromosome'] = [chromsizes['Chromosome'][x].replace('v', '.') for x in range(len(chromsizes['Chromosome']))]\n",
    "chromsizes['Chromosome'] = [chromsizes['Chromosome'][x].split('_')[1] if len(chromsizes['Chromosome'][x].split('_')) > 1 else chromsizes['Chromosome'][x] for x in range(len(chromsizes['Chromosome']))]\n",
    "chromsizes=pr.PyRanges(chromsizes)"
   ]
  },
  {
   "cell_type": "code",
   "execution_count": 8,
   "id": "40864f3c-9a19-4666-b0cb-1b969adea67d",
   "metadata": {
    "execution": {
     "iopub.execute_input": "2023-01-14T20:18:37.777585Z",
     "iopub.status.busy": "2023-01-14T20:18:37.777213Z",
     "iopub.status.idle": "2023-01-14T20:19:15.611240Z",
     "shell.execute_reply": "2023-01-14T20:19:15.610126Z",
     "shell.execute_reply.started": "2023-01-14T20:18:37.777556Z"
    },
    "tags": []
   },
   "outputs": [],
   "source": [
    "fragments = pd.read_csv(fragments_dict[\"10x_pbmc\"], sep=\"\\t\", header=None, comment=\"#\")"
   ]
  },
  {
   "cell_type": "code",
   "execution_count": 11,
   "id": "bfb5b3a4-14e5-462a-b831-0e0f54e9f59f",
   "metadata": {
    "execution": {
     "iopub.execute_input": "2023-01-14T20:19:49.069764Z",
     "iopub.status.busy": "2023-01-14T20:19:49.069432Z",
     "iopub.status.idle": "2023-01-14T20:19:49.093083Z",
     "shell.execute_reply": "2023-01-14T20:19:49.092156Z",
     "shell.execute_reply.started": "2023-01-14T20:19:49.069736Z"
    }
   },
   "outputs": [
    {
     "data": {
      "text/html": [
       "<div>\n",
       "<style scoped>\n",
       "    .dataframe tbody tr th:only-of-type {\n",
       "        vertical-align: middle;\n",
       "    }\n",
       "\n",
       "    .dataframe tbody tr th {\n",
       "        vertical-align: top;\n",
       "    }\n",
       "\n",
       "    .dataframe thead th {\n",
       "        text-align: right;\n",
       "    }\n",
       "</style>\n",
       "<table border=\"1\" class=\"dataframe\">\n",
       "  <thead>\n",
       "    <tr style=\"text-align: right;\">\n",
       "      <th></th>\n",
       "      <th>n_genes</th>\n",
       "      <th>doublet_score</th>\n",
       "      <th>predicted_doublet</th>\n",
       "      <th>n_genes_by_counts</th>\n",
       "      <th>total_counts</th>\n",
       "      <th>total_counts_mt</th>\n",
       "      <th>pct_counts_mt</th>\n",
       "      <th>ingest_celltype_label</th>\n",
       "      <th>leiden_res_0.8</th>\n",
       "      <th>celltype</th>\n",
       "      <th>sample_id</th>\n",
       "    </tr>\n",
       "  </thead>\n",
       "  <tbody>\n",
       "    <tr>\n",
       "      <th>AAACAGCCAAATATCC-1</th>\n",
       "      <td>2272</td>\n",
       "      <td>0.006036</td>\n",
       "      <td>False</td>\n",
       "      <td>2271</td>\n",
       "      <td>4746.0</td>\n",
       "      <td>369.0</td>\n",
       "      <td>7.774969</td>\n",
       "      <td>NK cells</td>\n",
       "      <td>9</td>\n",
       "      <td>NK_cells</td>\n",
       "      <td>10x_pbmc</td>\n",
       "    </tr>\n",
       "    <tr>\n",
       "      <th>AAACAGCCAGGAACTG-1</th>\n",
       "      <td>3254</td>\n",
       "      <td>0.021077</td>\n",
       "      <td>False</td>\n",
       "      <td>3253</td>\n",
       "      <td>7760.0</td>\n",
       "      <td>693.0</td>\n",
       "      <td>8.930412</td>\n",
       "      <td>CD14+ Monocytes</td>\n",
       "      <td>5</td>\n",
       "      <td>CD14+_Monocytes</td>\n",
       "      <td>10x_pbmc</td>\n",
       "    </tr>\n",
       "    <tr>\n",
       "      <th>AAACAGCCAGGCTTCG-1</th>\n",
       "      <td>1798</td>\n",
       "      <td>0.042017</td>\n",
       "      <td>False</td>\n",
       "      <td>1793</td>\n",
       "      <td>3661.0</td>\n",
       "      <td>409.0</td>\n",
       "      <td>11.171811</td>\n",
       "      <td>CD14+ Monocytes</td>\n",
       "      <td>3</td>\n",
       "      <td>CD14+_Monocytes</td>\n",
       "      <td>10x_pbmc</td>\n",
       "    </tr>\n",
       "    <tr>\n",
       "      <th>AAACCAACACCTGCTC-1</th>\n",
       "      <td>1145</td>\n",
       "      <td>0.024421</td>\n",
       "      <td>False</td>\n",
       "      <td>1142</td>\n",
       "      <td>2159.0</td>\n",
       "      <td>271.0</td>\n",
       "      <td>12.552108</td>\n",
       "      <td>B cells</td>\n",
       "      <td>7</td>\n",
       "      <td>B_cells_1</td>\n",
       "      <td>10x_pbmc</td>\n",
       "    </tr>\n",
       "    <tr>\n",
       "      <th>AAACCAACAGATTCAT-1</th>\n",
       "      <td>1495</td>\n",
       "      <td>0.013229</td>\n",
       "      <td>False</td>\n",
       "      <td>1494</td>\n",
       "      <td>2909.0</td>\n",
       "      <td>293.0</td>\n",
       "      <td>10.072189</td>\n",
       "      <td>NK cells</td>\n",
       "      <td>6</td>\n",
       "      <td>CD8_T_cells</td>\n",
       "      <td>10x_pbmc</td>\n",
       "    </tr>\n",
       "    <tr>\n",
       "      <th>...</th>\n",
       "      <td>...</td>\n",
       "      <td>...</td>\n",
       "      <td>...</td>\n",
       "      <td>...</td>\n",
       "      <td>...</td>\n",
       "      <td>...</td>\n",
       "      <td>...</td>\n",
       "      <td>...</td>\n",
       "      <td>...</td>\n",
       "      <td>...</td>\n",
       "      <td>...</td>\n",
       "    </tr>\n",
       "    <tr>\n",
       "      <th>TTTGTGGCATCCGTAA-1</th>\n",
       "      <td>1346</td>\n",
       "      <td>0.007582</td>\n",
       "      <td>False</td>\n",
       "      <td>1343</td>\n",
       "      <td>2560.0</td>\n",
       "      <td>432.0</td>\n",
       "      <td>16.875000</td>\n",
       "      <td>B cells</td>\n",
       "      <td>7</td>\n",
       "      <td>B_cells_1</td>\n",
       "      <td>10x_pbmc</td>\n",
       "    </tr>\n",
       "    <tr>\n",
       "      <th>TTTGTGGCATTAGCCA-1</th>\n",
       "      <td>972</td>\n",
       "      <td>0.028264</td>\n",
       "      <td>False</td>\n",
       "      <td>969</td>\n",
       "      <td>1746.0</td>\n",
       "      <td>191.0</td>\n",
       "      <td>10.939290</td>\n",
       "      <td>CD4 T cells</td>\n",
       "      <td>0</td>\n",
       "      <td>CD4_T_cells</td>\n",
       "      <td>10x_pbmc</td>\n",
       "    </tr>\n",
       "    <tr>\n",
       "      <th>TTTGTGGCATTGCGAC-1</th>\n",
       "      <td>2330</td>\n",
       "      <td>0.004622</td>\n",
       "      <td>False</td>\n",
       "      <td>2330</td>\n",
       "      <td>4772.0</td>\n",
       "      <td>316.0</td>\n",
       "      <td>6.621961</td>\n",
       "      <td>NK cells</td>\n",
       "      <td>9</td>\n",
       "      <td>NK_cells</td>\n",
       "      <td>10x_pbmc</td>\n",
       "    </tr>\n",
       "    <tr>\n",
       "      <th>TTTGTGTTCCGCCTAT-1</th>\n",
       "      <td>1057</td>\n",
       "      <td>0.068845</td>\n",
       "      <td>False</td>\n",
       "      <td>1056</td>\n",
       "      <td>1913.0</td>\n",
       "      <td>252.0</td>\n",
       "      <td>13.173027</td>\n",
       "      <td>CD4 T cells</td>\n",
       "      <td>0</td>\n",
       "      <td>CD4_T_cells</td>\n",
       "      <td>10x_pbmc</td>\n",
       "    </tr>\n",
       "    <tr>\n",
       "      <th>TTTGTGTTCCGTGACA-1</th>\n",
       "      <td>1513</td>\n",
       "      <td>0.002517</td>\n",
       "      <td>False</td>\n",
       "      <td>1513</td>\n",
       "      <td>2759.0</td>\n",
       "      <td>211.0</td>\n",
       "      <td>7.647698</td>\n",
       "      <td>NK cells</td>\n",
       "      <td>9</td>\n",
       "      <td>NK_cells</td>\n",
       "      <td>10x_pbmc</td>\n",
       "    </tr>\n",
       "  </tbody>\n",
       "</table>\n",
       "<p>2609 rows × 11 columns</p>\n",
       "</div>"
      ],
      "text/plain": [
       "                    n_genes  doublet_score  predicted_doublet  \\\n",
       "AAACAGCCAAATATCC-1     2272       0.006036              False   \n",
       "AAACAGCCAGGAACTG-1     3254       0.021077              False   \n",
       "AAACAGCCAGGCTTCG-1     1798       0.042017              False   \n",
       "AAACCAACACCTGCTC-1     1145       0.024421              False   \n",
       "AAACCAACAGATTCAT-1     1495       0.013229              False   \n",
       "...                     ...            ...                ...   \n",
       "TTTGTGGCATCCGTAA-1     1346       0.007582              False   \n",
       "TTTGTGGCATTAGCCA-1      972       0.028264              False   \n",
       "TTTGTGGCATTGCGAC-1     2330       0.004622              False   \n",
       "TTTGTGTTCCGCCTAT-1     1057       0.068845              False   \n",
       "TTTGTGTTCCGTGACA-1     1513       0.002517              False   \n",
       "\n",
       "                    n_genes_by_counts  total_counts  total_counts_mt  \\\n",
       "AAACAGCCAAATATCC-1               2271        4746.0            369.0   \n",
       "AAACAGCCAGGAACTG-1               3253        7760.0            693.0   \n",
       "AAACAGCCAGGCTTCG-1               1793        3661.0            409.0   \n",
       "AAACCAACACCTGCTC-1               1142        2159.0            271.0   \n",
       "AAACCAACAGATTCAT-1               1494        2909.0            293.0   \n",
       "...                               ...           ...              ...   \n",
       "TTTGTGGCATCCGTAA-1               1343        2560.0            432.0   \n",
       "TTTGTGGCATTAGCCA-1                969        1746.0            191.0   \n",
       "TTTGTGGCATTGCGAC-1               2330        4772.0            316.0   \n",
       "TTTGTGTTCCGCCTAT-1               1056        1913.0            252.0   \n",
       "TTTGTGTTCCGTGACA-1               1513        2759.0            211.0   \n",
       "\n",
       "                    pct_counts_mt ingest_celltype_label leiden_res_0.8  \\\n",
       "AAACAGCCAAATATCC-1       7.774969              NK cells              9   \n",
       "AAACAGCCAGGAACTG-1       8.930412       CD14+ Monocytes              5   \n",
       "AAACAGCCAGGCTTCG-1      11.171811       CD14+ Monocytes              3   \n",
       "AAACCAACACCTGCTC-1      12.552108               B cells              7   \n",
       "AAACCAACAGATTCAT-1      10.072189              NK cells              6   \n",
       "...                           ...                   ...            ...   \n",
       "TTTGTGGCATCCGTAA-1      16.875000               B cells              7   \n",
       "TTTGTGGCATTAGCCA-1      10.939290           CD4 T cells              0   \n",
       "TTTGTGGCATTGCGAC-1       6.621961              NK cells              9   \n",
       "TTTGTGTTCCGCCTAT-1      13.173027           CD4 T cells              0   \n",
       "TTTGTGTTCCGTGACA-1       7.647698              NK cells              9   \n",
       "\n",
       "                           celltype sample_id  \n",
       "AAACAGCCAAATATCC-1         NK_cells  10x_pbmc  \n",
       "AAACAGCCAGGAACTG-1  CD14+_Monocytes  10x_pbmc  \n",
       "AAACAGCCAGGCTTCG-1  CD14+_Monocytes  10x_pbmc  \n",
       "AAACCAACACCTGCTC-1        B_cells_1  10x_pbmc  \n",
       "AAACCAACAGATTCAT-1      CD8_T_cells  10x_pbmc  \n",
       "...                             ...       ...  \n",
       "TTTGTGGCATCCGTAA-1        B_cells_1  10x_pbmc  \n",
       "TTTGTGGCATTAGCCA-1      CD4_T_cells  10x_pbmc  \n",
       "TTTGTGGCATTGCGAC-1         NK_cells  10x_pbmc  \n",
       "TTTGTGTTCCGCCTAT-1      CD4_T_cells  10x_pbmc  \n",
       "TTTGTGTTCCGTGACA-1         NK_cells  10x_pbmc  \n",
       "\n",
       "[2609 rows x 11 columns]"
      ]
     },
     "execution_count": 11,
     "metadata": {},
     "output_type": "execute_result"
    }
   ],
   "source": [
    "cell_data"
   ]
  },
  {
   "cell_type": "code",
   "execution_count": 9,
   "id": "4e994821-d67b-42f6-ae15-77332261d0eb",
   "metadata": {
    "execution": {
     "iopub.execute_input": "2023-01-14T20:19:15.613215Z",
     "iopub.status.busy": "2023-01-14T20:19:15.612928Z",
     "iopub.status.idle": "2023-01-14T20:19:15.632166Z",
     "shell.execute_reply": "2023-01-14T20:19:15.631170Z",
     "shell.execute_reply.started": "2023-01-14T20:19:15.613186Z"
    }
   },
   "outputs": [
    {
     "data": {
      "text/html": [
       "<div>\n",
       "<style scoped>\n",
       "    .dataframe tbody tr th:only-of-type {\n",
       "        vertical-align: middle;\n",
       "    }\n",
       "\n",
       "    .dataframe tbody tr th {\n",
       "        vertical-align: top;\n",
       "    }\n",
       "\n",
       "    .dataframe thead th {\n",
       "        text-align: right;\n",
       "    }\n",
       "</style>\n",
       "<table border=\"1\" class=\"dataframe\">\n",
       "  <thead>\n",
       "    <tr style=\"text-align: right;\">\n",
       "      <th></th>\n",
       "      <th>0</th>\n",
       "      <th>1</th>\n",
       "      <th>2</th>\n",
       "      <th>3</th>\n",
       "      <th>4</th>\n",
       "    </tr>\n",
       "  </thead>\n",
       "  <tbody>\n",
       "    <tr>\n",
       "      <th>0</th>\n",
       "      <td>chr1</td>\n",
       "      <td>10073</td>\n",
       "      <td>10209</td>\n",
       "      <td>TTTAGCAAGGTAGCTT-1</td>\n",
       "      <td>1</td>\n",
       "    </tr>\n",
       "    <tr>\n",
       "      <th>1</th>\n",
       "      <td>chr1</td>\n",
       "      <td>10079</td>\n",
       "      <td>10285</td>\n",
       "      <td>GCCTTTGGTTGGTTCT-1</td>\n",
       "      <td>1</td>\n",
       "    </tr>\n",
       "    <tr>\n",
       "      <th>2</th>\n",
       "      <td>chr1</td>\n",
       "      <td>10079</td>\n",
       "      <td>10333</td>\n",
       "      <td>AGCCGGTTCCGGAACC-1</td>\n",
       "      <td>1</td>\n",
       "    </tr>\n",
       "    <tr>\n",
       "      <th>3</th>\n",
       "      <td>chr1</td>\n",
       "      <td>10089</td>\n",
       "      <td>10560</td>\n",
       "      <td>TGATTAGTCTACCTGC-1</td>\n",
       "      <td>1</td>\n",
       "    </tr>\n",
       "    <tr>\n",
       "      <th>4</th>\n",
       "      <td>chr1</td>\n",
       "      <td>10090</td>\n",
       "      <td>10346</td>\n",
       "      <td>ATTGACTCAATCCTGA-1</td>\n",
       "      <td>1</td>\n",
       "    </tr>\n",
       "    <tr>\n",
       "      <th>...</th>\n",
       "      <td>...</td>\n",
       "      <td>...</td>\n",
       "      <td>...</td>\n",
       "      <td>...</td>\n",
       "      <td>...</td>\n",
       "    </tr>\n",
       "    <tr>\n",
       "      <th>44109949</th>\n",
       "      <td>KI270713.1</td>\n",
       "      <td>37465</td>\n",
       "      <td>37495</td>\n",
       "      <td>TCCAGGTCAAGGTCCT-1</td>\n",
       "      <td>2</td>\n",
       "    </tr>\n",
       "    <tr>\n",
       "      <th>44109950</th>\n",
       "      <td>KI270713.1</td>\n",
       "      <td>37469</td>\n",
       "      <td>37691</td>\n",
       "      <td>TTGGCTTGTGTGTGGT-1</td>\n",
       "      <td>1</td>\n",
       "    </tr>\n",
       "    <tr>\n",
       "      <th>44109951</th>\n",
       "      <td>KI270713.1</td>\n",
       "      <td>37655</td>\n",
       "      <td>37699</td>\n",
       "      <td>GCTTCGCGTGATTACG-1</td>\n",
       "      <td>1</td>\n",
       "    </tr>\n",
       "    <tr>\n",
       "      <th>44109952</th>\n",
       "      <td>KI270713.1</td>\n",
       "      <td>37656</td>\n",
       "      <td>37857</td>\n",
       "      <td>GGGTGAAGTCACAAAT-1</td>\n",
       "      <td>3</td>\n",
       "    </tr>\n",
       "    <tr>\n",
       "      <th>44109953</th>\n",
       "      <td>KI270713.1</td>\n",
       "      <td>37661</td>\n",
       "      <td>37701</td>\n",
       "      <td>GAGATAAGTTCACCCA-1</td>\n",
       "      <td>2</td>\n",
       "    </tr>\n",
       "  </tbody>\n",
       "</table>\n",
       "<p>44109954 rows × 5 columns</p>\n",
       "</div>"
      ],
      "text/plain": [
       "                   0      1      2                   3  4\n",
       "0               chr1  10073  10209  TTTAGCAAGGTAGCTT-1  1\n",
       "1               chr1  10079  10285  GCCTTTGGTTGGTTCT-1  1\n",
       "2               chr1  10079  10333  AGCCGGTTCCGGAACC-1  1\n",
       "3               chr1  10089  10560  TGATTAGTCTACCTGC-1  1\n",
       "4               chr1  10090  10346  ATTGACTCAATCCTGA-1  1\n",
       "...              ...    ...    ...                 ... ..\n",
       "44109949  KI270713.1  37465  37495  TCCAGGTCAAGGTCCT-1  2\n",
       "44109950  KI270713.1  37469  37691  TTGGCTTGTGTGTGGT-1  1\n",
       "44109951  KI270713.1  37655  37699  GCTTCGCGTGATTACG-1  1\n",
       "44109952  KI270713.1  37656  37857  GGGTGAAGTCACAAAT-1  3\n",
       "44109953  KI270713.1  37661  37701  GAGATAAGTTCACCCA-1  2\n",
       "\n",
       "[44109954 rows x 5 columns]"
      ]
     },
     "execution_count": 9,
     "metadata": {},
     "output_type": "execute_result"
    }
   ],
   "source": [
    "fragments"
   ]
  },
  {
   "cell_type": "code",
   "execution_count": 10,
   "id": "4e0ca305-3d96-4a68-9737-cd6da0af8578",
   "metadata": {
    "execution": {
     "iopub.execute_input": "2023-01-14T20:19:31.035671Z",
     "iopub.status.busy": "2023-01-14T20:19:31.035365Z",
     "iopub.status.idle": "2023-01-14T20:19:35.598394Z",
     "shell.execute_reply": "2023-01-14T20:19:35.597091Z",
     "shell.execute_reply.started": "2023-01-14T20:19:31.035631Z"
    }
   },
   "outputs": [
    {
     "data": {
      "text/plain": [
       "2609"
      ]
     },
     "execution_count": 10,
     "metadata": {},
     "output_type": "execute_result"
    }
   ],
   "source": [
    "cell_data.index.isin(fragments[3]).sum()"
   ]
  },
  {
   "cell_type": "code",
   "execution_count": 16,
   "id": "b24bfbc1-79dd-4a15-8fae-e957e715db42",
   "metadata": {
    "execution": {
     "iopub.execute_input": "2023-01-02T20:34:58.543424Z",
     "iopub.status.busy": "2023-01-02T20:34:58.543063Z",
     "iopub.status.idle": "2023-01-02T20:41:18.770461Z",
     "shell.execute_reply": "2023-01-02T20:41:18.769479Z",
     "shell.execute_reply.started": "2023-01-02T20:34:58.543393Z"
    },
    "tags": []
   },
   "outputs": [
    {
     "name": "stdout",
     "output_type": "stream",
     "text": [
      "2023-01-02 12:34:58,546 cisTopic     INFO     Reading fragments from pbmc_tutorial/data/pbmc_granulocyte_sorted_3k_atac_fragments.tsv.gz\n"
     ]
    },
    {
     "name": "stderr",
     "output_type": "stream",
     "text": [
      "2023-01-02 12:36:00,603\tINFO worker.py:1519 -- Started a local Ray instance. View the dashboard at \u001b[1m\u001b[32mhttp://127.0.0.1:8266 \u001b[39m\u001b[22m\n"
     ]
    },
    {
     "name": "stdout",
     "output_type": "stream",
     "text": [
      "\u001b[2m\u001b[36m(export_pseudobulk_ray pid=93288)\u001b[0m 2023-01-02 12:36:14,848 cisTopic     INFO     Creating pseudobulk for B_cells_1\n",
      "\u001b[2m\u001b[36m(export_pseudobulk_ray pid=93283)\u001b[0m 2023-01-02 12:36:15,263 cisTopic     INFO     Creating pseudobulk for B_cells_2\n",
      "\u001b[2m\u001b[36m(export_pseudobulk_ray pid=93280)\u001b[0m 2023-01-02 12:36:15,589 cisTopic     INFO     Creating pseudobulk for CD14_Monocytes\n",
      "\u001b[2m\u001b[36m(export_pseudobulk_ray pid=93286)\u001b[0m 2023-01-02 12:36:16,124 cisTopic     INFO     Creating pseudobulk for CD4_T_cells\n",
      "\u001b[2m\u001b[36m(export_pseudobulk_ray pid=93285)\u001b[0m 2023-01-02 12:36:16,719 cisTopic     INFO     Creating pseudobulk for CD8_T_cells\n",
      "\u001b[2m\u001b[36m(export_pseudobulk_ray pid=93281)\u001b[0m 2023-01-02 12:36:17,636 cisTopic     INFO     Creating pseudobulk for Dendritic_cells\n",
      "\u001b[2m\u001b[36m(export_pseudobulk_ray pid=93282)\u001b[0m 2023-01-02 12:36:18,265 cisTopic     INFO     Creating pseudobulk for FCGR3A_Monocytes\n",
      "\u001b[2m\u001b[36m(export_pseudobulk_ray pid=93287)\u001b[0m 2023-01-02 12:36:19,080 cisTopic     INFO     Creating pseudobulk for NK_cells\n",
      "\u001b[2m\u001b[36m(export_pseudobulk_ray pid=93283)\u001b[0m 2023-01-02 12:36:26,577 cisTopic     INFO     B_cells_2 done!\n",
      "\u001b[2m\u001b[36m(export_pseudobulk_ray pid=93281)\u001b[0m 2023-01-02 12:36:36,944 cisTopic     INFO     Dendritic_cells done!\n",
      "\u001b[2m\u001b[36m(export_pseudobulk_ray pid=93287)\u001b[0m 2023-01-02 12:36:37,948 cisTopic     INFO     NK_cells done!\n",
      "\u001b[2m\u001b[36m(export_pseudobulk_ray pid=93282)\u001b[0m 2023-01-02 12:36:45,951 cisTopic     INFO     FCGR3A_Monocytes done!\n",
      "\u001b[2m\u001b[36m(export_pseudobulk_ray pid=93285)\u001b[0m 2023-01-02 12:37:04,992 cisTopic     INFO     CD8_T_cells done!\n",
      "\u001b[2m\u001b[36m(export_pseudobulk_ray pid=93288)\u001b[0m 2023-01-02 12:37:12,083 cisTopic     INFO     B_cells_1 done!\n",
      "\u001b[2m\u001b[36m(export_pseudobulk_ray pid=93280)\u001b[0m 2023-01-02 12:40:08,692 cisTopic     INFO     CD14_Monocytes done!\n"
     ]
    }
   ],
   "source": [
    "from pycisTopic.pseudobulk_peak_calling import export_pseudobulk\n",
    "bw_paths, bed_paths = export_pseudobulk(input_data = cell_data,\n",
    "                 variable = 'celltype',                                                                     # variable by which to generate pseubulk profiles, in this case we want pseudobulks per celltype\n",
    "                 sample_id_col = 'sample_id',\n",
    "                 chromsizes = chromsizes,\n",
    "                 bed_path = os.path.join(work_dir, 'scATAC/consensus_peak_calling/pseudobulk_bed_files/'),  # specify where pseudobulk_bed_files should be stored\n",
    "                 bigwig_path = os.path.join(work_dir, 'scATAC/consensus_peak_calling/pseudobulk_bw_files/'),# specify where pseudobulk_bw_files should be stored\n",
    "                 path_to_fragments = fragments_dict,                                                        # location of fragment fiels\n",
    "                 n_cpu = 8,                                                                                 # specify the number of cores to use, we use ray for multi processing\n",
    "                 normalize_bigwig = True,\n",
    "                 remove_duplicates = True,\n",
    "                 _temp_dir = os.path.join(tmp_dir, 'ray_spill'),\n",
    "                 split_pattern = '-')"
   ]
  },
  {
   "cell_type": "code",
   "execution_count": 17,
   "id": "2ddf60ae-2798-4d0a-a1b6-336bb1fa1b36",
   "metadata": {
    "execution": {
     "iopub.execute_input": "2023-01-02T20:43:09.593916Z",
     "iopub.status.busy": "2023-01-02T20:43:09.593417Z",
     "iopub.status.idle": "2023-01-02T20:43:09.605517Z",
     "shell.execute_reply": "2023-01-02T20:43:09.604540Z",
     "shell.execute_reply.started": "2023-01-02T20:43:09.593874Z"
    }
   },
   "outputs": [],
   "source": [
    "import pickle\n",
    "pickle.dump(bed_paths,\n",
    "            open(os.path.join(work_dir, 'scATAC/consensus_peak_calling/pseudobulk_bed_files/bed_paths.pkl'), 'wb'))\n",
    "pickle.dump(bw_paths,\n",
    "           open(os.path.join(work_dir, 'scATAC/consensus_peak_calling/pseudobulk_bed_files/bw_paths.pkl'), 'wb'))"
   ]
  },
  {
   "cell_type": "code",
   "execution_count": 23,
   "id": "c54ab86c-e5ec-43e6-a800-4a16f905fbe6",
   "metadata": {
    "execution": {
     "iopub.execute_input": "2023-01-02T20:50:14.591600Z",
     "iopub.status.busy": "2023-01-02T20:50:14.591235Z",
     "iopub.status.idle": "2023-01-02T20:52:33.208816Z",
     "shell.execute_reply": "2023-01-02T20:52:33.207838Z",
     "shell.execute_reply.started": "2023-01-02T20:50:14.591569Z"
    },
    "tags": []
   },
   "outputs": [
    {
     "name": "stderr",
     "output_type": "stream",
     "text": [
      "2023-01-02 12:50:30,038\tINFO worker.py:1519 -- Started a local Ray instance. View the dashboard at \u001b[1m\u001b[32mhttp://127.0.0.1:8266 \u001b[39m\u001b[22m\n"
     ]
    },
    {
     "name": "stdout",
     "output_type": "stream",
     "text": [
      "\u001b[2m\u001b[36m(macs_call_peak_ray pid=98765)\u001b[0m 2023-01-02 12:50:42,375 cisTopic     INFO     Calling peaks for FCGR3A_Monocytes with /cellar/users/aklie/opt/miniconda3/envs/scenicplus/bin/macs2 callpeak --treatment pbmc_tutorial/scATAC/consensus_peak_calling/pseudobulk_bed_files/FCGR3A_Monocytes.bed.gz --name FCGR3A_Monocytes  --outdir pbmc_tutorial/scATAC/consensus_peak_calling/MACS/ --format BEDPE --gsize hs --qvalue 0.05 --nomodel --shift 73 --extsize 146 --keep-dup all --call-summits --nolambda\n",
      "\u001b[2m\u001b[36m(macs_call_peak_ray pid=98766)\u001b[0m 2023-01-02 12:50:42,383 cisTopic     INFO     Calling peaks for Dendritic_cells with /cellar/users/aklie/opt/miniconda3/envs/scenicplus/bin/macs2 callpeak --treatment pbmc_tutorial/scATAC/consensus_peak_calling/pseudobulk_bed_files/Dendritic_cells.bed.gz --name Dendritic_cells  --outdir pbmc_tutorial/scATAC/consensus_peak_calling/MACS/ --format BEDPE --gsize hs --qvalue 0.05 --nomodel --shift 73 --extsize 146 --keep-dup all --call-summits --nolambda\n",
      "\u001b[2m\u001b[36m(macs_call_peak_ray pid=98767)\u001b[0m 2023-01-02 12:50:42,356 cisTopic     INFO     Calling peaks for CD4_T_cells with /cellar/users/aklie/opt/miniconda3/envs/scenicplus/bin/macs2 callpeak --treatment pbmc_tutorial/scATAC/consensus_peak_calling/pseudobulk_bed_files/CD4_T_cells.bed.gz --name CD4_T_cells  --outdir pbmc_tutorial/scATAC/consensus_peak_calling/MACS/ --format BEDPE --gsize hs --qvalue 0.05 --nomodel --shift 73 --extsize 146 --keep-dup all --call-summits --nolambda\n",
      "\u001b[2m\u001b[36m(macs_call_peak_ray pid=98763)\u001b[0m 2023-01-02 12:50:42,437 cisTopic     INFO     Calling peaks for CD14_Monocytes with /cellar/users/aklie/opt/miniconda3/envs/scenicplus/bin/macs2 callpeak --treatment pbmc_tutorial/scATAC/consensus_peak_calling/pseudobulk_bed_files/CD14_Monocytes.bed.gz --name CD14_Monocytes  --outdir pbmc_tutorial/scATAC/consensus_peak_calling/MACS/ --format BEDPE --gsize hs --qvalue 0.05 --nomodel --shift 73 --extsize 146 --keep-dup all --call-summits --nolambda\n",
      "\u001b[2m\u001b[36m(macs_call_peak_ray pid=98764)\u001b[0m 2023-01-02 12:50:42,396 cisTopic     INFO     Calling peaks for B_cells_2 with /cellar/users/aklie/opt/miniconda3/envs/scenicplus/bin/macs2 callpeak --treatment pbmc_tutorial/scATAC/consensus_peak_calling/pseudobulk_bed_files/B_cells_2.bed.gz --name B_cells_2  --outdir pbmc_tutorial/scATAC/consensus_peak_calling/MACS/ --format BEDPE --gsize hs --qvalue 0.05 --nomodel --shift 73 --extsize 146 --keep-dup all --call-summits --nolambda\n",
      "\u001b[2m\u001b[36m(macs_call_peak_ray pid=98762)\u001b[0m 2023-01-02 12:50:42,487 cisTopic     INFO     Calling peaks for NK_cells with /cellar/users/aklie/opt/miniconda3/envs/scenicplus/bin/macs2 callpeak --treatment pbmc_tutorial/scATAC/consensus_peak_calling/pseudobulk_bed_files/NK_cells.bed.gz --name NK_cells  --outdir pbmc_tutorial/scATAC/consensus_peak_calling/MACS/ --format BEDPE --gsize hs --qvalue 0.05 --nomodel --shift 73 --extsize 146 --keep-dup all --call-summits --nolambda\n",
      "\u001b[2m\u001b[36m(macs_call_peak_ray pid=98760)\u001b[0m 2023-01-02 12:50:42,500 cisTopic     INFO     Calling peaks for B_cells_1 with /cellar/users/aklie/opt/miniconda3/envs/scenicplus/bin/macs2 callpeak --treatment pbmc_tutorial/scATAC/consensus_peak_calling/pseudobulk_bed_files/B_cells_1.bed.gz --name B_cells_1  --outdir pbmc_tutorial/scATAC/consensus_peak_calling/MACS/ --format BEDPE --gsize hs --qvalue 0.05 --nomodel --shift 73 --extsize 146 --keep-dup all --call-summits --nolambda\n",
      "\u001b[2m\u001b[36m(macs_call_peak_ray pid=98761)\u001b[0m 2023-01-02 12:50:42,496 cisTopic     INFO     Calling peaks for CD8_T_cells with /cellar/users/aklie/opt/miniconda3/envs/scenicplus/bin/macs2 callpeak --treatment pbmc_tutorial/scATAC/consensus_peak_calling/pseudobulk_bed_files/CD8_T_cells.bed.gz --name CD8_T_cells  --outdir pbmc_tutorial/scATAC/consensus_peak_calling/MACS/ --format BEDPE --gsize hs --qvalue 0.05 --nomodel --shift 73 --extsize 146 --keep-dup all --call-summits --nolambda\n",
      "\u001b[2m\u001b[36m(macs_call_peak_ray pid=98764)\u001b[0m 2023-01-02 12:51:00,377 cisTopic     INFO     B_cells_2 done!\n",
      "\u001b[2m\u001b[36m(macs_call_peak_ray pid=98762)\u001b[0m 2023-01-02 12:51:08,161 cisTopic     INFO     NK_cells done!\n",
      "\u001b[2m\u001b[36m(macs_call_peak_ray pid=98766)\u001b[0m 2023-01-02 12:51:11,923 cisTopic     INFO     Dendritic_cells done!\n",
      "\u001b[2m\u001b[36m(macs_call_peak_ray pid=98761)\u001b[0m 2023-01-02 12:51:17,536 cisTopic     INFO     CD8_T_cells done!\n",
      "\u001b[2m\u001b[36m(macs_call_peak_ray pid=98765)\u001b[0m 2023-01-02 12:51:25,498 cisTopic     INFO     FCGR3A_Monocytes done!\n",
      "\u001b[2m\u001b[36m(macs_call_peak_ray pid=98760)\u001b[0m 2023-01-02 12:51:25,552 cisTopic     INFO     B_cells_1 done!\n",
      "\u001b[2m\u001b[36m(macs_call_peak_ray pid=98763)\u001b[0m 2023-01-02 12:52:25,655 cisTopic     INFO     CD14_Monocytes done!\n",
      "\u001b[2m\u001b[36m(macs_call_peak_ray pid=98767)\u001b[0m 2023-01-02 12:52:30,486 cisTopic     INFO     CD4_T_cells done!\n"
     ]
    }
   ],
   "source": [
    "import pickle\n",
    "bed_paths = pickle.load(open(os.path.join(work_dir, 'scATAC/consensus_peak_calling/pseudobulk_bed_files/bed_paths.pkl'), 'rb'))\n",
    "bw_paths =  pickle.load(open(os.path.join(work_dir, 'scATAC/consensus_peak_calling/pseudobulk_bed_files/bw_paths.pkl'), 'rb'))\n",
    "from pycisTopic.pseudobulk_peak_calling import peak_calling\n",
    "macs_path='/cellar/users/aklie/opt/miniconda3/envs/scenicplus/bin/macs2'\n",
    "# Run peak calling\n",
    "narrow_peaks_dict = peak_calling(macs_path,\n",
    "                                 bed_paths,\n",
    "                                 os.path.join(work_dir, 'scATAC/consensus_peak_calling/MACS/'),\n",
    "                                 genome_size='hs',\n",
    "                                 n_cpu=8,\n",
    "                                 input_format='BEDPE',\n",
    "                                 shift=73,\n",
    "                                 ext_size=146,\n",
    "                                 keep_dup = 'all',\n",
    "                                 q_value = 0.05,\n",
    "                                 _temp_dir = os.path.join(tmp_dir, 'ray_spill'))"
   ]
  },
  {
   "cell_type": "code",
   "execution_count": 24,
   "id": "d238a4b9-3279-4dda-b1ff-87251b61b1d7",
   "metadata": {
    "execution": {
     "iopub.execute_input": "2023-01-02T20:53:11.593317Z",
     "iopub.status.busy": "2023-01-02T20:53:11.592927Z",
     "iopub.status.idle": "2023-01-02T20:53:11.891255Z",
     "shell.execute_reply": "2023-01-02T20:53:11.890407Z",
     "shell.execute_reply.started": "2023-01-02T20:53:11.593283Z"
    }
   },
   "outputs": [],
   "source": [
    "pickle.dump(narrow_peaks_dict,\n",
    "            open(os.path.join(work_dir, 'scATAC/consensus_peak_calling/MACS/narrow_peaks_dict.pkl'), 'wb'))"
   ]
  },
  {
   "cell_type": "code",
   "execution_count": 27,
   "id": "cd068d71-7abd-4ddb-a22c-66a11106eafa",
   "metadata": {
    "collapsed": true,
    "execution": {
     "iopub.execute_input": "2023-01-02T20:56:07.706769Z",
     "iopub.status.busy": "2023-01-02T20:56:07.706285Z",
     "iopub.status.idle": "2023-01-02T20:58:33.947550Z",
     "shell.execute_reply": "2023-01-02T20:58:33.946489Z",
     "shell.execute_reply.started": "2023-01-02T20:56:07.706739Z"
    },
    "jupyter": {
     "outputs_hidden": true
    },
    "tags": []
   },
   "outputs": [
    {
     "name": "stdout",
     "output_type": "stream",
     "text": [
      "2023-01-02 12:56:07,726 cisTopic     INFO     Extending and merging peaks per class\n",
      "2023-01-02 12:57:14,934 cisTopic     INFO     Normalizing peak scores\n",
      "2023-01-02 12:57:15,215 cisTopic     INFO     Merging peaks\n",
      "Warning! Start and End columns now have different dtypes: int64 and int32\n",
      "2023-01-02 12:58:33,936 cisTopic     INFO     Done!\n"
     ]
    }
   ],
   "source": [
    "from pycisTopic.iterative_peak_calling import *\n",
    "# Other param\n",
    "peak_half_width = 250\n",
    "path_to_blacklist= os.path.join(work_dir, 'hg38-blacklist.v2.bed')\n",
    "# Get consensus peaks\n",
    "consensus_peaks=get_consensus_peaks(narrow_peaks_dict, peak_half_width, chromsizes=chromsizes, path_to_blacklist=path_to_blacklist)"
   ]
  },
  {
   "cell_type": "code",
   "execution_count": 30,
   "id": "d2a795c5-9a7f-45a3-9727-8bf9abd1645f",
   "metadata": {
    "execution": {
     "iopub.execute_input": "2023-01-02T20:59:10.616699Z",
     "iopub.status.busy": "2023-01-02T20:59:10.616308Z",
     "iopub.status.idle": "2023-01-02T20:59:11.790061Z",
     "shell.execute_reply": "2023-01-02T20:59:11.789108Z",
     "shell.execute_reply.started": "2023-01-02T20:59:10.616668Z"
    },
    "tags": []
   },
   "outputs": [],
   "source": [
    "consensus_peaks.to_bed(\n",
    "    path = os.path.join(work_dir, 'scATAC/consensus_peak_calling/consensus_regions.bed'),\n",
    "    keep=True,\n",
    "    compression='infer',\n",
    "    chain=False)"
   ]
  },
  {
   "cell_type": "code",
   "execution_count": 34,
   "id": "883edc7f-db7e-42d9-a4bc-de415b82fba7",
   "metadata": {
    "execution": {
     "iopub.execute_input": "2023-01-02T21:04:02.493280Z",
     "iopub.status.busy": "2023-01-02T21:04:02.492907Z",
     "iopub.status.idle": "2023-01-02T21:07:17.031241Z",
     "shell.execute_reply": "2023-01-02T21:07:17.030299Z",
     "shell.execute_reply.started": "2023-01-02T21:04:02.493249Z"
    },
    "tags": []
   },
   "outputs": [
    {
     "name": "stderr",
     "output_type": "stream",
     "text": [
      "/tmp/ipykernel_91218/2503884162.py:7: FutureWarning: The default value of regex will change from True to False in a future version.\n",
      "  annot['Chromosome/scaffold name'] = annot['Chromosome/scaffold name'].str.replace(r'(\\b\\S)', r'chr\\1')\n"
     ]
    },
    {
     "name": "stdout",
     "output_type": "stream",
     "text": [
      "2023-01-02 13:04:05,843 cisTopic     INFO     Reading 10x_pbmc\n",
      "2023-01-02 13:04:50,078 cisTopic     INFO     Computing barcode rank plot for 10x_pbmc\n",
      "2023-01-02 13:04:50,079 cisTopic     INFO     Counting fragments\n",
      "2023-01-02 13:04:53,835 cisTopic     INFO     Marking barcodes with more than 100\n",
      "2023-01-02 13:04:53,886 cisTopic     INFO     Returning plot data\n",
      "2023-01-02 13:04:53,889 cisTopic     INFO     Returning valid barcodes\n",
      "2023-01-02 13:04:56,837 cisTopic     INFO     Computing duplicate rate plot for 10x_pbmc\n",
      "2023-01-02 13:05:01,865 cisTopic     INFO     Return plot data\n",
      "2023-01-02 13:05:02,061 cisTopic     INFO     Computing insert size distribution for 10x_pbmc\n",
      "2023-01-02 13:05:02,062 cisTopic     INFO     Counting fragments\n",
      "2023-01-02 13:05:03,161 cisTopic     INFO     Returning plot data\n",
      "2023-01-02 13:05:22,832 cisTopic     INFO     Computing TSS profile for 10x_pbmc\n",
      "2023-01-02 13:05:26,637 cisTopic     INFO     Formatting annnotation\n",
      "2023-01-02 13:05:26,722 cisTopic     INFO     Creating coverage matrix\n",
      "2023-01-02 13:06:41,669 cisTopic     INFO     Coverage matrix done\n",
      "2023-01-02 13:06:47,835 cisTopic     INFO     Returning normalized TSS coverage matrix per barcode\n",
      "2023-01-02 13:06:52,322 cisTopic     INFO     Returning normalized sample TSS enrichment data\n",
      "2023-01-02 13:06:52,560 cisTopic     INFO     Computing FRIP profile for 10x_pbmc\n",
      "2023-01-02 13:06:53,310 cisTopic     INFO     Counting fragments\n",
      "2023-01-02 13:06:58,445 cisTopic     INFO     Intersecting fragments with regions\n",
      "2023-01-02 13:07:16,159 cisTopic     INFO     Sample 10x_pbmc done!\n"
     ]
    }
   ],
   "source": [
    "import pybiomart as pbm\n",
    "dataset = pbm.Dataset(name='hsapiens_gene_ensembl',  host='http://www.ensembl.org')\n",
    "annot = dataset.query(attributes=['chromosome_name', 'transcription_start_site', 'strand', 'external_gene_name', 'transcript_biotype'])\n",
    "annot['Chromosome/scaffold name'] = annot['Chromosome/scaffold name'].to_numpy(dtype = str)\n",
    "filter = annot['Chromosome/scaffold name'].str.contains('CHR|GL|JH|MT')\n",
    "annot = annot[~filter]\n",
    "annot['Chromosome/scaffold name'] = annot['Chromosome/scaffold name'].str.replace(r'(\\b\\S)', r'chr\\1')\n",
    "annot.columns=['Chromosome', 'Start', 'Strand', 'Gene', 'Transcript_type']\n",
    "annot = annot[annot.Transcript_type == 'protein_coding']\n",
    "from pycisTopic.qc import *\n",
    "path_to_regions = {'10x_pbmc':os.path.join(work_dir, 'scATAC/consensus_peak_calling/consensus_regions.bed')}\n",
    "\n",
    "metadata_bc, profile_data_dict = compute_qc_stats(\n",
    "                fragments_dict = fragments_dict,\n",
    "                tss_annotation = annot,\n",
    "                stats=['barcode_rank_plot', 'duplicate_rate', 'insert_size_distribution', 'profile_tss', 'frip'],\n",
    "                label_list = None,\n",
    "                path_to_regions = path_to_regions,\n",
    "                n_cpu = 1,\n",
    "                valid_bc = None,\n",
    "                n_frag = 100,\n",
    "                n_bc = None,\n",
    "                tss_flank_window = 1000,\n",
    "                tss_window = 50,\n",
    "                tss_minimum_signal_window = 100,\n",
    "                tss_rolling_window = 10,\n",
    "                remove_duplicates = True,\n",
    "                _temp_dir = os.path.join(tmp_dir + 'ray_spill'))\n",
    "\n",
    "if not os.path.exists(os.path.join(work_dir, 'scATAC/quality_control')):\n",
    "    os.makedirs(os.path.join(work_dir, 'scATAC/quality_control'))\n",
    "\n",
    "pickle.dump(metadata_bc,\n",
    "            open(os.path.join(work_dir, 'scATAC/quality_control/metadata_bc.pkl'), 'wb'))\n",
    "\n",
    "pickle.dump(profile_data_dict,\n",
    "            open(os.path.join(work_dir, 'scATAC/quality_control/profile_data_dict.pkl'), 'wb'))"
   ]
  },
  {
   "cell_type": "code",
   "execution_count": 36,
   "id": "b8136f22-585c-4fff-870d-bc9e7f9842b7",
   "metadata": {
    "execution": {
     "iopub.execute_input": "2023-01-02T21:08:03.491753Z",
     "iopub.status.busy": "2023-01-02T21:08:03.491367Z",
     "iopub.status.idle": "2023-01-02T21:08:14.649860Z",
     "shell.execute_reply": "2023-01-02T21:08:14.648920Z",
     "shell.execute_reply.started": "2023-01-02T21:08:03.491723Z"
    }
   },
   "outputs": [
    {
     "name": "stderr",
     "output_type": "stream",
     "text": [
      "/cellar/users/aklie/opt/miniconda3/envs/scenicplus/lib/python3.8/site-packages/pycisTopic/qc.py:1871: UserWarning: \n",
      "\n",
      "`distplot` is a deprecated function and will be removed in seaborn v0.14.0.\n",
      "\n",
      "Please adapt your code to use either `displot` (a figure-level function with\n",
      "similar flexibility) or `histplot` (an axes-level function for histograms).\n",
      "\n",
      "For a guide to updating your code to use the new functions, please see\n",
      "https://gist.github.com/mwaskom/de44147ed2974457ad6372750bbe5751\n",
      "\n",
      "  sns.distplot(\n",
      "/cellar/users/aklie/opt/miniconda3/envs/scenicplus/lib/python3.8/site-packages/seaborn/distributions.py:2511: FutureWarning: \n",
      "\n",
      "`shade` is now deprecated in favor of `fill`; setting `fill=True`.\n",
      "This will become an error in seaborn v0.14.0; please update your code.\n",
      "\n",
      "  kdeplot(**{axis: a}, ax=ax, color=kde_color, **kde_kws)\n",
      "/cellar/users/aklie/opt/miniconda3/envs/scenicplus/lib/python3.8/site-packages/pycisTopic/qc.py:1886: UserWarning: \n",
      "\n",
      "`distplot` is a deprecated function and will be removed in seaborn v0.14.0.\n",
      "\n",
      "Please adapt your code to use either `displot` (a figure-level function with\n",
      "similar flexibility) or `histplot` (an axes-level function for histograms).\n",
      "\n",
      "For a guide to updating your code to use the new functions, please see\n",
      "https://gist.github.com/mwaskom/de44147ed2974457ad6372750bbe5751\n",
      "\n",
      "  sns.distplot(\n",
      "/cellar/users/aklie/opt/miniconda3/envs/scenicplus/lib/python3.8/site-packages/seaborn/distributions.py:2511: FutureWarning: \n",
      "\n",
      "`shade` is now deprecated in favor of `fill`; setting `fill=True`.\n",
      "This will become an error in seaborn v0.14.0; please update your code.\n",
      "\n",
      "  kdeplot(**{axis: a}, ax=ax, color=kde_color, **kde_kws)\n",
      "/cellar/users/aklie/opt/miniconda3/envs/scenicplus/lib/python3.8/site-packages/pycisTopic/qc.py:1871: UserWarning: \n",
      "\n",
      "`distplot` is a deprecated function and will be removed in seaborn v0.14.0.\n",
      "\n",
      "Please adapt your code to use either `displot` (a figure-level function with\n",
      "similar flexibility) or `histplot` (an axes-level function for histograms).\n",
      "\n",
      "For a guide to updating your code to use the new functions, please see\n",
      "https://gist.github.com/mwaskom/de44147ed2974457ad6372750bbe5751\n",
      "\n",
      "  sns.distplot(\n",
      "/cellar/users/aklie/opt/miniconda3/envs/scenicplus/lib/python3.8/site-packages/seaborn/distributions.py:2511: FutureWarning: \n",
      "\n",
      "`shade` is now deprecated in favor of `fill`; setting `fill=True`.\n",
      "This will become an error in seaborn v0.14.0; please update your code.\n",
      "\n",
      "  kdeplot(**{axis: a}, ax=ax, color=kde_color, **kde_kws)\n",
      "/cellar/users/aklie/opt/miniconda3/envs/scenicplus/lib/python3.8/site-packages/pycisTopic/qc.py:1886: UserWarning: \n",
      "\n",
      "`distplot` is a deprecated function and will be removed in seaborn v0.14.0.\n",
      "\n",
      "Please adapt your code to use either `displot` (a figure-level function with\n",
      "similar flexibility) or `histplot` (an axes-level function for histograms).\n",
      "\n",
      "For a guide to updating your code to use the new functions, please see\n",
      "https://gist.github.com/mwaskom/de44147ed2974457ad6372750bbe5751\n",
      "\n",
      "  sns.distplot(\n",
      "/cellar/users/aklie/opt/miniconda3/envs/scenicplus/lib/python3.8/site-packages/seaborn/distributions.py:2511: FutureWarning: \n",
      "\n",
      "`shade` is now deprecated in favor of `fill`; setting `fill=True`.\n",
      "This will become an error in seaborn v0.14.0; please update your code.\n",
      "\n",
      "  kdeplot(**{axis: a}, ax=ax, color=kde_color, **kde_kws)\n",
      "/cellar/users/aklie/opt/miniconda3/envs/scenicplus/lib/python3.8/site-packages/pycisTopic/qc.py:1871: UserWarning: \n",
      "\n",
      "`distplot` is a deprecated function and will be removed in seaborn v0.14.0.\n",
      "\n",
      "Please adapt your code to use either `displot` (a figure-level function with\n",
      "similar flexibility) or `histplot` (an axes-level function for histograms).\n",
      "\n",
      "For a guide to updating your code to use the new functions, please see\n",
      "https://gist.github.com/mwaskom/de44147ed2974457ad6372750bbe5751\n",
      "\n",
      "  sns.distplot(\n",
      "/cellar/users/aklie/opt/miniconda3/envs/scenicplus/lib/python3.8/site-packages/seaborn/distributions.py:2511: FutureWarning: \n",
      "\n",
      "`shade` is now deprecated in favor of `fill`; setting `fill=True`.\n",
      "This will become an error in seaborn v0.14.0; please update your code.\n",
      "\n",
      "  kdeplot(**{axis: a}, ax=ax, color=kde_color, **kde_kws)\n",
      "/cellar/users/aklie/opt/miniconda3/envs/scenicplus/lib/python3.8/site-packages/pycisTopic/qc.py:1886: UserWarning: \n",
      "\n",
      "`distplot` is a deprecated function and will be removed in seaborn v0.14.0.\n",
      "\n",
      "Please adapt your code to use either `displot` (a figure-level function with\n",
      "similar flexibility) or `histplot` (an axes-level function for histograms).\n",
      "\n",
      "For a guide to updating your code to use the new functions, please see\n",
      "https://gist.github.com/mwaskom/de44147ed2974457ad6372750bbe5751\n",
      "\n",
      "  sns.distplot(\n",
      "/cellar/users/aklie/opt/miniconda3/envs/scenicplus/lib/python3.8/site-packages/seaborn/distributions.py:2511: FutureWarning: \n",
      "\n",
      "`shade` is now deprecated in favor of `fill`; setting `fill=True`.\n",
      "This will become an error in seaborn v0.14.0; please update your code.\n",
      "\n",
      "  kdeplot(**{axis: a}, ax=ax, color=kde_color, **kde_kws)\n"
     ]
    },
    {
     "data": {
      "image/png": "[encoded data removed]",
      "text/plain": [
       "<Figure size 1000x1000 with 3 Axes>"
      ]
     },
     "metadata": {},
     "output_type": "display_data"
    }
   ],
   "source": [
    "                         #[min,  #max]\n",
    "QC_filters = {\n",
    "    'Log_unique_nr_frag': [3.3 , None],\n",
    "    'FRIP':               [0.45, None],\n",
    "    'TSS_enrichment':     [5   , None],\n",
    "    'Dupl_rate':          [None, None]\n",
    "\n",
    "}\n",
    "\n",
    "# Return figure to plot together with other metrics, and cells passing filters. Figure will be saved as pdf.\n",
    "from pycisTopic.qc import *\n",
    "FRIP_NR_FRAG_fig, FRIP_NR_FRAG_filter=plot_barcode_metrics(metadata_bc['10x_pbmc'],\n",
    "                                       var_x='Log_unique_nr_frag',\n",
    "                                       var_y='FRIP',\n",
    "                                       min_x=QC_filters['Log_unique_nr_frag'][0],\n",
    "                                       max_x=QC_filters['Log_unique_nr_frag'][1],\n",
    "                                       min_y=QC_filters['FRIP'][0],\n",
    "                                       max_y=QC_filters['FRIP'][1],\n",
    "                                       return_cells=True,\n",
    "                                       return_fig=True,\n",
    "                                       plot=False)\n",
    "# Return figure to plot together with other metrics, and cells passing filters\n",
    "TSS_NR_FRAG_fig, TSS_NR_FRAG_filter=plot_barcode_metrics(metadata_bc['10x_pbmc'],\n",
    "                                      var_x='Log_unique_nr_frag',\n",
    "                                      var_y='TSS_enrichment',\n",
    "                                      min_x=QC_filters['Log_unique_nr_frag'][0],\n",
    "                                      max_x=QC_filters['Log_unique_nr_frag'][1],\n",
    "                                      min_y=QC_filters['TSS_enrichment'][0],\n",
    "                                      max_y=QC_filters['TSS_enrichment'][1],\n",
    "                                      return_cells=True,\n",
    "                                      return_fig=True,\n",
    "                                      plot=False)\n",
    "# Return figure to plot together with other metrics, but not returning cells (no filter applied for the duplication rate  per barcode)\n",
    "DR_NR_FRAG_fig=plot_barcode_metrics(metadata_bc['10x_pbmc'],\n",
    "                                      var_x='Log_unique_nr_frag',\n",
    "                                      var_y='Dupl_rate',\n",
    "                                      min_x=QC_filters['Log_unique_nr_frag'][0],\n",
    "                                      max_x=QC_filters['Log_unique_nr_frag'][1],\n",
    "                                      min_y=QC_filters['Dupl_rate'][0],\n",
    "                                      max_y=QC_filters['Dupl_rate'][1],\n",
    "                                      return_cells=False,\n",
    "                                      return_fig=True,\n",
    "                                      plot=False,\n",
    "                                      plot_as_hexbin = True)\n",
    "\n",
    "# Plot barcode stats in one figure\n",
    "fig=plt.figure(figsize=(10,10))\n",
    "plt.subplot(1, 3, 1)\n",
    "img = fig2img(FRIP_NR_FRAG_fig)\n",
    "plt.imshow(img)\n",
    "plt.axis('off')\n",
    "plt.subplot(1, 3, 2)\n",
    "img = fig2img(TSS_NR_FRAG_fig)\n",
    "plt.imshow(img)\n",
    "plt.axis('off')\n",
    "plt.subplot(1, 3, 3)\n",
    "img = fig2img(DR_NR_FRAG_fig)\n",
    "plt.imshow(img)\n",
    "plt.axis('off')\n",
    "plt.show()"
   ]
  },
  {
   "cell_type": "code",
   "execution_count": 37,
   "id": "4123264b-d3a5-45d9-b204-0e83cc707500",
   "metadata": {
    "execution": {
     "iopub.execute_input": "2023-01-02T21:08:19.492179Z",
     "iopub.status.busy": "2023-01-02T21:08:19.491809Z",
     "iopub.status.idle": "2023-01-02T21:08:19.502941Z",
     "shell.execute_reply": "2023-01-02T21:08:19.502035Z",
     "shell.execute_reply.started": "2023-01-02T21:08:19.492149Z"
    }
   },
   "outputs": [
    {
     "name": "stdout",
     "output_type": "stream",
     "text": [
      "2521 barcodes passed QC stats\n"
     ]
    }
   ],
   "source": [
    "bc_passing_filters = {'10x_pbmc':[]}\n",
    "bc_passing_filters['10x_pbmc'] = list((set(FRIP_NR_FRAG_filter) & set(TSS_NR_FRAG_filter)))\n",
    "pickle.dump(bc_passing_filters,\n",
    "            open(os.path.join(work_dir, 'scATAC/quality_control/bc_passing_filters.pkl'), 'wb'))\n",
    "print(f\"{len(bc_passing_filters['10x_pbmc'])} barcodes passed QC stats\")"
   ]
  },
  {
   "cell_type": "code",
   "execution_count": null,
   "id": "9b106724-9a76-4c08-9a5e-9913747b2e93",
   "metadata": {},
   "outputs": [],
   "source": []
  }
 ],
 "metadata": {
  "kernelspec": {
   "display_name": "Python 3.8 scenicplus",
   "language": "python",
   "name": "scenicplus"
  },
  "language_info": {
   "codemirror_mode": {
    "name": "ipython",
    "version": 3
   },
   "file_extension": ".py",
   "mimetype": "text/x-python",
   "name": "python",
   "nbconvert_exporter": "python",
   "pygments_lexer": "ipython3",
   "version": "3.8.15"
  }
 },
 "nbformat": 4,
 "nbformat_minor": 5
}
