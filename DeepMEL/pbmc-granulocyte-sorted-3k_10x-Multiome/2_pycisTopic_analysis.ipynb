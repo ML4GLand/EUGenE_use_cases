{
 "cells": [
  {
   "attachments": {},
   "cell_type": "markdown",
   "id": "6c194c79",
   "metadata": {},
   "source": [
    "# Run pycisTopic on `pbmc-granulocyte-sorted-3k_10x-Multiome`\n",
    "Adam Klie (last updated: *09/20/2023*)\n",
    "***\n",
    "This notebook shows how run pycisTopic"
   ]
  },
  {
   "attachments": {},
   "cell_type": "markdown",
   "id": "73ba7f73",
   "metadata": {},
   "source": [
    "# Set-up"
   ]
  },
  {
   "cell_type": "code",
   "execution_count": null,
   "id": "c9cbabfc-db51-4c4a-9b9c-ec03a06e5206",
   "metadata": {
    "execution": {
     "iopub.execute_input": "2023-01-02T21:14:42.745359Z",
     "iopub.status.busy": "2023-01-02T21:14:42.744675Z",
     "iopub.status.idle": "2023-01-02T21:14:42.761574Z",
     "shell.execute_reply": "2023-01-02T21:14:42.759962Z",
     "shell.execute_reply.started": "2023-01-02T21:14:42.745301Z"
    },
    "tags": []
   },
   "outputs": [],
   "source": [
    "# Load necessary packages\n",
    "import os\n",
    "import scanpy as sc\n",
    "import pickle\n",
    "from pycisTopic.cistopic_class import create_cistopic_object_from_fragments, run_cgs_models\n",
    "from pycisTopic.lda_models import evaluate_models"
   ]
  },
  {
   "cell_type": "code",
   "execution_count": null,
   "id": "a418ded4",
   "metadata": {},
   "outputs": [],
   "source": [
    "# Set-up the paths to data (TODO: change to your own paths)\n",
    "input_dir = '/cellar/users/aklie/projects/ML4GLand/use_cases/scBasset/pbmc-granulocyte-sorted-3k_10x-Multiome/processed'\n",
    "tmp_dir = os.path.join(input_dir, 'tmp')\n",
    "if not os.path.exists(input_dir):\n",
    "    os.makedirs(input_dir)"
   ]
  },
  {
   "cell_type": "code",
   "execution_count": null,
   "id": "aa839d1b-63a0-48e3-9dae-02267824b405",
   "metadata": {
    "execution": {
     "iopub.execute_input": "2023-01-02T21:10:11.552659Z",
     "iopub.status.busy": "2023-01-02T21:10:11.552365Z",
     "iopub.status.idle": "2023-01-02T21:10:24.439609Z",
     "shell.execute_reply": "2023-01-02T21:10:24.438191Z",
     "shell.execute_reply.started": "2023-01-02T21:10:11.552622Z"
    }
   },
   "outputs": [],
   "source": [
    "# Helpful to have\n",
    "adata = sc.read_h5ad(os.path.join(input_dir, 'scRNA/adata.h5ad'))\n",
    "scRNA_bc = adata.obs_names\n",
    "cell_data = adata.obs\n",
    "cell_data['sample_id'] = '10x_pbmc'\n",
    "cell_data['celltype'] = cell_data['celltype'].astype(str) # set data type of the celltype column to str, otherwise the export_pseudobulk function will complain.\n",
    "del(adata)"
   ]
  },
  {
   "cell_type": "code",
   "execution_count": null,
   "id": "654df5fe-5d0d-449b-b2f7-c00922fe61a9",
   "metadata": {
    "execution": {
     "iopub.execute_input": "2023-01-02T21:14:50.793338Z",
     "iopub.status.busy": "2023-01-02T21:14:50.792625Z",
     "iopub.status.idle": "2023-01-02T21:14:51.341027Z",
     "shell.execute_reply": "2023-01-02T21:14:51.339423Z",
     "shell.execute_reply.started": "2023-01-02T21:14:50.793278Z"
    },
    "tags": []
   },
   "outputs": [],
   "source": [
    "# Other needed paths\n",
    "fragments_dict = {'10x_pbmc': os.path.join(input_dir, 'data/pbmc_granulocyte_sorted_3k_atac_fragments.tsv.gz')}\n",
    "path_to_regions = {'10x_pbmc':os.path.join(input_dir, 'scATAC/consensus_peak_calling/consensus_regions.bed')}\n",
    "path_to_blacklist= os.path.join(input_dir, 'hg38-blacklist.v2.bed')\n",
    "metadata_bc = pickle.load(open(os.path.join(input_dir, 'scATAC/quality_control/metadata_bc.pkl'), 'rb'))\n",
    "bc_passing_filters = pickle.load(open(os.path.join(input_dir, 'scATAC/quality_control/bc_passing_filters.pkl'), 'rb'))"
   ]
  },
  {
   "cell_type": "code",
   "execution_count": null,
   "id": "112fb8e3-38fd-4781-896f-872746531bc2",
   "metadata": {
    "execution": {
     "iopub.execute_input": "2023-01-02T21:10:47.544751Z",
     "iopub.status.busy": "2023-01-02T21:10:47.544301Z",
     "iopub.status.idle": "2023-01-02T21:10:47.550876Z",
     "shell.execute_reply": "2023-01-02T21:10:47.549949Z",
     "shell.execute_reply.started": "2023-01-02T21:10:47.544720Z"
    },
    "tags": []
   },
   "outputs": [],
   "source": [
    "# Print some stats\n",
    "print(f\"{len(list(set(bc_passing_filters['10x_pbmc']) & set(scRNA_bc)))} cell barcodes pass both scATAC-seq and scRNA-seq based filtering\")"
   ]
  },
  {
   "cell_type": "code",
   "execution_count": null,
   "id": "97ac4df6-448e-485e-8752-9678c1d589c6",
   "metadata": {
    "execution": {
     "iopub.execute_input": "2023-01-02T21:14:51.803550Z",
     "iopub.status.busy": "2023-01-02T21:14:51.802861Z",
     "iopub.status.idle": "2023-01-02T21:17:12.830968Z",
     "shell.execute_reply": "2023-01-02T21:17:12.829838Z",
     "shell.execute_reply.started": "2023-01-02T21:14:51.803494Z"
    },
    "tags": []
   },
   "outputs": [],
   "source": [
    "key = '10x_pbmc'\n",
    "cistopic_obj = create_cistopic_object_from_fragments(\n",
    "    path_to_fragments=fragments_dict[key],\n",
    "    path_to_regions=path_to_regions[key],\n",
    "    path_to_blacklist=path_to_blacklist,\n",
    "    metrics=metadata_bc[key],\n",
    "    valid_bc=list(set(bc_passing_filters[key]) & set(scRNA_bc)),\n",
    "    n_cpu=1,\n",
    "    project=key,\n",
    "    split_pattern='-'\n",
    ")\n",
    "cistopic_obj.add_cell_data(cell_data, split_pattern='-')\n",
    "print(cistopic_obj)"
   ]
  },
  {
   "cell_type": "code",
   "execution_count": null,
   "id": "ac5d2cc6-ce27-4a5a-8c00-74f818a3892d",
   "metadata": {
    "execution": {
     "iopub.execute_input": "2023-01-02T21:17:12.833300Z",
     "iopub.status.busy": "2023-01-02T21:17:12.832947Z",
     "iopub.status.idle": "2023-01-02T21:17:13.454206Z",
     "shell.execute_reply": "2023-01-02T21:17:13.453203Z",
     "shell.execute_reply.started": "2023-01-02T21:17:12.833266Z"
    },
    "tags": []
   },
   "outputs": [],
   "source": [
    "# Dump the cistopic object\n",
    "pickle.dump(\n",
    "    cistopic_obj,\n",
    "    open(os.path.join(input_dir, 'scATAC/cistopic_obj.pkl'), 'wb')\n",
    ")"
   ]
  },
  {
   "cell_type": "code",
   "execution_count": null,
   "id": "b9e50250-ddeb-4ad4-977c-c62b83589b9b",
   "metadata": {
    "execution": {
     "iopub.execute_input": "2023-01-02T21:18:20.614467Z",
     "iopub.status.busy": "2023-01-02T21:18:20.613733Z",
     "iopub.status.idle": "2023-01-02T23:58:22.040269Z",
     "shell.execute_reply": "2023-01-02T23:58:22.039322Z",
     "shell.execute_reply.started": "2023-01-02T21:18:20.614417Z"
    },
    "tags": []
   },
   "outputs": [],
   "source": [
    "# Run pycistopic\n",
    "models = run_cgs_models(\n",
    "    cistopic_obj,\n",
    "    n_topics=[2,4,10,16,32,48],\n",
    "    n_cpu=5,\n",
    "    n_iter=500,\n",
    "    random_state=555,\n",
    "    alpha=50,\n",
    "    alpha_by_topic=True,\n",
    "    eta=0.1,\n",
    "    eta_by_topic=False,\n",
    "    save_path=None,\n",
    "    _temp_dir = os.path.join(tmp_dir + 'ray_spill')\n",
    ")"
   ]
  },
  {
   "cell_type": "code",
   "execution_count": null,
   "id": "5275a4b9-59fe-438d-95b9-f7e920e8159d",
   "metadata": {
    "execution": {
     "iopub.execute_input": "2023-01-03T00:52:14.679095Z",
     "iopub.status.busy": "2023-01-03T00:52:14.678729Z",
     "iopub.status.idle": "2023-01-03T00:52:15.361997Z",
     "shell.execute_reply": "2023-01-03T00:52:15.361069Z",
     "shell.execute_reply.started": "2023-01-03T00:52:14.679064Z"
    }
   },
   "outputs": [],
   "source": [
    "# Save and load\n",
    "if not os.path.exists(os.path.join(input_dir, 'scATAC/models')):\n",
    "    os.makedirs(os.path.join(input_dir, 'scATAC/models'))\n",
    "pickle.dump(models,\n",
    "            open(os.path.join(input_dir, 'scATAC/models/10x_pbmc_models_500_iter_LDA.pkl'), 'wb'))"
   ]
  },
  {
   "cell_type": "code",
   "execution_count": null,
   "id": "df64405a-2d1a-4281-9f5d-d41b47aa726c",
   "metadata": {
    "execution": {
     "iopub.execute_input": "2023-01-03T00:52:32.593011Z",
     "iopub.status.busy": "2023-01-03T00:52:32.592540Z",
     "iopub.status.idle": "2023-01-03T00:52:34.732421Z",
     "shell.execute_reply": "2023-01-03T00:52:34.731483Z",
     "shell.execute_reply.started": "2023-01-03T00:52:32.592980Z"
    }
   },
   "outputs": [],
   "source": [
    "# Eval models\n",
    "model = evaluate_models(\n",
    "    models,\n",
    "    select_model=16,\n",
    "    return_model=True,\n",
    "    metrics=['Arun_2010','Cao_Juan_2009', 'Minmo_2011', 'loglikelihood'],\n",
    "    plot_metrics=False\n",
    ")"
   ]
  },
  {
   "cell_type": "code",
   "execution_count": null,
   "id": "8559d28b-89db-40a0-9cf6-55df30bae0b8",
   "metadata": {
    "execution": {
     "iopub.execute_input": "2023-01-03T00:53:32.592586Z",
     "iopub.status.busy": "2023-01-03T00:53:32.592211Z",
     "iopub.status.idle": "2023-01-03T00:53:33.484772Z",
     "shell.execute_reply": "2023-01-03T00:53:33.483859Z",
     "shell.execute_reply.started": "2023-01-03T00:53:32.592556Z"
    }
   },
   "outputs": [],
   "source": [
    "# Add the best model\n",
    "cistopic_obj.add_LDA_model(model)\n",
    "pickle.dump(\n",
    "    cistopic_obj,\n",
    "    open(os.path.join(input_dir, 'scATAC/cistopic_obj.pkl'), 'wb')\n",
    ")"
   ]
  },
  {
   "attachments": {},
   "cell_type": "markdown",
   "id": "5bf166b1-3fdf-49b0-b2a3-c1b9172d12c3",
   "metadata": {},
   "source": [
    "# DONE!"
   ]
  },
  {
   "attachments": {},
   "cell_type": "markdown",
   "id": "61dc6218",
   "metadata": {},
   "source": [
    "---"
   ]
  }
 ],
 "metadata": {
  "kernelspec": {
   "display_name": "Python 3.8 scenicplus",
   "language": "python",
   "name": "scenicplus"
  },
  "language_info": {
   "codemirror_mode": {
    "name": "ipython",
    "version": 3
   },
   "file_extension": ".py",
   "mimetype": "text/x-python",
   "name": "python",
   "nbconvert_exporter": "python",
   "pygments_lexer": "ipython3",
   "version": "3.8.15"
  }
 },
 "nbformat": 4,
 "nbformat_minor": 5
}
