{
 "cells": [
  {
   "attachments": {},
   "cell_type": "markdown",
   "id": "031d5f33",
   "metadata": {},
   "source": [
    "# Get consensus peaks for `pbmc-granulocyte-sorted-3k_10x-Multiome`\n",
    "Adam Klie (last updated: *09/20/2023*)\n",
    "***\n",
    "This notebook shows how to preprocess scATAC-seq data from `pbmc_granulocyte_sorted_3k` using the `pycisTopic` package. See https://github.com/ML4GLand/pbmc_granulocyte_sorted_3k for more details on how to download the data."
   ]
  },
  {
   "attachments": {},
   "cell_type": "markdown",
   "id": "6ca0e1f0",
   "metadata": {},
   "source": [
    "# Set-up"
   ]
  },
  {
   "cell_type": "code",
   "execution_count": null,
   "id": "2b50681d",
   "metadata": {},
   "outputs": [],
   "source": [
    "# Load necessary packages\n",
    "import os\n",
    "import scanpy as sc\n",
    "import pycisTopic\n",
    "import pyranges as pr\n",
    "import requests\n",
    "import pickle\n",
    "import pandas as pd\n",
    "import pybiomart as pbm\n",
    "from pycisTopic.pseudobulk_peak_calling import export_pseudobulk\n",
    "from pycisTopic.pseudobulk_peak_calling import peak_calling\n",
    "from pycisTopic.iterative_peak_calling import get_consensus_peaks"
   ]
  },
  {
   "cell_type": "code",
   "execution_count": null,
   "id": "45469143",
   "metadata": {},
   "outputs": [],
   "source": [
    "# Set-up the paths to data (TODO: change to your own paths)\n",
    "input_dir = '/cellar/users/aklie/data/ml4gland/pbmc_granulocyte_sorted_3k/processed/21Sep23/'\n",
    "output_dir = '/cellar/users/aklie/projects/ML4GLand/use_cases/scBasset/pbmc-granulocyte-sorted-3k_10x-Multiome/processed'\n",
    "tmp_dir = os.path.join(output_dir, 'tmp')\n",
    "if not os.path.exists(output_dir):\n",
    "    os.makedirs(output_dir)"
   ]
  },
  {
   "cell_type": "code",
   "execution_count": null,
   "id": "b6f0d376-6c07-4843-8bef-1a9d25f616c1",
   "metadata": {
    "execution": {
     "iopub.execute_input": "2023-01-14T19:10:30.737956Z",
     "iopub.status.busy": "2023-01-14T19:10:30.737552Z",
     "iopub.status.idle": "2023-01-14T19:10:30.741787Z",
     "shell.execute_reply": "2023-01-14T19:10:30.741041Z",
     "shell.execute_reply.started": "2023-01-14T19:10:30.737926Z"
    },
    "tags": []
   },
   "outputs": [],
   "source": [
    "# Get the fragments file mapped\n",
    "fragments_dict = {'10x_pbmc': os.path.join(input_dir, 'data/pbmc_granulocyte_sorted_3k_atac_fragments.tsv.gz')}"
   ]
  },
  {
   "cell_type": "code",
   "execution_count": null,
   "id": "5a0c0dda-1ae3-4445-a52a-f928e9007077",
   "metadata": {
    "execution": {
     "iopub.execute_input": "2023-01-14T19:10:30.744117Z",
     "iopub.status.busy": "2023-01-14T19:10:30.743774Z",
     "iopub.status.idle": "2023-01-14T19:10:49.777288Z",
     "shell.execute_reply": "2023-01-14T19:10:49.776192Z",
     "shell.execute_reply.started": "2023-01-14T19:10:30.744081Z"
    },
    "tags": []
   },
   "outputs": [],
   "source": [
    "# Helpful to have\n",
    "adata = sc.read_h5ad(os.path.join(input_dir, 'scRNA/adata.h5ad'))\n",
    "cell_data = adata.obs\n",
    "cell_data['sample_id'] = '10x_pbmc'\n",
    "cell_data['celltype'] = cell_data['celltype'].astype(str) # set data type of the celltype column to str, otherwise the export_pseudobulk function will complain.\n",
    "del(adata)"
   ]
  },
  {
   "cell_type": "code",
   "execution_count": null,
   "id": "fba5e379-0397-416c-8dd1-e3a886da2e4a",
   "metadata": {
    "execution": {
     "iopub.execute_input": "2023-01-14T19:10:49.781746Z",
     "iopub.status.busy": "2023-01-14T19:10:49.781465Z",
     "iopub.status.idle": "2023-01-14T19:10:51.127439Z",
     "shell.execute_reply": "2023-01-14T19:10:51.126558Z",
     "shell.execute_reply.started": "2023-01-14T19:10:49.781718Z"
    },
    "tags": []
   },
   "outputs": [],
   "source": [
    "# Get chromosome sizes (for hg38 here)\n",
    "target_url='http://hgdownload.cse.ucsc.edu/goldenPath/hg38/bigZips/hg38.chrom.sizes'\n",
    "chromsizes=pd.read_csv(target_url, sep='\\t', header=None)\n",
    "chromsizes.columns=['Chromosome', 'End']\n",
    "chromsizes['Start']=[0]*chromsizes.shape[0]\n",
    "chromsizes=chromsizes.loc[:,['Chromosome', 'Start', 'End']]\n",
    "\n",
    "# Exceptionally in this case, to agree with CellRangerARC annotations\n",
    "chromsizes['Chromosome'] = [chromsizes['Chromosome'][x].replace('v', '.') for x in range(len(chromsizes['Chromosome']))]\n",
    "chromsizes['Chromosome'] = [chromsizes['Chromosome'][x].split('_')[1] if len(chromsizes['Chromosome'][x].split('_')) > 1 else chromsizes['Chromosome'][x] for x in range(len(chromsizes['Chromosome']))]\n",
    "chromsizes=pr.PyRanges(chromsizes)"
   ]
  },
  {
   "cell_type": "code",
   "execution_count": null,
   "id": "b24bfbc1-79dd-4a15-8fae-e957e715db42",
   "metadata": {
    "execution": {
     "iopub.execute_input": "2023-01-02T20:34:58.543424Z",
     "iopub.status.busy": "2023-01-02T20:34:58.543063Z",
     "iopub.status.idle": "2023-01-02T20:41:18.770461Z",
     "shell.execute_reply": "2023-01-02T20:41:18.769479Z",
     "shell.execute_reply.started": "2023-01-02T20:34:58.543393Z"
    },
    "tags": []
   },
   "outputs": [],
   "source": [
    "bw_paths, bed_paths = export_pseudobulk(\n",
    "    input_data = cell_data,\n",
    "    variable = 'celltype',                                                                     # variable by which to generate pseubulk profiles, in this case we want pseudobulks per celltype\n",
    "    sample_id_col = 'sample_id',\n",
    "    chromsizes = chromsizes,\n",
    "    bed_path = os.path.join(output_dir, 'scATAC/consensus_peak_calling/pseudobulk_bed_files/'),  # specify where pseudobulk_bed_files should be stored\n",
    "    bigwig_path = os.path.join(output_dir, 'scATAC/consensus_peak_calling/pseudobulk_bw_files/'),# specify where pseudobulk_bw_files should be stored\n",
    "    path_to_fragments = fragments_dict,                                                        # location of fragment fiels\n",
    "    n_cpu = 8,                                                                                 # specify the number of cores to use, we use ray for multi processing\n",
    "    normalize_bigwig = True,\n",
    "    remove_duplicates = True,\n",
    "    _temp_dir = os.path.join(tmp_dir, 'ray_spill'),\n",
    "    split_pattern = '-'\n",
    ")"
   ]
  },
  {
   "cell_type": "code",
   "execution_count": null,
   "id": "2ddf60ae-2798-4d0a-a1b6-336bb1fa1b36",
   "metadata": {
    "execution": {
     "iopub.execute_input": "2023-01-02T20:43:09.593916Z",
     "iopub.status.busy": "2023-01-02T20:43:09.593417Z",
     "iopub.status.idle": "2023-01-02T20:43:09.605517Z",
     "shell.execute_reply": "2023-01-02T20:43:09.604540Z",
     "shell.execute_reply.started": "2023-01-02T20:43:09.593874Z"
    }
   },
   "outputs": [],
   "source": [
    "# Save the paths to the bed and bigwig files\n",
    "pickle.dump(bed_paths,\n",
    "            open(os.path.join(output_dir, 'scATAC/consensus_peak_calling/pseudobulk_bed_files/bed_paths.pkl'), 'wb'))\n",
    "pickle.dump(bw_paths,\n",
    "           open(os.path.join(output_dir, 'scATAC/consensus_peak_calling/pseudobulk_bed_files/bw_paths.pkl'), 'wb'))"
   ]
  },
  {
   "cell_type": "code",
   "execution_count": null,
   "id": "c54ab86c-e5ec-43e6-a800-4a16f905fbe6",
   "metadata": {
    "execution": {
     "iopub.execute_input": "2023-01-02T20:50:14.591600Z",
     "iopub.status.busy": "2023-01-02T20:50:14.591235Z",
     "iopub.status.idle": "2023-01-02T20:52:33.208816Z",
     "shell.execute_reply": "2023-01-02T20:52:33.207838Z",
     "shell.execute_reply.started": "2023-01-02T20:50:14.591569Z"
    },
    "tags": []
   },
   "outputs": [],
   "source": [
    "# Run peak calling\n",
    "macs_path='/cellar/users/aklie/opt/miniconda3/envs/scenicplus/bin/macs2'\n",
    "narrow_peaks_dict = peak_calling(\n",
    "    macs_path,\n",
    "    bed_paths,\n",
    "    os.path.join(output_dir, 'scATAC/consensus_peak_calling/MACS/'),\n",
    "    genome_size='hs',\n",
    "    n_cpu=8,\n",
    "    input_format='BEDPE',\n",
    "    shift=73,\n",
    "    ext_size=146,\n",
    "    keep_dup = 'all',\n",
    "    q_value = 0.05,\n",
    "    _temp_dir = os.path.join(tmp_dir, 'ray_spill')\n",
    ")"
   ]
  },
  {
   "cell_type": "code",
   "execution_count": null,
   "id": "d238a4b9-3279-4dda-b1ff-87251b61b1d7",
   "metadata": {
    "execution": {
     "iopub.execute_input": "2023-01-02T20:53:11.593317Z",
     "iopub.status.busy": "2023-01-02T20:53:11.592927Z",
     "iopub.status.idle": "2023-01-02T20:53:11.891255Z",
     "shell.execute_reply": "2023-01-02T20:53:11.890407Z",
     "shell.execute_reply.started": "2023-01-02T20:53:11.593283Z"
    }
   },
   "outputs": [],
   "source": [
    "# Save the narrow peaks dictionary\n",
    "pickle.dump(\n",
    "    narrow_peaks_dict,\n",
    "    open(os.path.join(output_dir, 'scATAC/consensus_peak_calling/MACS/narrow_peaks_dict.pkl'), 'wb')\n",
    ")"
   ]
  },
  {
   "cell_type": "code",
   "execution_count": null,
   "id": "cd068d71-7abd-4ddb-a22c-66a11106eafa",
   "metadata": {
    "collapsed": true,
    "execution": {
     "iopub.execute_input": "2023-01-02T20:56:07.706769Z",
     "iopub.status.busy": "2023-01-02T20:56:07.706285Z",
     "iopub.status.idle": "2023-01-02T20:58:33.947550Z",
     "shell.execute_reply": "2023-01-02T20:58:33.946489Z",
     "shell.execute_reply.started": "2023-01-02T20:56:07.706739Z"
    },
    "jupyter": {
     "outputs_hidden": true
    },
    "tags": []
   },
   "outputs": [],
   "source": [
    "# Get consensus peaks\n",
    "peak_half_width = 250\n",
    "path_to_blacklist= os.path.join(work_dir, 'hg38-blacklist.v2.bed')\n",
    "consensus_peaks = get_consensus_peaks(narrow_peaks_dict, peak_half_width, chromsizes=chromsizes, path_to_blacklist=path_to_blacklist)"
   ]
  },
  {
   "cell_type": "code",
   "execution_count": null,
   "id": "d2a795c5-9a7f-45a3-9727-8bf9abd1645f",
   "metadata": {
    "execution": {
     "iopub.execute_input": "2023-01-02T20:59:10.616699Z",
     "iopub.status.busy": "2023-01-02T20:59:10.616308Z",
     "iopub.status.idle": "2023-01-02T20:59:11.790061Z",
     "shell.execute_reply": "2023-01-02T20:59:11.789108Z",
     "shell.execute_reply.started": "2023-01-02T20:59:10.616668Z"
    },
    "tags": []
   },
   "outputs": [],
   "source": [
    "# Save the consensus peaks\n",
    "consensus_peaks.to_bed(\n",
    "    path = os.path.join(output_dir, 'scATAC/consensus_peak_calling/consensus_regions.bed'),\n",
    "    keep=True,\n",
    "    compression='infer',\n",
    "    chain=False)"
   ]
  },
  {
   "attachments": {},
   "cell_type": "markdown",
   "id": "df6274a9",
   "metadata": {},
   "source": [
    "# DONE!"
   ]
  },
  {
   "attachments": {},
   "cell_type": "markdown",
   "id": "37e54c95",
   "metadata": {},
   "source": [
    "---"
   ]
  }
 ],
 "metadata": {
  "kernelspec": {
   "display_name": "Python 3.8 scenicplus",
   "language": "python",
   "name": "scenicplus"
  },
  "language_info": {
   "codemirror_mode": {
    "name": "ipython",
    "version": 3
   },
   "file_extension": ".py",
   "mimetype": "text/x-python",
   "name": "python",
   "nbconvert_exporter": "python",
   "pygments_lexer": "ipython3",
   "version": "3.8.15"
  }
 },
 "nbformat": 4,
 "nbformat_minor": 5
}
