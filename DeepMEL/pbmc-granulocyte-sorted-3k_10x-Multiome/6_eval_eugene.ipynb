{
 "cells": [
  {
   "attachments": {},
   "cell_type": "markdown",
   "metadata": {},
   "source": [
    "# Evaluate DeepMEL model using EUGENe on `pbmc-granulocyte-sorted-3k_10x-Multiome`\n",
    "Adam Klie (last updated: *09/20/2023*)\n",
    "***\n",
    "This notebook shows how to evaluate a DeepMEL model using EUGENe on the `pbmc-granulocyte-sorted-3k_10x-Multiome` dataset."
   ]
  },
  {
   "attachments": {},
   "cell_type": "markdown",
   "metadata": {},
   "source": [
    "# Set-up"
   ]
  },
  {
   "cell_type": "code",
   "execution_count": null,
   "metadata": {
    "execution": {
     "iopub.execute_input": "2023-02-01T20:27:20.479772Z",
     "iopub.status.busy": "2023-02-01T20:27:20.479586Z",
     "iopub.status.idle": "2023-02-01T20:27:23.470871Z",
     "shell.execute_reply": "2023-02-01T20:27:23.470367Z",
     "shell.execute_reply.started": "2023-02-01T20:27:20.479730Z"
    }
   },
   "outputs": [],
   "source": [
    "# Load necessary packages\n",
    "import os\n",
    "import sys\n",
    "import numpy as np\n",
    "import pandas as pd\n",
    "import matplotlib.pyplot as plt\n",
    "import seqdata as sd\n",
    "from eugene import models\n",
    "from eugene.models.zoo import DeepMEL\n",
    "from eugene import plot as pl\n",
    "sys.path.append(\"/Users/adamklie/Desktop/research/projects/ML4GLand/use_cases/DeepMEL/scripts\")\n",
    "from eval import shuffle_label, calculate_roc_pr, evaluate_model\n",
    "\n",
    "%matplotlib inline"
   ]
  },
  {
   "cell_type": "code",
   "execution_count": null,
   "metadata": {},
   "outputs": [],
   "source": [
    "# Set-up the paths to data (TODO: change to your own paths)\n",
    "dataset_name = \"pbmc-granulocyte-sorted-3k_10x-Multiome\"\n",
    "input_dir = '/cellar/users/aklie/projects/ML4GLand/use_cases/scBasset/pbmc-granulocyte-sorted-3k_10x-Multiome/processed'"
   ]
  },
  {
   "attachments": {},
   "cell_type": "markdown",
   "metadata": {},
   "source": [
    "# Loss curve"
   ]
  },
  {
   "cell_type": "code",
   "execution_count": null,
   "metadata": {},
   "outputs": [],
   "source": [
    "pl.training_summary(\"/cellar/users/aklie/projects/ML4GLand/collabs/er_stress_regulation/models/multiome_cells_all_peaks/multiome_cells_all_peaks.DeepMEL.revision/v0\", metric=\"auroc\")"
   ]
  },
  {
   "attachments": {},
   "cell_type": "markdown",
   "metadata": {},
   "source": [
    "# Load some data"
   ]
  },
  {
   "cell_type": "code",
   "execution_count": null,
   "metadata": {},
   "outputs": [],
   "source": [
    "# Load the datasets\n",
    "sdata = sdata = sd.open_zarr(os.path.join(input_dir, f\"{dataset_name}.train.zarr\"))\n",
    "train_sdata = sdata.sel(_sequence=(sdata[\"train_val\"] == True).compute())  # noqa\n",
    "val_sdata = sdata.sel(_sequence=(sdata[\"train_val\"] == False).compute())  # noqa\n",
    "test_sdata = sd.open_zarr(os.path.join(input_dir, f\"{dataset_name}.test.zarr\"))"
   ]
  },
  {
   "cell_type": "code",
   "execution_count": null,
   "metadata": {},
   "outputs": [],
   "source": [
    "# Check percentage of 1s\n",
    "train_sdata[\"topics\"].values.sum(axis=0)/train_sdata[\"topics\"].values.shape[0]"
   ]
  },
  {
   "cell_type": "code",
   "execution_count": null,
   "metadata": {},
   "outputs": [],
   "source": [
    "# Check percentage of 1s\n",
    "val_sdata[\"topics\"].values.sum(axis=0)/val_sdata[\"topics\"].values.shape[0]"
   ]
  },
  {
   "cell_type": "code",
   "execution_count": null,
   "metadata": {},
   "outputs": [],
   "source": [
    "# Check percentage of 1s\n",
    "test_sdata[\"topics\"].values.sum(axis=0)/test_sdata[\"topics\"].values.shape[0]"
   ]
  },
  {
   "attachments": {},
   "cell_type": "markdown",
   "metadata": {},
   "source": [
    "# Load a trained model"
   ]
  },
  {
   "cell_type": "code",
   "execution_count": null,
   "metadata": {
    "execution": {
     "iopub.execute_input": "2023-02-01T20:28:13.772000Z",
     "iopub.status.busy": "2023-02-01T20:28:13.771693Z",
     "iopub.status.idle": "2023-02-01T20:28:13.783400Z",
     "shell.execute_reply": "2023-02-01T20:28:13.782850Z",
     "shell.execute_reply.started": "2023-02-01T20:28:13.771982Z"
    }
   },
   "outputs": [],
   "source": [
    "arch = DeepMEL(\n",
    "    input_len=500, \n",
    "    output_dim=37,\n",
    "    conv_kwargs={\n",
    "        \"conv_channels\": [1024],  \n",
    "    },\n",
    ")"
   ]
  },
  {
   "cell_type": "code",
   "execution_count": null,
   "metadata": {},
   "outputs": [],
   "source": [
    "model = models.SequenceModule.load_from_checkpoint(\n",
    "    os.path.join(models_dir, dataset_name, \"multiome_cells_all_peaks.DeepMEL.revision/v0/checkpoints/epoch=15-step=16080.ckpt\"),\n",
    "    arch=arch,\n",
    ")"
   ]
  },
  {
   "cell_type": "code",
   "execution_count": null,
   "metadata": {},
   "outputs": [],
   "source": [
    "# TODO: change to your own path\n",
    "os.path.join(input_dir, dataset_name, \"multiome_cells_all_peaks.DeepMEL.revision/v0/checkpoints/epoch=15-step=16080.ckpt\")"
   ]
  },
  {
   "attachments": {},
   "cell_type": "markdown",
   "metadata": {},
   "source": [
    "# Evaluate per topic performance"
   ]
  },
  {
   "cell_type": "code",
   "execution_count": null,
   "metadata": {},
   "outputs": [],
   "source": [
    "train_preds = model.predict(train_sdata[\"ohe_seqs\"].transpose(\"_sequence\", \"_ohe\", \"length\").values, batch_size=512)"
   ]
  },
  {
   "cell_type": "code",
   "execution_count": null,
   "metadata": {},
   "outputs": [],
   "source": [
    "val_preds= model.predict(val_sdata[\"ohe_seqs\"].transpose(\"_sequence\", \"_ohe\", \"length\").values, batch_size=512)"
   ]
  },
  {
   "cell_type": "code",
   "execution_count": null,
   "metadata": {},
   "outputs": [],
   "source": [
    "test_preds = model.predict(test_sdata[\"ohe_seqs\"].transpose(\"_sequence\", \"_ohe\", \"length\").values, batch_size=512)"
   ]
  },
  {
   "cell_type": "code",
   "execution_count": null,
   "metadata": {},
   "outputs": [],
   "source": [
    "train_preds.shape, val_preds.shape, test_preds.shape"
   ]
  },
  {
   "cell_type": "code",
   "execution_count": null,
   "metadata": {},
   "outputs": [],
   "source": [
    "train_preds = train_preds.cpu().numpy()\n",
    "val_preds = val_preds.cpu().numpy()\n",
    "test_preds = test_preds.cpu().numpy()"
   ]
  },
  {
   "cell_type": "code",
   "execution_count": null,
   "metadata": {
    "execution": {
     "iopub.execute_input": "2023-02-01T20:29:35.137630Z",
     "iopub.status.busy": "2023-02-01T20:29:35.137448Z",
     "iopub.status.idle": "2023-02-01T20:29:35.147642Z",
     "shell.execute_reply": "2023-02-01T20:29:35.147001Z",
     "shell.execute_reply.started": "2023-02-01T20:29:35.137608Z"
    }
   },
   "outputs": [],
   "source": [
    "train_trues = train_sdata[\"topics\"].values\n",
    "val_trues = val_sdata[\"topics\"].values\n",
    "test_trues = test_sdata[\"topics\"].values"
   ]
  },
  {
   "cell_type": "code",
   "execution_count": null,
   "metadata": {
    "execution": {
     "iopub.execute_input": "2023-02-01T20:29:35.148975Z",
     "iopub.status.busy": "2023-02-01T20:29:35.148766Z",
     "iopub.status.idle": "2023-02-01T20:29:35.156021Z",
     "shell.execute_reply": "2023-02-01T20:29:35.155530Z",
     "shell.execute_reply.started": "2023-02-01T20:29:35.148953Z"
    }
   },
   "outputs": [],
   "source": [
    "train_preds.shape, train_trues.shape, val_preds.shape, val_trues.shape, test_preds.shape, test_trues.shape"
   ]
  },
  {
   "cell_type": "code",
   "execution_count": null,
   "metadata": {
    "execution": {
     "iopub.execute_input": "2023-02-01T20:33:13.662864Z",
     "iopub.status.busy": "2023-02-01T20:33:13.662456Z",
     "iopub.status.idle": "2023-02-01T20:33:13.762567Z",
     "shell.execute_reply": "2023-02-01T20:33:13.762108Z",
     "shell.execute_reply.started": "2023-02-01T20:33:13.662845Z"
    },
    "tags": []
   },
   "outputs": [],
   "source": [
    "print('calculate roc and pr...')\n",
    "roc_pr_dict = {\"train\": {}, \"val\": {}, \"test\": {}, \"shuffle\": {}}\n",
    "roc_pr_dict[\"train\"][\"score\"] = train_preds\n",
    "roc_pr_dict[\"train\"][\"label\"] = train_trues\n",
    "roc_pr_dict[\"val\"][\"score\"] = val_preds\n",
    "roc_pr_dict[\"val\"][\"label\"] = val_trues\n",
    "roc_pr_dict[\"test\"][\"score\"] = test_preds\n",
    "roc_pr_dict[\"test\"][\"label\"] = test_trues\n",
    "roc_pr_dict[\"shuffle\"][\"score\"] = np.array(roc_pr_dict[\"train\"][\"score\"], copy=True)\n",
    "roc_pr_dict[\"shuffle\"][\"label\"] = shuffle_label(np.array(train_trues, copy=True))"
   ]
  },
  {
   "cell_type": "code",
   "execution_count": null,
   "metadata": {},
   "outputs": [],
   "source": [
    "for sets in [\"train\", \"val\", \"test\", \"shuffle\"]:\n",
    "    roc_pr_dict[sets][\"roc_pr\"] = calculate_roc_pr(roc_pr_dict[sets][\"score\"], roc_pr_dict[sets][\"label\"])"
   ]
  },
  {
   "cell_type": "code",
   "execution_count": null,
   "metadata": {},
   "outputs": [],
   "source": [
    "roc_pr_dict[\"train\"][\"roc_pr\"].T[0]"
   ]
  },
  {
   "cell_type": "code",
   "execution_count": null,
   "metadata": {},
   "outputs": [],
   "source": [
    "roc_pr_dict[\"val\"][\"roc_pr\"].T[0]"
   ]
  },
  {
   "cell_type": "code",
   "execution_count": null,
   "metadata": {},
   "outputs": [],
   "source": [
    "roc_pr_dict[\"test\"][\"roc_pr\"].T[0]"
   ]
  },
  {
   "cell_type": "code",
   "execution_count": null,
   "metadata": {
    "execution": {
     "iopub.execute_input": "2023-02-01T20:37:55.164406Z",
     "iopub.status.busy": "2023-02-01T20:37:55.164079Z",
     "iopub.status.idle": "2023-02-01T20:38:01.379175Z",
     "shell.execute_reply": "2023-02-01T20:38:01.378745Z",
     "shell.execute_reply.started": "2023-02-01T20:37:55.164388Z"
    },
    "tags": []
   },
   "outputs": [],
   "source": [
    "fig = plt.figure(figsize=(25, 10))\n",
    "ax = fig.add_subplot(2, 1, 1)\n",
    "ax.set_ylabel('auROC')\n",
    "ax.scatter(list(range(37)), roc_pr_dict[\"train\"][\"roc_pr\"].T[0], color='red', label='TRAIN')\n",
    "ax.scatter(list(range(37)), roc_pr_dict[\"val\"][\"roc_pr\"].T[0], color='orange', label='VAL')\n",
    "ax.scatter(list(range(37)), roc_pr_dict[\"test\"][\"roc_pr\"].T[0], color='blue', label='TEST')\n",
    "ax.scatter(list(range(37)), roc_pr_dict[\"shuffle\"][\"roc_pr\"].T[0], color='gray', label='SHUFFLED')\n",
    "ax.set_ylim([0, 1])\n",
    "_ = plt.xticks(range(37),range(1,38))\n",
    "ax.legend()\n",
    "\n",
    "ax = fig.add_subplot(2, 1, 2)\n",
    "ax.set_ylabel('auPR')\n",
    "ax.scatter(list(range(37)), roc_pr_dict[\"train\"][\"roc_pr\"].T[1], color='red', label='TRAIN')\n",
    "ax.scatter(list(range(37)), roc_pr_dict[\"test\"][\"roc_pr\"].T[1], color='blue', label='TEST')\n",
    "ax.scatter(list(range(37)), roc_pr_dict[\"val\"][\"roc_pr\"].T[1], color='orange', label='VAL')\n",
    "ax.scatter(list(range(37)), roc_pr_dict[\"shuffle\"][\"roc_pr\"].T[1], color='gray', label='SHUFFLED')\n",
    "ax.set_ylim([0, 1])\n",
    "_ = plt.xticks(range(37),range(1,38))"
   ]
  },
  {
   "cell_type": "code",
   "execution_count": null,
   "metadata": {},
   "outputs": [],
   "source": [
    "evaluate_model(train_trues, train_preds)"
   ]
  },
  {
   "cell_type": "code",
   "execution_count": null,
   "metadata": {},
   "outputs": [],
   "source": [
    "evaluate_model(val_trues, val_preds)"
   ]
  },
  {
   "cell_type": "code",
   "execution_count": null,
   "metadata": {},
   "outputs": [],
   "source": [
    "evaluate_model(test_trues, test_preds)"
   ]
  },
  {
   "attachments": {},
   "cell_type": "markdown",
   "metadata": {},
   "source": [
    "# DONE!"
   ]
  },
  {
   "attachments": {},
   "cell_type": "markdown",
   "metadata": {},
   "source": [
    "---"
   ]
  }
 ],
 "metadata": {
  "kernelspec": {
   "display_name": "Python 3.9 ml4gland",
   "language": "python",
   "name": "ml4gland"
  },
  "language_info": {
   "codemirror_mode": {
    "name": "ipython",
    "version": 3
   },
   "file_extension": ".py",
   "mimetype": "text/x-python",
   "name": "python",
   "nbconvert_exporter": "python",
   "pygments_lexer": "ipython3",
   "version": "3.9.16"
  }
 },
 "nbformat": 4,
 "nbformat_minor": 4
}
