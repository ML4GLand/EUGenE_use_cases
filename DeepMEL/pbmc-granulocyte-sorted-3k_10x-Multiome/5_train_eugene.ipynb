{
 "cells": [
  {
   "attachments": {},
   "cell_type": "markdown",
   "metadata": {},
   "source": [
    "# Train DeepMEL model using EUGENe on `pbmc-granulocyte-sorted-3k_10x-Multiome`\n",
    "Adam Klie (last updated: *09/20/2023*)\n",
    "***\n",
    "This notebook shows how to train a DeepMEL model using EUGENe on the `pbmc-granulocyte-sorted-3k_10x-Multiome` dataset."
   ]
  },
  {
   "attachments": {},
   "cell_type": "markdown",
   "metadata": {},
   "source": [
    "# Set-up"
   ]
  },
  {
   "cell_type": "code",
   "execution_count": null,
   "metadata": {},
   "outputs": [],
   "source": [
    "import os\n",
    "import sys\n",
    "import torch\n",
    "import seqdata as sd\n",
    "import seqpro as sp\n",
    "from eugene import models\n",
    "from eugene.models.zoo import DeepMEL\n",
    "from eugene import train\n",
    "from eugene.models.base._metrics import calculate_metric"
   ]
  },
  {
   "cell_type": "code",
   "execution_count": null,
   "metadata": {},
   "outputs": [],
   "source": [
    "# Set-up the paths to data (TODO: change to your own paths)\n",
    "dataset_name = \"pbmc-granulocyte-sorted-3k_10x-Multiome\"\n",
    "input_dir = '/cellar/users/aklie/projects/ML4GLand/use_cases/scBasset/pbmc-granulocyte-sorted-3k_10x-Multiome/processed'"
   ]
  },
  {
   "attachments": {},
   "cell_type": "markdown",
   "metadata": {},
   "source": [
    "# Load data"
   ]
  },
  {
   "cell_type": "code",
   "execution_count": null,
   "metadata": {},
   "outputs": [],
   "source": [
    "# Load the SeqData\n",
    "sdata = sd.open_zarr(os.path.join(input_dir, f\"{dataset_name}.train.zarr\"))"
   ]
  },
  {
   "cell_type": "code",
   "execution_count": null,
   "metadata": {},
   "outputs": [],
   "source": [
    "# Rename _topics dim to _targets\n",
    "sdata = sdata.rename_vars({\"ohe_seqs\": \"ohe_seq\", \"topics\": \"target\"})\n",
    "sdata = sdata.rename_dims({\"_topic\": \"_targets\"})\n",
    "n_topics = sdata.dims[\"_targets\"]\n",
    "sdata[[\"ohe_seq\", \"target\"]].load()"
   ]
  },
  {
   "cell_type": "code",
   "execution_count": null,
   "metadata": {},
   "outputs": [],
   "source": [
    "# # Instantiate the architecture\n",
    "arch = DeepMEL(\n",
    "    input_len=500, \n",
    "    output_dim=n_topics,\n",
    "    conv_kwargs={\n",
    "        \"conv_channels\": [1024],  \n",
    "    },\n",
    ")"
   ]
  },
  {
   "cell_type": "code",
   "execution_count": null,
   "metadata": {},
   "outputs": [],
   "source": [
    "# Create the trainable\n",
    "model = models.SequenceModule(\n",
    "    arch=arch,\n",
    "    task=\"multilabel_classification\",\n",
    "    loss_fxn=\"bce\",\n",
    "    optimizer=\"adam\",\n",
    "    metric_kwargs={\n",
    "        \"task\": \"multilabel\",\n",
    "        \"num_labels\": n_topics\n",
    "    }\n",
    ")"
   ]
  },
  {
   "cell_type": "code",
   "execution_count": null,
   "metadata": {},
   "outputs": [],
   "source": [
    "# Initialize the weights\n",
    "models.init_weights(model)"
   ]
  },
  {
   "cell_type": "code",
   "execution_count": null,
   "metadata": {},
   "outputs": [],
   "source": [
    "# Grab only the training data and validation data\n",
    "train_sdata = sdata.sel(_sequence=(sdata[\"train_val\"] == True).compute())  # noqa\n",
    "val_sdata = sdata.sel(_sequence=(sdata[\"train_val\"] == False).compute())  # noqa"
   ]
  },
  {
   "cell_type": "code",
   "execution_count": null,
   "metadata": {},
   "outputs": [],
   "source": [
    "# Build the dataloaders\n",
    "train_dataloader = sd.get_torch_dataloader(\n",
    "    train_sdata,\n",
    "    sample_dims=[\"_sequence\"],\n",
    "    variables=[\"ohe_seq\", \"target\"],\n",
    "    batch_size=128,\n",
    "    num_workers=4,\n",
    "    prefetch_factor=2,\n",
    "    transforms={\n",
    "        \"ohe_seq\": lambda x: torch.tensor(x, dtype=torch.float32).permute(0, 2, 1),\n",
    "        \"target\": lambda x: torch.tensor(x, dtype=torch.float32)\n",
    "    },\n",
    "    shuffle=True,\n",
    "    drop_last=True\n",
    ")\n",
    "val_dataloader = sd.get_torch_dataloader(\n",
    "    val_sdata,\n",
    "    sample_dims=[\"_sequence\"],\n",
    "    variables=[\"ohe_seq\", \"target\"],\n",
    "    batch_size=128,\n",
    "    num_workers=4,\n",
    "    prefetch_factor=2,\n",
    "    transforms={\n",
    "        \"ohe_seq\": lambda x: torch.tensor(x, dtype=torch.float32).permute(0, 2, 1),\n",
    "        \"target\": lambda x: torch.tensor(x, dtype=torch.long)\n",
    "    },\n",
    "    shuffle=False,\n",
    "    drop_last=False\n",
    ")"
   ]
  },
  {
   "cell_type": "code",
   "execution_count": null,
   "metadata": {},
   "outputs": [],
   "source": [
    "# Grab a batch\n",
    "batch = next(iter(train_dataloader))"
   ]
  },
  {
   "cell_type": "code",
   "execution_count": null,
   "metadata": {},
   "outputs": [],
   "source": [
    "# Quick test\n",
    "calculate_metric(model.train_metric, \"auroc\", model.metric_kwargs, model(batch[\"ohe_seq\"]), batch[\"target\"])"
   ]
  },
  {
   "cell_type": "code",
   "execution_count": null,
   "metadata": {},
   "outputs": [],
   "source": [
    "# Train the model\n",
    "train.fit(\n",
    "    model=model,\n",
    "    train_dataloader=train_dataloader,\n",
    "    val_dataloader=val_dataloader,\n",
    "    gpus=1,\n",
    "    epochs=25,\n",
    "    log_dir=os.path.join(input_dir, dataset_name),\n",
    "    name=f\"{dataset_name}.DeepMEL.revision\",\n",
    "    version=\"v0\"\n",
    ")"
   ]
  },
  {
   "attachments": {},
   "cell_type": "markdown",
   "metadata": {},
   "source": [
    "# DONE!"
   ]
  },
  {
   "attachments": {},
   "cell_type": "markdown",
   "metadata": {},
   "source": [
    "---"
   ]
  }
 ],
 "metadata": {
  "kernelspec": {
   "display_name": "Python 3.9 ml4gland",
   "language": "python",
   "name": "ml4gland"
  },
  "language_info": {
   "codemirror_mode": {
    "name": "ipython",
    "version": 3
   },
   "file_extension": ".py",
   "mimetype": "text/x-python",
   "name": "python",
   "nbconvert_exporter": "python",
   "pygments_lexer": "ipython3",
   "version": "3.9.16"
  },
  "orig_nbformat": 4
 },
 "nbformat": 4,
 "nbformat_minor": 2
}
