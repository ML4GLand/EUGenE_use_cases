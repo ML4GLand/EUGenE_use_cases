{
 "cells": [
  {
   "attachments": {},
   "cell_type": "markdown",
   "metadata": {},
   "source": [
    "# Installation and downloads to work with deepMEL\n",
    "**Authorship:**\n",
    "Adam Klie (last updated: *09/21/2023*)\n",
    "***\n",
    "**Description:**\n",
    "Set-up computational environments and data for working with scBasset models from multiple sources.\n",
    "- cisTopic\n",
    "- EUGENe\n",
    "- Kipoi\n",
    "***"
   ]
  },
  {
   "attachments": {},
   "cell_type": "markdown",
   "metadata": {},
   "source": [
    "# Setting up your computational environment"
   ]
  },
  {
   "attachments": {},
   "cell_type": "markdown",
   "metadata": {},
   "source": [
    "```bash\n",
    "# Create the base env\n",
    "conda create --name scenicplus python=3.8\n",
    "conda activate scenicplus\n",
    "\n",
    "# Install scenicplus\n",
    "cd opt\n",
    "git clone https://github.com/aertslab/scenicplus\n",
    "cd scenicplus\n",
    "pip install -e\n",
    "\n",
    "# Install missing dependencies\n",
    "pip install pyfaidx\n",
    "\n",
    "# Get a kernel going!\n",
    "python -m ipykernel install --user --name scenicplus --display-name \"Python 3.8 scenicplus\"\n",
    "```"
   ]
  },
  {
   "attachments": {},
   "cell_type": "markdown",
   "metadata": {},
   "source": []
  }
 ],
 "metadata": {
  "language_info": {
   "name": "python"
  },
  "orig_nbformat": 4
 },
 "nbformat": 4,
 "nbformat_minor": 2
}
