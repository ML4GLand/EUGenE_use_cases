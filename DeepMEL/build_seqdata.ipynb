{
 "cells": [
  {
   "attachments": {},
   "cell_type": "markdown",
   "metadata": {},
   "source": [
    "# Build a SeqData object from a pycisTopic run"
   ]
  },
  {
   "cell_type": "code",
   "execution_count": 20,
   "metadata": {
    "vscode": {
     "languageId": "python"
    }
   },
   "outputs": [],
   "source": [
    "import os\n",
    "import numpy as np\n",
    "import pandas as pd\n",
    "import seqdata as sd\n",
    "\n",
    "from eugene import preprocess as pp"
   ]
  },
  {
   "cell_type": "code",
   "execution_count": 40,
   "metadata": {
    "vscode": {
     "languageId": "python"
    }
   },
   "outputs": [],
   "source": [
    "dataset_name = \"multiome_cells_all_peaks\"\n",
    "data_dir = f\"/cellar/users/aklie/data/ml4gland/collabs/er_stress_regulation/{dataset_name}\"\n",
    "output_dir = f\"/cellar/users/aklie/data/ml4gland/collabs/er_stress_regulation/{dataset_name}\""
   ]
  },
  {
   "cell_type": "code",
   "execution_count": 41,
   "metadata": {
    "vscode": {
     "languageId": "python"
    }
   },
   "outputs": [],
   "source": [
    "targets = np.load(os.path.join(output_dir, dataset_name + \"_labels.npy\"))\n",
    "names = np.load(os.path.join(output_dir, dataset_name + \"_regions.npy\"), allow_pickle=True)\n",
    "seqs = np.load(os.path.join(output_dir, dataset_name + \"_seqs.npy\"), allow_pickle=True)"
   ]
  },
  {
   "cell_type": "code",
   "execution_count": 42,
   "metadata": {
    "vscode": {
     "languageId": "python"
    }
   },
   "outputs": [],
   "source": [
    "topic_names = [f\"Topic{i+1}\" for i in range(targets.shape[1])]\n",
    "topic_df = pd.DataFrame(data=targets, index=names, columns=topic_names)"
   ]
  },
  {
   "cell_type": "code",
   "execution_count": 43,
   "metadata": {
    "vscode": {
     "languageId": "python"
    }
   },
   "outputs": [],
   "source": [
    "sdata = sd.SeqData(\n",
    "    seqs=seqs,\n",
    "    names=names,\n",
    "    seqs_annot=topic_df\n",
    ")"
   ]
  },
  {
   "cell_type": "code",
   "execution_count": 44,
   "metadata": {
    "vscode": {
     "languageId": "python"
    }
   },
   "outputs": [
    {
     "name": "stdout",
     "output_type": "stream",
     "text": [
      "SeqData object modified:\n",
      "\tseqs: ['NNNNNNNNNNNNNNNNNNNNNNNNNNNNNNNNNNNNNNNNNNNNNNNNNNNNNNNNNNNNNNNNNNNNNNNNNNNNNNNNNNNNNNNNNNNNNNNNNNNNNNNNNNNNNNNNNNNNNNNNNNNNNNNNNNNNNNNNNNNNNNNNNNNNtaaccctaaccctaaccctaaccctaaccctaaccctaaccctaaccctaaccctaaccctaaccctaaccctaaccctaaccctaaccctaaccctaaccctaacccaaccctaaccctaaccctaaccctaaccctaaccctaacccctaaccctaaccctaaccctaaccctaacctaaccctaaccctaaccctaaccctaaccctaaccctaaccctaaccctaacccctaaccctaaccctaaaccctaaaccctaaccctaaccctaaccctaaccctaaccccaaccccaaccccaaccccaaccccaaccccaaccctaacccctaaccctaaccctaaccct'\n",
      " 'taaatccgaacctgaacccgaaccctaaccataacccaaacccgaacccaaaccctaacccctaacccctaaccctaaccctaccctaacccaaccctaacccaaccctaactctagccctaaccctaaccctaaccctaaccctaaccctaaccctaaccctaaccctaacaccctaaccctaaccctaaccctaaccctaaccctaaccctaacaaccctaaccctaaccctaacaaccctaaccctaaccctaaccctaaccctaaccctaaccctaaaccctaaaccctaaccctaaccctaaccctaaccctaacccctaacccctaaccctaaccctaaccctaaccctaaccctaaccctcgcggtaccctcagccggcccgcccgcccgggtctgacctgaggagaactgtgctccgccttcagagtaccaccgaaatctgtgcagaggacaacgcagctccgccctcgcggtactctccgggtctgtgctg'\n",
      " 'aggcgcagagaggcgcgccgcgccggcgcaggcgcagagaggcgcgcctcgccggcgcaggcgcagagaggcgcgccgggccggcgcaggcgcagagaggcgcgccgcgccggcgcaggcgcagagaggcgcgccgcgccggcgcaggcgcagagacacatgctagcgcgtccaggggaggaggcgtggcacaggcgcagagacacatgctagcgcgcccaggggaggaggcgtggcgcaggcgcagagaggcgcgccgtgctgccgcaggcgcagagacacatgctagcgcgtccagggggtggaggcgtggcgcaggcgcagagacgcacgcctacgggcggggttggggggggcgtgtgttacaggagcaaagtcgcacggcgccgggctgggggcgggggggggggggggggcgccgtgcacgcgcagaaactcacgtcacggcggcgcggcgcagagacgggtggaacctcagtaatccgaaacgccgggatcga'\n",
      " ...\n",
      " 'taagcaggagagacggGGCAAGCTTGGCTCTTCATTTATGCCGCCTACTCATTGCTGGTAGATTCTTTATCTAGCCTGCATCCTCTCATTTTCCTGGATCCCTATACGGCATTTGACGCTGTTTACCACAAGAGCTGTCGAACGAACGTGAAACACTCAGTGATACTCCAACCGGAACTACTACTCCCAGAATGCAGTACGGCTCCTGGGAAGTGCGGGGGGCTGGGAACGCAGCAGGCCTAGCCGTGTCGCCTGCTGCCATTGGAGGAGCGCTCCCACTCCCAAGAGGCCACGCGTAGACGGGGCGCTTCATGCGGAAGTCAGCGGCGTCCGGTCCCAGCCTCCTCTGGGAGCGGGCAGTTGGCGACCCTGCACTGACCCGCGTCCCTCCGTCCCGAGCCCGCGCGCCCTCAGAGGGTGCCCGGACAGGTAAATGGAGTGGGGTGCGCCTGCGGGAGGCGGGGAGAGAACTGCGGAGGGAGGGCGGAGGTGTCGATGGA'\n",
      " 'taatgcacacatgatacccaaaatataacacccacattcctcatgTGCttagggtgagggtgagggttggggttggggttgcggttggggttggggttggggttggggttggggttagggtttgggtttagggttggggtaggggtaggggtggggttggggttggggttggggttggggttaggggttggggttggggttggggttggggttggggttagggttaagggttagggttaggggttaggggttagggttggggttggggttagggttagggtagggttagggttagggttaggggttaggggttagggtagggttagggtgagggtgagggtgagggtgagggtgagggtgagggttagggttagggttagggttagggttaggggttaggggttagggttagggttaggggttaggggttagggttagggttaggggttagggttagggttaggggttaggggttaggggttaggggttagggtagggta'\n",
      " 'tagggttagggttagggttagggttagggttagggttagggttagggttagggttagggttagggttagggttagggttagggttagggttagggttagggttagggttagggttagggttagggttagggttagggttagggttagggttagggttagggttagggttagggttagggttagggttagggttagggttagggttagggttagggttagggttagggttagggttagggtgagggttagggttagggttagggttagggttagggttagggttagggttagggttagggttagggttagggttagggttagggttagggttagggttagggttagggttagggttagggttaggggttaggggttaggggttaggggttaggggttaggggttagggttagggttagggttagggtgtggtgtgtgggtgtgtgtgggtgtggtgtgtgtgggtgtggtgtgtgggtgtgggtgtgggtgtgggtgtgtg'] -> 149372 seqs added\n"
     ]
    }
   ],
   "source": [
    "pp.sanitize_seqs_sdata(sdata)"
   ]
  },
  {
   "cell_type": "code",
   "execution_count": 45,
   "metadata": {
    "vscode": {
     "languageId": "python"
    }
   },
   "outputs": [],
   "source": [
    "# Get boolean mask for any seqs with N\n",
    "mask = np.array([False if \"N\" in seq else True for seq in sdata.seqs])\n",
    "sdata = sdata[mask]"
   ]
  },
  {
   "cell_type": "code",
   "execution_count": 46,
   "metadata": {
    "vscode": {
     "languageId": "python"
    }
   },
   "outputs": [
    {
     "data": {
      "text/plain": [
       "149347"
      ]
     },
     "execution_count": 46,
     "metadata": {},
     "output_type": "execute_result"
    }
   ],
   "source": [
    "sdata.n_obs"
   ]
  },
  {
   "cell_type": "code",
   "execution_count": 47,
   "metadata": {
    "vscode": {
     "languageId": "python"
    }
   },
   "outputs": [
    {
     "name": "stdout",
     "output_type": "stream",
     "text": [
      "SeqData object modified:\n",
      "    seqs_annot:\n",
      "        + chr, end, start\n"
     ]
    }
   ],
   "source": [
    "pp.add_ranges_sdata(sdata)"
   ]
  },
  {
   "cell_type": "code",
   "execution_count": 48,
   "metadata": {
    "vscode": {
     "languageId": "python"
    }
   },
   "outputs": [
    {
     "data": {
      "application/vnd.jupyter.widget-view+json": {
       "model_id": "752ed307b3c64269a1621e4b40a483c8",
       "version_major": 2,
       "version_minor": 0
      },
      "text/plain": [
       "HBox(children=(FloatProgress(value=0.0, description='One-hot encoding sequences', max=149347.0, style=Progress…"
      ]
     },
     "metadata": {},
     "output_type": "display_data"
    },
    {
     "name": "stdout",
     "output_type": "stream",
     "text": [
      "\n",
      "SeqData object modified:\n",
      "\tohe_seqs: None -> 149347 ohe_seqs added\n"
     ]
    }
   ],
   "source": [
    "pp.ohe_seqs_sdata(sdata)"
   ]
  },
  {
   "cell_type": "code",
   "execution_count": 30,
   "metadata": {
    "vscode": {
     "languageId": "python"
    }
   },
   "outputs": [
    {
     "name": "stdout",
     "output_type": "stream",
     "text": [
      "SeqData object modified:\n",
      "    seqs_annot:\n",
      "        + train_test\n"
     ]
    }
   ],
   "source": [
    "pp.train_test_split_sdata(sdata, train_key=\"train_test\", chr=\"chr2\")"
   ]
  },
  {
   "cell_type": "code",
   "execution_count": 31,
   "metadata": {
    "vscode": {
     "languageId": "python"
    }
   },
   "outputs": [
    {
     "data": {
      "text/plain": [
       "(170664, 14888)"
      ]
     },
     "execution_count": 31,
     "metadata": {},
     "output_type": "execute_result"
    }
   ],
   "source": [
    "train_sdata = sdata[sdata[\"train_test\"]]\n",
    "test_sdata = sdata[~sdata[\"train_test\"]]\n",
    "train_sdata.n_obs, test_sdata.n_obs"
   ]
  },
  {
   "cell_type": "code",
   "execution_count": 32,
   "metadata": {
    "vscode": {
     "languageId": "python"
    }
   },
   "outputs": [
    {
     "name": "stdout",
     "output_type": "stream",
     "text": [
      "SeqData object modified:\n",
      "    seqs_annot:\n",
      "        + train_val\n"
     ]
    }
   ],
   "source": [
    "pp.train_test_split_sdata(train_sdata, train_key=\"train_val\", chr=\"chr3\")"
   ]
  },
  {
   "cell_type": "code",
   "execution_count": 33,
   "metadata": {
    "vscode": {
     "languageId": "python"
    }
   },
   "outputs": [],
   "source": [
    "train_sdata.write_h5sd(os.path.join(output_dir, dataset_name + \"_train.h5sd\"))\n",
    "test_sdata.write_h5sd(os.path.join(output_dir, dataset_name + \"_test.h5sd\"))"
   ]
  },
  {
   "cell_type": "code",
   "execution_count": null,
   "metadata": {
    "vscode": {
     "languageId": "python"
    }
   },
   "outputs": [],
   "source": []
  },
  {
   "attachments": {},
   "cell_type": "markdown",
   "metadata": {},
   "source": [
    "## Script"
   ]
  },
  {
   "cell_type": "code",
   "execution_count": 57,
   "metadata": {
    "vscode": {
     "languageId": "python"
    }
   },
   "outputs": [
    {
     "name": "stdout",
     "output_type": "stream",
     "text": [
      "python /cellar/users/aklie/projects/ML4GLand/collabs/er_stress_regulation/scripts/build_seqdata.py --dataset_name beta_cells_all_peaks --data_dir /cellar/users/aklie/data/ml4gland/collabs/er_stress_regulation/beta_cells_all_peaks --output_dir /cellar/users/aklie/data/ml4gland/collabs/er_stress_regulation/beta_cells_all_peaks\n",
      "Loading targets, names, and seqs from npy files\n",
      "Preprocessing\n",
      "SeqData object modified:\n",
      "\tseqs: ['NNNNNNNNNNNNNNNNNNNNNNNNNNNNNNNNNNNNNNNNNNNNNNNNNNNNNNNNNNNNNNNNNNNNNNNNNNNNNNNNNNNNNNNNNNNNNNNNNNNNNNNNNNNNNNNNNNNNNNNNNNNNNNNNNNNNNNNNNNNNNNNNNNNNtaaccctaaccctaaccctaaccctaaccctaaccctaaccctaaccctaaccctaaccctaaccctaaccctaaccctaaccctaaccctaaccctaaccctaacccaaccctaaccctaaccctaaccctaaccctaaccctaacccctaaccctaaccctaaccctaaccctaacctaaccctaaccctaaccctaaccctaaccctaaccctaaccctaaccctaacccctaaccctaaccctaaaccctaaaccctaaccctaaccctaaccctaaccctaaccccaaccccaaccccaaccccaaccccaaccccaaccctaacccctaaccctaaccctaaccct'\n",
      " 'taaatccgaacctgaacccgaaccctaaccataacccaaacccgaacccaaaccctaacccctaacccctaaccctaaccctaccctaacccaaccctaacccaaccctaactctagccctaaccctaaccctaaccctaaccctaaccctaaccctaaccctaaccctaacaccctaaccctaaccctaaccctaaccctaaccctaaccctaacaaccctaaccctaaccctaacaaccctaaccctaaccctaaccctaaccctaaccctaaccctaaaccctaaaccctaaccctaaccctaaccctaaccctaacccctaacccctaaccctaaccctaaccctaaccctaaccctaaccctcgcggtaccctcagccggcccgcccgcccgggtctgacctgaggagaactgtgctccgccttcagagtaccaccgaaatctgtgcagaggacaacgcagctccgccctcgcggtactctccgggtctgtgctg'\n",
      " 'aggcgcagagaggcgcgccgcgccggcgcaggcgcagagaggcgcgcctcgccggcgcaggcgcagagaggcgcgccgggccggcgcaggcgcagagaggcgcgccgcgccggcgcaggcgcagagaggcgcgccgcgccggcgcaggcgcagagacacatgctagcgcgtccaggggaggaggcgtggcacaggcgcagagacacatgctagcgcgcccaggggaggaggcgtggcgcaggcgcagagaggcgcgccgtgctgccgcaggcgcagagacacatgctagcgcgtccagggggtggaggcgtggcgcaggcgcagagacgcacgcctacgggcggggttggggggggcgtgtgttacaggagcaaagtcgcacggcgccgggctgggggcgggggggggggggggggcgccgtgcacgcgcagaaactcacgtcacggcggcgcggcgcagagacgggtggaacctcagtaatccgaaacgccgggatcga'\n",
      " ...\n",
      " 'taagcaggagagacggGGCAAGCTTGGCTCTTCATTTATGCCGCCTACTCATTGCTGGTAGATTCTTTATCTAGCCTGCATCCTCTCATTTTCCTGGATCCCTATACGGCATTTGACGCTGTTTACCACAAGAGCTGTCGAACGAACGTGAAACACTCAGTGATACTCCAACCGGAACTACTACTCCCAGAATGCAGTACGGCTCCTGGGAAGTGCGGGGGGCTGGGAACGCAGCAGGCCTAGCCGTGTCGCCTGCTGCCATTGGAGGAGCGCTCCCACTCCCAAGAGGCCACGCGTAGACGGGGCGCTTCATGCGGAAGTCAGCGGCGTCCGGTCCCAGCCTCCTCTGGGAGCGGGCAGTTGGCGACCCTGCACTGACCCGCGTCCCTCCGTCCCGAGCCCGCGCGCCCTCAGAGGGTGCCCGGACAGGTAAATGGAGTGGGGTGCGCCTGCGGGAGGCGGGGAGAGAACTGCGGAGGGAGGGCGGAGGTGTCGATGGA'\n",
      " 'taatgcacacatgatacccaaaatataacacccacattcctcatgTGCttagggtgagggtgagggttggggttggggttgcggttggggttggggttggggttggggttggggttagggtttgggtttagggttggggtaggggtaggggtggggttggggttggggttggggttggggttaggggttggggttggggttggggttggggttggggttagggttaagggttagggttaggggttaggggttagggttggggttggggttagggttagggtagggttagggttagggttaggggttaggggttagggtagggttagggtgagggtgagggtgagggtgagggtgagggtgagggttagggttagggttagggttagggttaggggttaggggttagggttagggttaggggttaggggttagggttagggttaggggttagggttagggttaggggttaggggttaggggttaggggttagggtagggta'\n",
      " 'tagggttagggttagggttagggttagggttagggttagggttagggttagggttagggttagggttagggttagggttagggttagggttagggttagggttagggttagggttagggttagggttagggttagggttagggttagggttagggttagggttagggttagggttagggttagggttagggttagggttagggttagggttagggttagggttagggttagggttagggtgagggttagggttagggttagggttagggttagggttagggttagggttagggttagggttagggttagggttagggttagggttagggttagggttagggttagggttagggttagggttaggggttaggggttaggggttaggggttaggggttaggggttagggttagggttagggttagggtgtggtgtgtgggtgtgtgtgggtgtggtgtgtgtgggtgtggtgtgtgggtgtgggtgtgggtgtgggtgtgtg'] -> 134655 seqs added\n",
      "Removed 23 sequences with N\n",
      "SeqData object modified:\n",
      "    seqs_annot:\n",
      "        + end, start, chr\n",
      "SeqData object modified:\n",
      "\tohe_seqs: None -> 134632 ohe_seqs added\n",
      "SeqData object modified:\n",
      "    seqs_annot:\n",
      "        + train_test\n",
      "Split into train and test\n",
      "Train: 124605\n",
      "Test: 10027\n",
      "SeqData object modified:\n",
      "    seqs_annot:\n",
      "        + train_val\n"
     ]
    },
    {
     "name": "stderr",
     "output_type": "stream",
     "text": [
      "One-hot encoding sequences: 100%|██████████| 134632/134632 [00:21<00:00, 6399.67it/s]\n"
     ]
    }
   ],
   "source": [
    "%%bash\n",
    "source activate eugene_dev\n",
    "script=/cellar/users/aklie/projects/ML4GLand/collabs/er_stress_regulation/scripts/build_seqdata.py\n",
    "dataset_name=beta_cells_all_peaks\n",
    "data_dir=/cellar/users/aklie/data/ml4gland/collabs/er_stress_regulation/$dataset_name\n",
    "output_dir=/cellar/users/aklie/data/ml4gland/collabs/er_stress_regulation/$dataset_name\n",
    "cmd=\"python $script \\\n",
    "    --dataset_name $dataset_name \\\n",
    "    --data_dir $data_dir \\\n",
    "    --output_dir $output_dir\"\n",
    "echo $cmd\n",
    "$cmd"
   ]
  },
  {
   "attachments": {},
   "cell_type": "markdown",
   "metadata": {},
   "source": [
    "---"
   ]
  },
  {
   "attachments": {},
   "cell_type": "markdown",
   "metadata": {},
   "source": [
    "# Scratch"
   ]
  }
 ],
 "metadata": {
  "kernelspec": {
   "display_name": "Python 3.7 eugene_dev",
   "language": "python",
   "name": "eugene_dev"
  },
  "orig_nbformat": 4
 },
 "nbformat": 4,
 "nbformat_minor": 2
}
