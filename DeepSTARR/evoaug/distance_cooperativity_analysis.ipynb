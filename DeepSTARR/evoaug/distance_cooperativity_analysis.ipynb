{
 "cells": [
  {
   "attachments": {},
   "cell_type": "markdown",
   "metadata": {},
   "source": [
    "# Using EvoAug DeepSTARR model to test for distance dependent cooperativity between motifs\n",
    "**Authorship:**\n",
    "Adam Klie (last updated: *07/19/2023*)\n",
    "***\n",
    "**Description:**\n",
    "This notebook uses a pretrained DeepSTARR model to show how to perform a distance dependent cooperativity analysis using EUGENe. We recapitulate panel b) of Figure 5 from the DeepSTARR paper: https://www.nature.com/articles/s41588-022-01048-5\n",
    "***"
   ]
  },
  {
   "cell_type": "code",
   "execution_count": null,
   "metadata": {},
   "outputs": [],
   "source": [
    "# Imports\n",
    "import os\n",
    "import torch\n",
    "import numpy as np\n",
    "from evoaug import evoaug\n",
    "from evoaug_analysis import utils, model_zoo"
   ]
  },
  {
   "attachments": {},
   "cell_type": "markdown",
   "metadata": {},
   "source": [
    "# Load the model\n",
    "The DeepSTARR model take ins length 249 nt sequences and the output is 2 scalar values representing the activity of developmental enhancers and housekeeping enhancers measured experimentally using STARR-seq."
   ]
  },
  {
   "cell_type": "code",
   "execution_count": null,
   "metadata": {},
   "outputs": [],
   "source": [
    "# Load the DeepSTARR model that was trained in the evo_aug paper\n",
    "ckpt_path = \"/cellar/users/aklie/projects/ML4GLand/models/deAlmeida22/evoaug/attr_analysis/DeepSTARR_baseline_1.ckpt\"\n",
    "deepstarr = model_zoo.DeepSTARR(2)\n",
    "loss = torch.nn.MSELoss()\n",
    "optimizer_dict = utils.configure_optimizer(deepstarr, lr=0.001, weight_decay=1e-6, decay_factor=0.1, patience=5, monitor='val_loss')\n",
    "standard_cnn = evoaug.RobustModel(\n",
    "    deepstarr, \n",
    "    criterion=loss, \n",
    "    optimizer=optimizer_dict, \n",
    "    augment_list=[]\n",
    ")\n",
    "# load model weights\n",
    "standard_cnn = evoaug.load_model_from_checkpoint(standard_cnn, ckpt_path).eval()"
   ]
  },
  {
   "attachments": {},
   "cell_type": "markdown",
   "metadata": {},
   "source": [
    "# Load motifs: ETS, SREBP, GATA, AP-1 and Dref\n",
    "See Supplementary table 10 of the DeepSTARR paper for the motif IDs (parially listed below). We will perform a distance-cooperativity analysis the four combinations of motifs listed in the paper:\n",
    "\n",
    "1. ETS and SREBP\n",
    "2. GATA and GATA\n",
    "3. AP-1 and GATA\n",
    "4. Dref and Dref\n",
    "\n",
    "| TF motif | PWM model                                          | Collection name |\n",
    "|----------|----------------------------------------------------|-----------------|\n",
    "| AP-1     | jaspar__MA0476.1                                   | jaspar          |\n",
    "| GATA     | flyfactorsurvey__srp_SANGER_5_FBgn0003507           | flyfactorsurvey |\n",
    "| twist    | flyfactorsurvey__twi_da_SANGER_5_FBgn0000413        | flyfactorsurvey |\n",
    "| Trl      | flyfactorsurvey__Trl_FlyReg_FBgn0013263             | flyfactorsurvey |\n",
    "| SREBP    | flyfactorsurvey__HLH106_SANGER_10_FBgn0015234       | flyfactorsurvey |\n",
    "| ETS      | flyfactorsurvey__Ets97D_SANGER_10_FBgn0004510       | flyfactorsurvey |\n",
    "| Dref     | homer__AVYTATCGATAD_DREF                           | homer           |\n",
    "| Ohler1   | homer__MYGGTCACACTG_Unknown1                       | homer           |\n",
    "| Ohler6   | homer__AAAAATACCRMA_Unknown4                | homer           |"
   ]
  },
  {
   "cell_type": "code",
   "execution_count": null,
   "metadata": {},
   "outputs": [],
   "source": [
    "# We can use motifdata for the jaspar and homer motif databases\n",
    "import motifdata as md"
   ]
  },
  {
   "cell_type": "code",
   "execution_count": null,
   "metadata": {},
   "outputs": [],
   "source": [
    "# From jaspar\n",
    "ap1_motif = md.load_jaspar(motif_accs=[\"MA0476.1\"])[\"MA0476.1\"]\n",
    "ap1_consensus = ap1_motif.consensus\n",
    "\n",
    "# From flybase, had to do manual\n",
    "gata_consensus = \"TGATAAGG\"\n",
    "ets_consensus = \"ACCGGAAGT\"\n",
    "srebp_consensus = \"ATCACGCGAC\"\n",
    "\n",
    "# From homer\n",
    "dref_motif = md.read_homer(\"/cellar/users/aklie/opt/homer/motifs/insects/dref.motif\")[\"AVYTATCGATAD\"]\n",
    "dref_consensus = dref_motif.consensus\n",
    "\n",
    "# Generate a name to consensus dictionary\n",
    "name_to_consensus = {\n",
    "    \"AP-1\": ap1_consensus,\n",
    "    \"GATA\": gata_consensus,\n",
    "    \"ETS\": ets_consensus,\n",
    "    \"SREBP\": srebp_consensus,\n",
    "    \"DREF\": dref_consensus\n",
    "}\n",
    "\n",
    "# Print out the consensus sequences\n",
    "print(f\"AP-1: {ap1_consensus}\")\n",
    "print(f\"GATA: {gata_consensus}\")\n",
    "print(f\"ETS: {ets_consensus}\")\n",
    "print(f\"SREBP: {srebp_consensus}\")\n",
    "print(f\"DREF: {dref_consensus}\")"
   ]
  },
  {
   "attachments": {},
   "cell_type": "markdown",
   "metadata": {},
   "source": [
    "# Mode 1: ETS/SREBP -- synergize exclusively at close distances (<25 bp)"
   ]
  },
  {
   "cell_type": "code",
   "execution_count": null,
   "metadata": {},
   "outputs": [],
   "source": [
    "import xarray as xr\n",
    "import seqpro as sp\n",
    "from eugene import interpret\n",
    "from eugene import plot as pl"
   ]
  },
  {
   "cell_type": "code",
   "execution_count": null,
   "metadata": {},
   "outputs": [],
   "source": [
    "# Analysis params\n",
    "seq_number = 60\n",
    "seq_len = 249\n",
    "comparisons = [\n",
    "    (\"ETS\", \"SREBP\"),\n",
    "    (\"GATA\", \"GATA\"),\n",
    "    (\"AP-1\", \"GATA\"),\n",
    "    (\"DREF\", \"DREF\")\n",
    "]"
   ]
  },
  {
   "cell_type": "code",
   "execution_count": null,
   "metadata": {},
   "outputs": [],
   "source": [
    "random_backbones = sp.random_seqs((seq_number, seq_len), alphabet=sp.alphabets.DNA, seed=42)\n",
    "sdata = xr.Dataset({\"seq\": ([\"_sequence\", \"_length\"], random_backbones)})"
   ]
  },
  {
   "cell_type": "code",
   "execution_count": null,
   "metadata": {},
   "outputs": [],
   "source": [
    "for comparison in comparisons:\n",
    "    print(f\"Running {comparison}\")\n",
    "    motif_a_name, motif_b_name = comparison\n",
    "\n",
    "    # Run the GIA\n",
    "    interpret.motif_distance_dependence_gia(\n",
    "        model=standard_cnn,\n",
    "        sdata=sdata,\n",
    "        feature_A=name_to_consensus[motif_a_name],\n",
    "        feature_B=name_to_consensus[motif_b_name],\n",
    "        tile_step=1,\n",
    "        style=\"deAlmeida22\",\n",
    "        seq_var=\"seq\",\n",
    "        results_var=f\"{motif_a_name}_{motif_b_name}_cooperativity\",\n",
    "        distance_var=f\"{motif_a_name}_{motif_b_name}_distance\",\n",
    "        device=\"cuda\",\n",
    "        batch_size=128\n",
    "    )\n",
    "\n",
    "    # Plot the results\n",
    "    pl.distance_cooperativity_gia_plot(\n",
    "        sdata,\n",
    "        results_var=f\"{motif_a_name}_{motif_b_name}_cooperativity\",\n",
    "        distance_var=f\"{motif_a_name}_{motif_b_name}_distance\",\n",
    "        col_names=[\"Dev\", \"HK\"],\n",
    "        cols_to_plot=[\"Dev\"],\n",
    "        motif_a_name=motif_a_name,\n",
    "        motif_b_name=motif_b_name\n",
    "    )"
   ]
  },
  {
   "attachments": {},
   "cell_type": "markdown",
   "metadata": {},
   "source": [
    "# DONE!"
   ]
  },
  {
   "attachments": {},
   "cell_type": "markdown",
   "metadata": {},
   "source": [
    "---"
   ]
  },
  {
   "attachments": {},
   "cell_type": "markdown",
   "metadata": {},
   "source": [
    "# Scratch"
   ]
  }
 ],
 "metadata": {
  "kernelspec": {
   "display_name": "Python 3.9 ml4gland",
   "language": "python",
   "name": "ml4gland"
  },
  "orig_nbformat": 4
 },
 "nbformat": 4,
 "nbformat_minor": 2
}
