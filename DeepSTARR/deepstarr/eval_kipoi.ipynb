{
 "cells": [
  {
   "attachments": {},
   "cell_type": "markdown",
   "metadata": {},
   "source": [
    "# Kipoi DeepSTARR model evaluation\n",
    "Adam Klie (last updated: *09/20/2023*)\n",
    "***\n",
    "Notebook for evaluating DeepSTARR model on test set."
   ]
  },
  {
   "cell_type": "code",
   "execution_count": null,
   "metadata": {},
   "outputs": [],
   "source": [
    "# Load the required packages\n",
    "import os\n",
    "import sys\n",
    "import pyfaidx\n",
    "import kipoi\n",
    "import kipoiseq\n",
    "import kipoi_interpret\n",
    "\n",
    "# import the required packages\n",
    "import numpy as np\n",
    "import pandas as pd\n",
    "\n",
    "# plot the predictions in a scatter plot\n",
    "import matplotlib.pyplot as plt\n",
    "import seaborn as sns\n",
    "from scipy.stats import gaussian_kde\n",
    "\n",
    "# Add metrics to the plots\n",
    "from sklearn.metrics import r2_score\n",
    "from scipy.stats import pearsonr, spearmanr"
   ]
  },
  {
   "cell_type": "code",
   "execution_count": null,
   "metadata": {},
   "outputs": [],
   "source": [
    "# Add the path to the bin directory of the current python environment\n",
    "bin_dir = os.path.dirname(sys.executable)\n",
    "os.environ[\"PATH\"] += os.pathsep + bin_dir"
   ]
  },
  {
   "attachments": {},
   "cell_type": "markdown",
   "metadata": {},
   "source": [
    "# Load the Kipoi model"
   ]
  },
  {
   "cell_type": "code",
   "execution_count": null,
   "metadata": {},
   "outputs": [],
   "source": [
    "deepstarr = kipoi.get_model(\"DeepSTARR\")"
   ]
  },
  {
   "attachments": {},
   "cell_type": "markdown",
   "metadata": {},
   "source": [
    "# Load the test set"
   ]
  },
  {
   "cell_type": "code",
   "execution_count": null,
   "metadata": {},
   "outputs": [],
   "source": [
    "# Read sequences from a fasta file\n",
    "test_fasta = pyfaidx.Fasta(\"/cellar/users/aklie/projects/ML4GLand/use_cases/deAlmeida22/data/Sequences_Test.fa\")"
   ]
  },
  {
   "cell_type": "code",
   "execution_count": null,
   "metadata": {},
   "outputs": [],
   "source": [
    "# Get all the sequences from the fasta file\n",
    "seqs = [str(test_fasta[i]) for i in test_fasta.keys()]"
   ]
  },
  {
   "cell_type": "code",
   "execution_count": null,
   "metadata": {},
   "outputs": [],
   "source": [
    "# Ohe the sequences\n",
    "ohe_seqs = np.array([kipoiseq.transforms.functional.one_hot(seq) for seq in seqs])"
   ]
  },
  {
   "cell_type": "code",
   "execution_count": null,
   "metadata": {},
   "outputs": [],
   "source": [
    "# Grab the targets\n",
    "targets = pd.read_csv(\"/cellar/users/aklie/projects/ML4GLand/use_cases/deAlmeida22/data/Sequences_activity_Test.txt\", sep=\"\\t\")\n",
    "targets = targets[['Dev_log2_enrichment_scaled', 'Hk_log2_enrichment_scaled']]"
   ]
  },
  {
   "attachments": {},
   "cell_type": "markdown",
   "metadata": {},
   "source": [
    "# Evaluate test set predictions"
   ]
  },
  {
   "cell_type": "code",
   "execution_count": null,
   "metadata": {},
   "outputs": [],
   "source": [
    "# Make predictions\n",
    "preds = deepstarr.model.predict(\n",
    "    ohe_seqs,\n",
    "    batch_size=32\n",
    ")"
   ]
  },
  {
   "cell_type": "code",
   "execution_count": null,
   "metadata": {},
   "outputs": [],
   "source": [
    "# Add the predictions to the targets dataframe\n",
    "targets['Dev_log2_enrichment_scaled_pred'] = preds[0]\n",
    "targets['Hk_log2_enrichment_scaled_pred'] = preds[1]"
   ]
  },
  {
   "attachments": {},
   "cell_type": "markdown",
   "metadata": {},
   "source": [
    "# Plot results"
   ]
  },
  {
   "cell_type": "code",
   "execution_count": null,
   "metadata": {},
   "outputs": [],
   "source": [
    "fig, ax = plt.subplots(1, 2, figsize=(10, 5))\n",
    "\n",
    "# Get point densities\n",
    "x = targets['Dev_log2_enrichment_scaled']\n",
    "y = targets['Dev_log2_enrichment_scaled_pred']\n",
    "xy = np.vstack([x,y])\n",
    "z = gaussian_kde(xy)(xy)\n",
    "\n",
    "# Sort the points by density, so that the densest points are plotted last\n",
    "idx = z.argsort()\n",
    "x, y, z = x[idx], y[idx], z[idx]\n",
    "\n",
    "ax[0].scatter(x, y, c=z)\n",
    "\n",
    "# Get point densities\n",
    "x = targets['Hk_log2_enrichment_scaled']\n",
    "y = targets['Hk_log2_enrichment_scaled_pred']\n",
    "xy = np.vstack([x,y])\n",
    "z = gaussian_kde(xy)(xy)\n",
    "\n",
    "# Sort the points by density, so that the densest points are plotted last\n",
    "idx = z.argsort()\n",
    "x, y, z = x[idx], y[idx], z[idx]\n",
    "\n",
    "ax[1].scatter(x, y, c=z)\n",
    "\n",
    "r2_dev = r2_score(targets['Dev_log2_enrichment_scaled'], targets['Dev_log2_enrichment_scaled_pred'])\n",
    "r2_hk = r2_score(targets['Hk_log2_enrichment_scaled'], targets['Hk_log2_enrichment_scaled_pred'])\n",
    "\n",
    "pearson_dev = pearsonr(targets['Dev_log2_enrichment_scaled'], targets['Dev_log2_enrichment_scaled_pred'])\n",
    "pearson_hk = pearsonr(targets['Hk_log2_enrichment_scaled'], targets['Hk_log2_enrichment_scaled_pred'])\n",
    "\n",
    "spearman_dev = spearmanr(targets['Dev_log2_enrichment_scaled'], targets['Dev_log2_enrichment_scaled_pred'])\n",
    "spearman_hk = spearmanr(targets['Hk_log2_enrichment_scaled'], targets['Hk_log2_enrichment_scaled_pred'])\n",
    "\n",
    "ax[0].set_title(f\"Dev R2: {r2_dev:.2f}\\nPearson: {pearson_dev[0]:.2f}\\nSpearman: {spearman_dev[0]:.2f}\")\n",
    "ax[1].set_title(f\"Hk R2: {r2_hk:.2f}\\nPearson: {pearson_hk[0]:.2f}\\nSpearman: {spearman_hk[0]:.2f}\")\n",
    "\n",
    "# Add a diagonal line to the plots\n",
    "ax[0].plot(ax[0].get_xlim(), ax[0].get_ylim(), ls=\"--\", c=\".3\")\n",
    "ax[1].plot(ax[1].get_xlim(), ax[1].get_ylim(), ls=\"--\", c=\".3\")\n",
    "\n",
    "plt.tight_layout()\n",
    "plt.show()"
   ]
  },
  {
   "attachments": {},
   "cell_type": "markdown",
   "metadata": {},
   "source": [
    "# Interpretation\n",
    "Using Kipoi's attribution functionality is currently failing with this model and dataset. Seems to be due to incompatibilities with Keras:\n",
    "\n",
    "```python\n",
    "from kipoi_interpret.importance_scores.gradient import GradientXInput\n",
    "explainer = GradientXInput(deepstarr)\n",
    "val = explainer.score(ohe_seqs[:10])\n",
    "AttributeError: module 'keras.engine' has no attribute 'training_utils'\n",
    "```\n",
    "\n",
    "Although the following code seems to work\n",
    "    \n",
    "```python\n",
    "from kipoi_interpret.importance_scores.gradient import GradientXInput\n",
    "model = kipoi.get_model(\"DeepBind/Homo_sapiens/TF/D00765.001_ChIP-seq_GATA1\")\n",
    "seq = \"ATGGGCCAGCACACAGACCAGCACGTTGCCCAGGAGCTGTGGGAGGAAGATAAGAGGTATGAACATGATTAGCAAAAGGGCCTAGCTTGGACTCAGAATAA\"\n",
    "seqa = kipoiseq.transforms.functional.one_hot(seq) # one-hot-encode the sequence\n",
    "grxinp = GradientXInput(model)\n",
    "val = grxinp.score(seqa)[0]\n",
    "```\n",
    "\n",
    "This merits some more investigation"
   ]
  },
  {
   "attachments": {},
   "cell_type": "markdown",
   "metadata": {},
   "source": [
    "# DONE!"
   ]
  },
  {
   "attachments": {},
   "cell_type": "markdown",
   "metadata": {},
   "source": [
    "---"
   ]
  }
 ],
 "metadata": {
  "kernelspec": {
   "display_name": "Python 3.7 eugene_benchmarks",
   "language": "python",
   "name": "eugene_benchmarks"
  },
  "orig_nbformat": 4
 },
 "nbformat": 4,
 "nbformat_minor": 2
}
