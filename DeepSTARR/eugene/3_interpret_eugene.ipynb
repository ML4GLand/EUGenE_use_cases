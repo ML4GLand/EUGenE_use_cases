{
 "cells": [
  {
   "attachments": {},
   "cell_type": "markdown",
   "metadata": {},
   "source": [
    "# EUGENe DeepSTARR model interpretation\n",
    "Adam Klie (last updated: *09/20/2023*)\n",
    "***\n",
    "Notebook for training a DeepSTARR model with EUGENe"
   ]
  },
  {
   "attachments": {},
   "cell_type": "markdown",
   "metadata": {},
   "source": [
    "We recommend cloning the entire tutorials repository so that you have all the necessary intermediate files you need, but when applicable, we also provide links to download the files directly."
   ]
  },
  {
   "cell_type": "code",
   "execution_count": null,
   "metadata": {},
   "outputs": [],
   "source": [
    "import os\n",
    "import numpy as np\n",
    "import seqdatasets\n",
    "import seqexplainer as se\n",
    "from eugene import models\n",
    "from eugene import preprocess as pp"
   ]
  },
  {
   "attachments": {},
   "cell_type": "markdown",
   "metadata": {},
   "source": [
    "# Load the model"
   ]
  },
  {
   "cell_type": "code",
   "execution_count": null,
   "metadata": {},
   "outputs": [],
   "source": [
    "model = models.DeepSTARR.load_from_checkpoint(\"/cellar/users/aklie/projects/ML4GLand/models/DeepSTARR/eugene/DeepSTARR.ckpt\")"
   ]
  },
  {
   "attachments": {},
   "cell_type": "markdown",
   "metadata": {},
   "source": [
    "# Load the test data"
   ]
  },
  {
   "cell_type": "code",
   "execution_count": null,
   "metadata": {},
   "outputs": [],
   "source": [
    "sdata_test = seqdatasets.deAlmeida22(\"test\")\n",
    "pp.ohe_seqs_sdata(sdata_test)"
   ]
  },
  {
   "attachments": {},
   "cell_type": "markdown",
   "metadata": {},
   "source": [
    "# Attribution"
   ]
  },
  {
   "cell_type": "code",
   "execution_count": null,
   "metadata": {},
   "outputs": [],
   "source": [
    "# Let's start with a naive ISM that mutates every nucleotide to every other nucleotids and measures the effect on the model's prediction\n",
    "ism_attrs = se.attribute(\n",
    "    model,\n",
    "    inputs=sdata_test[\"ohe_seq\"].values,\n",
    "    method=\"NaiveISM\",\n",
    "    target=0,\n",
    "    batch_size=32\n",
    ")"
   ]
  },
  {
   "cell_type": "code",
   "execution_count": null,
   "metadata": {},
   "outputs": [],
   "source": [
    "# Next we can use the gradient of the model with respect to the input sequence with a multiplication by the input sequence\n",
    "ixg_attrs = se.attribute(\n",
    "    model,\n",
    "    inputs=sdata_test[\"ohe_seq\"].values,\n",
    "    method=\"InputXGradient\",\n",
    "    target=0,\n",
    "    batch_size=32\n",
    ")"
   ]
  },
  {
   "cell_type": "code",
   "execution_count": null,
   "metadata": {},
   "outputs": [],
   "source": [
    "# Let's generate a baseline distribution of\n",
    "N = 1000\n",
    "A, L = 4, 249\n",
    "ref_tokens = np.random.randint(4, size=(N, L))\n",
    "refs = np.eye(A)[ref_tokens].transpose(0, 2, 1)"
   ]
  },
  {
   "cell_type": "code",
   "execution_count": null,
   "metadata": {},
   "outputs": [],
   "source": [
    "# We now pass the baseline distribution directly to GradientShap\n",
    "shap_attrs = se.attribute(\n",
    "    model,\n",
    "    inputs=sdata_test[\"ohe_seq\"].values,\n",
    "    method=\"GradientShap\",\n",
    "    target=0,\n",
    "    batch_size=32,\n",
    "    references=refs,\n",
    "    stdevs=0.1,\n",
    "    n_samples=100\n",
    ")"
   ]
  },
  {
   "attachments": {},
   "cell_type": "markdown",
   "metadata": {},
   "source": [
    "## Plotting the results"
   ]
  },
  {
   "cell_type": "code",
   "execution_count": null,
   "metadata": {},
   "outputs": [],
   "source": [
    "# Random sequences\n",
    "rand_inds = np.random.choice(range(100), 5, replace=False)"
   ]
  },
  {
   "cell_type": "code",
   "execution_count": null,
   "metadata": {},
   "outputs": [],
   "source": [
    "from seqexplainer.attributions._plot import plot_attribution_logos"
   ]
  },
  {
   "cell_type": "code",
   "execution_count": null,
   "metadata": {},
   "outputs": [],
   "source": [
    "# Plot the attribution logos for input X gradient\n",
    "plot_attribution_logos(\n",
    "    attrs=ixg_attrs[rand_inds],\n",
    "    vocab=\"DNA\",\n",
    ")"
   ]
  },
  {
   "cell_type": "code",
   "execution_count": null,
   "metadata": {},
   "outputs": [],
   "source": [
    "# Plot the attribution logos for GradientShap\n",
    "plot_attribution_logos(\n",
    "    attrs=shap_attrs[rand_inds],\n",
    "    inputs=batch[rand_inds],  # we add the input argument here so that the one-hots are multiplied by the attributions\n",
    "    vocab=\"DNA\",\n",
    "    height_scaler=1.2\n",
    ")"
   ]
  },
  {
   "attachments": {},
   "cell_type": "markdown",
   "metadata": {},
   "source": [
    "SeqExplainer offers a special function that can help us visualize the matrix of deltas from ISM"
   ]
  },
  {
   "cell_type": "code",
   "execution_count": null,
   "metadata": {},
   "outputs": [],
   "source": [
    "from seqexplainer.attributions._plot import plot_attribution_logo_heatmap"
   ]
  },
  {
   "cell_type": "code",
   "execution_count": null,
   "metadata": {},
   "outputs": [],
   "source": [
    "plot_attribution_logo_heatmap(\n",
    "    attrs=ism_attrs[1],\n",
    "    inputs=sdata_test[\"ohe_seq\"].values[1],\n",
    "    flip_sign=True,\n",
    "    figsize=(12, 3)\n",
    ")"
   ]
  },
  {
   "attachments": {},
   "cell_type": "markdown",
   "metadata": {},
   "source": [
    "## From local to global: TF-MoDISco"
   ]
  },
  {
   "cell_type": "code",
   "execution_count": null,
   "metadata": {},
   "outputs": [],
   "source": [
    "# EUGENe has a wrapper for this function called `modisco` that can also be used here\n",
    "from modiscolite.tfmodisco import TFMoDISco"
   ]
  },
  {
   "cell_type": "code",
   "execution_count": null,
   "metadata": {},
   "outputs": [],
   "source": [
    "# All sequences\n",
    "shap_attrs = set.attribute(\n",
    "    model,\n",
    "    inputs=sdata_test[\"ohe_seq\"].values,\n",
    "    method=\"GradientShap\",\n",
    "    target=0,\n",
    "    batch_size=128,\n",
    "    references=\"dinuc_shuffle\",\n",
    "    stdevs=0.1,\n",
    "    n_samples=100\n",
    ")"
   ]
  },
  {
   "cell_type": "code",
   "execution_count": null,
   "metadata": {},
   "outputs": [],
   "source": [
    "pos_patterns, neg_patterns = TFMoDISco(\n",
    "    hypothetical_contribs=shap_attrs.transpose(0, 2, 1),\n",
    "    one_hot=sdata_test[\"ohe_seq\"].value.transpose(0, 2, 1),\n",
    ")"
   ]
  },
  {
   "cell_type": "code",
   "execution_count": null,
   "metadata": {},
   "outputs": [],
   "source": [
    "from modiscolite.io import save_hdf5"
   ]
  },
  {
   "cell_type": "code",
   "execution_count": null,
   "metadata": {},
   "outputs": [],
   "source": [
    "output_dir = \"output\"\n",
    "save_hdf5(os.path.join(output_dir, \"modisco.h5\"), pos_patterns, neg_patterns)"
   ]
  },
  {
   "attachments": {},
   "cell_type": "markdown",
   "metadata": {},
   "source": [
    "These seqlets can then be treated a lot like the maximimally activaing seqlets from the filter interpretation tutorial. For the purposes of this tutorial, we will just plot the sequence logos for the positive and negative clusters. "
   ]
  },
  {
   "cell_type": "code",
   "execution_count": null,
   "metadata": {},
   "outputs": [],
   "source": [
    "from seqexplainer.attributions._modisco import modisco_logos"
   ]
  },
  {
   "cell_type": "code",
   "execution_count": null,
   "metadata": {},
   "outputs": [],
   "source": [
    "modisco_logos(\n",
    "    modisco_h5_file=os.path.join(output_dir, \"modisco.h5\"),\n",
    "    output_dir=os.path.join(output_dir, \"modisco_logos\"),\n",
    ")"
   ]
  },
  {
   "attachments": {},
   "cell_type": "markdown",
   "metadata": {},
   "source": [
    "# DONE!"
   ]
  },
  {
   "attachments": {},
   "cell_type": "markdown",
   "metadata": {},
   "source": [
    "---"
   ]
  }
 ],
 "metadata": {
  "kernelspec": {
   "display_name": "Python 3.9 ml4gland",
   "language": "python",
   "name": "ml4gland"
  },
  "language_info": {
   "codemirror_mode": {
    "name": "ipython",
    "version": 3
   },
   "file_extension": ".py",
   "mimetype": "text/x-python",
   "name": "python",
   "nbconvert_exporter": "python",
   "pygments_lexer": "ipython3",
   "version": "3.9.16"
  },
  "orig_nbformat": 4
 },
 "nbformat": 4,
 "nbformat_minor": 2
}
