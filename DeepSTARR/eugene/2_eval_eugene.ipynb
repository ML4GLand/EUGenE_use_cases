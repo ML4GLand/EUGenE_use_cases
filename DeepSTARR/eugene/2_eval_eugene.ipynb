{
 "cells": [
  {
   "attachments": {},
   "cell_type": "markdown",
   "metadata": {},
   "source": [
    "# EUGENe DeepSTARR model evaluation\n",
    "Adam Klie (last updated: *09/20/2023*)\n",
    "***\n",
    "Notebook for evaluating a DeepSTARR model with EUGENe"
   ]
  },
  {
   "attachments": {},
   "cell_type": "markdown",
   "metadata": {},
   "source": [
    "# Set-up"
   ]
  },
  {
   "cell_type": "code",
   "execution_count": null,
   "metadata": {},
   "outputs": [],
   "source": [
    "import torch\n",
    "from eugene import models\n",
    "from eugene import settings\n",
    "import seqdatasets\n",
    "from eugene import preprocess as pp\n",
    "\n",
    "# plot the predictions in a scatter plot\n",
    "import matplotlib.pyplot as plt\n",
    "import seaborn as sns\n",
    "from scipy.stats import gaussian_kde\n",
    "import numpy as np\n",
    "\n",
    "# Add metrics to the plots\n",
    "from sklearn.metrics import r2_score\n",
    "from scipy.stats import pearsonr, spearmanr\n",
    "\n",
    "settings.dataset_dir = \"/cellar/users/aklie/data/eugene\""
   ]
  },
  {
   "attachments": {},
   "cell_type": "markdown",
   "metadata": {},
   "source": [
    "# Load the model"
   ]
  },
  {
   "cell_type": "code",
   "execution_count": null,
   "metadata": {},
   "outputs": [],
   "source": [
    "model = models.DeepSTARR.load_from_checkpoint(\"/cellar/users/aklie/projects/ML4GLand/models/DeepSTARR/eugene/DeepSTARR.ckpt\")"
   ]
  },
  {
   "attachments": {},
   "cell_type": "markdown",
   "metadata": {},
   "source": [
    "# Load the test data"
   ]
  },
  {
   "cell_type": "code",
   "execution_count": null,
   "metadata": {},
   "outputs": [],
   "source": [
    "sdata_test = seqdatasets.deAlmeida22(\"test\")\n",
    "pp.ohe_seqs_sdata(sdata_test)"
   ]
  },
  {
   "attachments": {},
   "cell_type": "markdown",
   "metadata": {},
   "source": [
    "# Get predictions"
   ]
  },
  {
   "cell_type": "code",
   "execution_count": null,
   "metadata": {},
   "outputs": [],
   "source": [
    "preds = model.predict(sdata_test.ohe_seqs, batch_size=128).detach().numpy()\n",
    "res_df = sdata_test.seqs_annot\n",
    "res_df['Dev_log2_enrichment_scaled_pred'] = preds[:, 0]\n",
    "res_df['Hk_log2_enrichment_scaled_pred'] = preds[:, 1]\n",
    "res_df.head()"
   ]
  },
  {
   "attachments": {},
   "cell_type": "markdown",
   "metadata": {},
   "source": [
    "# Make plot"
   ]
  },
  {
   "cell_type": "code",
   "execution_count": null,
   "metadata": {},
   "outputs": [],
   "source": [
    "fig, ax = plt.subplots(1, 2, figsize=(10, 5))\n",
    "\n",
    "# Get point densities\n",
    "x = res_df['Dev_log2_enrichment_scaled']\n",
    "y = res_df['Dev_log2_enrichment_scaled_pred']\n",
    "xy = np.vstack([x,y])\n",
    "z = gaussian_kde(xy)(xy)\n",
    "\n",
    "# Sort the points by density, so that the densest points are plotted last\n",
    "idx = z.argsort()\n",
    "x, y, z = x[idx], y[idx], z[idx]\n",
    "\n",
    "ax[0].scatter(x, y, c=z)\n",
    "\n",
    "# Get point densities\n",
    "x = res_df['Hk_log2_enrichment_scaled']\n",
    "y = res_df['Hk_log2_enrichment_scaled_pred']\n",
    "xy = np.vstack([x,y])\n",
    "z = gaussian_kde(xy)(xy)\n",
    "\n",
    "# Sort the points by density, so that the densest points are plotted last\n",
    "idx = z.argsort()\n",
    "x, y, z = x[idx], y[idx], z[idx]\n",
    "\n",
    "ax[1].scatter(x, y, c=z)\n",
    "\n",
    "r2_dev = r2_score(res_df['Dev_log2_enrichment_scaled'], res_df['Dev_log2_enrichment_scaled_pred'])\n",
    "r2_hk = r2_score(res_df['Hk_log2_enrichment_scaled'], res_df['Hk_log2_enrichment_scaled_pred'])\n",
    "\n",
    "pearson_dev = pearsonr(res_df['Dev_log2_enrichment_scaled'], res_df['Dev_log2_enrichment_scaled_pred'])\n",
    "pearson_hk = pearsonr(res_df['Hk_log2_enrichment_scaled'], res_df['Hk_log2_enrichment_scaled_pred'])\n",
    "\n",
    "spearman_dev = spearmanr(res_df['Dev_log2_enrichment_scaled'], res_df['Dev_log2_enrichment_scaled_pred'])\n",
    "spearman_hk = spearmanr(res_df['Hk_log2_enrichment_scaled'], res_df['Hk_log2_enrichment_scaled_pred'])\n",
    "\n",
    "ax[0].set_title(f\"Dev R2: {r2_dev:.2f}\\nPearson: {pearson_dev[0]:.2f}\\nSpearman: {spearman_dev[0]:.2f}\")\n",
    "ax[1].set_title(f\"Hk R2: {r2_hk:.2f}\\nPearson: {pearson_hk[0]:.2f}\\nSpearman: {spearman_hk[0]:.2f}\")\n",
    "\n",
    "# Add a diagonal line to the plots\n",
    "ax[0].plot(ax[0].get_xlim(), ax[0].get_ylim(), ls=\"--\", c=\".3\")\n",
    "ax[1].plot(ax[1].get_xlim(), ax[1].get_ylim(), ls=\"--\", c=\".3\")\n",
    "\n",
    "plt.tight_layout()\n",
    "plt.show()"
   ]
  },
  {
   "attachments": {},
   "cell_type": "markdown",
   "metadata": {},
   "source": [
    "# DONE!"
   ]
  },
  {
   "attachments": {},
   "cell_type": "markdown",
   "metadata": {},
   "source": [
    "---"
   ]
  }
 ],
 "metadata": {
  "kernelspec": {
   "display_name": "Python 3.7 eugene_dev",
   "language": "python",
   "name": "eugene_dev"
  },
  "orig_nbformat": 4
 },
 "nbformat": 4,
 "nbformat_minor": 2
}
