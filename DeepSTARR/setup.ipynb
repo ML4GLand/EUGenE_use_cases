{
 "cells": [
  {
   "attachments": {},
   "cell_type": "markdown",
   "metadata": {},
   "source": [
    "## de Almeida et al. 2022 - Train set\n",
    "This dataset contains the train set from de Almeida et al. 2022.\n",
    "The data is loaded using the datasets module from EUGENe.\n",
    "The dataset contains 402296 samples.\n",
    "Each sequence is 249 nucleotides long.\n",
    "The data is saved in the h5sd format."
   ]
  }
 ],
 "metadata": {
  "language_info": {
   "name": "python"
  },
  "orig_nbformat": 4
 },
 "nbformat": 4,
 "nbformat_minor": 2
}
