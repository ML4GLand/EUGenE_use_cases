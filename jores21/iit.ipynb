{
 "cells": [
  {
   "cell_type": "code",
   "execution_count": 20,
   "metadata": {},
   "outputs": [],
   "source": [
    "# autoreload -- Use for development only\n",
    "%load_ext autoreload\n",
    "%autoreload 2"
   ]
  },
  {
   "attachments": {},
   "cell_type": "markdown",
   "metadata": {},
   "source": [
    "# Training models for plant promoter prediction"
   ]
  },
  {
   "attachments": {},
   "cell_type": "markdown",
   "metadata": {},
   "source": [
    "# Step 0: Set-up"
   ]
  },
  {
   "cell_type": "code",
   "execution_count": 1,
   "metadata": {
    "execution": {
     "iopub.execute_input": "2023-04-01T22:18:09.233271Z",
     "iopub.status.busy": "2023-04-01T22:18:09.233048Z",
     "iopub.status.idle": "2023-04-01T22:18:16.386609Z",
     "shell.execute_reply": "2023-04-01T22:18:16.386106Z",
     "shell.execute_reply.started": "2023-04-01T22:18:09.233252Z"
    },
    "tags": []
   },
   "outputs": [
    {
     "data": {
      "text/plain": [
       "True"
      ]
     },
     "execution_count": 1,
     "metadata": {},
     "output_type": "execute_result"
    }
   ],
   "source": [
    "# Double check you have a GPU available\n",
    "import torch\n",
    "torch.cuda.is_available()"
   ]
  },
  {
   "cell_type": "code",
   "execution_count": 2,
   "metadata": {
    "execution": {
     "iopub.execute_input": "2023-04-01T22:18:16.387495Z",
     "iopub.status.busy": "2023-04-01T22:18:16.387288Z",
     "iopub.status.idle": "2023-04-01T22:18:16.389864Z",
     "shell.execute_reply": "2023-04-01T22:18:16.389432Z",
     "shell.execute_reply.started": "2023-04-01T22:18:16.387481Z"
    },
    "tags": []
   },
   "outputs": [],
   "source": [
    "# Define any useful paths\n",
    "import os\n",
    "cwd = \"/cellar/users/aklie/projects/ML4GLand/use_cases/jores21\""
   ]
  },
  {
   "attachments": {},
   "cell_type": "markdown",
   "metadata": {},
   "source": [
    "# Load leaf data and motifs "
   ]
  },
  {
   "cell_type": "code",
   "execution_count": 3,
   "metadata": {
    "execution": {
     "iopub.execute_input": "2023-04-01T22:18:16.395570Z",
     "iopub.status.busy": "2023-04-01T22:18:16.395273Z",
     "iopub.status.idle": "2023-04-01T22:18:18.547456Z",
     "shell.execute_reply": "2023-04-01T22:18:18.546919Z",
     "shell.execute_reply.started": "2023-04-01T22:18:16.395554Z"
    },
    "tags": []
   },
   "outputs": [
    {
     "data": {
      "text/plain": [
       "(SeqData object with = 65004 seqs\n",
       " seqs = (65004,)\n",
       " names = (65004,)\n",
       " rev_seqs = None\n",
       " ohe_seqs = None\n",
       " ohe_rev_seqs = None\n",
       " seqs_annot: 'enrichment', 'gene', 'set', 'sp'\n",
       " pos_annot: None\n",
       " seqsm: None\n",
       " uns: None,\n",
       " MotifSet with 78 motifs)"
      ]
     },
     "execution_count": 3,
     "metadata": {},
     "output_type": "execute_result"
    }
   ],
   "source": [
    "import seqdata as sd\n",
    "import motifdata as md\n",
    "from copy import deepcopy \n",
    "\n",
    "# Load in the preprocessed training data\n",
    "sdata_leaf = sd.read_h5sd(os.path.join(cwd, \"data\", \"paper_github\", \"train_sdata.h5sd\"))\n",
    "\n",
    "# Grab motifs\n",
    "core_promoter_elements = md.read_meme(os.path.join(cwd, \"data\", \"paper_github\", \"CPEs.meme\"))\n",
    "tf_clusters = md.read_meme(os.path.join(cwd, \"data\", \"paper_github\", \"TF-clusters.meme\"))\n",
    "\n",
    "# Smush them together, make function in the future\n",
    "all_motifs = deepcopy(core_promoter_elements)\n",
    "for motif in tf_clusters:\n",
    "    all_motifs.add_motif(motif)\n",
    "\n",
    "# Print the data\n",
    "sdata_leaf, all_motifs"
   ]
  },
  {
   "attachments": {},
   "cell_type": "markdown",
   "metadata": {},
   "source": [
    "# Instantiate model architecture"
   ]
  },
  {
   "cell_type": "code",
   "execution_count": 4,
   "metadata": {
    "execution": {
     "iopub.execute_input": "2023-04-01T22:23:30.279284Z",
     "iopub.status.busy": "2023-04-01T22:23:30.279118Z",
     "iopub.status.idle": "2023-04-01T22:23:30.281857Z",
     "shell.execute_reply": "2023-04-01T22:23:30.281461Z",
     "shell.execute_reply.started": "2023-04-01T22:23:30.279270Z"
    },
    "tags": []
   },
   "outputs": [],
   "source": [
    "from eugene import models\n",
    "config_dir = os.path.join(cwd, \"configs\")"
   ]
  },
  {
   "cell_type": "code",
   "execution_count": 5,
   "metadata": {
    "execution": {
     "iopub.execute_input": "2023-04-01T22:23:30.664742Z",
     "iopub.status.busy": "2023-04-01T22:23:30.664479Z",
     "iopub.status.idle": "2023-04-01T22:23:30.722764Z",
     "shell.execute_reply": "2023-04-01T22:23:30.722348Z",
     "shell.execute_reply.started": "2023-04-01T22:23:30.664717Z"
    },
    "tags": []
   },
   "outputs": [
    {
     "name": "stdout",
     "output_type": "stream",
     "text": [
      "Model: Hybrid\n",
      "Sequence length: 170\n",
      "Output dimension: 1\n",
      "Task: regression\n",
      "Loss function: mse_loss\n",
      "Optimizer: Adam\n",
      "\tOptimizer parameters: {}\n",
      "\tOptimizer starting learning rate: 0.001\n",
      "Scheduler: ReduceLROnPlateau\n",
      "\tScheduler parameters: {'patience': 2}\n",
      "Metric: r2score\n",
      "\tMetric parameters: {}\n",
      "Seed: None\n",
      "Parameters summary:\n"
     ]
    },
    {
     "data": {
      "text/plain": [
       "  | Name            | Type           | Params\n",
       "---------------------------------------------------\n",
       "0 | train_metric    | R2Score        | 0     \n",
       "1 | val_metric      | R2Score        | 0     \n",
       "2 | test_metric     | R2Score        | 0     \n",
       "3 | conv1d_tower    | Conv1DTower    | 1.7 M \n",
       "4 | recurrent_block | RecurrentBlock | 197 K \n",
       "5 | dense_block     | DenseBlock     | 8.4 K \n",
       "---------------------------------------------------\n",
       "1.9 M     Trainable params\n",
       "0         Non-trainable params\n",
       "1.9 M     Total params\n",
       "7.703     Total estimated model params size (MB)"
      ]
     },
     "execution_count": 5,
     "metadata": {},
     "output_type": "execute_result"
    }
   ],
   "source": [
    "model = models.load_config(os.path.join(config_dir, \"grace.yaml\"))\n",
    "models.init_weights(model)\n",
    "model.summary()"
   ]
  },
  {
   "cell_type": "code",
   "execution_count": 6,
   "metadata": {},
   "outputs": [
    {
     "data": {
      "text/plain": [
       "mappingproxy({'__module__': 'torch.optim.lr_scheduler',\n",
       "              '__doc__': \"Reduce learning rate when a metric has stopped improving.\\n    Models often benefit from reducing the learning rate by a factor\\n    of 2-10 once learning stagnates. This scheduler reads a metrics\\n    quantity and if no improvement is seen for a 'patience' number\\n    of epochs, the learning rate is reduced.\\n\\n    Args:\\n        optimizer (Optimizer): Wrapped optimizer.\\n        mode (str): One of `min`, `max`. In `min` mode, lr will\\n            be reduced when the quantity monitored has stopped\\n            decreasing; in `max` mode it will be reduced when the\\n            quantity monitored has stopped increasing. Default: 'min'.\\n        factor (float): Factor by which the learning rate will be\\n            reduced. new_lr = lr * factor. Default: 0.1.\\n        patience (int): Number of epochs with no improvement after\\n            which learning rate will be reduced. For example, if\\n            `patience = 2`, then we will ignore the first 2 epochs\\n            with no improvement, and will only decrease the LR after the\\n            3rd epoch if the loss still hasn't improved then.\\n            Default: 10.\\n        threshold (float): Threshold for measuring the new optimum,\\n            to only focus on significant changes. Default: 1e-4.\\n        threshold_mode (str): One of `rel`, `abs`. In `rel` mode,\\n            dynamic_threshold = best * ( 1 + threshold ) in 'max'\\n            mode or best * ( 1 - threshold ) in `min` mode.\\n            In `abs` mode, dynamic_threshold = best + threshold in\\n            `max` mode or best - threshold in `min` mode. Default: 'rel'.\\n        cooldown (int): Number of epochs to wait before resuming\\n            normal operation after lr has been reduced. Default: 0.\\n        min_lr (float or list): A scalar or a list of scalars. A\\n            lower bound on the learning rate of all param groups\\n            or each group respectively. Default: 0.\\n        eps (float): Minimal decay applied to lr. If the difference\\n            between new and old lr is smaller than eps, the update is\\n            ignored. Default: 1e-8.\\n        verbose (bool): If ``True``, prints a message to stdout for\\n            each update. Default: ``False``.\\n\\n    Example:\\n        >>> # xdoctest: +SKIP\\n        >>> optimizer = torch.optim.SGD(model.parameters(), lr=0.1, momentum=0.9)\\n        >>> scheduler = ReduceLROnPlateau(optimizer, 'min')\\n        >>> for epoch in range(10):\\n        >>>     train(...)\\n        >>>     val_loss = validate(...)\\n        >>>     # Note that step should be called after validate()\\n        >>>     scheduler.step(val_loss)\\n    \",\n",
       "              '__init__': <function torch.optim.lr_scheduler.ReduceLROnPlateau.__init__(self, optimizer, mode='min', factor=0.1, patience=10, threshold=0.0001, threshold_mode='rel', cooldown=0, min_lr=0, eps=1e-08, verbose=False)>,\n",
       "              '_reset': <function torch.optim.lr_scheduler.ReduceLROnPlateau._reset(self)>,\n",
       "              'step': <function torch.optim.lr_scheduler.ReduceLROnPlateau.step(self, metrics, epoch=None)>,\n",
       "              '_reduce_lr': <function torch.optim.lr_scheduler.ReduceLROnPlateau._reduce_lr(self, epoch)>,\n",
       "              'in_cooldown': <property at 0x155474f57950>,\n",
       "              'is_better': <function torch.optim.lr_scheduler.ReduceLROnPlateau.is_better(self, a, best)>,\n",
       "              '_init_is_better': <function torch.optim.lr_scheduler.ReduceLROnPlateau._init_is_better(self, mode, threshold, threshold_mode)>,\n",
       "              'state_dict': <function torch.optim.lr_scheduler.ReduceLROnPlateau.state_dict(self)>,\n",
       "              'load_state_dict': <function torch.optim.lr_scheduler.ReduceLROnPlateau.load_state_dict(self, state_dict)>,\n",
       "              '__dict__': <attribute '__dict__' of 'ReduceLROnPlateau' objects>,\n",
       "              '__weakref__': <attribute '__weakref__' of 'ReduceLROnPlateau' objects>})"
      ]
     },
     "execution_count": 6,
     "metadata": {},
     "output_type": "execute_result"
    }
   ],
   "source": [
    "model.scheduler.__dict__"
   ]
  },
  {
   "attachments": {},
   "cell_type": "markdown",
   "metadata": {},
   "source": [
    "# Initialize parameters"
   ]
  },
  {
   "cell_type": "code",
   "execution_count": 7,
   "metadata": {
    "execution": {
     "iopub.execute_input": "2023-04-01T22:23:30.723636Z",
     "iopub.status.busy": "2023-04-01T22:23:30.723498Z",
     "iopub.status.idle": "2023-04-01T22:23:30.728089Z",
     "shell.execute_reply": "2023-04-01T22:23:30.727730Z",
     "shell.execute_reply.started": "2023-04-01T22:23:30.723622Z"
    },
    "tags": []
   },
   "outputs": [],
   "source": [
    "models.init_motif_weights(\n",
    "    model,\n",
    "    layer_name=\"conv1d_tower.layers.0\",\n",
    "    motifs=all_motifs\n",
    ")"
   ]
  },
  {
   "cell_type": "code",
   "execution_count": 8,
   "metadata": {
    "execution": {
     "iopub.execute_input": "2023-04-01T22:23:30.869326Z",
     "iopub.status.busy": "2023-04-01T22:23:30.868996Z",
     "iopub.status.idle": "2023-04-01T22:23:30.873131Z",
     "shell.execute_reply": "2023-04-01T22:23:30.872782Z",
     "shell.execute_reply.started": "2023-04-01T22:23:30.869311Z"
    },
    "tags": []
   },
   "outputs": [
    {
     "data": {
      "text/plain": [
       "tensor([[0.5100, 1.5060, 0.4780, 1.5060],\n",
       "        [0.6300, 1.5940, 0.7960, 0.9820],\n",
       "        [0.9960, 1.2120, 0.7880, 1.0040],\n",
       "        [0.4940, 2.6200, 0.3020, 0.5820],\n",
       "        [0.0400, 0.0080, 0.0080, 3.9440],\n",
       "        [3.8720, 0.0000, 0.0000, 0.1280],\n",
       "        [0.0080, 0.0560, 0.0240, 3.9120],\n",
       "        [3.9680, 0.0000, 0.0080, 0.0240],\n",
       "        [2.6120, 0.0480, 0.0080, 1.3320],\n",
       "        [3.8960, 0.0000, 0.0320, 0.0720],\n",
       "        [1.3640, 0.1120, 0.1440, 2.3820],\n",
       "        [2.7820, 0.3260, 0.4780, 0.4140],\n",
       "        [0.5020, 1.7280, 1.2660, 0.5020]], grad_fn=<PermuteBackward0>)"
      ]
     },
     "execution_count": 8,
     "metadata": {},
     "output_type": "execute_result"
    }
   ],
   "source": [
    "# Double check that layer\n",
    "from eugene.models.base._utils import get_layer\n",
    "get_layer(model, 'conv1d_tower.layers.0').weight[0].T"
   ]
  },
  {
   "attachments": {},
   "cell_type": "markdown",
   "metadata": {},
   "source": [
    "# Train leaf models"
   ]
  },
  {
   "cell_type": "code",
   "execution_count": 9,
   "metadata": {
    "execution": {
     "iopub.execute_input": "2023-04-01T22:23:31.215318Z",
     "iopub.status.busy": "2023-04-01T22:23:31.214998Z",
     "iopub.status.idle": "2023-04-01T22:23:31.217707Z",
     "shell.execute_reply": "2023-04-01T22:23:31.217353Z",
     "shell.execute_reply.started": "2023-04-01T22:23:31.215290Z"
    },
    "tags": []
   },
   "outputs": [],
   "source": [
    "import numpy as np\n",
    "from eugene import dataload as dl\n",
    "from eugene import preprocess as pp\n",
    "from eugene import train"
   ]
  },
  {
   "cell_type": "code",
   "execution_count": 10,
   "metadata": {
    "execution": {
     "iopub.execute_input": "2023-04-01T22:23:31.434275Z",
     "iopub.status.busy": "2023-04-01T22:23:31.434125Z",
     "iopub.status.idle": "2023-04-01T22:23:31.478112Z",
     "shell.execute_reply": "2023-04-01T22:23:31.477622Z",
     "shell.execute_reply.started": "2023-04-01T22:23:31.434261Z"
    },
    "tags": []
   },
   "outputs": [
    {
     "data": {
      "application/vnd.jupyter.widget-view+json": {
       "model_id": "9929e1e4e515417f8d7ea3edbaf39538",
       "version_major": 2,
       "version_minor": 0
      },
      "text/plain": [
       "One-hot encoding sequences:   0%|          | 0/65004 [00:00<?, ?it/s]"
      ]
     },
     "metadata": {},
     "output_type": "display_data"
    },
    {
     "name": "stdout",
     "output_type": "stream",
     "text": [
      "SeqData object modified:\n",
      "\tohe_seqs: None -> 65004 ohe_seqs added\n",
      "SeqData object modified:\n",
      "    seqs_annot:\n",
      "        + train_val\n"
     ]
    }
   ],
   "source": [
    "pp.ohe_seqs_sdata(sdata_leaf)\n",
    "pp.train_test_split_sdata(sdata_leaf, split=0.9)"
   ]
  },
  {
   "cell_type": "code",
   "execution_count": 11,
   "metadata": {
    "execution": {
     "iopub.execute_input": "2023-04-01T22:23:31.994344Z",
     "iopub.status.busy": "2023-04-01T22:23:31.994190Z",
     "iopub.status.idle": "2023-04-01T22:23:32.008046Z",
     "shell.execute_reply": "2023-04-01T22:23:32.007598Z",
     "shell.execute_reply.started": "2023-04-01T22:23:31.994329Z"
    },
    "tags": []
   },
   "outputs": [],
   "source": [
    "train_idx = np.where(sdata_leaf[\"train_val\"] == True)[0]\n",
    "val_idx = np.where(sdata_leaf[\"train_val\"] == False)[0]\n",
    "train_sdataset = dl.SequenceDataset(\n",
    "    seqs=sdata_leaf.ohe_seqs[train_idx],\n",
    "    targets=sdata_leaf[\"enrichment\"].values[train_idx],\n",
    "    transforms=dl.ReverseComplement(p=0.0)\n",
    ")\n",
    "val_sdataset = dl.SequenceDataset(\n",
    "    seqs=sdata_leaf.ohe_seqs[val_idx],\n",
    "    targets=sdata_leaf[\"enrichment\"].values[val_idx],\n",
    "    transforms=dl.ReverseComplement(p=0.0)\n",
    ")"
   ]
  },
  {
   "cell_type": "code",
   "execution_count": 12,
   "metadata": {
    "execution": {
     "iopub.execute_input": "2023-04-01T22:23:32.664948Z",
     "iopub.status.busy": "2023-04-01T22:23:32.664681Z",
     "iopub.status.idle": "2023-04-01T22:23:32.667919Z",
     "shell.execute_reply": "2023-04-01T22:23:32.667544Z",
     "shell.execute_reply.started": "2023-04-01T22:23:32.664923Z"
    },
    "tags": []
   },
   "outputs": [],
   "source": [
    "train_sdataloader = train_sdataset.to_dataloader(batch_size=128, shuffle=True, num_workers=2, drop_last=True)\n",
    "val_sdataloader = val_sdataset.to_dataloader(batch_size=128, shuffle=False, num_workers=2, drop_last=True)"
   ]
  },
  {
   "cell_type": "code",
   "execution_count": 13,
   "metadata": {
    "execution": {
     "iopub.execute_input": "2023-01-04T18:30:37.409986Z",
     "iopub.status.busy": "2023-01-04T18:30:37.409737Z",
     "iopub.status.idle": "2023-01-04T18:33:24.116402Z",
     "shell.execute_reply": "2023-01-04T18:33:24.115916Z",
     "shell.execute_reply.started": "2023-01-04T18:30:37.409967Z"
    },
    "tags": []
   },
   "outputs": [
    {
     "name": "stdout",
     "output_type": "stream",
     "text": [
      "No seed set\n"
     ]
    },
    {
     "name": "stderr",
     "output_type": "stream",
     "text": [
      "/cellar/users/aklie/opt/miniconda3/envs/ml4gland/lib/python3.9/site-packages/lightning_fabric/plugins/environments/slurm.py:165: PossibleUserWarning: The `srun` command is available on your system but is not used. HINT: If your intention is to run Lightning on SLURM, prepend your python command with `srun` like so: srun python /cellar/users/aklie/opt/miniconda3/envs/ml4gland/lib ...\n",
      "  rank_zero_warn(\n",
      "GPU available: True (cuda), used: True\n",
      "TPU available: False, using: 0 TPU cores\n",
      "IPU available: False, using: 0 IPUs\n",
      "HPU available: False, using: 0 HPUs\n",
      "/cellar/users/aklie/opt/miniconda3/envs/ml4gland/lib/python3.9/site-packages/lightning_fabric/plugins/environments/slurm.py:165: PossibleUserWarning: The `srun` command is available on your system but is not used. HINT: If your intention is to run Lightning on SLURM, prepend your python command with `srun` like so: srun python /cellar/users/aklie/opt/miniconda3/envs/ml4gland/lib ...\n",
      "  rank_zero_warn(\n",
      "LOCAL_RANK: 0 - CUDA_VISIBLE_DEVICES: [0]\n",
      "\n",
      "  | Name            | Type           | Params\n",
      "---------------------------------------------------\n",
      "0 | train_metric    | R2Score        | 0     \n",
      "1 | val_metric      | R2Score        | 0     \n",
      "2 | test_metric     | R2Score        | 0     \n",
      "3 | conv1d_tower    | Conv1DTower    | 1.7 M \n",
      "4 | recurrent_block | RecurrentBlock | 197 K \n",
      "5 | dense_block     | DenseBlock     | 8.4 K \n",
      "---------------------------------------------------\n",
      "1.9 M     Trainable params\n",
      "0         Non-trainable params\n",
      "1.9 M     Total params\n",
      "7.703     Total estimated model params size (MB)\n"
     ]
    },
    {
     "data": {
      "application/vnd.jupyter.widget-view+json": {
       "model_id": "0d5f68cbf54a44eaa23b73f1c6ee7f32",
       "version_major": 2,
       "version_minor": 0
      },
      "text/plain": [
       "Sanity Checking: 0it [00:00, ?it/s]"
      ]
     },
     "metadata": {},
     "output_type": "display_data"
    },
    {
     "name": "stderr",
     "output_type": "stream",
     "text": [
      "/cellar/users/aklie/opt/miniconda3/envs/ml4gland/lib/python3.9/site-packages/pytorch_lightning/trainer/connectors/data_connector.py:430: PossibleUserWarning: The dataloader, val_dataloader, does not have many workers which may be a bottleneck. Consider increasing the value of the `num_workers` argument` (try 16 which is the number of cpus on this machine) in the `DataLoader` init to improve performance.\n",
      "  rank_zero_warn(\n",
      "/cellar/users/aklie/opt/miniconda3/envs/ml4gland/lib/python3.9/site-packages/pytorch_lightning/trainer/connectors/data_connector.py:430: PossibleUserWarning: The dataloader, train_dataloader, does not have many workers which may be a bottleneck. Consider increasing the value of the `num_workers` argument` (try 16 which is the number of cpus on this machine) in the `DataLoader` init to improve performance.\n",
      "  rank_zero_warn(\n"
     ]
    },
    {
     "data": {
      "application/vnd.jupyter.widget-view+json": {
       "model_id": "969d2f04eec2432f84153c60cb8d42c2",
       "version_major": 2,
       "version_minor": 0
      },
      "text/plain": [
       "Training: 0it [00:00, ?it/s]"
      ]
     },
     "metadata": {},
     "output_type": "display_data"
    },
    {
     "data": {
      "application/vnd.jupyter.widget-view+json": {
       "model_id": "98eb740d72da4f7d9e847bd86dffeb9e",
       "version_major": 2,
       "version_minor": 0
      },
      "text/plain": [
       "Validation: 0it [00:00, ?it/s]"
      ]
     },
     "metadata": {},
     "output_type": "display_data"
    },
    {
     "data": {
      "application/vnd.jupyter.widget-view+json": {
       "model_id": "4271358bc0fa4ad98c44fe4f3a822078",
       "version_major": 2,
       "version_minor": 0
      },
      "text/plain": [
       "Validation: 0it [00:00, ?it/s]"
      ]
     },
     "metadata": {},
     "output_type": "display_data"
    },
    {
     "data": {
      "application/vnd.jupyter.widget-view+json": {
       "model_id": "e32df5746c1c44b69d283c9308b7df5e",
       "version_major": 2,
       "version_minor": 0
      },
      "text/plain": [
       "Validation: 0it [00:00, ?it/s]"
      ]
     },
     "metadata": {},
     "output_type": "display_data"
    },
    {
     "data": {
      "application/vnd.jupyter.widget-view+json": {
       "model_id": "9c9273275b3e48afa8ca21579ec46a7e",
       "version_major": 2,
       "version_minor": 0
      },
      "text/plain": [
       "Validation: 0it [00:00, ?it/s]"
      ]
     },
     "metadata": {},
     "output_type": "display_data"
    },
    {
     "data": {
      "application/vnd.jupyter.widget-view+json": {
       "model_id": "d805155497f64862b6d8d76ffc8d8652",
       "version_major": 2,
       "version_minor": 0
      },
      "text/plain": [
       "Validation: 0it [00:00, ?it/s]"
      ]
     },
     "metadata": {},
     "output_type": "display_data"
    },
    {
     "data": {
      "application/vnd.jupyter.widget-view+json": {
       "model_id": "67929b9460ce4aeca5ed69ac53b4a1e3",
       "version_major": 2,
       "version_minor": 0
      },
      "text/plain": [
       "Validation: 0it [00:00, ?it/s]"
      ]
     },
     "metadata": {},
     "output_type": "display_data"
    },
    {
     "data": {
      "application/vnd.jupyter.widget-view+json": {
       "model_id": "907ddec96dbd486ea9d2e96b74965719",
       "version_major": 2,
       "version_minor": 0
      },
      "text/plain": [
       "Validation: 0it [00:00, ?it/s]"
      ]
     },
     "metadata": {},
     "output_type": "display_data"
    },
    {
     "data": {
      "application/vnd.jupyter.widget-view+json": {
       "model_id": "24bd743cf34743b2b570adde9c2a5814",
       "version_major": 2,
       "version_minor": 0
      },
      "text/plain": [
       "Validation: 0it [00:00, ?it/s]"
      ]
     },
     "metadata": {},
     "output_type": "display_data"
    },
    {
     "data": {
      "application/vnd.jupyter.widget-view+json": {
       "model_id": "0857d5dd27b74cc08a458dc69eb4828e",
       "version_major": 2,
       "version_minor": 0
      },
      "text/plain": [
       "Validation: 0it [00:00, ?it/s]"
      ]
     },
     "metadata": {},
     "output_type": "display_data"
    },
    {
     "data": {
      "application/vnd.jupyter.widget-view+json": {
       "model_id": "b4790c3a72b3457e95fd36b12647fed5",
       "version_major": 2,
       "version_minor": 0
      },
      "text/plain": [
       "Validation: 0it [00:00, ?it/s]"
      ]
     },
     "metadata": {},
     "output_type": "display_data"
    },
    {
     "data": {
      "application/vnd.jupyter.widget-view+json": {
       "model_id": "369ab4b8e6ed459a86867822ed82cf6e",
       "version_major": 2,
       "version_minor": 0
      },
      "text/plain": [
       "Validation: 0it [00:00, ?it/s]"
      ]
     },
     "metadata": {},
     "output_type": "display_data"
    },
    {
     "data": {
      "application/vnd.jupyter.widget-view+json": {
       "model_id": "c2053e11e10f4ebdb1ea38caa4f7f129",
       "version_major": 2,
       "version_minor": 0
      },
      "text/plain": [
       "Validation: 0it [00:00, ?it/s]"
      ]
     },
     "metadata": {},
     "output_type": "display_data"
    },
    {
     "data": {
      "application/vnd.jupyter.widget-view+json": {
       "model_id": "c81b60e340a54514b0aea60c8cbc70c6",
       "version_major": 2,
       "version_minor": 0
      },
      "text/plain": [
       "Validation: 0it [00:00, ?it/s]"
      ]
     },
     "metadata": {},
     "output_type": "display_data"
    },
    {
     "data": {
      "application/vnd.jupyter.widget-view+json": {
       "model_id": "c62b2d01d4c4428abf98d1f06eac1076",
       "version_major": 2,
       "version_minor": 0
      },
      "text/plain": [
       "Validation: 0it [00:00, ?it/s]"
      ]
     },
     "metadata": {},
     "output_type": "display_data"
    },
    {
     "data": {
      "application/vnd.jupyter.widget-view+json": {
       "model_id": "77683ed6ee364fdd9835f3b6b34489cc",
       "version_major": 2,
       "version_minor": 0
      },
      "text/plain": [
       "Validation: 0it [00:00, ?it/s]"
      ]
     },
     "metadata": {},
     "output_type": "display_data"
    },
    {
     "data": {
      "application/vnd.jupyter.widget-view+json": {
       "model_id": "deba62c694df4d33bf98338ebb0683fa",
       "version_major": 2,
       "version_minor": 0
      },
      "text/plain": [
       "Validation: 0it [00:00, ?it/s]"
      ]
     },
     "metadata": {},
     "output_type": "display_data"
    }
   ],
   "source": [
    "train.fit(\n",
    "    model=model, \n",
    "    train_dataloader=train_sdataloader,\n",
    "    val_dataloader=val_sdataloader,\n",
    "    gpus=1, \n",
    "    epochs=50,\n",
    "    logger=\"csv\",\n",
    "    log_dir=os.path.join(cwd, \"models\"),\n",
    "    name=\"grace\",\n",
    "    version=\"leaf\"\n",
    ")"
   ]
  },
  {
   "cell_type": "code",
   "execution_count": 14,
   "metadata": {
    "execution": {
     "iopub.execute_input": "2023-04-01T22:28:38.020978Z",
     "iopub.status.busy": "2023-04-01T22:28:38.020666Z",
     "iopub.status.idle": "2023-04-01T22:28:41.967935Z",
     "shell.execute_reply": "2023-04-01T22:28:41.967412Z",
     "shell.execute_reply.started": "2023-04-01T22:28:38.020962Z"
    },
    "tags": []
   },
   "outputs": [],
   "source": [
    "import pandas as pd\n",
    "import seaborn as sns\n",
    "from eugene import plot as pl"
   ]
  },
  {
   "cell_type": "code",
   "execution_count": 24,
   "metadata": {},
   "outputs": [
    {
     "data": {
      "image/png": "[encoded data removed]",
      "text/plain": [
       "<Figure size 1200x600 with 2 Axes>"
      ]
     },
     "metadata": {},
     "output_type": "display_data"
    }
   ],
   "source": [
    "pl.training_summary(os.path.join(cwd, \"models\", \"grace\", \"leaf\"))"
   ]
  },
  {
   "cell_type": "code",
   "execution_count": 15,
   "metadata": {
    "execution": {
     "iopub.execute_input": "2023-04-01T22:29:10.343629Z",
     "iopub.status.busy": "2023-04-01T22:29:10.343366Z",
     "iopub.status.idle": "2023-04-01T22:29:10.351974Z",
     "shell.execute_reply": "2023-04-01T22:29:10.351493Z",
     "shell.execute_reply.started": "2023-04-01T22:29:10.343613Z"
    },
    "tags": []
   },
   "outputs": [],
   "source": [
    "training_summary = pd.read_csv(os.path.join(cwd, \"models\", \"grace\", \"leaf\", \"metrics.csv\"))"
   ]
  },
  {
   "cell_type": "code",
   "execution_count": 16,
   "metadata": {},
   "outputs": [],
   "source": [
    "# Grab all columns that have the \"epoch\" or \"step\" in them\n",
    "epoch_cols = [col for col in training_summary.columns if \"epoch\" in col]\n",
    "\n",
    "epoch_summary = training_summary[epoch_cols]"
   ]
  },
  {
   "cell_type": "code",
   "execution_count": 17,
   "metadata": {},
   "outputs": [],
   "source": [
    "metric_names = [\"r2score\"]\n",
    "metric_cols = [col for col in epoch_summary.columns if any([metric in col for metric in metric_names])]\n",
    "loss_cols = [col for col in epoch_summary.columns if \"loss\" in col]\n",
    "\n",
    "# Separate out the loss and metric\n",
    "loss_summary = epoch_summary[[\"epoch\"] + loss_cols]\n",
    "metric_summary = epoch_summary[[\"epoch\"] + metric_cols]"
   ]
  },
  {
   "cell_type": "code",
   "execution_count": 18,
   "metadata": {},
   "outputs": [
    {
     "data": {
      "text/html": [
       "<div>\n",
       "<style scoped>\n",
       "    .dataframe tbody tr th:only-of-type {\n",
       "        vertical-align: middle;\n",
       "    }\n",
       "\n",
       "    .dataframe tbody tr th {\n",
       "        vertical-align: top;\n",
       "    }\n",
       "\n",
       "    .dataframe thead th {\n",
       "        text-align: right;\n",
       "    }\n",
       "</style>\n",
       "<table border=\"1\" class=\"dataframe\">\n",
       "  <thead>\n",
       "    <tr style=\"text-align: right;\">\n",
       "      <th></th>\n",
       "      <th>epoch</th>\n",
       "      <th>variable</th>\n",
       "      <th>value</th>\n",
       "    </tr>\n",
       "  </thead>\n",
       "  <tbody>\n",
       "    <tr>\n",
       "      <th>10</th>\n",
       "      <td>0.0</td>\n",
       "      <td>val_loss_epoch</td>\n",
       "      <td>1.613551</td>\n",
       "    </tr>\n",
       "    <tr>\n",
       "      <th>22</th>\n",
       "      <td>1.0</td>\n",
       "      <td>val_loss_epoch</td>\n",
       "      <td>1.248527</td>\n",
       "    </tr>\n",
       "    <tr>\n",
       "      <th>34</th>\n",
       "      <td>2.0</td>\n",
       "      <td>val_loss_epoch</td>\n",
       "      <td>1.132046</td>\n",
       "    </tr>\n",
       "    <tr>\n",
       "      <th>46</th>\n",
       "      <td>3.0</td>\n",
       "      <td>val_loss_epoch</td>\n",
       "      <td>1.025387</td>\n",
       "    </tr>\n",
       "    <tr>\n",
       "      <th>58</th>\n",
       "      <td>4.0</td>\n",
       "      <td>val_loss_epoch</td>\n",
       "      <td>0.939486</td>\n",
       "    </tr>\n",
       "    <tr>\n",
       "      <th>70</th>\n",
       "      <td>5.0</td>\n",
       "      <td>val_loss_epoch</td>\n",
       "      <td>0.957103</td>\n",
       "    </tr>\n",
       "    <tr>\n",
       "      <th>82</th>\n",
       "      <td>6.0</td>\n",
       "      <td>val_loss_epoch</td>\n",
       "      <td>0.929148</td>\n",
       "    </tr>\n",
       "    <tr>\n",
       "      <th>95</th>\n",
       "      <td>7.0</td>\n",
       "      <td>val_loss_epoch</td>\n",
       "      <td>0.979620</td>\n",
       "    </tr>\n",
       "    <tr>\n",
       "      <th>107</th>\n",
       "      <td>8.0</td>\n",
       "      <td>val_loss_epoch</td>\n",
       "      <td>0.942731</td>\n",
       "    </tr>\n",
       "    <tr>\n",
       "      <th>119</th>\n",
       "      <td>9.0</td>\n",
       "      <td>val_loss_epoch</td>\n",
       "      <td>0.938706</td>\n",
       "    </tr>\n",
       "    <tr>\n",
       "      <th>131</th>\n",
       "      <td>10.0</td>\n",
       "      <td>val_loss_epoch</td>\n",
       "      <td>0.912823</td>\n",
       "    </tr>\n",
       "    <tr>\n",
       "      <th>143</th>\n",
       "      <td>11.0</td>\n",
       "      <td>val_loss_epoch</td>\n",
       "      <td>0.941035</td>\n",
       "    </tr>\n",
       "    <tr>\n",
       "      <th>155</th>\n",
       "      <td>12.0</td>\n",
       "      <td>val_loss_epoch</td>\n",
       "      <td>0.922149</td>\n",
       "    </tr>\n",
       "    <tr>\n",
       "      <th>167</th>\n",
       "      <td>13.0</td>\n",
       "      <td>val_loss_epoch</td>\n",
       "      <td>0.924049</td>\n",
       "    </tr>\n",
       "    <tr>\n",
       "      <th>180</th>\n",
       "      <td>14.0</td>\n",
       "      <td>val_loss_epoch</td>\n",
       "      <td>0.916660</td>\n",
       "    </tr>\n",
       "    <tr>\n",
       "      <th>192</th>\n",
       "      <td>15.0</td>\n",
       "      <td>val_loss_epoch</td>\n",
       "      <td>0.924018</td>\n",
       "    </tr>\n",
       "    <tr>\n",
       "      <th>205</th>\n",
       "      <td>0.0</td>\n",
       "      <td>train_loss_epoch</td>\n",
       "      <td>2.335451</td>\n",
       "    </tr>\n",
       "    <tr>\n",
       "      <th>217</th>\n",
       "      <td>1.0</td>\n",
       "      <td>train_loss_epoch</td>\n",
       "      <td>1.454266</td>\n",
       "    </tr>\n",
       "    <tr>\n",
       "      <th>229</th>\n",
       "      <td>2.0</td>\n",
       "      <td>train_loss_epoch</td>\n",
       "      <td>1.209699</td>\n",
       "    </tr>\n",
       "    <tr>\n",
       "      <th>241</th>\n",
       "      <td>3.0</td>\n",
       "      <td>train_loss_epoch</td>\n",
       "      <td>1.104436</td>\n",
       "    </tr>\n",
       "    <tr>\n",
       "      <th>253</th>\n",
       "      <td>4.0</td>\n",
       "      <td>train_loss_epoch</td>\n",
       "      <td>1.034539</td>\n",
       "    </tr>\n",
       "    <tr>\n",
       "      <th>265</th>\n",
       "      <td>5.0</td>\n",
       "      <td>train_loss_epoch</td>\n",
       "      <td>0.989705</td>\n",
       "    </tr>\n",
       "    <tr>\n",
       "      <th>277</th>\n",
       "      <td>6.0</td>\n",
       "      <td>train_loss_epoch</td>\n",
       "      <td>0.938475</td>\n",
       "    </tr>\n",
       "    <tr>\n",
       "      <th>290</th>\n",
       "      <td>7.0</td>\n",
       "      <td>train_loss_epoch</td>\n",
       "      <td>0.903414</td>\n",
       "    </tr>\n",
       "    <tr>\n",
       "      <th>302</th>\n",
       "      <td>8.0</td>\n",
       "      <td>train_loss_epoch</td>\n",
       "      <td>0.861421</td>\n",
       "    </tr>\n",
       "    <tr>\n",
       "      <th>314</th>\n",
       "      <td>9.0</td>\n",
       "      <td>train_loss_epoch</td>\n",
       "      <td>0.817064</td>\n",
       "    </tr>\n",
       "    <tr>\n",
       "      <th>326</th>\n",
       "      <td>10.0</td>\n",
       "      <td>train_loss_epoch</td>\n",
       "      <td>0.732955</td>\n",
       "    </tr>\n",
       "    <tr>\n",
       "      <th>338</th>\n",
       "      <td>11.0</td>\n",
       "      <td>train_loss_epoch</td>\n",
       "      <td>0.707719</td>\n",
       "    </tr>\n",
       "    <tr>\n",
       "      <th>350</th>\n",
       "      <td>12.0</td>\n",
       "      <td>train_loss_epoch</td>\n",
       "      <td>0.691122</td>\n",
       "    </tr>\n",
       "    <tr>\n",
       "      <th>362</th>\n",
       "      <td>13.0</td>\n",
       "      <td>train_loss_epoch</td>\n",
       "      <td>0.675846</td>\n",
       "    </tr>\n",
       "    <tr>\n",
       "      <th>375</th>\n",
       "      <td>14.0</td>\n",
       "      <td>train_loss_epoch</td>\n",
       "      <td>0.654940</td>\n",
       "    </tr>\n",
       "    <tr>\n",
       "      <th>387</th>\n",
       "      <td>15.0</td>\n",
       "      <td>train_loss_epoch</td>\n",
       "      <td>0.650988</td>\n",
       "    </tr>\n",
       "  </tbody>\n",
       "</table>\n",
       "</div>"
      ],
      "text/plain": [
       "     epoch          variable     value\n",
       "10     0.0    val_loss_epoch  1.613551\n",
       "22     1.0    val_loss_epoch  1.248527\n",
       "34     2.0    val_loss_epoch  1.132046\n",
       "46     3.0    val_loss_epoch  1.025387\n",
       "58     4.0    val_loss_epoch  0.939486\n",
       "70     5.0    val_loss_epoch  0.957103\n",
       "82     6.0    val_loss_epoch  0.929148\n",
       "95     7.0    val_loss_epoch  0.979620\n",
       "107    8.0    val_loss_epoch  0.942731\n",
       "119    9.0    val_loss_epoch  0.938706\n",
       "131   10.0    val_loss_epoch  0.912823\n",
       "143   11.0    val_loss_epoch  0.941035\n",
       "155   12.0    val_loss_epoch  0.922149\n",
       "167   13.0    val_loss_epoch  0.924049\n",
       "180   14.0    val_loss_epoch  0.916660\n",
       "192   15.0    val_loss_epoch  0.924018\n",
       "205    0.0  train_loss_epoch  2.335451\n",
       "217    1.0  train_loss_epoch  1.454266\n",
       "229    2.0  train_loss_epoch  1.209699\n",
       "241    3.0  train_loss_epoch  1.104436\n",
       "253    4.0  train_loss_epoch  1.034539\n",
       "265    5.0  train_loss_epoch  0.989705\n",
       "277    6.0  train_loss_epoch  0.938475\n",
       "290    7.0  train_loss_epoch  0.903414\n",
       "302    8.0  train_loss_epoch  0.861421\n",
       "314    9.0  train_loss_epoch  0.817064\n",
       "326   10.0  train_loss_epoch  0.732955\n",
       "338   11.0  train_loss_epoch  0.707719\n",
       "350   12.0  train_loss_epoch  0.691122\n",
       "362   13.0  train_loss_epoch  0.675846\n",
       "375   14.0  train_loss_epoch  0.654940\n",
       "387   15.0  train_loss_epoch  0.650988"
      ]
     },
     "execution_count": 18,
     "metadata": {},
     "output_type": "execute_result"
    }
   ],
   "source": [
    "loss_summary_long = loss_summary.melt(\n",
    "    id_vars=[\"epoch\"],\n",
    "    value_vars=loss_cols,\n",
    ")\n",
    "loss_summary_long[~loss_summary_long[\"value\"].isna()]"
   ]
  },
  {
   "cell_type": "code",
   "execution_count": 19,
   "metadata": {},
   "outputs": [
    {
     "data": {
      "text/html": [
       "<div>\n",
       "<style scoped>\n",
       "    .dataframe tbody tr th:only-of-type {\n",
       "        vertical-align: middle;\n",
       "    }\n",
       "\n",
       "    .dataframe tbody tr th {\n",
       "        vertical-align: top;\n",
       "    }\n",
       "\n",
       "    .dataframe thead th {\n",
       "        text-align: right;\n",
       "    }\n",
       "</style>\n",
       "<table border=\"1\" class=\"dataframe\">\n",
       "  <thead>\n",
       "    <tr style=\"text-align: right;\">\n",
       "      <th></th>\n",
       "      <th>epoch</th>\n",
       "      <th>variable</th>\n",
       "      <th>value</th>\n",
       "    </tr>\n",
       "  </thead>\n",
       "  <tbody>\n",
       "    <tr>\n",
       "      <th>10</th>\n",
       "      <td>0.0</td>\n",
       "      <td>val_r2score_epoch</td>\n",
       "      <td>0.409606</td>\n",
       "    </tr>\n",
       "    <tr>\n",
       "      <th>22</th>\n",
       "      <td>1.0</td>\n",
       "      <td>val_r2score_epoch</td>\n",
       "      <td>0.543168</td>\n",
       "    </tr>\n",
       "    <tr>\n",
       "      <th>34</th>\n",
       "      <td>2.0</td>\n",
       "      <td>val_r2score_epoch</td>\n",
       "      <td>0.585788</td>\n",
       "    </tr>\n",
       "    <tr>\n",
       "      <th>46</th>\n",
       "      <td>3.0</td>\n",
       "      <td>val_r2score_epoch</td>\n",
       "      <td>0.624814</td>\n",
       "    </tr>\n",
       "    <tr>\n",
       "      <th>58</th>\n",
       "      <td>4.0</td>\n",
       "      <td>val_r2score_epoch</td>\n",
       "      <td>0.656245</td>\n",
       "    </tr>\n",
       "    <tr>\n",
       "      <th>70</th>\n",
       "      <td>5.0</td>\n",
       "      <td>val_r2score_epoch</td>\n",
       "      <td>0.649799</td>\n",
       "    </tr>\n",
       "    <tr>\n",
       "      <th>82</th>\n",
       "      <td>6.0</td>\n",
       "      <td>val_r2score_epoch</td>\n",
       "      <td>0.660027</td>\n",
       "    </tr>\n",
       "    <tr>\n",
       "      <th>95</th>\n",
       "      <td>7.0</td>\n",
       "      <td>val_r2score_epoch</td>\n",
       "      <td>0.641560</td>\n",
       "    </tr>\n",
       "    <tr>\n",
       "      <th>107</th>\n",
       "      <td>8.0</td>\n",
       "      <td>val_r2score_epoch</td>\n",
       "      <td>0.655057</td>\n",
       "    </tr>\n",
       "    <tr>\n",
       "      <th>119</th>\n",
       "      <td>9.0</td>\n",
       "      <td>val_r2score_epoch</td>\n",
       "      <td>0.656530</td>\n",
       "    </tr>\n",
       "    <tr>\n",
       "      <th>131</th>\n",
       "      <td>10.0</td>\n",
       "      <td>val_r2score_epoch</td>\n",
       "      <td>0.666001</td>\n",
       "    </tr>\n",
       "    <tr>\n",
       "      <th>143</th>\n",
       "      <td>11.0</td>\n",
       "      <td>val_r2score_epoch</td>\n",
       "      <td>0.655678</td>\n",
       "    </tr>\n",
       "    <tr>\n",
       "      <th>155</th>\n",
       "      <td>12.0</td>\n",
       "      <td>val_r2score_epoch</td>\n",
       "      <td>0.662588</td>\n",
       "    </tr>\n",
       "    <tr>\n",
       "      <th>167</th>\n",
       "      <td>13.0</td>\n",
       "      <td>val_r2score_epoch</td>\n",
       "      <td>0.661893</td>\n",
       "    </tr>\n",
       "    <tr>\n",
       "      <th>180</th>\n",
       "      <td>14.0</td>\n",
       "      <td>val_r2score_epoch</td>\n",
       "      <td>0.664597</td>\n",
       "    </tr>\n",
       "    <tr>\n",
       "      <th>192</th>\n",
       "      <td>15.0</td>\n",
       "      <td>val_r2score_epoch</td>\n",
       "      <td>0.661905</td>\n",
       "    </tr>\n",
       "    <tr>\n",
       "      <th>205</th>\n",
       "      <td>0.0</td>\n",
       "      <td>train_r2score_epoch</td>\n",
       "      <td>0.162849</td>\n",
       "    </tr>\n",
       "    <tr>\n",
       "      <th>217</th>\n",
       "      <td>1.0</td>\n",
       "      <td>train_r2score_epoch</td>\n",
       "      <td>0.478670</td>\n",
       "    </tr>\n",
       "    <tr>\n",
       "      <th>229</th>\n",
       "      <td>2.0</td>\n",
       "      <td>train_r2score_epoch</td>\n",
       "      <td>0.566356</td>\n",
       "    </tr>\n",
       "    <tr>\n",
       "      <th>241</th>\n",
       "      <td>3.0</td>\n",
       "      <td>train_r2score_epoch</td>\n",
       "      <td>0.604106</td>\n",
       "    </tr>\n",
       "    <tr>\n",
       "      <th>253</th>\n",
       "      <td>4.0</td>\n",
       "      <td>train_r2score_epoch</td>\n",
       "      <td>0.629156</td>\n",
       "    </tr>\n",
       "    <tr>\n",
       "      <th>265</th>\n",
       "      <td>5.0</td>\n",
       "      <td>train_r2score_epoch</td>\n",
       "      <td>0.645233</td>\n",
       "    </tr>\n",
       "    <tr>\n",
       "      <th>277</th>\n",
       "      <td>6.0</td>\n",
       "      <td>train_r2score_epoch</td>\n",
       "      <td>0.663590</td>\n",
       "    </tr>\n",
       "    <tr>\n",
       "      <th>290</th>\n",
       "      <td>7.0</td>\n",
       "      <td>train_r2score_epoch</td>\n",
       "      <td>0.676158</td>\n",
       "    </tr>\n",
       "    <tr>\n",
       "      <th>302</th>\n",
       "      <td>8.0</td>\n",
       "      <td>train_r2score_epoch</td>\n",
       "      <td>0.691203</td>\n",
       "    </tr>\n",
       "    <tr>\n",
       "      <th>314</th>\n",
       "      <td>9.0</td>\n",
       "      <td>train_r2score_epoch</td>\n",
       "      <td>0.707115</td>\n",
       "    </tr>\n",
       "    <tr>\n",
       "      <th>326</th>\n",
       "      <td>10.0</td>\n",
       "      <td>train_r2score_epoch</td>\n",
       "      <td>0.737259</td>\n",
       "    </tr>\n",
       "    <tr>\n",
       "      <th>338</th>\n",
       "      <td>11.0</td>\n",
       "      <td>train_r2score_epoch</td>\n",
       "      <td>0.746316</td>\n",
       "    </tr>\n",
       "    <tr>\n",
       "      <th>350</th>\n",
       "      <td>12.0</td>\n",
       "      <td>train_r2score_epoch</td>\n",
       "      <td>0.752250</td>\n",
       "    </tr>\n",
       "    <tr>\n",
       "      <th>362</th>\n",
       "      <td>13.0</td>\n",
       "      <td>train_r2score_epoch</td>\n",
       "      <td>0.757737</td>\n",
       "    </tr>\n",
       "    <tr>\n",
       "      <th>375</th>\n",
       "      <td>14.0</td>\n",
       "      <td>train_r2score_epoch</td>\n",
       "      <td>0.765216</td>\n",
       "    </tr>\n",
       "    <tr>\n",
       "      <th>387</th>\n",
       "      <td>15.0</td>\n",
       "      <td>train_r2score_epoch</td>\n",
       "      <td>0.766600</td>\n",
       "    </tr>\n",
       "  </tbody>\n",
       "</table>\n",
       "</div>"
      ],
      "text/plain": [
       "     epoch             variable     value\n",
       "10     0.0    val_r2score_epoch  0.409606\n",
       "22     1.0    val_r2score_epoch  0.543168\n",
       "34     2.0    val_r2score_epoch  0.585788\n",
       "46     3.0    val_r2score_epoch  0.624814\n",
       "58     4.0    val_r2score_epoch  0.656245\n",
       "70     5.0    val_r2score_epoch  0.649799\n",
       "82     6.0    val_r2score_epoch  0.660027\n",
       "95     7.0    val_r2score_epoch  0.641560\n",
       "107    8.0    val_r2score_epoch  0.655057\n",
       "119    9.0    val_r2score_epoch  0.656530\n",
       "131   10.0    val_r2score_epoch  0.666001\n",
       "143   11.0    val_r2score_epoch  0.655678\n",
       "155   12.0    val_r2score_epoch  0.662588\n",
       "167   13.0    val_r2score_epoch  0.661893\n",
       "180   14.0    val_r2score_epoch  0.664597\n",
       "192   15.0    val_r2score_epoch  0.661905\n",
       "205    0.0  train_r2score_epoch  0.162849\n",
       "217    1.0  train_r2score_epoch  0.478670\n",
       "229    2.0  train_r2score_epoch  0.566356\n",
       "241    3.0  train_r2score_epoch  0.604106\n",
       "253    4.0  train_r2score_epoch  0.629156\n",
       "265    5.0  train_r2score_epoch  0.645233\n",
       "277    6.0  train_r2score_epoch  0.663590\n",
       "290    7.0  train_r2score_epoch  0.676158\n",
       "302    8.0  train_r2score_epoch  0.691203\n",
       "314    9.0  train_r2score_epoch  0.707115\n",
       "326   10.0  train_r2score_epoch  0.737259\n",
       "338   11.0  train_r2score_epoch  0.746316\n",
       "350   12.0  train_r2score_epoch  0.752250\n",
       "362   13.0  train_r2score_epoch  0.757737\n",
       "375   14.0  train_r2score_epoch  0.765216\n",
       "387   15.0  train_r2score_epoch  0.766600"
      ]
     },
     "execution_count": 19,
     "metadata": {},
     "output_type": "execute_result"
    }
   ],
   "source": [
    "metric_summary_long = metric_summary.melt(\n",
    "    id_vars=[\"epoch\"],\n",
    "    value_vars=metric_cols,\n",
    ")\n",
    "metric_summary_long[~metric_summary_long[\"value\"].isna()]"
   ]
  },
  {
   "cell_type": "code",
   "execution_count": 20,
   "metadata": {},
   "outputs": [],
   "source": [
    "import matplotlib.pyplot as plt"
   ]
  },
  {
   "cell_type": "code",
   "execution_count": 21,
   "metadata": {},
   "outputs": [
    {
     "data": {
      "text/plain": [
       "<AxesSubplot: xlabel='epoch', ylabel='value'>"
      ]
     },
     "execution_count": 21,
     "metadata": {},
     "output_type": "execute_result"
    },
    {
     "data": {
      "image/png": "[encoded data removed]",
      "text/plain": [
       "<Figure size 1000x500 with 2 Axes>"
      ]
     },
     "metadata": {},
     "output_type": "display_data"
    }
   ],
   "source": [
    "# Plot the epoch loss and metrics side by side\n",
    "fig, axes = plt.subplots(1, 2, figsize=(10, 5))\n",
    "sns.lineplot(\n",
    "    data=loss_summary_long,\n",
    "    x=\"epoch\",\n",
    "    y=\"value\",\n",
    "    hue=\"variable\",\n",
    "    ax=axes[0]\n",
    ")\n",
    "sns.lineplot(\n",
    "    data=metric_summary_long,\n",
    "    x=\"epoch\",\n",
    "    y=\"value\",\n",
    "    hue=\"variable\",\n",
    "    ax=axes[1]\n",
    ")"
   ]
  },
  {
   "cell_type": "code",
   "execution_count": null,
   "metadata": {},
   "outputs": [],
   "source": [
    "# Get columns with metric\n",
    "metric_cols = [col for col in training_summary.columns if metric in col]\n",
    "\n",
    "# Get columns for train_loss_epoch and val_loss\n",
    "epoch_loss_cols = [\"train_loss_epoch\", \"val_loss\"]"
   ]
  },
  {
   "cell_type": "code",
   "execution_count": 96,
   "metadata": {},
   "outputs": [
    {
     "data": {
      "text/html": [
       "<div>\n",
       "<style scoped>\n",
       "    .dataframe tbody tr th:only-of-type {\n",
       "        vertical-align: middle;\n",
       "    }\n",
       "\n",
       "    .dataframe tbody tr th {\n",
       "        vertical-align: top;\n",
       "    }\n",
       "\n",
       "    .dataframe thead th {\n",
       "        text-align: right;\n",
       "    }\n",
       "</style>\n",
       "<table border=\"1\" class=\"dataframe\">\n",
       "  <thead>\n",
       "    <tr style=\"text-align: right;\">\n",
       "      <th></th>\n",
       "      <th>lr-Adam</th>\n",
       "      <th>step</th>\n",
       "      <th>train_loss_step</th>\n",
       "      <th>epoch</th>\n",
       "      <th>val_loss</th>\n",
       "      <th>val_r2score</th>\n",
       "      <th>train_loss_epoch</th>\n",
       "      <th>train_r2score</th>\n",
       "    </tr>\n",
       "  </thead>\n",
       "  <tbody>\n",
       "    <tr>\n",
       "      <th>0</th>\n",
       "      <td>0.001</td>\n",
       "      <td>0</td>\n",
       "      <td>NaN</td>\n",
       "      <td>NaN</td>\n",
       "      <td>NaN</td>\n",
       "      <td>NaN</td>\n",
       "      <td>NaN</td>\n",
       "      <td>NaN</td>\n",
       "    </tr>\n",
       "    <tr>\n",
       "      <th>1</th>\n",
       "      <td>NaN</td>\n",
       "      <td>49</td>\n",
       "      <td>2.631886</td>\n",
       "      <td>0.0</td>\n",
       "      <td>NaN</td>\n",
       "      <td>NaN</td>\n",
       "      <td>NaN</td>\n",
       "      <td>NaN</td>\n",
       "    </tr>\n",
       "    <tr>\n",
       "      <th>2</th>\n",
       "      <td>NaN</td>\n",
       "      <td>99</td>\n",
       "      <td>2.854498</td>\n",
       "      <td>0.0</td>\n",
       "      <td>NaN</td>\n",
       "      <td>NaN</td>\n",
       "      <td>NaN</td>\n",
       "      <td>NaN</td>\n",
       "    </tr>\n",
       "    <tr>\n",
       "      <th>3</th>\n",
       "      <td>NaN</td>\n",
       "      <td>149</td>\n",
       "      <td>2.421745</td>\n",
       "      <td>0.0</td>\n",
       "      <td>NaN</td>\n",
       "      <td>NaN</td>\n",
       "      <td>NaN</td>\n",
       "      <td>NaN</td>\n",
       "    </tr>\n",
       "    <tr>\n",
       "      <th>4</th>\n",
       "      <td>NaN</td>\n",
       "      <td>199</td>\n",
       "      <td>2.518469</td>\n",
       "      <td>0.0</td>\n",
       "      <td>NaN</td>\n",
       "      <td>NaN</td>\n",
       "      <td>NaN</td>\n",
       "      <td>NaN</td>\n",
       "    </tr>\n",
       "    <tr>\n",
       "      <th>5</th>\n",
       "      <td>NaN</td>\n",
       "      <td>249</td>\n",
       "      <td>2.033890</td>\n",
       "      <td>0.0</td>\n",
       "      <td>NaN</td>\n",
       "      <td>NaN</td>\n",
       "      <td>NaN</td>\n",
       "      <td>NaN</td>\n",
       "    </tr>\n",
       "    <tr>\n",
       "      <th>6</th>\n",
       "      <td>NaN</td>\n",
       "      <td>299</td>\n",
       "      <td>2.097217</td>\n",
       "      <td>0.0</td>\n",
       "      <td>NaN</td>\n",
       "      <td>NaN</td>\n",
       "      <td>NaN</td>\n",
       "      <td>NaN</td>\n",
       "    </tr>\n",
       "    <tr>\n",
       "      <th>7</th>\n",
       "      <td>NaN</td>\n",
       "      <td>349</td>\n",
       "      <td>1.834924</td>\n",
       "      <td>0.0</td>\n",
       "      <td>NaN</td>\n",
       "      <td>NaN</td>\n",
       "      <td>NaN</td>\n",
       "      <td>NaN</td>\n",
       "    </tr>\n",
       "    <tr>\n",
       "      <th>8</th>\n",
       "      <td>NaN</td>\n",
       "      <td>399</td>\n",
       "      <td>1.810262</td>\n",
       "      <td>0.0</td>\n",
       "      <td>NaN</td>\n",
       "      <td>NaN</td>\n",
       "      <td>NaN</td>\n",
       "      <td>NaN</td>\n",
       "    </tr>\n",
       "    <tr>\n",
       "      <th>9</th>\n",
       "      <td>NaN</td>\n",
       "      <td>449</td>\n",
       "      <td>2.067122</td>\n",
       "      <td>0.0</td>\n",
       "      <td>NaN</td>\n",
       "      <td>NaN</td>\n",
       "      <td>NaN</td>\n",
       "      <td>NaN</td>\n",
       "    </tr>\n",
       "    <tr>\n",
       "      <th>10</th>\n",
       "      <td>NaN</td>\n",
       "      <td>456</td>\n",
       "      <td>NaN</td>\n",
       "      <td>0.0</td>\n",
       "      <td>1.748259</td>\n",
       "      <td>0.360317</td>\n",
       "      <td>NaN</td>\n",
       "      <td>NaN</td>\n",
       "    </tr>\n",
       "    <tr>\n",
       "      <th>11</th>\n",
       "      <td>NaN</td>\n",
       "      <td>456</td>\n",
       "      <td>NaN</td>\n",
       "      <td>0.0</td>\n",
       "      <td>NaN</td>\n",
       "      <td>NaN</td>\n",
       "      <td>2.480533</td>\n",
       "      <td>0.110789</td>\n",
       "    </tr>\n",
       "    <tr>\n",
       "      <th>12</th>\n",
       "      <td>0.001</td>\n",
       "      <td>457</td>\n",
       "      <td>NaN</td>\n",
       "      <td>NaN</td>\n",
       "      <td>NaN</td>\n",
       "      <td>NaN</td>\n",
       "      <td>NaN</td>\n",
       "      <td>NaN</td>\n",
       "    </tr>\n",
       "    <tr>\n",
       "      <th>13</th>\n",
       "      <td>NaN</td>\n",
       "      <td>499</td>\n",
       "      <td>1.970950</td>\n",
       "      <td>1.0</td>\n",
       "      <td>NaN</td>\n",
       "      <td>NaN</td>\n",
       "      <td>NaN</td>\n",
       "      <td>NaN</td>\n",
       "    </tr>\n",
       "    <tr>\n",
       "      <th>14</th>\n",
       "      <td>NaN</td>\n",
       "      <td>549</td>\n",
       "      <td>1.823760</td>\n",
       "      <td>1.0</td>\n",
       "      <td>NaN</td>\n",
       "      <td>NaN</td>\n",
       "      <td>NaN</td>\n",
       "      <td>NaN</td>\n",
       "    </tr>\n",
       "    <tr>\n",
       "      <th>15</th>\n",
       "      <td>NaN</td>\n",
       "      <td>599</td>\n",
       "      <td>1.347417</td>\n",
       "      <td>1.0</td>\n",
       "      <td>NaN</td>\n",
       "      <td>NaN</td>\n",
       "      <td>NaN</td>\n",
       "      <td>NaN</td>\n",
       "    </tr>\n",
       "    <tr>\n",
       "      <th>16</th>\n",
       "      <td>NaN</td>\n",
       "      <td>649</td>\n",
       "      <td>1.699695</td>\n",
       "      <td>1.0</td>\n",
       "      <td>NaN</td>\n",
       "      <td>NaN</td>\n",
       "      <td>NaN</td>\n",
       "      <td>NaN</td>\n",
       "    </tr>\n",
       "    <tr>\n",
       "      <th>17</th>\n",
       "      <td>NaN</td>\n",
       "      <td>699</td>\n",
       "      <td>1.361256</td>\n",
       "      <td>1.0</td>\n",
       "      <td>NaN</td>\n",
       "      <td>NaN</td>\n",
       "      <td>NaN</td>\n",
       "      <td>NaN</td>\n",
       "    </tr>\n",
       "    <tr>\n",
       "      <th>18</th>\n",
       "      <td>NaN</td>\n",
       "      <td>749</td>\n",
       "      <td>1.691796</td>\n",
       "      <td>1.0</td>\n",
       "      <td>NaN</td>\n",
       "      <td>NaN</td>\n",
       "      <td>NaN</td>\n",
       "      <td>NaN</td>\n",
       "    </tr>\n",
       "    <tr>\n",
       "      <th>19</th>\n",
       "      <td>NaN</td>\n",
       "      <td>799</td>\n",
       "      <td>1.849018</td>\n",
       "      <td>1.0</td>\n",
       "      <td>NaN</td>\n",
       "      <td>NaN</td>\n",
       "      <td>NaN</td>\n",
       "      <td>NaN</td>\n",
       "    </tr>\n",
       "    <tr>\n",
       "      <th>20</th>\n",
       "      <td>NaN</td>\n",
       "      <td>849</td>\n",
       "      <td>1.597778</td>\n",
       "      <td>1.0</td>\n",
       "      <td>NaN</td>\n",
       "      <td>NaN</td>\n",
       "      <td>NaN</td>\n",
       "      <td>NaN</td>\n",
       "    </tr>\n",
       "    <tr>\n",
       "      <th>21</th>\n",
       "      <td>NaN</td>\n",
       "      <td>899</td>\n",
       "      <td>1.429020</td>\n",
       "      <td>1.0</td>\n",
       "      <td>NaN</td>\n",
       "      <td>NaN</td>\n",
       "      <td>NaN</td>\n",
       "      <td>NaN</td>\n",
       "    </tr>\n",
       "    <tr>\n",
       "      <th>22</th>\n",
       "      <td>NaN</td>\n",
       "      <td>913</td>\n",
       "      <td>NaN</td>\n",
       "      <td>1.0</td>\n",
       "      <td>1.430915</td>\n",
       "      <td>0.476432</td>\n",
       "      <td>NaN</td>\n",
       "      <td>NaN</td>\n",
       "    </tr>\n",
       "    <tr>\n",
       "      <th>23</th>\n",
       "      <td>NaN</td>\n",
       "      <td>913</td>\n",
       "      <td>NaN</td>\n",
       "      <td>1.0</td>\n",
       "      <td>NaN</td>\n",
       "      <td>NaN</td>\n",
       "      <td>1.692071</td>\n",
       "      <td>0.393407</td>\n",
       "    </tr>\n",
       "    <tr>\n",
       "      <th>24</th>\n",
       "      <td>0.001</td>\n",
       "      <td>914</td>\n",
       "      <td>NaN</td>\n",
       "      <td>NaN</td>\n",
       "      <td>NaN</td>\n",
       "      <td>NaN</td>\n",
       "      <td>NaN</td>\n",
       "      <td>NaN</td>\n",
       "    </tr>\n",
       "    <tr>\n",
       "      <th>25</th>\n",
       "      <td>NaN</td>\n",
       "      <td>949</td>\n",
       "      <td>1.439604</td>\n",
       "      <td>2.0</td>\n",
       "      <td>NaN</td>\n",
       "      <td>NaN</td>\n",
       "      <td>NaN</td>\n",
       "      <td>NaN</td>\n",
       "    </tr>\n",
       "    <tr>\n",
       "      <th>26</th>\n",
       "      <td>NaN</td>\n",
       "      <td>999</td>\n",
       "      <td>1.899850</td>\n",
       "      <td>2.0</td>\n",
       "      <td>NaN</td>\n",
       "      <td>NaN</td>\n",
       "      <td>NaN</td>\n",
       "      <td>NaN</td>\n",
       "    </tr>\n",
       "    <tr>\n",
       "      <th>27</th>\n",
       "      <td>NaN</td>\n",
       "      <td>1049</td>\n",
       "      <td>1.542036</td>\n",
       "      <td>2.0</td>\n",
       "      <td>NaN</td>\n",
       "      <td>NaN</td>\n",
       "      <td>NaN</td>\n",
       "      <td>NaN</td>\n",
       "    </tr>\n",
       "    <tr>\n",
       "      <th>28</th>\n",
       "      <td>NaN</td>\n",
       "      <td>1099</td>\n",
       "      <td>1.335371</td>\n",
       "      <td>2.0</td>\n",
       "      <td>NaN</td>\n",
       "      <td>NaN</td>\n",
       "      <td>NaN</td>\n",
       "      <td>NaN</td>\n",
       "    </tr>\n",
       "    <tr>\n",
       "      <th>29</th>\n",
       "      <td>NaN</td>\n",
       "      <td>1149</td>\n",
       "      <td>1.504854</td>\n",
       "      <td>2.0</td>\n",
       "      <td>NaN</td>\n",
       "      <td>NaN</td>\n",
       "      <td>NaN</td>\n",
       "      <td>NaN</td>\n",
       "    </tr>\n",
       "    <tr>\n",
       "      <th>30</th>\n",
       "      <td>NaN</td>\n",
       "      <td>1199</td>\n",
       "      <td>1.455799</td>\n",
       "      <td>2.0</td>\n",
       "      <td>NaN</td>\n",
       "      <td>NaN</td>\n",
       "      <td>NaN</td>\n",
       "      <td>NaN</td>\n",
       "    </tr>\n",
       "    <tr>\n",
       "      <th>31</th>\n",
       "      <td>NaN</td>\n",
       "      <td>1249</td>\n",
       "      <td>1.393389</td>\n",
       "      <td>2.0</td>\n",
       "      <td>NaN</td>\n",
       "      <td>NaN</td>\n",
       "      <td>NaN</td>\n",
       "      <td>NaN</td>\n",
       "    </tr>\n",
       "    <tr>\n",
       "      <th>32</th>\n",
       "      <td>NaN</td>\n",
       "      <td>1299</td>\n",
       "      <td>1.639111</td>\n",
       "      <td>2.0</td>\n",
       "      <td>NaN</td>\n",
       "      <td>NaN</td>\n",
       "      <td>NaN</td>\n",
       "      <td>NaN</td>\n",
       "    </tr>\n",
       "    <tr>\n",
       "      <th>33</th>\n",
       "      <td>NaN</td>\n",
       "      <td>1349</td>\n",
       "      <td>1.513992</td>\n",
       "      <td>2.0</td>\n",
       "      <td>NaN</td>\n",
       "      <td>NaN</td>\n",
       "      <td>NaN</td>\n",
       "      <td>NaN</td>\n",
       "    </tr>\n",
       "    <tr>\n",
       "      <th>34</th>\n",
       "      <td>NaN</td>\n",
       "      <td>1370</td>\n",
       "      <td>NaN</td>\n",
       "      <td>2.0</td>\n",
       "      <td>1.402823</td>\n",
       "      <td>0.486711</td>\n",
       "      <td>NaN</td>\n",
       "      <td>NaN</td>\n",
       "    </tr>\n",
       "    <tr>\n",
       "      <th>35</th>\n",
       "      <td>NaN</td>\n",
       "      <td>1370</td>\n",
       "      <td>NaN</td>\n",
       "      <td>2.0</td>\n",
       "      <td>NaN</td>\n",
       "      <td>NaN</td>\n",
       "      <td>1.483757</td>\n",
       "      <td>0.468128</td>\n",
       "    </tr>\n",
       "    <tr>\n",
       "      <th>36</th>\n",
       "      <td>0.001</td>\n",
       "      <td>1371</td>\n",
       "      <td>NaN</td>\n",
       "      <td>NaN</td>\n",
       "      <td>NaN</td>\n",
       "      <td>NaN</td>\n",
       "      <td>NaN</td>\n",
       "      <td>NaN</td>\n",
       "    </tr>\n",
       "    <tr>\n",
       "      <th>37</th>\n",
       "      <td>NaN</td>\n",
       "      <td>1399</td>\n",
       "      <td>1.479198</td>\n",
       "      <td>3.0</td>\n",
       "      <td>NaN</td>\n",
       "      <td>NaN</td>\n",
       "      <td>NaN</td>\n",
       "      <td>NaN</td>\n",
       "    </tr>\n",
       "    <tr>\n",
       "      <th>38</th>\n",
       "      <td>NaN</td>\n",
       "      <td>1449</td>\n",
       "      <td>1.627690</td>\n",
       "      <td>3.0</td>\n",
       "      <td>NaN</td>\n",
       "      <td>NaN</td>\n",
       "      <td>NaN</td>\n",
       "      <td>NaN</td>\n",
       "    </tr>\n",
       "    <tr>\n",
       "      <th>39</th>\n",
       "      <td>NaN</td>\n",
       "      <td>1499</td>\n",
       "      <td>1.297658</td>\n",
       "      <td>3.0</td>\n",
       "      <td>NaN</td>\n",
       "      <td>NaN</td>\n",
       "      <td>NaN</td>\n",
       "      <td>NaN</td>\n",
       "    </tr>\n",
       "    <tr>\n",
       "      <th>40</th>\n",
       "      <td>NaN</td>\n",
       "      <td>1549</td>\n",
       "      <td>1.776790</td>\n",
       "      <td>3.0</td>\n",
       "      <td>NaN</td>\n",
       "      <td>NaN</td>\n",
       "      <td>NaN</td>\n",
       "      <td>NaN</td>\n",
       "    </tr>\n",
       "    <tr>\n",
       "      <th>41</th>\n",
       "      <td>NaN</td>\n",
       "      <td>1599</td>\n",
       "      <td>1.229382</td>\n",
       "      <td>3.0</td>\n",
       "      <td>NaN</td>\n",
       "      <td>NaN</td>\n",
       "      <td>NaN</td>\n",
       "      <td>NaN</td>\n",
       "    </tr>\n",
       "    <tr>\n",
       "      <th>42</th>\n",
       "      <td>NaN</td>\n",
       "      <td>1649</td>\n",
       "      <td>1.242169</td>\n",
       "      <td>3.0</td>\n",
       "      <td>NaN</td>\n",
       "      <td>NaN</td>\n",
       "      <td>NaN</td>\n",
       "      <td>NaN</td>\n",
       "    </tr>\n",
       "    <tr>\n",
       "      <th>43</th>\n",
       "      <td>NaN</td>\n",
       "      <td>1699</td>\n",
       "      <td>1.218032</td>\n",
       "      <td>3.0</td>\n",
       "      <td>NaN</td>\n",
       "      <td>NaN</td>\n",
       "      <td>NaN</td>\n",
       "      <td>NaN</td>\n",
       "    </tr>\n",
       "    <tr>\n",
       "      <th>44</th>\n",
       "      <td>NaN</td>\n",
       "      <td>1749</td>\n",
       "      <td>1.112555</td>\n",
       "      <td>3.0</td>\n",
       "      <td>NaN</td>\n",
       "      <td>NaN</td>\n",
       "      <td>NaN</td>\n",
       "      <td>NaN</td>\n",
       "    </tr>\n",
       "    <tr>\n",
       "      <th>45</th>\n",
       "      <td>NaN</td>\n",
       "      <td>1799</td>\n",
       "      <td>1.265396</td>\n",
       "      <td>3.0</td>\n",
       "      <td>NaN</td>\n",
       "      <td>NaN</td>\n",
       "      <td>NaN</td>\n",
       "      <td>NaN</td>\n",
       "    </tr>\n",
       "    <tr>\n",
       "      <th>46</th>\n",
       "      <td>NaN</td>\n",
       "      <td>1827</td>\n",
       "      <td>NaN</td>\n",
       "      <td>3.0</td>\n",
       "      <td>1.398322</td>\n",
       "      <td>0.488358</td>\n",
       "      <td>NaN</td>\n",
       "      <td>NaN</td>\n",
       "    </tr>\n",
       "    <tr>\n",
       "      <th>47</th>\n",
       "      <td>NaN</td>\n",
       "      <td>1827</td>\n",
       "      <td>NaN</td>\n",
       "      <td>3.0</td>\n",
       "      <td>NaN</td>\n",
       "      <td>NaN</td>\n",
       "      <td>1.380836</td>\n",
       "      <td>0.504979</td>\n",
       "    </tr>\n",
       "    <tr>\n",
       "      <th>48</th>\n",
       "      <td>0.001</td>\n",
       "      <td>1828</td>\n",
       "      <td>NaN</td>\n",
       "      <td>NaN</td>\n",
       "      <td>NaN</td>\n",
       "      <td>NaN</td>\n",
       "      <td>NaN</td>\n",
       "      <td>NaN</td>\n",
       "    </tr>\n",
       "    <tr>\n",
       "      <th>49</th>\n",
       "      <td>NaN</td>\n",
       "      <td>1849</td>\n",
       "      <td>0.837059</td>\n",
       "      <td>4.0</td>\n",
       "      <td>NaN</td>\n",
       "      <td>NaN</td>\n",
       "      <td>NaN</td>\n",
       "      <td>NaN</td>\n",
       "    </tr>\n",
       "    <tr>\n",
       "      <th>50</th>\n",
       "      <td>NaN</td>\n",
       "      <td>1899</td>\n",
       "      <td>1.238324</td>\n",
       "      <td>4.0</td>\n",
       "      <td>NaN</td>\n",
       "      <td>NaN</td>\n",
       "      <td>NaN</td>\n",
       "      <td>NaN</td>\n",
       "    </tr>\n",
       "    <tr>\n",
       "      <th>51</th>\n",
       "      <td>NaN</td>\n",
       "      <td>1949</td>\n",
       "      <td>0.999440</td>\n",
       "      <td>4.0</td>\n",
       "      <td>NaN</td>\n",
       "      <td>NaN</td>\n",
       "      <td>NaN</td>\n",
       "      <td>NaN</td>\n",
       "    </tr>\n",
       "    <tr>\n",
       "      <th>52</th>\n",
       "      <td>NaN</td>\n",
       "      <td>1999</td>\n",
       "      <td>1.015173</td>\n",
       "      <td>4.0</td>\n",
       "      <td>NaN</td>\n",
       "      <td>NaN</td>\n",
       "      <td>NaN</td>\n",
       "      <td>NaN</td>\n",
       "    </tr>\n",
       "    <tr>\n",
       "      <th>53</th>\n",
       "      <td>NaN</td>\n",
       "      <td>2049</td>\n",
       "      <td>1.186810</td>\n",
       "      <td>4.0</td>\n",
       "      <td>NaN</td>\n",
       "      <td>NaN</td>\n",
       "      <td>NaN</td>\n",
       "      <td>NaN</td>\n",
       "    </tr>\n",
       "    <tr>\n",
       "      <th>54</th>\n",
       "      <td>NaN</td>\n",
       "      <td>2099</td>\n",
       "      <td>1.318294</td>\n",
       "      <td>4.0</td>\n",
       "      <td>NaN</td>\n",
       "      <td>NaN</td>\n",
       "      <td>NaN</td>\n",
       "      <td>NaN</td>\n",
       "    </tr>\n",
       "    <tr>\n",
       "      <th>55</th>\n",
       "      <td>NaN</td>\n",
       "      <td>2149</td>\n",
       "      <td>1.267588</td>\n",
       "      <td>4.0</td>\n",
       "      <td>NaN</td>\n",
       "      <td>NaN</td>\n",
       "      <td>NaN</td>\n",
       "      <td>NaN</td>\n",
       "    </tr>\n",
       "    <tr>\n",
       "      <th>56</th>\n",
       "      <td>NaN</td>\n",
       "      <td>2199</td>\n",
       "      <td>1.362758</td>\n",
       "      <td>4.0</td>\n",
       "      <td>NaN</td>\n",
       "      <td>NaN</td>\n",
       "      <td>NaN</td>\n",
       "      <td>NaN</td>\n",
       "    </tr>\n",
       "    <tr>\n",
       "      <th>57</th>\n",
       "      <td>NaN</td>\n",
       "      <td>2249</td>\n",
       "      <td>1.590166</td>\n",
       "      <td>4.0</td>\n",
       "      <td>NaN</td>\n",
       "      <td>NaN</td>\n",
       "      <td>NaN</td>\n",
       "      <td>NaN</td>\n",
       "    </tr>\n",
       "    <tr>\n",
       "      <th>58</th>\n",
       "      <td>NaN</td>\n",
       "      <td>2284</td>\n",
       "      <td>NaN</td>\n",
       "      <td>4.0</td>\n",
       "      <td>1.218361</td>\n",
       "      <td>0.554205</td>\n",
       "      <td>NaN</td>\n",
       "      <td>NaN</td>\n",
       "    </tr>\n",
       "    <tr>\n",
       "      <th>59</th>\n",
       "      <td>NaN</td>\n",
       "      <td>2284</td>\n",
       "      <td>NaN</td>\n",
       "      <td>4.0</td>\n",
       "      <td>NaN</td>\n",
       "      <td>NaN</td>\n",
       "      <td>1.313115</td>\n",
       "      <td>0.529259</td>\n",
       "    </tr>\n",
       "  </tbody>\n",
       "</table>\n",
       "</div>"
      ],
      "text/plain": [
       "    lr-Adam  step  train_loss_step  epoch  val_loss  val_r2score  \\\n",
       "0     0.001     0              NaN    NaN       NaN          NaN   \n",
       "1       NaN    49         2.631886    0.0       NaN          NaN   \n",
       "2       NaN    99         2.854498    0.0       NaN          NaN   \n",
       "3       NaN   149         2.421745    0.0       NaN          NaN   \n",
       "4       NaN   199         2.518469    0.0       NaN          NaN   \n",
       "5       NaN   249         2.033890    0.0       NaN          NaN   \n",
       "6       NaN   299         2.097217    0.0       NaN          NaN   \n",
       "7       NaN   349         1.834924    0.0       NaN          NaN   \n",
       "8       NaN   399         1.810262    0.0       NaN          NaN   \n",
       "9       NaN   449         2.067122    0.0       NaN          NaN   \n",
       "10      NaN   456              NaN    0.0  1.748259     0.360317   \n",
       "11      NaN   456              NaN    0.0       NaN          NaN   \n",
       "12    0.001   457              NaN    NaN       NaN          NaN   \n",
       "13      NaN   499         1.970950    1.0       NaN          NaN   \n",
       "14      NaN   549         1.823760    1.0       NaN          NaN   \n",
       "15      NaN   599         1.347417    1.0       NaN          NaN   \n",
       "16      NaN   649         1.699695    1.0       NaN          NaN   \n",
       "17      NaN   699         1.361256    1.0       NaN          NaN   \n",
       "18      NaN   749         1.691796    1.0       NaN          NaN   \n",
       "19      NaN   799         1.849018    1.0       NaN          NaN   \n",
       "20      NaN   849         1.597778    1.0       NaN          NaN   \n",
       "21      NaN   899         1.429020    1.0       NaN          NaN   \n",
       "22      NaN   913              NaN    1.0  1.430915     0.476432   \n",
       "23      NaN   913              NaN    1.0       NaN          NaN   \n",
       "24    0.001   914              NaN    NaN       NaN          NaN   \n",
       "25      NaN   949         1.439604    2.0       NaN          NaN   \n",
       "26      NaN   999         1.899850    2.0       NaN          NaN   \n",
       "27      NaN  1049         1.542036    2.0       NaN          NaN   \n",
       "28      NaN  1099         1.335371    2.0       NaN          NaN   \n",
       "29      NaN  1149         1.504854    2.0       NaN          NaN   \n",
       "30      NaN  1199         1.455799    2.0       NaN          NaN   \n",
       "31      NaN  1249         1.393389    2.0       NaN          NaN   \n",
       "32      NaN  1299         1.639111    2.0       NaN          NaN   \n",
       "33      NaN  1349         1.513992    2.0       NaN          NaN   \n",
       "34      NaN  1370              NaN    2.0  1.402823     0.486711   \n",
       "35      NaN  1370              NaN    2.0       NaN          NaN   \n",
       "36    0.001  1371              NaN    NaN       NaN          NaN   \n",
       "37      NaN  1399         1.479198    3.0       NaN          NaN   \n",
       "38      NaN  1449         1.627690    3.0       NaN          NaN   \n",
       "39      NaN  1499         1.297658    3.0       NaN          NaN   \n",
       "40      NaN  1549         1.776790    3.0       NaN          NaN   \n",
       "41      NaN  1599         1.229382    3.0       NaN          NaN   \n",
       "42      NaN  1649         1.242169    3.0       NaN          NaN   \n",
       "43      NaN  1699         1.218032    3.0       NaN          NaN   \n",
       "44      NaN  1749         1.112555    3.0       NaN          NaN   \n",
       "45      NaN  1799         1.265396    3.0       NaN          NaN   \n",
       "46      NaN  1827              NaN    3.0  1.398322     0.488358   \n",
       "47      NaN  1827              NaN    3.0       NaN          NaN   \n",
       "48    0.001  1828              NaN    NaN       NaN          NaN   \n",
       "49      NaN  1849         0.837059    4.0       NaN          NaN   \n",
       "50      NaN  1899         1.238324    4.0       NaN          NaN   \n",
       "51      NaN  1949         0.999440    4.0       NaN          NaN   \n",
       "52      NaN  1999         1.015173    4.0       NaN          NaN   \n",
       "53      NaN  2049         1.186810    4.0       NaN          NaN   \n",
       "54      NaN  2099         1.318294    4.0       NaN          NaN   \n",
       "55      NaN  2149         1.267588    4.0       NaN          NaN   \n",
       "56      NaN  2199         1.362758    4.0       NaN          NaN   \n",
       "57      NaN  2249         1.590166    4.0       NaN          NaN   \n",
       "58      NaN  2284              NaN    4.0  1.218361     0.554205   \n",
       "59      NaN  2284              NaN    4.0       NaN          NaN   \n",
       "\n",
       "    train_loss_epoch  train_r2score  \n",
       "0                NaN            NaN  \n",
       "1                NaN            NaN  \n",
       "2                NaN            NaN  \n",
       "3                NaN            NaN  \n",
       "4                NaN            NaN  \n",
       "5                NaN            NaN  \n",
       "6                NaN            NaN  \n",
       "7                NaN            NaN  \n",
       "8                NaN            NaN  \n",
       "9                NaN            NaN  \n",
       "10               NaN            NaN  \n",
       "11          2.480533       0.110789  \n",
       "12               NaN            NaN  \n",
       "13               NaN            NaN  \n",
       "14               NaN            NaN  \n",
       "15               NaN            NaN  \n",
       "16               NaN            NaN  \n",
       "17               NaN            NaN  \n",
       "18               NaN            NaN  \n",
       "19               NaN            NaN  \n",
       "20               NaN            NaN  \n",
       "21               NaN            NaN  \n",
       "22               NaN            NaN  \n",
       "23          1.692071       0.393407  \n",
       "24               NaN            NaN  \n",
       "25               NaN            NaN  \n",
       "26               NaN            NaN  \n",
       "27               NaN            NaN  \n",
       "28               NaN            NaN  \n",
       "29               NaN            NaN  \n",
       "30               NaN            NaN  \n",
       "31               NaN            NaN  \n",
       "32               NaN            NaN  \n",
       "33               NaN            NaN  \n",
       "34               NaN            NaN  \n",
       "35          1.483757       0.468128  \n",
       "36               NaN            NaN  \n",
       "37               NaN            NaN  \n",
       "38               NaN            NaN  \n",
       "39               NaN            NaN  \n",
       "40               NaN            NaN  \n",
       "41               NaN            NaN  \n",
       "42               NaN            NaN  \n",
       "43               NaN            NaN  \n",
       "44               NaN            NaN  \n",
       "45               NaN            NaN  \n",
       "46               NaN            NaN  \n",
       "47          1.380836       0.504979  \n",
       "48               NaN            NaN  \n",
       "49               NaN            NaN  \n",
       "50               NaN            NaN  \n",
       "51               NaN            NaN  \n",
       "52               NaN            NaN  \n",
       "53               NaN            NaN  \n",
       "54               NaN            NaN  \n",
       "55               NaN            NaN  \n",
       "56               NaN            NaN  \n",
       "57               NaN            NaN  \n",
       "58               NaN            NaN  \n",
       "59          1.313115       0.529259  "
      ]
     },
     "execution_count": 96,
     "metadata": {},
     "output_type": "execute_result"
    }
   ],
   "source": [
    "training_summary"
   ]
  },
  {
   "cell_type": "code",
   "execution_count": 58,
   "metadata": {},
   "outputs": [
    {
     "ename": "NameError",
     "evalue": "name 'y' is not defined",
     "output_type": "error",
     "traceback": [
      "\u001b[0;31m---------------------------------------------------------------------------\u001b[0m",
      "\u001b[0;31mNameError\u001b[0m                                 Traceback (most recent call last)",
      "Cell \u001b[0;32mIn[58], line 1\u001b[0m\n\u001b[0;32m----> 1\u001b[0m y\n",
      "\u001b[0;31mNameError\u001b[0m: name 'y' is not defined"
     ]
    }
   ],
   "source": [
    "y"
   ]
  },
  {
   "cell_type": "code",
   "execution_count": 56,
   "metadata": {},
   "outputs": [
    {
     "data": {
      "text/plain": [
       "<AxesSubplot: xlabel='step', ylabel='train_loss'>"
      ]
     },
     "execution_count": 56,
     "metadata": {},
     "output_type": "execute_result"
    },
    {
     "data": {
      "image/png": "[encoded data removed]",
      "text/plain": [
       "<Figure size 640x480 with 1 Axes>"
      ]
     },
     "metadata": {},
     "output_type": "display_data"
    }
   ],
   "source": [
    "# plot train_loss\n",
    "sns.lineplot(\n",
    "    x=\"step\",\n",
    "    y=\"train_loss\",\n",
    "    data=training_summary\n",
    ")"
   ]
  },
  {
   "cell_type": "code",
   "execution_count": 51,
   "metadata": {
    "execution": {
     "iopub.execute_input": "2023-04-01T22:29:10.666245Z",
     "iopub.status.busy": "2023-04-01T22:29:10.666056Z",
     "iopub.status.idle": "2023-04-01T22:29:10.676966Z",
     "shell.execute_reply": "2023-04-01T22:29:10.676466Z",
     "shell.execute_reply.started": "2023-04-01T22:29:10.666230Z"
    },
    "tags": []
   },
   "outputs": [],
   "source": [
    "# want to plot per epoch loss and r2, need to pull those columns and remove NaNs\n",
    "epoch_summary = training_summary[[\"epoch\", \"train_loss\", \"val_loss\", \"train_r2score_epoch\", \"val_r2score\"]]"
   ]
  },
  {
   "cell_type": "code",
   "execution_count": 40,
   "metadata": {},
   "outputs": [
    {
     "data": {
      "text/html": [
       "<div>\n",
       "<style scoped>\n",
       "    .dataframe tbody tr th:only-of-type {\n",
       "        vertical-align: middle;\n",
       "    }\n",
       "\n",
       "    .dataframe tbody tr th {\n",
       "        vertical-align: top;\n",
       "    }\n",
       "\n",
       "    .dataframe thead th {\n",
       "        text-align: right;\n",
       "    }\n",
       "</style>\n",
       "<table border=\"1\" class=\"dataframe\">\n",
       "  <thead>\n",
       "    <tr style=\"text-align: right;\">\n",
       "      <th></th>\n",
       "      <th>epoch</th>\n",
       "      <th>train_loss</th>\n",
       "      <th>val_loss</th>\n",
       "      <th>train_r2score_epoch</th>\n",
       "      <th>val_r2score</th>\n",
       "    </tr>\n",
       "  </thead>\n",
       "  <tbody>\n",
       "    <tr>\n",
       "      <th>0</th>\n",
       "      <td>NaN</td>\n",
       "      <td>NaN</td>\n",
       "      <td>NaN</td>\n",
       "      <td>NaN</td>\n",
       "      <td>NaN</td>\n",
       "    </tr>\n",
       "    <tr>\n",
       "      <th>1</th>\n",
       "      <td>0.0</td>\n",
       "      <td>3.097897</td>\n",
       "      <td>NaN</td>\n",
       "      <td>NaN</td>\n",
       "      <td>NaN</td>\n",
       "    </tr>\n",
       "    <tr>\n",
       "      <th>2</th>\n",
       "      <td>0.0</td>\n",
       "      <td>2.657948</td>\n",
       "      <td>NaN</td>\n",
       "      <td>NaN</td>\n",
       "      <td>NaN</td>\n",
       "    </tr>\n",
       "    <tr>\n",
       "      <th>3</th>\n",
       "      <td>0.0</td>\n",
       "      <td>2.554789</td>\n",
       "      <td>NaN</td>\n",
       "      <td>NaN</td>\n",
       "      <td>NaN</td>\n",
       "    </tr>\n",
       "    <tr>\n",
       "      <th>4</th>\n",
       "      <td>0.0</td>\n",
       "      <td>2.619973</td>\n",
       "      <td>NaN</td>\n",
       "      <td>NaN</td>\n",
       "      <td>NaN</td>\n",
       "    </tr>\n",
       "    <tr>\n",
       "      <th>...</th>\n",
       "      <td>...</td>\n",
       "      <td>...</td>\n",
       "      <td>...</td>\n",
       "      <td>...</td>\n",
       "      <td>...</td>\n",
       "    </tr>\n",
       "    <tr>\n",
       "      <th>201</th>\n",
       "      <td>16.0</td>\n",
       "      <td>0.878020</td>\n",
       "      <td>NaN</td>\n",
       "      <td>NaN</td>\n",
       "      <td>NaN</td>\n",
       "    </tr>\n",
       "    <tr>\n",
       "      <th>202</th>\n",
       "      <td>16.0</td>\n",
       "      <td>0.877024</td>\n",
       "      <td>NaN</td>\n",
       "      <td>NaN</td>\n",
       "      <td>NaN</td>\n",
       "    </tr>\n",
       "    <tr>\n",
       "      <th>203</th>\n",
       "      <td>16.0</td>\n",
       "      <td>0.882520</td>\n",
       "      <td>NaN</td>\n",
       "      <td>NaN</td>\n",
       "      <td>NaN</td>\n",
       "    </tr>\n",
       "    <tr>\n",
       "      <th>204</th>\n",
       "      <td>16.0</td>\n",
       "      <td>NaN</td>\n",
       "      <td>1.108842</td>\n",
       "      <td>NaN</td>\n",
       "      <td>0.503822</td>\n",
       "    </tr>\n",
       "    <tr>\n",
       "      <th>205</th>\n",
       "      <td>16.0</td>\n",
       "      <td>NaN</td>\n",
       "      <td>NaN</td>\n",
       "      <td>0.53043</td>\n",
       "      <td>NaN</td>\n",
       "    </tr>\n",
       "  </tbody>\n",
       "</table>\n",
       "<p>206 rows × 5 columns</p>\n",
       "</div>"
      ],
      "text/plain": [
       "     epoch  train_loss  val_loss  train_r2score_epoch  val_r2score\n",
       "0      NaN         NaN       NaN                  NaN          NaN\n",
       "1      0.0    3.097897       NaN                  NaN          NaN\n",
       "2      0.0    2.657948       NaN                  NaN          NaN\n",
       "3      0.0    2.554789       NaN                  NaN          NaN\n",
       "4      0.0    2.619973       NaN                  NaN          NaN\n",
       "..     ...         ...       ...                  ...          ...\n",
       "201   16.0    0.878020       NaN                  NaN          NaN\n",
       "202   16.0    0.877024       NaN                  NaN          NaN\n",
       "203   16.0    0.882520       NaN                  NaN          NaN\n",
       "204   16.0         NaN  1.108842                  NaN     0.503822\n",
       "205   16.0         NaN       NaN              0.53043          NaN\n",
       "\n",
       "[206 rows x 5 columns]"
      ]
     },
     "execution_count": 40,
     "metadata": {},
     "output_type": "execute_result"
    }
   ],
   "source": [
    "epoch_summary"
   ]
  },
  {
   "cell_type": "code",
   "execution_count": 54,
   "metadata": {
    "execution": {
     "iopub.execute_input": "2023-04-01T22:30:11.427710Z",
     "iopub.status.busy": "2023-04-01T22:30:11.427458Z",
     "iopub.status.idle": "2023-04-01T22:30:11.434772Z",
     "shell.execute_reply": "2023-04-01T22:30:11.434256Z",
     "shell.execute_reply.started": "2023-04-01T22:30:11.427694Z"
    }
   },
   "outputs": [
    {
     "data": {
      "text/html": [
       "<div>\n",
       "<style scoped>\n",
       "    .dataframe tbody tr th:only-of-type {\n",
       "        vertical-align: middle;\n",
       "    }\n",
       "\n",
       "    .dataframe tbody tr th {\n",
       "        vertical-align: top;\n",
       "    }\n",
       "\n",
       "    .dataframe thead th {\n",
       "        text-align: right;\n",
       "    }\n",
       "</style>\n",
       "<table border=\"1\" class=\"dataframe\">\n",
       "  <thead>\n",
       "    <tr style=\"text-align: right;\">\n",
       "      <th></th>\n",
       "      <th>epoch</th>\n",
       "      <th>train_loss</th>\n",
       "      <th>val_loss</th>\n",
       "      <th>train_r2score_epoch</th>\n",
       "      <th>val_r2score</th>\n",
       "    </tr>\n",
       "  </thead>\n",
       "  <tbody>\n",
       "    <tr>\n",
       "      <th>10</th>\n",
       "      <td>0.0</td>\n",
       "      <td>NaN</td>\n",
       "      <td>1.674905</td>\n",
       "      <td>NaN</td>\n",
       "      <td>0.317633</td>\n",
       "    </tr>\n",
       "    <tr>\n",
       "      <th>22</th>\n",
       "      <td>1.0</td>\n",
       "      <td>NaN</td>\n",
       "      <td>1.450197</td>\n",
       "      <td>NaN</td>\n",
       "      <td>0.390401</td>\n",
       "    </tr>\n",
       "    <tr>\n",
       "      <th>34</th>\n",
       "      <td>2.0</td>\n",
       "      <td>NaN</td>\n",
       "      <td>1.441081</td>\n",
       "      <td>NaN</td>\n",
       "      <td>0.422812</td>\n",
       "    </tr>\n",
       "    <tr>\n",
       "      <th>46</th>\n",
       "      <td>3.0</td>\n",
       "      <td>NaN</td>\n",
       "      <td>1.348168</td>\n",
       "      <td>NaN</td>\n",
       "      <td>0.441091</td>\n",
       "    </tr>\n",
       "    <tr>\n",
       "      <th>58</th>\n",
       "      <td>4.0</td>\n",
       "      <td>NaN</td>\n",
       "      <td>1.265304</td>\n",
       "      <td>NaN</td>\n",
       "      <td>0.427392</td>\n",
       "    </tr>\n",
       "    <tr>\n",
       "      <th>70</th>\n",
       "      <td>5.0</td>\n",
       "      <td>NaN</td>\n",
       "      <td>1.191920</td>\n",
       "      <td>NaN</td>\n",
       "      <td>0.482196</td>\n",
       "    </tr>\n",
       "    <tr>\n",
       "      <th>82</th>\n",
       "      <td>6.0</td>\n",
       "      <td>NaN</td>\n",
       "      <td>1.141204</td>\n",
       "      <td>NaN</td>\n",
       "      <td>0.500083</td>\n",
       "    </tr>\n",
       "    <tr>\n",
       "      <th>95</th>\n",
       "      <td>7.0</td>\n",
       "      <td>NaN</td>\n",
       "      <td>1.134809</td>\n",
       "      <td>NaN</td>\n",
       "      <td>0.492215</td>\n",
       "    </tr>\n",
       "    <tr>\n",
       "      <th>107</th>\n",
       "      <td>8.0</td>\n",
       "      <td>NaN</td>\n",
       "      <td>1.136608</td>\n",
       "      <td>NaN</td>\n",
       "      <td>0.501829</td>\n",
       "    </tr>\n",
       "    <tr>\n",
       "      <th>119</th>\n",
       "      <td>9.0</td>\n",
       "      <td>NaN</td>\n",
       "      <td>1.174820</td>\n",
       "      <td>NaN</td>\n",
       "      <td>0.524213</td>\n",
       "    </tr>\n",
       "    <tr>\n",
       "      <th>131</th>\n",
       "      <td>10.0</td>\n",
       "      <td>NaN</td>\n",
       "      <td>1.162524</td>\n",
       "      <td>NaN</td>\n",
       "      <td>0.512849</td>\n",
       "    </tr>\n",
       "    <tr>\n",
       "      <th>143</th>\n",
       "      <td>11.0</td>\n",
       "      <td>NaN</td>\n",
       "      <td>1.092734</td>\n",
       "      <td>NaN</td>\n",
       "      <td>0.498205</td>\n",
       "    </tr>\n",
       "    <tr>\n",
       "      <th>155</th>\n",
       "      <td>12.0</td>\n",
       "      <td>NaN</td>\n",
       "      <td>1.115860</td>\n",
       "      <td>NaN</td>\n",
       "      <td>0.495745</td>\n",
       "    </tr>\n",
       "    <tr>\n",
       "      <th>167</th>\n",
       "      <td>13.0</td>\n",
       "      <td>NaN</td>\n",
       "      <td>1.093705</td>\n",
       "      <td>NaN</td>\n",
       "      <td>0.503394</td>\n",
       "    </tr>\n",
       "    <tr>\n",
       "      <th>180</th>\n",
       "      <td>14.0</td>\n",
       "      <td>NaN</td>\n",
       "      <td>1.108979</td>\n",
       "      <td>NaN</td>\n",
       "      <td>0.497534</td>\n",
       "    </tr>\n",
       "    <tr>\n",
       "      <th>192</th>\n",
       "      <td>15.0</td>\n",
       "      <td>NaN</td>\n",
       "      <td>1.096887</td>\n",
       "      <td>NaN</td>\n",
       "      <td>0.497451</td>\n",
       "    </tr>\n",
       "    <tr>\n",
       "      <th>204</th>\n",
       "      <td>16.0</td>\n",
       "      <td>NaN</td>\n",
       "      <td>1.109582</td>\n",
       "      <td>NaN</td>\n",
       "      <td>0.503009</td>\n",
       "    </tr>\n",
       "  </tbody>\n",
       "</table>\n",
       "</div>"
      ],
      "text/plain": [
       "     epoch  train_loss  val_loss  train_r2score_epoch  val_r2score\n",
       "10     0.0         NaN  1.674905                  NaN     0.317633\n",
       "22     1.0         NaN  1.450197                  NaN     0.390401\n",
       "34     2.0         NaN  1.441081                  NaN     0.422812\n",
       "46     3.0         NaN  1.348168                  NaN     0.441091\n",
       "58     4.0         NaN  1.265304                  NaN     0.427392\n",
       "70     5.0         NaN  1.191920                  NaN     0.482196\n",
       "82     6.0         NaN  1.141204                  NaN     0.500083\n",
       "95     7.0         NaN  1.134809                  NaN     0.492215\n",
       "107    8.0         NaN  1.136608                  NaN     0.501829\n",
       "119    9.0         NaN  1.174820                  NaN     0.524213\n",
       "131   10.0         NaN  1.162524                  NaN     0.512849\n",
       "143   11.0         NaN  1.092734                  NaN     0.498205\n",
       "155   12.0         NaN  1.115860                  NaN     0.495745\n",
       "167   13.0         NaN  1.093705                  NaN     0.503394\n",
       "180   14.0         NaN  1.108979                  NaN     0.497534\n",
       "192   15.0         NaN  1.096887                  NaN     0.497451\n",
       "204   16.0         NaN  1.109582                  NaN     0.503009"
      ]
     },
     "execution_count": 54,
     "metadata": {},
     "output_type": "execute_result"
    }
   ],
   "source": [
    "epoch_summary[(~epoch_summary[\"val_loss\"].isna())]"
   ]
  },
  {
   "attachments": {},
   "cell_type": "markdown",
   "metadata": {},
   "source": [
    "---"
   ]
  },
  {
   "attachments": {},
   "cell_type": "markdown",
   "metadata": {},
   "source": [
    "# DONE!"
   ]
  },
  {
   "attachments": {},
   "cell_type": "markdown",
   "metadata": {},
   "source": [
    "# Scratch"
   ]
  },
  {
   "cell_type": "code",
   "execution_count": 22,
   "metadata": {},
   "outputs": [
    {
     "data": {
      "text/plain": [
       "(torch.Size([128, 4, 170]), torch.Size([128]), torch.Size([128, 1]))"
      ]
     },
     "execution_count": 22,
     "metadata": {},
     "output_type": "execute_result"
    }
   ],
   "source": [
    "batch = next(iter(val_sdataloader))\n",
    "batch[\"seq\"].shape, batch[\"target\"].shape, model(batch[\"seq\"]).shape"
   ]
  },
  {
   "cell_type": "code",
   "execution_count": 23,
   "metadata": {},
   "outputs": [],
   "source": [
    "X, y = batch[\"seq\"], batch[\"target\"]"
   ]
  },
  {
   "cell_type": "code",
   "execution_count": 24,
   "metadata": {},
   "outputs": [
    {
     "data": {
      "text/plain": [
       "Hybrid(\n",
       "  (train_metric): R2Score()\n",
       "  (val_metric): R2Score()\n",
       "  (test_metric): R2Score()\n",
       "  (conv1d_tower): Conv1DTower(\n",
       "    (layers): Sequential(\n",
       "      (0): Conv1d(4, 256, kernel_size=(13,), stride=(1,), padding=valid)\n",
       "      (1): ReLU()\n",
       "      (2): MaxPool1d(kernel_size=2, stride=2, padding=0, dilation=1, ceil_mode=False)\n",
       "      (3): Dropout(p=0.3, inplace=False)\n",
       "      (4): BatchNorm1d(256, eps=1e-05, momentum=0.1, affine=True, track_running_stats=True)\n",
       "      (5): Conv1d(256, 256, kernel_size=(13,), stride=(1,), padding=valid)\n",
       "      (6): ReLU()\n",
       "      (7): MaxPool1d(kernel_size=2, stride=2, padding=0, dilation=1, ceil_mode=False)\n",
       "      (8): Dropout(p=0.3, inplace=False)\n",
       "      (9): BatchNorm1d(256, eps=1e-05, momentum=0.1, affine=True, track_running_stats=True)\n",
       "      (10): Conv1d(256, 256, kernel_size=(13,), stride=(1,), padding=valid)\n",
       "      (11): ReLU()\n",
       "      (12): MaxPool1d(kernel_size=2, stride=2, padding=0, dilation=1, ceil_mode=False)\n",
       "      (13): Dropout(p=0.3, inplace=False)\n",
       "      (14): BatchNorm1d(256, eps=1e-05, momentum=0.1, affine=True, track_running_stats=True)\n",
       "    )\n",
       "  )\n",
       "  (recurrent_block): RecurrentBlock(\n",
       "    (layers): LSTM(256, 128, batch_first=True)\n",
       "  )\n",
       "  (dense_block): DenseBlock(\n",
       "    (layers): Sequential(\n",
       "      (0): Linear(in_features=128, out_features=64, bias=True)\n",
       "      (1): ReLU()\n",
       "      (2): Dropout(p=0.2, inplace=False)\n",
       "      (3): BatchNorm1d(64, eps=1e-05, momentum=0.1, affine=True, track_running_stats=True)\n",
       "      (4): Linear(in_features=64, out_features=1, bias=True)\n",
       "    )\n",
       "  )\n",
       ")"
      ]
     },
     "execution_count": 24,
     "metadata": {},
     "output_type": "execute_result"
    }
   ],
   "source": [
    "model.to(\"cpu\")"
   ]
  },
  {
   "cell_type": "code",
   "execution_count": 91,
   "metadata": {},
   "outputs": [
    {
     "data": {
      "text/plain": [
       "Hybrid(\n",
       "  (train_metric): R2Score()\n",
       "  (val_metric): R2Score()\n",
       "  (test_metric): R2Score()\n",
       "  (conv1d_tower): Conv1DTower(\n",
       "    (layers): Sequential(\n",
       "      (0): Conv1d(4, 256, kernel_size=(13,), stride=(1,), padding=valid)\n",
       "      (1): ReLU()\n",
       "      (2): MaxPool1d(kernel_size=2, stride=2, padding=0, dilation=1, ceil_mode=False)\n",
       "      (3): Dropout(p=0.3, inplace=False)\n",
       "      (4): BatchNorm1d(256, eps=1e-05, momentum=0.1, affine=True, track_running_stats=True)\n",
       "      (5): Conv1d(256, 256, kernel_size=(13,), stride=(1,), padding=valid)\n",
       "      (6): ReLU()\n",
       "      (7): MaxPool1d(kernel_size=2, stride=2, padding=0, dilation=1, ceil_mode=False)\n",
       "      (8): Dropout(p=0.3, inplace=False)\n",
       "      (9): BatchNorm1d(256, eps=1e-05, momentum=0.1, affine=True, track_running_stats=True)\n",
       "      (10): Conv1d(256, 256, kernel_size=(13,), stride=(1,), padding=valid)\n",
       "      (11): ReLU()\n",
       "      (12): MaxPool1d(kernel_size=2, stride=2, padding=0, dilation=1, ceil_mode=False)\n",
       "      (13): Dropout(p=0.3, inplace=False)\n",
       "      (14): BatchNorm1d(256, eps=1e-05, momentum=0.1, affine=True, track_running_stats=True)\n",
       "    )\n",
       "  )\n",
       "  (recurrent_block): RecurrentBlock(\n",
       "    (layers): LSTM(256, 128, batch_first=True)\n",
       "  )\n",
       "  (dense_block): DenseBlock(\n",
       "    (layers): Sequential(\n",
       "      (0): Linear(in_features=128, out_features=64, bias=True)\n",
       "      (1): ReLU()\n",
       "      (2): Dropout(p=0.2, inplace=False)\n",
       "      (3): BatchNorm1d(64, eps=1e-05, momentum=0.1, affine=True, track_running_stats=True)\n",
       "      (4): Linear(in_features=64, out_features=1, bias=True)\n",
       "    )\n",
       "  )\n",
       ")"
      ]
     },
     "execution_count": 91,
     "metadata": {},
     "output_type": "execute_result"
    }
   ],
   "source": [
    "model.eval()"
   ]
  },
  {
   "cell_type": "code",
   "execution_count": 25,
   "metadata": {},
   "outputs": [
    {
     "data": {
      "text/plain": [
       "tensor(0.6279, grad_fn=<SqueezeBackward0>)"
      ]
     },
     "execution_count": 25,
     "metadata": {},
     "output_type": "execute_result"
    }
   ],
   "source": [
    "model.val_metric(model(X).squeeze(dim=1), y)"
   ]
  },
  {
   "cell_type": "code",
   "execution_count": 61,
   "metadata": {},
   "outputs": [
    {
     "data": {
      "text/plain": [
       "tensor([ 1,  4,  1,  1, -1, -1,  2, -1,  0, -1,  0,  0,  2,  3,  3,  2,  3,  0,\n",
       "        -2,  0,  0,  2,  0,  2,  4,  2, -1, -2,  3,  2,  0,  0,  0,  0,  0, -1,\n",
       "         0,  0,  2,  0,  0,  0,  2,  0,  0,  0,  0,  2,  1,  1,  0,  1,  0,  0,\n",
       "         0,  3,  3,  0,  3,  2,  0,  1,  1, -3,  2,  1,  0, -1,  2, -1,  2, -1,\n",
       "        -2,  0,  1,  1,  0,  2,  0,  4,  2, -3,  0,  2,  3, -1,  1,  1, -1,  0,\n",
       "         3, -1,  0,  1,  1, -1,  1,  3,  3, -2,  2,  1,  1,  0,  0, -3,  1, -1,\n",
       "         3,  1,  2, -2,  0,  3,  0,  1,  1,  0,  0,  1,  1,  1,  0,  2, -1,  1,\n",
       "         3,  1])"
      ]
     },
     "execution_count": 61,
     "metadata": {},
     "output_type": "execute_result"
    }
   ],
   "source": [
    "y.long()"
   ]
  },
  {
   "cell_type": "code",
   "execution_count": null,
   "metadata": {},
   "outputs": [],
   "source": [
    "# Test cuda and model\n",
    "#for i, batch in enumerate(train_sdataloader):\n",
    "#    X, y = batch[\"seq\"].to(\"cuda\"), batch[\"target\"].to(\"cuda\")\n",
    "#    outs = model(X).squeeze(dim=1)\n",
    "#    loss = model.loss_fxn(outs, y) # train\n",
    "#    if i % 100 == 0:\n",
    "#        print(f\"loss at step {i}: {loss}\")"
   ]
  },
  {
   "cell_type": "code",
   "execution_count": null,
   "metadata": {},
   "outputs": [],
   "source": [
    "from pytorch_lightning import Trainer\n",
    "from pytorch_lightning.loggers import CSVLogger, TensorBoardLogger\n",
    "from pytorch_lightning.callbacks import ModelCheckpoint, EarlyStopping, LearningRateMonitor\n",
    "\n",
    "logger = CSVLogger(save_dir=os.path.join(cwd, \"models\"), name=\"grace\", version=\"leaf\")\n",
    "model_checkpoint_callback = ModelCheckpoint(\n",
    "    dirpath=logger.log_dir + \"/checkpoints\", \n",
    "    save_top_k=1,\n",
    "    monitor=\"val_loss\"\n",
    ")\n",
    "early_stopping_callback = EarlyStopping(\n",
    "    monitor=\"val_loss\",\n",
    "    patience=5,\n",
    "    mode=\"min\",\n",
    "    verbose=False\n",
    ")\n",
    "callbacks = [model_checkpoint_callback, early_stopping_callback, LearningRateMonitor()]\n",
    "trainer = Trainer(\n",
    "    num_nodes=1,\n",
    "    logger=logger,\n",
    "    callbacks=callbacks,\n",
    "    max_epochs=100,\n",
    ")"
   ]
  },
  {
   "cell_type": "code",
   "execution_count": null,
   "metadata": {},
   "outputs": [],
   "source": [
    "trainer.fit(model, train_sdataloader, val_sdataloader)"
   ]
  }
 ],
 "metadata": {
  "kernelspec": {
   "display_name": "Python 3.9 ml4gland",
   "language": "python",
   "name": "ml4gland"
  },
  "vscode": {
   "interpreter": {
    "hash": "949777d72b0d2535278d3dc13498b2535136f6dfe0678499012e853ee9abcab1"
   }
  }
 },
 "nbformat": 4,
 "nbformat_minor": 4
}
