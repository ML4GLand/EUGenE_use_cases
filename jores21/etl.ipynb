{
 "cells": [
  {
   "cell_type": "code",
   "execution_count": 1,
   "metadata": {},
   "outputs": [],
   "source": [
    "import os\n",
    "import seqdata\n",
    "import numpy as np\n",
    "import pandas as pd"
   ]
  },
  {
   "cell_type": "code",
   "execution_count": 7,
   "metadata": {},
   "outputs": [],
   "source": [
    "# Get working directory\n",
    "cwd = \"/cellar/users/aklie/projects/ML4GLand/use_cases/jores21/\""
   ]
  },
  {
   "attachments": {},
   "cell_type": "markdown",
   "metadata": {},
   "source": [
    "# From GitHub repo"
   ]
  },
  {
   "cell_type": "code",
   "execution_count": 16,
   "metadata": {},
   "outputs": [],
   "source": [
    "# Define paths\n",
    "train_tsv = os.path.join(cwd, \"data\", \"paper_github\", \"CNN_train_leaf.tsv\")\n",
    "test_tsv = os.path.join(cwd, \"data\", \"paper_github\", \"CNN_test_leaf.tsv\")\n",
    "\n",
    "# Read in data\n",
    "train_sdata = seqdata.read_csv(train_tsv, seq_col=\"sequence\", sep=\"\\t\")\n",
    "test_sdata = seqdata.read_csv(test_tsv, seq_col=\"sequence\", sep=\"\\t\")\n",
    "\n",
    "# Write the data\n",
    "train_sdata.write_h5sd(os.path.join(cwd, \"data\", \"paper_github\", \"train_sdata.h5sd\"))\n",
    "test_sdata.write_h5sd(os.path.join(cwd, \"data\", \"paper_github\", \"test_sdata.h5sd\"))"
   ]
  },
  {
   "attachments": {},
   "cell_type": "markdown",
   "metadata": {},
   "source": [
    "---"
   ]
  },
  {
   "attachments": {},
   "cell_type": "markdown",
   "metadata": {},
   "source": [
    "# DONE!"
   ]
  },
  {
   "attachments": {},
   "cell_type": "markdown",
   "metadata": {},
   "source": [
    "# Scratch"
   ]
  }
 ],
 "metadata": {
  "kernelspec": {
   "display_name": "Python 3.7 eugene_dev",
   "language": "python",
   "name": "eugene_dev"
  },
  "orig_nbformat": 4
 },
 "nbformat": 4,
 "nbformat_minor": 2
}
