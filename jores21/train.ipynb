{
 "cells": [
  {
   "cell_type": "markdown",
   "metadata": {},
   "source": [
    "# Jores et al 2021 Training \n",
    "**Authorship:**\n",
    "Adam Klie, *08/11/2022*\n",
    "***\n",
    "**Description:**\n",
    "Notebook to perform simple training of models on the Jores et al dataset.\n",
    "***"
   ]
  },
  {
   "cell_type": "code",
   "execution_count": 1,
   "metadata": {
    "execution": {
     "iopub.execute_input": "2023-01-04T18:26:11.559948Z",
     "iopub.status.busy": "2023-01-04T18:26:11.559365Z",
     "iopub.status.idle": "2023-01-04T18:26:45.182907Z",
     "shell.execute_reply": "2023-01-04T18:26:45.182150Z",
     "shell.execute_reply.started": "2023-01-04T18:26:11.559896Z"
    },
    "tags": [],
    "vscode": {
     "languageId": "python"
    }
   },
   "outputs": [
    {
     "name": "stderr",
     "output_type": "stream",
     "text": [
      "Global seed set to 13\n"
     ]
    },
    {
     "name": "stdout",
     "output_type": "stream",
     "text": [
      "GPU is available: True\n",
      "Number of GPUs: 1\n",
      "Current GPU: 0\n",
      "GPUs: Quadro RTX 5000\n"
     ]
    }
   ],
   "source": [
    "import os\n",
    "import logging\n",
    "import torch\n",
    "import numpy as np\n",
    "import pandas as pd\n",
    "import eugene as eu"
   ]
  },
  {
   "cell_type": "code",
   "execution_count": 2,
   "metadata": {
    "execution": {
     "iopub.execute_input": "2023-01-04T18:26:45.184843Z",
     "iopub.status.busy": "2023-01-04T18:26:45.184351Z",
     "iopub.status.idle": "2023-01-04T18:26:45.190308Z",
     "shell.execute_reply": "2023-01-04T18:26:45.189772Z",
     "shell.execute_reply.started": "2023-01-04T18:26:45.184825Z"
    },
    "tags": [],
    "vscode": {
     "languageId": "python"
    }
   },
   "outputs": [],
   "source": [
    "eu.settings.dataset_dir = \"/cellar/users/aklie/data/eugene/jores21\""
   ]
  },
  {
   "cell_type": "markdown",
   "metadata": {},
   "source": [
    "# Load data"
   ]
  },
  {
   "cell_type": "markdown",
   "metadata": {},
   "source": [
    "## `leaf` `SeqData`"
   ]
  },
  {
   "cell_type": "code",
   "execution_count": 3,
   "metadata": {
    "execution": {
     "iopub.execute_input": "2023-01-04T18:26:45.192883Z",
     "iopub.status.busy": "2023-01-04T18:26:45.192535Z",
     "iopub.status.idle": "2023-01-04T18:26:45.896570Z",
     "shell.execute_reply": "2023-01-04T18:26:45.895979Z",
     "shell.execute_reply.started": "2023-01-04T18:26:45.192866Z"
    },
    "tags": [],
    "vscode": {
     "languageId": "python"
    }
   },
   "outputs": [
    {
     "data": {
      "text/plain": [
       "SeqData object with = 65004 seqs\n",
       "seqs = (65004,)\n",
       "names = (65004,)\n",
       "rev_seqs = None\n",
       "ohe_seqs = (65004, 4, 170)\n",
       "ohe_rev_seqs = (65004, 4, 170)\n",
       "seqs_annot: 'GC', 'barcodes', 'batch', 'chromosome', 'end', 'enrichment', 'gene', 'mutations', 'set', 'sp', 'start', 'strand', 'train_val', 'type'\n",
       "pos_annot: None\n",
       "seqsm: None\n",
       "uns: None"
      ]
     },
     "execution_count": 3,
     "metadata": {},
     "output_type": "execute_result"
    }
   ],
   "source": [
    "# Load in the preprocessed training data\n",
    "sdata_leaf = eu.dl.read(os.path.join(eu.settings.dataset_dir, \"leaf_processed_train.h5sd\"))\n",
    "sdata_leaf"
   ]
  },
  {
   "cell_type": "markdown",
   "metadata": {},
   "source": [
    "## `MotifSet` for conv initialization"
   ]
  },
  {
   "cell_type": "code",
   "execution_count": 4,
   "metadata": {
    "execution": {
     "iopub.execute_input": "2023-01-04T18:26:45.899924Z",
     "iopub.status.busy": "2023-01-04T18:26:45.899576Z",
     "iopub.status.idle": "2023-01-04T18:26:45.908675Z",
     "shell.execute_reply": "2023-01-04T18:26:45.908198Z",
     "shell.execute_reply.started": "2023-01-04T18:26:45.899907Z"
    },
    "tags": []
   },
   "outputs": [],
   "source": [
    "from eugene.dataload.motif import _io\n",
    "from copy import deepcopy"
   ]
  },
  {
   "cell_type": "code",
   "execution_count": 5,
   "metadata": {
    "execution": {
     "iopub.execute_input": "2023-01-04T18:26:45.910993Z",
     "iopub.status.busy": "2023-01-04T18:26:45.910635Z",
     "iopub.status.idle": "2023-01-04T18:26:45.924536Z",
     "shell.execute_reply": "2023-01-04T18:26:45.924076Z",
     "shell.execute_reply.started": "2023-01-04T18:26:45.910978Z"
    },
    "tags": []
   },
   "outputs": [
    {
     "data": {
      "text/plain": [
       "MotifSet with 78 motifs"
      ]
     },
     "execution_count": 5,
     "metadata": {},
     "output_type": "execute_result"
    }
   ],
   "source": [
    "core_promoter_elements = _io.read_meme(os.path.join(eu.settings.dataset_dir, 'CPEs.meme'))\n",
    "all_motifs = deepcopy(core_promoter_elements)\n",
    "for motif in _io.read_meme(os.path.join(eu.settings.dataset_dir, 'TF-clusters.meme')):\n",
    "    all_motifs.add_motif(motif)\n",
    "all_motifs"
   ]
  },
  {
   "cell_type": "markdown",
   "metadata": {},
   "source": [
    "# Prep model"
   ]
  },
  {
   "cell_type": "markdown",
   "metadata": {},
   "source": [
    "## Load from config"
   ]
  },
  {
   "cell_type": "code",
   "execution_count": 6,
   "metadata": {
    "execution": {
     "iopub.execute_input": "2023-01-04T18:26:45.926849Z",
     "iopub.status.busy": "2023-01-04T18:26:45.926543Z",
     "iopub.status.idle": "2023-01-04T18:26:46.290602Z",
     "shell.execute_reply": "2023-01-04T18:26:46.289956Z",
     "shell.execute_reply.started": "2023-01-04T18:26:45.926833Z"
    },
    "tags": []
   },
   "outputs": [],
   "source": [
    "model = eu.models.load_config(\"Hybrid\", \"hybrid.yaml\")\n",
    "eu.models.init_weights(model)"
   ]
  },
  {
   "cell_type": "markdown",
   "metadata": {},
   "source": [
    "## Initialize first conv layer"
   ]
  },
  {
   "cell_type": "code",
   "execution_count": 7,
   "metadata": {
    "execution": {
     "iopub.execute_input": "2023-01-04T18:26:46.303875Z",
     "iopub.status.busy": "2023-01-04T18:26:46.303676Z",
     "iopub.status.idle": "2023-01-04T18:26:46.306517Z",
     "shell.execute_reply": "2023-01-04T18:26:46.305993Z",
     "shell.execute_reply.started": "2023-01-04T18:26:46.303859Z"
    },
    "tags": []
   },
   "outputs": [],
   "source": [
    "from eugene.dataload.motif import _convert\n",
    "import torch.nn as nn"
   ]
  },
  {
   "cell_type": "code",
   "execution_count": 8,
   "metadata": {
    "execution": {
     "iopub.execute_input": "2023-01-04T18:26:46.309199Z",
     "iopub.status.busy": "2023-01-04T18:26:46.308762Z",
     "iopub.status.idle": "2023-01-04T18:26:46.316353Z",
     "shell.execute_reply": "2023-01-04T18:26:46.315811Z",
     "shell.execute_reply.started": "2023-01-04T18:26:46.309181Z"
    },
    "tags": []
   },
   "outputs": [],
   "source": [
    "def get_layer(model, layer_name):\n",
    "    return dict([*model.named_modules()])[layer_name]"
   ]
  },
  {
   "cell_type": "code",
   "execution_count": 9,
   "metadata": {
    "execution": {
     "iopub.execute_input": "2023-01-04T18:26:46.318939Z",
     "iopub.status.busy": "2023-01-04T18:26:46.318591Z",
     "iopub.status.idle": "2023-01-04T18:26:46.327440Z",
     "shell.execute_reply": "2023-01-04T18:26:46.326932Z",
     "shell.execute_reply.started": "2023-01-04T18:26:46.318922Z"
    },
    "tags": []
   },
   "outputs": [],
   "source": [
    "layer = get_layer(model, 'conv1d_tower.layers.0')\n",
    "pwms = _convert._to_array((256, 4, 13), all_motifs, convert_to_pwm=True)\n",
    "layer.weight = nn.Parameter(pwms)"
   ]
  },
  {
   "cell_type": "code",
   "execution_count": 10,
   "metadata": {
    "execution": {
     "iopub.execute_input": "2023-01-04T18:26:46.329806Z",
     "iopub.status.busy": "2023-01-04T18:26:46.329561Z",
     "iopub.status.idle": "2023-01-04T18:26:46.336796Z",
     "shell.execute_reply": "2023-01-04T18:26:46.336297Z",
     "shell.execute_reply.started": "2023-01-04T18:26:46.329789Z"
    },
    "tags": []
   },
   "outputs": [
    {
     "data": {
      "text/plain": [
       "tensor([[0.5100, 1.5060, 0.4780, 1.5060],\n",
       "        [0.6300, 1.5940, 0.7960, 0.9820],\n",
       "        [0.9960, 1.2120, 0.7880, 1.0040],\n",
       "        [0.4940, 2.6200, 0.3020, 0.5820],\n",
       "        [0.0400, 0.0080, 0.0080, 3.9440],\n",
       "        [3.8720, 0.0000, 0.0000, 0.1280],\n",
       "        [0.0080, 0.0560, 0.0240, 3.9120],\n",
       "        [3.9680, 0.0000, 0.0080, 0.0240],\n",
       "        [2.6120, 0.0480, 0.0080, 1.3320],\n",
       "        [3.8960, 0.0000, 0.0320, 0.0720],\n",
       "        [1.3640, 0.1120, 0.1440, 2.3820],\n",
       "        [2.7820, 0.3260, 0.4780, 0.4140],\n",
       "        [0.5020, 1.7280, 1.2660, 0.5020]], grad_fn=<PermuteBackward0>)"
      ]
     },
     "execution_count": 10,
     "metadata": {},
     "output_type": "execute_result"
    }
   ],
   "source": [
    "get_layer(model, 'conv1d_tower.layers.0').weight[0].T"
   ]
  },
  {
   "cell_type": "markdown",
   "metadata": {},
   "source": [
    "# Train leaf models"
   ]
  },
  {
   "cell_type": "code",
   "execution_count": null,
   "metadata": {},
   "outputs": [],
   "source": [
    "# Define your augmentations"
   ]
  },
  {
   "cell_type": "code",
   "execution_count": 11,
   "metadata": {
    "execution": {
     "iopub.execute_input": "2023-01-04T18:30:37.409986Z",
     "iopub.status.busy": "2023-01-04T18:30:37.409737Z",
     "iopub.status.idle": "2023-01-04T18:33:24.116402Z",
     "shell.execute_reply": "2023-01-04T18:33:24.115916Z",
     "shell.execute_reply.started": "2023-01-04T18:30:37.409967Z"
    },
    "tags": []
   },
   "outputs": [
    {
     "name": "stderr",
     "output_type": "stream",
     "text": [
      "Global seed set to 13\n"
     ]
    },
    {
     "name": "stdout",
     "output_type": "stream",
     "text": [
      "Dropping 0 sequences with NaN targets.\n",
      "No transforms given, assuming just need to tensorize.\n"
     ]
    },
    {
     "name": "stderr",
     "output_type": "stream",
     "text": [
      "GPU available: True, used: True\n",
      "TPU available: False, using: 0 TPU cores\n",
      "IPU available: False, using: 0 IPUs\n",
      "LOCAL_RANK: 0 - CUDA_VISIBLE_DEVICES: [0]\n"
     ]
    },
    {
     "name": "stdout",
     "output_type": "stream",
     "text": [
      "No transforms given, assuming just need to tensorize.\n"
     ]
    },
    {
     "name": "stderr",
     "output_type": "stream",
     "text": [
      "Set SLURM handle signals.\n",
      "\n",
      "  | Name            | Type           | Params\n",
      "---------------------------------------------------\n",
      "0 | train_metric    | R2Score        | 0     \n",
      "1 | val_metric      | R2Score        | 0     \n",
      "2 | test_metric     | R2Score        | 0     \n",
      "3 | conv1d_tower    | Conv1DTower    | 1.7 M \n",
      "4 | recurrent_block | RecurrentBlock | 197 K \n",
      "5 | dense_block     | DenseBlock     | 8.4 K \n",
      "---------------------------------------------------\n",
      "1.9 M     Trainable params\n",
      "0         Non-trainable params\n",
      "1.9 M     Total params\n",
      "7.703     Total estimated model params size (MB)\n"
     ]
    },
    {
     "data": {
      "application/vnd.jupyter.widget-view+json": {
       "model_id": "",
       "version_major": 2,
       "version_minor": 0
      },
      "text/plain": [
       "Validation sanity check: 0it [00:00, ?it/s]"
      ]
     },
     "metadata": {},
     "output_type": "display_data"
    },
    {
     "name": "stderr",
     "output_type": "stream",
     "text": [
      "Global seed set to 13\n"
     ]
    },
    {
     "data": {
      "application/vnd.jupyter.widget-view+json": {
       "model_id": "951324f90f794064b2333b87f1bed1b1",
       "version_major": 2,
       "version_minor": 0
      },
      "text/plain": [
       "Training: 0it [00:00, ?it/s]"
      ]
     },
     "metadata": {},
     "output_type": "display_data"
    },
    {
     "data": {
      "application/vnd.jupyter.widget-view+json": {
       "model_id": "",
       "version_major": 2,
       "version_minor": 0
      },
      "text/plain": [
       "Validating: 0it [00:00, ?it/s]"
      ]
     },
     "metadata": {},
     "output_type": "display_data"
    },
    {
     "data": {
      "application/vnd.jupyter.widget-view+json": {
       "model_id": "",
       "version_major": 2,
       "version_minor": 0
      },
      "text/plain": [
       "Validating: 0it [00:00, ?it/s]"
      ]
     },
     "metadata": {},
     "output_type": "display_data"
    },
    {
     "data": {
      "application/vnd.jupyter.widget-view+json": {
       "model_id": "",
       "version_major": 2,
       "version_minor": 0
      },
      "text/plain": [
       "Validating: 0it [00:00, ?it/s]"
      ]
     },
     "metadata": {},
     "output_type": "display_data"
    },
    {
     "data": {
      "application/vnd.jupyter.widget-view+json": {
       "model_id": "",
       "version_major": 2,
       "version_minor": 0
      },
      "text/plain": [
       "Validating: 0it [00:00, ?it/s]"
      ]
     },
     "metadata": {},
     "output_type": "display_data"
    },
    {
     "data": {
      "application/vnd.jupyter.widget-view+json": {
       "model_id": "",
       "version_major": 2,
       "version_minor": 0
      },
      "text/plain": [
       "Validating: 0it [00:00, ?it/s]"
      ]
     },
     "metadata": {},
     "output_type": "display_data"
    },
    {
     "data": {
      "application/vnd.jupyter.widget-view+json": {
       "model_id": "",
       "version_major": 2,
       "version_minor": 0
      },
      "text/plain": [
       "Validating: 0it [00:00, ?it/s]"
      ]
     },
     "metadata": {},
     "output_type": "display_data"
    },
    {
     "data": {
      "application/vnd.jupyter.widget-view+json": {
       "model_id": "",
       "version_major": 2,
       "version_minor": 0
      },
      "text/plain": [
       "Validating: 0it [00:00, ?it/s]"
      ]
     },
     "metadata": {},
     "output_type": "display_data"
    },
    {
     "data": {
      "application/vnd.jupyter.widget-view+json": {
       "model_id": "",
       "version_major": 2,
       "version_minor": 0
      },
      "text/plain": [
       "Validating: 0it [00:00, ?it/s]"
      ]
     },
     "metadata": {},
     "output_type": "display_data"
    },
    {
     "data": {
      "application/vnd.jupyter.widget-view+json": {
       "model_id": "",
       "version_major": 2,
       "version_minor": 0
      },
      "text/plain": [
       "Validating: 0it [00:00, ?it/s]"
      ]
     },
     "metadata": {},
     "output_type": "display_data"
    },
    {
     "data": {
      "application/vnd.jupyter.widget-view+json": {
       "model_id": "",
       "version_major": 2,
       "version_minor": 0
      },
      "text/plain": [
       "Validating: 0it [00:00, ?it/s]"
      ]
     },
     "metadata": {},
     "output_type": "display_data"
    },
    {
     "data": {
      "application/vnd.jupyter.widget-view+json": {
       "model_id": "",
       "version_major": 2,
       "version_minor": 0
      },
      "text/plain": [
       "Validating: 0it [00:00, ?it/s]"
      ]
     },
     "metadata": {},
     "output_type": "display_data"
    },
    {
     "data": {
      "application/vnd.jupyter.widget-view+json": {
       "model_id": "",
       "version_major": 2,
       "version_minor": 0
      },
      "text/plain": [
       "Validating: 0it [00:00, ?it/s]"
      ]
     },
     "metadata": {},
     "output_type": "display_data"
    },
    {
     "data": {
      "application/vnd.jupyter.widget-view+json": {
       "model_id": "",
       "version_major": 2,
       "version_minor": 0
      },
      "text/plain": [
       "Validating: 0it [00:00, ?it/s]"
      ]
     },
     "metadata": {},
     "output_type": "display_data"
    },
    {
     "data": {
      "application/vnd.jupyter.widget-view+json": {
       "model_id": "",
       "version_major": 2,
       "version_minor": 0
      },
      "text/plain": [
       "Validating: 0it [00:00, ?it/s]"
      ]
     },
     "metadata": {},
     "output_type": "display_data"
    },
    {
     "data": {
      "application/vnd.jupyter.widget-view+json": {
       "model_id": "",
       "version_major": 2,
       "version_minor": 0
      },
      "text/plain": [
       "Validating: 0it [00:00, ?it/s]"
      ]
     },
     "metadata": {},
     "output_type": "display_data"
    },
    {
     "data": {
      "application/vnd.jupyter.widget-view+json": {
       "model_id": "",
       "version_major": 2,
       "version_minor": 0
      },
      "text/plain": [
       "Validating: 0it [00:00, ?it/s]"
      ]
     },
     "metadata": {},
     "output_type": "display_data"
    },
    {
     "data": {
      "application/vnd.jupyter.widget-view+json": {
       "model_id": "",
       "version_major": 2,
       "version_minor": 0
      },
      "text/plain": [
       "Validating: 0it [00:00, ?it/s]"
      ]
     },
     "metadata": {},
     "output_type": "display_data"
    },
    {
     "data": {
      "application/vnd.jupyter.widget-view+json": {
       "model_id": "",
       "version_major": 2,
       "version_minor": 0
      },
      "text/plain": [
       "Validating: 0it [00:00, ?it/s]"
      ]
     },
     "metadata": {},
     "output_type": "display_data"
    },
    {
     "data": {
      "application/vnd.jupyter.widget-view+json": {
       "model_id": "",
       "version_major": 2,
       "version_minor": 0
      },
      "text/plain": [
       "Validating: 0it [00:00, ?it/s]"
      ]
     },
     "metadata": {},
     "output_type": "display_data"
    }
   ],
   "source": [
    "eu.train.fit(\n",
    "    model=model, \n",
    "    sdata=sdata_leaf,\n",
    "    gpus=1, \n",
    "    target_keys=\"enrichment\",\n",
    "    train_key=\"train_val\",\n",
    "    epochs=25,\n",
    "    name=\"hybrid\",\n",
    "    batch_size=128,\n",
    "    num_workers=4\n",
    ")"
   ]
  },
  {
   "cell_type": "code",
   "execution_count": 13,
   "metadata": {
    "execution": {
     "iopub.execute_input": "2023-01-04T18:49:56.087082Z",
     "iopub.status.busy": "2023-01-04T18:49:56.086614Z",
     "iopub.status.idle": "2023-01-04T18:49:57.412243Z",
     "shell.execute_reply": "2023-01-04T18:49:57.411656Z",
     "shell.execute_reply.started": "2023-01-04T18:49:56.087061Z"
    },
    "tags": []
   },
   "outputs": [
    {
     "data": {
      "image/png": "[encoded data removed]",
      "text/plain": [
       "<Figure size 864x432 with 2 Axes>"
      ]
     },
     "metadata": {
      "needs_background": "light"
     },
     "output_type": "display_data"
    }
   ],
   "source": [
    "eu.pl.training_summary(\"eugene_logs/hybrid/version_9/\")"
   ]
  },
  {
   "cell_type": "markdown",
   "metadata": {},
   "source": [
    "---"
   ]
  },
  {
   "cell_type": "markdown",
   "metadata": {},
   "source": [
    "# Scratch"
   ]
  }
 ],
 "metadata": {
  "kernelspec": {
   "display_name": "Python 3.7 eugene_dev",
   "language": "python",
   "name": "eugene_dev"
  },
  "language_info": {
   "codemirror_mode": {
    "name": "ipython",
    "version": 3
   },
   "file_extension": ".py",
   "mimetype": "text/x-python",
   "name": "python",
   "nbconvert_exporter": "python",
   "pygments_lexer": "ipython3",
   "version": "3.7.12"
  },
  "vscode": {
   "interpreter": {
    "hash": "949777d72b0d2535278d3dc13498b2535136f6dfe0678499012e853ee9abcab1"
   }
  }
 },
 "nbformat": 4,
 "nbformat_minor": 4
}
