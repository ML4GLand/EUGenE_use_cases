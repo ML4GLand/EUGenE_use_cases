{
 "cells": [
  {
   "cell_type": "code",
   "execution_count": 1,
   "metadata": {},
   "outputs": [],
   "source": [
    "import numpy as np\n",
    "import pandas as pd"
   ]
  },
  {
   "cell_type": "code",
   "execution_count": 2,
   "metadata": {},
   "outputs": [],
   "source": [
    "def load_keras_model(path):\n",
    "    from keras.models import model_from_json\n",
    "    model = model_from_json(open(path + '.json').read())\n",
    "    model.load_weights(path + '.h5')\n",
    "    return model"
   ]
  },
  {
   "cell_type": "code",
   "execution_count": 3,
   "metadata": {},
   "outputs": [
    {
     "name": "stderr",
     "output_type": "stream",
     "text": [
      "2023-05-06 16:49:53.702704: I tensorflow/core/platform/cpu_feature_guard.cc:142] This TensorFlow binary is optimized with oneAPI Deep Neural Network Library (oneDNN) to use the following CPU instructions in performance-critical operations:  SSE4.1 SSE4.2 AVX AVX2 FMA\n",
      "To enable them in other operations, rebuild TensorFlow with the appropriate compiler flags.\n"
     ]
    }
   ],
   "source": [
    "model = load_keras_model(\"/cellar/users/aklie/projects/ML4GLand/use_cases/deAlmeida22/models/zenodo/DeepSTARR.model\")"
   ]
  },
  {
   "cell_type": "code",
   "execution_count": 4,
   "metadata": {},
   "outputs": [],
   "source": [
    "def get_fastas_from_file(fasta_path, as_dict=False,\n",
    "                         uppercase=False, stop_at=None):\n",
    "    fastas = []\n",
    "    seq = None\n",
    "    header = None\n",
    "    for r in (gzip.open(fasta_path) if fasta_path.endswith(\".gz\") else open(fasta_path)):\n",
    "        if type(r) is bytes:\n",
    "            r = r.decode(\"utf-8\")\n",
    "        r = r.strip()\n",
    "        if r.startswith(\">\"):\n",
    "            if seq != None and header != None:\n",
    "                fastas.append([header, seq])\n",
    "                if stop_at != None and len(fastas) >= stop_at:\n",
    "                    break\n",
    "            seq = \"\"\n",
    "            header = r[1:]\n",
    "        else:\n",
    "            if seq != None:\n",
    "                seq += r.upper() if uppercase else r\n",
    "            else:\n",
    "                seq = r.upper() if uppercase else r\n",
    "    # append last fasta read by method\n",
    "    if stop_at != None and len(fastas) < stop_at:\n",
    "        fastas.append([header, seq])\n",
    "    elif stop_at == None:\n",
    "        fastas.append([header, seq])\n",
    "    if as_dict:\n",
    "        return {h: s for h, s in fastas}\n",
    "\n",
    "    return pd.DataFrame({'location': [e[0] for e in fastas], 'sequence': [e[1] for e in fastas]})"
   ]
  },
  {
   "cell_type": "code",
   "execution_count": 5,
   "metadata": {},
   "outputs": [],
   "source": [
    "fasta_df = get_fastas_from_file(\"/cellar/users/aklie/projects/ML4GLand/use_cases/deAlmeida22/data/Sequences_Test.fa\")"
   ]
  },
  {
   "cell_type": "code",
   "execution_count": 6,
   "metadata": {},
   "outputs": [],
   "source": [
    "def parse_alpha_to_seq(sequence):\n",
    "    output = np.arange(len(sequence))\n",
    "    for i in range(0, len(sequence)):\n",
    "        snippet = sequence[i]\n",
    "        if snippet == 'A':\n",
    "            output[i] = 0\n",
    "        elif snippet == 'C':\n",
    "            output[i] = 1\n",
    "        elif snippet == 'G':\n",
    "            output[i] = 2\n",
    "        elif snippet == 'T':\n",
    "            output[i] = 3\n",
    "        elif snippet == 'N':\n",
    "            output[i] = -1\n",
    "        else:\n",
    "            raise AssertionError(\"Cannot handle snippet: \" + snippet)\n",
    "    return output\n",
    "\n",
    "def to_categorical(y, nb_classes=None):\n",
    "    '''Convert class vector (integers from 0 to nb_classes)\n",
    "    to binary class matrix, for use with categorical_crossentropy\n",
    "    '''\n",
    "    y = np.asarray(y, dtype='int32')\n",
    "    if not nb_classes:\n",
    "        nb_classes = np.max(y) + 1\n",
    "    Y = np.zeros((len(y), nb_classes))\n",
    "    for i in range(len(y)):\n",
    "        if y[i] != -1:\n",
    "            Y[i, y[i]] = 1.\n",
    "    return Y\n",
    "\n",
    "def do_one_hot_encoding(sequence, seq_length, f=parse_alpha_to_seq):\n",
    "    X = np.zeros((sequence.shape[0], seq_length, 4))\n",
    "    for idx in range(0, len(sequence)):\n",
    "        X[idx] = to_categorical(f(sequence[idx]), 4)\n",
    "    return X"
   ]
  },
  {
   "cell_type": "code",
   "execution_count": 7,
   "metadata": {},
   "outputs": [
    {
     "name": "stdout",
     "output_type": "stream",
     "text": [
      "(41186, 2)\n"
     ]
    }
   ],
   "source": [
    "print(fasta_df.shape)\n"
   ]
  },
  {
   "cell_type": "code",
   "execution_count": 8,
   "metadata": {},
   "outputs": [],
   "source": [
    "# length of first sequence\n",
    "sequence_length = len(fasta_df.sequence.iloc[0])"
   ]
  },
  {
   "cell_type": "code",
   "execution_count": 9,
   "metadata": {},
   "outputs": [],
   "source": [
    "# Convert sequence to one hot encoding matrix\n",
    "seq_matrix = do_one_hot_encoding(fasta_df.sequence, sequence_length, parse_alpha_to_seq)"
   ]
  },
  {
   "cell_type": "code",
   "execution_count": 10,
   "metadata": {},
   "outputs": [
    {
     "data": {
      "text/plain": [
       "(41186, 249, 4)"
      ]
     },
     "execution_count": 10,
     "metadata": {},
     "output_type": "execute_result"
    }
   ],
   "source": [
    "seq_matrix.shape"
   ]
  },
  {
   "cell_type": "code",
   "execution_count": 11,
   "metadata": {},
   "outputs": [
    {
     "name": "stderr",
     "output_type": "stream",
     "text": [
      "2023-05-06 16:50:17.986501: I tensorflow/compiler/mlir/mlir_graph_optimization_pass.cc:116] None of the MLIR optimization passes are enabled (registered 2)\n",
      "2023-05-06 16:50:18.002230: I tensorflow/core/platform/profile_utils/cpu_utils.cc:112] CPU Frequency: 2999820000 Hz\n"
     ]
    }
   ],
   "source": [
    "preds = model.predict(seq_matrix)"
   ]
  },
  {
   "cell_type": "code",
   "execution_count": 12,
   "metadata": {},
   "outputs": [],
   "source": [
    "out_prediction = fasta_df\n",
    "out_prediction['Predictions_dev'] = preds[0]\n",
    "out_prediction['Predictions_hk'] = preds[1]"
   ]
  },
  {
   "cell_type": "code",
   "execution_count": 13,
   "metadata": {},
   "outputs": [
    {
     "data": {
      "text/html": [
       "<div>\n",
       "<style scoped>\n",
       "    .dataframe tbody tr th:only-of-type {\n",
       "        vertical-align: middle;\n",
       "    }\n",
       "\n",
       "    .dataframe tbody tr th {\n",
       "        vertical-align: top;\n",
       "    }\n",
       "\n",
       "    .dataframe thead th {\n",
       "        text-align: right;\n",
       "    }\n",
       "</style>\n",
       "<table border=\"1\" class=\"dataframe\">\n",
       "  <thead>\n",
       "    <tr style=\"text-align: right;\">\n",
       "      <th></th>\n",
       "      <th>location</th>\n",
       "      <th>sequence</th>\n",
       "      <th>Predictions_dev</th>\n",
       "      <th>Predictions_hk</th>\n",
       "    </tr>\n",
       "  </thead>\n",
       "  <tbody>\n",
       "    <tr>\n",
       "      <th>0</th>\n",
       "      <td>chr2R_10574736_10574984_+_positive_peaks</td>\n",
       "      <td>AACATACCCTGCTCTAGCGTATTGCTTTTTAATTGGCAGAAAAATA...</td>\n",
       "      <td>3.125947</td>\n",
       "      <td>1.372647</td>\n",
       "    </tr>\n",
       "    <tr>\n",
       "      <th>1</th>\n",
       "      <td>chr2R_10577049_10577297_+_positive_peaks</td>\n",
       "      <td>ATGCCTGTTGGCCTGCGTAAGGAGCTACCATCAACATCAGCATCGC...</td>\n",
       "      <td>1.031718</td>\n",
       "      <td>-0.204710</td>\n",
       "    </tr>\n",
       "    <tr>\n",
       "      <th>2</th>\n",
       "      <td>chr2R_10600762_10601010_+_positive_peaks</td>\n",
       "      <td>TGTCGCTCCCATTTCGTCAAATGTTGCGTGCTAATTCGCTTGCCTT...</td>\n",
       "      <td>3.004485</td>\n",
       "      <td>0.590989</td>\n",
       "    </tr>\n",
       "    <tr>\n",
       "      <th>3</th>\n",
       "      <td>chr2R_10601947_10602195_+_positive_peaks</td>\n",
       "      <td>TTGTTGTTGTTGTTGCTCTTGTTGCTGGTGATTTCCACAGGCTTAG...</td>\n",
       "      <td>1.330016</td>\n",
       "      <td>-0.001533</td>\n",
       "    </tr>\n",
       "    <tr>\n",
       "      <th>4</th>\n",
       "      <td>chr2R_10605176_10605424_+_positive_peaks</td>\n",
       "      <td>TGTATTGTTGGGTTCCCAATAATTGATTATAAACGAGTGGAAATTG...</td>\n",
       "      <td>2.289671</td>\n",
       "      <td>0.001859</td>\n",
       "    </tr>\n",
       "    <tr>\n",
       "      <th>...</th>\n",
       "      <td>...</td>\n",
       "      <td>...</td>\n",
       "      <td>...</td>\n",
       "      <td>...</td>\n",
       "    </tr>\n",
       "    <tr>\n",
       "      <th>41181</th>\n",
       "      <td>chr2R_21141601_21141849_-_negative</td>\n",
       "      <td>CGGGATTGTCTATTTAAGTCACTCAGCTCCCTTGCTATACCCAAGA...</td>\n",
       "      <td>-0.657735</td>\n",
       "      <td>-0.782753</td>\n",
       "    </tr>\n",
       "    <tr>\n",
       "      <th>41182</th>\n",
       "      <td>chr2R_21141901_21142149_-_negative</td>\n",
       "      <td>GCACTAGCTGAGTAACAGGTATTTGATCGTTGGGGAACTCTCGTTT...</td>\n",
       "      <td>-0.396862</td>\n",
       "      <td>-0.878068</td>\n",
       "    </tr>\n",
       "    <tr>\n",
       "      <th>41183</th>\n",
       "      <td>chr2R_21142401_21142649_-_negative</td>\n",
       "      <td>TGAAAGTGTGTGCGTTCTGTTCTCTGTACTTTTCGGTGTAAAAGTA...</td>\n",
       "      <td>0.018391</td>\n",
       "      <td>-0.527420</td>\n",
       "    </tr>\n",
       "    <tr>\n",
       "      <th>41184</th>\n",
       "      <td>chr2R_21142501_21142749_-_negative</td>\n",
       "      <td>GCGCCGTGTTAAACACAAGTTTTTTGGCGGAATGCCTATTTAATCT...</td>\n",
       "      <td>0.191093</td>\n",
       "      <td>-0.336408</td>\n",
       "    </tr>\n",
       "    <tr>\n",
       "      <th>41185</th>\n",
       "      <td>chr2R_21143801_21144049_-_negative</td>\n",
       "      <td>TTTCTTGAACTGTGATTGAATATAACCATACAAAAACAACTATCAA...</td>\n",
       "      <td>-0.291339</td>\n",
       "      <td>-0.791265</td>\n",
       "    </tr>\n",
       "  </tbody>\n",
       "</table>\n",
       "<p>41186 rows × 4 columns</p>\n",
       "</div>"
      ],
      "text/plain": [
       "                                       location  \\\n",
       "0      chr2R_10574736_10574984_+_positive_peaks   \n",
       "1      chr2R_10577049_10577297_+_positive_peaks   \n",
       "2      chr2R_10600762_10601010_+_positive_peaks   \n",
       "3      chr2R_10601947_10602195_+_positive_peaks   \n",
       "4      chr2R_10605176_10605424_+_positive_peaks   \n",
       "...                                         ...   \n",
       "41181        chr2R_21141601_21141849_-_negative   \n",
       "41182        chr2R_21141901_21142149_-_negative   \n",
       "41183        chr2R_21142401_21142649_-_negative   \n",
       "41184        chr2R_21142501_21142749_-_negative   \n",
       "41185        chr2R_21143801_21144049_-_negative   \n",
       "\n",
       "                                                sequence  Predictions_dev  \\\n",
       "0      AACATACCCTGCTCTAGCGTATTGCTTTTTAATTGGCAGAAAAATA...         3.125947   \n",
       "1      ATGCCTGTTGGCCTGCGTAAGGAGCTACCATCAACATCAGCATCGC...         1.031718   \n",
       "2      TGTCGCTCCCATTTCGTCAAATGTTGCGTGCTAATTCGCTTGCCTT...         3.004485   \n",
       "3      TTGTTGTTGTTGTTGCTCTTGTTGCTGGTGATTTCCACAGGCTTAG...         1.330016   \n",
       "4      TGTATTGTTGGGTTCCCAATAATTGATTATAAACGAGTGGAAATTG...         2.289671   \n",
       "...                                                  ...              ...   \n",
       "41181  CGGGATTGTCTATTTAAGTCACTCAGCTCCCTTGCTATACCCAAGA...        -0.657735   \n",
       "41182  GCACTAGCTGAGTAACAGGTATTTGATCGTTGGGGAACTCTCGTTT...        -0.396862   \n",
       "41183  TGAAAGTGTGTGCGTTCTGTTCTCTGTACTTTTCGGTGTAAAAGTA...         0.018391   \n",
       "41184  GCGCCGTGTTAAACACAAGTTTTTTGGCGGAATGCCTATTTAATCT...         0.191093   \n",
       "41185  TTTCTTGAACTGTGATTGAATATAACCATACAAAAACAACTATCAA...        -0.291339   \n",
       "\n",
       "       Predictions_hk  \n",
       "0            1.372647  \n",
       "1           -0.204710  \n",
       "2            0.590989  \n",
       "3           -0.001533  \n",
       "4            0.001859  \n",
       "...               ...  \n",
       "41181       -0.782753  \n",
       "41182       -0.878068  \n",
       "41183       -0.527420  \n",
       "41184       -0.336408  \n",
       "41185       -0.791265  \n",
       "\n",
       "[41186 rows x 4 columns]"
      ]
     },
     "execution_count": 13,
     "metadata": {},
     "output_type": "execute_result"
    }
   ],
   "source": [
    "out_prediction"
   ]
  },
  {
   "cell_type": "code",
   "execution_count": 14,
   "metadata": {},
   "outputs": [],
   "source": [
    "targets = pd.read_csv(\"/cellar/users/aklie/projects/ML4GLand/use_cases/deAlmeida22/data/Sequences_activity_Test.txt\", sep=\"\\t\")"
   ]
  },
  {
   "cell_type": "code",
   "execution_count": 15,
   "metadata": {},
   "outputs": [],
   "source": [
    "out_prediction[[\"True_dev\", \"True_hk\"]] = targets[['Dev_log2_enrichment_scaled', 'Hk_log2_enrichment_scaled']]"
   ]
  },
  {
   "cell_type": "code",
   "execution_count": 16,
   "metadata": {},
   "outputs": [
    {
     "data": {
      "text/html": [
       "<div>\n",
       "<style scoped>\n",
       "    .dataframe tbody tr th:only-of-type {\n",
       "        vertical-align: middle;\n",
       "    }\n",
       "\n",
       "    .dataframe tbody tr th {\n",
       "        vertical-align: top;\n",
       "    }\n",
       "\n",
       "    .dataframe thead th {\n",
       "        text-align: right;\n",
       "    }\n",
       "</style>\n",
       "<table border=\"1\" class=\"dataframe\">\n",
       "  <thead>\n",
       "    <tr style=\"text-align: right;\">\n",
       "      <th></th>\n",
       "      <th>location</th>\n",
       "      <th>sequence</th>\n",
       "      <th>Predictions_dev</th>\n",
       "      <th>Predictions_hk</th>\n",
       "      <th>True_dev</th>\n",
       "      <th>True_hk</th>\n",
       "    </tr>\n",
       "  </thead>\n",
       "  <tbody>\n",
       "    <tr>\n",
       "      <th>0</th>\n",
       "      <td>chr2R_10574736_10574984_+_positive_peaks</td>\n",
       "      <td>AACATACCCTGCTCTAGCGTATTGCTTTTTAATTGGCAGAAAAATA...</td>\n",
       "      <td>3.125947</td>\n",
       "      <td>1.372647</td>\n",
       "      <td>2.019106</td>\n",
       "      <td>1.249387</td>\n",
       "    </tr>\n",
       "    <tr>\n",
       "      <th>1</th>\n",
       "      <td>chr2R_10577049_10577297_+_positive_peaks</td>\n",
       "      <td>ATGCCTGTTGGCCTGCGTAAGGAGCTACCATCAACATCAGCATCGC...</td>\n",
       "      <td>1.031718</td>\n",
       "      <td>-0.204710</td>\n",
       "      <td>1.225755</td>\n",
       "      <td>-0.182038</td>\n",
       "    </tr>\n",
       "    <tr>\n",
       "      <th>2</th>\n",
       "      <td>chr2R_10600762_10601010_+_positive_peaks</td>\n",
       "      <td>TGTCGCTCCCATTTCGTCAAATGTTGCGTGCTAATTCGCTTGCCTT...</td>\n",
       "      <td>3.004485</td>\n",
       "      <td>0.590989</td>\n",
       "      <td>2.062184</td>\n",
       "      <td>0.917304</td>\n",
       "    </tr>\n",
       "    <tr>\n",
       "      <th>3</th>\n",
       "      <td>chr2R_10601947_10602195_+_positive_peaks</td>\n",
       "      <td>TTGTTGTTGTTGTTGCTCTTGTTGCTGGTGATTTCCACAGGCTTAG...</td>\n",
       "      <td>1.330016</td>\n",
       "      <td>-0.001533</td>\n",
       "      <td>0.915108</td>\n",
       "      <td>0.137596</td>\n",
       "    </tr>\n",
       "    <tr>\n",
       "      <th>4</th>\n",
       "      <td>chr2R_10605176_10605424_+_positive_peaks</td>\n",
       "      <td>TGTATTGTTGGGTTCCCAATAATTGATTATAAACGAGTGGAAATTG...</td>\n",
       "      <td>2.289671</td>\n",
       "      <td>0.001859</td>\n",
       "      <td>2.946757</td>\n",
       "      <td>0.529130</td>\n",
       "    </tr>\n",
       "    <tr>\n",
       "      <th>...</th>\n",
       "      <td>...</td>\n",
       "      <td>...</td>\n",
       "      <td>...</td>\n",
       "      <td>...</td>\n",
       "      <td>...</td>\n",
       "      <td>...</td>\n",
       "    </tr>\n",
       "    <tr>\n",
       "      <th>41181</th>\n",
       "      <td>chr2R_21141601_21141849_-_negative</td>\n",
       "      <td>CGGGATTGTCTATTTAAGTCACTCAGCTCCCTTGCTATACCCAAGA...</td>\n",
       "      <td>-0.657735</td>\n",
       "      <td>-0.782753</td>\n",
       "      <td>-0.159378</td>\n",
       "      <td>-0.342474</td>\n",
       "    </tr>\n",
       "    <tr>\n",
       "      <th>41182</th>\n",
       "      <td>chr2R_21141901_21142149_-_negative</td>\n",
       "      <td>GCACTAGCTGAGTAACAGGTATTTGATCGTTGGGGAACTCTCGTTT...</td>\n",
       "      <td>-0.396862</td>\n",
       "      <td>-0.878068</td>\n",
       "      <td>-1.095283</td>\n",
       "      <td>0.449938</td>\n",
       "    </tr>\n",
       "    <tr>\n",
       "      <th>41183</th>\n",
       "      <td>chr2R_21142401_21142649_-_negative</td>\n",
       "      <td>TGAAAGTGTGTGCGTTCTGTTCTCTGTACTTTTCGGTGTAAAAGTA...</td>\n",
       "      <td>0.018391</td>\n",
       "      <td>-0.527420</td>\n",
       "      <td>0.219561</td>\n",
       "      <td>-1.255139</td>\n",
       "    </tr>\n",
       "    <tr>\n",
       "      <th>41184</th>\n",
       "      <td>chr2R_21142501_21142749_-_negative</td>\n",
       "      <td>GCGCCGTGTTAAACACAAGTTTTTTGGCGGAATGCCTATTTAATCT...</td>\n",
       "      <td>0.191093</td>\n",
       "      <td>-0.336408</td>\n",
       "      <td>0.524210</td>\n",
       "      <td>-1.089057</td>\n",
       "    </tr>\n",
       "    <tr>\n",
       "      <th>41185</th>\n",
       "      <td>chr2R_21143801_21144049_-_negative</td>\n",
       "      <td>TTTCTTGAACTGTGATTGAATATAACCATACAAAAACAACTATCAA...</td>\n",
       "      <td>-0.291339</td>\n",
       "      <td>-0.791265</td>\n",
       "      <td>0.176766</td>\n",
       "      <td>-0.682370</td>\n",
       "    </tr>\n",
       "  </tbody>\n",
       "</table>\n",
       "<p>41186 rows × 6 columns</p>\n",
       "</div>"
      ],
      "text/plain": [
       "                                       location  \\\n",
       "0      chr2R_10574736_10574984_+_positive_peaks   \n",
       "1      chr2R_10577049_10577297_+_positive_peaks   \n",
       "2      chr2R_10600762_10601010_+_positive_peaks   \n",
       "3      chr2R_10601947_10602195_+_positive_peaks   \n",
       "4      chr2R_10605176_10605424_+_positive_peaks   \n",
       "...                                         ...   \n",
       "41181        chr2R_21141601_21141849_-_negative   \n",
       "41182        chr2R_21141901_21142149_-_negative   \n",
       "41183        chr2R_21142401_21142649_-_negative   \n",
       "41184        chr2R_21142501_21142749_-_negative   \n",
       "41185        chr2R_21143801_21144049_-_negative   \n",
       "\n",
       "                                                sequence  Predictions_dev  \\\n",
       "0      AACATACCCTGCTCTAGCGTATTGCTTTTTAATTGGCAGAAAAATA...         3.125947   \n",
       "1      ATGCCTGTTGGCCTGCGTAAGGAGCTACCATCAACATCAGCATCGC...         1.031718   \n",
       "2      TGTCGCTCCCATTTCGTCAAATGTTGCGTGCTAATTCGCTTGCCTT...         3.004485   \n",
       "3      TTGTTGTTGTTGTTGCTCTTGTTGCTGGTGATTTCCACAGGCTTAG...         1.330016   \n",
       "4      TGTATTGTTGGGTTCCCAATAATTGATTATAAACGAGTGGAAATTG...         2.289671   \n",
       "...                                                  ...              ...   \n",
       "41181  CGGGATTGTCTATTTAAGTCACTCAGCTCCCTTGCTATACCCAAGA...        -0.657735   \n",
       "41182  GCACTAGCTGAGTAACAGGTATTTGATCGTTGGGGAACTCTCGTTT...        -0.396862   \n",
       "41183  TGAAAGTGTGTGCGTTCTGTTCTCTGTACTTTTCGGTGTAAAAGTA...         0.018391   \n",
       "41184  GCGCCGTGTTAAACACAAGTTTTTTGGCGGAATGCCTATTTAATCT...         0.191093   \n",
       "41185  TTTCTTGAACTGTGATTGAATATAACCATACAAAAACAACTATCAA...        -0.291339   \n",
       "\n",
       "       Predictions_hk  True_dev   True_hk  \n",
       "0            1.372647  2.019106  1.249387  \n",
       "1           -0.204710  1.225755 -0.182038  \n",
       "2            0.590989  2.062184  0.917304  \n",
       "3           -0.001533  0.915108  0.137596  \n",
       "4            0.001859  2.946757  0.529130  \n",
       "...               ...       ...       ...  \n",
       "41181       -0.782753 -0.159378 -0.342474  \n",
       "41182       -0.878068 -1.095283  0.449938  \n",
       "41183       -0.527420  0.219561 -1.255139  \n",
       "41184       -0.336408  0.524210 -1.089057  \n",
       "41185       -0.791265  0.176766 -0.682370  \n",
       "\n",
       "[41186 rows x 6 columns]"
      ]
     },
     "execution_count": 16,
     "metadata": {},
     "output_type": "execute_result"
    }
   ],
   "source": [
    "out_prediction"
   ]
  },
  {
   "cell_type": "code",
   "execution_count": 17,
   "metadata": {},
   "outputs": [],
   "source": [
    "# plot the predictions in a scatter plot\n",
    "import matplotlib.pyplot as plt\n",
    "import seaborn as sns\n",
    "from scipy.stats import gaussian_kde"
   ]
  },
  {
   "cell_type": "code",
   "execution_count": 18,
   "metadata": {},
   "outputs": [
    {
     "data": {
      "image/png": "[encoded data removed]",
      "text/plain": [
       "<Figure size 720x360 with 2 Axes>"
      ]
     },
     "metadata": {
      "needs_background": "light"
     },
     "output_type": "display_data"
    }
   ],
   "source": [
    "fig, ax = plt.subplots(1, 2, figsize=(10, 5))\n",
    "\n",
    "# Get point densities\n",
    "x = out_prediction['True_dev']\n",
    "y = out_prediction['Predictions_dev']\n",
    "xy = np.vstack([x,y])\n",
    "z = gaussian_kde(xy)(xy)\n",
    "\n",
    "# Sort the points by density, so that the densest points are plotted last\n",
    "idx = z.argsort()\n",
    "x, y, z = x[idx], y[idx], z[idx]\n",
    "\n",
    "ax[0].scatter(x, y, c=z)\n",
    "\n",
    "# Get point densities\n",
    "x = out_prediction['True_hk']\n",
    "y = out_prediction['Predictions_hk']\n",
    "xy = np.vstack([x,y])\n",
    "z = gaussian_kde(xy)(xy)\n",
    "\n",
    "# Sort the points by density, so that the densest points are plotted last\n",
    "idx = z.argsort()\n",
    "x, y, z = x[idx], y[idx], z[idx]\n",
    "\n",
    "ax[1].scatter(x, y, c=z)\n",
    "\n",
    "# Add metrics to the plots\n",
    "from sklearn.metrics import r2_score\n",
    "from scipy.stats import pearsonr, spearmanr\n",
    "\n",
    "r2_dev = r2_score(out_prediction['True_dev'], out_prediction['Predictions_dev'])\n",
    "r2_hk = r2_score(out_prediction['True_hk'], out_prediction['Predictions_hk'])\n",
    "\n",
    "pearson_dev = pearsonr(out_prediction['True_dev'], out_prediction['Predictions_dev'])\n",
    "pearson_hk = pearsonr(out_prediction['True_hk'], out_prediction['Predictions_hk'])\n",
    "\n",
    "spearman_dev = spearmanr(out_prediction['True_dev'], out_prediction['Predictions_dev'])\n",
    "spearman_hk = spearmanr(out_prediction['True_hk'], out_prediction['Predictions_hk'])\n",
    "\n",
    "ax[0].set_title(f\"Dev R2: {r2_dev:.2f}\\nPearson: {pearson_dev[0]:.2f}\\nSpearman: {spearman_dev[0]:.2f}\")\n",
    "ax[1].set_title(f\"Hk R2: {r2_hk:.2f}\\nPearson: {pearson_hk[0]:.2f}\\nSpearman: {spearman_hk[0]:.2f}\")\n",
    "\n",
    "# Add a diagonal line to the plots\n",
    "ax[0].plot(ax[0].get_xlim(), ax[0].get_ylim(), ls=\"--\", c=\".3\")\n",
    "ax[1].plot(ax[1].get_xlim(), ax[1].get_ylim(), ls=\"--\", c=\".3\")\n",
    "\n",
    "plt.tight_layout()\n",
    "plt.show()"
   ]
  },
  {
   "attachments": {},
   "cell_type": "markdown",
   "metadata": {},
   "source": [
    "# Interpret"
   ]
  },
  {
   "attachments": {},
   "cell_type": "markdown",
   "metadata": {},
   "source": [
    "Again tried to make this work, seems to run into dependency hell"
   ]
  },
  {
   "cell_type": "code",
   "execution_count": 19,
   "metadata": {},
   "outputs": [],
   "source": [
    "X = np.nan_to_num(seq_matrix) # Replace NaN with zero and infinity with large finite numbers\n",
    "X_reshaped = X.reshape((X.shape[0], X.shape[1], X.shape[2]))"
   ]
  },
  {
   "cell_type": "code",
   "execution_count": 23,
   "metadata": {},
   "outputs": [],
   "source": [
    "from deeplift.dinuc_shuffle import dinuc_shuffle"
   ]
  },
  {
   "cell_type": "code",
   "execution_count": 24,
   "metadata": {},
   "outputs": [],
   "source": [
    "dinuc_shuffle_n=100"
   ]
  },
  {
   "cell_type": "code",
   "execution_count": 25,
   "metadata": {},
   "outputs": [],
   "source": [
    "def dinuc_shuffle_several_times(list_containing_input_modes_for_an_example,\n",
    "                                seed=1234):\n",
    "  assert len(list_containing_input_modes_for_an_example)==1\n",
    "  onehot_seq = list_containing_input_modes_for_an_example[0]\n",
    "  rng = np.random.RandomState(seed)\n",
    "  to_return = np.array([dinuc_shuffle(onehot_seq, rng=rng) for i in range(dinuc_shuffle_n)])\n",
    "  return [to_return] #wrap in list for compatibility with multiple modes"
   ]
  },
  {
   "cell_type": "code",
   "execution_count": 26,
   "metadata": {},
   "outputs": [],
   "source": [
    "# get hypothetical scores also\n",
    "def combine_mult_and_diffref(mult, orig_inp, bg_data):\n",
    "    assert len(orig_inp)==1\n",
    "    projected_hypothetical_contribs = np.zeros_like(bg_data[0]).astype(\"float\")\n",
    "    assert len(orig_inp[0].shape)==2\n",
    "    #At each position in the input sequence, we iterate over the one-hot encoding\n",
    "    # possibilities (eg: for genomic sequence, this is ACGT i.e.\n",
    "    # 1000, 0100, 0010 and 0001) and compute the hypothetical\n",
    "    # difference-from-reference in each case. We then multiply the hypothetical\n",
    "    # differences-from-reference with the multipliers to get the hypothetical contributions.\n",
    "    #For each of the one-hot encoding possibilities,\n",
    "    # the hypothetical contributions are then summed across the ACGT axis to estimate\n",
    "    # the total hypothetical contribution of each position. This per-position hypothetical\n",
    "    # contribution is then assigned (\"projected\") onto whichever base was present in the\n",
    "    # hypothetical sequence.\n",
    "    #The reason this is a fast estimate of what the importance scores *would* look\n",
    "    # like if different bases were present in the underlying sequence is that\n",
    "    # the multipliers are computed once using the original sequence, and are not\n",
    "    # computed again for each hypothetical sequence.\n",
    "    for i in range(orig_inp[0].shape[-1]):\n",
    "        hypothetical_input = np.zeros_like(orig_inp[0]).astype(\"float\")\n",
    "        hypothetical_input[:,i] = 1.0\n",
    "        hypothetical_difference_from_reference = (hypothetical_input[None,:,:]-bg_data[0])\n",
    "        hypothetical_contribs = hypothetical_difference_from_reference*mult[0]\n",
    "        projected_hypothetical_contribs[:,:,i] = np.sum(hypothetical_contribs,axis=-1)\n",
    "    return [np.mean(projected_hypothetical_contribs,axis=0)]"
   ]
  },
  {
   "cell_type": "code",
   "execution_count": 22,
   "metadata": {},
   "outputs": [],
   "source": [
    "import shap"
   ]
  },
  {
   "cell_type": "code",
   "execution_count": 27,
   "metadata": {},
   "outputs": [
    {
     "name": "stdout",
     "output_type": "stream",
     "text": [
      "\u001b[0;31mInit signature:\u001b[0m\n",
      "\u001b[0mshap\u001b[0m\u001b[0;34m.\u001b[0m\u001b[0mDeepExplainer\u001b[0m\u001b[0;34m(\u001b[0m\u001b[0;34m\u001b[0m\n",
      "\u001b[0;34m\u001b[0m    \u001b[0mmodel\u001b[0m\u001b[0;34m,\u001b[0m\u001b[0;34m\u001b[0m\n",
      "\u001b[0;34m\u001b[0m    \u001b[0mdata\u001b[0m\u001b[0;34m,\u001b[0m\u001b[0;34m\u001b[0m\n",
      "\u001b[0;34m\u001b[0m    \u001b[0msession\u001b[0m\u001b[0;34m=\u001b[0m\u001b[0;32mNone\u001b[0m\u001b[0;34m,\u001b[0m\u001b[0;34m\u001b[0m\n",
      "\u001b[0;34m\u001b[0m    \u001b[0mlearning_phase_flags\u001b[0m\u001b[0;34m=\u001b[0m\u001b[0;32mNone\u001b[0m\u001b[0;34m,\u001b[0m\u001b[0;34m\u001b[0m\n",
      "\u001b[0;34m\u001b[0m    \u001b[0mcombine_mult_and_diffref\u001b[0m\u001b[0;34m=\u001b[0m\u001b[0;34m<\u001b[0m\u001b[0mfunction\u001b[0m \u001b[0mstandard_combine_mult_and_diffref\u001b[0m \u001b[0mat\u001b[0m \u001b[0;36m0x15549e3f8f80\u001b[0m\u001b[0;34m>\u001b[0m\u001b[0;34m,\u001b[0m\u001b[0;34m\u001b[0m\n",
      "\u001b[0;34m\u001b[0m\u001b[0;34m)\u001b[0m\u001b[0;34m\u001b[0m\u001b[0;34m\u001b[0m\u001b[0m\n",
      "\u001b[0;31mDocstring:\u001b[0m     \n",
      "Meant to approximate SHAP values for deep learning models.\n",
      "\n",
      "This is an enhanced version of the DeepLIFT algorithm (Deep SHAP) where, similar to Kernel SHAP, we\n",
      "approximate the conditional expectations of SHAP values using a selection of background samples.\n",
      "Lundberg and Lee, NIPS 2017 showed that the per node attribution rules in DeepLIFT (Shrikumar,\n",
      "Greenside, and Kundaje, arXiv 2017) can be chosen to approximate Shapley values. By integrating\n",
      "over many backgound samples DeepExplainer estimates approximate SHAP values such that they sum\n",
      "up to the difference between the expected model output on the passed background samples and the\n",
      "current model output (f(x) - E[f(x)]).\n",
      "\u001b[0;31mInit docstring:\u001b[0m\n",
      "An explainer object for a differentiable model using a given background dataset.\n",
      "\n",
      "Note that the complexity of the method scales linearly with the number of background data\n",
      "samples. Passing the entire training dataset as `data` will give very accurate expected\n",
      "values, but be unreasonably expensive. The variance of the expectation estimates scale by\n",
      "roughly 1/sqrt(N) for N background data samples. So 100 samples will give a good estimate,\n",
      "and 1000 samples a very good estimate of the expected values.\n",
      "\n",
      "Parameters\n",
      "----------\n",
      "model : if framework == 'tensorflow', (input : [tf.Tensor], output : tf.Tensor)\n",
      "     A pair of TensorFlow tensors (or a list and a tensor) that specifies the input and\n",
      "    output of the model to be explained. Note that SHAP values are specific to a single\n",
      "    output value, so the output tf.Tensor should be a single dimensional output (,1).\n",
      "\n",
      "    if framework == 'pytorch', an nn.Module object (model), or a tuple (model, layer),\n",
      "        where both are nn.Module objects\n",
      "    The model is an nn.Module object which takes as input a tensor (or list of tensors) of\n",
      "    shape data, and returns a single dimensional output.\n",
      "    If the input is a tuple, the returned shap values will be for the input of the\n",
      "    layer argument. layer must be a layer in the model, i.e. model.conv2\n",
      "\n",
      "data :\n",
      "    if framework == 'tensorflow': [numpy.array] or [pandas.DataFrame]\n",
      "    if framework == 'pytorch': [torch.tensor]\n",
      "    The background dataset to use for integrating out features. DeepExplainer integrates\n",
      "    over these samples. The data passed here must match the input tensors given in the\n",
      "    first argument. Note that since these samples are integrated over for each sample you\n",
      "    should only something like 100 or 1000 random background samples, not the whole training\n",
      "    dataset.\n",
      "\n",
      "combine_mult_and_diffref : function\n",
      "    This function determines how to combine the multipliers,\n",
      "     the original input and the reference input to get\n",
      "     the final attributions. Defaults to\n",
      "     standard_combine_mult_and_diffref, which just multiplies\n",
      "     the multipliers with the difference-from-reference (in\n",
      "     accordance with the standard DeepLIFT formulation) and then\n",
      "     averages the importance scores across the different references.\n",
      "     However, different approaches may be applied depending on\n",
      "     the use case (e.g. for computing hypothetical contributions\n",
      "     in genomic data)\n",
      "\n",
      "if framework == 'tensorflow':\n",
      "\n",
      "session : None or tensorflow.Session\n",
      "    The TensorFlow session that has the model we are explaining. If None is passed then\n",
      "    we do our best to find the right session, first looking for a keras session, then\n",
      "    falling back to the default TensorFlow session.\n",
      "\n",
      "learning_phase_flags : None or list of tensors\n",
      "    If you have your own custom learning phase flags pass them here. When explaining a prediction\n",
      "    we need to ensure we are not in training mode, since this changes the behavior of ops like\n",
      "    batch norm or dropout. If None is passed then we look for tensors in the graph that look like\n",
      "    learning phase flags (this works for Keras models). Note that we assume all the flags should\n",
      "    have a value of False during predictions (and hence explanations).\n",
      "\u001b[0;31mFile:\u001b[0m           ~/opt/miniconda3/envs/eugene_dev/lib/python3.7/site-packages/shap/explainers/deep/__init__.py\n",
      "\u001b[0;31mType:\u001b[0m           type\n",
      "\u001b[0;31mSubclasses:\u001b[0m     \n"
     ]
    }
   ],
   "source": [
    "shap.DeepExplainer?"
   ]
  },
  {
   "cell_type": "code",
   "execution_count": 28,
   "metadata": {},
   "outputs": [
    {
     "name": "stdout",
     "output_type": "stream",
     "text": [
      "WARNING:tensorflow:From /cellar/users/aklie/opt/miniconda3/envs/eugene_dev/lib/python3.7/site-packages/shap/explainers/deep/deep_tf.py:140: The name tf.keras.backend.get_session is deprecated. Please use tf.compat.v1.keras.backend.get_session instead.\n",
      "\n"
     ]
    },
    {
     "ename": "TypeError",
     "evalue": "Keras symbolic inputs/outputs do not implement `op`. You may be trying to pass Keras symbolic inputs/outputs to a TF API that does not register dispatching, preventing Keras from automatically converting the API call to a lambda layer in the Functional Model.",
     "output_type": "error",
     "traceback": [
      "\u001b[0;31m---------------------------------------------------------------------------\u001b[0m",
      "\u001b[0;31mTypeError\u001b[0m                                 Traceback (most recent call last)",
      "\u001b[0;32m/tmp/ipykernel_1400303/2424029574.py\u001b[0m in \u001b[0;36m<module>\u001b[0;34m\u001b[0m\n\u001b[1;32m      2\u001b[0m     \u001b[0;34m(\u001b[0m\u001b[0mmodel\u001b[0m\u001b[0;34m.\u001b[0m\u001b[0mlayers\u001b[0m\u001b[0;34m[\u001b[0m\u001b[0;36m0\u001b[0m\u001b[0;34m]\u001b[0m\u001b[0;34m.\u001b[0m\u001b[0minput\u001b[0m\u001b[0;34m,\u001b[0m \u001b[0mmodel\u001b[0m\u001b[0;34m.\u001b[0m\u001b[0mlayers\u001b[0m\u001b[0;34m[\u001b[0m\u001b[0;34m-\u001b[0m\u001b[0;36m1\u001b[0m\u001b[0;34m]\u001b[0m\u001b[0;34m.\u001b[0m\u001b[0moutput\u001b[0m\u001b[0;34m)\u001b[0m\u001b[0;34m,\u001b[0m\u001b[0;34m\u001b[0m\u001b[0;34m\u001b[0m\u001b[0m\n\u001b[1;32m      3\u001b[0m     \u001b[0mdata\u001b[0m\u001b[0;34m=\u001b[0m\u001b[0mdinuc_shuffle_several_times\u001b[0m\u001b[0;34m,\u001b[0m\u001b[0;34m\u001b[0m\u001b[0;34m\u001b[0m\u001b[0m\n\u001b[0;32m----> 4\u001b[0;31m     combine_mult_and_diffref=combine_mult_and_diffref)\n\u001b[0m",
      "\u001b[0;32m~/opt/miniconda3/envs/eugene_dev/lib/python3.7/site-packages/shap/explainers/deep/__init__.py\u001b[0m in \u001b[0;36m__init__\u001b[0;34m(self, model, data, session, learning_phase_flags, combine_mult_and_diffref)\u001b[0m\n\u001b[1;32m     95\u001b[0m             self.explainer = TFDeepExplainer(model=model, data=data,\n\u001b[1;32m     96\u001b[0m                 \u001b[0msession\u001b[0m\u001b[0;34m=\u001b[0m\u001b[0msession\u001b[0m\u001b[0;34m,\u001b[0m \u001b[0mlearning_phase_flags\u001b[0m\u001b[0;34m=\u001b[0m\u001b[0mlearning_phase_flags\u001b[0m\u001b[0;34m,\u001b[0m\u001b[0;34m\u001b[0m\u001b[0;34m\u001b[0m\u001b[0m\n\u001b[0;32m---> 97\u001b[0;31m                 combine_mult_and_diffref=combine_mult_and_diffref)\n\u001b[0m\u001b[1;32m     98\u001b[0m         \u001b[0;32melif\u001b[0m \u001b[0mframework\u001b[0m \u001b[0;34m==\u001b[0m \u001b[0;34m'pytorch'\u001b[0m\u001b[0;34m:\u001b[0m\u001b[0;34m\u001b[0m\u001b[0;34m\u001b[0m\u001b[0m\n\u001b[1;32m     99\u001b[0m             self.explainer = PyTorchDeepExplainer(model=model, data=data,\n",
      "\u001b[0;32m~/opt/miniconda3/envs/eugene_dev/lib/python3.7/site-packages/shap/explainers/deep/deep_tf.py\u001b[0m in \u001b[0;36m__init__\u001b[0;34m(self, model, data, session, learning_phase_flags, combine_mult_and_diffref)\u001b[0m\n\u001b[1;32m    167\u001b[0m         \u001b[0mdependence_breakers\u001b[0m \u001b[0;34m=\u001b[0m \u001b[0;34m[\u001b[0m\u001b[0mk\u001b[0m \u001b[0;32mfor\u001b[0m \u001b[0mk\u001b[0m \u001b[0;32min\u001b[0m \u001b[0mop_handlers\u001b[0m \u001b[0;32mif\u001b[0m \u001b[0mop_handlers\u001b[0m\u001b[0;34m[\u001b[0m\u001b[0mk\u001b[0m\u001b[0;34m]\u001b[0m \u001b[0;34m==\u001b[0m \u001b[0mbreak_dependence\u001b[0m\u001b[0;34m]\u001b[0m\u001b[0;34m\u001b[0m\u001b[0;34m\u001b[0m\u001b[0m\n\u001b[1;32m    168\u001b[0m         back_ops = backward_walk_ops(\n\u001b[0;32m--> 169\u001b[0;31m             \u001b[0;34m[\u001b[0m\u001b[0mself\u001b[0m\u001b[0;34m.\u001b[0m\u001b[0mmodel_output\u001b[0m\u001b[0;34m.\u001b[0m\u001b[0mop\u001b[0m\u001b[0;34m]\u001b[0m\u001b[0;34m,\u001b[0m \u001b[0mtensor_blacklist\u001b[0m\u001b[0;34m,\u001b[0m\u001b[0;34m\u001b[0m\u001b[0;34m\u001b[0m\u001b[0m\n\u001b[0m\u001b[1;32m    170\u001b[0m             \u001b[0mdependence_breakers\u001b[0m\u001b[0;34m\u001b[0m\u001b[0;34m\u001b[0m\u001b[0m\n\u001b[1;32m    171\u001b[0m         )\n",
      "\u001b[0;32m~/opt/miniconda3/envs/eugene_dev/lib/python3.7/site-packages/tensorflow/python/keras/engine/keras_tensor.py\u001b[0m in \u001b[0;36mop\u001b[0;34m(self)\u001b[0m\n\u001b[1;32m    249\u001b[0m   \u001b[0;34m@\u001b[0m\u001b[0mproperty\u001b[0m\u001b[0;34m\u001b[0m\u001b[0;34m\u001b[0m\u001b[0m\n\u001b[1;32m    250\u001b[0m   \u001b[0;32mdef\u001b[0m \u001b[0mop\u001b[0m\u001b[0;34m(\u001b[0m\u001b[0mself\u001b[0m\u001b[0;34m)\u001b[0m\u001b[0;34m:\u001b[0m\u001b[0;34m\u001b[0m\u001b[0;34m\u001b[0m\u001b[0m\n\u001b[0;32m--> 251\u001b[0;31m     raise TypeError('Keras symbolic inputs/outputs do not '\n\u001b[0m\u001b[1;32m    252\u001b[0m                     \u001b[0;34m'implement `op`. You may be '\u001b[0m\u001b[0;34m\u001b[0m\u001b[0;34m\u001b[0m\u001b[0m\n\u001b[1;32m    253\u001b[0m                     \u001b[0;34m'trying to pass Keras symbolic inputs/outputs '\u001b[0m\u001b[0;34m\u001b[0m\u001b[0;34m\u001b[0m\u001b[0m\n",
      "\u001b[0;31mTypeError\u001b[0m: Keras symbolic inputs/outputs do not implement `op`. You may be trying to pass Keras symbolic inputs/outputs to a TF API that does not register dispatching, preventing Keras from automatically converting the API call to a lambda layer in the Functional Model."
     ]
    }
   ],
   "source": [
    "explainer = shap.DeepExplainer(\n",
    "    (model.layers[0].input, model.layers[-1].output),\n",
    "    data=dinuc_shuffle_several_times,\n",
    "    combine_mult_and_diffref=combine_mult_and_diffref)"
   ]
  },
  {
   "cell_type": "code",
   "execution_count": null,
   "metadata": {},
   "outputs": [],
   "source": []
  },
  {
   "cell_type": "code",
   "execution_count": null,
   "metadata": {},
   "outputs": [],
   "source": [
    "shap_values_hypothetical = explainer.shap_values(one_hot)"
   ]
  }
 ],
 "metadata": {
  "kernelspec": {
   "display_name": "Python 3.7 eugene_dev",
   "language": "python",
   "name": "eugene_dev"
  },
  "orig_nbformat": 4
 },
 "nbformat": 4,
 "nbformat_minor": 2
}
