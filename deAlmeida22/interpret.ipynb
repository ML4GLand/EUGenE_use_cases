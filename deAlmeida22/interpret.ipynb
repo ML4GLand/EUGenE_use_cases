{
 "cells": [
  {
   "cell_type": "markdown",
   "id": "45af1ace-cff7-4a02-9362-eaa19365adda",
   "metadata": {
    "id": "SVxwvzYj-txy"
   },
   "source": [
    "# Set-up"
   ]
  },
  {
   "cell_type": "code",
   "execution_count": 1,
   "id": "7fbadc47-e20c-4b41-94b9-771c8fa824ad",
   "metadata": {
    "colab": {
     "base_uri": "https://localhost:8080/"
    },
    "execution": {
     "iopub.execute_input": "2022-12-20T00:36:43.723915Z",
     "iopub.status.busy": "2022-12-20T00:36:43.723690Z",
     "iopub.status.idle": "2022-12-20T00:37:28.924462Z",
     "shell.execute_reply": "2022-12-20T00:37:28.923889Z",
     "shell.execute_reply.started": "2022-12-20T00:36:43.723861Z"
    },
    "id": "Frw7XmtX-tx2",
    "outputId": "a87ae8b6-62c6-4b51-b15b-90665ceee68c",
    "tags": []
   },
   "outputs": [
    {
     "name": "stderr",
     "output_type": "stream",
     "text": [
      "Global seed set to 13\n"
     ]
    },
    {
     "name": "stdout",
     "output_type": "stream",
     "text": [
      "GPU is available: True\n",
      "Number of GPUs: 1\n",
      "Current GPU: 0\n",
      "GPUs: Quadro RTX 5000\n"
     ]
    }
   ],
   "source": [
    "# Autoreload extension\n",
    "if 'autoreload' not in get_ipython().extension_manager.loaded:\n",
    "    %load_ext autoreload\n",
    "%autoreload 2\n",
    "\n",
    "import os\n",
    "import numpy as np\n",
    "import eugene as eu"
   ]
  },
  {
   "cell_type": "code",
   "execution_count": 2,
   "id": "f04b19df-e007-4de4-b7f8-e10df0635bbf",
   "metadata": {
    "colab": {
     "base_uri": "https://localhost:8080/"
    },
    "execution": {
     "iopub.execute_input": "2022-12-20T00:37:28.926134Z",
     "iopub.status.busy": "2022-12-20T00:37:28.925421Z",
     "iopub.status.idle": "2022-12-20T00:37:32.975048Z",
     "shell.execute_reply": "2022-12-20T00:37:32.974588Z",
     "shell.execute_reply.started": "2022-12-20T00:37:28.926115Z"
    },
    "id": "KDJ9JK4LBPPf",
    "outputId": "7fcb15a4-d28a-4475-a80d-94b8352f7834",
    "tags": []
   },
   "outputs": [
    {
     "name": "stdout",
     "output_type": "stream",
     "text": [
      "1\n"
     ]
    }
   ],
   "source": [
    "print(eu.settings.gpus)\n",
    "eu.settings.dataset_dir = \"/cellar/users/aklie/data/eugene\""
   ]
  },
  {
   "cell_type": "markdown",
   "id": "c6a0e7f6-eb13-4e7d-a16d-bcc7b7ad8053",
   "metadata": {},
   "source": [
    "# Feature attributions"
   ]
  },
  {
   "cell_type": "code",
   "execution_count": 3,
   "id": "e484e4db-8112-46d6-bb5e-6bc611c79acc",
   "metadata": {
    "execution": {
     "iopub.execute_input": "2022-12-20T00:38:29.680279Z",
     "iopub.status.busy": "2022-12-20T00:38:29.680092Z",
     "iopub.status.idle": "2022-12-20T00:38:32.883223Z",
     "shell.execute_reply": "2022-12-20T00:38:32.882645Z",
     "shell.execute_reply.started": "2022-12-20T00:38:29.680262Z"
    },
    "tags": []
   },
   "outputs": [],
   "source": [
    "MODEL_PATH = \"/cellar/users/aklie/projects/EUGENe_use_cases/deAlmeida22/eugene_logs/ssDeepSTARR_regression/version_0/checkpoints/epoch=4-step=15714.ckpt\""
   ]
  },
  {
   "cell_type": "code",
   "execution_count": 4,
   "id": "3d05dc3b-8b33-44e3-a714-3b472122f1cb",
   "metadata": {
    "execution": {
     "iopub.execute_input": "2022-12-20T00:38:32.884369Z",
     "iopub.status.busy": "2022-12-20T00:38:32.884187Z",
     "iopub.status.idle": "2022-12-20T00:38:36.984258Z",
     "shell.execute_reply": "2022-12-20T00:38:36.983649Z",
     "shell.execute_reply.started": "2022-12-20T00:38:32.884353Z"
    },
    "tags": []
   },
   "outputs": [],
   "source": [
    "best_model = eu.models.DeepSTARR.load_from_checkpoint(MODEL_PATH)"
   ]
  },
  {
   "cell_type": "code",
   "execution_count": 5,
   "id": "77baca2b-438c-46c3-8b52-9fa1ed1f4d8c",
   "metadata": {
    "execution": {
     "iopub.execute_input": "2022-12-20T00:38:36.986826Z",
     "iopub.status.busy": "2022-12-20T00:38:36.986654Z",
     "iopub.status.idle": "2022-12-20T00:38:43.274918Z",
     "shell.execute_reply": "2022-12-20T00:38:43.274220Z",
     "shell.execute_reply.started": "2022-12-20T00:38:36.986809Z"
    },
    "tags": []
   },
   "outputs": [
    {
     "name": "stdout",
     "output_type": "stream",
     "text": [
      "Dataset deAlmeida22 Sequences_Test.fa has already been downloaded.\n",
      "Dataset deAlmeida22 Sequences_activity_Test.txt has already been downloaded.\n"
     ]
    },
    {
     "data": {
      "application/vnd.jupyter.widget-view+json": {
       "model_id": "c94b8f6a6f3b440dadff7116744adb03",
       "version_major": 2,
       "version_minor": 0
      },
      "text/plain": [
       "One-hot encoding sequences:   0%|          | 0/41186 [00:00<?, ?it/s]"
      ]
     },
     "metadata": {},
     "output_type": "display_data"
    },
    {
     "name": "stdout",
     "output_type": "stream",
     "text": [
      "SeqData object modified:\n",
      "\tohe_seqs: None -> 41186 ohe_seqs added\n"
     ]
    }
   ],
   "source": [
    "sdata_test = eu.datasets.deAlmeida22(\"test\")\n",
    "eu.pp.ohe_seqs_sdata(sdata_test)"
   ]
  },
  {
   "cell_type": "code",
   "execution_count": null,
   "id": "69438d05-8e91-4bbe-abce-bce3cb279687",
   "metadata": {},
   "outputs": [],
   "source": []
  }
 ],
 "metadata": {
  "kernelspec": {
   "display_name": "Python 3.7 eugene_dev",
   "language": "python",
   "name": "eugene_dev"
  },
  "language_info": {
   "codemirror_mode": {
    "name": "ipython",
    "version": 3
   },
   "file_extension": ".py",
   "mimetype": "text/x-python",
   "name": "python",
   "nbconvert_exporter": "python",
   "pygments_lexer": "ipython3",
   "version": "3.7.12"
  }
 },
 "nbformat": 4,
 "nbformat_minor": 5
}
