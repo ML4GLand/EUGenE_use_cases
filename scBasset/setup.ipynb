{
 "cells": [
  {
   "attachments": {},
   "cell_type": "markdown",
   "metadata": {},
   "source": [
    "# TODO"
   ]
  },
  {
   "attachments": {},
   "cell_type": "markdown",
   "metadata": {},
   "source": []
  },
  {
   "cell_type": "code",
   "execution_count": null,
   "metadata": {},
   "outputs": [],
   "source": [
    "import subprocess\n",
    "import os\n",
    "\n",
    "download_savepath = '/cellar/users/aklie/data/ml4gland/use_cases/yuan22/github_tutorial'\n",
    "os.makedirs(download_savepath, exist_ok=True)\n",
    "\n",
    "if not os.path.exists('%s/buen_ad_sc.h5ad'%download_savepath):\n",
    "    subprocess.run('wget -P %s https://storage.googleapis.com/scbasset_tutorial_data/buen_ad_sc.h5ad'%download_savepath, shell=True)\n",
    "\n",
    "if not os.path.exists('%s/buen_model_sc.h5'%download_savepath):\n",
    "    subprocess.run('wget -P %s https://storage.googleapis.com/scbasset_tutorial_data/buen_model_sc.h5'%download_savepath, shell=True)\n",
    "\n",
    "if not os.path.exists('%s/pbmc_ad.h5ad'%download_savepath):\n",
    "    subprocess.run('wget -P %s https://storage.googleapis.com/scbasset_tutorial_data/pbmc_ad.h5ad'%download_savepath, shell=True)\n",
    "\n",
    "if not os.path.exists('%s/pbmc_model.h5'%download_savepath):\n",
    "    subprocess.run('wget -P %s https://storage.googleapis.com/scbasset_tutorial_data/pbmc_model.h5'%download_savepath, shell=True)\n",
    "\n",
    "# download motif injection fasta files for CISBP-1.0 motifs and unzip:\n",
    "if not os.path.exists('%s/Homo_sapiens_motif_fasta.tar.gz'%download_savepath):\n",
    "    subprocess.run('wget -P %s https://storage.googleapis.com/scbasset_tutorial_data/Homo_sapiens_motif_fasta.tar.gz'%download_savepath, shell=True)\n",
    "subprocess.run('tar -xzf %s/Homo_sapiens_motif_fasta.tar.gz -C %s/'%(download_savepath, download_savepath), shell=True)s"
   ]
  }
 ],
 "metadata": {
  "language_info": {
   "name": "python"
  },
  "orig_nbformat": 4
 },
 "nbformat": 4,
 "nbformat_minor": 2
}
