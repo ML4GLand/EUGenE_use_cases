{
 "cells": [
  {
   "attachments": {},
   "cell_type": "markdown",
   "metadata": {},
   "source": [
    "# Installation and download to work with scBasset\n",
    "**Authorship:**\n",
    "Adam Klie (last updated: *07/19/2023*)\n",
    "***\n",
    "**Description:**\n",
    "Set-up computational environments and data for working with scBasset models from multiple sources.\n",
    "\n",
    "- EUGENe\n",
    "- Kipoi\n",
    "***"
   ]
  },
  {
   "attachments": {},
   "cell_type": "markdown",
   "metadata": {},
   "source": [
    "# Data"
   ]
  },
  {
   "cell_type": "code",
   "execution_count": null,
   "metadata": {},
   "outputs": [],
   "source": [
    "import subprocess\n",
    "import os\n",
    "\n",
    "download_savepath = '/cellar/users/aklie/data/ml4gland/use_cases/yuan22/github_tutorial'\n",
    "os.makedirs(download_savepath, exist_ok=True)\n",
    "\n",
    "if not os.path.exists('%s/buen_ad_sc.h5ad'%download_savepath):\n",
    "    subprocess.run('wget -P %s https://storage.googleapis.com/scbasset_tutorial_data/buen_ad_sc.h5ad'%download_savepath, shell=True)\n",
    "\n",
    "if not os.path.exists('%s/buen_model_sc.h5'%download_savepath):\n",
    "    subprocess.run('wget -P %s https://storage.googleapis.com/scbasset_tutorial_data/buen_model_sc.h5'%download_savepath, shell=True)\n",
    "\n",
    "if not os.path.exists('%s/pbmc_ad.h5ad'%download_savepath):\n",
    "    subprocess.run('wget -P %s https://storage.googleapis.com/scbasset_tutorial_data/pbmc_ad.h5ad'%download_savepath, shell=True)\n",
    "\n",
    "if not os.path.exists('%s/pbmc_model.h5'%download_savepath):\n",
    "    subprocess.run('wget -P %s https://storage.googleapis.com/scbasset_tutorial_data/pbmc_model.h5'%download_savepath, shell=True)\n",
    "\n",
    "# download motif injection fasta files for CISBP-1.0 motifs and unzip:\n",
    "if not os.path.exists('%s/Homo_sapiens_motif_fasta.tar.gz'%download_savepath):\n",
    "    subprocess.run('wget -P %s https://storage.googleapis.com/scbasset_tutorial_data/Homo_sapiens_motif_fasta.tar.gz'%download_savepath, shell=True)\n",
    "subprocess.run('tar -xzf %s/Homo_sapiens_motif_fasta.tar.gz -C %s/'%(download_savepath, download_savepath), shell=True)"
   ]
  },
  {
   "cell_type": "code",
   "execution_count": null,
   "metadata": {},
   "outputs": [],
   "source": [
    "import numpy as np\n",
    "import pandas as pd\n",
    "import h5py\n",
    "import scipy\n",
    "import scanpy as sc\n",
    "import anndata\n",
    "from scbasset.utils import *\n",
    "\n",
    "# plotting functions\n",
    "import seaborn as sns\n",
    "import matplotlib.pyplot as plt\n",
    "\n",
    "import os"
   ]
  },
  {
   "attachments": {},
   "cell_type": "markdown",
   "metadata": {},
   "source": [
    "### read example from 10x multiome output"
   ]
  },
  {
   "cell_type": "code",
   "execution_count": null,
   "metadata": {},
   "outputs": [
    {
     "data": {
      "text/plain": [
       "('/cellar/users/aklie/data/ml4gland/use_cases/yuan22/github_tutorial/multiome_pbmc/pbmc_granulocyte_sorted_3k_filtered_feature_bc_matrix.h5',\n",
       " '/cellar/users/aklie/data/ml4gland/use_cases/yuan22/github_tutorial/multiome_pbmc/pbmc_granulocyte_sorted_3k_atac_peaks.bed')"
      ]
     },
     "metadata": {},
     "output_type": "display_data"
    }
   ],
   "source": [
    "data_path = '/cellar/users/aklie/data/ml4gland/use_cases/yuan22/github_tutorial/multiome_pbmc/'\n",
    "\n",
    "h5_file = data_path + 'pbmc_granulocyte_sorted_3k_filtered_feature_bc_matrix.h5'\n",
    "bed_file = data_path + 'pbmc_granulocyte_sorted_3k_atac_peaks.bed'\n",
    "\n",
    "h5_file, bed_file"
   ]
  },
  {
   "cell_type": "code",
   "execution_count": null,
   "metadata": {},
   "outputs": [
    {
     "name": "stderr",
     "output_type": "stream",
     "text": [
      "/cellar/users/aklie/opt/miniconda3/envs/scbasset/lib/python3.7/site-packages/anndata/_core/anndata.py:1830: UserWarning: Variable names are not unique. To make them unique, call `.var_names_make_unique`.\n",
      "  utils.warn_names_duplicates(\"var\")\n"
     ]
    }
   ],
   "source": [
    "peak = pd.read_csv(bed_file, sep='\\t', names=['chr','start','end'])\n",
    "ad = sc.read_10x_h5(h5_file, gex_only=False)"
   ]
  },
  {
   "attachments": {},
   "cell_type": "markdown",
   "metadata": {},
   "source": [
    "### filtering"
   ]
  },
  {
   "cell_type": "code",
   "execution_count": null,
   "metadata": {},
   "outputs": [
    {
     "name": "stderr",
     "output_type": "stream",
     "text": [
      "/cellar/users/aklie/opt/miniconda3/envs/scbasset/lib/python3.7/site-packages/ipykernel_launcher.py:3: ImplicitModificationWarning: Trying to modify attribute `.var` of view, initializing view as actual.\n",
      "  This is separate from the ipykernel package so we can avoid doing imports until\n",
      "/cellar/users/aklie/opt/miniconda3/envs/scbasset/lib/python3.7/site-packages/scanpy/preprocessing/_simple.py:140: ImplicitModificationWarning: Trying to modify attribute `.obs` of view, initializing view as actual.\n",
      "  adata.obs['n_genes'] = number\n"
     ]
    }
   ],
   "source": [
    "ad_rna = ad[:, ad.var['feature_types']=='Gene Expression']\n",
    "ad_atac = ad[:, ad.var['feature_types']=='Peaks']\n",
    "ad_atac.var['chr'] = peak['chr'].values\n",
    "ad_atac.var['start'] = peak['start'].values\n",
    "ad_atac.var['end'] = peak['end'].values\n",
    "\n",
    "# basic stats\n",
    "sc.pp.filter_cells(ad_rna, min_genes=0)\n",
    "sc.pp.filter_genes(ad_rna, min_cells=0)\n",
    "sc.pp.filter_cells(ad_atac, min_genes=0)\n",
    "sc.pp.filter_genes(ad_atac, min_cells=0)\n",
    "\n",
    "# a gene need to be expressed in 5% cells\n",
    "# a peak need to be accessible in 5% cells\n",
    "thres = int(ad.shape[0]*0.05)\n",
    "ad_rna = ad_rna[:, ad_rna.var['n_cells']>thres]\n",
    "ad_atac = ad_atac[:, ad_atac.var['n_cells']>thres]"
   ]
  },
  {
   "attachments": {},
   "cell_type": "markdown",
   "metadata": {},
   "source": [
    "### save h5ad"
   ]
  },
  {
   "cell_type": "code",
   "execution_count": null,
   "metadata": {},
   "outputs": [
    {
     "name": "stderr",
     "output_type": "stream",
     "text": [
      "/cellar/users/aklie/opt/miniconda3/envs/scbasset/lib/python3.7/site-packages/anndata/_core/anndata.py:1235: ImplicitModificationWarning: Trying to modify attribute `.var` of view, initializing view as actual.\n",
      "  df[key] = c\n",
      "/cellar/users/aklie/opt/miniconda3/envs/scbasset/lib/python3.7/site-packages/anndata/_core/anndata.py:1235: ImplicitModificationWarning: Trying to modify attribute `.var` of view, initializing view as actual.\n",
      "  df[key] = c\n"
     ]
    }
   ],
   "source": [
    "chrs = ['chr'+str(i) for i in range(1,23)] + ['chrX', 'chrY']\n",
    "ad_atac = ad_atac[:, ad_atac.var['chr'].isin(chrs)]\n",
    "ad_atac.write(os.path.join(data_path, 'atac_ad.h5ad'))"
   ]
  }
 ],
 "metadata": {
  "kernelspec": {
   "display_name": "Python 3.9 ml4gland",
   "language": "python",
   "name": "ml4gland"
  },
  "orig_nbformat": 4
 },
 "nbformat": 4,
 "nbformat_minor": 2
}
