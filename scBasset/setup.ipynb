{
 "cells": [
  {
   "attachments": {},
   "cell_type": "markdown",
   "metadata": {},
   "source": [
    "# Installation and downloads to work with scBasset\n",
    "**Authorship:**\n",
    "Adam Klie (last updated: *09/21/2023*)\n",
    "***\n",
    "**Description:**\n",
    "Set-up computational environments and data for working with scBasset models from multiple sources.\n",
    "- scBasset\n",
    "- EUGENe\n",
    "- Kipoi\n",
    "***"
   ]
  },
  {
   "attachments": {},
   "cell_type": "markdown",
   "metadata": {},
   "source": [
    "# Setting up your computational environment"
   ]
  },
  {
   "attachments": {},
   "cell_type": "markdown",
   "metadata": {},
   "source": [
    "```bash\n",
    "# Create base conda \n",
    "conda create -n scbasset python=3.7\n",
    "conda activate scbasset\n",
    "\n",
    "# Install via pip in ML4GLand\n",
    "cd /cellar/users/aklie/opt/ml4gland\n",
    "git clone https://github.com/calico/scBasset.git\n",
    "pip install -e scBasset\n",
    "\n",
    "pip install protobuf==3.20\n",
    "PROTOCOL_BUFFERS_PYTHON_IMPLEMENTATION=python\n",
    "\n",
    "# Trying hard to get a GPU working\n",
    "conda install -c anaconda cudatoolkit=10.2\n",
    "conda install -c anaconda cudatoolkit=11.3\n",
    "conda install -c conda-forge cudnn==8.2.1\n",
    "conda uninstall cudatoolkit cudnn -y\n",
    "conda install -c anaconda cudatoolkit=11.2 cudnn=8.1 -y\n",
    "export LD_LIBRARY_PATH=$LD_LIBRARY_PATH:/cellar/users/aklie/opt/miniconda3/envs/scbasset/lib\n",
    "# SEEMS TO WORK\n",
    "\n",
    "# Get a kernel going!\n",
    "python -m ipykernel install --user --name scbasset --display-name \"Python 3.7 scbasset\"\n",
    "```"
   ]
  },
  {
   "attachments": {},
   "cell_type": "markdown",
   "metadata": {},
   "source": [
    "# DONE"
   ]
  },
  {
   "attachments": {},
   "cell_type": "markdown",
   "metadata": {},
   "source": [
    "---"
   ]
  }
 ],
 "metadata": {
  "language_info": {
   "name": "python"
  },
  "orig_nbformat": 4
 },
 "nbformat": 4,
 "nbformat_minor": 2
}
