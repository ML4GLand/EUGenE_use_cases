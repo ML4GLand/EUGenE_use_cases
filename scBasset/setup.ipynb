{
 "cells": [
  {
   "attachments": {},
   "cell_type": "markdown",
   "metadata": {},
   "source": [
    "# Installation and downloads to work with scBasset\n",
    "**Authorship:**\n",
    "Adam Klie (last updated: *09/21/2023*)\n",
    "***\n",
    "**Description:**\n",
    "Set-up computational environments and data for working with scBasset models from multiple sources.\n",
    "- scBasset \n",
    "- EUGENe\n",
    "- Kipoi\n",
    "***"
   ]
  },
  {
   "attachments": {},
   "cell_type": "markdown",
   "metadata": {},
   "source": [
    "# Setting up your computational environment"
   ]
  },
  {
   "attachments": {},
   "cell_type": "markdown",
   "metadata": {},
   "source": [
    "```bash\n",
    "# Create base conda \n",
    "conda create -n scbasset python=3.7\n",
    "conda activate scbasset\n",
    "\n",
    "# Install via pip in ML4GLand\n",
    "cd /cellar/users/aklie/opt/ml4gland\n",
    "git clone https://github.com/calico/scBasset.git\n",
    "pip install -e scBasset\n",
    "\n",
    "pip install protobuf==3.20\n",
    "PROTOCOL_BUFFERS_PYTHON_IMPLEMENTATION=python\n",
    "\n",
    "# Trying hard to get a GPU working\n",
    "conda install -c anaconda cudatoolkit=10.2\n",
    "conda install -c anaconda cudatoolkit=11.3\n",
    "conda install -c conda-forge cudnn==8.2.1\n",
    "conda uninstall cudatoolkit cudnn -y\n",
    "conda install -c anaconda cudatoolkit=11.2 cudnn=8.1 -y\n",
    "export LD_LIBRARY_PATH=$LD_LIBRARY_PATH:/cellar/users/aklie/opt/miniconda3/envs/scbasset/lib\n",
    "# SEEMS TO WORK\n",
    "\n",
    "# Get a kernel going!\n",
    "python -m ipykernel install --user --name scbasset --display-name \"Python 3.7 scbasset\"\n",
    "```"
   ]
  },
  {
   "attachments": {},
   "cell_type": "markdown",
   "metadata": {},
   "source": [
    "# Downloading scBasset tutorial data"
   ]
  },
  {
   "cell_type": "code",
   "execution_count": null,
   "metadata": {},
   "outputs": [],
   "source": [
    "import os\n",
    "import subprocess\n",
    "\n",
    "download_savepath = '/cellar/users/aklie/data/ml4gland/use_cases/yuan22/github_tutorial'\n",
    "os.makedirs(download_savepath, exist_ok=True)\n",
    "\n",
    "if not os.path.exists('%s/buen_ad_sc.h5ad'%download_savepath):\n",
    "    subprocess.run('wget -P %s https://storage.googleapis.com/scbasset_tutorial_data/buen_ad_sc.h5ad'%download_savepath, shell=True)\n",
    "\n",
    "if not os.path.exists('%s/buen_model_sc.h5'%download_savepath):\n",
    "    subprocess.run('wget -P %s https://storage.googleapis.com/scbasset_tutorial_data/buen_model_sc.h5'%download_savepath, shell=True)\n",
    "\n",
    "if not os.path.exists('%s/pbmc_ad.h5ad'%download_savepath):\n",
    "    subprocess.run('wget -P %s https://storage.googleapis.com/scbasset_tutorial_data/pbmc_ad.h5ad'%download_savepath, shell=True)\n",
    "\n",
    "if not os.path.exists('%s/pbmc_model.h5'%download_savepath):\n",
    "    subprocess.run('wget -P %s https://storage.googleapis.com/scbasset_tutorial_data/pbmc_model.h5'%download_savepath, shell=True)\n",
    "\n",
    "# download motif injection fasta files for CISBP-1.0 motifs and unzip:\n",
    "if not os.path.exists('%s/Homo_sapiens_motif_fasta.tar.gz'%download_savepath):\n",
    "    subprocess.run('wget -P %s https://storage.googleapis.com/scbasset_tutorial_data/Homo_sapiens_motif_fasta.tar.gz'%download_savepath, shell=True)\n",
    "subprocess.run('tar -xzf %s/Homo_sapiens_motif_fasta.tar.gz -C %s/'%(download_savepath, download_savepath), shell=True)s"
   ]
  }
 ],
 "metadata": {
  "language_info": {
   "name": "python"
  },
  "orig_nbformat": 4
 },
 "nbformat": 4,
 "nbformat_minor": 2
}
