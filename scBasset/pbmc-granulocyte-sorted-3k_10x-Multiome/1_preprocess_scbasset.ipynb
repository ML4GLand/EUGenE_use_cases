{
 "cells": [
  {
   "attachments": {},
   "cell_type": "markdown",
   "metadata": {},
   "source": [
    "## `pbmc_granulocyte_sorted_3k`"
   ]
  },
  {
   "cell_type": "code",
   "execution_count": 1,
   "metadata": {},
   "outputs": [],
   "source": [
    "import os\n",
    "import gc\n",
    "import h5py\n",
    "import psutil\n",
    "import pandas as pd\n",
    "import scanpy as sc\n",
    "from scipy import sparse"
   ]
  },
  {
   "attachments": {},
   "cell_type": "markdown",
   "metadata": {},
   "source": [
    "# Load data"
   ]
  },
  {
   "cell_type": "code",
   "execution_count": 2,
   "metadata": {},
   "outputs": [],
   "source": [
    "# Set-up the paths\n",
    "input_dir = '/cellar/users/aklie/data/ml4gland/pbmc_granulocyte_sorted_3k/processed/21Sep23/'\n",
    "h5_file = os.path.join(input_dir, 'pbmc_granulocyte_sorted_3k_filtered_feature_bc_matrix.h5')\n",
    "bed_file = os.path.join(input_dir, 'pbmc_granulocyte_sorted_3k_atac_peaks.bed')\n",
    "output_dir = '/cellar/users/aklie/projects/ML4GLand/use_cases/scBasset/pbmc-granulocyte-sorted-3k_10x-Multiome/processed'\n",
    "if not os.path.exists(output_dir):\n",
    "    os.makedirs(output_dir)"
   ]
  },
  {
   "cell_type": "code",
   "execution_count": 3,
   "metadata": {},
   "outputs": [
    {
     "name": "stderr",
     "output_type": "stream",
     "text": [
      "/cellar/users/aklie/opt/miniconda3/envs/scbasset/lib/python3.7/site-packages/anndata/_core/anndata.py:1830: UserWarning: Variable names are not unique. To make them unique, call `.var_names_make_unique`.\n",
      "  utils.warn_names_duplicates(\"var\")\n"
     ]
    }
   ],
   "source": [
    "# Read peaks and h5ad\n",
    "peak = pd.read_csv(bed_file, sep='\\t', names=['chr','start','end'], comment='#')\n",
    "ad = sc.read_10x_h5(h5_file, gex_only=False)"
   ]
  },
  {
   "attachments": {},
   "cell_type": "markdown",
   "metadata": {},
   "source": [
    "# Filter low quality cells"
   ]
  },
  {
   "cell_type": "code",
   "execution_count": 4,
   "metadata": {},
   "outputs": [
    {
     "name": "stderr",
     "output_type": "stream",
     "text": [
      "/cellar/users/aklie/opt/miniconda3/envs/scbasset/lib/python3.7/site-packages/ipykernel_launcher.py:3: ImplicitModificationWarning: Trying to modify attribute `.var` of view, initializing view as actual.\n",
      "  This is separate from the ipykernel package so we can avoid doing imports until\n",
      "/cellar/users/aklie/opt/miniconda3/envs/scbasset/lib/python3.7/site-packages/scanpy/preprocessing/_simple.py:140: ImplicitModificationWarning: Trying to modify attribute `.obs` of view, initializing view as actual.\n",
      "  adata.obs['n_genes'] = number\n"
     ]
    }
   ],
   "source": [
    "ad_rna = ad[:, ad.var['feature_types'] == 'Gene Expression']\n",
    "ad_atac = ad[:, ad.var['feature_types'] == 'Peaks']\n",
    "ad_atac.var['chr'] = peak['chr'].values\n",
    "ad_atac.var['start'] = peak['start'].values\n",
    "ad_atac.var['end'] = peak['end'].values\n",
    "\n",
    "# basic stats\n",
    "sc.pp.filter_cells(ad_rna, min_genes=0)\n",
    "sc.pp.filter_genes(ad_rna, min_cells=0)\n",
    "sc.pp.filter_cells(ad_atac, min_genes=0)\n",
    "sc.pp.filter_genes(ad_atac, min_cells=0)\n",
    "\n",
    "# a gene need to be expressed in 5% cells\n",
    "# a peak need to be accessible in 5% cells\n",
    "thres = int(ad.shape[0]*0.05)\n",
    "ad_rna = ad_rna[:, ad_rna.var['n_cells'] > thres]\n",
    "ad_atac = ad_atac[:, ad_atac.var['n_cells'] > thres]"
   ]
  },
  {
   "attachments": {},
   "cell_type": "markdown",
   "metadata": {},
   "source": [
    "# Save h5ad for next step"
   ]
  },
  {
   "cell_type": "code",
   "execution_count": 5,
   "metadata": {},
   "outputs": [
    {
     "name": "stderr",
     "output_type": "stream",
     "text": [
      "/cellar/users/aklie/opt/miniconda3/envs/scbasset/lib/python3.7/site-packages/anndata/_core/anndata.py:1235: ImplicitModificationWarning: Trying to modify attribute `.var` of view, initializing view as actual.\n",
      "  df[key] = c\n",
      "/cellar/users/aklie/opt/miniconda3/envs/scbasset/lib/python3.7/site-packages/anndata/_core/anndata.py:1235: ImplicitModificationWarning: Trying to modify attribute `.var` of view, initializing view as actual.\n",
      "  df[key] = c\n"
     ]
    }
   ],
   "source": [
    "chrs = ['chr'+str(i) for i in range(1,23)] + ['chrX', 'chrY']\n",
    "ad_atac = ad_atac[:, ad_atac.var['chr'].isin(chrs)]\n",
    "ad_atac.write(os.path.join(output_dir, 'atac_ad.h5ad'))"
   ]
  },
  {
   "attachments": {},
   "cell_type": "markdown",
   "metadata": {},
   "source": [
    "# Preprocess specifically for scBasset"
   ]
  },
  {
   "cell_type": "code",
   "execution_count": 3,
   "metadata": {},
   "outputs": [
    {
     "name": "stdout",
     "output_type": "stream",
     "text": [
      "process 0 peaks takes 1.6 s\n",
      "process 1000 peaks takes 2.4 s\n",
      "process 2000 peaks takes 3.1 s\n",
      "process 3000 peaks takes 3.9 s\n",
      "process 4000 peaks takes 4.6 s\n",
      "process 5000 peaks takes 5.4 s\n",
      "process 6000 peaks takes 6.1 s\n",
      "process 7000 peaks takes 6.9 s\n",
      "process 8000 peaks takes 7.6 s\n",
      "process 9000 peaks takes 8.4 s\n",
      "process 10000 peaks takes 9.1 s\n",
      "process 11000 peaks takes 9.8 s\n",
      "process 12000 peaks takes 10.5 s\n",
      "process 13000 peaks takes 11.2 s\n",
      "process 14000 peaks takes 11.9 s\n",
      "process 15000 peaks takes 12.6 s\n",
      "process 16000 peaks takes 13.4 s\n",
      "process 17000 peaks takes 14.2 s\n",
      "process 18000 peaks takes 14.9 s\n",
      "process 19000 peaks takes 15.6 s\n",
      "process 20000 peaks takes 16.4 s\n",
      "process 21000 peaks takes 17.2 s\n",
      "process 22000 peaks takes 18.0 s\n",
      "process 23000 peaks takes 18.8 s\n",
      "process 24000 peaks takes 19.5 s\n",
      "process 25000 peaks takes 20.3 s\n",
      "process 26000 peaks takes 21.1 s\n",
      "process 27000 peaks takes 21.9 s\n",
      "process 28000 peaks takes 22.6 s\n",
      "process 29000 peaks takes 23.4 s\n",
      "process 0 peaks takes 1.7 s\n",
      "process 1000 peaks takes 2.5 s\n",
      "process 2000 peaks takes 3.3 s\n",
      "process 3000 peaks takes 4.0 s\n",
      "process 4000 peaks takes 4.8 s\n",
      "process 5000 peaks takes 5.6 s\n",
      "process 6000 peaks takes 6.5 s\n",
      "process 7000 peaks takes 7.2 s\n",
      "process 8000 peaks takes 8.0 s\n",
      "process 9000 peaks takes 8.8 s\n",
      "process 10000 peaks takes 9.5 s\n",
      "process 11000 peaks takes 10.3 s\n",
      "process 12000 peaks takes 11.1 s\n",
      "process 13000 peaks takes 11.8 s\n",
      "process 14000 peaks takes 12.6 s\n",
      "process 15000 peaks takes 13.5 s\n",
      "process 16000 peaks takes 14.2 s\n",
      "process 17000 peaks takes 15.0 s\n",
      "process 18000 peaks takes 15.8 s\n",
      "process 19000 peaks takes 16.6 s\n",
      "process 20000 peaks takes 17.5 s\n",
      "process 21000 peaks takes 18.3 s\n",
      "process 22000 peaks takes 19.1 s\n",
      "process 23000 peaks takes 19.9 s\n",
      "process 24000 peaks takes 20.8 s\n",
      "process 25000 peaks takes 21.6 s\n",
      "process 26000 peaks takes 22.4 s\n",
      "process 0 peaks takes 1.7 s\n",
      "process 0 peaks takes 1.7 s\n"
     ]
    }
   ],
   "source": [
    "%%bash\n",
    "source activate scbasset\n",
    "python /cellar/users/aklie/opt/ml4gland/scBasset/bin/scbasset_preprocess.py \\\n",
    "    --ad_file /cellar/users/aklie/projects/ML4GLand/use_cases/scBasset/pbmc-granulocyte-sorted-3k_10x-Multiome/processed/atac_ad.h5ad \\\n",
    "    --input_fasta /cellar/users/aklie/data/ml4gland/genomes/hg38/hg38.fa \\\n",
    "    --out_path /cellar/users/aklie/projects/ML4GLand/use_cases/scBasset/pbmc-granulocyte-sorted-3k_10x-Multiome/processed"
   ]
  },
  {
   "attachments": {},
   "cell_type": "markdown",
   "metadata": {},
   "source": [
    "```bash\n",
    "\n",
    "```"
   ]
  },
  {
   "attachments": {},
   "cell_type": "markdown",
   "metadata": {},
   "source": [
    "# Scratch"
   ]
  },
  {
   "cell_type": "code",
   "execution_count": null,
   "metadata": {},
   "outputs": [],
   "source": []
  }
 ],
 "metadata": {
  "kernelspec": {
   "display_name": "Python 3.7 scbasset",
   "language": "python",
   "name": "scbasset"
  },
  "language_info": {
   "codemirror_mode": {
    "name": "ipython",
    "version": 3
   },
   "file_extension": ".py",
   "mimetype": "text/x-python",
   "name": "python",
   "nbconvert_exporter": "python",
   "pygments_lexer": "ipython3",
   "version": "3.7.12"
  },
  "orig_nbformat": 4
 },
 "nbformat": 4,
 "nbformat_minor": 2
}
