{
 "cells": [
  {
   "attachments": {},
   "cell_type": "markdown",
   "metadata": {},
   "source": [
    "# Training scBasset with EUGENe\n",
    "Adam Klie (last updated: *09/21/2023*)\n",
    "***\n",
    "This notebook shows how to take preprocessed SeqDatas and train scBasset models with EUGENe"
   ]
  },
  {
   "attachments": {},
   "cell_type": "markdown",
   "metadata": {},
   "source": [
    "# Set-up"
   ]
  },
  {
   "cell_type": "code",
   "execution_count": null,
   "metadata": {},
   "outputs": [],
   "source": [
    "# General imports\n",
    "import os\n",
    "import sys\n",
    "import torch\n",
    "import numpy as np\n",
    "import pandas as pd\n",
    "\n",
    "# EUGENe imports\n",
    "import eugene as eu\n",
    "\n",
    "# EUGENe packages\n",
    "import seqdatasets\n",
    "import seqdata as sd\n",
    "from eugene import dataload as dl\n",
    "from eugene import models\n",
    "from eugene.models.zoo import scBasset\n",
    "from eugene import train\n",
    "\n",
    "# Print versions\n",
    "print(f\"Python version: {sys.version}\")\n",
    "print(f\"NumPy version: {np.__version__}\")\n",
    "print(f\"Pandas version: {pd.__version__}\")\n",
    "print(f\"PyTorch version: {torch.__version__}\")\n",
    "print(f\"Eugene version: {eu.__version__}\")"
   ]
  },
  {
   "cell_type": "code",
   "execution_count": null,
   "metadata": {},
   "outputs": [],
   "source": [
    "# Set-up the paths to data (TODO: change to your own paths)\n",
    "input_dir = '/cellar/users/aklie/projects/ML4GLand/use_cases/scBasset/Buenrostro_2018/processed'\n",
    "train_seqdata = os.path.join(input_dir, 'train_seqdata.zarr')\n",
    "val_seqdata = os.path.join(input_dir, 'val_seqdata.zarr')\n",
    "output_dir = '/cellar/users/aklie/projects/ML4GLand/use_cases/scBasset/Buenrostro_2018/models'"
   ]
  },
  {
   "attachments": {},
   "cell_type": "markdown",
   "metadata": {},
   "source": [
    "# Load data"
   ]
  },
  {
   "cell_type": "code",
   "execution_count": null,
   "metadata": {},
   "outputs": [],
   "source": [
    "sdata_train = sd.open_zarr(train_seqdata)\n",
    "sdata_val = sd.open_zarr(val_seqdata)\n",
    "\n",
    "# Smush the seqdatas together with \"train_val\" column\n",
    "sdata_train_val = dl.concat([sdata_train, sdata_val], keys=['train', 'val'], axis=0)"
   ]
  },
  {
   "cell_type": "code",
   "execution_count": null,
   "metadata": {},
   "outputs": [],
   "source": [
    "train_dl = sd.get_torch_dataloader(\n",
    "    sdata_train,\n",
    "    sample_dims=['_sequence'],\n",
    "    variables=['ohe_seq', 'bin_counts'],\n",
    "    prefetch_factor=None,\n",
    "    batch_size=128,\n",
    "    transforms={\n",
    "        lambda x: torch.tensor(x, dtype=torch.float32).transpose(1, 2)\n",
    "    },\n",
    "    shuffle=True,\n",
    ")"
   ]
  },
  {
   "cell_type": "code",
   "execution_count": null,
   "metadata": {},
   "outputs": [],
   "source": [
    "val_dl = sd.get_torch_dataloader(\n",
    "    sdata_val,\n",
    "    sample_dims=['_sequence'],\n",
    "    variables=['ohe_seq', 'bin_counts'],\n",
    "    prefetch_factor=None,\n",
    "    batch_size=128,\n",
    "    transforms={\n",
    "        lambda x: torch.tensor(x, dtype=torch.float32).transpose(1, 2)\n",
    "    },\n",
    "    shuffle=False,\n",
    ")"
   ]
  },
  {
   "cell_type": "code",
   "execution_count": null,
   "metadata": {},
   "outputs": [],
   "source": [
    "# Test a batch\n",
    "batch = next(iter(train_dl))\n",
    "[x.shape for x in batch]"
   ]
  },
  {
   "attachments": {},
   "cell_type": "markdown",
   "metadata": {},
   "source": [
    "# Load model"
   ]
  },
  {
   "cell_type": "code",
   "execution_count": 1,
   "metadata": {},
   "outputs": [],
   "source": [
    "arch = scBasset(num_cells=2711, l1=0.01, l2=0.01)"
   ]
  },
  {
   "cell_type": "code",
   "execution_count": null,
   "metadata": {},
   "outputs": [],
   "source": [
    "# Test a batch\n",
    "batch = next(iter(train_dl))"
   ]
  },
  {
   "cell_type": "code",
   "execution_count": null,
   "metadata": {},
   "outputs": [],
   "source": [
    "# Forward pass\n",
    "outs = arch(batch[0])\n",
    "outs[0].shape"
   ]
  },
  {
   "cell_type": "code",
   "execution_count": null,
   "metadata": {},
   "outputs": [],
   "source": [
    "# Create a SequenceModule for training\n",
    "model = models.SequenceModule(\n",
    "    arch=arch,\n",
    "    task='multilabel_classification',\n",
    "    loss_fn='bce',\n",
    "    metrics=['auroc'],\n",
    ")"
   ]
  },
  {
   "attachments": {},
   "cell_type": "markdown",
   "metadata": {},
   "source": [
    "# Train the model"
   ]
  },
  {
   "cell_type": "code",
   "execution_count": null,
   "metadata": {},
   "outputs": [],
   "source": [
    "# Fit the model\n",
    "train.fit(\n",
    "    model,\n",
    "    train_dataloader=train_dl,\n",
    "    val_dataloader=val_dl,\n",
    "    seq_var=\"ohe_seq\",\n",
    "    target_vars=[\"bin_counts\"],\n",
    "    in_memory=True,\n",
    "    train_var=\"batch\",\n",
    "    epochs=5,\n",
    "    batch_size=128,\n",
    "    num_workers=4,\n",
    "    prefetch_factor=2,\n",
    "    drop_last=False,\n",
    "    model_checkpoint_monitor=\"val_auroc_epoch\",\n",
    "    log_dir=output_dir,\n",
    "    name=\"eugene\",\n",
    "    version=\"20Sep23\"\n",
    ")"
   ]
  },
  {
   "attachments": {},
   "cell_type": "markdown",
   "metadata": {},
   "source": [
    "# DONE!"
   ]
  },
  {
   "attachments": {},
   "cell_type": "markdown",
   "metadata": {},
   "source": [
    "---"
   ]
  }
 ],
 "metadata": {
  "kernelspec": {
   "display_name": "Python 3.7 scbasset",
   "language": "python",
   "name": "scbasset"
  },
  "orig_nbformat": 4
 },
 "nbformat": 4,
 "nbformat_minor": 2
}
