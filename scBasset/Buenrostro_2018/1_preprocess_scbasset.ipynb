{
 "cells": [
  {
   "attachments": {},
   "cell_type": "markdown",
   "metadata": {},
   "source": [
    "# Prep data for training a scBasset model on `Buenrostro_2018`\n",
    "Adam Klie (last updated: *09/20/2023*)\n",
    "***\n",
    "This notebook shows how to prep data for training a scBasset model on the Buenrostro 2018 data. Details on how to get the processed data are coming soon. For now, you can download the ready to go h5ad file using the `setup.ipynb` notebook one directory up from this."
   ]
  },
  {
   "attachments": {},
   "cell_type": "markdown",
   "metadata": {},
   "source": [
    "# Set-up"
   ]
  },
  {
   "cell_type": "code",
   "execution_count": null,
   "metadata": {},
   "outputs": [],
   "source": [
    "# Load necessary packages\n",
    "import os\n",
    "import pandas as pd\n",
    "import scanpy as sc"
   ]
  },
  {
   "cell_type": "code",
   "execution_count": null,
   "metadata": {},
   "outputs": [],
   "source": [
    "# Set-up the paths to data (TODO: change to your own paths)\n",
    "input_dir = '/cellar/users/aklie/data/ml4gland/Buenrostro_2018/processed/21Sep23/'\n",
    "h5_file = os.path.join(input_dir, 'Buenrostro_2018_filtered_feature_bc_matrix.h5')  # TODO\n",
    "bed_file = os.path.join(input_dir, 'Buenrostro_2018.bed')  # TODO\n",
    "output_dir = '/cellar/users/aklie/projects/ML4GLand/use_cases/scBasset/Buenrostro_2018/processed'\n",
    "if not os.path.exists(output_dir):\n",
    "    os.makedirs(output_dir)"
   ]
  },
  {
   "attachments": {},
   "cell_type": "markdown",
   "metadata": {},
   "source": [
    "# Load data"
   ]
  },
  {
   "cell_type": "code",
   "execution_count": null,
   "metadata": {},
   "outputs": [],
   "source": [
    "# Read peaks and h5ad\n",
    "peak = pd.read_csv(bed_file, sep='\\t', names=['chr','start','end'], comment='#')\n",
    "ad = sc.read_10x_h5(h5_file, gex_only=False)"
   ]
  },
  {
   "attachments": {},
   "cell_type": "markdown",
   "metadata": {},
   "source": [
    "# Filter low quality cells"
   ]
  },
  {
   "cell_type": "code",
   "execution_count": null,
   "metadata": {},
   "outputs": [],
   "source": [
    "# Use Scanpy to process the data\n",
    "ad_rna = ad[:, ad.var['feature_types'] == 'Gene Expression']\n",
    "ad_atac = ad[:, ad.var['feature_types'] == 'Peaks']\n",
    "ad_atac.var['chr'] = peak['chr'].values\n",
    "ad_atac.var['start'] = peak['start'].values\n",
    "ad_atac.var['end'] = peak['end'].values"
   ]
  },
  {
   "cell_type": "code",
   "execution_count": null,
   "metadata": {},
   "outputs": [],
   "source": [
    "# basic stats\n",
    "sc.pp.filter_cells(ad_rna, min_genes=0)\n",
    "sc.pp.filter_genes(ad_rna, min_cells=0)\n",
    "sc.pp.filter_cells(ad_atac, min_genes=0)\n",
    "sc.pp.filter_genes(ad_atac, min_cells=0)"
   ]
  },
  {
   "cell_type": "code",
   "execution_count": null,
   "metadata": {},
   "outputs": [],
   "source": [
    "# a gene need to be expressed in 5% cells and a peak need to be accessible in 5% cells\n",
    "thres = int(ad.shape[0]*0.05)\n",
    "ad_rna = ad_rna[:, ad_rna.var['n_cells'] > thres]\n",
    "ad_atac = ad_atac[:, ad_atac.var['n_cells'] > thres]"
   ]
  },
  {
   "attachments": {},
   "cell_type": "markdown",
   "metadata": {},
   "source": [
    "# Save h5ad for next step"
   ]
  },
  {
   "cell_type": "code",
   "execution_count": null,
   "metadata": {},
   "outputs": [],
   "source": [
    "chrs = ['chr'+str(i) for i in range(1,23)] + ['chrX', 'chrY']\n",
    "ad_atac = ad_atac[:, ad_atac.var['chr'].isin(chrs)]\n",
    "ad_atac.write(os.path.join(output_dir, 'buen_atac_ad.h5ad'))"
   ]
  },
  {
   "attachments": {},
   "cell_type": "markdown",
   "metadata": {},
   "source": [
    "# Preprocess specifically for scBasset"
   ]
  },
  {
   "cell_type": "code",
   "execution_count": null,
   "metadata": {},
   "outputs": [],
   "source": [
    "%%bash\n",
    "source activate scbasset\n",
    "python /cellar/users/aklie/opt/ml4gland/scBasset/bin/scbasset_preprocess.py \\\n",
    "    --ad_file /cellar/users/aklie/projects/ML4GLand/use_cases/scBasset/Buenrostro_2018/processed/buen_ad_sc.h5ad \\\n",
    "    --input_fasta /cellar/users/aklie/data/ml4gland/genomes/hg38/hg38.fa \\\n",
    "    --out_path /cellar/users/aklie/projects/ML4GLand/use_cases/scBasset/Buenrostro_2018/processed"
   ]
  },
  {
   "attachments": {},
   "cell_type": "markdown",
   "metadata": {},
   "source": [
    "```bash\n",
    "\n",
    "```"
   ]
  },
  {
   "attachments": {},
   "cell_type": "markdown",
   "metadata": {},
   "source": [
    "# DONE!"
   ]
  },
  {
   "attachments": {},
   "cell_type": "markdown",
   "metadata": {},
   "source": [
    "---"
   ]
  }
 ],
 "metadata": {
  "kernelspec": {
   "display_name": "Python 3.7 scbasset",
   "language": "python",
   "name": "scbasset"
  },
  "language_info": {
   "codemirror_mode": {
    "name": "ipython",
    "version": 3
   },
   "file_extension": ".py",
   "mimetype": "text/x-python",
   "name": "python",
   "nbconvert_exporter": "python",
   "pygments_lexer": "ipython3",
   "version": "3.7.12"
  },
  "orig_nbformat": 4
 },
 "nbformat": 4,
 "nbformat_minor": 2
}
