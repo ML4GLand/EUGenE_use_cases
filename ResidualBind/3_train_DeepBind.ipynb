{
 "cells": [
  {
   "attachments": {},
   "cell_type": "markdown",
   "metadata": {},
   "source": [
    "# Set-up"
   ]
  },
  {
   "cell_type": "code",
   "execution_count": 1,
   "metadata": {},
   "outputs": [],
   "source": [
    "import os\n",
    "import torch\n",
    "import numpy as np\n",
    "import pandas as pd \n",
    "import seqdata as sd\n",
    "import xarray as xr\n",
    "from eugene import models\n",
    "from eugene.models import zoo\n",
    "from eugene import train\n",
    "from eugene import preprocess as pp"
   ]
  },
  {
   "cell_type": "code",
   "execution_count": 18,
   "metadata": {},
   "outputs": [],
   "source": [
    "# Model log directory\n",
    "log_dir = \"/cellar/users/aklie/projects/ML4GLand/use_cases/ResidualBind/models/2023_12_16/DeepBind\""
   ]
  },
  {
   "attachments": {},
   "cell_type": "markdown",
   "metadata": {},
   "source": [
    "# Load training and validation data"
   ]
  },
  {
   "cell_type": "code",
   "execution_count": 19,
   "metadata": {},
   "outputs": [
    {
     "data": {
      "text/html": [
       "<div><svg style=\"position: absolute; width: 0; height: 0; overflow: hidden\">\n",
       "<defs>\n",
       "<symbol id=\"icon-database\" viewBox=\"0 0 32 32\">\n",
       "<path d=\"M16 0c-8.837 0-16 2.239-16 5v4c0 2.761 7.163 5 16 5s16-2.239 16-5v-4c0-2.761-7.163-5-16-5z\"></path>\n",
       "<path d=\"M16 17c-8.837 0-16-2.239-16-5v6c0 2.761 7.163 5 16 5s16-2.239 16-5v-6c0 2.761-7.163 5-16 5z\"></path>\n",
       "<path d=\"M16 26c-8.837 0-16-2.239-16-5v6c0 2.761 7.163 5 16 5s16-2.239 16-5v-6c0 2.761-7.163 5-16 5z\"></path>\n",
       "</symbol>\n",
       "<symbol id=\"icon-file-text2\" viewBox=\"0 0 32 32\">\n",
       "<path d=\"M28.681 7.159c-0.694-0.947-1.662-2.053-2.724-3.116s-2.169-2.030-3.116-2.724c-1.612-1.182-2.393-1.319-2.841-1.319h-15.5c-1.378 0-2.5 1.121-2.5 2.5v27c0 1.378 1.122 2.5 2.5 2.5h23c1.378 0 2.5-1.122 2.5-2.5v-19.5c0-0.448-0.137-1.23-1.319-2.841zM24.543 5.457c0.959 0.959 1.712 1.825 2.268 2.543h-4.811v-4.811c0.718 0.556 1.584 1.309 2.543 2.268zM28 29.5c0 0.271-0.229 0.5-0.5 0.5h-23c-0.271 0-0.5-0.229-0.5-0.5v-27c0-0.271 0.229-0.5 0.5-0.5 0 0 15.499-0 15.5 0v7c0 0.552 0.448 1 1 1h7v19.5z\"></path>\n",
       "<path d=\"M23 26h-14c-0.552 0-1-0.448-1-1s0.448-1 1-1h14c0.552 0 1 0.448 1 1s-0.448 1-1 1z\"></path>\n",
       "<path d=\"M23 22h-14c-0.552 0-1-0.448-1-1s0.448-1 1-1h14c0.552 0 1 0.448 1 1s-0.448 1-1 1z\"></path>\n",
       "<path d=\"M23 18h-14c-0.552 0-1-0.448-1-1s0.448-1 1-1h14c0.552 0 1 0.448 1 1s-0.448 1-1 1z\"></path>\n",
       "</symbol>\n",
       "</defs>\n",
       "</svg>\n",
       "<style>/* CSS stylesheet for displaying xarray objects in jupyterlab.\n",
       " *\n",
       " */\n",
       "\n",
       ":root {\n",
       "  --xr-font-color0: var(--jp-content-font-color0, rgba(0, 0, 0, 1));\n",
       "  --xr-font-color2: var(--jp-content-font-color2, rgba(0, 0, 0, 0.54));\n",
       "  --xr-font-color3: var(--jp-content-font-color3, rgba(0, 0, 0, 0.38));\n",
       "  --xr-border-color: var(--jp-border-color2, #e0e0e0);\n",
       "  --xr-disabled-color: var(--jp-layout-color3, #bdbdbd);\n",
       "  --xr-background-color: var(--jp-layout-color0, white);\n",
       "  --xr-background-color-row-even: var(--jp-layout-color1, white);\n",
       "  --xr-background-color-row-odd: var(--jp-layout-color2, #eeeeee);\n",
       "}\n",
       "\n",
       "html[theme=dark],\n",
       "body[data-theme=dark],\n",
       "body.vscode-dark {\n",
       "  --xr-font-color0: rgba(255, 255, 255, 1);\n",
       "  --xr-font-color2: rgba(255, 255, 255, 0.54);\n",
       "  --xr-font-color3: rgba(255, 255, 255, 0.38);\n",
       "  --xr-border-color: #1F1F1F;\n",
       "  --xr-disabled-color: #515151;\n",
       "  --xr-background-color: #111111;\n",
       "  --xr-background-color-row-even: #111111;\n",
       "  --xr-background-color-row-odd: #313131;\n",
       "}\n",
       "\n",
       ".xr-wrap {\n",
       "  display: block !important;\n",
       "  min-width: 300px;\n",
       "  max-width: 700px;\n",
       "}\n",
       "\n",
       ".xr-text-repr-fallback {\n",
       "  /* fallback to plain text repr when CSS is not injected (untrusted notebook) */\n",
       "  display: none;\n",
       "}\n",
       "\n",
       ".xr-header {\n",
       "  padding-top: 6px;\n",
       "  padding-bottom: 6px;\n",
       "  margin-bottom: 4px;\n",
       "  border-bottom: solid 1px var(--xr-border-color);\n",
       "}\n",
       "\n",
       ".xr-header > div,\n",
       ".xr-header > ul {\n",
       "  display: inline;\n",
       "  margin-top: 0;\n",
       "  margin-bottom: 0;\n",
       "}\n",
       "\n",
       ".xr-obj-type,\n",
       ".xr-array-name {\n",
       "  margin-left: 2px;\n",
       "  margin-right: 10px;\n",
       "}\n",
       "\n",
       ".xr-obj-type {\n",
       "  color: var(--xr-font-color2);\n",
       "}\n",
       "\n",
       ".xr-sections {\n",
       "  padding-left: 0 !important;\n",
       "  display: grid;\n",
       "  grid-template-columns: 150px auto auto 1fr 20px 20px;\n",
       "}\n",
       "\n",
       ".xr-section-item {\n",
       "  display: contents;\n",
       "}\n",
       "\n",
       ".xr-section-item input {\n",
       "  display: none;\n",
       "}\n",
       "\n",
       ".xr-section-item input + label {\n",
       "  color: var(--xr-disabled-color);\n",
       "}\n",
       "\n",
       ".xr-section-item input:enabled + label {\n",
       "  cursor: pointer;\n",
       "  color: var(--xr-font-color2);\n",
       "}\n",
       "\n",
       ".xr-section-item input:enabled + label:hover {\n",
       "  color: var(--xr-font-color0);\n",
       "}\n",
       "\n",
       ".xr-section-summary {\n",
       "  grid-column: 1;\n",
       "  color: var(--xr-font-color2);\n",
       "  font-weight: 500;\n",
       "}\n",
       "\n",
       ".xr-section-summary > span {\n",
       "  display: inline-block;\n",
       "  padding-left: 0.5em;\n",
       "}\n",
       "\n",
       ".xr-section-summary-in:disabled + label {\n",
       "  color: var(--xr-font-color2);\n",
       "}\n",
       "\n",
       ".xr-section-summary-in + label:before {\n",
       "  display: inline-block;\n",
       "  content: '►';\n",
       "  font-size: 11px;\n",
       "  width: 15px;\n",
       "  text-align: center;\n",
       "}\n",
       "\n",
       ".xr-section-summary-in:disabled + label:before {\n",
       "  color: var(--xr-disabled-color);\n",
       "}\n",
       "\n",
       ".xr-section-summary-in:checked + label:before {\n",
       "  content: '▼';\n",
       "}\n",
       "\n",
       ".xr-section-summary-in:checked + label > span {\n",
       "  display: none;\n",
       "}\n",
       "\n",
       ".xr-section-summary,\n",
       ".xr-section-inline-details {\n",
       "  padding-top: 4px;\n",
       "  padding-bottom: 4px;\n",
       "}\n",
       "\n",
       ".xr-section-inline-details {\n",
       "  grid-column: 2 / -1;\n",
       "}\n",
       "\n",
       ".xr-section-details {\n",
       "  display: none;\n",
       "  grid-column: 1 / -1;\n",
       "  margin-bottom: 5px;\n",
       "}\n",
       "\n",
       ".xr-section-summary-in:checked ~ .xr-section-details {\n",
       "  display: contents;\n",
       "}\n",
       "\n",
       ".xr-array-wrap {\n",
       "  grid-column: 1 / -1;\n",
       "  display: grid;\n",
       "  grid-template-columns: 20px auto;\n",
       "}\n",
       "\n",
       ".xr-array-wrap > label {\n",
       "  grid-column: 1;\n",
       "  vertical-align: top;\n",
       "}\n",
       "\n",
       ".xr-preview {\n",
       "  color: var(--xr-font-color3);\n",
       "}\n",
       "\n",
       ".xr-array-preview,\n",
       ".xr-array-data {\n",
       "  padding: 0 5px !important;\n",
       "  grid-column: 2;\n",
       "}\n",
       "\n",
       ".xr-array-data,\n",
       ".xr-array-in:checked ~ .xr-array-preview {\n",
       "  display: none;\n",
       "}\n",
       "\n",
       ".xr-array-in:checked ~ .xr-array-data,\n",
       ".xr-array-preview {\n",
       "  display: inline-block;\n",
       "}\n",
       "\n",
       ".xr-dim-list {\n",
       "  display: inline-block !important;\n",
       "  list-style: none;\n",
       "  padding: 0 !important;\n",
       "  margin: 0;\n",
       "}\n",
       "\n",
       ".xr-dim-list li {\n",
       "  display: inline-block;\n",
       "  padding: 0;\n",
       "  margin: 0;\n",
       "}\n",
       "\n",
       ".xr-dim-list:before {\n",
       "  content: '(';\n",
       "}\n",
       "\n",
       ".xr-dim-list:after {\n",
       "  content: ')';\n",
       "}\n",
       "\n",
       ".xr-dim-list li:not(:last-child):after {\n",
       "  content: ',';\n",
       "  padding-right: 5px;\n",
       "}\n",
       "\n",
       ".xr-has-index {\n",
       "  font-weight: bold;\n",
       "}\n",
       "\n",
       ".xr-var-list,\n",
       ".xr-var-item {\n",
       "  display: contents;\n",
       "}\n",
       "\n",
       ".xr-var-item > div,\n",
       ".xr-var-item label,\n",
       ".xr-var-item > .xr-var-name span {\n",
       "  background-color: var(--xr-background-color-row-even);\n",
       "  margin-bottom: 0;\n",
       "}\n",
       "\n",
       ".xr-var-item > .xr-var-name:hover span {\n",
       "  padding-right: 5px;\n",
       "}\n",
       "\n",
       ".xr-var-list > li:nth-child(odd) > div,\n",
       ".xr-var-list > li:nth-child(odd) > label,\n",
       ".xr-var-list > li:nth-child(odd) > .xr-var-name span {\n",
       "  background-color: var(--xr-background-color-row-odd);\n",
       "}\n",
       "\n",
       ".xr-var-name {\n",
       "  grid-column: 1;\n",
       "}\n",
       "\n",
       ".xr-var-dims {\n",
       "  grid-column: 2;\n",
       "}\n",
       "\n",
       ".xr-var-dtype {\n",
       "  grid-column: 3;\n",
       "  text-align: right;\n",
       "  color: var(--xr-font-color2);\n",
       "}\n",
       "\n",
       ".xr-var-preview {\n",
       "  grid-column: 4;\n",
       "}\n",
       "\n",
       ".xr-index-preview {\n",
       "  grid-column: 2 / 5;\n",
       "  color: var(--xr-font-color2);\n",
       "}\n",
       "\n",
       ".xr-var-name,\n",
       ".xr-var-dims,\n",
       ".xr-var-dtype,\n",
       ".xr-preview,\n",
       ".xr-attrs dt {\n",
       "  white-space: nowrap;\n",
       "  overflow: hidden;\n",
       "  text-overflow: ellipsis;\n",
       "  padding-right: 10px;\n",
       "}\n",
       "\n",
       ".xr-var-name:hover,\n",
       ".xr-var-dims:hover,\n",
       ".xr-var-dtype:hover,\n",
       ".xr-attrs dt:hover {\n",
       "  overflow: visible;\n",
       "  width: auto;\n",
       "  z-index: 1;\n",
       "}\n",
       "\n",
       ".xr-var-attrs,\n",
       ".xr-var-data,\n",
       ".xr-index-data {\n",
       "  display: none;\n",
       "  background-color: var(--xr-background-color) !important;\n",
       "  padding-bottom: 5px !important;\n",
       "}\n",
       "\n",
       ".xr-var-attrs-in:checked ~ .xr-var-attrs,\n",
       ".xr-var-data-in:checked ~ .xr-var-data,\n",
       ".xr-index-data-in:checked ~ .xr-index-data {\n",
       "  display: block;\n",
       "}\n",
       "\n",
       ".xr-var-data > table {\n",
       "  float: right;\n",
       "}\n",
       "\n",
       ".xr-var-name span,\n",
       ".xr-var-data,\n",
       ".xr-index-name div,\n",
       ".xr-index-data,\n",
       ".xr-attrs {\n",
       "  padding-left: 25px !important;\n",
       "}\n",
       "\n",
       ".xr-attrs,\n",
       ".xr-var-attrs,\n",
       ".xr-var-data,\n",
       ".xr-index-data {\n",
       "  grid-column: 1 / -1;\n",
       "}\n",
       "\n",
       "dl.xr-attrs {\n",
       "  padding: 0;\n",
       "  margin: 0;\n",
       "  display: grid;\n",
       "  grid-template-columns: 125px auto;\n",
       "}\n",
       "\n",
       ".xr-attrs dt,\n",
       ".xr-attrs dd {\n",
       "  padding: 0;\n",
       "  margin: 0;\n",
       "  float: left;\n",
       "  padding-right: 10px;\n",
       "  width: auto;\n",
       "}\n",
       "\n",
       ".xr-attrs dt {\n",
       "  font-weight: normal;\n",
       "  grid-column: 1;\n",
       "}\n",
       "\n",
       ".xr-attrs dt:hover span {\n",
       "  display: inline-block;\n",
       "  background: var(--xr-background-color);\n",
       "  padding-right: 10px;\n",
       "}\n",
       "\n",
       ".xr-attrs dd {\n",
       "  grid-column: 2;\n",
       "  white-space: pre-wrap;\n",
       "  word-break: break-all;\n",
       "}\n",
       "\n",
       ".xr-icon-database,\n",
       ".xr-icon-file-text2,\n",
       ".xr-no-icon {\n",
       "  display: inline-block;\n",
       "  vertical-align: middle;\n",
       "  width: 1em;\n",
       "  height: 1.5em !important;\n",
       "  stroke-width: 0;\n",
       "  stroke: currentColor;\n",
       "  fill: currentColor;\n",
       "}\n",
       "</style><pre class='xr-text-repr-fallback'>&lt;xarray.Dataset&gt;\n",
       "Dimensions:    (_sequence: 120326, _length: 41, _ohe: 4, _target: 244)\n",
       "Dimensions without coordinates: _sequence, _length, _ohe, _target\n",
       "Data variables:\n",
       "    inputs     (_sequence, _length, _ohe) float32 0.0 0.0 0.0 ... 0.0 0.0 0.0\n",
       "    rbp_id     (_target) &lt;U11 &#x27;RNCMPT00100&#x27; &#x27;RNCMPT00101&#x27; ... &#x27;RNCMPT00009&#x27;\n",
       "    rbp_index  (_target) int64 0 1 2 3 4 5 6 7 ... 237 238 239 240 241 242 243\n",
       "    targets    (_sequence, _target) float32 -0.6122 -0.6356 ... -0.1652 0.984\n",
       "    train_val  (_sequence) bool True True True True ... False False False False\n",
       "    ohe_seq    (_sequence, _length, _ohe) float32 0.0 0.0 0.0 ... 0.0 0.0 0.0</pre><div class='xr-wrap' style='display:none'><div class='xr-header'><div class='xr-obj-type'>xarray.Dataset</div></div><ul class='xr-sections'><li class='xr-section-item'><input id='section-b8f177d3-6315-4c62-a2ce-d0cdaac4e141' class='xr-section-summary-in' type='checkbox' disabled ><label for='section-b8f177d3-6315-4c62-a2ce-d0cdaac4e141' class='xr-section-summary'  title='Expand/collapse section'>Dimensions:</label><div class='xr-section-inline-details'><ul class='xr-dim-list'><li><span>_sequence</span>: 120326</li><li><span>_length</span>: 41</li><li><span>_ohe</span>: 4</li><li><span>_target</span>: 244</li></ul></div><div class='xr-section-details'></div></li><li class='xr-section-item'><input id='section-a43d7e57-a682-4752-9477-12a032c4fb31' class='xr-section-summary-in' type='checkbox' disabled ><label for='section-a43d7e57-a682-4752-9477-12a032c4fb31' class='xr-section-summary'  title='Expand/collapse section'>Coordinates: <span>(0)</span></label><div class='xr-section-inline-details'></div><div class='xr-section-details'><ul class='xr-var-list'></ul></div></li><li class='xr-section-item'><input id='section-37e86449-5203-4505-a45f-993392754c76' class='xr-section-summary-in' type='checkbox'  checked><label for='section-37e86449-5203-4505-a45f-993392754c76' class='xr-section-summary' >Data variables: <span>(6)</span></label><div class='xr-section-inline-details'></div><div class='xr-section-details'><ul class='xr-var-list'><li class='xr-var-item'><div class='xr-var-name'><span>inputs</span></div><div class='xr-var-dims'>(_sequence, _length, _ohe)</div><div class='xr-var-dtype'>float32</div><div class='xr-var-preview xr-preview'>0.0 0.0 0.0 0.0 ... 0.0 0.0 0.0 0.0</div><input id='attrs-c9dae200-3b26-4152-88a6-e64f4ed76205' class='xr-var-attrs-in' type='checkbox' ><label for='attrs-c9dae200-3b26-4152-88a6-e64f4ed76205' title='Show/Hide attributes'><svg class='icon xr-icon-file-text2'><use xlink:href='#icon-file-text2'></use></svg></label><input id='data-7f3f1822-2b25-45f4-b57c-f7de59051234' class='xr-var-data-in' type='checkbox'><label for='data-7f3f1822-2b25-45f4-b57c-f7de59051234' title='Show/Hide data repr'><svg class='icon xr-icon-database'><use xlink:href='#icon-database'></use></svg></label><div class='xr-var-attrs'><dl class='xr-attrs'><dt><span>_FillValue :</span></dt><dd>nan</dd></dl></div><div class='xr-var-data'><pre>array([[[0., 0., 0., 0.],\n",
       "        [0., 0., 0., 0.],\n",
       "        [0., 0., 0., 0.],\n",
       "        ...,\n",
       "        [0., 0., 0., 0.],\n",
       "        [0., 0., 0., 0.],\n",
       "        [0., 0., 0., 0.]],\n",
       "\n",
       "       [[0., 0., 0., 0.],\n",
       "        [1., 0., 0., 0.],\n",
       "        [0., 0., 1., 0.],\n",
       "        ...,\n",
       "        [0., 1., 0., 0.],\n",
       "        [0., 0., 0., 0.],\n",
       "        [0., 0., 0., 0.]],\n",
       "\n",
       "       [[0., 0., 0., 0.],\n",
       "        [1., 0., 0., 0.],\n",
       "        [0., 0., 1., 0.],\n",
       "        ...,\n",
       "...\n",
       "        ...,\n",
       "        [0., 0., 0., 0.],\n",
       "        [0., 0., 0., 0.],\n",
       "        [0., 0., 0., 0.]],\n",
       "\n",
       "       [[0., 0., 0., 0.],\n",
       "        [1., 0., 0., 0.],\n",
       "        [0., 0., 1., 0.],\n",
       "        ...,\n",
       "        [0., 1., 0., 0.],\n",
       "        [0., 0., 0., 0.],\n",
       "        [0., 0., 0., 0.]],\n",
       "\n",
       "       [[0., 0., 0., 0.],\n",
       "        [0., 0., 0., 0.],\n",
       "        [0., 0., 0., 0.],\n",
       "        ...,\n",
       "        [0., 0., 0., 0.],\n",
       "        [0., 0., 0., 0.],\n",
       "        [0., 0., 0., 0.]]], dtype=float32)</pre></div></li><li class='xr-var-item'><div class='xr-var-name'><span>rbp_id</span></div><div class='xr-var-dims'>(_target)</div><div class='xr-var-dtype'>&lt;U11</div><div class='xr-var-preview xr-preview'>&#x27;RNCMPT00100&#x27; ... &#x27;RNCMPT00009&#x27;</div><input id='attrs-5d633fd5-5a97-4e69-9c57-750c8c8dc7ba' class='xr-var-attrs-in' type='checkbox' disabled><label for='attrs-5d633fd5-5a97-4e69-9c57-750c8c8dc7ba' title='Show/Hide attributes'><svg class='icon xr-icon-file-text2'><use xlink:href='#icon-file-text2'></use></svg></label><input id='data-451426e8-824a-4278-a8c9-eefa1f561a86' class='xr-var-data-in' type='checkbox'><label for='data-451426e8-824a-4278-a8c9-eefa1f561a86' title='Show/Hide data repr'><svg class='icon xr-icon-database'><use xlink:href='#icon-database'></use></svg></label><div class='xr-var-attrs'><dl class='xr-attrs'></dl></div><div class='xr-var-data'><pre>array([&#x27;RNCMPT00100&#x27;, &#x27;RNCMPT00101&#x27;, &#x27;RNCMPT00102&#x27;, &#x27;RNCMPT00103&#x27;,\n",
       "       &#x27;RNCMPT00104&#x27;, &#x27;RNCMPT00105&#x27;, &#x27;RNCMPT00106&#x27;, &#x27;RNCMPT00107&#x27;,\n",
       "       &#x27;RNCMPT00108&#x27;, &#x27;RNCMPT00109&#x27;, &#x27;RNCMPT00010&#x27;, &#x27;RNCMPT00110&#x27;,\n",
       "       &#x27;RNCMPT00111&#x27;, &#x27;RNCMPT00112&#x27;, &#x27;RNCMPT00113&#x27;, &#x27;RNCMPT00114&#x27;,\n",
       "       &#x27;RNCMPT00116&#x27;, &#x27;RNCMPT00117&#x27;, &#x27;RNCMPT00118&#x27;, &#x27;RNCMPT00119&#x27;,\n",
       "       &#x27;RNCMPT00011&#x27;, &#x27;RNCMPT00120&#x27;, &#x27;RNCMPT00121&#x27;, &#x27;RNCMPT00122&#x27;,\n",
       "       &#x27;RNCMPT00123&#x27;, &#x27;RNCMPT00124&#x27;, &#x27;RNCMPT00126&#x27;, &#x27;RNCMPT00127&#x27;,\n",
       "       &#x27;RNCMPT00129&#x27;, &#x27;RNCMPT00012&#x27;, &#x27;RNCMPT00131&#x27;, &#x27;RNCMPT00132&#x27;,\n",
       "       &#x27;RNCMPT00133&#x27;, &#x27;RNCMPT00134&#x27;, &#x27;RNCMPT00136&#x27;, &#x27;RNCMPT00137&#x27;,\n",
       "       &#x27;RNCMPT00138&#x27;, &#x27;RNCMPT00139&#x27;, &#x27;RNCMPT00013&#x27;, &#x27;RNCMPT00140&#x27;,\n",
       "       &#x27;RNCMPT00141&#x27;, &#x27;RNCMPT00142&#x27;, &#x27;RNCMPT00143&#x27;, &#x27;RNCMPT00144&#x27;,\n",
       "       &#x27;RNCMPT00145&#x27;, &#x27;RNCMPT00146&#x27;, &#x27;RNCMPT00147&#x27;, &#x27;RNCMPT00148&#x27;,\n",
       "       &#x27;RNCMPT00149&#x27;, &#x27;RNCMPT00014&#x27;, &#x27;RNCMPT00150&#x27;, &#x27;RNCMPT00151&#x27;,\n",
       "       &#x27;RNCMPT00152&#x27;, &#x27;RNCMPT00153&#x27;, &#x27;RNCMPT00154&#x27;, &#x27;RNCMPT00155&#x27;,\n",
       "       &#x27;RNCMPT00156&#x27;, &#x27;RNCMPT00157&#x27;, &#x27;RNCMPT00158&#x27;, &#x27;RNCMPT00159&#x27;,\n",
       "       &#x27;RNCMPT00015&#x27;, &#x27;RNCMPT00160&#x27;, &#x27;RNCMPT00161&#x27;, &#x27;RNCMPT00162&#x27;,\n",
       "       &#x27;RNCMPT00163&#x27;, &#x27;RNCMPT00164&#x27;, &#x27;RNCMPT00165&#x27;, &#x27;RNCMPT00166&#x27;,\n",
       "       &#x27;RNCMPT00167&#x27;, &#x27;RNCMPT00168&#x27;, &#x27;RNCMPT00169&#x27;, &#x27;RNCMPT00016&#x27;,\n",
       "       &#x27;RNCMPT00170&#x27;, &#x27;RNCMPT00171&#x27;, &#x27;RNCMPT00172&#x27;, &#x27;RNCMPT00173&#x27;,\n",
       "       &#x27;RNCMPT00174&#x27;, &#x27;RNCMPT00175&#x27;, &#x27;RNCMPT00176&#x27;, &#x27;RNCMPT00177&#x27;,\n",
       "...\n",
       "       &#x27;RNCMPT00291&#x27;, &#x27;RNCMPT00029&#x27;, &#x27;RNCMPT00002&#x27;, &#x27;RNCMPT00031&#x27;,\n",
       "       &#x27;RNCMPT00032&#x27;, &#x27;RNCMPT00033&#x27;, &#x27;RNCMPT00034&#x27;, &#x27;RNCMPT00035&#x27;,\n",
       "       &#x27;RNCMPT00036&#x27;, &#x27;RNCMPT00037&#x27;, &#x27;RNCMPT00038&#x27;, &#x27;RNCMPT00039&#x27;,\n",
       "       &#x27;RNCMPT00003&#x27;, &#x27;RNCMPT00040&#x27;, &#x27;RNCMPT00041&#x27;, &#x27;RNCMPT00042&#x27;,\n",
       "       &#x27;RNCMPT00043&#x27;, &#x27;RNCMPT00044&#x27;, &#x27;RNCMPT00045&#x27;, &#x27;RNCMPT00046&#x27;,\n",
       "       &#x27;RNCMPT00047&#x27;, &#x27;RNCMPT00049&#x27;, &#x27;RNCMPT00004&#x27;, &#x27;RNCMPT00050&#x27;,\n",
       "       &#x27;RNCMPT00051&#x27;, &#x27;RNCMPT00052&#x27;, &#x27;RNCMPT00053&#x27;, &#x27;RNCMPT00054&#x27;,\n",
       "       &#x27;RNCMPT00055&#x27;, &#x27;RNCMPT00056&#x27;, &#x27;RNCMPT00057&#x27;, &#x27;RNCMPT00058&#x27;,\n",
       "       &#x27;RNCMPT00059&#x27;, &#x27;RNCMPT00005&#x27;, &#x27;RNCMPT00060&#x27;, &#x27;RNCMPT00061&#x27;,\n",
       "       &#x27;RNCMPT00062&#x27;, &#x27;RNCMPT00063&#x27;, &#x27;RNCMPT00064&#x27;, &#x27;RNCMPT00065&#x27;,\n",
       "       &#x27;RNCMPT00066&#x27;, &#x27;RNCMPT00067&#x27;, &#x27;RNCMPT00068&#x27;, &#x27;RNCMPT00069&#x27;,\n",
       "       &#x27;RNCMPT00006&#x27;, &#x27;RNCMPT00070&#x27;, &#x27;RNCMPT00071&#x27;, &#x27;RNCMPT00072&#x27;,\n",
       "       &#x27;RNCMPT00073&#x27;, &#x27;RNCMPT00074&#x27;, &#x27;RNCMPT00075&#x27;, &#x27;RNCMPT00076&#x27;,\n",
       "       &#x27;RNCMPT00077&#x27;, &#x27;RNCMPT00078&#x27;, &#x27;RNCMPT00079&#x27;, &#x27;RNCMPT00007&#x27;,\n",
       "       &#x27;RNCMPT00080&#x27;, &#x27;RNCMPT00081&#x27;, &#x27;RNCMPT00082&#x27;, &#x27;RNCMPT00083&#x27;,\n",
       "       &#x27;RNCMPT00084&#x27;, &#x27;RNCMPT00085&#x27;, &#x27;RNCMPT00086&#x27;, &#x27;RNCMPT00087&#x27;,\n",
       "       &#x27;RNCMPT00088&#x27;, &#x27;RNCMPT00089&#x27;, &#x27;RNCMPT00008&#x27;, &#x27;RNCMPT00090&#x27;,\n",
       "       &#x27;RNCMPT00091&#x27;, &#x27;RNCMPT00093&#x27;, &#x27;RNCMPT00094&#x27;, &#x27;RNCMPT00095&#x27;,\n",
       "       &#x27;RNCMPT00096&#x27;, &#x27;RNCMPT00097&#x27;, &#x27;RNCMPT00099&#x27;, &#x27;RNCMPT00009&#x27;],\n",
       "      dtype=&#x27;&lt;U11&#x27;)</pre></div></li><li class='xr-var-item'><div class='xr-var-name'><span>rbp_index</span></div><div class='xr-var-dims'>(_target)</div><div class='xr-var-dtype'>int64</div><div class='xr-var-preview xr-preview'>0 1 2 3 4 5 ... 239 240 241 242 243</div><input id='attrs-1cb57d20-633e-43a6-a0b3-61cc8da8e10d' class='xr-var-attrs-in' type='checkbox' disabled><label for='attrs-1cb57d20-633e-43a6-a0b3-61cc8da8e10d' title='Show/Hide attributes'><svg class='icon xr-icon-file-text2'><use xlink:href='#icon-file-text2'></use></svg></label><input id='data-115a9c0a-5ad5-4b7d-b62e-1a8d9033b02c' class='xr-var-data-in' type='checkbox'><label for='data-115a9c0a-5ad5-4b7d-b62e-1a8d9033b02c' title='Show/Hide data repr'><svg class='icon xr-icon-database'><use xlink:href='#icon-database'></use></svg></label><div class='xr-var-attrs'><dl class='xr-attrs'></dl></div><div class='xr-var-data'><pre>array([  0,   1,   2,   3,   4,   5,   6,   7,   8,   9,  10,  11,  12,\n",
       "        13,  14,  15,  16,  17,  18,  19,  20,  21,  22,  23,  24,  25,\n",
       "        26,  27,  28,  29,  30,  31,  32,  33,  34,  35,  36,  37,  38,\n",
       "        39,  40,  41,  42,  43,  44,  45,  46,  47,  48,  49,  50,  51,\n",
       "        52,  53,  54,  55,  56,  57,  58,  59,  60,  61,  62,  63,  64,\n",
       "        65,  66,  67,  68,  69,  70,  71,  72,  73,  74,  75,  76,  77,\n",
       "        78,  79,  80,  81,  82,  83,  84,  85,  86,  87,  88,  89,  90,\n",
       "        91,  92,  93,  94,  95,  96,  97,  98,  99, 100, 101, 102, 103,\n",
       "       104, 105, 106, 107, 108, 109, 110, 111, 112, 113, 114, 115, 116,\n",
       "       117, 118, 119, 120, 121, 122, 123, 124, 125, 126, 127, 128, 129,\n",
       "       130, 131, 132, 133, 134, 135, 136, 137, 138, 139, 140, 141, 142,\n",
       "       143, 144, 145, 146, 147, 148, 149, 150, 151, 152, 153, 154, 155,\n",
       "       156, 157, 158, 159, 160, 161, 162, 163, 164, 165, 166, 167, 168,\n",
       "       169, 170, 171, 172, 173, 174, 175, 176, 177, 178, 179, 180, 181,\n",
       "       182, 183, 184, 185, 186, 187, 188, 189, 190, 191, 192, 193, 194,\n",
       "       195, 196, 197, 198, 199, 200, 201, 202, 203, 204, 205, 206, 207,\n",
       "       208, 209, 210, 211, 212, 213, 214, 215, 216, 217, 218, 219, 220,\n",
       "       221, 222, 223, 224, 225, 226, 227, 228, 229, 230, 231, 232, 233,\n",
       "       234, 235, 236, 237, 238, 239, 240, 241, 242, 243])</pre></div></li><li class='xr-var-item'><div class='xr-var-name'><span>targets</span></div><div class='xr-var-dims'>(_sequence, _target)</div><div class='xr-var-dtype'>float32</div><div class='xr-var-preview xr-preview'>-0.6122 -0.6356 ... -0.1652 0.984</div><input id='attrs-21bf78bd-459e-4d17-ad4c-210d38d21279' class='xr-var-attrs-in' type='checkbox' ><label for='attrs-21bf78bd-459e-4d17-ad4c-210d38d21279' title='Show/Hide attributes'><svg class='icon xr-icon-file-text2'><use xlink:href='#icon-file-text2'></use></svg></label><input id='data-d7522c25-b105-45c9-adfa-e74a7850937b' class='xr-var-data-in' type='checkbox'><label for='data-d7522c25-b105-45c9-adfa-e74a7850937b' title='Show/Hide data repr'><svg class='icon xr-icon-database'><use xlink:href='#icon-database'></use></svg></label><div class='xr-var-attrs'><dl class='xr-attrs'><dt><span>_FillValue :</span></dt><dd>nan</dd></dl></div><div class='xr-var-data'><pre>array([[-0.61221534, -0.6355675 , -0.23606852, ..., -0.6049121 ,\n",
       "        -0.8283677 , -0.42819273],\n",
       "       [ 0.08332676,  0.60190725, -0.27926493, ...,  0.05744085,\n",
       "         0.11465281,  1.0487572 ],\n",
       "       [-0.28119454, -0.29370898, -0.71043056, ..., -0.6205246 ,\n",
       "        -0.07215903,         nan],\n",
       "       ...,\n",
       "       [-0.2881474 , -0.26801577, -0.6122897 , ...,  0.012325  ,\n",
       "        -0.18257082, -1.7970519 ],\n",
       "       [ 0.0812846 , -0.1650434 , -0.09293754, ...,  0.26153123,\n",
       "         0.07609618, -0.12637027],\n",
       "       [ 0.4408978 ,  0.06763149, -1.3743216 , ...,  1.0590919 ,\n",
       "        -0.16522542,  0.9840319 ]], dtype=float32)</pre></div></li><li class='xr-var-item'><div class='xr-var-name'><span>train_val</span></div><div class='xr-var-dims'>(_sequence)</div><div class='xr-var-dtype'>bool</div><div class='xr-var-preview xr-preview'>True True True ... False False</div><input id='attrs-8cc14667-7546-47f5-87f7-ec8f414b103d' class='xr-var-attrs-in' type='checkbox' disabled><label for='attrs-8cc14667-7546-47f5-87f7-ec8f414b103d' title='Show/Hide attributes'><svg class='icon xr-icon-file-text2'><use xlink:href='#icon-file-text2'></use></svg></label><input id='data-3174e662-5ee9-4091-a31a-6b9b99c84ced' class='xr-var-data-in' type='checkbox'><label for='data-3174e662-5ee9-4091-a31a-6b9b99c84ced' title='Show/Hide data repr'><svg class='icon xr-icon-database'><use xlink:href='#icon-database'></use></svg></label><div class='xr-var-attrs'><dl class='xr-attrs'></dl></div><div class='xr-var-data'><pre>array([ True,  True,  True, ..., False, False, False])</pre></div></li><li class='xr-var-item'><div class='xr-var-name'><span>ohe_seq</span></div><div class='xr-var-dims'>(_sequence, _length, _ohe)</div><div class='xr-var-dtype'>float32</div><div class='xr-var-preview xr-preview'>0.0 0.0 0.0 0.0 ... 0.0 0.0 0.0 0.0</div><input id='attrs-e1a6b60c-e68d-4ecf-9828-10176c67f03b' class='xr-var-attrs-in' type='checkbox' ><label for='attrs-e1a6b60c-e68d-4ecf-9828-10176c67f03b' title='Show/Hide attributes'><svg class='icon xr-icon-file-text2'><use xlink:href='#icon-file-text2'></use></svg></label><input id='data-420ecc4f-02c4-4c5a-ab16-acee442fd698' class='xr-var-data-in' type='checkbox'><label for='data-420ecc4f-02c4-4c5a-ab16-acee442fd698' title='Show/Hide data repr'><svg class='icon xr-icon-database'><use xlink:href='#icon-database'></use></svg></label><div class='xr-var-attrs'><dl class='xr-attrs'><dt><span>_FillValue :</span></dt><dd>nan</dd></dl></div><div class='xr-var-data'><pre>array([[[0., 0., 0., 0.],\n",
       "        [0., 0., 0., 0.],\n",
       "        [0., 0., 0., 0.],\n",
       "        ...,\n",
       "        [0., 0., 0., 0.],\n",
       "        [0., 0., 0., 0.],\n",
       "        [0., 0., 0., 0.]],\n",
       "\n",
       "       [[0., 0., 0., 0.],\n",
       "        [1., 0., 0., 0.],\n",
       "        [0., 0., 1., 0.],\n",
       "        ...,\n",
       "        [0., 1., 0., 0.],\n",
       "        [0., 0., 0., 0.],\n",
       "        [0., 0., 0., 0.]],\n",
       "\n",
       "       [[0., 0., 0., 0.],\n",
       "        [1., 0., 0., 0.],\n",
       "        [0., 0., 1., 0.],\n",
       "        ...,\n",
       "...\n",
       "        ...,\n",
       "        [0., 0., 0., 0.],\n",
       "        [0., 0., 0., 0.],\n",
       "        [0., 0., 0., 0.]],\n",
       "\n",
       "       [[0., 0., 0., 0.],\n",
       "        [1., 0., 0., 0.],\n",
       "        [0., 0., 1., 0.],\n",
       "        ...,\n",
       "        [0., 1., 0., 0.],\n",
       "        [0., 0., 0., 0.],\n",
       "        [0., 0., 0., 0.]],\n",
       "\n",
       "       [[0., 0., 0., 0.],\n",
       "        [0., 0., 0., 0.],\n",
       "        [0., 0., 0., 0.],\n",
       "        ...,\n",
       "        [0., 0., 0., 0.],\n",
       "        [0., 0., 0., 0.],\n",
       "        [0., 0., 0., 0.]]], dtype=float32)</pre></div></li></ul></div></li><li class='xr-section-item'><input id='section-7e201f2e-9cbd-4c4f-b93c-54325d3aa7ec' class='xr-section-summary-in' type='checkbox' disabled ><label for='section-7e201f2e-9cbd-4c4f-b93c-54325d3aa7ec' class='xr-section-summary'  title='Expand/collapse section'>Indexes: <span>(0)</span></label><div class='xr-section-inline-details'></div><div class='xr-section-details'><ul class='xr-var-list'></ul></div></li><li class='xr-section-item'><input id='section-13a80e5c-65d1-44c5-b9a0-a186ff22d54e' class='xr-section-summary-in' type='checkbox' disabled ><label for='section-13a80e5c-65d1-44c5-b9a0-a186ff22d54e' class='xr-section-summary'  title='Expand/collapse section'>Attributes: <span>(0)</span></label><div class='xr-section-inline-details'></div><div class='xr-section-details'><dl class='xr-attrs'></dl></div></li></ul></div></div>"
      ],
      "text/plain": [
       "<xarray.Dataset>\n",
       "Dimensions:    (_sequence: 120326, _length: 41, _ohe: 4, _target: 244)\n",
       "Dimensions without coordinates: _sequence, _length, _ohe, _target\n",
       "Data variables:\n",
       "    inputs     (_sequence, _length, _ohe) float32 0.0 0.0 0.0 ... 0.0 0.0 0.0\n",
       "    rbp_id     (_target) <U11 'RNCMPT00100' 'RNCMPT00101' ... 'RNCMPT00009'\n",
       "    rbp_index  (_target) int64 0 1 2 3 4 5 6 7 ... 237 238 239 240 241 242 243\n",
       "    targets    (_sequence, _target) float32 -0.6122 -0.6356 ... -0.1652 0.984\n",
       "    train_val  (_sequence) bool True True True True ... False False False False\n",
       "    ohe_seq    (_sequence, _length, _ohe) float32 0.0 0.0 0.0 ... 0.0 0.0 0.0"
      ]
     },
     "execution_count": 19,
     "metadata": {},
     "output_type": "execute_result"
    }
   ],
   "source": [
    "# Load the dataset\n",
    "sdata_train = sd.open_zarr(\"/cellar/users/aklie/data/ml4gland/pubs/koo21_gia/log_norm/rnacompete2013_train.zarr\")\n",
    "sdata_train[\"train_val\"] = xr.DataArray([True] * sdata_train.dims[\"_sequence\"], dims=[\"_sequence\"])\n",
    "sdata_valid = sd.open_zarr(\"/cellar/users/aklie/data/ml4gland/pubs/koo21_gia/log_norm/rnacompete2013_valid.zarr\")\n",
    "sdata_valid[\"train_val\"] = xr.DataArray([False] * sdata_valid.dims[\"_sequence\"], dims=[\"_sequence\"])\n",
    "sdata = xr.concat([sdata_train, sdata_valid], dim=\"_sequence\", data_vars=\"minimal\")\n",
    "sdata[\"ohe_seq\"] = sdata[\"inputs\"]\n",
    "sdata.load()"
   ]
  },
  {
   "attachments": {},
   "cell_type": "markdown",
   "metadata": {},
   "source": [
    "# Load model"
   ]
  },
  {
   "cell_type": "code",
   "execution_count": 20,
   "metadata": {},
   "outputs": [],
   "source": [
    "# Instantiate an architecture\n",
    "arch = zoo.DeepBind(\n",
    "    input_len=41,\n",
    "    output_dim=1,\n",
    "    mode=\"rbp\"\n",
    ")"
   ]
  },
  {
   "cell_type": "code",
   "execution_count": 21,
   "metadata": {},
   "outputs": [],
   "source": [
    "# Initialize the weights\n",
    "models.init_weights(arch)"
   ]
  },
  {
   "cell_type": "code",
   "execution_count": 22,
   "metadata": {},
   "outputs": [
    {
     "name": "stderr",
     "output_type": "stream",
     "text": [
      "[rank: 0] Global seed set to 1234\n"
     ]
    }
   ],
   "source": [
    "# Instantiate a sequence module\n",
    "module = models.SequenceModule(\n",
    "    arch=arch,\n",
    "    task=\"regression\",\n",
    "    loss_fxn=\"mse\",\n",
    "    optimizer_lr=0.001,\n",
    "    scheduler=\"reduce_lr_on_plateau\",\n",
    "    scheduler_monitor=\"val_pearson_epoch\",\n",
    "    metric=\"pearson\",\n",
    "    seed=1234,\n",
    ")"
   ]
  },
  {
   "cell_type": "code",
   "execution_count": 23,
   "metadata": {},
   "outputs": [
    {
     "name": "stdout",
     "output_type": "stream",
     "text": [
      "RNCMPT00100\n"
     ]
    }
   ],
   "source": [
    "for index in range(sdata.dims[\"_target\"]):\n",
    "    sdata[\"target\"] = sdata[\"targets\"][:, index]\n",
    "    rbp_id = sdata[\"rbp_id\"].values[index]\n",
    "    print(rbp_id)\n",
    "    break"
   ]
  },
  {
   "cell_type": "code",
   "execution_count": 24,
   "metadata": {},
   "outputs": [],
   "source": [
    "# Grab the training data for this RBP\n",
    "sdata = sdata.sel(_sequence=sdata[\"target\"].notnull())"
   ]
  },
  {
   "cell_type": "code",
   "execution_count": 25,
   "metadata": {},
   "outputs": [
    {
     "name": "stderr",
     "output_type": "stream",
     "text": [
      "[rank: 0] Global seed set to 1234\n"
     ]
    },
    {
     "name": "stdout",
     "output_type": "stream",
     "text": [
      "Dropping 0 sequences with NaN targets.\n",
      "Loading ohe_seq and ['target'] into memory\n"
     ]
    },
    {
     "name": "stderr",
     "output_type": "stream",
     "text": [
      "/cellar/users/aklie/opt/miniconda3/envs/ml4gland/lib/python3.9/site-packages/lightning_fabric/plugins/environments/slurm.py:165: PossibleUserWarning: The `srun` command is available on your system but is not used. HINT: If your intention is to run Lightning on SLURM, prepend your python command with `srun` like so: srun python /cellar/users/aklie/opt/miniconda3/envs/ml4gland/lib ...\n",
      "  rank_zero_warn(\n",
      "GPU available: True (cuda), used: True\n",
      "TPU available: False, using: 0 TPU cores\n",
      "IPU available: False, using: 0 IPUs\n",
      "HPU available: False, using: 0 HPUs\n",
      "LOCAL_RANK: 0 - CUDA_VISIBLE_DEVICES: [0]\n",
      "\n",
      "  | Name         | Type            | Params\n",
      "-------------------------------------------------\n",
      "0 | arch         | DeepBind        | 2.1 K \n",
      "1 | train_metric | PearsonCorrCoef | 0     \n",
      "2 | val_metric   | PearsonCorrCoef | 0     \n",
      "3 | test_metric  | PearsonCorrCoef | 0     \n",
      "-------------------------------------------------\n",
      "2.1 K     Trainable params\n",
      "0         Non-trainable params\n",
      "2.1 K     Total params\n",
      "0.009     Total estimated model params size (MB)\n"
     ]
    },
    {
     "data": {
      "application/vnd.jupyter.widget-view+json": {
       "model_id": "ae0d25f536c344b580de489e31c94eee",
       "version_major": 2,
       "version_minor": 0
      },
      "text/plain": [
       "Sanity Checking: 0it [00:00, ?it/s]"
      ]
     },
     "metadata": {},
     "output_type": "display_data"
    },
    {
     "name": "stderr",
     "output_type": "stream",
     "text": [
      "/cellar/users/aklie/opt/miniconda3/envs/ml4gland/lib/python3.9/site-packages/pytorch_lightning/trainer/connectors/data_connector.py:430: PossibleUserWarning: The dataloader, val_dataloader, does not have many workers which may be a bottleneck. Consider increasing the value of the `num_workers` argument` (try 16 which is the number of cpus on this machine) in the `DataLoader` init to improve performance.\n",
      "  rank_zero_warn(\n",
      "/cellar/users/aklie/opt/miniconda3/envs/ml4gland/lib/python3.9/site-packages/pytorch_lightning/trainer/connectors/data_connector.py:430: PossibleUserWarning: The dataloader, train_dataloader, does not have many workers which may be a bottleneck. Consider increasing the value of the `num_workers` argument` (try 16 which is the number of cpus on this machine) in the `DataLoader` init to improve performance.\n",
      "  rank_zero_warn(\n"
     ]
    },
    {
     "data": {
      "application/vnd.jupyter.widget-view+json": {
       "model_id": "a62b0c891ded40f6acf67cce4c920132",
       "version_major": 2,
       "version_minor": 0
      },
      "text/plain": [
       "Training: 0it [00:00, ?it/s]"
      ]
     },
     "metadata": {},
     "output_type": "display_data"
    },
    {
     "data": {
      "application/vnd.jupyter.widget-view+json": {
       "model_id": "f6f01ec68daa472a9d465c94dbf7f830",
       "version_major": 2,
       "version_minor": 0
      },
      "text/plain": [
       "Validation: 0it [00:00, ?it/s]"
      ]
     },
     "metadata": {},
     "output_type": "display_data"
    },
    {
     "data": {
      "application/vnd.jupyter.widget-view+json": {
       "model_id": "cdfd17351bca4a7cab5edc71bba7a28c",
       "version_major": 2,
       "version_minor": 0
      },
      "text/plain": [
       "Validation: 0it [00:00, ?it/s]"
      ]
     },
     "metadata": {},
     "output_type": "display_data"
    },
    {
     "data": {
      "application/vnd.jupyter.widget-view+json": {
       "model_id": "8543ad073e6149448618803f46cae4b5",
       "version_major": 2,
       "version_minor": 0
      },
      "text/plain": [
       "Validation: 0it [00:00, ?it/s]"
      ]
     },
     "metadata": {},
     "output_type": "display_data"
    },
    {
     "data": {
      "application/vnd.jupyter.widget-view+json": {
       "model_id": "3bc1ada33d4e4a18914f71a6d4dc9b3a",
       "version_major": 2,
       "version_minor": 0
      },
      "text/plain": [
       "Validation: 0it [00:00, ?it/s]"
      ]
     },
     "metadata": {},
     "output_type": "display_data"
    },
    {
     "data": {
      "application/vnd.jupyter.widget-view+json": {
       "model_id": "d51f5cecde214f55b4fc5523cefe096b",
       "version_major": 2,
       "version_minor": 0
      },
      "text/plain": [
       "Validation: 0it [00:00, ?it/s]"
      ]
     },
     "metadata": {},
     "output_type": "display_data"
    },
    {
     "data": {
      "application/vnd.jupyter.widget-view+json": {
       "model_id": "0ab00d82eb4a45379bd849b57faa30e3",
       "version_major": 2,
       "version_minor": 0
      },
      "text/plain": [
       "Validation: 0it [00:00, ?it/s]"
      ]
     },
     "metadata": {},
     "output_type": "display_data"
    },
    {
     "data": {
      "application/vnd.jupyter.widget-view+json": {
       "model_id": "b7c8c55c39cd45a19de6be9141d0fbdf",
       "version_major": 2,
       "version_minor": 0
      },
      "text/plain": [
       "Validation: 0it [00:00, ?it/s]"
      ]
     },
     "metadata": {},
     "output_type": "display_data"
    },
    {
     "data": {
      "application/vnd.jupyter.widget-view+json": {
       "model_id": "682dd03fdcf24e6a9bddd1f2d1dd4c45",
       "version_major": 2,
       "version_minor": 0
      },
      "text/plain": [
       "Validation: 0it [00:00, ?it/s]"
      ]
     },
     "metadata": {},
     "output_type": "display_data"
    },
    {
     "data": {
      "application/vnd.jupyter.widget-view+json": {
       "model_id": "66850ead192149dc9c31d651c9cea6f6",
       "version_major": 2,
       "version_minor": 0
      },
      "text/plain": [
       "Validation: 0it [00:00, ?it/s]"
      ]
     },
     "metadata": {},
     "output_type": "display_data"
    },
    {
     "data": {
      "application/vnd.jupyter.widget-view+json": {
       "model_id": "f30dae5dae6c4c82a108c6246a93d1c8",
       "version_major": 2,
       "version_minor": 0
      },
      "text/plain": [
       "Validation: 0it [00:00, ?it/s]"
      ]
     },
     "metadata": {},
     "output_type": "display_data"
    },
    {
     "data": {
      "application/vnd.jupyter.widget-view+json": {
       "model_id": "8c5bf18731f6454ca66b46c13780dacc",
       "version_major": 2,
       "version_minor": 0
      },
      "text/plain": [
       "Validation: 0it [00:00, ?it/s]"
      ]
     },
     "metadata": {},
     "output_type": "display_data"
    },
    {
     "data": {
      "application/vnd.jupyter.widget-view+json": {
       "model_id": "fb22bbdb80954fd9a8dea9a2d4c1838f",
       "version_major": 2,
       "version_minor": 0
      },
      "text/plain": [
       "Validation: 0it [00:00, ?it/s]"
      ]
     },
     "metadata": {},
     "output_type": "display_data"
    },
    {
     "data": {
      "application/vnd.jupyter.widget-view+json": {
       "model_id": "41bdfad831864853963b2776068ebdb8",
       "version_major": 2,
       "version_minor": 0
      },
      "text/plain": [
       "Validation: 0it [00:00, ?it/s]"
      ]
     },
     "metadata": {},
     "output_type": "display_data"
    },
    {
     "data": {
      "application/vnd.jupyter.widget-view+json": {
       "model_id": "1d609f8e2f434d1cbf3d78e2be68e963",
       "version_major": 2,
       "version_minor": 0
      },
      "text/plain": [
       "Validation: 0it [00:00, ?it/s]"
      ]
     },
     "metadata": {},
     "output_type": "display_data"
    },
    {
     "data": {
      "application/vnd.jupyter.widget-view+json": {
       "model_id": "7cb81d2e7ac9490095bad5fe6f39a792",
       "version_major": 2,
       "version_minor": 0
      },
      "text/plain": [
       "Validation: 0it [00:00, ?it/s]"
      ]
     },
     "metadata": {},
     "output_type": "display_data"
    },
    {
     "data": {
      "application/vnd.jupyter.widget-view+json": {
       "model_id": "28ef82bcf23544ae936e7a804033d950",
       "version_major": 2,
       "version_minor": 0
      },
      "text/plain": [
       "Validation: 0it [00:00, ?it/s]"
      ]
     },
     "metadata": {},
     "output_type": "display_data"
    },
    {
     "data": {
      "application/vnd.jupyter.widget-view+json": {
       "model_id": "be0c902bda74459ebb7dc195178000b7",
       "version_major": 2,
       "version_minor": 0
      },
      "text/plain": [
       "Validation: 0it [00:00, ?it/s]"
      ]
     },
     "metadata": {},
     "output_type": "display_data"
    },
    {
     "data": {
      "application/vnd.jupyter.widget-view+json": {
       "model_id": "4ff968e7218146f786d04fa5ff851782",
       "version_major": 2,
       "version_minor": 0
      },
      "text/plain": [
       "Validation: 0it [00:00, ?it/s]"
      ]
     },
     "metadata": {},
     "output_type": "display_data"
    },
    {
     "data": {
      "application/vnd.jupyter.widget-view+json": {
       "model_id": "a1f2a5a238f74c5bafaf5d8ac7289877",
       "version_major": 2,
       "version_minor": 0
      },
      "text/plain": [
       "Validation: 0it [00:00, ?it/s]"
      ]
     },
     "metadata": {},
     "output_type": "display_data"
    },
    {
     "data": {
      "application/vnd.jupyter.widget-view+json": {
       "model_id": "152cbd214f3049dcb5abf3b6ac4b88bd",
       "version_major": 2,
       "version_minor": 0
      },
      "text/plain": [
       "Validation: 0it [00:00, ?it/s]"
      ]
     },
     "metadata": {},
     "output_type": "display_data"
    },
    {
     "data": {
      "application/vnd.jupyter.widget-view+json": {
       "model_id": "6bd2d36603c04be6ae68615c85139a26",
       "version_major": 2,
       "version_minor": 0
      },
      "text/plain": [
       "Validation: 0it [00:00, ?it/s]"
      ]
     },
     "metadata": {},
     "output_type": "display_data"
    }
   ],
   "source": [
    "# Train the model\n",
    "trainer = train.fit_sequence_module(\n",
    "    model=module,\n",
    "    sdata=sdata,\n",
    "    seq_var=\"ohe_seq\",\n",
    "    target_vars=[\"target\"],\n",
    "    in_memory=True,\n",
    "    train_var=\"train_val\",\n",
    "    epochs=100,\n",
    "    batch_size=100,\n",
    "    early_stopping_patience=20,\n",
    "    early_stopping_metric=\"val_pearson_epoch\",\n",
    "    early_stopping_mode=\"max\",\n",
    "    model_checkpoint_monitor=\"val_pearson_epoch\",\n",
    "    model_checkpoint_k=5,\n",
    "    model_checkpoint_mode=\"max\",\n",
    "    logger=\"csv\",\n",
    "    log_dir=os.path.join(log_dir, rbp_id),\n",
    "    transforms={\"ohe_seq\": lambda x: torch.tensor(x.transpose(0, 2, 1), dtype=torch.float32)},\n",
    "    name=\"\",\n",
    "    version=\"\",\n",
    "    seed=1234,\n",
    "    return_trainer=True\n",
    ")"
   ]
  },
  {
   "cell_type": "code",
   "execution_count": 11,
   "metadata": {},
   "outputs": [
    {
     "data": {
      "text/plain": [
       "'/cellar/users/aklie/projects/ML4GLand/use_cases/DeepBind/models/2023_12_16/RNCMPT00100/checkpoints/epoch=0-step=1083.ckpt'"
      ]
     },
     "execution_count": 11,
     "metadata": {},
     "output_type": "execute_result"
    }
   ],
   "source": [
    "# Move best model to log directory\n",
    "print(\"Copying best model to log directory\")\n",
    "best_model_path = trainer.checkpoint_callback.best_model_path\n",
    "copy_path = os.path.join(log_dir, rbp_id, \"best_model.ckpt\")\n",
    "os.system(f\"cp {best_model_path} {copy_path}\")"
   ]
  },
  {
   "attachments": {},
   "cell_type": "markdown",
   "metadata": {},
   "source": [
    "# DONE!"
   ]
  },
  {
   "attachments": {},
   "cell_type": "markdown",
   "metadata": {},
   "source": [
    "---"
   ]
  }
 ],
 "metadata": {
  "kernelspec": {
   "display_name": "Python 3.9 ml4gland",
   "language": "python",
   "name": "ml4gland"
  },
  "orig_nbformat": 4
 },
 "nbformat": 4,
 "nbformat_minor": 2
}
