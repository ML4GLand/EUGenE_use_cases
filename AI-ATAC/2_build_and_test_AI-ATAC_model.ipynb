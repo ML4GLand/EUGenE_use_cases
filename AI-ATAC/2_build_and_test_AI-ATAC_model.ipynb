{
 "cells": [
  {
   "attachments": {},
   "cell_type": "markdown",
   "metadata": {},
   "source": [
    "# "
   ]
  },
  {
   "attachments": {},
   "cell_type": "markdown",
   "metadata": {},
   "source": [
    "# Test out the model from the AI-ATAC repo on a test dataset from the first notebook\n",
    "We are going to use the code from AI-ATAC repo: https://github.com/smaslova/AI-TAC. You'll need to clone the repo with Git and then add the path to the code as shown below."
   ]
  },
  {
   "attachments": {},
   "cell_type": "markdown",
   "metadata": {},
   "source": [
    "# Set-up"
   ]
  },
  {
   "cell_type": "code",
   "execution_count": 11,
   "metadata": {},
   "outputs": [],
   "source": [
    "# Imports for AI-ATAC model\n",
    "import sys\n",
    "sys.path.append('/cellar/users/aklie/opt/AI-TAC/code')\n",
    "import aitac\n",
    "import torch\n",
    "import torch.nn as nn\n",
    "\n",
    "# Imports for eugene\n",
    "from eugene import models\n",
    "from eugene import train\n",
    "import seqpro as sp\n",
    "import seqdata as sd"
   ]
  },
  {
   "cell_type": "code",
   "execution_count": 2,
   "metadata": {},
   "outputs": [],
   "source": [
    "# Hyper parameters\n",
    "num_epochs = 10\n",
    "num_classes = 81\n",
    "batch_size = 100\n",
    "learning_rate = 0.001\n",
    "num_filters = 300"
   ]
  },
  {
   "cell_type": "code",
   "execution_count": 3,
   "metadata": {},
   "outputs": [],
   "source": [
    "class ArchWrapper(nn.Module):\n",
    "    def __init__(self, arch):\n",
    "        super().__init__()\n",
    "        self.arch = arch\n",
    "    def forward(self, x):\n",
    "        return self.arch(x)[0]"
   ]
  },
  {
   "cell_type": "code",
   "execution_count": 8,
   "metadata": {},
   "outputs": [
    {
     "name": "stderr",
     "output_type": "stream",
     "text": [
      "[rank: 0] Global seed set to 1234\n"
     ]
    },
    {
     "data": {
      "text/plain": [
       "SequenceModule(\n",
       "  (arch): ArchWrapper(\n",
       "    (arch): ConvNet(\n",
       "      (layer1_conv): Sequential(\n",
       "        (0): Conv2d(1, 300, kernel_size=(4, 19), stride=(1, 1))\n",
       "        (1): ReLU()\n",
       "      )\n",
       "      (layer1_process): Sequential(\n",
       "        (0): MaxPool2d(kernel_size=(1, 3), stride=(1, 3), padding=(0, 1), dilation=1, ceil_mode=False)\n",
       "        (1): BatchNorm2d(300, eps=1e-05, momentum=0.1, affine=True, track_running_stats=True)\n",
       "      )\n",
       "      (layer2): Sequential(\n",
       "        (0): Conv2d(300, 200, kernel_size=(1, 11), stride=(1, 1))\n",
       "        (1): ReLU()\n",
       "        (2): MaxPool2d(kernel_size=(1, 4), stride=(1, 4), padding=(0, 1), dilation=1, ceil_mode=False)\n",
       "        (3): BatchNorm2d(200, eps=1e-05, momentum=0.1, affine=True, track_running_stats=True)\n",
       "      )\n",
       "      (layer3): Sequential(\n",
       "        (0): Conv2d(200, 200, kernel_size=(1, 7), stride=(1, 1))\n",
       "        (1): ReLU()\n",
       "        (2): MaxPool2d(kernel_size=(1, 4), stride=(1, 4), padding=(0, 1), dilation=1, ceil_mode=False)\n",
       "        (3): BatchNorm2d(200, eps=1e-05, momentum=0.1, affine=True, track_running_stats=True)\n",
       "      )\n",
       "      (layer4): Sequential(\n",
       "        (0): Linear(in_features=1000, out_features=1000, bias=True)\n",
       "        (1): ReLU()\n",
       "        (2): Dropout(p=0.03, inplace=False)\n",
       "      )\n",
       "      (layer5): Sequential(\n",
       "        (0): Linear(in_features=1000, out_features=1000, bias=True)\n",
       "        (1): ReLU()\n",
       "        (2): Dropout(p=0.03, inplace=False)\n",
       "      )\n",
       "      (layer6): Sequential(\n",
       "        (0): Linear(in_features=1000, out_features=81, bias=True)\n",
       "      )\n",
       "    )\n",
       "  )\n",
       "  (train_metric): R2Score()\n",
       "  (val_metric): R2Score()\n",
       "  (test_metric): R2Score()\n",
       ")"
      ]
     },
     "execution_count": 8,
     "metadata": {},
     "output_type": "execute_result"
    }
   ],
   "source": [
    "# Define the model\n",
    "model = ArchWrapper(aitac.ConvNet(num_classes, num_filters))\n",
    "\n",
    "# Define a SequenceModule\n",
    "module = models.SequenceModule(\n",
    "    arch=model,\n",
    "    input_len=250,\n",
    "    output_dim=num_classes,\n",
    "    task='regression',\n",
    "    loss_fxn=aitac.pearson_loss,\n",
    "    optimizer='adam',\n",
    "    optimizer_kwargs={'lr': learning_rate},\n",
    "    seed=1234\n",
    ")\n",
    "module"
   ]
  },
  {
   "attachments": {},
   "cell_type": "markdown",
   "metadata": {},
   "source": [
    "# Random sequences"
   ]
  },
  {
   "cell_type": "code",
   "execution_count": 9,
   "metadata": {},
   "outputs": [],
   "source": [
    "# Make random sequences\n",
    "rand_seqs = sp.random_seqs((10, 250), alphabet=sp.alphabets.DNA)\n",
    "rand_ohe = sp.ohe(rand_seqs, alphabet=sp.alphabets.DNA).transpose(0, 2, 1)\n",
    "rand_torch = torch.tensor(rand_ohe, dtype=torch.float32)"
   ]
  },
  {
   "cell_type": "code",
   "execution_count": 10,
   "metadata": {},
   "outputs": [
    {
     "data": {
      "text/plain": [
       "torch.Size([10, 81])"
      ]
     },
     "execution_count": 10,
     "metadata": {},
     "output_type": "execute_result"
    }
   ],
   "source": [
    "# Run inference\n",
    "module(rand_torch).shape"
   ]
  },
  {
   "attachments": {},
   "cell_type": "markdown",
   "metadata": {},
   "source": [
    "# Actual AI-ATAC data"
   ]
  },
  {
   "cell_type": "code",
   "execution_count": 19,
   "metadata": {},
   "outputs": [],
   "source": [
    "sdata = sd.open_zarr(\"/cellar/users/aklie/data/datasets/AI-ATAC/analysis/10Nov23/seqdata/fold_0/ai-atac_test.zarr\")"
   ]
  },
  {
   "cell_type": "code",
   "execution_count": 25,
   "metadata": {},
   "outputs": [],
   "source": [
    "# reshape the ohe \n",
    "sdata['ohe_seq'] = sdata['ohe_seq'].transpose('_sequence', '_ohe', 'length')"
   ]
  },
  {
   "cell_type": "code",
   "execution_count": 29,
   "metadata": {},
   "outputs": [],
   "source": [
    "test_ohe = sdata.ohe_seq[:10].values"
   ]
  },
  {
   "cell_type": "code",
   "execution_count": 32,
   "metadata": {},
   "outputs": [
    {
     "data": {
      "application/vnd.jupyter.widget-view+json": {
       "model_id": "7338a595bdd44bc496243c6ae30cbe63",
       "version_major": 2,
       "version_minor": 0
      },
      "text/plain": [
       "Predicting on batches: 0it [00:00, ?it/s]"
      ]
     },
     "metadata": {},
     "output_type": "display_data"
    },
    {
     "data": {
      "text/plain": [
       "torch.Size([10, 81])"
      ]
     },
     "execution_count": 32,
     "metadata": {},
     "output_type": "execute_result"
    }
   ],
   "source": [
    "module.predict(test_ohe).shape"
   ]
  },
  {
   "attachments": {},
   "cell_type": "markdown",
   "metadata": {},
   "source": [
    "# DONE!"
   ]
  },
  {
   "attachments": {},
   "cell_type": "markdown",
   "metadata": {},
   "source": [
    "---"
   ]
  }
 ],
 "metadata": {
  "kernelspec": {
   "display_name": "Python 3.9 ml4gland",
   "language": "python",
   "name": "ml4gland"
  },
  "language_info": {
   "codemirror_mode": {
    "name": "ipython",
    "version": 3
   },
   "file_extension": ".py",
   "mimetype": "text/x-python",
   "name": "python",
   "nbconvert_exporter": "python",
   "pygments_lexer": "ipython3",
   "version": "3.9.16"
  },
  "orig_nbformat": 4
 },
 "nbformat": 4,
 "nbformat_minor": 2
}
