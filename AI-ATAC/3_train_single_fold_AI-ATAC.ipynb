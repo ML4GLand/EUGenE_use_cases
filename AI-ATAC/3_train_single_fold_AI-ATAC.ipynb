{
 "cells": [
  {
   "attachments": {},
   "cell_type": "markdown",
   "metadata": {},
   "source": [
    "# Test out the model from the AI-ATAC repo on a test dataset from the first notebook\n",
    "We are going to use the code from AI-ATAC repo: https://github.com/smaslova/AI-TAC. You'll need to clone the repo with Git and then add the path to the code as shown below."
   ]
  },
  {
   "attachments": {},
   "cell_type": "markdown",
   "metadata": {},
   "source": [
    "# Set-up"
   ]
  },
  {
   "cell_type": "code",
   "execution_count": 18,
   "metadata": {},
   "outputs": [],
   "source": [
    "# Imports for AI-ATAC model\n",
    "import sys\n",
    "sys.path.append('/cellar/users/aklie/opt/AI-TAC/code')\n",
    "import aitac\n",
    "import torch\n",
    "import torch.nn as nn\n",
    "\n",
    "# Imports for eugene\n",
    "from eugene import models\n",
    "from eugene import train\n",
    "import seqdata as sd\n",
    "from eugene import settings"
   ]
  },
  {
   "cell_type": "code",
   "execution_count": 22,
   "metadata": {},
   "outputs": [],
   "source": [
    "settings.logging_dir = \"/cellar/users/aklie/data/datasets/AI-ATAC/analysis/10Nov23/seqdata\""
   ]
  },
  {
   "cell_type": "code",
   "execution_count": 23,
   "metadata": {},
   "outputs": [],
   "source": [
    "# Hyper parameters\n",
    "num_epochs = 10\n",
    "num_classes = 81\n",
    "batch_size = 100\n",
    "learning_rate = 0.001\n",
    "num_filters = 300"
   ]
  },
  {
   "attachments": {},
   "cell_type": "markdown",
   "metadata": {},
   "source": [
    "# Load data"
   ]
  },
  {
   "cell_type": "code",
   "execution_count": 24,
   "metadata": {},
   "outputs": [],
   "source": [
    "sdata = sd.open_zarr(\"/cellar/users/aklie/data/datasets/AI-ATAC/analysis/10Nov23/seqdata/fold_0/ai-atac_train.zarr\")"
   ]
  },
  {
   "cell_type": "code",
   "execution_count": 25,
   "metadata": {},
   "outputs": [],
   "source": [
    "# reshape the ohe \n",
    "sdata['ohe_seq'] = sdata['ohe_seq'].transpose('_sequence', '_ohe', 'length')"
   ]
  },
  {
   "attachments": {},
   "cell_type": "markdown",
   "metadata": {},
   "source": [
    "# Build model"
   ]
  },
  {
   "cell_type": "code",
   "execution_count": 33,
   "metadata": {},
   "outputs": [],
   "source": [
    "class ArchWrapper(nn.Module):\n",
    "    def __init__(self, arch):\n",
    "        super().__init__()\n",
    "        self.arch = arch\n",
    "    def forward(self, x):\n",
    "        return self.arch(x)[0]"
   ]
  },
  {
   "cell_type": "code",
   "execution_count": 34,
   "metadata": {},
   "outputs": [
    {
     "name": "stderr",
     "output_type": "stream",
     "text": [
      "[rank: 0] Global seed set to 1234\n"
     ]
    },
    {
     "data": {
      "text/plain": [
       "SequenceModule(\n",
       "  (arch): ArchWrapper(\n",
       "    (arch): ConvNet(\n",
       "      (layer1_conv): Sequential(\n",
       "        (0): Conv2d(1, 300, kernel_size=(4, 19), stride=(1, 1))\n",
       "        (1): ReLU()\n",
       "      )\n",
       "      (layer1_process): Sequential(\n",
       "        (0): MaxPool2d(kernel_size=(1, 3), stride=(1, 3), padding=(0, 1), dilation=1, ceil_mode=False)\n",
       "        (1): BatchNorm2d(300, eps=1e-05, momentum=0.1, affine=True, track_running_stats=True)\n",
       "      )\n",
       "      (layer2): Sequential(\n",
       "        (0): Conv2d(300, 200, kernel_size=(1, 11), stride=(1, 1))\n",
       "        (1): ReLU()\n",
       "        (2): MaxPool2d(kernel_size=(1, 4), stride=(1, 4), padding=(0, 1), dilation=1, ceil_mode=False)\n",
       "        (3): BatchNorm2d(200, eps=1e-05, momentum=0.1, affine=True, track_running_stats=True)\n",
       "      )\n",
       "      (layer3): Sequential(\n",
       "        (0): Conv2d(200, 200, kernel_size=(1, 7), stride=(1, 1))\n",
       "        (1): ReLU()\n",
       "        (2): MaxPool2d(kernel_size=(1, 4), stride=(1, 4), padding=(0, 1), dilation=1, ceil_mode=False)\n",
       "        (3): BatchNorm2d(200, eps=1e-05, momentum=0.1, affine=True, track_running_stats=True)\n",
       "      )\n",
       "      (layer4): Sequential(\n",
       "        (0): Linear(in_features=1000, out_features=1000, bias=True)\n",
       "        (1): ReLU()\n",
       "        (2): Dropout(p=0.03, inplace=False)\n",
       "      )\n",
       "      (layer5): Sequential(\n",
       "        (0): Linear(in_features=1000, out_features=1000, bias=True)\n",
       "        (1): ReLU()\n",
       "        (2): Dropout(p=0.03, inplace=False)\n",
       "      )\n",
       "      (layer6): Sequential(\n",
       "        (0): Linear(in_features=1000, out_features=81, bias=True)\n",
       "      )\n",
       "    )\n",
       "  )\n",
       "  (train_metric): R2Score()\n",
       "  (val_metric): R2Score()\n",
       "  (test_metric): R2Score()\n",
       ")"
      ]
     },
     "execution_count": 34,
     "metadata": {},
     "output_type": "execute_result"
    }
   ],
   "source": [
    "# Define the model\n",
    "model = ArchWrapper(aitac.ConvNet(num_classes, num_filters))\n",
    "\n",
    "# Define a SequenceModule\n",
    "module = models.SequenceModule(\n",
    "    arch=model,\n",
    "    input_len=250,\n",
    "    output_dim=num_classes,\n",
    "    task='regression',\n",
    "    #loss_fxn=aitac.pearson_loss,\n",
    "    loss_fxn=\"mse\",\n",
    "    optimizer='adam',\n",
    "    optimizer_lr=learning_rate,\n",
    "    metric=\"pearson\",\n",
    "    seed=1234\n",
    "    \n",
    ")\n",
    "module"
   ]
  },
  {
   "attachments": {},
   "cell_type": "markdown",
   "metadata": {},
   "source": [
    "# Train the model"
   ]
  },
  {
   "cell_type": "code",
   "execution_count": 35,
   "metadata": {},
   "outputs": [
    {
     "ename": "ValueError",
     "evalue": "cannot rename '_celltypes' because it is not a variable or dimension in this dataset",
     "output_type": "error",
     "traceback": [
      "\u001b[0;31m---------------------------------------------------------------------------\u001b[0m",
      "\u001b[0;31mValueError\u001b[0m                                Traceback (most recent call last)",
      "Cell \u001b[0;32mIn[35], line 2\u001b[0m\n\u001b[1;32m      1\u001b[0m \u001b[39m# Rename the _celltypes coord to _targets\u001b[39;00m\n\u001b[0;32m----> 2\u001b[0m sdata \u001b[39m=\u001b[39m sdata\u001b[39m.\u001b[39;49mrename({\u001b[39m'\u001b[39;49m\u001b[39m_celltypes\u001b[39;49m\u001b[39m'\u001b[39;49m: \u001b[39m'\u001b[39;49m\u001b[39m_targets\u001b[39;49m\u001b[39m'\u001b[39;49m})\n",
      "File \u001b[0;32m~/opt/miniconda3/envs/ml4gland/lib/python3.9/site-packages/xarray/core/dataset.py:3675\u001b[0m, in \u001b[0;36mDataset.rename\u001b[0;34m(self, name_dict, **names)\u001b[0m\n\u001b[1;32m   3647\u001b[0m \u001b[39mdef\u001b[39;00m \u001b[39mrename\u001b[39m(\n\u001b[1;32m   3648\u001b[0m     \u001b[39mself\u001b[39m: T_Dataset,\n\u001b[1;32m   3649\u001b[0m     name_dict: Mapping[Any, Hashable] \u001b[39m|\u001b[39m \u001b[39mNone\u001b[39;00m \u001b[39m=\u001b[39m \u001b[39mNone\u001b[39;00m,\n\u001b[1;32m   3650\u001b[0m     \u001b[39m*\u001b[39m\u001b[39m*\u001b[39mnames: Hashable,\n\u001b[1;32m   3651\u001b[0m ) \u001b[39m-\u001b[39m\u001b[39m>\u001b[39m T_Dataset:\n\u001b[1;32m   3652\u001b[0m \u001b[39m    \u001b[39m\u001b[39m\"\"\"Returns a new object with renamed variables, coordinates and dimensions.\u001b[39;00m\n\u001b[1;32m   3653\u001b[0m \n\u001b[1;32m   3654\u001b[0m \u001b[39m    Parameters\u001b[39;00m\n\u001b[0;32m   (...)\u001b[0m\n\u001b[1;32m   3673\u001b[0m \u001b[39m    DataArray.rename\u001b[39;00m\n\u001b[1;32m   3674\u001b[0m \u001b[39m    \"\"\"\u001b[39;00m\n\u001b[0;32m-> 3675\u001b[0m     \u001b[39mreturn\u001b[39;00m \u001b[39mself\u001b[39;49m\u001b[39m.\u001b[39;49m_rename(name_dict\u001b[39m=\u001b[39;49mname_dict, \u001b[39m*\u001b[39;49m\u001b[39m*\u001b[39;49mnames)\n",
      "File \u001b[0;32m~/opt/miniconda3/envs/ml4gland/lib/python3.9/site-packages/xarray/core/dataset.py:3616\u001b[0m, in \u001b[0;36mDataset._rename\u001b[0;34m(self, name_dict, **names)\u001b[0m\n\u001b[1;32m   3614\u001b[0m \u001b[39mfor\u001b[39;00m k \u001b[39min\u001b[39;00m name_dict\u001b[39m.\u001b[39mkeys():\n\u001b[1;32m   3615\u001b[0m     \u001b[39mif\u001b[39;00m k \u001b[39mnot\u001b[39;00m \u001b[39min\u001b[39;00m \u001b[39mself\u001b[39m \u001b[39mand\u001b[39;00m k \u001b[39mnot\u001b[39;00m \u001b[39min\u001b[39;00m \u001b[39mself\u001b[39m\u001b[39m.\u001b[39mdims:\n\u001b[0;32m-> 3616\u001b[0m         \u001b[39mraise\u001b[39;00m \u001b[39mValueError\u001b[39;00m(\n\u001b[1;32m   3617\u001b[0m             \u001b[39mf\u001b[39m\u001b[39m\"\u001b[39m\u001b[39mcannot rename \u001b[39m\u001b[39m{\u001b[39;00mk\u001b[39m!r}\u001b[39;00m\u001b[39m because it is not a \u001b[39m\u001b[39m\"\u001b[39m\n\u001b[1;32m   3618\u001b[0m             \u001b[39m\"\u001b[39m\u001b[39mvariable or dimension in this dataset\u001b[39m\u001b[39m\"\u001b[39m\n\u001b[1;32m   3619\u001b[0m         )\n\u001b[1;32m   3621\u001b[0m     create_dim_coord \u001b[39m=\u001b[39m \u001b[39mFalse\u001b[39;00m\n\u001b[1;32m   3622\u001b[0m     new_k \u001b[39m=\u001b[39m name_dict[k]\n",
      "\u001b[0;31mValueError\u001b[0m: cannot rename '_celltypes' because it is not a variable or dimension in this dataset"
     ]
    }
   ],
   "source": [
    "# Rename the _celltypes coord to _targets\n",
    "sdata = sdata.rename({'_celltypes': '_targets'})"
   ]
  },
  {
   "cell_type": "code",
   "execution_count": 41,
   "metadata": {},
   "outputs": [
    {
     "data": {
      "text/html": [
       "<div>\n",
       "<style scoped>\n",
       "    .dataframe tbody tr th:only-of-type {\n",
       "        vertical-align: middle;\n",
       "    }\n",
       "\n",
       "    .dataframe tbody tr th {\n",
       "        vertical-align: top;\n",
       "    }\n",
       "\n",
       "    .dataframe thead th {\n",
       "        text-align: right;\n",
       "    }\n",
       "</style>\n",
       "<table border=\"1\" class=\"dataframe\">\n",
       "  <thead>\n",
       "    <tr style=\"text-align: right;\">\n",
       "      <th>chrom</th>\n",
       "      <th>chr10</th>\n",
       "      <th>chr11</th>\n",
       "      <th>chr12</th>\n",
       "      <th>chr13</th>\n",
       "      <th>chr14</th>\n",
       "      <th>chr15</th>\n",
       "      <th>chr16</th>\n",
       "      <th>chr17</th>\n",
       "      <th>chr18</th>\n",
       "      <th>chr19</th>\n",
       "      <th>chr2</th>\n",
       "      <th>chr4</th>\n",
       "      <th>chr5</th>\n",
       "      <th>chr7</th>\n",
       "      <th>chr8</th>\n",
       "      <th>chr9</th>\n",
       "    </tr>\n",
       "    <tr>\n",
       "      <th>fold_0_train</th>\n",
       "      <th></th>\n",
       "      <th></th>\n",
       "      <th></th>\n",
       "      <th></th>\n",
       "      <th></th>\n",
       "      <th></th>\n",
       "      <th></th>\n",
       "      <th></th>\n",
       "      <th></th>\n",
       "      <th></th>\n",
       "      <th></th>\n",
       "      <th></th>\n",
       "      <th></th>\n",
       "      <th></th>\n",
       "      <th></th>\n",
       "      <th></th>\n",
       "    </tr>\n",
       "  </thead>\n",
       "  <tbody>\n",
       "    <tr>\n",
       "      <th>False</th>\n",
       "      <td>0</td>\n",
       "      <td>0</td>\n",
       "      <td>0</td>\n",
       "      <td>0</td>\n",
       "      <td>0</td>\n",
       "      <td>0</td>\n",
       "      <td>12279</td>\n",
       "      <td>0</td>\n",
       "      <td>0</td>\n",
       "      <td>0</td>\n",
       "      <td>0</td>\n",
       "      <td>0</td>\n",
       "      <td>0</td>\n",
       "      <td>0</td>\n",
       "      <td>16619</td>\n",
       "      <td>0</td>\n",
       "    </tr>\n",
       "    <tr>\n",
       "      <th>True</th>\n",
       "      <td>18954</td>\n",
       "      <td>20082</td>\n",
       "      <td>14493</td>\n",
       "      <td>16120</td>\n",
       "      <td>13725</td>\n",
       "      <td>13836</td>\n",
       "      <td>0</td>\n",
       "      <td>14523</td>\n",
       "      <td>11203</td>\n",
       "      <td>9158</td>\n",
       "      <td>26891</td>\n",
       "      <td>20462</td>\n",
       "      <td>20112</td>\n",
       "      <td>19294</td>\n",
       "      <td>0</td>\n",
       "      <td>17288</td>\n",
       "    </tr>\n",
       "  </tbody>\n",
       "</table>\n",
       "</div>"
      ],
      "text/plain": [
       "chrom         chr10  chr11  chr12  chr13  chr14  chr15  chr16  chr17  chr18  \\\n",
       "fold_0_train                                                                  \n",
       "False             0      0      0      0      0      0  12279      0      0   \n",
       "True          18954  20082  14493  16120  13725  13836      0  14523  11203   \n",
       "\n",
       "chrom         chr19   chr2   chr4   chr5   chr7   chr8   chr9  \n",
       "fold_0_train                                                   \n",
       "False             0      0      0      0      0  16619      0  \n",
       "True           9158  26891  20462  20112  19294      0  17288  "
      ]
     },
     "execution_count": 41,
     "metadata": {},
     "output_type": "execute_result"
    }
   ],
   "source": [
    "import pandas as pd\n",
    "test = sdata[[\"fold_0_train\", \"chrom\"]].to_dataframe()\n",
    "pd.crosstab(test[\"fold_0_train\"], test[\"chrom\"])"
   ]
  },
  {
   "cell_type": "code",
   "execution_count": 42,
   "metadata": {},
   "outputs": [
    {
     "name": "stdout",
     "output_type": "stream",
     "text": [
      "Dropping 0 sequences with NaN targets.\n",
      "Loading ohe_seq and ['peak_height'] into memory\n"
     ]
    },
    {
     "name": "stderr",
     "output_type": "stream",
     "text": [
      "[rank: 0] Global seed set to 1234\n",
      "/cellar/users/aklie/opt/miniconda3/envs/ml4gland/lib/python3.9/site-packages/lightning_fabric/plugins/environments/slurm.py:165: PossibleUserWarning: The `srun` command is available on your system but is not used. HINT: If your intention is to run Lightning on SLURM, prepend your python command with `srun` like so: srun python /cellar/users/aklie/opt/miniconda3/envs/ml4gland/lib ...\n",
      "  rank_zero_warn(\n",
      "GPU available: True (cuda), used: True\n",
      "TPU available: False, using: 0 TPU cores\n",
      "IPU available: False, using: 0 IPUs\n",
      "HPU available: False, using: 0 HPUs\n",
      "LOCAL_RANK: 0 - CUDA_VISIBLE_DEVICES: [0]\n",
      "\n",
      "  | Name         | Type        | Params\n",
      "---------------------------------------------\n",
      "0 | arch         | ArchWrapper | 3.0 M \n",
      "1 | train_metric | R2Score     | 0     \n",
      "2 | val_metric   | R2Score     | 0     \n",
      "3 | test_metric  | R2Score     | 0     \n",
      "---------------------------------------------\n",
      "3.0 M     Trainable params\n",
      "0         Non-trainable params\n",
      "3.0 M     Total params\n",
      "12.192    Total estimated model params size (MB)\n"
     ]
    },
    {
     "data": {
      "application/vnd.jupyter.widget-view+json": {
       "model_id": "46e30d758ff946238434928a5e7991e4",
       "version_major": 2,
       "version_minor": 0
      },
      "text/plain": [
       "Sanity Checking: 0it [00:00, ?it/s]"
      ]
     },
     "metadata": {},
     "output_type": "display_data"
    },
    {
     "name": "stderr",
     "output_type": "stream",
     "text": [
      "/cellar/users/aklie/opt/miniconda3/envs/ml4gland/lib/python3.9/site-packages/pytorch_lightning/trainer/connectors/data_connector.py:430: PossibleUserWarning: The dataloader, val_dataloader, does not have many workers which may be a bottleneck. Consider increasing the value of the `num_workers` argument` (try 16 which is the number of cpus on this machine) in the `DataLoader` init to improve performance.\n",
      "  rank_zero_warn(\n",
      "/cellar/users/aklie/opt/miniconda3/envs/ml4gland/lib/python3.9/site-packages/pytorch_lightning/trainer/connectors/data_connector.py:430: PossibleUserWarning: The dataloader, train_dataloader, does not have many workers which may be a bottleneck. Consider increasing the value of the `num_workers` argument` (try 16 which is the number of cpus on this machine) in the `DataLoader` init to improve performance.\n",
      "  rank_zero_warn(\n"
     ]
    },
    {
     "data": {
      "application/vnd.jupyter.widget-view+json": {
       "model_id": "cf5bfb155b6c4bbc95a2f5aa1c8af831",
       "version_major": 2,
       "version_minor": 0
      },
      "text/plain": [
       "Training: 0it [00:00, ?it/s]"
      ]
     },
     "metadata": {},
     "output_type": "display_data"
    },
    {
     "data": {
      "application/vnd.jupyter.widget-view+json": {
       "model_id": "017bb35838bb45cfbbdd39f85c369911",
       "version_major": 2,
       "version_minor": 0
      },
      "text/plain": [
       "Validation: 0it [00:00, ?it/s]"
      ]
     },
     "metadata": {},
     "output_type": "display_data"
    },
    {
     "data": {
      "application/vnd.jupyter.widget-view+json": {
       "model_id": "261f451085b4474fa48bd6c9a87dc725",
       "version_major": 2,
       "version_minor": 0
      },
      "text/plain": [
       "Validation: 0it [00:00, ?it/s]"
      ]
     },
     "metadata": {},
     "output_type": "display_data"
    },
    {
     "data": {
      "application/vnd.jupyter.widget-view+json": {
       "model_id": "d656874289b04132bfa4c67dd479f017",
       "version_major": 2,
       "version_minor": 0
      },
      "text/plain": [
       "Validation: 0it [00:00, ?it/s]"
      ]
     },
     "metadata": {},
     "output_type": "display_data"
    },
    {
     "data": {
      "application/vnd.jupyter.widget-view+json": {
       "model_id": "2db6a9e3763247b984dab85b2926baee",
       "version_major": 2,
       "version_minor": 0
      },
      "text/plain": [
       "Validation: 0it [00:00, ?it/s]"
      ]
     },
     "metadata": {},
     "output_type": "display_data"
    },
    {
     "data": {
      "application/vnd.jupyter.widget-view+json": {
       "model_id": "c827c48285324563bb00045aaec2a343",
       "version_major": 2,
       "version_minor": 0
      },
      "text/plain": [
       "Validation: 0it [00:00, ?it/s]"
      ]
     },
     "metadata": {},
     "output_type": "display_data"
    },
    {
     "data": {
      "application/vnd.jupyter.widget-view+json": {
       "model_id": "1ab17947abf6475ba91c44df5afe28b9",
       "version_major": 2,
       "version_minor": 0
      },
      "text/plain": [
       "Validation: 0it [00:00, ?it/s]"
      ]
     },
     "metadata": {},
     "output_type": "display_data"
    },
    {
     "data": {
      "application/vnd.jupyter.widget-view+json": {
       "model_id": "2d267751d0e446bb84e5de558c7fc7e9",
       "version_major": 2,
       "version_minor": 0
      },
      "text/plain": [
       "Validation: 0it [00:00, ?it/s]"
      ]
     },
     "metadata": {},
     "output_type": "display_data"
    },
    {
     "data": {
      "application/vnd.jupyter.widget-view+json": {
       "model_id": "63161ed35dd442a08cc9c1a4f4868199",
       "version_major": 2,
       "version_minor": 0
      },
      "text/plain": [
       "Validation: 0it [00:00, ?it/s]"
      ]
     },
     "metadata": {},
     "output_type": "display_data"
    }
   ],
   "source": [
    "train.fit_sequence_module(\n",
    "    model=module,\n",
    "    sdata=sdata,\n",
    "    seq_var=\"ohe_seq\",\n",
    "    target_vars=\"peak_height\",\n",
    "    train_var=\"fold_0_train\",\n",
    "    batch_size=batch_size,\n",
    "    epochs=num_epochs,\n",
    "    in_memory=True,\n",
    "    seed=1234,\n",
    "    name=\"fold_0\",\n",
    "    version=\"AI-ATAC_MSE\",\n",
    ")"
   ]
  },
  {
   "cell_type": "code",
   "execution_count": null,
   "metadata": {},
   "outputs": [],
   "source": []
  }
 ],
 "metadata": {
  "kernelspec": {
   "display_name": "Python 3.9 ml4gland",
   "language": "python",
   "name": "ml4gland"
  },
  "orig_nbformat": 4
 },
 "nbformat": 4,
 "nbformat_minor": 2
}
