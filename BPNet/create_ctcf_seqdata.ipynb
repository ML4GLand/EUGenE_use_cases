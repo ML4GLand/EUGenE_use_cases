{
 "cells": [
  {
   "attachments": {},
   "cell_type": "markdown",
   "metadata": {},
   "source": [
    "# Generating SeqData for BPNet training using prepocessed CTCF ChIP-seq data\n",
    "**Authorship:**\n",
    "Adam Klie (last updated: *07/19/2023*)\n",
    "***\n",
    "**Description:**\n",
    "This notebook demonstrates how to generate SeqData for BPNet training using preprocessed CTCF ChIP-seq data. Only a couple cells, but useful to run once and then be able to work with the SeqData object in other notebooks.\n",
    "***"
   ]
  },
  {
   "cell_type": "code",
   "execution_count": null,
   "metadata": {},
   "outputs": [],
   "source": [
    "from pathlib import Path\n",
    "import seqdata as sd"
   ]
  },
  {
   "cell_type": "code",
   "execution_count": null,
   "metadata": {},
   "outputs": [],
   "source": [
    "# TODO: change to your paths\n",
    "data_dir = Path(\"/cellar/shared/carterlab/data/ml4gland/ENCSR000EGM/data\")\n",
    "fasta = Path(\"/cellar/users/aklie/data/ml4gland/use_cases/avsec21/reference/hg38.fa\")\n",
    "peaks = data_dir / \"peaks.bed\"\n",
    "signals = [data_dir / \"plus.bw\", data_dir / \"minus.bw\"]\n",
    "controls = [data_dir / \"control_plus.bw\", data_dir / \"control_minus.bw\"]\n",
    "control_samples = ['plus', 'minus']\n",
    "bigwigs = signals + controls\n",
    "sample_names = ['signal+', 'signal-', 'control+', 'control-']\n",
    "out = '/cellar/users/dlaub/projects/ML4GLand/use_cases/avsec21/avsec21.zarr'"
   ]
  },
  {
   "cell_type": "code",
   "execution_count": null,
   "metadata": {},
   "outputs": [],
   "source": [
    "# Compose a SeqData from a set of files - only run this once!\n",
    "sdata = sd.from_region_files(\n",
    "    sd.GenomeFASTA(\n",
    "        'seq',\n",
    "        fasta,\n",
    "        batch_size=2048,\n",
    "        n_threads=4,\n",
    "    ),\n",
    "    sd.BigWig(\n",
    "        'cov',\n",
    "        bigwigs,\n",
    "        sample_names,\n",
    "        batch_size=2048,\n",
    "        n_jobs=4,\n",
    "        threads_per_job=2,\n",
    "    ),\n",
    "    path=out,\n",
    "    fixed_length=2114,\n",
    "    bed=peaks,\n",
    "    overwrite=True,\n",
    "    max_jitter=128\n",
    ")"
   ]
  },
  {
   "cell_type": "code",
   "execution_count": null,
   "metadata": {},
   "outputs": [],
   "source": [
    "# Split cov into control and signal\n",
    "sdata['control'] = (\n",
    "    sdata.cov.sel(cov_sample=['control+', 'control-'])\n",
    "    .rename({'cov_sample': 'cov_strand'})\n",
    "    .assign_coords({'cov_strand': ['+', '-']})\n",
    ")\n",
    "sdata['signal'] = (\n",
    "    sdata.cov.sel(cov_sample=['signal+', 'signal-'])\n",
    "    .rename({'cov_sample': 'cov_strand'})\n",
    "    .assign_coords({'cov_strand': ['+', '-']})\n",
    ")\n",
    "sdata = sdata.drop_vars(['cov', 'cov_sample'])\n",
    "sdata.to_zarr(out)"
   ]
  },
  {
   "attachments": {},
   "cell_type": "markdown",
   "metadata": {},
   "source": [
    "# DONE!"
   ]
  },
  {
   "attachments": {},
   "cell_type": "markdown",
   "metadata": {},
   "source": [
    "---"
   ]
  }
 ],
 "metadata": {
  "language_info": {
   "name": "python"
  },
  "orig_nbformat": 4
 },
 "nbformat": 4,
 "nbformat_minor": 2
}
