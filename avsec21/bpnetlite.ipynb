{
 "cells": [
  {
   "cell_type": "code",
   "execution_count": 2,
   "id": "56c86a1e-4399-4ec9-a611-cfba960fc444",
   "metadata": {
    "execution": {
     "iopub.execute_input": "2022-12-20T05:50:05.932907Z",
     "iopub.status.busy": "2022-12-20T05:50:05.932644Z",
     "iopub.status.idle": "2022-12-20T05:50:05.934983Z",
     "shell.execute_reply": "2022-12-20T05:50:05.934698Z",
     "shell.execute_reply.started": "2022-12-20T05:50:05.932882Z"
    }
   },
   "outputs": [],
   "source": [
    "import bpnetlite"
   ]
  },
  {
   "cell_type": "code",
   "execution_count": 3,
   "id": "6e84be65-078a-44b7-9c11-ba785747068a",
   "metadata": {
    "execution": {
     "iopub.execute_input": "2022-12-20T05:50:30.247954Z",
     "iopub.status.busy": "2022-12-20T05:50:30.247600Z",
     "iopub.status.idle": "2022-12-20T05:50:30.251226Z",
     "shell.execute_reply": "2022-12-20T05:50:30.250916Z",
     "shell.execute_reply.started": "2022-12-20T05:50:30.247933Z"
    },
    "tags": []
   },
   "outputs": [],
   "source": [
    "import torch\n",
    "\n",
    "from bpnetlite.io import extract_peaks\n",
    "from bpnetlite.io import PeakGenerator\n",
    "from bpnetlite import BPNet\n",
    "\n",
    "peaks = 'test/CTCF.peaks.bed'\n",
    "seqs = '../../oak/common/hg38/hg38.fa'\n",
    "signals = ['test/CTCF.plus.bw', 'test/CTCF.minus.bw']\n",
    "controls = ['test/CTCF.plus.ctl.bw', 'test/CTCF.minus.ctl.bw']\n",
    "\n",
    "training_chroms = ['chr{}'.format(i) for i in range(1, 17)]\n",
    "valid_chroms = ['chr{}'.format(i) for i in range(18, 23)]"
   ]
  },
  {
   "cell_type": "code",
   "execution_count": null,
   "id": "32fc76d5-70f1-46b7-858b-3df51f678f5a",
   "metadata": {},
   "outputs": [],
   "source": [
    "training_data = PeakGenerator(peaks, seqs, signals, controls, chroms=training_chroms)"
   ]
  },
  {
   "cell_type": "code",
   "execution_count": null,
   "id": "04eb438d-14e3-49de-958e-59fb08a424e6",
   "metadata": {},
   "outputs": [],
   "source": [
    "X_valid, y_valid, X_ctl_valid = extract_peaks(peaks, seqs, signals, controls, chroms=valid_chroms, max_jitter=0)"
   ]
  },
  {
   "cell_type": "code",
   "execution_count": null,
   "id": "b55c9068-87a5-4004-bec3-a10f450faf29",
   "metadata": {},
   "outputs": [],
   "source": []
  }
 ],
 "metadata": {
  "kernelspec": {
   "display_name": "Python 3.7 eugene_benchmarks",
   "language": "python",
   "name": "eugene_benchmarks"
  },
  "language_info": {
   "codemirror_mode": {
    "name": "ipython",
    "version": 3
   },
   "file_extension": ".py",
   "mimetype": "text/x-python",
   "name": "python",
   "nbconvert_exporter": "python",
   "pygments_lexer": "ipython3",
   "version": "3.7.12"
  }
 },
 "nbformat": 4,
 "nbformat_minor": 5
}
