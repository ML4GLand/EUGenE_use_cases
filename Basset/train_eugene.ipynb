{
 "cells": [
  {
   "attachments": {},
   "cell_type": "markdown",
   "id": "8ec3509e",
   "metadata": {},
   "source": [
    "# Retraining Basset with EUGENe\n",
    "**Authorship:**\n",
    "Adam Klie (last updated: *07/19/2023*)\n",
    "***\n",
    "**Description:**\n",
    "Test the Kipoi hosted implementation of Basenji for inference on some randomly generated sequences. This is a good place to check if your installation is working properly.\n",
    "***"
   ]
  },
  {
   "attachments": {},
   "cell_type": "markdown",
   "id": "c91addbb-00f9-474a-8386-b61bf03af5bd",
   "metadata": {
    "id": "SVxwvzYj-txy"
   },
   "source": [
    "# Set-up"
   ]
  },
  {
   "cell_type": "code",
   "execution_count": 1,
   "id": "5256fba9",
   "metadata": {
    "execution": {
     "iopub.execute_input": "2023-03-27T20:06:52.328546Z",
     "iopub.status.busy": "2023-03-27T20:06:52.328175Z",
     "iopub.status.idle": "2023-03-27T20:07:20.113060Z",
     "shell.execute_reply": "2023-03-27T20:07:20.112385Z",
     "shell.execute_reply.started": "2023-03-27T20:06:52.328498Z"
    }
   },
   "outputs": [],
   "source": [
    "# General imports\n",
    "import os\n",
    "import time\n",
    "import h5py\n",
    "import numpy as np"
   ]
  },
  {
   "attachments": {},
   "cell_type": "markdown",
   "id": "a9a29fa3-f880-4dfb-8b41-2eec95e9f5ad",
   "metadata": {
    "id": "VuUNVfty-tx4"
   },
   "source": [
    "# Load dataset from EvoAug publication"
   ]
  },
  {
   "cell_type": "code",
   "execution_count": 2,
   "id": "59808aeb-e3be-4835-a34d-3ef8e5acf704",
   "metadata": {
    "execution": {
     "iopub.execute_input": "2023-03-27T20:07:20.122078Z",
     "iopub.status.busy": "2023-03-27T20:07:20.121720Z",
     "iopub.status.idle": "2023-03-27T20:07:20.138122Z",
     "shell.execute_reply": "2023-03-27T20:07:20.137504Z",
     "shell.execute_reply.started": "2023-03-27T20:07:20.122060Z"
    },
    "id": "wl8UGRA6-tyA",
    "tags": []
   },
   "outputs": [],
   "source": [
    "dataset_path = \"/cellar/users/aklie/projects/ML4GLand/data/pubs/lee22/Basset_data.h5\""
   ]
  },
  {
   "cell_type": "code",
   "execution_count": 3,
   "id": "f2362b84",
   "metadata": {},
   "outputs": [],
   "source": [
    "# Load dataset from h5 file\n",
    "with h5py.File(dataset_path, 'r') as dataset:\n",
    "    X_train = np.array(dataset['X_train'])\n",
    "    y_train = np.array(dataset['Y_train'])\n",
    "    X_valid = np.array(dataset['X_valid'])\n",
    "    y_valid = np.array(dataset['Y_valid'])\n",
    "    X_test = np.array(dataset['X_test'])\n",
    "    y_test = np.array(dataset['Y_test'])"
   ]
  },
  {
   "cell_type": "code",
   "execution_count": 4,
   "id": "a23cf1a6",
   "metadata": {},
   "outputs": [
    {
     "data": {
      "text/plain": [
       "((437478, 4, 600),\n",
       " (437478, 164),\n",
       " (16410, 4, 600),\n",
       " (16410, 164),\n",
       " (16703, 4, 600),\n",
       " (16703, 164))"
      ]
     },
     "execution_count": 4,
     "metadata": {},
     "output_type": "execute_result"
    }
   ],
   "source": [
    "# Check the shape of the data\n",
    "X_train.shape, y_train.shape, X_valid.shape, y_valid.shape, X_test.shape, y_test.shape"
   ]
  },
  {
   "cell_type": "code",
   "execution_count": 5,
   "id": "366be40c",
   "metadata": {},
   "outputs": [
    {
     "data": {
      "text/plain": [
       "(4.1997888, 4.199788944)"
      ]
     },
     "execution_count": 5,
     "metadata": {},
     "output_type": "execute_result"
    }
   ],
   "source": [
    "# Check training dataset size in mem (GBs)\n",
    "import sys\n",
    "X_train.nbytes / 1e9, sys.getsizeof(X_train) / 1e9"
   ]
  },
  {
   "attachments": {},
   "cell_type": "markdown",
   "id": "80d8abef-62d6-47be-90d9-b02ddb55fec9",
   "metadata": {
    "id": "JsllXGpZ-tyB"
   },
   "source": [
    "# Instantiate model"
   ]
  },
  {
   "cell_type": "code",
   "execution_count": 6,
   "id": "4ab1f512-1f1b-49d7-9c1a-5d74bb63b29d",
   "metadata": {
    "execution": {
     "iopub.execute_input": "2022-12-20T01:27:50.590512Z",
     "iopub.status.busy": "2022-12-20T01:27:50.590297Z",
     "iopub.status.idle": "2022-12-20T01:27:53.863495Z",
     "shell.execute_reply": "2022-12-20T01:27:53.863001Z",
     "shell.execute_reply.started": "2022-12-20T01:27:50.590495Z"
    },
    "id": "fwxajn6z-tyB",
    "tags": []
   },
   "outputs": [
    {
     "name": "stderr",
     "output_type": "stream",
     "text": [
      "OMP: Info #276: omp_set_nested routine deprecated, please use omp_set_max_active_levels instead.\n"
     ]
    }
   ],
   "source": [
    "from eugene.models.zoo import Basset"
   ]
  },
  {
   "cell_type": "code",
   "execution_count": 8,
   "id": "9d4e6b42-c0c0-418f-abba-a0e89c609dbf",
   "metadata": {
    "execution": {
     "iopub.execute_input": "2022-12-20T01:59:35.591195Z",
     "iopub.status.busy": "2022-12-20T01:59:35.590850Z",
     "iopub.status.idle": "2022-12-20T01:59:40.255932Z",
     "shell.execute_reply": "2022-12-20T01:59:40.255407Z",
     "shell.execute_reply.started": "2022-12-20T01:59:35.591176Z"
    },
    "id": "lXALE6P6-tyB",
    "tags": []
   },
   "outputs": [
    {
     "data": {
      "text/plain": [
       "Basset(\n",
       "  (conv1d_tower): Conv1DTower(\n",
       "    (layers): Sequential(\n",
       "      (0): Conv1d(4, 300, kernel_size=(19,), stride=(1,), padding=(9,))\n",
       "      (1): BatchNorm1d(300, eps=1e-05, momentum=0.1, affine=True, track_running_stats=True)\n",
       "      (2): ReLU()\n",
       "      (3): MaxPool1d(kernel_size=3, stride=1, padding=0, dilation=1, ceil_mode=False)\n",
       "      (4): Conv1d(300, 200, kernel_size=(11,), stride=(1,), padding=(5,))\n",
       "      (5): BatchNorm1d(200, eps=1e-05, momentum=0.1, affine=True, track_running_stats=True)\n",
       "      (6): ReLU()\n",
       "      (7): MaxPool1d(kernel_size=4, stride=1, padding=0, dilation=1, ceil_mode=False)\n",
       "      (8): Conv1d(200, 200, kernel_size=(7,), stride=(1,), padding=(3,))\n",
       "      (9): BatchNorm1d(200, eps=1e-05, momentum=0.1, affine=True, track_running_stats=True)\n",
       "      (10): ReLU()\n",
       "      (11): MaxPool1d(kernel_size=4, stride=1, padding=0, dilation=1, ceil_mode=False)\n",
       "    )\n",
       "  )\n",
       "  (dense_block): DenseBlock(\n",
       "    (layers): Sequential(\n",
       "      (0): Linear(in_features=118400, out_features=1000, bias=True)\n",
       "      (1): BatchNorm1d(1000, eps=1e-05, momentum=0.1, affine=True, track_running_stats=True)\n",
       "      (2): ReLU()\n",
       "      (3): Linear(in_features=1000, out_features=164, bias=True)\n",
       "      (4): BatchNorm1d(164, eps=1e-05, momentum=0.1, affine=True, track_running_stats=True)\n",
       "      (5): ReLU()\n",
       "      (6): Linear(in_features=164, out_features=164, bias=True)\n",
       "    )\n",
       "  )\n",
       ")"
      ]
     },
     "execution_count": 8,
     "metadata": {},
     "output_type": "execute_result"
    }
   ],
   "source": [
    "arch = Basset(\n",
    "    input_len=600, \n",
    "    output_dim=164\n",
    ")\n",
    "arch"
   ]
  },
  {
   "cell_type": "code",
   "execution_count": 9,
   "id": "ec6b9259",
   "metadata": {},
   "outputs": [],
   "source": [
    "from eugene.models import SequenceModule"
   ]
  },
  {
   "cell_type": "code",
   "execution_count": 10,
   "id": "452810e8",
   "metadata": {},
   "outputs": [],
   "source": [
    "model = SequenceModule(\n",
    "    arch=arch,\n",
    "    task=\"multilabel_classification\",\n",
    "    loss_fxn=\"bce\",\n",
    "    optimizer=\"adam\",\n",
    "    metric_kwargs={\n",
    "        \"task\": \"multilabel\",\n",
    "        \"num_labels\": 164\n",
    "    }\n",
    ")"
   ]
  },
  {
   "cell_type": "code",
   "execution_count": 11,
   "id": "d3ce8d36",
   "metadata": {},
   "outputs": [],
   "source": [
    "from eugene.models import init_weights"
   ]
  },
  {
   "cell_type": "code",
   "execution_count": 12,
   "id": "8fccc503",
   "metadata": {},
   "outputs": [],
   "source": [
    "init_weights(model)"
   ]
  },
  {
   "cell_type": "code",
   "execution_count": 13,
   "id": "1c361738-65d2-400c-aa5d-c9881143366a",
   "metadata": {
    "execution": {
     "iopub.execute_input": "2022-12-20T02:00:11.084802Z",
     "iopub.status.busy": "2022-12-20T02:00:11.084156Z",
     "iopub.status.idle": "2022-12-20T02:00:14.432587Z",
     "shell.execute_reply": "2022-12-20T02:00:14.431976Z",
     "shell.execute_reply.started": "2022-12-20T02:00:11.084782Z"
    },
    "tags": []
   },
   "outputs": [
    {
     "name": "stdout",
     "output_type": "stream",
     "text": [
      "Model: Basset\n",
      "Sequence length: 600\n",
      "Output dimension: 164\n",
      "Task: multilabel_classification\n",
      "Loss function: binary_cross_entropy_with_logits\n",
      "Optimizer: Adam\n",
      "\tOptimizer parameters: {}\n",
      "\tOptimizer starting learning rate: 0.001\n",
      "Scheduler: None\n",
      "\tScheduler parameters: {}\n",
      "Metric: auroc\n",
      "\tMetric parameters: {'task': 'multilabel', 'num_labels': 164}\n",
      "Seed: None\n",
      "Parameters summary:\n"
     ]
    },
    {
     "data": {
      "text/plain": [
       "  | Name         | Type            | Params\n",
       "-------------------------------------------------\n",
       "0 | arch         | Basset          | 119 M \n",
       "1 | train_metric | MultilabelAUROC | 0     \n",
       "2 | val_metric   | MultilabelAUROC | 0     \n",
       "3 | test_metric  | MultilabelAUROC | 0     \n",
       "-------------------------------------------------\n",
       "119 M     Trainable params\n",
       "0         Non-trainable params\n",
       "119 M     Total params\n",
       "478.238   Total estimated model params size (MB)"
      ]
     },
     "execution_count": 13,
     "metadata": {},
     "output_type": "execute_result"
    }
   ],
   "source": [
    "model.summary()"
   ]
  },
  {
   "attachments": {},
   "cell_type": "markdown",
   "id": "0d368bf2-4cbe-47c7-9752-1c59ad270251",
   "metadata": {
    "id": "1hAUZjIs-tyC"
   },
   "source": [
    "# Build dataloader"
   ]
  },
  {
   "cell_type": "code",
   "execution_count": 16,
   "id": "add6d470",
   "metadata": {},
   "outputs": [],
   "source": [
    "import seqdata as sd\n",
    "import xarray as xr"
   ]
  },
  {
   "cell_type": "code",
   "execution_count": 27,
   "id": "4001c01e",
   "metadata": {},
   "outputs": [],
   "source": [
    "train_sdata = xr.Dataset(\n",
    "    {\n",
    "        \"ohe_seq\": ([\"_sequence\", \"_ohe\", \"_length\"], X_train),\n",
    "        \"target\": ([\"_sequence\", \"_targets\"], y_train),\n",
    "    }\n",
    ")\n",
    "\n",
    "valid_sdata = xr.Dataset(\n",
    "    {\n",
    "        \"ohe_seq\": ([\"_sequence\", \"_ohe\", \"_length\"], X_valid),\n",
    "        \"target\": ([\"_sequence\", \"_targets\"], y_valid),\n",
    "\n",
    "    }\n",
    ")"
   ]
  },
  {
   "cell_type": "code",
   "execution_count": 28,
   "id": "aa4b454c",
   "metadata": {},
   "outputs": [],
   "source": [
    "train_dl = sd.get_torch_dataloader(\n",
    "    train_sdata,\n",
    "    batch_size=100,\n",
    "    sample_dims=\"_sequence\",\n",
    "    variables=[\"ohe_seq\", \"target\"],\n",
    "    shuffle=True,\n",
    "    num_workers=4,\n",
    "    prefetch_factor=2,\n",
    ")\n",
    "\n",
    "val_dl = sd.get_torch_dataloader(\n",
    "    valid_sdata,\n",
    "    batch_size=100,\n",
    "    sample_dims=\"_sequence\",\n",
    "    variables=[\"ohe_seq\", \"target\"],\n",
    "    shuffle=False,\n",
    "    num_workers=4,\n",
    "    prefetch_factor=2,\n",
    ")"
   ]
  },
  {
   "cell_type": "code",
   "execution_count": 29,
   "id": "bb4c2753",
   "metadata": {},
   "outputs": [
    {
     "data": {
      "text/plain": [
       "(torch.Size([100, 4, 600]), torch.Size([100, 164]))"
      ]
     },
     "execution_count": 29,
     "metadata": {},
     "output_type": "execute_result"
    }
   ],
   "source": [
    "batch = next(iter(train_dl))\n",
    "batch[\"ohe_seq\"].shape, batch[\"target\"].shape"
   ]
  },
  {
   "cell_type": "code",
   "execution_count": 30,
   "id": "fb813d7e",
   "metadata": {},
   "outputs": [],
   "source": [
    "from eugene import train"
   ]
  },
  {
   "cell_type": "code",
   "execution_count": 35,
   "id": "43730729",
   "metadata": {},
   "outputs": [
    {
     "name": "stderr",
     "output_type": "stream",
     "text": [
      "[rank: 0] Global seed set to 13\n",
      "/cellar/users/aklie/opt/miniconda3/envs/ml4gland/lib/python3.9/site-packages/lightning_fabric/plugins/environments/slurm.py:165: PossibleUserWarning: The `srun` command is available on your system but is not used. HINT: If your intention is to run Lightning on SLURM, prepend your python command with `srun` like so: srun python /cellar/users/aklie/opt/miniconda3/envs/ml4gland/lib ...\n",
      "  rank_zero_warn(\n",
      "GPU available: True (cuda), used: True\n",
      "TPU available: False, using: 0 TPU cores\n",
      "IPU available: False, using: 0 IPUs\n",
      "HPU available: False, using: 0 HPUs\n",
      "/cellar/users/aklie/opt/miniconda3/envs/ml4gland/lib/python3.9/site-packages/lightning_fabric/plugins/environments/slurm.py:165: PossibleUserWarning: The `srun` command is available on your system but is not used. HINT: If your intention is to run Lightning on SLURM, prepend your python command with `srun` like so: srun python /cellar/users/aklie/opt/miniconda3/envs/ml4gland/lib ...\n",
      "  rank_zero_warn(\n",
      "LOCAL_RANK: 0 - CUDA_VISIBLE_DEVICES: [0]\n",
      "\n",
      "  | Name         | Type            | Params\n",
      "-------------------------------------------------\n",
      "0 | arch         | Basset          | 119 M \n",
      "1 | train_metric | MultilabelAUROC | 0     \n",
      "2 | val_metric   | MultilabelAUROC | 0     \n",
      "3 | test_metric  | MultilabelAUROC | 0     \n",
      "-------------------------------------------------\n",
      "119 M     Trainable params\n",
      "0         Non-trainable params\n",
      "119 M     Total params\n",
      "478.238   Total estimated model params size (MB)\n"
     ]
    },
    {
     "data": {
      "application/vnd.jupyter.widget-view+json": {
       "model_id": "0e1900b1383c43f580730e8ef0428a86",
       "version_major": 2,
       "version_minor": 0
      },
      "text/plain": [
       "Sanity Checking: 0it [00:00, ?it/s]"
      ]
     },
     "metadata": {},
     "output_type": "display_data"
    },
    {
     "data": {
      "application/vnd.jupyter.widget-view+json": {
       "model_id": "e650f44c7f8d49949715b764c6534eb2",
       "version_major": 2,
       "version_minor": 0
      },
      "text/plain": [
       "Training: 0it [00:00, ?it/s]"
      ]
     },
     "metadata": {},
     "output_type": "display_data"
    },
    {
     "name": "stderr",
     "output_type": "stream",
     "text": [
      "/cellar/users/aklie/opt/miniconda3/envs/ml4gland/lib/python3.9/site-packages/torchmetrics/utilities/prints.py:36: UserWarning: No positive samples in targets, true positive value should be meaningless. Returning zero tensor in true positive score\n",
      "  warnings.warn(*args, **kwargs)\n"
     ]
    },
    {
     "data": {
      "application/vnd.jupyter.widget-view+json": {
       "model_id": "7e3d9453f62f413a9df7e385ff4d3de0",
       "version_major": 2,
       "version_minor": 0
      },
      "text/plain": [
       "Validation: 0it [00:00, ?it/s]"
      ]
     },
     "metadata": {},
     "output_type": "display_data"
    },
    {
     "data": {
      "application/vnd.jupyter.widget-view+json": {
       "model_id": "a79a1da6e25a477c86bb92f75fdcd2df",
       "version_major": 2,
       "version_minor": 0
      },
      "text/plain": [
       "Validation: 0it [00:00, ?it/s]"
      ]
     },
     "metadata": {},
     "output_type": "display_data"
    },
    {
     "data": {
      "application/vnd.jupyter.widget-view+json": {
       "model_id": "6c38f1190a7146ed9920240458f9cd90",
       "version_major": 2,
       "version_minor": 0
      },
      "text/plain": [
       "Validation: 0it [00:00, ?it/s]"
      ]
     },
     "metadata": {},
     "output_type": "display_data"
    },
    {
     "data": {
      "application/vnd.jupyter.widget-view+json": {
       "model_id": "0ad646f38acb41ffa9453e388e094bef",
       "version_major": 2,
       "version_minor": 0
      },
      "text/plain": [
       "Validation: 0it [00:00, ?it/s]"
      ]
     },
     "metadata": {},
     "output_type": "display_data"
    },
    {
     "data": {
      "application/vnd.jupyter.widget-view+json": {
       "model_id": "10a53373d7f4467cab8cf805002ffe9a",
       "version_major": 2,
       "version_minor": 0
      },
      "text/plain": [
       "Validation: 0it [00:00, ?it/s]"
      ]
     },
     "metadata": {},
     "output_type": "display_data"
    },
    {
     "data": {
      "application/vnd.jupyter.widget-view+json": {
       "model_id": "8c67b33537ce4ef7961a94e2d60c4076",
       "version_major": 2,
       "version_minor": 0
      },
      "text/plain": [
       "Validation: 0it [00:00, ?it/s]"
      ]
     },
     "metadata": {},
     "output_type": "display_data"
    },
    {
     "data": {
      "application/vnd.jupyter.widget-view+json": {
       "model_id": "9980a1e5f632419f968de40f6430abc8",
       "version_major": 2,
       "version_minor": 0
      },
      "text/plain": [
       "Validation: 0it [00:00, ?it/s]"
      ]
     },
     "metadata": {},
     "output_type": "display_data"
    },
    {
     "data": {
      "application/vnd.jupyter.widget-view+json": {
       "model_id": "a2d8a00c812946c78d957d9edfd0b7d3",
       "version_major": 2,
       "version_minor": 0
      },
      "text/plain": [
       "Validation: 0it [00:00, ?it/s]"
      ]
     },
     "metadata": {},
     "output_type": "display_data"
    },
    {
     "data": {
      "application/vnd.jupyter.widget-view+json": {
       "model_id": "bfcd07ecf5a64ec699a165b0a37085ab",
       "version_major": 2,
       "version_minor": 0
      },
      "text/plain": [
       "Validation: 0it [00:00, ?it/s]"
      ]
     },
     "metadata": {},
     "output_type": "display_data"
    },
    {
     "data": {
      "application/vnd.jupyter.widget-view+json": {
       "model_id": "39dddfb9dcb649838859a3b058aaf698",
       "version_major": 2,
       "version_minor": 0
      },
      "text/plain": [
       "Validation: 0it [00:00, ?it/s]"
      ]
     },
     "metadata": {},
     "output_type": "display_data"
    },
    {
     "data": {
      "application/vnd.jupyter.widget-view+json": {
       "model_id": "4847f72ddea040579959db298c7de639",
       "version_major": 2,
       "version_minor": 0
      },
      "text/plain": [
       "Validation: 0it [00:00, ?it/s]"
      ]
     },
     "metadata": {},
     "output_type": "display_data"
    },
    {
     "data": {
      "application/vnd.jupyter.widget-view+json": {
       "model_id": "eef8f219970a4331a23d72fd58029e2a",
       "version_major": 2,
       "version_minor": 0
      },
      "text/plain": [
       "Validation: 0it [00:00, ?it/s]"
      ]
     },
     "metadata": {},
     "output_type": "display_data"
    },
    {
     "data": {
      "application/vnd.jupyter.widget-view+json": {
       "model_id": "5b89b4ff897446bf913900acc120c54d",
       "version_major": 2,
       "version_minor": 0
      },
      "text/plain": [
       "Validation: 0it [00:00, ?it/s]"
      ]
     },
     "metadata": {},
     "output_type": "display_data"
    }
   ],
   "source": [
    "train.fit(\n",
    "    model=model,\n",
    "    train_dataloader=train_dl,\n",
    "    val_dataloader=val_dl,\n",
    "    epochs=100,\n",
    "    gpus=1,\n",
    "    logger=\"tensorboard\",\n",
    "    log_dir=\"/cellar/users/aklie/projects/ML4GLand/models/\",  # TODO: change to your own path\n",
    "    name=\"Basset\",\n",
    "    version=time.strftime(\"%Y-%m-%d_%H-%M-%S\"),\n",
    "    early_stopping_patience=10,\n",
    "    seed=13\n",
    ")"
   ]
  },
  {
   "cell_type": "code",
   "execution_count": 13,
   "id": "37055696-d53f-47b3-bfe1-e499ada5b168",
   "metadata": {
    "execution": {
     "iopub.execute_input": "2022-12-20T03:59:28.037764Z",
     "iopub.status.busy": "2022-12-20T03:59:28.037576Z",
     "iopub.status.idle": "2022-12-20T03:59:31.537648Z",
     "shell.execute_reply": "2022-12-20T03:59:31.536931Z",
     "shell.execute_reply.started": "2022-12-20T03:59:28.037747Z"
    },
    "tags": []
   },
   "outputs": [],
   "source": [
    "import pytorch_lightning as pl"
   ]
  },
  {
   "cell_type": "code",
   "execution_count": 75,
   "id": "87850c72-dcfc-4b39-92ec-b2df58f796f4",
   "metadata": {
    "execution": {
     "iopub.execute_input": "2022-12-20T01:46:50.116800Z",
     "iopub.status.busy": "2022-12-20T01:46:50.116506Z",
     "iopub.status.idle": "2022-12-20T01:46:52.305417Z",
     "shell.execute_reply": "2022-12-20T01:46:52.304867Z",
     "shell.execute_reply.started": "2022-12-20T01:46:50.116780Z"
    },
    "tags": []
   },
   "outputs": [],
   "source": [
    "callback_topmodel = pl.callbacks.ModelCheckpoint(monitor='val_loss', \n",
    "                                                 save_top_k=1, \n",
    "                                                 dirpath=\"eugene_logs\", \n",
    "                                                 filename=\"Basset\")\n",
    "callback_es = pl.callbacks.early_stopping.EarlyStopping(monitor='val_loss', patience=10)"
   ]
  },
  {
   "cell_type": "code",
   "execution_count": 76,
   "id": "4c764899-ab12-431e-b17e-e9889dd6b99c",
   "metadata": {
    "execution": {
     "iopub.execute_input": "2022-12-20T01:46:52.306573Z",
     "iopub.status.busy": "2022-12-20T01:46:52.306269Z",
     "iopub.status.idle": "2022-12-20T01:46:54.748236Z",
     "shell.execute_reply": "2022-12-20T01:46:54.747817Z",
     "shell.execute_reply.started": "2022-12-20T01:46:52.306556Z"
    },
    "tags": []
   },
   "outputs": [
    {
     "name": "stderr",
     "output_type": "stream",
     "text": [
      "GPU available: True, used: True\n",
      "TPU available: False, using: 0 TPU cores\n",
      "IPU available: False, using: 0 IPUs\n"
     ]
    }
   ],
   "source": [
    "logger = pl.loggers.TensorBoardLogger(save_dir=\"eugene_logs\")\n",
    "trainer = pl.Trainer(gpus=1, max_epochs=100, auto_select_gpus=True, logger=logger, callbacks=[callback_es, callback_topmodel])"
   ]
  },
  {
   "cell_type": "code",
   "execution_count": 3,
   "id": "2b83fb00-b7ed-4e9b-88c3-76780b465e6f",
   "metadata": {
    "execution": {
     "iopub.execute_input": "2022-12-20T03:55:13.798098Z",
     "iopub.status.busy": "2022-12-20T03:55:13.797859Z",
     "iopub.status.idle": "2022-12-20T03:55:17.054469Z",
     "shell.execute_reply": "2022-12-20T03:55:17.053794Z",
     "shell.execute_reply.started": "2022-12-20T03:55:13.798080Z"
    },
    "tags": []
   },
   "outputs": [],
   "source": [
    "# Fit to data\n",
    "trainer.fit(model, datamodule=data_module)"
   ]
  },
  {
   "cell_type": "code",
   "execution_count": 7,
   "id": "157a26dc-7631-4a15-a9f4-ae5ea97cd4f5",
   "metadata": {
    "execution": {
     "iopub.execute_input": "2022-12-20T03:57:23.624869Z",
     "iopub.status.busy": "2022-12-20T03:57:23.624321Z",
     "iopub.status.idle": "2022-12-20T03:57:28.995372Z",
     "shell.execute_reply": "2022-12-20T03:57:28.994720Z",
     "shell.execute_reply.started": "2022-12-20T03:57:23.624847Z"
    },
    "tags": []
   },
   "outputs": [
    {
     "data": {
      "image/png": "[encoded data removed]",
      "text/plain": [
       "<Figure size 864x432 with 2 Axes>"
      ]
     },
     "metadata": {
      "needs_background": "light"
     },
     "output_type": "display_data"
    }
   ],
   "source": [
    "eu.pl.training_summary(\"eugene_logs/default/version_1/\", metric=\"auroc\")"
   ]
  },
  {
   "attachments": {},
   "cell_type": "markdown",
   "id": "5ed66e40-ff07-445e-a34f-00c95177f764",
   "metadata": {},
   "source": [
    "# Evaluate model"
   ]
  },
  {
   "cell_type": "code",
   "execution_count": 4,
   "id": "27804ef5-bf48-4c68-b5ad-faa4f492bb4e",
   "metadata": {
    "execution": {
     "iopub.execute_input": "2022-12-20T03:56:25.031642Z",
     "iopub.status.busy": "2022-12-20T03:56:25.030948Z",
     "iopub.status.idle": "2022-12-20T03:56:28.636330Z",
     "shell.execute_reply": "2022-12-20T03:56:28.635833Z",
     "shell.execute_reply.started": "2022-12-20T03:56:25.031619Z"
    },
    "tags": []
   },
   "outputs": [],
   "source": [
    "MODEL_PATH = \"/cellar/users/aklie/projects/EUGENe_use_cases/kelley16/eugene_logs/Basset.ckpt\""
   ]
  },
  {
   "cell_type": "code",
   "execution_count": 5,
   "id": "2cdffc1a-3e45-460d-a878-b59cd62e93bc",
   "metadata": {
    "execution": {
     "iopub.execute_input": "2022-12-20T03:56:28.639255Z",
     "iopub.status.busy": "2022-12-20T03:56:28.638789Z",
     "iopub.status.idle": "2022-12-20T03:56:35.120192Z",
     "shell.execute_reply": "2022-12-20T03:56:35.119578Z",
     "shell.execute_reply.started": "2022-12-20T03:56:28.639233Z"
    },
    "tags": []
   },
   "outputs": [
    {
     "name": "stdout",
     "output_type": "stream",
     "text": [
      "None {'num_classes': 164} multilabel_classification\n",
      "auroc\n",
      "{'num_classes': 164}\n",
      "AUROC()\n",
      "{'regression': {}, 'binary_classification': {'task': 'binary'}, 'multiclass_classification': {'task': 'multiclass'}, 'multilabel_classification': {'task': 'multilabel'}}\n"
     ]
    },
    {
     "name": "stderr",
     "output_type": "stream",
     "text": [
      "/cellar/users/aklie/opt/miniconda3/envs/eugene_dev/lib/python3.7/site-packages/torchmetrics/utilities/prints.py:36: UserWarning: Metric `AUROC` will save all targets and predictions in buffer. For large datasets this may lead to large memory footprint.\n",
      "  warnings.warn(*args, **kwargs)\n"
     ]
    }
   ],
   "source": [
    "best_model = eu.models.Basset.load_from_checkpoint(MODEL_PATH)"
   ]
  },
  {
   "cell_type": "code",
   "execution_count": 36,
   "id": "b14043aa-d393-4ecc-9808-8eb18f674582",
   "metadata": {
    "execution": {
     "iopub.execute_input": "2022-12-20T04:06:20.591684Z",
     "iopub.status.busy": "2022-12-20T04:06:20.591454Z",
     "iopub.status.idle": "2022-12-20T04:06:24.383120Z",
     "shell.execute_reply": "2022-12-20T04:06:24.382519Z",
     "shell.execute_reply.started": "2022-12-20T04:06:20.591666Z"
    },
    "tags": []
   },
   "outputs": [
    {
     "data": {
      "text/plain": [
       "array([[0., 0., 0., ..., 0., 0., 0.],\n",
       "       [0., 0., 0., ..., 0., 0., 0.],\n",
       "       [0., 0., 0., ..., 0., 0., 0.],\n",
       "       ...,\n",
       "       [0., 0., 0., ..., 0., 0., 0.],\n",
       "       [0., 0., 0., ..., 0., 0., 0.],\n",
       "       [0., 1., 0., ..., 0., 0., 0.]], dtype=float32)"
      ]
     },
     "execution_count": 36,
     "metadata": {},
     "output_type": "execute_result"
    }
   ],
   "source": [
    "data_module.y_test"
   ]
  },
  {
   "cell_type": "code",
   "execution_count": 16,
   "id": "86857f29-1786-4122-bb17-00a97752a34c",
   "metadata": {
    "execution": {
     "iopub.execute_input": "2022-12-20T04:01:51.820802Z",
     "iopub.status.busy": "2022-12-20T04:01:51.820462Z",
     "iopub.status.idle": "2022-12-20T04:01:55.758017Z",
     "shell.execute_reply": "2022-12-20T04:01:55.757357Z",
     "shell.execute_reply.started": "2022-12-20T04:01:51.820772Z"
    },
    "tags": []
   },
   "outputs": [],
   "source": [
    "from torchvision import transforms\n",
    "from eugene.dataload import ToTensor"
   ]
  },
  {
   "cell_type": "code",
   "execution_count": 46,
   "id": "f4a4faee-91fe-40a1-9f1d-9e3bd596cd28",
   "metadata": {
    "execution": {
     "iopub.execute_input": "2022-12-20T04:09:06.772052Z",
     "iopub.status.busy": "2022-12-20T04:09:06.771639Z",
     "iopub.status.idle": "2022-12-20T04:09:09.792858Z",
     "shell.execute_reply": "2022-12-20T04:09:09.792435Z",
     "shell.execute_reply.started": "2022-12-20T04:09:06.772031Z"
    },
    "tags": []
   },
   "outputs": [],
   "source": [
    "sdataset = eu.dl.SeqDataset(\n",
    "    seqs=data_module.x_test, \n",
    "    targets=data_module.y_test, \n",
    "    names=np.array([f\"seq{i}\" for i in range(len(data_module.x_test))]),\n",
    "    transform=transforms.Compose([ToTensor()])\n",
    ")"
   ]
  },
  {
   "cell_type": "code",
   "execution_count": 47,
   "id": "ad29563d-e12b-4910-9ac5-287f923b1596",
   "metadata": {
    "execution": {
     "iopub.execute_input": "2022-12-20T04:09:12.127892Z",
     "iopub.status.busy": "2022-12-20T04:09:12.127725Z",
     "iopub.status.idle": "2022-12-20T04:09:15.098386Z",
     "shell.execute_reply": "2022-12-20T04:09:15.097919Z",
     "shell.execute_reply.started": "2022-12-20T04:09:12.127875Z"
    }
   },
   "outputs": [
    {
     "data": {
      "text/plain": [
       "(tensor([115., 101., 113.,  48.,  36.,  36.,  36.,  36.]),\n",
       " tensor([[1., 0., 0.,  ..., 1., 0., 1.],\n",
       "         [0., 0., 0.,  ..., 0., 0., 0.],\n",
       "         [0., 0., 0.,  ..., 0., 0., 0.],\n",
       "         [0., 1., 1.,  ..., 0., 1., 0.]]),\n",
       " tensor([-1.]),\n",
       " tensor([0., 0., 0., 0., 0., 0., 0., 0., 0., 0., 0., 0., 0., 0., 0., 0., 0., 0.,\n",
       "         0., 0., 0., 0., 0., 0., 0., 0., 0., 0., 0., 0., 0., 1., 0., 0., 0., 0.,\n",
       "         0., 0., 0., 0., 0., 0., 0., 0., 0., 0., 0., 0., 0., 0., 0., 0., 0., 0.,\n",
       "         0., 0., 0., 0., 0., 0., 0., 0., 0., 0., 0., 0., 0., 0., 0., 0., 0., 0.,\n",
       "         0., 0., 0., 0., 0., 0., 0., 0., 0., 0., 0., 0., 0., 0., 0., 0., 0., 0.,\n",
       "         0., 0., 0., 0., 0., 0., 0., 0., 0., 0., 0., 0., 0., 0., 0., 0., 0., 0.,\n",
       "         0., 0., 0., 0., 0., 0., 0., 0., 0., 0., 0., 0., 0., 0., 0., 0., 0., 0.,\n",
       "         0., 0., 0., 0., 0., 0., 0., 0., 0., 0., 0., 0., 0., 0., 0., 0., 0., 0.,\n",
       "         0., 0., 0., 0., 0., 0., 0., 0., 0., 0., 0., 0., 0., 0., 0., 0., 0., 0.,\n",
       "         0., 0.]))"
      ]
     },
     "execution_count": 47,
     "metadata": {},
     "output_type": "execute_result"
    }
   ],
   "source": [
    "sdataset[0]"
   ]
  },
  {
   "cell_type": "code",
   "execution_count": 48,
   "id": "43c8eee1-fb83-4789-ab65-a2a8a2040793",
   "metadata": {
    "execution": {
     "iopub.execute_input": "2022-12-20T04:09:18.591849Z",
     "iopub.status.busy": "2022-12-20T04:09:18.591555Z",
     "iopub.status.idle": "2022-12-20T04:09:22.503988Z",
     "shell.execute_reply": "2022-12-20T04:09:22.503469Z",
     "shell.execute_reply.started": "2022-12-20T04:09:18.591829Z"
    },
    "tags": []
   },
   "outputs": [],
   "source": [
    "sdataloader = sdataset.to_dataloader(batch_size=128, shuffle=False)"
   ]
  },
  {
   "cell_type": "code",
   "execution_count": 49,
   "id": "b65c4708-ca99-44a1-9c8e-0fbc301a233a",
   "metadata": {
    "execution": {
     "iopub.execute_input": "2022-12-20T04:09:22.984679Z",
     "iopub.status.busy": "2022-12-20T04:09:22.984514Z",
     "iopub.status.idle": "2022-12-20T04:09:26.849138Z",
     "shell.execute_reply": "2022-12-20T04:09:26.848722Z",
     "shell.execute_reply.started": "2022-12-20T04:09:22.984663Z"
    },
    "tags": []
   },
   "outputs": [
    {
     "name": "stderr",
     "output_type": "stream",
     "text": [
      "GPU available: True, used: True\n",
      "TPU available: False, using: 0 TPU cores\n",
      "IPU available: False, using: 0 IPUs\n"
     ]
    }
   ],
   "source": [
    "trainer = pl.Trainer(gpus=1, auto_select_gpus=True, logger=None)"
   ]
  },
  {
   "cell_type": "code",
   "execution_count": 54,
   "id": "6e5efb10-7a38-4f8e-9f02-fb2d2810efe7",
   "metadata": {
    "execution": {
     "iopub.execute_input": "2022-12-20T04:10:21.642952Z",
     "iopub.status.busy": "2022-12-20T04:10:21.642703Z",
     "iopub.status.idle": "2022-12-20T04:10:32.026569Z",
     "shell.execute_reply": "2022-12-20T04:10:32.026034Z",
     "shell.execute_reply.started": "2022-12-20T04:10:21.642934Z"
    },
    "tags": []
   },
   "outputs": [
    {
     "name": "stderr",
     "output_type": "stream",
     "text": [
      "LOCAL_RANK: 0 - CUDA_VISIBLE_DEVICES: [0]\n"
     ]
    },
    {
     "data": {
      "application/vnd.jupyter.widget-view+json": {
       "model_id": "3613753018894767abdcfbc22e3ca6e2",
       "version_major": 2,
       "version_minor": 0
      },
      "text/plain": [
       "Predicting: 0it [00:00, ?it/s]"
      ]
     },
     "metadata": {},
     "output_type": "display_data"
    }
   ],
   "source": [
    "pred = np.concatenate(trainer.predict(best_model, dataloaders=sdataloader))"
   ]
  },
  {
   "cell_type": "code",
   "execution_count": 64,
   "id": "88de3931-4b03-4243-b74c-44e4b7db20fe",
   "metadata": {
    "execution": {
     "iopub.execute_input": "2022-12-20T04:14:47.591159Z",
     "iopub.status.busy": "2022-12-20T04:14:47.590961Z",
     "iopub.status.idle": "2022-12-20T04:14:53.616885Z",
     "shell.execute_reply": "2022-12-20T04:14:53.616345Z",
     "shell.execute_reply.started": "2022-12-20T04:14:47.591142Z"
    },
    "tags": []
   },
   "outputs": [],
   "source": [
    "preds = pred[:, 1:165].astype(np.float32)\n",
    "trues = pred[:, 165:].astype(np.float32)\n",
    "ids = pred[:, 1]"
   ]
  },
  {
   "cell_type": "code",
   "execution_count": 65,
   "id": "4e7f7b6f-33d8-4ceb-aa8b-ad2de12b0e4f",
   "metadata": {
    "execution": {
     "iopub.execute_input": "2022-12-20T04:14:55.028125Z",
     "iopub.status.busy": "2022-12-20T04:14:55.027814Z",
     "iopub.status.idle": "2022-12-20T04:14:58.812207Z",
     "shell.execute_reply": "2022-12-20T04:14:58.811739Z",
     "shell.execute_reply.started": "2022-12-20T04:14:55.028107Z"
    },
    "tags": []
   },
   "outputs": [
    {
     "data": {
      "text/plain": [
       "array([[-4.5189333, -4.5125437, -3.7900558, ..., -3.0956502, -3.6418533,\n",
       "        -4.6703386],\n",
       "       [-2.5667593, -5.189077 , -2.7265296, ..., -3.2501156, -3.4317393,\n",
       "        -4.0454507],\n",
       "       [-6.031025 , -4.0759897, -5.158294 , ..., -3.22485  , -4.0770197,\n",
       "        -4.8552556],\n",
       "       ...,\n",
       "       [-2.4186454, -3.8015072, -2.6640704, ..., -2.250576 , -2.9372458,\n",
       "        -3.97238  ],\n",
       "       [-5.2373266, -4.0637956, -4.5207825, ..., -3.826011 , -4.3333616,\n",
       "        -4.6849017],\n",
       "       [-2.3885746, -0.86989  , -2.1702073, ..., -2.147847 , -1.6390084,\n",
       "        -2.1693165]], dtype=float32)"
      ]
     },
     "execution_count": 65,
     "metadata": {},
     "output_type": "execute_result"
    }
   ],
   "source": [
    "preds"
   ]
  },
  {
   "cell_type": "code",
   "execution_count": 66,
   "id": "f27df086-96a4-40b2-8821-5f5e58b3eacb",
   "metadata": {
    "execution": {
     "iopub.execute_input": "2022-12-20T04:14:58.813201Z",
     "iopub.status.busy": "2022-12-20T04:14:58.813012Z",
     "iopub.status.idle": "2022-12-20T04:15:03.000271Z",
     "shell.execute_reply": "2022-12-20T04:15:02.999804Z",
     "shell.execute_reply.started": "2022-12-20T04:14:58.813183Z"
    },
    "tags": []
   },
   "outputs": [
    {
     "data": {
      "text/plain": [
       "array([[0., 0., 0., ..., 0., 0., 0.],\n",
       "       [0., 0., 0., ..., 0., 0., 0.],\n",
       "       [0., 0., 0., ..., 0., 0., 0.],\n",
       "       ...,\n",
       "       [0., 0., 0., ..., 0., 0., 0.],\n",
       "       [0., 0., 0., ..., 0., 0., 0.],\n",
       "       [0., 1., 0., ..., 0., 0., 0.]], dtype=float32)"
      ]
     },
     "execution_count": 66,
     "metadata": {},
     "output_type": "execute_result"
    }
   ],
   "source": [
    "trues"
   ]
  },
  {
   "cell_type": "code",
   "execution_count": 67,
   "id": "b9422466-9a8e-4f8b-a574-df2db945bbfc",
   "metadata": {
    "execution": {
     "iopub.execute_input": "2022-12-20T04:15:03.633156Z",
     "iopub.status.busy": "2022-12-20T04:15:03.632972Z",
     "iopub.status.idle": "2022-12-20T04:15:07.436121Z",
     "shell.execute_reply": "2022-12-20T04:15:07.435641Z",
     "shell.execute_reply.started": "2022-12-20T04:15:03.633139Z"
    },
    "tags": []
   },
   "outputs": [],
   "source": [
    "from sklearn.metrics import roc_auc_score, average_precision_score, mean_squared_error\n",
    "from scipy import stats\n",
    "def evaluate_model(y_test, pred, task, verbose=True):\n",
    "    if task == 'regression': #isinstance(pl_model.criterion, torch.nn.modules.loss.MSELoss):\n",
    "        mse = calculate_mse(y_test, pred)\n",
    "        pearsonr = calculate_pearsonr(y_test, pred)\n",
    "        spearmanr = calculate_spearmanr(y_test, pred)\n",
    "        if verbose:\n",
    "            print(\"Test MSE       : %.4f +/- %.4f\"%(np.nanmean(mse), np.nanstd(mse)))\n",
    "            print(\"Test Pearson r : %.4f +/- %.4f\"%(np.nanmean(pearsonr), np.nanstd(pearsonr)))\n",
    "            print(\"Test Spearman r: %.4f +/- %.4f\"%(np.nanmean(spearmanr), np.nanstd(spearmanr)))\n",
    "        return mse, pearsonr, spearmanr\n",
    "\n",
    "    else: \n",
    "        auroc = calculate_auroc(y_test, pred) \n",
    "        aupr = calculate_aupr(y_test, pred) \n",
    "        if verbose:\n",
    "            print(\"Test AUROC: %.4f +/- %.4f\"%(np.nanmean(auroc), np.nanstd(auroc)))\n",
    "            print(\"Test AUPR : %.4f +/- %.4f\"%(np.nanmean(aupr), np.nanstd(aupr)))\n",
    "        return auroc, aupr\n",
    "\n",
    "\n",
    "def calculate_auroc(y_true, y_score):\n",
    "    vals = []\n",
    "    for class_index in range(y_true.shape[-1]):\n",
    "        vals.append( roc_auc_score(y_true[:,class_index], y_score[:,class_index]) )    \n",
    "    return np.array(vals)\n",
    "\n",
    "def calculate_aupr(y_true, y_score):\n",
    "    vals = []\n",
    "    for class_index in range(y_true.shape[-1]):\n",
    "        vals.append( average_precision_score(y_true[:,class_index], y_score[:,class_index]) )    \n",
    "    return np.array(vals)"
   ]
  },
  {
   "cell_type": "code",
   "execution_count": 68,
   "id": "6bbdb27f-3299-4323-ace9-75ec5bc3b0c3",
   "metadata": {
    "execution": {
     "iopub.execute_input": "2022-12-20T04:15:07.437090Z",
     "iopub.status.busy": "2022-12-20T04:15:07.436911Z",
     "iopub.status.idle": "2022-12-20T04:15:13.020012Z",
     "shell.execute_reply": "2022-12-20T04:15:13.019493Z",
     "shell.execute_reply.started": "2022-12-20T04:15:07.437073Z"
    },
    "tags": []
   },
   "outputs": [],
   "source": [
    "results = evaluate_model(trues, preds, \"binary\", verbose=False)"
   ]
  },
  {
   "cell_type": "code",
   "execution_count": 70,
   "id": "f90db022-f08f-4664-8299-ce18751965a8",
   "metadata": {
    "execution": {
     "iopub.execute_input": "2022-12-20T04:15:39.590946Z",
     "iopub.status.busy": "2022-12-20T04:15:39.590627Z",
     "iopub.status.idle": "2022-12-20T04:15:43.542884Z",
     "shell.execute_reply": "2022-12-20T04:15:43.542211Z",
     "shell.execute_reply.started": "2022-12-20T04:15:39.590916Z"
    },
    "tags": []
   },
   "outputs": [],
   "source": [
    "aurocs = results[0]\n",
    "auprs = results[1]"
   ]
  },
  {
   "cell_type": "code",
   "execution_count": 71,
   "id": "e0ea2bcd-d938-4ccb-b8de-8701085e22fd",
   "metadata": {
    "execution": {
     "iopub.execute_input": "2022-12-20T04:15:55.042529Z",
     "iopub.status.busy": "2022-12-20T04:15:55.042288Z",
     "iopub.status.idle": "2022-12-20T04:15:59.000309Z",
     "shell.execute_reply": "2022-12-20T04:15:58.999673Z",
     "shell.execute_reply.started": "2022-12-20T04:15:55.042511Z"
    }
   },
   "outputs": [
    {
     "data": {
      "text/plain": [
       "(0.8451581652547495, 0.5309917392165966)"
      ]
     },
     "execution_count": 71,
     "metadata": {},
     "output_type": "execute_result"
    }
   ],
   "source": [
    "aurocs.mean(), auprs.mean()"
   ]
  },
  {
   "cell_type": "code",
   "execution_count": 72,
   "id": "541db2b2-b8d8-4ce5-aeab-2f2c373df6b0",
   "metadata": {
    "execution": {
     "iopub.execute_input": "2022-12-20T04:18:46.971320Z",
     "iopub.status.busy": "2022-12-20T04:18:46.971122Z",
     "iopub.status.idle": "2022-12-20T04:19:19.085919Z",
     "shell.execute_reply": "2022-12-20T04:19:19.085410Z",
     "shell.execute_reply.started": "2022-12-20T04:18:46.971302Z"
    }
   },
   "outputs": [
    {
     "name": "stdout",
     "output_type": "stream",
     "text": [
      "Already up to date.\n"
     ]
    },
    {
     "data": {
      "text/plain": [
       "2    Basset\n",
       "Name: model, dtype: object"
      ]
     },
     "execution_count": 72,
     "metadata": {},
     "output_type": "execute_result"
    }
   ],
   "source": [
    "eu.external.kipoi.get_model_names(\"Basset\")"
   ]
  },
  {
   "cell_type": "code",
   "execution_count": 73,
   "id": "3a084529-9564-4955-ba5b-b90aa0d886d6",
   "metadata": {
    "execution": {
     "iopub.execute_input": "2022-12-20T04:20:26.886526Z",
     "iopub.status.busy": "2022-12-20T04:20:26.886141Z",
     "iopub.status.idle": "2022-12-20T04:20:31.715671Z",
     "shell.execute_reply": "2022-12-20T04:20:31.715011Z",
     "shell.execute_reply.started": "2022-12-20T04:20:26.886505Z"
    }
   },
   "outputs": [
    {
     "name": "stdout",
     "output_type": "stream",
     "text": [
      "Using downloaded and verified file: /cellar/users/aklie/.kipoi/models/Basset/downloaded/model_files/weights/4878981d84499eb575abd0f3b45570d3\n"
     ]
    }
   ],
   "source": [
    "kipoi_model = eu.external.kipoi.get_model(\"Basset\")"
   ]
  },
  {
   "cell_type": "code",
   "execution_count": 77,
   "id": "8cef8bf6-dcc4-4d93-8f5a-61a0bf064584",
   "metadata": {
    "execution": {
     "iopub.execute_input": "2022-12-20T04:21:38.591625Z",
     "iopub.status.busy": "2022-12-20T04:21:38.591452Z",
     "iopub.status.idle": "2022-12-20T04:21:42.589236Z",
     "shell.execute_reply": "2022-12-20T04:21:42.588708Z",
     "shell.execute_reply.started": "2022-12-20T04:21:38.591608Z"
    }
   },
   "outputs": [],
   "source": [
    "import torch"
   ]
  },
  {
   "cell_type": "code",
   "execution_count": 100,
   "id": "d1f2eece-4c9a-4af1-bbb9-e5980fa68ae7",
   "metadata": {
    "execution": {
     "iopub.execute_input": "2022-12-20T04:28:58.773159Z",
     "iopub.status.busy": "2022-12-20T04:28:58.772987Z",
     "iopub.status.idle": "2022-12-20T04:29:02.646425Z",
     "shell.execute_reply": "2022-12-20T04:29:02.645828Z",
     "shell.execute_reply.started": "2022-12-20T04:28:58.773142Z"
    },
    "tags": []
   },
   "outputs": [
    {
     "data": {
      "text/plain": [
       "torch.Size([1, 4, 600, 1])"
      ]
     },
     "execution_count": 100,
     "metadata": {},
     "output_type": "execute_result"
    }
   ],
   "source": [
    "torch.Tensor(np.expand_dims(data_module.x_test, axis=3))[:1].size()"
   ]
  },
  {
   "cell_type": "code",
   "execution_count": 111,
   "id": "5394ed02-3148-4392-a438-b7626cea17e7",
   "metadata": {
    "execution": {
     "iopub.execute_input": "2022-12-20T04:31:26.737241Z",
     "iopub.status.busy": "2022-12-20T04:31:26.736930Z",
     "iopub.status.idle": "2022-12-20T04:31:30.785340Z",
     "shell.execute_reply": "2022-12-20T04:31:30.784798Z",
     "shell.execute_reply.started": "2022-12-20T04:31:26.737223Z"
    },
    "tags": []
   },
   "outputs": [],
   "source": [
    "kipoi_preds = kipoi_model(torch.Tensor(np.expand_dims(data_module.x_test, axis=3))[:1000].to(\"cuda\")).to(\"cpu\").detach().numpy()"
   ]
  },
  {
   "cell_type": "code",
   "execution_count": 112,
   "id": "e9c6093f-e819-4291-bbf4-c293079b0601",
   "metadata": {
    "execution": {
     "iopub.execute_input": "2022-12-20T04:31:30.786397Z",
     "iopub.status.busy": "2022-12-20T04:31:30.786218Z",
     "iopub.status.idle": "2022-12-20T04:31:35.049564Z",
     "shell.execute_reply": "2022-12-20T04:31:35.049050Z",
     "shell.execute_reply.started": "2022-12-20T04:31:30.786381Z"
    },
    "tags": []
   },
   "outputs": [],
   "source": [
    "results = evaluate_model(trues[:1000], kipoi_preds, \"binary\", verbose=False)"
   ]
  },
  {
   "cell_type": "code",
   "execution_count": 114,
   "id": "6a82ece7-9263-411f-9119-b4a6c0d06457",
   "metadata": {
    "execution": {
     "iopub.execute_input": "2022-12-20T04:31:55.223578Z",
     "iopub.status.busy": "2022-12-20T04:31:55.223339Z",
     "iopub.status.idle": "2022-12-20T04:31:59.259702Z",
     "shell.execute_reply": "2022-12-20T04:31:59.259228Z",
     "shell.execute_reply.started": "2022-12-20T04:31:55.223560Z"
    },
    "tags": []
   },
   "outputs": [
    {
     "data": {
      "text/plain": [
       "0.6093829996690903"
      ]
     },
     "execution_count": 114,
     "metadata": {},
     "output_type": "execute_result"
    }
   ],
   "source": [
    "results[1].mean()"
   ]
  },
  {
   "cell_type": "code",
   "execution_count": 116,
   "id": "2e7d0389-df58-475f-ad7b-6ffe75b05f26",
   "metadata": {
    "execution": {
     "iopub.execute_input": "2022-12-20T04:32:26.591590Z",
     "iopub.status.busy": "2022-12-20T04:32:26.591345Z",
     "iopub.status.idle": "2022-12-20T04:32:30.625696Z",
     "shell.execute_reply": "2022-12-20T04:32:30.625084Z",
     "shell.execute_reply.started": "2022-12-20T04:32:26.591571Z"
    },
    "tags": []
   },
   "outputs": [
    {
     "data": {
      "text/plain": [
       "torch.nn.modules.container.Sequential"
      ]
     },
     "execution_count": 116,
     "metadata": {},
     "output_type": "execute_result"
    }
   ],
   "source": [
    "type(kipoi_model)"
   ]
  },
  {
   "cell_type": "code",
   "execution_count": 117,
   "id": "e1088e81-db89-494b-9802-c12d69af2930",
   "metadata": {
    "execution": {
     "iopub.execute_input": "2022-12-20T04:32:57.887153Z",
     "iopub.status.busy": "2022-12-20T04:32:57.886831Z",
     "iopub.status.idle": "2022-12-20T04:33:01.824834Z",
     "shell.execute_reply": "2022-12-20T04:33:01.824177Z",
     "shell.execute_reply.started": "2022-12-20T04:32:57.887136Z"
    },
    "tags": []
   },
   "outputs": [
    {
     "data": {
      "text/plain": [
       "Sequential(\n",
       "  (0): Conv2d(4, 300, kernel_size=(19, 1), stride=(1, 1))\n",
       "  (1): BatchNorm2d(300, eps=1e-05, momentum=0.1, affine=True, track_running_stats=True)\n",
       "  (2): ReLU()\n",
       "  (3): MaxPool2d(kernel_size=(3, 1), stride=(3, 1), padding=0, dilation=1, ceil_mode=False)\n",
       "  (4): Conv2d(300, 200, kernel_size=(11, 1), stride=(1, 1))\n",
       "  (5): BatchNorm2d(200, eps=1e-05, momentum=0.1, affine=True, track_running_stats=True)\n",
       "  (6): ReLU()\n",
       "  (7): MaxPool2d(kernel_size=(4, 1), stride=(4, 1), padding=0, dilation=1, ceil_mode=False)\n",
       "  (8): Conv2d(200, 200, kernel_size=(7, 1), stride=(1, 1))\n",
       "  (9): BatchNorm2d(200, eps=1e-05, momentum=0.1, affine=True, track_running_stats=True)\n",
       "  (10): ReLU()\n",
       "  (11): MaxPool2d(kernel_size=(4, 1), stride=(4, 1), padding=0, dilation=1, ceil_mode=False)\n",
       "  (12): Lambda()\n",
       "  (13): Sequential(\n",
       "    (0): Lambda()\n",
       "    (1): Linear(in_features=2000, out_features=1000, bias=True)\n",
       "  )\n",
       "  (14): BatchNorm1d(1000, eps=1e-05, momentum=0.1, affine=True, track_running_stats=True)\n",
       "  (15): ReLU()\n",
       "  (16): Dropout(p=0.3, inplace=False)\n",
       "  (17): Sequential(\n",
       "    (0): Lambda()\n",
       "    (1): Linear(in_features=1000, out_features=1000, bias=True)\n",
       "  )\n",
       "  (18): BatchNorm1d(1000, eps=1e-05, momentum=0.1, affine=True, track_running_stats=True)\n",
       "  (19): ReLU()\n",
       "  (20): Dropout(p=0.3, inplace=False)\n",
       "  (21): Sequential(\n",
       "    (0): Lambda()\n",
       "    (1): Linear(in_features=1000, out_features=164, bias=True)\n",
       "  )\n",
       "  (22): Sigmoid()\n",
       ")"
      ]
     },
     "execution_count": 117,
     "metadata": {},
     "output_type": "execute_result"
    }
   ],
   "source": [
    "kipoi_model.modules"
   ]
  },
  {
   "cell_type": "code",
   "execution_count": null,
   "id": "68fcc981-da9e-47f4-9be3-52446edee1cb",
   "metadata": {},
   "outputs": [],
   "source": []
  }
 ],
 "metadata": {
  "kernelspec": {
   "display_name": "Python 3.9 ml4gland",
   "language": "python",
   "name": "ml4gland"
  },
  "vscode": {
   "interpreter": {
    "hash": "f0aab14ae665ca4264878e5867720697752ca4d3a67458798aa51c276bf829a9"
   }
  }
 },
 "nbformat": 4,
 "nbformat_minor": 5
}
