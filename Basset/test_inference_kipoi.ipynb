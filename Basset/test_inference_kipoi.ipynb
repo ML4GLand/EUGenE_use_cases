{
 "cells": [
  {
   "attachments": {},
   "cell_type": "markdown",
   "metadata": {},
   "source": [
    "# Testing Kipoi Basset model for inference\n",
    "**Authorship:**\n",
    "Adam Klie (last updated: *07/19/2023*)\n",
    "***\n",
    "**Description:**\n",
    "Test the Kipoi hosted implementation of Basenji for inference on some randomly generated sequences. This is a good place to check if your installation is working properly.\n",
    "***"
   ]
  },
  {
   "attachments": {},
   "cell_type": "markdown",
   "metadata": {},
   "source": [
    "# Set-up"
   ]
  },
  {
   "cell_type": "code",
   "execution_count": 73,
   "metadata": {},
   "outputs": [],
   "source": [
    "# General imports\n",
    "import os\n",
    "import sys\n",
    "import kipoi\n",
    "import torch\n",
    "import numpy as np\n",
    "import pandas as pd"
   ]
  },
  {
   "cell_type": "code",
   "execution_count": 2,
   "metadata": {},
   "outputs": [],
   "source": [
    "# Makes sure that git is on the path\n",
    "bin_dir = os.path.dirname(sys.executable)\n",
    "os.environ[\"PATH\"] += os.pathsep + bin_dir"
   ]
  },
  {
   "attachments": {},
   "cell_type": "markdown",
   "metadata": {},
   "source": [
    "# Load in the model from Kipoi"
   ]
  },
  {
   "cell_type": "code",
   "execution_count": 22,
   "metadata": {},
   "outputs": [
    {
     "name": "stdout",
     "output_type": "stream",
     "text": [
      "Using downloaded and verified file: /cellar/users/aklie/.kipoi/models/Basset/downloaded/model_files/weights/4878981d84499eb575abd0f3b45570d3\n"
     ]
    }
   ],
   "source": [
    "# Load the model\n",
    "basset = kipoi.get_model('Basset').model"
   ]
  },
  {
   "cell_type": "code",
   "execution_count": 43,
   "metadata": {},
   "outputs": [],
   "source": [
    "import torchinfo"
   ]
  },
  {
   "cell_type": "code",
   "execution_count": 46,
   "metadata": {},
   "outputs": [
    {
     "data": {
      "text/plain": [
       "==========================================================================================\n",
       "Layer (type:depth-idx)                   Output Shape              Param #\n",
       "==========================================================================================\n",
       "Sequential                               [1, 164]                  --\n",
       "├─Conv2d: 1-1                            [1, 300, 582, 1]          23,100\n",
       "├─BatchNorm2d: 1-2                       [1, 300, 582, 1]          600\n",
       "├─ReLU: 1-3                              [1, 300, 582, 1]          --\n",
       "├─MaxPool2d: 1-4                         [1, 300, 194, 1]          --\n",
       "├─Conv2d: 1-5                            [1, 200, 184, 1]          660,200\n",
       "├─BatchNorm2d: 1-6                       [1, 200, 184, 1]          400\n",
       "├─ReLU: 1-7                              [1, 200, 184, 1]          --\n",
       "├─MaxPool2d: 1-8                         [1, 200, 46, 1]           --\n",
       "├─Conv2d: 1-9                            [1, 200, 40, 1]           280,200\n",
       "├─BatchNorm2d: 1-10                      [1, 200, 40, 1]           400\n",
       "├─ReLU: 1-11                             [1, 200, 40, 1]           --\n",
       "├─MaxPool2d: 1-12                        [1, 200, 10, 1]           --\n",
       "├─Lambda: 1-13                           [1, 2000]                 --\n",
       "├─Sequential: 1-14                       [1, 1000]                 --\n",
       "│    └─Lambda: 2-1                       [1, 2000]                 --\n",
       "│    └─Linear: 2-2                       [1, 1000]                 2,001,000\n",
       "├─BatchNorm1d: 1-15                      [1, 1000]                 2,000\n",
       "├─ReLU: 1-16                             [1, 1000]                 --\n",
       "├─Dropout: 1-17                          [1, 1000]                 --\n",
       "├─Sequential: 1-18                       [1, 1000]                 --\n",
       "│    └─Lambda: 2-3                       [1, 1000]                 --\n",
       "│    └─Linear: 2-4                       [1, 1000]                 1,001,000\n",
       "├─BatchNorm1d: 1-19                      [1, 1000]                 2,000\n",
       "├─ReLU: 1-20                             [1, 1000]                 --\n",
       "├─Dropout: 1-21                          [1, 1000]                 --\n",
       "├─Sequential: 1-22                       [1, 164]                  --\n",
       "│    └─Lambda: 2-5                       [1, 1000]                 --\n",
       "│    └─Linear: 2-6                       [1, 164]                  164,164\n",
       "├─Sigmoid: 1-23                          [1, 164]                  --\n",
       "==========================================================================================\n",
       "Total params: 4,135,064\n",
       "Trainable params: 4,135,064\n",
       "Non-trainable params: 0\n",
       "Total mult-adds (M): 149.30\n",
       "==========================================================================================\n",
       "Input size (MB): 0.01\n",
       "Forward/backward pass size (MB): 3.54\n",
       "Params size (MB): 16.54\n",
       "Estimated Total Size (MB): 20.09\n",
       "=========================================================================================="
      ]
     },
     "execution_count": 46,
     "metadata": {},
     "output_type": "execute_result"
    }
   ],
   "source": [
    "torchinfo.summary(basset, input_size=(1, 4, 600, 1))"
   ]
  },
  {
   "attachments": {},
   "cell_type": "markdown",
   "metadata": {},
   "source": [
    "# Test inference on batch of sequences"
   ]
  },
  {
   "cell_type": "code",
   "execution_count": 4,
   "metadata": {},
   "outputs": [
    {
     "name": "stderr",
     "output_type": "stream",
     "text": [
      "OMP: Info #276: omp_set_nested routine deprecated, please use omp_set_max_active_levels instead.\n"
     ]
    }
   ],
   "source": [
    "import seqpro as sp"
   ]
  },
  {
   "cell_type": "code",
   "execution_count": 66,
   "metadata": {},
   "outputs": [],
   "source": [
    "# Kipoi Basenji requires a batch size of 2\n",
    "seqs = sp.random_seqs((128, 600), sp.alphabets.DNA)"
   ]
  },
  {
   "cell_type": "code",
   "execution_count": 69,
   "metadata": {},
   "outputs": [
    {
     "data": {
      "text/plain": [
       "torch.Size([128, 4, 600, 1])"
      ]
     },
     "execution_count": 69,
     "metadata": {},
     "output_type": "execute_result"
    }
   ],
   "source": [
    "# One-hot encode the sequences\n",
    "ohe_seqs = sp.ohe(seqs, alphabet=sp.alphabets.DNA).transpose(0, 2, 1)\n",
    "ohe_seqs_torch = torch.tensor(np.expand_dims(ohe_seqs, axis=3), dtype=torch.float32).contiguous()\n",
    "ohe_seqs_torch.shape"
   ]
  },
  {
   "cell_type": "code",
   "execution_count": 70,
   "metadata": {},
   "outputs": [
    {
     "name": "stdout",
     "output_type": "stream",
     "text": [
      "Size of sequence in memory: 0.3072 MB\n"
     ]
    }
   ],
   "source": [
    "# See how big this sequence is in memory\n",
    "print(f\"Size of sequence in memory: {ohe_seqs.nbytes / 1e6} MB\")"
   ]
  },
  {
   "cell_type": "code",
   "execution_count": 71,
   "metadata": {},
   "outputs": [
    {
     "data": {
      "text/plain": [
       "Sequential(\n",
       "  (0): Conv2d(4, 300, kernel_size=(19, 1), stride=(1, 1))\n",
       "  (1): BatchNorm2d(300, eps=1e-05, momentum=0.1, affine=True, track_running_stats=True)\n",
       "  (2): ReLU()\n",
       "  (3): MaxPool2d(kernel_size=(3, 1), stride=(3, 1), padding=0, dilation=1, ceil_mode=False)\n",
       "  (4): Conv2d(300, 200, kernel_size=(11, 1), stride=(1, 1))\n",
       "  (5): BatchNorm2d(200, eps=1e-05, momentum=0.1, affine=True, track_running_stats=True)\n",
       "  (6): ReLU()\n",
       "  (7): MaxPool2d(kernel_size=(4, 1), stride=(4, 1), padding=0, dilation=1, ceil_mode=False)\n",
       "  (8): Conv2d(200, 200, kernel_size=(7, 1), stride=(1, 1))\n",
       "  (9): BatchNorm2d(200, eps=1e-05, momentum=0.1, affine=True, track_running_stats=True)\n",
       "  (10): ReLU()\n",
       "  (11): MaxPool2d(kernel_size=(4, 1), stride=(4, 1), padding=0, dilation=1, ceil_mode=False)\n",
       "  (12): Lambda()\n",
       "  (13): Sequential(\n",
       "    (0): Lambda()\n",
       "    (1): Linear(in_features=2000, out_features=1000, bias=True)\n",
       "  )\n",
       "  (14): BatchNorm1d(1000, eps=1e-05, momentum=0.1, affine=True, track_running_stats=True)\n",
       "  (15): ReLU()\n",
       "  (16): Dropout(p=0.3, inplace=False)\n",
       "  (17): Sequential(\n",
       "    (0): Lambda()\n",
       "    (1): Linear(in_features=1000, out_features=1000, bias=True)\n",
       "  )\n",
       "  (18): BatchNorm1d(1000, eps=1e-05, momentum=0.1, affine=True, track_running_stats=True)\n",
       "  (19): ReLU()\n",
       "  (20): Dropout(p=0.3, inplace=False)\n",
       "  (21): Sequential(\n",
       "    (0): Lambda()\n",
       "    (1): Linear(in_features=1000, out_features=164, bias=True)\n",
       "  )\n",
       "  (22): Sigmoid()\n",
       ")"
      ]
     },
     "execution_count": 71,
     "metadata": {},
     "output_type": "execute_result"
    }
   ],
   "source": [
    "basset.cpu().eval()"
   ]
  },
  {
   "cell_type": "code",
   "execution_count": 72,
   "metadata": {},
   "outputs": [
    {
     "data": {
      "text/plain": [
       "torch.Size([128, 164])"
      ]
     },
     "execution_count": 72,
     "metadata": {},
     "output_type": "execute_result"
    }
   ],
   "source": [
    "# Predict on the sequences\n",
    "basset(ohe_seqs_torch).shape"
   ]
  },
  {
   "attachments": {},
   "cell_type": "markdown",
   "metadata": {},
   "source": [
    "# DONE!"
   ]
  },
  {
   "attachments": {},
   "cell_type": "markdown",
   "metadata": {},
   "source": [
    "----"
   ]
  }
 ],
 "metadata": {
  "kernelspec": {
   "display_name": "Python 3.9 ml4gland",
   "language": "python",
   "name": "ml4gland"
  },
  "orig_nbformat": 4
 },
 "nbformat": 4,
 "nbformat_minor": 2
}
