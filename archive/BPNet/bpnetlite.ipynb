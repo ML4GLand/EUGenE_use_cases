{
 "cells": [
  {
   "attachments": {},
   "cell_type": "markdown",
   "id": "0c4f476c",
   "metadata": {},
   "source": [
    "# Using bpnet-lite to traina CTCF profile model"
   ]
  },
  {
   "cell_type": "code",
   "execution_count": 6,
   "id": "6e84be65-078a-44b7-9c11-ba785747068a",
   "metadata": {
    "execution": {
     "iopub.execute_input": "2022-12-20T05:50:30.247954Z",
     "iopub.status.busy": "2022-12-20T05:50:30.247600Z",
     "iopub.status.idle": "2022-12-20T05:50:30.251226Z",
     "shell.execute_reply": "2022-12-20T05:50:30.250916Z",
     "shell.execute_reply.started": "2022-12-20T05:50:30.247933Z"
    },
    "tags": []
   },
   "outputs": [],
   "source": [
    "import os\n",
    "import torch\n",
    "import bpnetlite\n",
    "from pathlib import Path\n",
    "from bpnetlite.io import extract_loci\n",
    "from bpnetlite.io import PeakGenerator\n",
    "from bpnetlite import BPNet\n",
    "\n",
    "# Define paths\n",
    "data_dir = Path(\"/cellar/shared/carterlab/data/ml4gland/ENCSR000EGM/data\")\n",
    "reference_dir = \"/cellar/users/aklie/data/eugene/avsec21/reference\"\n",
    "peaks = os.path.join(data_dir, \"peaks.bed\")\n",
    "seqs = \"/cellar/users/aklie/data/ml4gland/use_cases/avsec21/reference/hg38.fa\"\n",
    "signals = [os.path.join(data_dir, \"plus.bw\"), os.path.join(data_dir, \"minus.bw\")]\n",
    "controls = [os.path.join(data_dir, \"control_plus.bw\"), os.path.join(data_dir, \"control_minus.bw\")]\n",
    "\n",
    "# Define training and validation chromosomes\n",
    "training_chroms = ['chr{}'.format(i) for i in range(1, 17)]\n",
    "valid_chroms = ['chr{}'.format(i) for i in range(18, 23)]"
   ]
  },
  {
   "attachments": {},
   "cell_type": "markdown",
   "id": "90f91831",
   "metadata": {},
   "source": [
    "# Load data"
   ]
  },
  {
   "cell_type": "code",
   "execution_count": 7,
   "id": "32fc76d5-70f1-46b7-858b-3df51f678f5a",
   "metadata": {},
   "outputs": [],
   "source": [
    "# Create a dataloader for the training peaks\n",
    "training_data = PeakGenerator(peaks, seqs, signals, controls, chroms=training_chroms)"
   ]
  },
  {
   "cell_type": "code",
   "execution_count": null,
   "id": "0fa25b24",
   "metadata": {},
   "outputs": [],
   "source": [
    "# Check the shapes of the first batch\n",
    "batch = next(iter(training_data))\n",
    "batch[0].shape, batch[1].shape, batch[2].shape"
   ]
  },
  {
   "cell_type": "code",
   "execution_count": null,
   "id": "04eb438d-14e3-49de-958e-59fb08a424e6",
   "metadata": {},
   "outputs": [],
   "source": [
    "# Grab the validation data, no jittering, augmenting, or shuffling\n",
    "X_valid, y_valid, X_ctl_valid = extract_loci(peaks, seqs, signals, controls, chroms=valid_chroms, max_jitter=0)\n",
    "X_valid.shape, y_valid.shape, X_ctl_valid.shape"
   ]
  },
  {
   "attachments": {},
   "cell_type": "markdown",
   "id": "52e80466",
   "metadata": {},
   "source": [
    "# Train a model"
   ]
  },
  {
   "cell_type": "code",
   "execution_count": null,
   "id": "ef16bf46",
   "metadata": {},
   "outputs": [],
   "source": [
    "# Create the model, we need 2 channels for the control tracks, 2 channels for the signal tracks, and to trim to 1000 bp of input\n",
    "model = BPNet(n_outputs=2, n_control_tracks=2, trimming=(2114 - 1000) // 2).cuda()"
   ]
  },
  {
   "cell_type": "code",
   "execution_count": null,
   "id": "7617c65c",
   "metadata": {},
   "outputs": [],
   "source": [
    "batch = next(iter(dl))\n",
    "pred_ctl = model.forward(*batch[:2])"
   ]
  },
  {
   "cell_type": "code",
   "execution_count": null,
   "id": "eba55cd0",
   "metadata": {},
   "outputs": [
    {
     "data": {
      "text/plain": [
       "(torch.Size([8, 2, 1000]), torch.Size([8, 1]))"
      ]
     },
     "metadata": {},
     "output_type": "display_data"
    }
   ],
   "source": [
    "pred_ctl[0].shape, pred_ctl[1].shape"
   ]
  },
  {
   "cell_type": "code",
   "execution_count": null,
   "id": "bb74dc0f",
   "metadata": {},
   "outputs": [],
   "source": [
    "# Quickly define your optimizer\n",
    "optimizer = torch.optim.Adam(model.parameters(), lr=0.001)"
   ]
  },
  {
   "cell_type": "code",
   "execution_count": null,
   "id": "8c13ea34",
   "metadata": {},
   "outputs": [],
   "source": [
    "# Use the models fit_generator method to train the model\n",
    "res = model.fit_generator(\n",
    "    training_data, \n",
    "    optimizer, \n",
    "    X_valid=X_valid, \n",
    "\tX_ctl_valid=X_ctl_valid, \n",
    "    y_valid=y_valid\n",
    ")"
   ]
  },
  {
   "attachments": {},
   "cell_type": "markdown",
   "id": "e474323a",
   "metadata": {},
   "source": [
    "# Interpret the trained model"
   ]
  },
  {
   "cell_type": "code",
   "execution_count": 632,
   "id": "aa502859",
   "metadata": {},
   "outputs": [],
   "source": [
    "from bpnetlite.attributions import calculate_attributions"
   ]
  },
  {
   "cell_type": "code",
   "execution_count": 634,
   "id": "76ad9caf",
   "metadata": {},
   "outputs": [
    {
     "data": {
      "text/plain": [
       "(torch.Size([7051, 4, 2114]),\n",
       " torch.Size([7051, 2, 1000]),\n",
       " torch.Size([7051, 2, 2114]))"
      ]
     },
     "execution_count": 634,
     "metadata": {},
     "output_type": "execute_result"
    }
   ],
   "source": [
    "# Run if you haven't already\n",
    "X_valid, y_valid, X_ctl_valid = extract_peaks(peaks, seqs, signals, controls, chroms=valid_chroms, max_jitter=0)\n",
    "X_valid.shape, y_valid.shape, X_ctl_valid.shape"
   ]
  },
  {
   "cell_type": "code",
   "execution_count": 636,
   "id": "1c5d85b0",
   "metadata": {},
   "outputs": [],
   "source": [
    "models_dir = \"/cellar/users/aklie/projects/ML4GLand/use_cases/avsec21/models\""
   ]
  },
  {
   "cell_type": "code",
   "execution_count": 644,
   "id": "a8daf9b9",
   "metadata": {},
   "outputs": [
    {
     "data": {
      "text/plain": [
       "(torch.Size([32, 4, 2114]), torch.Size([32, 2, 2114]))"
      ]
     },
     "execution_count": 644,
     "metadata": {},
     "output_type": "execute_result"
    }
   ],
   "source": [
    "pretrained_model = torch.load(os.path.join(models_dir, \"bpnet.64.8.torch\")).cuda()\n",
    "X = X_valid[:32].cuda()\n",
    "X_ctl = (torch.zeros(X.shape[0], 2, X.shape[-1]).cuda(), )\n",
    "X.shape, X_ctl[0].shape"
   ]
  },
  {
   "cell_type": "code",
   "execution_count": 652,
   "id": "83cec1a1",
   "metadata": {},
   "outputs": [
    {
     "data": {
      "text/plain": [
       "(torch.Size([32, 2, 1000]), torch.Size([32, 1]))"
      ]
     },
     "execution_count": 652,
     "metadata": {},
     "output_type": "execute_result"
    },
    {
     "ename": "",
     "evalue": "",
     "output_type": "error",
     "traceback": [
      "\u001b[1;31mThe Kernel crashed while executing code in the the current cell or a previous cell. Please review the code in the cell(s) to identify a possible cause of the failure. Click <a href='https://aka.ms/vscodeJupyterKernelCrash'>here</a> for more info. View Jupyter <a href='command:jupyter.viewOutput'>log</a> for further details."
     ]
    }
   ],
   "source": [
    "example_outs = pretrained_model(X, X_ctl[0])\n",
    "example_outs[0].shape, example_outs[1].shape"
   ]
  },
  {
   "cell_type": "code",
   "execution_count": 650,
   "id": "551f9c40",
   "metadata": {},
   "outputs": [
    {
     "name": "stderr",
     "output_type": "stream",
     "text": [
      "/cellar/users/aklie/opt/miniconda3/envs/eugene_dev/lib/python3.7/site-packages/captum/attr/_core/deep_lift.py:339: UserWarning: Setting forward, backward hooks and attributes on non-linear\n",
      "               activations. The hooks and attributes will be removed\n",
      "            after the attribution is finished\n",
      "  after the attribution is finished\"\"\"\n"
     ]
    }
   ],
   "source": [
    "X_attr = calculate_attributions(\n",
    "    pretrained_model,\n",
    "    X.cpu(),\n",
    "    X_ctl\n",
    ")"
   ]
  },
  {
   "cell_type": "code",
   "execution_count": null,
   "id": "db100b8b",
   "metadata": {},
   "outputs": [],
   "source": [
    "import pandas as pd\n",
    "import logomaker\n",
    "def plot_attributions(X_attr, ax):\n",
    "\t\"\"\"Plot the attributions using logomaker.\n",
    "\tTakes in a matrix of attributions and plots the attribution-weighted\n",
    "\tsequence using logomaker. This is a convenience function.\n",
    "\tParameters\n",
    "\t----------\n",
    "\tX_attr: torch.tensor, shape=(4, -1)\n",
    "\t\tA tensor of the attributions. Can be either the hypothetical\n",
    "\t\tattributions, where the entire matrix has values, or the projected\n",
    "\t\tattributions, where only the actual bases have their attributions\n",
    "\t\tstored, i.e., 3 values per column are zero.\n",
    "\t\"\"\"\n",
    "\n",
    "\tdf = pd.DataFrame(X_attr.T, columns=['A', 'C', 'G', 'T'])\n",
    "\tdf.index.name = 'pos'\n",
    "\tlogo = logomaker.Logo(df, ax=ax)\n",
    "\tlogo.style_spines(visible=False)\n",
    "\treturn "
   ]
  },
  {
   "cell_type": "code",
   "execution_count": null,
   "id": "7def8b80",
   "metadata": {},
   "outputs": [
    {
     "name": "stdout",
     "output_type": "stream",
     "text": [
      "                 A    C             G    T\n",
      "pos                                       \n",
      "0     0.000000e+00  0.0  0.000000e+00  0.0\n",
      "1    -2.066440e-13  0.0 -0.000000e+00  0.0\n",
      "2     0.000000e+00  0.0  1.383642e-12  0.0\n",
      "3     1.326429e-12 -0.0 -0.000000e+00 -0.0\n",
      "4    -1.127276e-12  0.0  0.000000e+00  0.0\n",
      "...            ...  ...           ...  ...\n",
      "2109  1.179696e-12  0.0  0.000000e+00 -0.0\n",
      "2110 -9.192583e-12  0.0 -0.000000e+00  0.0\n",
      "2111 -5.749478e-12  0.0  0.000000e+00  0.0\n",
      "2112  0.000000e+00  0.0  0.000000e+00  0.0\n",
      "2113  0.000000e+00  0.0  0.000000e+00  0.0\n",
      "\n",
      "[2114 rows x 4 columns]\n"
     ]
    },
    {
     "data": {
      "image/png": "[encoded data removed]",
      "text/plain": [
       "<Figure size 720x144 with 1 Axes>"
      ]
     },
     "metadata": {},
     "output_type": "display_data"
    }
   ],
   "source": [
    "import matplotlib.pyplot as plt\n",
    "fig, ax = plt.subplots(1, 1, figsize=(10, 2))\n",
    "plot_attributions(X_attr[0].detach().cpu().numpy(), ax)"
   ]
  },
  {
   "cell_type": "code",
   "execution_count": null,
   "id": "b2bc3625",
   "metadata": {},
   "outputs": [],
   "source": []
  },
  {
   "cell_type": "code",
   "execution_count": null,
   "id": "da98d0d7",
   "metadata": {},
   "outputs": [],
   "source": []
  }
 ],
 "metadata": {
  "kernelspec": {
   "display_name": "Python 3.9 ml4gland",
   "language": "python",
   "name": "ml4gland"
  },
  "language_info": {
   "codemirror_mode": {
    "name": "ipython",
    "version": 3
   },
   "file_extension": ".py",
   "mimetype": "text/x-python",
   "name": "python",
   "nbconvert_exporter": "python",
   "pygments_lexer": "ipython3",
   "version": "3.9.16"
  }
 },
 "nbformat": 4,
 "nbformat_minor": 5
}
