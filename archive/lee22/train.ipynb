{
 "cells": [
  {
   "cell_type": "markdown",
   "id": "c91addbb-00f9-474a-8386-b61bf03af5bd",
   "metadata": {
    "id": "SVxwvzYj-txy"
   },
   "source": [
    "# Set-up"
   ]
  },
  {
   "cell_type": "code",
   "execution_count": 1,
   "id": "a5ae7baf-737f-4e6c-bcce-d73f4d0362bb",
   "metadata": {
    "colab": {
     "base_uri": "https://localhost:8080/"
    },
    "execution": {
     "iopub.execute_input": "2022-12-20T04:40:04.539952Z",
     "iopub.status.busy": "2022-12-20T04:40:04.539624Z",
     "iopub.status.idle": "2022-12-20T04:40:51.029779Z",
     "shell.execute_reply": "2022-12-20T04:40:51.029046Z",
     "shell.execute_reply.started": "2022-12-20T04:40:04.539893Z"
    },
    "id": "Frw7XmtX-tx2",
    "outputId": "a87ae8b6-62c6-4b51-b15b-90665ceee68c",
    "tags": [],
    "vscode": {
     "languageId": "python"
    }
   },
   "outputs": [
    {
     "name": "stderr",
     "output_type": "stream",
     "text": [
      "Global seed set to 13\n"
     ]
    },
    {
     "name": "stdout",
     "output_type": "stream",
     "text": [
      "GPU is available: True\n",
      "Number of GPUs: 1\n",
      "Current GPU: 0\n",
      "GPUs: Quadro RTX 5000\n"
     ]
    }
   ],
   "source": [
    "# Autoreload extension\n",
    "if 'autoreload' not in get_ipython().extension_manager.loaded:\n",
    "    %load_ext autoreload\n",
    "%autoreload 2\n",
    "\n",
    "import os\n",
    "import numpy as np\n",
    "import eugene as eu"
   ]
  },
  {
   "cell_type": "code",
   "execution_count": 2,
   "id": "7f24cce8-d9a4-4283-995c-628af364de12",
   "metadata": {
    "colab": {
     "base_uri": "https://localhost:8080/"
    },
    "execution": {
     "iopub.execute_input": "2022-12-20T04:40:51.031656Z",
     "iopub.status.busy": "2022-12-20T04:40:51.030888Z",
     "iopub.status.idle": "2022-12-20T04:40:55.002763Z",
     "shell.execute_reply": "2022-12-20T04:40:55.002135Z",
     "shell.execute_reply.started": "2022-12-20T04:40:51.031639Z"
    },
    "id": "KDJ9JK4LBPPf",
    "outputId": "7fcb15a4-d28a-4475-a80d-94b8352f7834",
    "tags": [],
    "vscode": {
     "languageId": "python"
    }
   },
   "outputs": [
    {
     "name": "stdout",
     "output_type": "stream",
     "text": [
      "1\n"
     ]
    }
   ],
   "source": [
    "print(eu.settings.gpus)\n",
    "eu.settings.dataset_dir = \"/cellar/users/aklie/data/eugene\""
   ]
  },
  {
   "cell_type": "markdown",
   "id": "a9a29fa3-f880-4dfb-8b41-2eec95e9f5ad",
   "metadata": {
    "id": "VuUNVfty-tx4"
   },
   "source": [
    "# Load and preprocess dataset"
   ]
  },
  {
   "cell_type": "markdown",
   "id": "03613fe2-d8ba-4df0-9ad1-902fafa91a1e",
   "metadata": {
    "id": "o25Jlgpi-tx_"
   },
   "source": [
    "## From `h5py`"
   ]
  },
  {
   "cell_type": "code",
   "execution_count": 93,
   "id": "59808aeb-e3be-4835-a34d-3ef8e5acf704",
   "metadata": {
    "execution": {
     "iopub.execute_input": "2022-12-20T05:16:24.528496Z",
     "iopub.status.busy": "2022-12-20T05:16:24.527741Z",
     "iopub.status.idle": "2022-12-20T05:16:28.522778Z",
     "shell.execute_reply": "2022-12-20T05:16:28.522222Z",
     "shell.execute_reply.started": "2022-12-20T05:16:24.528473Z"
    },
    "id": "wl8UGRA6-tyA",
    "tags": [],
    "vscode": {
     "languageId": "python"
    }
   },
   "outputs": [],
   "source": [
    "from eugene.dataload.datamodules._H5DataModule import H5DataModule"
   ]
  },
  {
   "cell_type": "code",
   "execution_count": 8,
   "id": "4d8de611-e23a-4308-b484-fd863eb8367a",
   "metadata": {
    "execution": {
     "iopub.execute_input": "2022-12-20T04:42:51.180456Z",
     "iopub.status.busy": "2022-12-20T04:42:51.180140Z",
     "iopub.status.idle": "2022-12-20T04:42:55.287275Z",
     "shell.execute_reply": "2022-12-20T04:42:55.286787Z",
     "shell.execute_reply.started": "2022-12-20T04:42:51.180438Z"
    },
    "tags": [],
    "vscode": {
     "languageId": "python"
    }
   },
   "outputs": [],
   "source": [
    "import h5py"
   ]
  },
  {
   "cell_type": "code",
   "execution_count": 11,
   "id": "0de6d9ff-ace1-4b32-8fa1-1ff57b0c1e27",
   "metadata": {
    "execution": {
     "iopub.execute_input": "2022-12-20T04:43:47.974529Z",
     "iopub.status.busy": "2022-12-20T04:43:47.973797Z",
     "iopub.status.idle": "2022-12-20T04:43:51.737610Z",
     "shell.execute_reply": "2022-12-20T04:43:51.737173Z",
     "shell.execute_reply.started": "2022-12-20T04:43:47.974508Z"
    },
    "tags": [],
    "vscode": {
     "languageId": "python"
    }
   },
   "outputs": [
    {
     "name": "stdout",
     "output_type": "stream",
     "text": [
      "['x_test', 'x_train', 'x_valid', 'y_test', 'y_train', 'y_valid']\n"
     ]
    }
   ],
   "source": [
    "with h5py.File(filepath, 'r') as dataset:\n",
    "    print(list(dataset.keys()))"
   ]
  },
  {
   "cell_type": "code",
   "execution_count": 98,
   "id": "54e05665-7867-4aff-8e10-6e3f332b1d93",
   "metadata": {
    "execution": {
     "iopub.execute_input": "2022-12-20T05:18:53.733133Z",
     "iopub.status.busy": "2022-12-20T05:18:53.732859Z",
     "iopub.status.idle": "2022-12-20T05:18:58.771564Z",
     "shell.execute_reply": "2022-12-20T05:18:58.770930Z",
     "shell.execute_reply.started": "2022-12-20T05:18:53.733115Z"
    },
    "id": "jZJ7rcUU-tyA",
    "tags": [],
    "vscode": {
     "languageId": "python"
    }
   },
   "outputs": [],
   "source": [
    "filepath = os.path.join(eu.settings.dataset_dir, \"lee22\", \"CTCF_200.h5\")\n",
    "data_module = H5DataModule(filepath, batch_size=128, lower_case=True, transpose=False)"
   ]
  },
  {
   "cell_type": "markdown",
   "id": "80d8abef-62d6-47be-90d9-b02ddb55fec9",
   "metadata": {
    "id": "JsllXGpZ-tyB"
   },
   "source": [
    "# Instantiate model"
   ]
  },
  {
   "cell_type": "markdown",
   "id": "fc6d1e28-f19c-4f06-b062-f3f30fbea9ed",
   "metadata": {},
   "source": [
    "## From `EUGENe`"
   ]
  },
  {
   "cell_type": "code",
   "execution_count": 86,
   "id": "4ab1f512-1f1b-49d7-9c1a-5d74bb63b29d",
   "metadata": {
    "execution": {
     "iopub.execute_input": "2022-12-20T05:11:32.688248Z",
     "iopub.status.busy": "2022-12-20T05:11:32.688080Z",
     "iopub.status.idle": "2022-12-20T05:11:35.722394Z",
     "shell.execute_reply": "2022-12-20T05:11:35.721888Z",
     "shell.execute_reply.started": "2022-12-20T05:11:32.688232Z"
    },
    "id": "fwxajn6z-tyB",
    "tags": [],
    "vscode": {
     "languageId": "python"
    }
   },
   "outputs": [],
   "source": [
    "import torch\n",
    "import torch.nn as nn\n",
    "import eugene.models.base._blocks as blocks\n",
    "import eugene.models.base._towers as towers\n",
    "import eugene.models.base._layers as layers\n",
    "from eugene.models import SequenceModel\n",
    "class customConv(SequenceModel):\n",
    "    \n",
    "    def __init__(\n",
    "        self,\n",
    "        input_len: int,\n",
    "        output_dim: int,\n",
    "        strand: str = \"ss\",\n",
    "        task: str = \"binary_classification\",\n",
    "        aggr: str = None,\n",
    "        loss_fxn: str = \"bce\",\n",
    "        **kwargs\n",
    "    ):\n",
    "        super().__init__(\n",
    "            input_len, \n",
    "            output_dim, \n",
    "            strand=strand, \n",
    "            task=task, \n",
    "            aggr=aggr, \n",
    "            loss_fxn=loss_fxn, \n",
    "            **kwargs\n",
    "        )\n",
    "        self.model = nn.Sequential()\n",
    "        self.model.add_module(\n",
    "            \"conv_tower\",\n",
    "            towers.Tower(\n",
    "                input_size=(4, input_len),\n",
    "                block=blocks.Conv1DBlock,\n",
    "                repeats=3,\n",
    "                static_block_args=dict(input_len=200, dropout_rate=0.2, order=\"conv-norm-act-dropout-pool\"),\n",
    "                dynamic_block_args=dict(input_channels=[4, 64, 96], output_channels=[64, 96, 128], conv_kernel=[7, 5, 5], pool_kernel=[4, 4, 2])\n",
    "            )\n",
    "        )\n",
    "        self.model.add_module(\"flatten_layer\", layers.Flatten())\n",
    "        self.model.add_module(\n",
    "            \"dense_block\",\n",
    "            blocks.DenseBlock(\n",
    "                input_dim=np.product(conv_tower.output_size), \n",
    "                output_dim=output_dim, \n",
    "                hidden_dims=[256],\n",
    "                batchnorm=True,\n",
    "                batchnorm_first=True, \n",
    "                dropout_rates=0.5,\n",
    "            )\n",
    "        )\n",
    "            \n",
    "    def forward(self, x, x_rev_comp=None):\n",
    "        return self.model(x)"
   ]
  },
  {
   "cell_type": "code",
   "execution_count": 87,
   "id": "f73fc446-25a3-49a2-9521-27d7d0b17265",
   "metadata": {
    "execution": {
     "iopub.execute_input": "2022-12-20T05:11:35.723592Z",
     "iopub.status.busy": "2022-12-20T05:11:35.723339Z",
     "iopub.status.idle": "2022-12-20T05:11:38.588990Z",
     "shell.execute_reply": "2022-12-20T05:11:38.588546Z",
     "shell.execute_reply.started": "2022-12-20T05:11:35.723576Z"
    },
    "tags": [],
    "vscode": {
     "languageId": "python"
    }
   },
   "outputs": [
    {
     "name": "stdout",
     "output_type": "stream",
     "text": [
      "None None binary_classification\n",
      "auroc\n",
      "{'task': 'binary'}\n",
      "AUROC()\n",
      "{'regression': {}, 'binary_classification': {'task': 'binary'}, 'multiclass_classification': {'task': 'multiclass'}, 'multilabel_classification': {'task': 'multilabel'}}\n"
     ]
    }
   ],
   "source": [
    "model = customConv(input_len=200, output_dim=1).to(\"cpu\")"
   ]
  },
  {
   "cell_type": "markdown",
   "id": "0d368bf2-4cbe-47c7-9752-1c59ad270251",
   "metadata": {
    "id": "1hAUZjIs-tyC"
   },
   "source": [
    "# Train model"
   ]
  },
  {
   "cell_type": "code",
   "execution_count": 89,
   "id": "37055696-d53f-47b3-bfe1-e499ada5b168",
   "metadata": {
    "execution": {
     "iopub.execute_input": "2022-12-20T05:11:44.939633Z",
     "iopub.status.busy": "2022-12-20T05:11:44.939409Z",
     "iopub.status.idle": "2022-12-20T05:11:48.770622Z",
     "shell.execute_reply": "2022-12-20T05:11:48.769943Z",
     "shell.execute_reply.started": "2022-12-20T05:11:44.939614Z"
    },
    "tags": [],
    "vscode": {
     "languageId": "python"
    }
   },
   "outputs": [],
   "source": [
    "import pytorch_lightning as pl"
   ]
  },
  {
   "cell_type": "code",
   "execution_count": 90,
   "id": "87850c72-dcfc-4b39-92ec-b2df58f796f4",
   "metadata": {
    "execution": {
     "iopub.execute_input": "2022-12-20T05:11:48.771981Z",
     "iopub.status.busy": "2022-12-20T05:11:48.771684Z",
     "iopub.status.idle": "2022-12-20T05:11:52.526972Z",
     "shell.execute_reply": "2022-12-20T05:11:52.526343Z",
     "shell.execute_reply.started": "2022-12-20T05:11:48.771963Z"
    },
    "tags": [],
    "vscode": {
     "languageId": "python"
    }
   },
   "outputs": [],
   "source": [
    "callback_topmodel = pl.callbacks.ModelCheckpoint(monitor='val_loss', \n",
    "                                                 save_top_k=1, \n",
    "                                                 dirpath=\"eugene_logs\", \n",
    "                                                 filename=\"CTCF\")\n",
    "callback_es = pl.callbacks.early_stopping.EarlyStopping(monitor='val_loss', patience=10)"
   ]
  },
  {
   "cell_type": "code",
   "execution_count": 91,
   "id": "4c764899-ab12-431e-b17e-e9889dd6b99c",
   "metadata": {
    "execution": {
     "iopub.execute_input": "2022-12-20T05:12:03.440359Z",
     "iopub.status.busy": "2022-12-20T05:12:03.440121Z",
     "iopub.status.idle": "2022-12-20T05:12:07.215213Z",
     "shell.execute_reply": "2022-12-20T05:12:07.214600Z",
     "shell.execute_reply.started": "2022-12-20T05:12:03.440341Z"
    },
    "tags": [],
    "vscode": {
     "languageId": "python"
    }
   },
   "outputs": [
    {
     "name": "stderr",
     "output_type": "stream",
     "text": [
      "GPU available: True, used: True\n",
      "TPU available: False, using: 0 TPU cores\n",
      "IPU available: False, using: 0 IPUs\n"
     ]
    }
   ],
   "source": [
    "logger = pl.loggers.TensorBoardLogger(save_dir=\"eugene_logs\")\n",
    "trainer = pl.Trainer(gpus=1, max_epochs=100, auto_select_gpus=True, logger=logger, callbacks=[callback_es, callback_topmodel])"
   ]
  },
  {
   "cell_type": "code",
   "execution_count": 99,
   "id": "2b83fb00-b7ed-4e9b-88c3-76780b465e6f",
   "metadata": {
    "execution": {
     "iopub.execute_input": "2022-12-20T05:19:08.485761Z",
     "iopub.status.busy": "2022-12-20T05:19:08.485586Z",
     "iopub.status.idle": "2022-12-20T05:22:43.557065Z",
     "shell.execute_reply": "2022-12-20T05:22:43.556522Z",
     "shell.execute_reply.started": "2022-12-20T05:19:08.485744Z"
    },
    "tags": [],
    "vscode": {
     "languageId": "python"
    }
   },
   "outputs": [
    {
     "name": "stderr",
     "output_type": "stream",
     "text": [
      "LOCAL_RANK: 0 - CUDA_VISIBLE_DEVICES: [0]\n",
      "Set SLURM handle signals.\n",
      "\n",
      "  | Name         | Type       | Params\n",
      "--------------------------------------------\n",
      "0 | train_metric | AUROC      | 0     \n",
      "1 | val_metric   | AUROC      | 0     \n",
      "2 | test_metric  | AUROC      | 0     \n",
      "3 | model        | Sequential | 194 K \n",
      "--------------------------------------------\n",
      "194 K     Trainable params\n",
      "0         Non-trainable params\n",
      "194 K     Total params\n",
      "0.777     Total estimated model params size (MB)\n"
     ]
    },
    {
     "data": {
      "application/vnd.jupyter.widget-view+json": {
       "model_id": "",
       "version_major": 2,
       "version_minor": 0
      },
      "text/plain": [
       "Validation sanity check: 0it [00:00, ?it/s]"
      ]
     },
     "metadata": {},
     "output_type": "display_data"
    },
    {
     "name": "stderr",
     "output_type": "stream",
     "text": [
      "Global seed set to 13\n",
      "/cellar/users/aklie/opt/miniconda3/envs/eugene_dev/lib/python3.7/site-packages/pytorch_lightning/trainer/data_loading.py:133: UserWarning: The dataloader, train_dataloader, does not have many workers which may be a bottleneck. Consider increasing the value of the `num_workers` argument` (try 16 which is the number of cpus on this machine) in the `DataLoader` init to improve performance.\n",
      "  f\"The dataloader, {name}, does not have many workers which may be a bottleneck.\"\n"
     ]
    },
    {
     "data": {
      "application/vnd.jupyter.widget-view+json": {
       "model_id": "0e686eaa57ec4fab856bff49f6033109",
       "version_major": 2,
       "version_minor": 0
      },
      "text/plain": [
       "Training: 0it [00:00, ?it/s]"
      ]
     },
     "metadata": {},
     "output_type": "display_data"
    },
    {
     "data": {
      "application/vnd.jupyter.widget-view+json": {
       "model_id": "",
       "version_major": 2,
       "version_minor": 0
      },
      "text/plain": [
       "Validating: 0it [00:00, ?it/s]"
      ]
     },
     "metadata": {},
     "output_type": "display_data"
    },
    {
     "data": {
      "application/vnd.jupyter.widget-view+json": {
       "model_id": "",
       "version_major": 2,
       "version_minor": 0
      },
      "text/plain": [
       "Validating: 0it [00:00, ?it/s]"
      ]
     },
     "metadata": {},
     "output_type": "display_data"
    },
    {
     "data": {
      "application/vnd.jupyter.widget-view+json": {
       "model_id": "",
       "version_major": 2,
       "version_minor": 0
      },
      "text/plain": [
       "Validating: 0it [00:00, ?it/s]"
      ]
     },
     "metadata": {},
     "output_type": "display_data"
    },
    {
     "data": {
      "application/vnd.jupyter.widget-view+json": {
       "model_id": "",
       "version_major": 2,
       "version_minor": 0
      },
      "text/plain": [
       "Validating: 0it [00:00, ?it/s]"
      ]
     },
     "metadata": {},
     "output_type": "display_data"
    },
    {
     "data": {
      "application/vnd.jupyter.widget-view+json": {
       "model_id": "",
       "version_major": 2,
       "version_minor": 0
      },
      "text/plain": [
       "Validating: 0it [00:00, ?it/s]"
      ]
     },
     "metadata": {},
     "output_type": "display_data"
    },
    {
     "data": {
      "application/vnd.jupyter.widget-view+json": {
       "model_id": "",
       "version_major": 2,
       "version_minor": 0
      },
      "text/plain": [
       "Validating: 0it [00:00, ?it/s]"
      ]
     },
     "metadata": {},
     "output_type": "display_data"
    },
    {
     "data": {
      "application/vnd.jupyter.widget-view+json": {
       "model_id": "",
       "version_major": 2,
       "version_minor": 0
      },
      "text/plain": [
       "Validating: 0it [00:00, ?it/s]"
      ]
     },
     "metadata": {},
     "output_type": "display_data"
    },
    {
     "data": {
      "application/vnd.jupyter.widget-view+json": {
       "model_id": "",
       "version_major": 2,
       "version_minor": 0
      },
      "text/plain": [
       "Validating: 0it [00:00, ?it/s]"
      ]
     },
     "metadata": {},
     "output_type": "display_data"
    },
    {
     "data": {
      "application/vnd.jupyter.widget-view+json": {
       "model_id": "",
       "version_major": 2,
       "version_minor": 0
      },
      "text/plain": [
       "Validating: 0it [00:00, ?it/s]"
      ]
     },
     "metadata": {},
     "output_type": "display_data"
    },
    {
     "data": {
      "application/vnd.jupyter.widget-view+json": {
       "model_id": "",
       "version_major": 2,
       "version_minor": 0
      },
      "text/plain": [
       "Validating: 0it [00:00, ?it/s]"
      ]
     },
     "metadata": {},
     "output_type": "display_data"
    },
    {
     "data": {
      "application/vnd.jupyter.widget-view+json": {
       "model_id": "",
       "version_major": 2,
       "version_minor": 0
      },
      "text/plain": [
       "Validating: 0it [00:00, ?it/s]"
      ]
     },
     "metadata": {},
     "output_type": "display_data"
    },
    {
     "data": {
      "application/vnd.jupyter.widget-view+json": {
       "model_id": "",
       "version_major": 2,
       "version_minor": 0
      },
      "text/plain": [
       "Validating: 0it [00:00, ?it/s]"
      ]
     },
     "metadata": {},
     "output_type": "display_data"
    },
    {
     "data": {
      "application/vnd.jupyter.widget-view+json": {
       "model_id": "",
       "version_major": 2,
       "version_minor": 0
      },
      "text/plain": [
       "Validating: 0it [00:00, ?it/s]"
      ]
     },
     "metadata": {},
     "output_type": "display_data"
    },
    {
     "data": {
      "application/vnd.jupyter.widget-view+json": {
       "model_id": "",
       "version_major": 2,
       "version_minor": 0
      },
      "text/plain": [
       "Validating: 0it [00:00, ?it/s]"
      ]
     },
     "metadata": {},
     "output_type": "display_data"
    },
    {
     "data": {
      "application/vnd.jupyter.widget-view+json": {
       "model_id": "",
       "version_major": 2,
       "version_minor": 0
      },
      "text/plain": [
       "Validating: 0it [00:00, ?it/s]"
      ]
     },
     "metadata": {},
     "output_type": "display_data"
    },
    {
     "data": {
      "application/vnd.jupyter.widget-view+json": {
       "model_id": "",
       "version_major": 2,
       "version_minor": 0
      },
      "text/plain": [
       "Validating: 0it [00:00, ?it/s]"
      ]
     },
     "metadata": {},
     "output_type": "display_data"
    },
    {
     "data": {
      "application/vnd.jupyter.widget-view+json": {
       "model_id": "",
       "version_major": 2,
       "version_minor": 0
      },
      "text/plain": [
       "Validating: 0it [00:00, ?it/s]"
      ]
     },
     "metadata": {},
     "output_type": "display_data"
    },
    {
     "data": {
      "application/vnd.jupyter.widget-view+json": {
       "model_id": "",
       "version_major": 2,
       "version_minor": 0
      },
      "text/plain": [
       "Validating: 0it [00:00, ?it/s]"
      ]
     },
     "metadata": {},
     "output_type": "display_data"
    },
    {
     "data": {
      "application/vnd.jupyter.widget-view+json": {
       "model_id": "",
       "version_major": 2,
       "version_minor": 0
      },
      "text/plain": [
       "Validating: 0it [00:00, ?it/s]"
      ]
     },
     "metadata": {},
     "output_type": "display_data"
    },
    {
     "data": {
      "application/vnd.jupyter.widget-view+json": {
       "model_id": "",
       "version_major": 2,
       "version_minor": 0
      },
      "text/plain": [
       "Validating: 0it [00:00, ?it/s]"
      ]
     },
     "metadata": {},
     "output_type": "display_data"
    },
    {
     "data": {
      "application/vnd.jupyter.widget-view+json": {
       "model_id": "",
       "version_major": 2,
       "version_minor": 0
      },
      "text/plain": [
       "Validating: 0it [00:00, ?it/s]"
      ]
     },
     "metadata": {},
     "output_type": "display_data"
    },
    {
     "data": {
      "application/vnd.jupyter.widget-view+json": {
       "model_id": "",
       "version_major": 2,
       "version_minor": 0
      },
      "text/plain": [
       "Validating: 0it [00:00, ?it/s]"
      ]
     },
     "metadata": {},
     "output_type": "display_data"
    },
    {
     "data": {
      "application/vnd.jupyter.widget-view+json": {
       "model_id": "",
       "version_major": 2,
       "version_minor": 0
      },
      "text/plain": [
       "Validating: 0it [00:00, ?it/s]"
      ]
     },
     "metadata": {},
     "output_type": "display_data"
    },
    {
     "data": {
      "application/vnd.jupyter.widget-view+json": {
       "model_id": "",
       "version_major": 2,
       "version_minor": 0
      },
      "text/plain": [
       "Validating: 0it [00:00, ?it/s]"
      ]
     },
     "metadata": {},
     "output_type": "display_data"
    },
    {
     "data": {
      "application/vnd.jupyter.widget-view+json": {
       "model_id": "",
       "version_major": 2,
       "version_minor": 0
      },
      "text/plain": [
       "Validating: 0it [00:00, ?it/s]"
      ]
     },
     "metadata": {},
     "output_type": "display_data"
    },
    {
     "data": {
      "application/vnd.jupyter.widget-view+json": {
       "model_id": "",
       "version_major": 2,
       "version_minor": 0
      },
      "text/plain": [
       "Validating: 0it [00:00, ?it/s]"
      ]
     },
     "metadata": {},
     "output_type": "display_data"
    },
    {
     "data": {
      "application/vnd.jupyter.widget-view+json": {
       "model_id": "",
       "version_major": 2,
       "version_minor": 0
      },
      "text/plain": [
       "Validating: 0it [00:00, ?it/s]"
      ]
     },
     "metadata": {},
     "output_type": "display_data"
    },
    {
     "data": {
      "application/vnd.jupyter.widget-view+json": {
       "model_id": "",
       "version_major": 2,
       "version_minor": 0
      },
      "text/plain": [
       "Validating: 0it [00:00, ?it/s]"
      ]
     },
     "metadata": {},
     "output_type": "display_data"
    },
    {
     "data": {
      "application/vnd.jupyter.widget-view+json": {
       "model_id": "",
       "version_major": 2,
       "version_minor": 0
      },
      "text/plain": [
       "Validating: 0it [00:00, ?it/s]"
      ]
     },
     "metadata": {},
     "output_type": "display_data"
    },
    {
     "data": {
      "application/vnd.jupyter.widget-view+json": {
       "model_id": "",
       "version_major": 2,
       "version_minor": 0
      },
      "text/plain": [
       "Validating: 0it [00:00, ?it/s]"
      ]
     },
     "metadata": {},
     "output_type": "display_data"
    },
    {
     "data": {
      "application/vnd.jupyter.widget-view+json": {
       "model_id": "",
       "version_major": 2,
       "version_minor": 0
      },
      "text/plain": [
       "Validating: 0it [00:00, ?it/s]"
      ]
     },
     "metadata": {},
     "output_type": "display_data"
    },
    {
     "data": {
      "application/vnd.jupyter.widget-view+json": {
       "model_id": "",
       "version_major": 2,
       "version_minor": 0
      },
      "text/plain": [
       "Validating: 0it [00:00, ?it/s]"
      ]
     },
     "metadata": {},
     "output_type": "display_data"
    },
    {
     "data": {
      "application/vnd.jupyter.widget-view+json": {
       "model_id": "",
       "version_major": 2,
       "version_minor": 0
      },
      "text/plain": [
       "Validating: 0it [00:00, ?it/s]"
      ]
     },
     "metadata": {},
     "output_type": "display_data"
    },
    {
     "data": {
      "application/vnd.jupyter.widget-view+json": {
       "model_id": "",
       "version_major": 2,
       "version_minor": 0
      },
      "text/plain": [
       "Validating: 0it [00:00, ?it/s]"
      ]
     },
     "metadata": {},
     "output_type": "display_data"
    },
    {
     "data": {
      "application/vnd.jupyter.widget-view+json": {
       "model_id": "",
       "version_major": 2,
       "version_minor": 0
      },
      "text/plain": [
       "Validating: 0it [00:00, ?it/s]"
      ]
     },
     "metadata": {},
     "output_type": "display_data"
    }
   ],
   "source": [
    "# Fit to data\n",
    "trainer.fit(model, datamodule=data_module)"
   ]
  },
  {
   "cell_type": "code",
   "execution_count": 100,
   "id": "157a26dc-7631-4a15-a9f4-ae5ea97cd4f5",
   "metadata": {
    "execution": {
     "iopub.execute_input": "2022-12-20T05:22:53.601825Z",
     "iopub.status.busy": "2022-12-20T05:22:53.601547Z",
     "iopub.status.idle": "2022-12-20T05:22:59.965619Z",
     "shell.execute_reply": "2022-12-20T05:22:59.964993Z",
     "shell.execute_reply.started": "2022-12-20T05:22:53.601807Z"
    },
    "tags": [],
    "vscode": {
     "languageId": "python"
    }
   },
   "outputs": [
    {
     "data": {
      "image/png": "[encoded data removed]",
      "text/plain": [
       "<Figure size 864x432 with 2 Axes>"
      ]
     },
     "metadata": {
      "needs_background": "light"
     },
     "output_type": "display_data"
    }
   ],
   "source": [
    "eu.pl.training_summary(\"eugene_logs/default/version_0/\", metric=\"auroc\")"
   ]
  },
  {
   "cell_type": "markdown",
   "id": "5ed66e40-ff07-445e-a34f-00c95177f764",
   "metadata": {},
   "source": [
    "# Evaluate model"
   ]
  },
  {
   "cell_type": "code",
   "execution_count": 4,
   "id": "27804ef5-bf48-4c68-b5ad-faa4f492bb4e",
   "metadata": {
    "execution": {
     "iopub.execute_input": "2022-12-20T03:56:25.031642Z",
     "iopub.status.busy": "2022-12-20T03:56:25.030948Z",
     "iopub.status.idle": "2022-12-20T03:56:28.636330Z",
     "shell.execute_reply": "2022-12-20T03:56:28.635833Z",
     "shell.execute_reply.started": "2022-12-20T03:56:25.031619Z"
    },
    "tags": [],
    "vscode": {
     "languageId": "python"
    }
   },
   "outputs": [],
   "source": [
    "MODEL_PATH = \"/cellar/users/aklie/projects/EUGENe_use_cases/kelley16/eugene_logs/Basset.ckpt\""
   ]
  },
  {
   "cell_type": "code",
   "execution_count": 5,
   "id": "2cdffc1a-3e45-460d-a878-b59cd62e93bc",
   "metadata": {
    "execution": {
     "iopub.execute_input": "2022-12-20T03:56:28.639255Z",
     "iopub.status.busy": "2022-12-20T03:56:28.638789Z",
     "iopub.status.idle": "2022-12-20T03:56:35.120192Z",
     "shell.execute_reply": "2022-12-20T03:56:35.119578Z",
     "shell.execute_reply.started": "2022-12-20T03:56:28.639233Z"
    },
    "tags": [],
    "vscode": {
     "languageId": "python"
    }
   },
   "outputs": [
    {
     "name": "stdout",
     "output_type": "stream",
     "text": [
      "None {'num_classes': 164} multilabel_classification\n",
      "auroc\n",
      "{'num_classes': 164}\n",
      "AUROC()\n",
      "{'regression': {}, 'binary_classification': {'task': 'binary'}, 'multiclass_classification': {'task': 'multiclass'}, 'multilabel_classification': {'task': 'multilabel'}}\n"
     ]
    },
    {
     "name": "stderr",
     "output_type": "stream",
     "text": [
      "/cellar/users/aklie/opt/miniconda3/envs/eugene_dev/lib/python3.7/site-packages/torchmetrics/utilities/prints.py:36: UserWarning: Metric `AUROC` will save all targets and predictions in buffer. For large datasets this may lead to large memory footprint.\n",
      "  warnings.warn(*args, **kwargs)\n"
     ]
    }
   ],
   "source": [
    "best_model = eu.models.Basset.load_from_checkpoint(MODEL_PATH)"
   ]
  },
  {
   "cell_type": "code",
   "execution_count": 36,
   "id": "b14043aa-d393-4ecc-9808-8eb18f674582",
   "metadata": {
    "execution": {
     "iopub.execute_input": "2022-12-20T04:06:20.591684Z",
     "iopub.status.busy": "2022-12-20T04:06:20.591454Z",
     "iopub.status.idle": "2022-12-20T04:06:24.383120Z",
     "shell.execute_reply": "2022-12-20T04:06:24.382519Z",
     "shell.execute_reply.started": "2022-12-20T04:06:20.591666Z"
    },
    "tags": [],
    "vscode": {
     "languageId": "python"
    }
   },
   "outputs": [
    {
     "data": {
      "text/plain": [
       "array([[0., 0., 0., ..., 0., 0., 0.],\n",
       "       [0., 0., 0., ..., 0., 0., 0.],\n",
       "       [0., 0., 0., ..., 0., 0., 0.],\n",
       "       ...,\n",
       "       [0., 0., 0., ..., 0., 0., 0.],\n",
       "       [0., 0., 0., ..., 0., 0., 0.],\n",
       "       [0., 1., 0., ..., 0., 0., 0.]], dtype=float32)"
      ]
     },
     "execution_count": 36,
     "metadata": {},
     "output_type": "execute_result"
    }
   ],
   "source": [
    "data_module.y_test"
   ]
  },
  {
   "cell_type": "code",
   "execution_count": 16,
   "id": "86857f29-1786-4122-bb17-00a97752a34c",
   "metadata": {
    "execution": {
     "iopub.execute_input": "2022-12-20T04:01:51.820802Z",
     "iopub.status.busy": "2022-12-20T04:01:51.820462Z",
     "iopub.status.idle": "2022-12-20T04:01:55.758017Z",
     "shell.execute_reply": "2022-12-20T04:01:55.757357Z",
     "shell.execute_reply.started": "2022-12-20T04:01:51.820772Z"
    },
    "tags": [],
    "vscode": {
     "languageId": "python"
    }
   },
   "outputs": [],
   "source": [
    "from torchvision import transforms\n",
    "from eugene.dataload import ToTensor"
   ]
  },
  {
   "cell_type": "code",
   "execution_count": 46,
   "id": "f4a4faee-91fe-40a1-9f1d-9e3bd596cd28",
   "metadata": {
    "execution": {
     "iopub.execute_input": "2022-12-20T04:09:06.772052Z",
     "iopub.status.busy": "2022-12-20T04:09:06.771639Z",
     "iopub.status.idle": "2022-12-20T04:09:09.792858Z",
     "shell.execute_reply": "2022-12-20T04:09:09.792435Z",
     "shell.execute_reply.started": "2022-12-20T04:09:06.772031Z"
    },
    "tags": [],
    "vscode": {
     "languageId": "python"
    }
   },
   "outputs": [],
   "source": [
    "sdataset = eu.dl.SeqDataset(\n",
    "    seqs=data_module.x_test, \n",
    "    targets=data_module.y_test, \n",
    "    names=np.array([f\"seq{i}\" for i in range(len(data_module.x_test))]),\n",
    "    transform=transforms.Compose([ToTensor()])\n",
    ")"
   ]
  },
  {
   "cell_type": "code",
   "execution_count": 47,
   "id": "ad29563d-e12b-4910-9ac5-287f923b1596",
   "metadata": {
    "execution": {
     "iopub.execute_input": "2022-12-20T04:09:12.127892Z",
     "iopub.status.busy": "2022-12-20T04:09:12.127725Z",
     "iopub.status.idle": "2022-12-20T04:09:15.098386Z",
     "shell.execute_reply": "2022-12-20T04:09:15.097919Z",
     "shell.execute_reply.started": "2022-12-20T04:09:12.127875Z"
    },
    "vscode": {
     "languageId": "python"
    }
   },
   "outputs": [
    {
     "data": {
      "text/plain": [
       "(tensor([115., 101., 113.,  48.,  36.,  36.,  36.,  36.]),\n",
       " tensor([[1., 0., 0.,  ..., 1., 0., 1.],\n",
       "         [0., 0., 0.,  ..., 0., 0., 0.],\n",
       "         [0., 0., 0.,  ..., 0., 0., 0.],\n",
       "         [0., 1., 1.,  ..., 0., 1., 0.]]),\n",
       " tensor([-1.]),\n",
       " tensor([0., 0., 0., 0., 0., 0., 0., 0., 0., 0., 0., 0., 0., 0., 0., 0., 0., 0.,\n",
       "         0., 0., 0., 0., 0., 0., 0., 0., 0., 0., 0., 0., 0., 1., 0., 0., 0., 0.,\n",
       "         0., 0., 0., 0., 0., 0., 0., 0., 0., 0., 0., 0., 0., 0., 0., 0., 0., 0.,\n",
       "         0., 0., 0., 0., 0., 0., 0., 0., 0., 0., 0., 0., 0., 0., 0., 0., 0., 0.,\n",
       "         0., 0., 0., 0., 0., 0., 0., 0., 0., 0., 0., 0., 0., 0., 0., 0., 0., 0.,\n",
       "         0., 0., 0., 0., 0., 0., 0., 0., 0., 0., 0., 0., 0., 0., 0., 0., 0., 0.,\n",
       "         0., 0., 0., 0., 0., 0., 0., 0., 0., 0., 0., 0., 0., 0., 0., 0., 0., 0.,\n",
       "         0., 0., 0., 0., 0., 0., 0., 0., 0., 0., 0., 0., 0., 0., 0., 0., 0., 0.,\n",
       "         0., 0., 0., 0., 0., 0., 0., 0., 0., 0., 0., 0., 0., 0., 0., 0., 0., 0.,\n",
       "         0., 0.]))"
      ]
     },
     "execution_count": 47,
     "metadata": {},
     "output_type": "execute_result"
    }
   ],
   "source": [
    "sdataset[0]"
   ]
  },
  {
   "cell_type": "code",
   "execution_count": 48,
   "id": "43c8eee1-fb83-4789-ab65-a2a8a2040793",
   "metadata": {
    "execution": {
     "iopub.execute_input": "2022-12-20T04:09:18.591849Z",
     "iopub.status.busy": "2022-12-20T04:09:18.591555Z",
     "iopub.status.idle": "2022-12-20T04:09:22.503988Z",
     "shell.execute_reply": "2022-12-20T04:09:22.503469Z",
     "shell.execute_reply.started": "2022-12-20T04:09:18.591829Z"
    },
    "tags": [],
    "vscode": {
     "languageId": "python"
    }
   },
   "outputs": [],
   "source": [
    "sdataloader = sdataset.to_dataloader(batch_size=128, shuffle=False)"
   ]
  },
  {
   "cell_type": "code",
   "execution_count": 49,
   "id": "b65c4708-ca99-44a1-9c8e-0fbc301a233a",
   "metadata": {
    "execution": {
     "iopub.execute_input": "2022-12-20T04:09:22.984679Z",
     "iopub.status.busy": "2022-12-20T04:09:22.984514Z",
     "iopub.status.idle": "2022-12-20T04:09:26.849138Z",
     "shell.execute_reply": "2022-12-20T04:09:26.848722Z",
     "shell.execute_reply.started": "2022-12-20T04:09:22.984663Z"
    },
    "tags": [],
    "vscode": {
     "languageId": "python"
    }
   },
   "outputs": [
    {
     "name": "stderr",
     "output_type": "stream",
     "text": [
      "GPU available: True, used: True\n",
      "TPU available: False, using: 0 TPU cores\n",
      "IPU available: False, using: 0 IPUs\n"
     ]
    }
   ],
   "source": [
    "trainer = pl.Trainer(gpus=1, auto_select_gpus=True, logger=None)"
   ]
  },
  {
   "cell_type": "code",
   "execution_count": 54,
   "id": "6e5efb10-7a38-4f8e-9f02-fb2d2810efe7",
   "metadata": {
    "execution": {
     "iopub.execute_input": "2022-12-20T04:10:21.642952Z",
     "iopub.status.busy": "2022-12-20T04:10:21.642703Z",
     "iopub.status.idle": "2022-12-20T04:10:32.026569Z",
     "shell.execute_reply": "2022-12-20T04:10:32.026034Z",
     "shell.execute_reply.started": "2022-12-20T04:10:21.642934Z"
    },
    "tags": [],
    "vscode": {
     "languageId": "python"
    }
   },
   "outputs": [
    {
     "name": "stderr",
     "output_type": "stream",
     "text": [
      "LOCAL_RANK: 0 - CUDA_VISIBLE_DEVICES: [0]\n"
     ]
    },
    {
     "data": {
      "application/vnd.jupyter.widget-view+json": {
       "model_id": "3613753018894767abdcfbc22e3ca6e2",
       "version_major": 2,
       "version_minor": 0
      },
      "text/plain": [
       "Predicting: 0it [00:00, ?it/s]"
      ]
     },
     "metadata": {},
     "output_type": "display_data"
    }
   ],
   "source": [
    "pred = np.concatenate(trainer.predict(best_model, dataloaders=sdataloader))"
   ]
  },
  {
   "cell_type": "code",
   "execution_count": 64,
   "id": "88de3931-4b03-4243-b74c-44e4b7db20fe",
   "metadata": {
    "execution": {
     "iopub.execute_input": "2022-12-20T04:14:47.591159Z",
     "iopub.status.busy": "2022-12-20T04:14:47.590961Z",
     "iopub.status.idle": "2022-12-20T04:14:53.616885Z",
     "shell.execute_reply": "2022-12-20T04:14:53.616345Z",
     "shell.execute_reply.started": "2022-12-20T04:14:47.591142Z"
    },
    "tags": [],
    "vscode": {
     "languageId": "python"
    }
   },
   "outputs": [],
   "source": [
    "preds = pred[:, 1:165].astype(np.float32)\n",
    "trues = pred[:, 165:].astype(np.float32)\n",
    "ids = pred[:, 1]"
   ]
  },
  {
   "cell_type": "code",
   "execution_count": 65,
   "id": "4e7f7b6f-33d8-4ceb-aa8b-ad2de12b0e4f",
   "metadata": {
    "execution": {
     "iopub.execute_input": "2022-12-20T04:14:55.028125Z",
     "iopub.status.busy": "2022-12-20T04:14:55.027814Z",
     "iopub.status.idle": "2022-12-20T04:14:58.812207Z",
     "shell.execute_reply": "2022-12-20T04:14:58.811739Z",
     "shell.execute_reply.started": "2022-12-20T04:14:55.028107Z"
    },
    "tags": [],
    "vscode": {
     "languageId": "python"
    }
   },
   "outputs": [
    {
     "data": {
      "text/plain": [
       "array([[-4.5189333, -4.5125437, -3.7900558, ..., -3.0956502, -3.6418533,\n",
       "        -4.6703386],\n",
       "       [-2.5667593, -5.189077 , -2.7265296, ..., -3.2501156, -3.4317393,\n",
       "        -4.0454507],\n",
       "       [-6.031025 , -4.0759897, -5.158294 , ..., -3.22485  , -4.0770197,\n",
       "        -4.8552556],\n",
       "       ...,\n",
       "       [-2.4186454, -3.8015072, -2.6640704, ..., -2.250576 , -2.9372458,\n",
       "        -3.97238  ],\n",
       "       [-5.2373266, -4.0637956, -4.5207825, ..., -3.826011 , -4.3333616,\n",
       "        -4.6849017],\n",
       "       [-2.3885746, -0.86989  , -2.1702073, ..., -2.147847 , -1.6390084,\n",
       "        -2.1693165]], dtype=float32)"
      ]
     },
     "execution_count": 65,
     "metadata": {},
     "output_type": "execute_result"
    }
   ],
   "source": [
    "preds"
   ]
  },
  {
   "cell_type": "code",
   "execution_count": 66,
   "id": "f27df086-96a4-40b2-8821-5f5e58b3eacb",
   "metadata": {
    "execution": {
     "iopub.execute_input": "2022-12-20T04:14:58.813201Z",
     "iopub.status.busy": "2022-12-20T04:14:58.813012Z",
     "iopub.status.idle": "2022-12-20T04:15:03.000271Z",
     "shell.execute_reply": "2022-12-20T04:15:02.999804Z",
     "shell.execute_reply.started": "2022-12-20T04:14:58.813183Z"
    },
    "tags": [],
    "vscode": {
     "languageId": "python"
    }
   },
   "outputs": [
    {
     "data": {
      "text/plain": [
       "array([[0., 0., 0., ..., 0., 0., 0.],\n",
       "       [0., 0., 0., ..., 0., 0., 0.],\n",
       "       [0., 0., 0., ..., 0., 0., 0.],\n",
       "       ...,\n",
       "       [0., 0., 0., ..., 0., 0., 0.],\n",
       "       [0., 0., 0., ..., 0., 0., 0.],\n",
       "       [0., 1., 0., ..., 0., 0., 0.]], dtype=float32)"
      ]
     },
     "execution_count": 66,
     "metadata": {},
     "output_type": "execute_result"
    }
   ],
   "source": [
    "trues"
   ]
  },
  {
   "cell_type": "code",
   "execution_count": 67,
   "id": "b9422466-9a8e-4f8b-a574-df2db945bbfc",
   "metadata": {
    "execution": {
     "iopub.execute_input": "2022-12-20T04:15:03.633156Z",
     "iopub.status.busy": "2022-12-20T04:15:03.632972Z",
     "iopub.status.idle": "2022-12-20T04:15:07.436121Z",
     "shell.execute_reply": "2022-12-20T04:15:07.435641Z",
     "shell.execute_reply.started": "2022-12-20T04:15:03.633139Z"
    },
    "tags": [],
    "vscode": {
     "languageId": "python"
    }
   },
   "outputs": [],
   "source": [
    "from sklearn.metrics import roc_auc_score, average_precision_score, mean_squared_error\n",
    "from scipy import stats\n",
    "def evaluate_model(y_test, pred, task, verbose=True):\n",
    "    if task == 'regression': #isinstance(pl_model.criterion, torch.nn.modules.loss.MSELoss):\n",
    "        mse = calculate_mse(y_test, pred)\n",
    "        pearsonr = calculate_pearsonr(y_test, pred)\n",
    "        spearmanr = calculate_spearmanr(y_test, pred)\n",
    "        if verbose:\n",
    "            print(\"Test MSE       : %.4f +/- %.4f\"%(np.nanmean(mse), np.nanstd(mse)))\n",
    "            print(\"Test Pearson r : %.4f +/- %.4f\"%(np.nanmean(pearsonr), np.nanstd(pearsonr)))\n",
    "            print(\"Test Spearman r: %.4f +/- %.4f\"%(np.nanmean(spearmanr), np.nanstd(spearmanr)))\n",
    "        return mse, pearsonr, spearmanr\n",
    "\n",
    "    else: \n",
    "        auroc = calculate_auroc(y_test, pred) \n",
    "        aupr = calculate_aupr(y_test, pred) \n",
    "        if verbose:\n",
    "            print(\"Test AUROC: %.4f +/- %.4f\"%(np.nanmean(auroc), np.nanstd(auroc)))\n",
    "            print(\"Test AUPR : %.4f +/- %.4f\"%(np.nanmean(aupr), np.nanstd(aupr)))\n",
    "        return auroc, aupr\n",
    "\n",
    "\n",
    "def calculate_auroc(y_true, y_score):\n",
    "    vals = []\n",
    "    for class_index in range(y_true.shape[-1]):\n",
    "        vals.append( roc_auc_score(y_true[:,class_index], y_score[:,class_index]) )    \n",
    "    return np.array(vals)\n",
    "\n",
    "def calculate_aupr(y_true, y_score):\n",
    "    vals = []\n",
    "    for class_index in range(y_true.shape[-1]):\n",
    "        vals.append( average_precision_score(y_true[:,class_index], y_score[:,class_index]) )    \n",
    "    return np.array(vals)"
   ]
  },
  {
   "cell_type": "code",
   "execution_count": 68,
   "id": "6bbdb27f-3299-4323-ace9-75ec5bc3b0c3",
   "metadata": {
    "execution": {
     "iopub.execute_input": "2022-12-20T04:15:07.437090Z",
     "iopub.status.busy": "2022-12-20T04:15:07.436911Z",
     "iopub.status.idle": "2022-12-20T04:15:13.020012Z",
     "shell.execute_reply": "2022-12-20T04:15:13.019493Z",
     "shell.execute_reply.started": "2022-12-20T04:15:07.437073Z"
    },
    "tags": [],
    "vscode": {
     "languageId": "python"
    }
   },
   "outputs": [],
   "source": [
    "results = evaluate_model(trues, preds, \"binary\", verbose=False)"
   ]
  },
  {
   "cell_type": "code",
   "execution_count": 70,
   "id": "f90db022-f08f-4664-8299-ce18751965a8",
   "metadata": {
    "execution": {
     "iopub.execute_input": "2022-12-20T04:15:39.590946Z",
     "iopub.status.busy": "2022-12-20T04:15:39.590627Z",
     "iopub.status.idle": "2022-12-20T04:15:43.542884Z",
     "shell.execute_reply": "2022-12-20T04:15:43.542211Z",
     "shell.execute_reply.started": "2022-12-20T04:15:39.590916Z"
    },
    "tags": [],
    "vscode": {
     "languageId": "python"
    }
   },
   "outputs": [],
   "source": [
    "aurocs = results[0]\n",
    "auprs = results[1]"
   ]
  },
  {
   "cell_type": "code",
   "execution_count": 71,
   "id": "e0ea2bcd-d938-4ccb-b8de-8701085e22fd",
   "metadata": {
    "execution": {
     "iopub.execute_input": "2022-12-20T04:15:55.042529Z",
     "iopub.status.busy": "2022-12-20T04:15:55.042288Z",
     "iopub.status.idle": "2022-12-20T04:15:59.000309Z",
     "shell.execute_reply": "2022-12-20T04:15:58.999673Z",
     "shell.execute_reply.started": "2022-12-20T04:15:55.042511Z"
    },
    "vscode": {
     "languageId": "python"
    }
   },
   "outputs": [
    {
     "data": {
      "text/plain": [
       "(0.8451581652547495, 0.5309917392165966)"
      ]
     },
     "execution_count": 71,
     "metadata": {},
     "output_type": "execute_result"
    }
   ],
   "source": [
    "aurocs.mean(), auprs.mean()"
   ]
  },
  {
   "cell_type": "code",
   "execution_count": 72,
   "id": "541db2b2-b8d8-4ce5-aeab-2f2c373df6b0",
   "metadata": {
    "execution": {
     "iopub.execute_input": "2022-12-20T04:18:46.971320Z",
     "iopub.status.busy": "2022-12-20T04:18:46.971122Z",
     "iopub.status.idle": "2022-12-20T04:19:19.085919Z",
     "shell.execute_reply": "2022-12-20T04:19:19.085410Z",
     "shell.execute_reply.started": "2022-12-20T04:18:46.971302Z"
    },
    "vscode": {
     "languageId": "python"
    }
   },
   "outputs": [
    {
     "name": "stdout",
     "output_type": "stream",
     "text": [
      "Already up to date.\n"
     ]
    },
    {
     "data": {
      "text/plain": [
       "2    Basset\n",
       "Name: model, dtype: object"
      ]
     },
     "execution_count": 72,
     "metadata": {},
     "output_type": "execute_result"
    }
   ],
   "source": [
    "eu.external.kipoi.get_model_names(\"Basset\")"
   ]
  },
  {
   "cell_type": "code",
   "execution_count": 73,
   "id": "3a084529-9564-4955-ba5b-b90aa0d886d6",
   "metadata": {
    "execution": {
     "iopub.execute_input": "2022-12-20T04:20:26.886526Z",
     "iopub.status.busy": "2022-12-20T04:20:26.886141Z",
     "iopub.status.idle": "2022-12-20T04:20:31.715671Z",
     "shell.execute_reply": "2022-12-20T04:20:31.715011Z",
     "shell.execute_reply.started": "2022-12-20T04:20:26.886505Z"
    },
    "vscode": {
     "languageId": "python"
    }
   },
   "outputs": [
    {
     "name": "stdout",
     "output_type": "stream",
     "text": [
      "Using downloaded and verified file: /cellar/users/aklie/.kipoi/models/Basset/downloaded/model_files/weights/4878981d84499eb575abd0f3b45570d3\n"
     ]
    }
   ],
   "source": [
    "kipoi_model = eu.external.kipoi.get_model(\"Basset\")"
   ]
  },
  {
   "cell_type": "code",
   "execution_count": 77,
   "id": "8cef8bf6-dcc4-4d93-8f5a-61a0bf064584",
   "metadata": {
    "execution": {
     "iopub.execute_input": "2022-12-20T04:21:38.591625Z",
     "iopub.status.busy": "2022-12-20T04:21:38.591452Z",
     "iopub.status.idle": "2022-12-20T04:21:42.589236Z",
     "shell.execute_reply": "2022-12-20T04:21:42.588708Z",
     "shell.execute_reply.started": "2022-12-20T04:21:38.591608Z"
    },
    "vscode": {
     "languageId": "python"
    }
   },
   "outputs": [],
   "source": [
    "import torch"
   ]
  },
  {
   "cell_type": "code",
   "execution_count": 100,
   "id": "d1f2eece-4c9a-4af1-bbb9-e5980fa68ae7",
   "metadata": {
    "execution": {
     "iopub.execute_input": "2022-12-20T04:28:58.773159Z",
     "iopub.status.busy": "2022-12-20T04:28:58.772987Z",
     "iopub.status.idle": "2022-12-20T04:29:02.646425Z",
     "shell.execute_reply": "2022-12-20T04:29:02.645828Z",
     "shell.execute_reply.started": "2022-12-20T04:28:58.773142Z"
    },
    "tags": [],
    "vscode": {
     "languageId": "python"
    }
   },
   "outputs": [
    {
     "data": {
      "text/plain": [
       "torch.Size([1, 4, 600, 1])"
      ]
     },
     "execution_count": 100,
     "metadata": {},
     "output_type": "execute_result"
    }
   ],
   "source": [
    "torch.Tensor(np.expand_dims(data_module.x_test, axis=3))[:1].size()"
   ]
  },
  {
   "cell_type": "code",
   "execution_count": 111,
   "id": "5394ed02-3148-4392-a438-b7626cea17e7",
   "metadata": {
    "execution": {
     "iopub.execute_input": "2022-12-20T04:31:26.737241Z",
     "iopub.status.busy": "2022-12-20T04:31:26.736930Z",
     "iopub.status.idle": "2022-12-20T04:31:30.785340Z",
     "shell.execute_reply": "2022-12-20T04:31:30.784798Z",
     "shell.execute_reply.started": "2022-12-20T04:31:26.737223Z"
    },
    "tags": [],
    "vscode": {
     "languageId": "python"
    }
   },
   "outputs": [],
   "source": [
    "kipoi_preds = kipoi_model(torch.Tensor(np.expand_dims(data_module.x_test, axis=3))[:1000].to(\"cuda\")).to(\"cpu\").detach().numpy()"
   ]
  },
  {
   "cell_type": "code",
   "execution_count": 112,
   "id": "e9c6093f-e819-4291-bbf4-c293079b0601",
   "metadata": {
    "execution": {
     "iopub.execute_input": "2022-12-20T04:31:30.786397Z",
     "iopub.status.busy": "2022-12-20T04:31:30.786218Z",
     "iopub.status.idle": "2022-12-20T04:31:35.049564Z",
     "shell.execute_reply": "2022-12-20T04:31:35.049050Z",
     "shell.execute_reply.started": "2022-12-20T04:31:30.786381Z"
    },
    "tags": [],
    "vscode": {
     "languageId": "python"
    }
   },
   "outputs": [],
   "source": [
    "results = evaluate_model(trues[:1000], kipoi_preds, \"binary\", verbose=False)"
   ]
  },
  {
   "cell_type": "code",
   "execution_count": 114,
   "id": "6a82ece7-9263-411f-9119-b4a6c0d06457",
   "metadata": {
    "execution": {
     "iopub.execute_input": "2022-12-20T04:31:55.223578Z",
     "iopub.status.busy": "2022-12-20T04:31:55.223339Z",
     "iopub.status.idle": "2022-12-20T04:31:59.259702Z",
     "shell.execute_reply": "2022-12-20T04:31:59.259228Z",
     "shell.execute_reply.started": "2022-12-20T04:31:55.223560Z"
    },
    "tags": [],
    "vscode": {
     "languageId": "python"
    }
   },
   "outputs": [
    {
     "data": {
      "text/plain": [
       "0.6093829996690903"
      ]
     },
     "execution_count": 114,
     "metadata": {},
     "output_type": "execute_result"
    }
   ],
   "source": [
    "results[1].mean()"
   ]
  },
  {
   "cell_type": "code",
   "execution_count": 116,
   "id": "2e7d0389-df58-475f-ad7b-6ffe75b05f26",
   "metadata": {
    "execution": {
     "iopub.execute_input": "2022-12-20T04:32:26.591590Z",
     "iopub.status.busy": "2022-12-20T04:32:26.591345Z",
     "iopub.status.idle": "2022-12-20T04:32:30.625696Z",
     "shell.execute_reply": "2022-12-20T04:32:30.625084Z",
     "shell.execute_reply.started": "2022-12-20T04:32:26.591571Z"
    },
    "tags": [],
    "vscode": {
     "languageId": "python"
    }
   },
   "outputs": [
    {
     "data": {
      "text/plain": [
       "torch.nn.modules.container.Sequential"
      ]
     },
     "execution_count": 116,
     "metadata": {},
     "output_type": "execute_result"
    }
   ],
   "source": [
    "type(kipoi_model)"
   ]
  },
  {
   "cell_type": "code",
   "execution_count": 117,
   "id": "e1088e81-db89-494b-9802-c12d69af2930",
   "metadata": {
    "execution": {
     "iopub.execute_input": "2022-12-20T04:32:57.887153Z",
     "iopub.status.busy": "2022-12-20T04:32:57.886831Z",
     "iopub.status.idle": "2022-12-20T04:33:01.824834Z",
     "shell.execute_reply": "2022-12-20T04:33:01.824177Z",
     "shell.execute_reply.started": "2022-12-20T04:32:57.887136Z"
    },
    "tags": [],
    "vscode": {
     "languageId": "python"
    }
   },
   "outputs": [
    {
     "data": {
      "text/plain": [
       "Sequential(\n",
       "  (0): Conv2d(4, 300, kernel_size=(19, 1), stride=(1, 1))\n",
       "  (1): BatchNorm2d(300, eps=1e-05, momentum=0.1, affine=True, track_running_stats=True)\n",
       "  (2): ReLU()\n",
       "  (3): MaxPool2d(kernel_size=(3, 1), stride=(3, 1), padding=0, dilation=1, ceil_mode=False)\n",
       "  (4): Conv2d(300, 200, kernel_size=(11, 1), stride=(1, 1))\n",
       "  (5): BatchNorm2d(200, eps=1e-05, momentum=0.1, affine=True, track_running_stats=True)\n",
       "  (6): ReLU()\n",
       "  (7): MaxPool2d(kernel_size=(4, 1), stride=(4, 1), padding=0, dilation=1, ceil_mode=False)\n",
       "  (8): Conv2d(200, 200, kernel_size=(7, 1), stride=(1, 1))\n",
       "  (9): BatchNorm2d(200, eps=1e-05, momentum=0.1, affine=True, track_running_stats=True)\n",
       "  (10): ReLU()\n",
       "  (11): MaxPool2d(kernel_size=(4, 1), stride=(4, 1), padding=0, dilation=1, ceil_mode=False)\n",
       "  (12): Lambda()\n",
       "  (13): Sequential(\n",
       "    (0): Lambda()\n",
       "    (1): Linear(in_features=2000, out_features=1000, bias=True)\n",
       "  )\n",
       "  (14): BatchNorm1d(1000, eps=1e-05, momentum=0.1, affine=True, track_running_stats=True)\n",
       "  (15): ReLU()\n",
       "  (16): Dropout(p=0.3, inplace=False)\n",
       "  (17): Sequential(\n",
       "    (0): Lambda()\n",
       "    (1): Linear(in_features=1000, out_features=1000, bias=True)\n",
       "  )\n",
       "  (18): BatchNorm1d(1000, eps=1e-05, momentum=0.1, affine=True, track_running_stats=True)\n",
       "  (19): ReLU()\n",
       "  (20): Dropout(p=0.3, inplace=False)\n",
       "  (21): Sequential(\n",
       "    (0): Lambda()\n",
       "    (1): Linear(in_features=1000, out_features=164, bias=True)\n",
       "  )\n",
       "  (22): Sigmoid()\n",
       ")"
      ]
     },
     "execution_count": 117,
     "metadata": {},
     "output_type": "execute_result"
    }
   ],
   "source": [
    "kipoi_model.modules"
   ]
  },
  {
   "cell_type": "code",
   "execution_count": null,
   "id": "68fcc981-da9e-47f4-9be3-52446edee1cb",
   "metadata": {
    "vscode": {
     "languageId": "python"
    }
   },
   "outputs": [],
   "source": []
  }
 ],
 "metadata": {
  "kernelspec": {
   "display_name": "Python 3",
   "language": "python",
   "name": "python3"
  }
 },
 "nbformat": 4,
 "nbformat_minor": 5
}
