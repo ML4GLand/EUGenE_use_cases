{
 "cells": [
  {
   "cell_type": "markdown",
   "id": "7c83d48b",
   "metadata": {},
   "source": [
    "# Basic imports"
   ]
  },
  {
   "cell_type": "code",
   "execution_count": 1,
   "id": "c75d1836",
   "metadata": {
    "execution": {
     "iopub.execute_input": "2023-03-27T20:53:21.616928Z",
     "iopub.status.busy": "2023-03-27T20:53:21.616348Z",
     "iopub.status.idle": "2023-03-27T20:54:01.396959Z",
     "shell.execute_reply": "2023-03-27T20:54:01.394514Z",
     "shell.execute_reply.started": "2023-03-27T20:53:21.616813Z"
    },
    "tags": []
   },
   "outputs": [
    {
     "name": "stderr",
     "output_type": "stream",
     "text": [
      "Global seed set to 13\n"
     ]
    }
   ],
   "source": [
    "import eugene as eu\n",
    "\n",
    "from eugene.datasets import deBoer20\n",
    "from eugene.models import DeepBind"
   ]
  },
  {
   "cell_type": "code",
   "execution_count": 3,
   "id": "547d870c",
   "metadata": {},
   "outputs": [],
   "source": [
    "eu.settings.datasetdir = \"../_data/datasets/\""
   ]
  },
  {
   "cell_type": "code",
   "execution_count": 4,
   "id": "7d9b6fe9",
   "metadata": {},
   "outputs": [
    {
     "data": {
      "text/plain": [
       "'../_data/datasets/'"
      ]
     },
     "execution_count": 4,
     "metadata": {},
     "output_type": "execute_result"
    }
   ],
   "source": [
    "eu.settings.datasetdir"
   ]
  },
  {
   "cell_type": "markdown",
   "id": "8f7da768",
   "metadata": {},
   "source": [
    "# Download the deBoer20 dataset"
   ]
  },
  {
   "cell_type": "code",
   "execution_count": 18,
   "id": "2ce2fb83",
   "metadata": {},
   "outputs": [],
   "source": [
    "from eugene.dataloading._utils import _read_and_concat_dataframes"
   ]
  },
  {
   "cell_type": "code",
   "execution_count": 22,
   "id": "543ea325",
   "metadata": {},
   "outputs": [],
   "source": [
    "files = [\n",
    "    \"/cellar/users/aklie/projects/EUGENe/tests/_data/datasets/deBoer20/GSE104878_20160503_average_promoter_ELs_per_seq_atLeast100Counts.txt.gz\",\n",
    "    \"/cellar/users/aklie/projects/EUGENe/tests/_data/datasets/deBoer20/GSE104878_20160503_average_promoter_ELs_per_seq_atLeast100Counts.csv.gz\"\n",
    "]"
   ]
  },
  {
   "cell_type": "code",
   "execution_count": 23,
   "id": "7baf0ebf",
   "metadata": {},
   "outputs": [
    {
     "data": {
      "text/html": [
       "<div>\n",
       "<style scoped>\n",
       "    .dataframe tbody tr th:only-of-type {\n",
       "        vertical-align: middle;\n",
       "    }\n",
       "\n",
       "    .dataframe tbody tr th {\n",
       "        vertical-align: top;\n",
       "    }\n",
       "\n",
       "    .dataframe thead th {\n",
       "        text-align: right;\n",
       "    }\n",
       "</style>\n",
       "<table border=\"1\" class=\"dataframe\">\n",
       "  <thead>\n",
       "    <tr style=\"text-align: right;\">\n",
       "      <th></th>\n",
       "      <th>0,1</th>\n",
       "    </tr>\n",
       "  </thead>\n",
       "  <tbody>\n",
       "    <tr>\n",
       "      <th>0</th>\n",
       "      <td>TGCATTTTTTTCACAAGAGCACTTGAAGGGCGCCTATGACAAGGGA...</td>\n",
       "    </tr>\n",
       "    <tr>\n",
       "      <th>1</th>\n",
       "      <td>TGCATTTTTTTCACACATATACTTGGGTGACTTAGATATTTGCATG...</td>\n",
       "    </tr>\n",
       "    <tr>\n",
       "      <th>2</th>\n",
       "      <td>TGCATTTTTTTCACACATCTGGATTGTCTGGTGTGCTGGTATCTTC...</td>\n",
       "    </tr>\n",
       "    <tr>\n",
       "      <th>3</th>\n",
       "      <td>TGCATTTTTTTCACACCACCGTGGGGATTCGCAGCTATGTGCATAA...</td>\n",
       "    </tr>\n",
       "    <tr>\n",
       "      <th>4</th>\n",
       "      <td>TGCATTTTTTTCACACCATGGATTTAAGAATTAATCACCGGACAAC...</td>\n",
       "    </tr>\n",
       "    <tr>\n",
       "      <th>...</th>\n",
       "      <td>...</td>\n",
       "    </tr>\n",
       "    <tr>\n",
       "      <th>19959</th>\n",
       "      <td>TGCATTTTTTTCACTCTTTCACGTGGGGCCTGCGGGGTATCGGTGA...</td>\n",
       "    </tr>\n",
       "    <tr>\n",
       "      <th>19960</th>\n",
       "      <td>TGCATTTTTTTCACTGATGTGGTGCGCGTAATTTCTTTGTTGTGTT...</td>\n",
       "    </tr>\n",
       "    <tr>\n",
       "      <th>19961</th>\n",
       "      <td>TGCATTTTTTTCACTTCCAGTAATATGCGAAAGGGTGATGTGAACT...</td>\n",
       "    </tr>\n",
       "    <tr>\n",
       "      <th>19962</th>\n",
       "      <td>TGCATTTTTTTCACTTCGCACTCCACTTCTCGGTTTCTGGTATTAT...</td>\n",
       "    </tr>\n",
       "    <tr>\n",
       "      <th>19963</th>\n",
       "      <td>TGCATTTTTTTCACTTGCCTGGTACGAACACAGGTATCTTTCGTAA...</td>\n",
       "    </tr>\n",
       "  </tbody>\n",
       "</table>\n",
       "<p>19964 rows × 1 columns</p>\n",
       "</div>"
      ],
      "text/plain": [
       "                                                     0,1\n",
       "0      TGCATTTTTTTCACAAGAGCACTTGAAGGGCGCCTATGACAAGGGA...\n",
       "1      TGCATTTTTTTCACACATATACTTGGGTGACTTAGATATTTGCATG...\n",
       "2      TGCATTTTTTTCACACATCTGGATTGTCTGGTGTGCTGGTATCTTC...\n",
       "3      TGCATTTTTTTCACACCACCGTGGGGATTCGCAGCTATGTGCATAA...\n",
       "4      TGCATTTTTTTCACACCATGGATTTAAGAATTAATCACCGGACAAC...\n",
       "...                                                  ...\n",
       "19959  TGCATTTTTTTCACTCTTTCACGTGGGGCCTGCGGGGTATCGGTGA...\n",
       "19960  TGCATTTTTTTCACTGATGTGGTGCGCGTAATTTCTTTGTTGTGTT...\n",
       "19961  TGCATTTTTTTCACTTCCAGTAATATGCGAAAGGGTGATGTGAACT...\n",
       "19962  TGCATTTTTTTCACTTCGCACTCCACTTCTCGGTTTCTGGTATTAT...\n",
       "19963  TGCATTTTTTTCACTTGCCTGGTACGAACACAGGTATCTTTCGTAA...\n",
       "\n",
       "[19964 rows x 1 columns]"
      ]
     },
     "execution_count": 23,
     "metadata": {},
     "output_type": "execute_result"
    }
   ],
   "source": [
    "_read_and_concat_dataframes(files)"
   ]
  },
  {
   "cell_type": "code",
   "execution_count": 28,
   "id": "aed46d4d",
   "metadata": {},
   "outputs": [
    {
     "name": "stdout",
     "output_type": "stream",
     "text": [
      "Dataset deBoer20 GSE104878_20160503_average_promoter_ELs_per_seq_atLeast100Counts.txt.gz has already been dowloaded.\n",
      "Downloading deBoer20 GSE104878_20180808_processed_Native80_and_N80_spikein.txt.gz to /cellar/users/aklie/datasets/deBoer20...\n",
      "Finished downloading GSE104878_20180808_processed_Native80_and_N80_spikein.txt.gz\n",
      "Processing gzip file...\n",
      "                                                   0         1  \\\n",
      "0                                                seq  isNative   \n",
      "1  AACTGCATTTTTTTCACATCAAAAAGCGTCCCATAACCCATTATGG...     FALSE   \n",
      "2  AACTGCATTTTTTTCACATCAAAAGCGTAAGTTGCCCCCACGTTTT...     FALSE   \n",
      "3  AACTGCATTTTTTTCACATCAACAGTGTGGCGCTGTGTGGTTTCGA...     FALSE   \n",
      "4  AACTGCATTTTTTTCACATCAGTAAAGCTCCGTTTCTTCCAGTTTT...     FALSE   \n",
      "\n",
      "                  2                 3                 4                 5  \n",
      "0     EL.originalHQ           EL.rep1           EL.rep2       EL.combined  \n",
      "1  5.53443621041227  6.01582188960043  3.13356537988599   5.3747928587784  \n",
      "2  12.9093976179852   12.066980214217  8.91432298428547  11.6688079710966  \n",
      "3  14.2016886849508  12.9450275112129  10.9724846736912  13.6822701313438  \n",
      "4  9.68284540194134  9.03400561516769  5.76362038698236  8.75879666972858  \n",
      "Saving file to /cellar/users/aklie/datasets/deBoer20/GSE104878_20180808_processed_Native80_and_N80_spikein.txt.gz...\n",
      "Saved file to /cellar/users/aklie/datasets/deBoer20/GSE104878_20180808_processed_Native80_and_N80_spikein.txt.gz\n"
     ]
    }
   ],
   "source": [
    "sdata = deBoer20([0, 6])"
   ]
  },
  {
   "cell_type": "code",
   "execution_count": 29,
   "id": "8513f218",
   "metadata": {},
   "outputs": [
    {
     "data": {
      "text/plain": [
       "SeqData object with = 151830 seqs\n",
       "seqs = (151830,)\n",
       "names = (151830,)\n",
       "rev_seqs = None\n",
       "ohe_seqs = None\n",
       "ohe_rev_seqs = None\n",
       "seqs_annot: 'target'\n",
       "pos_annot: None\n",
       "seqsm: None\n",
       "uns: None"
      ]
     },
     "execution_count": 29,
     "metadata": {},
     "output_type": "execute_result"
    }
   ],
   "source": [
    "sdata"
   ]
  },
  {
   "cell_type": "code",
   "execution_count": 2,
   "id": "58a57452",
   "metadata": {
    "execution": {
     "iopub.execute_input": "2023-03-27T20:54:01.403801Z",
     "iopub.status.busy": "2023-03-27T20:54:01.401014Z",
     "iopub.status.idle": "2023-03-27T20:56:56.937936Z",
     "shell.execute_reply": "2023-03-27T20:56:56.936308Z",
     "shell.execute_reply.started": "2023-03-27T20:54:01.403737Z"
    },
    "tags": []
   },
   "outputs": [
    {
     "name": "stdout",
     "output_type": "stream",
     "text": [
      "Dataset deBoer20 GSE104878_20160609_average_promoter_ELs_per_seq_Abf1TATA_ALL.shuffled.txt.gz has already been downloaded.\n"
     ]
    }
   ],
   "source": [
    "sdata = deBoer20(1)"
   ]
  },
  {
   "cell_type": "code",
   "execution_count": 4,
   "id": "df8f5cd9-829d-4ff2-8927-876a1f817857",
   "metadata": {
    "execution": {
     "iopub.execute_input": "2023-03-27T20:57:16.694822Z",
     "iopub.status.busy": "2023-03-27T20:57:16.694387Z",
     "iopub.status.idle": "2023-03-27T20:57:16.706528Z",
     "shell.execute_reply": "2023-03-27T20:57:16.705229Z",
     "shell.execute_reply.started": "2023-03-27T20:57:16.694790Z"
    },
    "tags": []
   },
   "outputs": [
    {
     "data": {
      "text/plain": [
       "SeqData object with = 27991003 seqs\n",
       "seqs = (27991003,)\n",
       "names = (27991003,)\n",
       "rev_seqs = None\n",
       "ohe_seqs = None\n",
       "ohe_rev_seqs = None\n",
       "seqs_annot: 'target'\n",
       "pos_annot: None\n",
       "seqsm: None\n",
       "uns: None"
      ]
     },
     "execution_count": 4,
     "metadata": {},
     "output_type": "execute_result"
    }
   ],
   "source": [
    "len(sdata"
   ]
  },
  {
   "cell_type": "code",
   "execution_count": 6,
   "id": "0f3d578c-f422-4934-8ba9-75a07e8515ea",
   "metadata": {
    "execution": {
     "iopub.execute_input": "2023-03-27T20:59:32.813944Z",
     "iopub.status.busy": "2023-03-27T20:59:32.813411Z",
     "iopub.status.idle": "2023-03-27T20:59:32.822878Z",
     "shell.execute_reply": "2023-03-27T20:59:32.821383Z",
     "shell.execute_reply.started": "2023-03-27T20:59:32.813910Z"
    },
    "tags": []
   },
   "outputs": [
    {
     "data": {
      "text/plain": [
       "115"
      ]
     },
     "execution_count": 6,
     "metadata": {},
     "output_type": "execute_result"
    }
   ],
   "source": [
    "len(sdata.seqs[0])"
   ]
  },
  {
   "cell_type": "code",
   "execution_count": 49,
   "id": "127036f9",
   "metadata": {},
   "outputs": [
    {
     "name": "stdout",
     "output_type": "stream",
     "text": [
      "Dataset deBoer20 GSE104878_20180808_processed_Native80_and_N80_spikein.csv.gz has already been dowloaded.\n",
      "Kept 69240 sequences with targets, dropped 1684 sequences with no targets\n"
     ]
    }
   ],
   "source": [
    "sdata = deBoer20(6)"
   ]
  },
  {
   "cell_type": "code",
   "execution_count": 46,
   "id": "8aca831a",
   "metadata": {},
   "outputs": [
    {
     "data": {
      "text/html": [
       "<div>\n",
       "<style scoped>\n",
       "    .dataframe tbody tr th:only-of-type {\n",
       "        vertical-align: middle;\n",
       "    }\n",
       "\n",
       "    .dataframe tbody tr th {\n",
       "        vertical-align: top;\n",
       "    }\n",
       "\n",
       "    .dataframe thead th {\n",
       "        text-align: right;\n",
       "    }\n",
       "</style>\n",
       "<table border=\"1\" class=\"dataframe\">\n",
       "  <thead>\n",
       "    <tr style=\"text-align: right;\">\n",
       "      <th></th>\n",
       "      <th>TARGETS</th>\n",
       "    </tr>\n",
       "  </thead>\n",
       "  <tbody>\n",
       "    <tr>\n",
       "      <th>seq00000</th>\n",
       "      <td>13.708592</td>\n",
       "    </tr>\n",
       "    <tr>\n",
       "      <th>seq00001</th>\n",
       "      <td>2.553335</td>\n",
       "    </tr>\n",
       "    <tr>\n",
       "      <th>seq00002</th>\n",
       "      <td>13.369969</td>\n",
       "    </tr>\n",
       "    <tr>\n",
       "      <th>seq00003</th>\n",
       "      <td>3.328683</td>\n",
       "    </tr>\n",
       "    <tr>\n",
       "      <th>seq00004</th>\n",
       "      <td>10.466688</td>\n",
       "    </tr>\n",
       "    <tr>\n",
       "      <th>...</th>\n",
       "      <td>...</td>\n",
       "    </tr>\n",
       "    <tr>\n",
       "      <th>seq80900</th>\n",
       "      <td>14.220082</td>\n",
       "    </tr>\n",
       "    <tr>\n",
       "      <th>seq80901</th>\n",
       "      <td>6.978840</td>\n",
       "    </tr>\n",
       "    <tr>\n",
       "      <th>seq80902</th>\n",
       "      <td>3.917299</td>\n",
       "    </tr>\n",
       "    <tr>\n",
       "      <th>seq80903</th>\n",
       "      <td>16.012221</td>\n",
       "    </tr>\n",
       "    <tr>\n",
       "      <th>seq80905</th>\n",
       "      <td>14.126017</td>\n",
       "    </tr>\n",
       "  </tbody>\n",
       "</table>\n",
       "<p>79222 rows × 1 columns</p>\n",
       "</div>"
      ],
      "text/plain": [
       "            TARGETS\n",
       "seq00000  13.708592\n",
       "seq00001   2.553335\n",
       "seq00002  13.369969\n",
       "seq00003   3.328683\n",
       "seq00004  10.466688\n",
       "...             ...\n",
       "seq80900  14.220082\n",
       "seq80901   6.978840\n",
       "seq80902   3.917299\n",
       "seq80903  16.012221\n",
       "seq80905  14.126017\n",
       "\n",
       "[79222 rows x 1 columns]"
      ]
     },
     "execution_count": 46,
     "metadata": {},
     "output_type": "execute_result"
    }
   ],
   "source": [
    "sdata.seqs_annot"
   ]
  },
  {
   "cell_type": "code",
   "execution_count": 12,
   "id": "0b8629b9-ec0e-4a96-a7ce-230637e39b13",
   "metadata": {
    "execution": {
     "iopub.execute_input": "2023-03-27T21:34:32.985411Z",
     "iopub.status.busy": "2023-03-27T21:34:32.984911Z",
     "iopub.status.idle": "2023-03-27T21:34:33.032512Z",
     "shell.execute_reply": "2023-03-27T21:34:33.031004Z",
     "shell.execute_reply.started": "2023-03-27T21:34:32.985367Z"
    }
   },
   "outputs": [],
   "source": [
    "sdata.seqs = None"
   ]
  },
  {
   "cell_type": "code",
   "execution_count": 11,
   "id": "a58d4127",
   "metadata": {
    "execution": {
     "iopub.execute_input": "2023-03-27T21:00:00.004665Z",
     "iopub.status.busy": "2023-03-27T21:00:00.003972Z",
     "iopub.status.idle": "2023-03-27T21:33:39.817496Z",
     "shell.execute_reply": "2023-03-27T21:33:39.816102Z",
     "shell.execute_reply.started": "2023-03-27T21:00:00.004606Z"
    },
    "tags": []
   },
   "outputs": [
    {
     "data": {
      "application/vnd.jupyter.widget-view+json": {
       "model_id": "bcdee024a4c94d639c8d7f40a7338ffa",
       "version_major": 2,
       "version_minor": 0
      },
      "text/plain": [
       "HBox(children=(FloatProgress(value=0.0, description='One-hot encoding sequences', max=27991003.0, style=Progre…"
      ]
     },
     "metadata": {},
     "output_type": "display_data"
    },
    {
     "name": "stdout",
     "output_type": "stream",
     "text": [
      "\n",
      "SeqData object modified:\n",
      "\tohe_seqs: None -> 27991003 ohe_seqs added\n"
     ]
    },
    {
     "data": {
      "text/plain": [
       "SeqData object with = 27991003 seqs\n",
       "seqs = (27991003,)\n",
       "names = (27991003,)\n",
       "rev_seqs = None\n",
       "ohe_seqs = (27991003, 4, 127)\n",
       "ohe_rev_seqs = None\n",
       "seqs_annot: 'target'\n",
       "pos_annot: None\n",
       "seqsm: None\n",
       "uns: None"
      ]
     },
     "execution_count": 11,
     "metadata": {},
     "output_type": "execute_result"
    }
   ],
   "source": [
    "eu.pp.ohe_seqs_sdata(sdata)\n",
    "sdata"
   ]
  },
  {
   "cell_type": "code",
   "execution_count": 51,
   "id": "7c4d0fcb",
   "metadata": {},
   "outputs": [
    {
     "data": {
      "text/plain": [
       "120"
      ]
     },
     "execution_count": 51,
     "metadata": {},
     "output_type": "execute_result"
    }
   ],
   "source": [
    "len(sdata.seqs[2])"
   ]
  },
  {
   "cell_type": "code",
   "execution_count": 52,
   "id": "87323c38",
   "metadata": {},
   "outputs": [
    {
     "name": "stdout",
     "output_type": "stream",
     "text": [
      "Kept 1000 sequences with targets, dropped 0 sequences with no targets\n"
     ]
    }
   ],
   "source": [
    "sdata = eu.datasets.random1000()"
   ]
  },
  {
   "cell_type": "code",
   "execution_count": 53,
   "id": "7cfb6b9e",
   "metadata": {},
   "outputs": [
    {
     "data": {
      "text/html": [
       "<div>\n",
       "<style scoped>\n",
       "    .dataframe tbody tr th:only-of-type {\n",
       "        vertical-align: middle;\n",
       "    }\n",
       "\n",
       "    .dataframe tbody tr th {\n",
       "        vertical-align: top;\n",
       "    }\n",
       "\n",
       "    .dataframe thead th {\n",
       "        text-align: right;\n",
       "    }\n",
       "</style>\n",
       "<table border=\"1\" class=\"dataframe\">\n",
       "  <thead>\n",
       "    <tr style=\"text-align: right;\">\n",
       "      <th></th>\n",
       "      <th>TARGETS</th>\n",
       "    </tr>\n",
       "  </thead>\n",
       "  <tbody>\n",
       "    <tr>\n",
       "      <th>seq000</th>\n",
       "      <td>0.866168</td>\n",
       "    </tr>\n",
       "    <tr>\n",
       "      <th>seq001</th>\n",
       "      <td>0.800737</td>\n",
       "    </tr>\n",
       "    <tr>\n",
       "      <th>seq002</th>\n",
       "      <td>0.703108</td>\n",
       "    </tr>\n",
       "    <tr>\n",
       "      <th>seq003</th>\n",
       "      <td>0.465782</td>\n",
       "    </tr>\n",
       "    <tr>\n",
       "      <th>seq004</th>\n",
       "      <td>0.676781</td>\n",
       "    </tr>\n",
       "    <tr>\n",
       "      <th>...</th>\n",
       "      <td>...</td>\n",
       "    </tr>\n",
       "    <tr>\n",
       "      <th>seq995</th>\n",
       "      <td>0.001721</td>\n",
       "    </tr>\n",
       "    <tr>\n",
       "      <th>seq996</th>\n",
       "      <td>0.617911</td>\n",
       "    </tr>\n",
       "    <tr>\n",
       "      <th>seq997</th>\n",
       "      <td>0.565960</td>\n",
       "    </tr>\n",
       "    <tr>\n",
       "      <th>seq998</th>\n",
       "      <td>0.293470</td>\n",
       "    </tr>\n",
       "    <tr>\n",
       "      <th>seq999</th>\n",
       "      <td>0.205779</td>\n",
       "    </tr>\n",
       "  </tbody>\n",
       "</table>\n",
       "<p>1000 rows × 1 columns</p>\n",
       "</div>"
      ],
      "text/plain": [
       "         TARGETS\n",
       "seq000  0.866168\n",
       "seq001  0.800737\n",
       "seq002  0.703108\n",
       "seq003  0.465782\n",
       "seq004  0.676781\n",
       "...          ...\n",
       "seq995  0.001721\n",
       "seq996  0.617911\n",
       "seq997  0.565960\n",
       "seq998  0.293470\n",
       "seq999  0.205779\n",
       "\n",
       "[1000 rows x 1 columns]"
      ]
     },
     "execution_count": 53,
     "metadata": {},
     "output_type": "execute_result"
    }
   ],
   "source": [
    "sdata.seqs_annot"
   ]
  },
  {
   "cell_type": "code",
   "execution_count": null,
   "id": "8be26839",
   "metadata": {},
   "outputs": [],
   "source": []
  }
 ],
 "metadata": {
  "kernelspec": {
   "display_name": "Python 3.7 eugene_dev",
   "language": "python",
   "name": "eugene_dev"
  },
  "language_info": {
   "codemirror_mode": {
    "name": "ipython",
    "version": 3
   },
   "file_extension": ".py",
   "mimetype": "text/x-python",
   "name": "python",
   "nbconvert_exporter": "python",
   "pygments_lexer": "ipython3",
   "version": "3.7.12"
  },
  "vscode": {
   "interpreter": {
    "hash": "1330bbbf2c4cf53098ef1254540d5dd54a9d501f0408fea1c04a20872667b797"
   }
  }
 },
 "nbformat": 4,
 "nbformat_minor": 5
}
