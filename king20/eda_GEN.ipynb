{
 "cells": [
  {
   "cell_type": "markdown",
   "metadata": {},
   "source": [
    "# King et al 2020 Exploratory Data Analysis"
   ]
  },
  {
   "cell_type": "markdown",
   "metadata": {
    "tags": []
   },
   "source": [
    "**Authorship:**<br>\n",
    "Created by: Adam Klie, *11/18/2022*<br>\n",
    "Last updated: Adam Klie, *02/04/2023*\n",
    "***\n",
    "**Description:**\n",
    "Notebook to explore the CRE MPRA dataset from King et al 2020. More info can be found here: https://www.notion.so/adamklie/king20-01bc9b4d143944e49a238d8eb1d84a8d\n",
    "***"
   ]
  },
  {
   "cell_type": "code",
   "execution_count": 54,
   "metadata": {
    "execution": {
     "iopub.execute_input": "2023-02-06T21:24:24.101360Z",
     "iopub.status.busy": "2023-02-06T21:24:24.101031Z",
     "iopub.status.idle": "2023-02-06T21:24:24.105983Z",
     "shell.execute_reply": "2023-02-06T21:24:24.105160Z",
     "shell.execute_reply.started": "2023-02-06T21:24:24.101323Z"
    },
    "tags": []
   },
   "outputs": [],
   "source": [
    "import os\n",
    "import numpy as np\n",
    "import pandas as pd"
   ]
  },
  {
   "cell_type": "markdown",
   "metadata": {
    "jp-MarkdownHeadingCollapsed": true,
    "tags": []
   },
   "source": [
    "# Load data"
   ]
  },
  {
   "cell_type": "code",
   "execution_count": 23,
   "metadata": {
    "execution": {
     "iopub.execute_input": "2023-02-06T20:52:18.747856Z",
     "iopub.status.busy": "2023-02-06T20:52:18.747266Z",
     "iopub.status.idle": "2023-02-06T20:52:18.753709Z",
     "shell.execute_reply": "2023-02-06T20:52:18.752382Z",
     "shell.execute_reply.started": "2023-02-06T20:52:18.747815Z"
    },
    "tags": []
   },
   "outputs": [],
   "source": [
    "dataset_dir = \"/cellar/users/aklie/data/eugene/\""
   ]
  },
  {
   "cell_type": "code",
   "execution_count": 24,
   "metadata": {
    "execution": {
     "iopub.execute_input": "2023-02-06T20:52:19.356107Z",
     "iopub.status.busy": "2023-02-06T20:52:19.355651Z",
     "iopub.status.idle": "2023-02-06T20:52:19.361886Z",
     "shell.execute_reply": "2023-02-06T20:52:19.360462Z",
     "shell.execute_reply.started": "2023-02-06T20:52:19.356071Z"
    },
    "tags": []
   },
   "outputs": [],
   "source": [
    "design_file = os.path.join(dataset_dir, \"king20\", \"design.xlsx\")"
   ]
  },
  {
   "cell_type": "code",
   "execution_count": 25,
   "metadata": {
    "execution": {
     "iopub.execute_input": "2023-02-06T20:52:19.364433Z",
     "iopub.status.busy": "2023-02-06T20:52:19.363990Z",
     "iopub.status.idle": "2023-02-06T20:52:20.006258Z",
     "shell.execute_reply": "2023-02-06T20:52:20.005187Z",
     "shell.execute_reply.started": "2023-02-06T20:52:19.364398Z"
    },
    "tags": []
   },
   "outputs": [],
   "source": [
    "genomic_design_df = pd.read_excel(design_file, sheet_name=6)"
   ]
  },
  {
   "cell_type": "markdown",
   "metadata": {
    "jp-MarkdownHeadingCollapsed": true,
    "tags": []
   },
   "source": [
    "# Check how many sequences and barcodes we have\n",
    "Note we have 8 barcodes per sequence, so we need to collapse based on sequence."
   ]
  },
  {
   "cell_type": "code",
   "execution_count": 34,
   "metadata": {
    "execution": {
     "iopub.execute_input": "2023-02-06T20:55:04.608653Z",
     "iopub.status.busy": "2023-02-06T20:55:04.608148Z",
     "iopub.status.idle": "2023-02-06T20:55:04.618146Z",
     "shell.execute_reply": "2023-02-06T20:55:04.616759Z",
     "shell.execute_reply.started": "2023-02-06T20:55:04.608616Z"
    },
    "tags": []
   },
   "outputs": [
    {
     "data": {
      "text/plain": [
       "112"
      ]
     },
     "execution_count": 34,
     "metadata": {},
     "output_type": "execute_result"
    }
   ],
   "source": [
    "# How many Basal barcodes are there\n",
    "len(genomic_design_df[genomic_design_df[\"Element_id\"] == \"Basal\"])"
   ]
  },
  {
   "cell_type": "code",
   "execution_count": 35,
   "metadata": {
    "execution": {
     "iopub.execute_input": "2023-02-06T20:55:04.875602Z",
     "iopub.status.busy": "2023-02-06T20:55:04.875216Z",
     "iopub.status.idle": "2023-02-06T20:55:04.887715Z",
     "shell.execute_reply": "2023-02-06T20:55:04.886404Z",
     "shell.execute_reply.started": "2023-02-06T20:55:04.875566Z"
    },
    "tags": []
   },
   "outputs": [
    {
     "data": {
      "text/plain": [
       "3224"
      ]
     },
     "execution_count": 35,
     "metadata": {},
     "output_type": "execute_result"
    }
   ],
   "source": [
    "# How many total barcodes?\n",
    "len(genomic_design_df[genomic_design_df[\"Element_id\"].str.contains(\"Genomic\")])"
   ]
  },
  {
   "cell_type": "code",
   "execution_count": 36,
   "metadata": {
    "execution": {
     "iopub.execute_input": "2023-02-06T20:55:05.250461Z",
     "iopub.status.busy": "2023-02-06T20:55:05.250111Z",
     "iopub.status.idle": "2023-02-06T20:55:05.257529Z",
     "shell.execute_reply": "2023-02-06T20:55:05.256276Z",
     "shell.execute_reply.started": "2023-02-06T20:55:05.250426Z"
    },
    "tags": []
   },
   "outputs": [
    {
     "data": {
      "text/plain": [
       "4.0"
      ]
     },
     "execution_count": 36,
     "metadata": {},
     "output_type": "execute_result"
    }
   ],
   "source": [
    "# I seem to be missing 4\n",
    "(3256 - 3224)/8"
   ]
  },
  {
   "cell_type": "code",
   "execution_count": 37,
   "metadata": {
    "execution": {
     "iopub.execute_input": "2023-02-06T20:55:05.259960Z",
     "iopub.status.busy": "2023-02-06T20:55:05.259440Z",
     "iopub.status.idle": "2023-02-06T20:55:05.277880Z",
     "shell.execute_reply": "2023-02-06T20:55:05.276716Z",
     "shell.execute_reply.started": "2023-02-06T20:55:05.259924Z"
    },
    "tags": []
   },
   "outputs": [
    {
     "data": {
      "text/plain": [
       "3256"
      ]
     },
     "execution_count": 37,
     "metadata": {},
     "output_type": "execute_result"
    }
   ],
   "source": [
    "# Have all the mutated\n",
    "len(genomic_design_df[genomic_design_df[\"Element_id\"].str.contains(\"All_Mutated\")])"
   ]
  },
  {
   "cell_type": "code",
   "execution_count": 38,
   "metadata": {
    "execution": {
     "iopub.execute_input": "2023-02-06T20:55:05.295210Z",
     "iopub.status.busy": "2023-02-06T20:55:05.294724Z",
     "iopub.status.idle": "2023-02-06T20:55:05.308234Z",
     "shell.execute_reply": "2023-02-06T20:55:05.306957Z",
     "shell.execute_reply.started": "2023-02-06T20:55:05.295179Z"
    },
    "tags": []
   },
   "outputs": [
    {
     "data": {
      "text/plain": [
       "12"
      ]
     },
     "execution_count": 38,
     "metadata": {},
     "output_type": "execute_result"
    }
   ],
   "source": [
    "# How many none \"SYN\" sequences do we have?\n",
    "len(genomic_design_df[genomic_design_df[\"Element_id\"].str.contains(\"Scalar\")].groupby(\"Sequence\").count())"
   ]
  },
  {
   "cell_type": "code",
   "execution_count": 39,
   "metadata": {
    "execution": {
     "iopub.execute_input": "2023-02-06T20:55:05.754384Z",
     "iopub.status.busy": "2023-02-06T20:55:05.754039Z",
     "iopub.status.idle": "2023-02-06T20:55:05.767014Z",
     "shell.execute_reply": "2023-02-06T20:55:05.765610Z",
     "shell.execute_reply.started": "2023-02-06T20:55:05.754350Z"
    },
    "tags": []
   },
   "outputs": [
    {
     "data": {
      "text/plain": [
       "0"
      ]
     },
     "execution_count": 39,
     "metadata": {},
     "output_type": "execute_result"
    }
   ],
   "source": [
    "# Do we have any sequences with more or less than 8 barcodes?\n",
    "(genomic_design_df.groupby(\"Sequence\").count()[\"BC\"] != 8).sum()"
   ]
  },
  {
   "cell_type": "code",
   "execution_count": 40,
   "metadata": {
    "execution": {
     "iopub.execute_input": "2023-02-06T20:55:06.251249Z",
     "iopub.status.busy": "2023-02-06T20:55:06.250897Z",
     "iopub.status.idle": "2023-02-06T20:55:06.263423Z",
     "shell.execute_reply": "2023-02-06T20:55:06.262270Z",
     "shell.execute_reply.started": "2023-02-06T20:55:06.251216Z"
    },
    "tags": []
   },
   "outputs": [
    {
     "data": {
      "text/plain": [
       "1"
      ]
     },
     "execution_count": 40,
     "metadata": {},
     "output_type": "execute_result"
    }
   ],
   "source": [
    "# Basal should\n",
    "(genomic_design_df.groupby(\"Element_id\").count()[\"BC\"] != 8).sum()"
   ]
  },
  {
   "cell_type": "code",
   "execution_count": 41,
   "metadata": {
    "execution": {
     "iopub.execute_input": "2023-02-06T20:55:06.913022Z",
     "iopub.status.busy": "2023-02-06T20:55:06.912661Z",
     "iopub.status.idle": "2023-02-06T20:55:06.939894Z",
     "shell.execute_reply": "2023-02-06T20:55:06.938676Z",
     "shell.execute_reply.started": "2023-02-06T20:55:06.912989Z"
    },
    "tags": []
   },
   "outputs": [
    {
     "data": {
      "text/plain": [
       "0"
      ]
     },
     "execution_count": 41,
     "metadata": {},
     "output_type": "execute_result"
    }
   ],
   "source": [
    "# Make sure all the Sequences that are the same have the same Element_id\n",
    "(genomic_design_df.groupby(\"Sequence\").agg(lambda x: len(set(x)))[\"Element_id\"] != 1).sum()"
   ]
  },
  {
   "cell_type": "code",
   "execution_count": 42,
   "metadata": {
    "execution": {
     "iopub.execute_input": "2023-02-06T20:55:07.306450Z",
     "iopub.status.busy": "2023-02-06T20:55:07.306100Z",
     "iopub.status.idle": "2023-02-06T20:55:07.316493Z",
     "shell.execute_reply": "2023-02-06T20:55:07.315287Z",
     "shell.execute_reply.started": "2023-02-06T20:55:07.306416Z"
    },
    "tags": []
   },
   "outputs": [
    {
     "data": {
      "text/plain": [
       "823"
      ]
     },
     "execution_count": 42,
     "metadata": {},
     "output_type": "execute_result"
    }
   ],
   "source": [
    "# Collapse based on Sequence column\n",
    "genomic_design_df = genomic_design_df.drop_duplicates(subset=\"Sequence\")\n",
    "len(genomic_design_df)"
   ]
  },
  {
   "cell_type": "code",
   "execution_count": 45,
   "metadata": {
    "execution": {
     "iopub.execute_input": "2023-02-06T20:56:09.304944Z",
     "iopub.status.busy": "2023-02-06T20:56:09.304413Z",
     "iopub.status.idle": "2023-02-06T20:56:09.315562Z",
     "shell.execute_reply": "2023-02-06T20:56:09.314117Z",
     "shell.execute_reply.started": "2023-02-06T20:56:09.304908Z"
    },
    "tags": []
   },
   "outputs": [],
   "source": [
    "# Keep only the Genomic and All_Mutated sequences\n",
    "genomic_design_df = genomic_design_df[~genomic_design_df[\"Element_id\"].str.contains(\"Scalar\")]\n",
    "genomic_design_df = genomic_design_df[~genomic_design_df[\"Element_id\"].str.contains(\"Basal\")]"
   ]
  },
  {
   "cell_type": "code",
   "execution_count": 46,
   "metadata": {
    "execution": {
     "iopub.execute_input": "2023-02-06T20:56:10.255109Z",
     "iopub.status.busy": "2023-02-06T20:56:10.254764Z",
     "iopub.status.idle": "2023-02-06T20:56:10.262176Z",
     "shell.execute_reply": "2023-02-06T20:56:10.260832Z",
     "shell.execute_reply.started": "2023-02-06T20:56:10.255076Z"
    },
    "tags": []
   },
   "outputs": [
    {
     "data": {
      "text/plain": [
       "810"
      ]
     },
     "execution_count": 46,
     "metadata": {},
     "output_type": "execute_result"
    }
   ],
   "source": [
    "# How many are left\n",
    "len(genomic_design_df)"
   ]
  },
  {
   "cell_type": "code",
   "execution_count": 49,
   "metadata": {
    "execution": {
     "iopub.execute_input": "2023-02-06T20:56:32.774293Z",
     "iopub.status.busy": "2023-02-06T20:56:32.773835Z",
     "iopub.status.idle": "2023-02-06T20:56:32.784638Z",
     "shell.execute_reply": "2023-02-06T20:56:32.782958Z",
     "shell.execute_reply.started": "2023-02-06T20:56:32.774256Z"
    },
    "tags": []
   },
   "outputs": [],
   "source": [
    "# Here are those 4\n",
    "genomic_design_df[\"range\"].drop_duplicates(keep=False)\n",
    "genomic_design_df[\"range\"] = genomic_design_df[\"Element_id\"].str.replace(\"_Genomic\", \"\").str.replace(\"_All_Mutated\", \"\")\n",
    "genomic_design_df[genomic_design_df[\"Element_id\"].str.contains(\"Genomic\")]"
   ]
  },
  {
   "cell_type": "code",
   "execution_count": 56,
   "metadata": {
    "execution": {
     "iopub.execute_input": "2023-02-06T21:24:55.393531Z",
     "iopub.status.busy": "2023-02-06T21:24:55.393128Z",
     "iopub.status.idle": "2023-02-06T21:24:55.400598Z",
     "shell.execute_reply": "2023-02-06T21:24:55.398992Z",
     "shell.execute_reply.started": "2023-02-06T21:24:55.393463Z"
    }
   },
   "outputs": [],
   "source": [
    "sequences = genomic_design_df[\"Sequence\"].values"
   ]
  },
  {
   "cell_type": "markdown",
   "metadata": {
    "jp-MarkdownHeadingCollapsed": true,
    "tags": []
   },
   "source": [
    "# SeqData analysis"
   ]
  },
  {
   "cell_type": "code",
   "execution_count": 57,
   "metadata": {
    "execution": {
     "iopub.execute_input": "2023-02-06T21:24:56.251127Z",
     "iopub.status.busy": "2023-02-06T21:24:56.250690Z",
     "iopub.status.idle": "2023-02-06T21:24:56.256299Z",
     "shell.execute_reply": "2023-02-06T21:24:56.254875Z",
     "shell.execute_reply.started": "2023-02-06T21:24:56.251094Z"
    },
    "tags": []
   },
   "outputs": [],
   "source": [
    "import seqdata as sd\n",
    "from seqdata._preprocess.basic import reverse_complement_seq"
   ]
  },
  {
   "cell_type": "code",
   "execution_count": 58,
   "metadata": {
    "execution": {
     "iopub.execute_input": "2023-02-06T21:24:56.564757Z",
     "iopub.status.busy": "2023-02-06T21:24:56.564280Z",
     "iopub.status.idle": "2023-02-06T21:24:56.579084Z",
     "shell.execute_reply": "2023-02-06T21:24:56.577946Z",
     "shell.execute_reply.started": "2023-02-06T21:24:56.564721Z"
    },
    "tags": []
   },
   "outputs": [
    {
     "data": {
      "text/plain": [
       "SeqData object with = 810 seqs\n",
       "seqs = (810,)\n",
       "names = (810,)\n",
       "rev_seqs = None\n",
       "ohe_seqs = None\n",
       "ohe_rev_seqs = None\n",
       "seqs_annot: 'BC', 'range'\n",
       "pos_annot: None\n",
       "seqsm: None\n",
       "uns: None"
      ]
     },
     "execution_count": 58,
     "metadata": {},
     "output_type": "execute_result"
    }
   ],
   "source": [
    "# Create a SeqData object\n",
    "sdata = sd.SeqData(\n",
    "    seqs=sequences,\n",
    "    names=genomic_design_df[\"Element_id\"].values,\n",
    "    seqs_annot=genomic_design_df.drop(\"Sequence\", axis=1).set_index(\"Element_id\"),\n",
    ")\n",
    "sdata"
   ]
  },
  {
   "cell_type": "code",
   "execution_count": 60,
   "metadata": {
    "execution": {
     "iopub.execute_input": "2023-02-06T21:25:12.855295Z",
     "iopub.status.busy": "2023-02-06T21:25:12.854918Z",
     "iopub.status.idle": "2023-02-06T21:25:12.864380Z",
     "shell.execute_reply": "2023-02-06T21:25:12.862856Z",
     "shell.execute_reply.started": "2023-02-06T21:25:12.855260Z"
    },
    "tags": []
   },
   "outputs": [],
   "source": [
    "# Simple function to incorporate into SeqData for measuring seq lens\n",
    "def seq_len(seq, ohe=False):\n",
    "    if ohe:\n",
    "        return seq.shape[1]\n",
    "    else:\n",
    "        return len(seq)\n",
    "\n",
    "def seq_lens(seqs, ohe=False):\n",
    "    if ohe:\n",
    "        return np.array([seq.shape[1] for seq in seqs])\n",
    "    else:\n",
    "        return np.array([len(seq) for seq in seqs])\n",
    "\n",
    "def seq_len_sdata(sdata, copy=False):\n",
    "    if sdata.seqs is not None:\n",
    "        sdata[\"seq_len\"] = seq_lens(sdata.seqs, ohe=False)\n",
    "    elif sdata.ohe_seqs is not None:\n",
    "        sdata[\"seq_len\"] = seq_lens(sdata.ohe_seqs, ohe=True)\n",
    "    else:\n",
    "        raise ValueError(\"No sequences found in sdata\")"
   ]
  },
  {
   "cell_type": "code",
   "execution_count": 61,
   "metadata": {
    "execution": {
     "iopub.execute_input": "2023-02-06T21:25:13.574134Z",
     "iopub.status.busy": "2023-02-06T21:25:13.573409Z",
     "iopub.status.idle": "2023-02-06T21:25:13.584015Z",
     "shell.execute_reply": "2023-02-06T21:25:13.582303Z",
     "shell.execute_reply.started": "2023-02-06T21:25:13.574092Z"
    },
    "tags": []
   },
   "outputs": [
    {
     "data": {
      "text/plain": [
       "array([], dtype=object)"
      ]
     },
     "execution_count": 61,
     "metadata": {},
     "output_type": "execute_result"
    }
   ],
   "source": [
    "# Make sure Basal didn't sneak in\n",
    "sdata.seqs[np.where(sdata.names==\"Basal\")[0]]"
   ]
  },
  {
   "cell_type": "code",
   "execution_count": 62,
   "metadata": {
    "execution": {
     "iopub.execute_input": "2023-02-06T21:25:14.823269Z",
     "iopub.status.busy": "2023-02-06T21:25:14.822875Z",
     "iopub.status.idle": "2023-02-06T21:25:14.835817Z",
     "shell.execute_reply": "2023-02-06T21:25:14.834558Z",
     "shell.execute_reply.started": "2023-02-06T21:25:14.823229Z"
    },
    "tags": []
   },
   "outputs": [
    {
     "data": {
      "text/plain": [
       "81    434\n",
       "82    376\n",
       "Name: seq_len, dtype: int64"
      ]
     },
     "execution_count": 62,
     "metadata": {},
     "output_type": "execute_result"
    }
   ],
   "source": [
    "# Calculate seq lens\n",
    "seq_len_sdata(sdata)\n",
    "sdata[\"seq_len\"].value_counts()"
   ]
  },
  {
   "cell_type": "code",
   "execution_count": 68,
   "metadata": {
    "execution": {
     "iopub.execute_input": "2023-02-06T21:27:20.854098Z",
     "iopub.status.busy": "2023-02-06T21:27:20.853573Z",
     "iopub.status.idle": "2023-02-06T21:27:20.863168Z",
     "shell.execute_reply": "2023-02-06T21:27:20.861846Z",
     "shell.execute_reply.started": "2023-02-06T21:27:20.854059Z"
    }
   },
   "outputs": [
    {
     "data": {
      "text/plain": [
       "'AGCTA(C|G)............GT'"
      ]
     },
     "execution_count": 68,
     "metadata": {},
     "output_type": "execute_result"
    }
   ],
   "source": [
    "# Building block - replace all X with .\n",
    "building_block = \"AGCTA(C|G)XXXXXXXXXXXXGT\"\n",
    "building_block = building_block.replace(\"X\", \".\")\n",
    "building_block"
   ]
  },
  {
   "cell_type": "code",
   "execution_count": 69,
   "metadata": {
    "execution": {
     "iopub.execute_input": "2023-02-06T21:27:21.401356Z",
     "iopub.status.busy": "2023-02-06T21:27:21.400976Z",
     "iopub.status.idle": "2023-02-06T21:27:21.409006Z",
     "shell.execute_reply": "2023-02-06T21:27:21.407272Z",
     "shell.execute_reply.started": "2023-02-06T21:27:21.401320Z"
    },
    "tags": []
   },
   "outputs": [],
   "source": [
    "# These are the motifs described in a previous publication from this group\n",
    "sox2 = \"GCTCATTGTTTC\"\n",
    "pou5f1 = \"GGGATGCTAATC\"\n",
    "esrrb = \"GTTCAAGGTCAC\"\n",
    "klf4 = \"GGGGTGGGGCCG\"\n",
    "sox2_rev = reverse_complement_seq(sox2)\n",
    "pou5f1_rev = reverse_complement_seq(pou5f1)\n",
    "esrrb_rev = reverse_complement_seq(esrrb)\n",
    "klf4_rev = reverse_complement_seq(klf4)"
   ]
  },
  {
   "cell_type": "code",
   "execution_count": 70,
   "metadata": {
    "execution": {
     "iopub.execute_input": "2023-02-06T21:27:22.526827Z",
     "iopub.status.busy": "2023-02-06T21:27:22.526342Z",
     "iopub.status.idle": "2023-02-06T21:27:22.535133Z",
     "shell.execute_reply": "2023-02-06T21:27:22.534042Z",
     "shell.execute_reply.started": "2023-02-06T21:27:22.526791Z"
    },
    "tags": []
   },
   "outputs": [],
   "source": [
    "# Get a list of spans for all the building block instances in each sequence, some may overlap\n",
    "import re\n",
    "def get_spans(seq, pattern):\n",
    "    return [m.span() for m in re.finditer(pattern, seq)]\n",
    "building_block_spans = [get_spans(seq, building_block) for seq in sequences]"
   ]
  },
  {
   "cell_type": "code",
   "execution_count": 71,
   "metadata": {
    "execution": {
     "iopub.execute_input": "2023-02-06T21:27:23.658551Z",
     "iopub.status.busy": "2023-02-06T21:27:23.658129Z",
     "iopub.status.idle": "2023-02-06T21:27:23.667705Z",
     "shell.execute_reply": "2023-02-06T21:27:23.666036Z",
     "shell.execute_reply.started": "2023-02-06T21:27:23.658486Z"
    },
    "tags": []
   },
   "outputs": [
    {
     "data": {
      "text/plain": [
       "([], 810)"
      ]
     },
     "execution_count": 71,
     "metadata": {},
     "output_type": "execute_result"
    }
   ],
   "source": [
    "# Check the spans for the sequences for the building block\n",
    "building_block_spans[0], len(building_block_spans)"
   ]
  },
  {
   "cell_type": "code",
   "execution_count": 72,
   "metadata": {
    "execution": {
     "iopub.execute_input": "2023-02-06T21:27:26.660052Z",
     "iopub.status.busy": "2023-02-06T21:27:26.659666Z",
     "iopub.status.idle": "2023-02-06T21:27:26.685155Z",
     "shell.execute_reply": "2023-02-06T21:27:26.683640Z",
     "shell.execute_reply.started": "2023-02-06T21:27:26.660017Z"
    },
    "tags": []
   },
   "outputs": [],
   "source": [
    "# Get the spans for each consensus as defined above\n",
    "sox2_spans = [get_spans(seq, sox2) for seq in sequences]\n",
    "pou5f1_spans = [get_spans(seq, pou5f1) for seq in sequences]\n",
    "esrrb_spans = [get_spans(seq, esrrb) for seq in sequences]\n",
    "klf4_spans = [get_spans(seq, klf4) for seq in sequences]\n",
    "sox2_rev_spans = [get_spans(seq, sox2_rev) for seq in sequences]\n",
    "pou5f1_rev_spans = [get_spans(seq, pou5f1_rev) for seq in sequences]\n",
    "esrrb_rev_spans = [get_spans(seq, esrrb_rev) for seq in sequences]\n",
    "klf4_rev_spans = [get_spans(seq, klf4_rev) for seq in sequences]"
   ]
  },
  {
   "cell_type": "code",
   "execution_count": 73,
   "metadata": {
    "execution": {
     "iopub.execute_input": "2023-02-06T21:27:29.508310Z",
     "iopub.status.busy": "2023-02-06T21:27:29.507955Z",
     "iopub.status.idle": "2023-02-06T21:27:29.526508Z",
     "shell.execute_reply": "2023-02-06T21:27:29.525367Z",
     "shell.execute_reply.started": "2023-02-06T21:27:29.508276Z"
    },
    "tags": []
   },
   "outputs": [],
   "source": [
    "# Add these to the dataframe\n",
    "sdata.seqs_annot[\"sox2_spans\"] = sox2_spans\n",
    "sdata.seqs_annot[\"pouf51_spans\"] = pou5f1_spans\n",
    "sdata.seqs_annot[\"esrrb_spans\"] = esrrb_spans\n",
    "sdata.seqs_annot[\"klf4_spans\"] = klf4_spans\n",
    "sdata.seqs_annot[\"sox2_rev_spans\"] = sox2_rev_spans\n",
    "sdata.seqs_annot[\"pouf51_rev_spans\"] = pou5f1_rev_spans\n",
    "sdata.seqs_annot[\"esrrb_rev_spans\"] = esrrb_rev_spans\n",
    "sdata.seqs_annot[\"klf4_rev_spans\"] = klf4_rev_spans"
   ]
  },
  {
   "cell_type": "code",
   "execution_count": 74,
   "metadata": {
    "execution": {
     "iopub.execute_input": "2023-02-06T21:27:30.508486Z",
     "iopub.status.busy": "2023-02-06T21:27:30.508135Z",
     "iopub.status.idle": "2023-02-06T21:27:30.555177Z",
     "shell.execute_reply": "2023-02-06T21:27:30.553966Z",
     "shell.execute_reply.started": "2023-02-06T21:27:30.508453Z"
    },
    "tags": []
   },
   "outputs": [
    {
     "data": {
      "text/html": [
       "<div>\n",
       "<style scoped>\n",
       "    .dataframe tbody tr th:only-of-type {\n",
       "        vertical-align: middle;\n",
       "    }\n",
       "\n",
       "    .dataframe tbody tr th {\n",
       "        vertical-align: top;\n",
       "    }\n",
       "\n",
       "    .dataframe thead th {\n",
       "        text-align: right;\n",
       "    }\n",
       "</style>\n",
       "<table border=\"1\" class=\"dataframe\">\n",
       "  <thead>\n",
       "    <tr style=\"text-align: right;\">\n",
       "      <th></th>\n",
       "      <th>BC</th>\n",
       "      <th>range</th>\n",
       "      <th>seq_len</th>\n",
       "      <th>sox2_spans</th>\n",
       "      <th>pouf51_spans</th>\n",
       "      <th>esrrb_spans</th>\n",
       "      <th>klf4_spans</th>\n",
       "      <th>sox2_rev_spans</th>\n",
       "      <th>pouf51_rev_spans</th>\n",
       "      <th>esrrb_rev_spans</th>\n",
       "      <th>klf4_rev_spans</th>\n",
       "    </tr>\n",
       "    <tr>\n",
       "      <th>Element_id</th>\n",
       "      <th></th>\n",
       "      <th></th>\n",
       "      <th></th>\n",
       "      <th></th>\n",
       "      <th></th>\n",
       "      <th></th>\n",
       "      <th></th>\n",
       "      <th></th>\n",
       "      <th></th>\n",
       "      <th></th>\n",
       "      <th></th>\n",
       "    </tr>\n",
       "  </thead>\n",
       "  <tbody>\n",
       "    <tr>\n",
       "      <th>chr6:72623138-72623219_Genomic</th>\n",
       "      <td>AAACAACGC</td>\n",
       "      <td>chr6:72623138-72623219</td>\n",
       "      <td>81</td>\n",
       "      <td>[]</td>\n",
       "      <td>[]</td>\n",
       "      <td>[]</td>\n",
       "      <td>[]</td>\n",
       "      <td>[]</td>\n",
       "      <td>[]</td>\n",
       "      <td>[]</td>\n",
       "      <td>[]</td>\n",
       "    </tr>\n",
       "    <tr>\n",
       "      <th>chr16:87501907-87501988_Genomic</th>\n",
       "      <td>AAACAAGGT</td>\n",
       "      <td>chr16:87501907-87501988</td>\n",
       "      <td>81</td>\n",
       "      <td>[]</td>\n",
       "      <td>[]</td>\n",
       "      <td>[]</td>\n",
       "      <td>[]</td>\n",
       "      <td>[]</td>\n",
       "      <td>[]</td>\n",
       "      <td>[]</td>\n",
       "      <td>[]</td>\n",
       "    </tr>\n",
       "    <tr>\n",
       "      <th>chr4:132315869-132315951_Genomic</th>\n",
       "      <td>AAACACAGC</td>\n",
       "      <td>chr4:132315869-132315951</td>\n",
       "      <td>82</td>\n",
       "      <td>[]</td>\n",
       "      <td>[]</td>\n",
       "      <td>[]</td>\n",
       "      <td>[]</td>\n",
       "      <td>[]</td>\n",
       "      <td>[]</td>\n",
       "      <td>[]</td>\n",
       "      <td>[]</td>\n",
       "    </tr>\n",
       "    <tr>\n",
       "      <th>chr11:113197970-113198052_All_Mutated</th>\n",
       "      <td>AAACACCGA</td>\n",
       "      <td>chr11:113197970-113198052</td>\n",
       "      <td>82</td>\n",
       "      <td>[]</td>\n",
       "      <td>[]</td>\n",
       "      <td>[]</td>\n",
       "      <td>[]</td>\n",
       "      <td>[]</td>\n",
       "      <td>[]</td>\n",
       "      <td>[]</td>\n",
       "      <td>[]</td>\n",
       "    </tr>\n",
       "    <tr>\n",
       "      <th>chr10:115312950-115313031_All_Mutated</th>\n",
       "      <td>AAACACTAC</td>\n",
       "      <td>chr10:115312950-115313031</td>\n",
       "      <td>81</td>\n",
       "      <td>[]</td>\n",
       "      <td>[]</td>\n",
       "      <td>[]</td>\n",
       "      <td>[]</td>\n",
       "      <td>[]</td>\n",
       "      <td>[]</td>\n",
       "      <td>[]</td>\n",
       "      <td>[]</td>\n",
       "    </tr>\n",
       "    <tr>\n",
       "      <th>...</th>\n",
       "      <td>...</td>\n",
       "      <td>...</td>\n",
       "      <td>...</td>\n",
       "      <td>...</td>\n",
       "      <td>...</td>\n",
       "      <td>...</td>\n",
       "      <td>...</td>\n",
       "      <td>...</td>\n",
       "      <td>...</td>\n",
       "      <td>...</td>\n",
       "      <td>...</td>\n",
       "    </tr>\n",
       "    <tr>\n",
       "      <th>chr14:59806818-59806899_Genomic</th>\n",
       "      <td>CTTGCAAGT</td>\n",
       "      <td>chr14:59806818-59806899</td>\n",
       "      <td>81</td>\n",
       "      <td>[]</td>\n",
       "      <td>[]</td>\n",
       "      <td>[]</td>\n",
       "      <td>[]</td>\n",
       "      <td>[]</td>\n",
       "      <td>[]</td>\n",
       "      <td>[]</td>\n",
       "      <td>[]</td>\n",
       "    </tr>\n",
       "    <tr>\n",
       "      <th>chr15:82209826-82209907_Genomic</th>\n",
       "      <td>CTTGTTCAC</td>\n",
       "      <td>chr15:82209826-82209907</td>\n",
       "      <td>81</td>\n",
       "      <td>[]</td>\n",
       "      <td>[]</td>\n",
       "      <td>[]</td>\n",
       "      <td>[]</td>\n",
       "      <td>[]</td>\n",
       "      <td>[]</td>\n",
       "      <td>[]</td>\n",
       "      <td>[]</td>\n",
       "    </tr>\n",
       "    <tr>\n",
       "      <th>chr13:40717504-40717586_Genomic</th>\n",
       "      <td>GAAAGCTGA</td>\n",
       "      <td>chr13:40717504-40717586</td>\n",
       "      <td>82</td>\n",
       "      <td>[]</td>\n",
       "      <td>[]</td>\n",
       "      <td>[]</td>\n",
       "      <td>[]</td>\n",
       "      <td>[]</td>\n",
       "      <td>[]</td>\n",
       "      <td>[]</td>\n",
       "      <td>[]</td>\n",
       "    </tr>\n",
       "    <tr>\n",
       "      <th>chr17:62109192-62109274_All_Mutated</th>\n",
       "      <td>GAGACGAAA</td>\n",
       "      <td>chr17:62109192-62109274</td>\n",
       "      <td>82</td>\n",
       "      <td>[]</td>\n",
       "      <td>[]</td>\n",
       "      <td>[]</td>\n",
       "      <td>[]</td>\n",
       "      <td>[]</td>\n",
       "      <td>[]</td>\n",
       "      <td>[]</td>\n",
       "      <td>[]</td>\n",
       "    </tr>\n",
       "    <tr>\n",
       "      <th>chr11:109476444-109476525_All_Mutated</th>\n",
       "      <td>GGAAATTTC</td>\n",
       "      <td>chr11:109476444-109476525</td>\n",
       "      <td>81</td>\n",
       "      <td>[]</td>\n",
       "      <td>[]</td>\n",
       "      <td>[]</td>\n",
       "      <td>[]</td>\n",
       "      <td>[]</td>\n",
       "      <td>[]</td>\n",
       "      <td>[]</td>\n",
       "      <td>[]</td>\n",
       "    </tr>\n",
       "  </tbody>\n",
       "</table>\n",
       "<p>810 rows × 11 columns</p>\n",
       "</div>"
      ],
      "text/plain": [
       "                                              BC                      range  \\\n",
       "Element_id                                                                    \n",
       "chr6:72623138-72623219_Genomic         AAACAACGC     chr6:72623138-72623219   \n",
       "chr16:87501907-87501988_Genomic        AAACAAGGT    chr16:87501907-87501988   \n",
       "chr4:132315869-132315951_Genomic       AAACACAGC   chr4:132315869-132315951   \n",
       "chr11:113197970-113198052_All_Mutated  AAACACCGA  chr11:113197970-113198052   \n",
       "chr10:115312950-115313031_All_Mutated  AAACACTAC  chr10:115312950-115313031   \n",
       "...                                          ...                        ...   \n",
       "chr14:59806818-59806899_Genomic        CTTGCAAGT    chr14:59806818-59806899   \n",
       "chr15:82209826-82209907_Genomic        CTTGTTCAC    chr15:82209826-82209907   \n",
       "chr13:40717504-40717586_Genomic        GAAAGCTGA    chr13:40717504-40717586   \n",
       "chr17:62109192-62109274_All_Mutated    GAGACGAAA    chr17:62109192-62109274   \n",
       "chr11:109476444-109476525_All_Mutated  GGAAATTTC  chr11:109476444-109476525   \n",
       "\n",
       "                                       seq_len sox2_spans pouf51_spans  \\\n",
       "Element_id                                                               \n",
       "chr6:72623138-72623219_Genomic              81         []           []   \n",
       "chr16:87501907-87501988_Genomic             81         []           []   \n",
       "chr4:132315869-132315951_Genomic            82         []           []   \n",
       "chr11:113197970-113198052_All_Mutated       82         []           []   \n",
       "chr10:115312950-115313031_All_Mutated       81         []           []   \n",
       "...                                        ...        ...          ...   \n",
       "chr14:59806818-59806899_Genomic             81         []           []   \n",
       "chr15:82209826-82209907_Genomic             81         []           []   \n",
       "chr13:40717504-40717586_Genomic             82         []           []   \n",
       "chr17:62109192-62109274_All_Mutated         82         []           []   \n",
       "chr11:109476444-109476525_All_Mutated       81         []           []   \n",
       "\n",
       "                                      esrrb_spans klf4_spans sox2_rev_spans  \\\n",
       "Element_id                                                                    \n",
       "chr6:72623138-72623219_Genomic                 []         []             []   \n",
       "chr16:87501907-87501988_Genomic                []         []             []   \n",
       "chr4:132315869-132315951_Genomic               []         []             []   \n",
       "chr11:113197970-113198052_All_Mutated          []         []             []   \n",
       "chr10:115312950-115313031_All_Mutated          []         []             []   \n",
       "...                                           ...        ...            ...   \n",
       "chr14:59806818-59806899_Genomic                []         []             []   \n",
       "chr15:82209826-82209907_Genomic                []         []             []   \n",
       "chr13:40717504-40717586_Genomic                []         []             []   \n",
       "chr17:62109192-62109274_All_Mutated            []         []             []   \n",
       "chr11:109476444-109476525_All_Mutated          []         []             []   \n",
       "\n",
       "                                      pouf51_rev_spans esrrb_rev_spans  \\\n",
       "Element_id                                                               \n",
       "chr6:72623138-72623219_Genomic                      []              []   \n",
       "chr16:87501907-87501988_Genomic                     []              []   \n",
       "chr4:132315869-132315951_Genomic                    []              []   \n",
       "chr11:113197970-113198052_All_Mutated               []              []   \n",
       "chr10:115312950-115313031_All_Mutated               []              []   \n",
       "...                                                ...             ...   \n",
       "chr14:59806818-59806899_Genomic                     []              []   \n",
       "chr15:82209826-82209907_Genomic                     []              []   \n",
       "chr13:40717504-40717586_Genomic                     []              []   \n",
       "chr17:62109192-62109274_All_Mutated                 []              []   \n",
       "chr11:109476444-109476525_All_Mutated               []              []   \n",
       "\n",
       "                                      klf4_rev_spans  \n",
       "Element_id                                            \n",
       "chr6:72623138-72623219_Genomic                    []  \n",
       "chr16:87501907-87501988_Genomic                   []  \n",
       "chr4:132315869-132315951_Genomic                  []  \n",
       "chr11:113197970-113198052_All_Mutated             []  \n",
       "chr10:115312950-115313031_All_Mutated             []  \n",
       "...                                              ...  \n",
       "chr14:59806818-59806899_Genomic                   []  \n",
       "chr15:82209826-82209907_Genomic                   []  \n",
       "chr13:40717504-40717586_Genomic                   []  \n",
       "chr17:62109192-62109274_All_Mutated               []  \n",
       "chr11:109476444-109476525_All_Mutated             []  \n",
       "\n",
       "[810 rows x 11 columns]"
      ]
     },
     "execution_count": 74,
     "metadata": {},
     "output_type": "execute_result"
    }
   ],
   "source": [
    "# Check for those that have a site 2, see if the element IDs match up with the spans for these Scalar seqs\n",
    "sdata.seqs_annot"
   ]
  },
  {
   "cell_type": "markdown",
   "metadata": {
    "tags": []
   },
   "source": [
    "# EUGENe analysis"
   ]
  },
  {
   "cell_type": "code",
   "execution_count": 1,
   "metadata": {
    "execution": {
     "iopub.execute_input": "2023-02-06T21:38:58.298066Z",
     "iopub.status.busy": "2023-02-06T21:38:58.297705Z",
     "iopub.status.idle": "2023-02-06T21:39:50.296822Z",
     "shell.execute_reply": "2023-02-06T21:39:50.295521Z",
     "shell.execute_reply.started": "2023-02-06T21:38:58.297993Z"
    },
    "tags": []
   },
   "outputs": [
    {
     "name": "stderr",
     "output_type": "stream",
     "text": [
      "Global seed set to 13\n"
     ]
    }
   ],
   "source": [
    "import sys\n",
    "sys.path.append(\"/cellar/users/aklie/projects/use_cases/king20/\")\n",
    "from utils import *\n",
    "import eugene as eu"
   ]
  },
  {
   "cell_type": "code",
   "execution_count": 7,
   "metadata": {
    "execution": {
     "iopub.execute_input": "2023-02-06T21:41:18.894930Z",
     "iopub.status.busy": "2023-02-06T21:41:18.894391Z",
     "iopub.status.idle": "2023-02-06T21:41:18.900242Z",
     "shell.execute_reply": "2023-02-06T21:41:18.898772Z",
     "shell.execute_reply.started": "2023-02-06T21:41:18.894880Z"
    },
    "tags": []
   },
   "outputs": [],
   "source": [
    "dataset_dir = \"/cellar/users/aklie/data/eugene/\""
   ]
  },
  {
   "cell_type": "code",
   "execution_count": 9,
   "metadata": {
    "execution": {
     "iopub.execute_input": "2023-02-06T21:41:26.244994Z",
     "iopub.status.busy": "2023-02-06T21:41:26.244475Z",
     "iopub.status.idle": "2023-02-06T21:41:28.835185Z",
     "shell.execute_reply": "2023-02-06T21:41:28.834142Z",
     "shell.execute_reply.started": "2023-02-06T21:41:26.244957Z"
    },
    "tags": []
   },
   "outputs": [
    {
     "name": "stdout",
     "output_type": "stream",
     "text": [
      "Design spreadsheet already exists at /cellar/users/aklie/data/eugene/king20/design.xlsx\n",
      "Model spreadsheet already exists at /cellar/users/aklie/data/eugene/king20/models.xlsx\n",
      "Gkmsvm fasta already exists at /cellar/users/aklie/data/eugene/king20/GEN.fasta\n"
     ]
    }
   ],
   "source": [
    "sdata = king20(dataset=\"GEN\", dataset_dir=dataset_dir)"
   ]
  },
  {
   "cell_type": "code",
   "execution_count": 10,
   "metadata": {
    "execution": {
     "iopub.execute_input": "2023-02-06T21:41:33.243974Z",
     "iopub.status.busy": "2023-02-06T21:41:33.243421Z",
     "iopub.status.idle": "2023-02-06T21:41:33.256238Z",
     "shell.execute_reply": "2023-02-06T21:41:33.254885Z",
     "shell.execute_reply.started": "2023-02-06T21:41:33.243935Z"
    },
    "tags": []
   },
   "outputs": [
    {
     "name": "stdout",
     "output_type": "stream",
     "text": [
      "SeqData object modified:\n",
      "    seqs_annot:\n",
      "        + chr, start, end\n"
     ]
    }
   ],
   "source": [
    "eu.pp.add_ranges_sdata(sdata)"
   ]
  },
  {
   "cell_type": "code",
   "execution_count": 11,
   "metadata": {
    "execution": {
     "iopub.execute_input": "2023-02-06T21:41:35.289657Z",
     "iopub.status.busy": "2023-02-06T21:41:35.289131Z",
     "iopub.status.idle": "2023-02-06T21:41:35.332122Z",
     "shell.execute_reply": "2023-02-06T21:41:35.330867Z",
     "shell.execute_reply.started": "2023-02-06T21:41:35.289620Z"
    },
    "tags": []
   },
   "outputs": [
    {
     "data": {
      "text/html": [
       "<div>\n",
       "<style scoped>\n",
       "    .dataframe tbody tr th:only-of-type {\n",
       "        vertical-align: middle;\n",
       "    }\n",
       "\n",
       "    .dataframe tbody tr th {\n",
       "        vertical-align: top;\n",
       "    }\n",
       "\n",
       "    .dataframe thead th {\n",
       "        text-align: right;\n",
       "    }\n",
       "</style>\n",
       "<table border=\"1\" class=\"dataframe\">\n",
       "  <thead>\n",
       "    <tr style=\"text-align: right;\">\n",
       "      <th></th>\n",
       "      <th>CRE_norm_expression_WT_all</th>\n",
       "      <th>chr</th>\n",
       "      <th>start</th>\n",
       "      <th>end</th>\n",
       "    </tr>\n",
       "    <tr>\n",
       "      <th>Element_id</th>\n",
       "      <th></th>\n",
       "      <th></th>\n",
       "      <th></th>\n",
       "      <th></th>\n",
       "    </tr>\n",
       "  </thead>\n",
       "  <tbody>\n",
       "    <tr>\n",
       "      <th>chr10:108456620-108456701</th>\n",
       "      <td>2.292053</td>\n",
       "      <td>chr10</td>\n",
       "      <td>108456620</td>\n",
       "      <td>108456701</td>\n",
       "    </tr>\n",
       "    <tr>\n",
       "      <th>chr10:110940873-110940954</th>\n",
       "      <td>1.026702</td>\n",
       "      <td>chr10</td>\n",
       "      <td>110940873</td>\n",
       "      <td>110940954</td>\n",
       "    </tr>\n",
       "    <tr>\n",
       "      <th>chr10:115312950-115313031</th>\n",
       "      <td>1.818395</td>\n",
       "      <td>chr10</td>\n",
       "      <td>115312950</td>\n",
       "      <td>115313031</td>\n",
       "    </tr>\n",
       "    <tr>\n",
       "      <th>chr10:128631710-128631792</th>\n",
       "      <td>1.059821</td>\n",
       "      <td>chr10</td>\n",
       "      <td>128631710</td>\n",
       "      <td>128631792</td>\n",
       "    </tr>\n",
       "    <tr>\n",
       "      <th>chr10:18597642-18597724</th>\n",
       "      <td>0.827090</td>\n",
       "      <td>chr10</td>\n",
       "      <td>18597642</td>\n",
       "      <td>18597724</td>\n",
       "    </tr>\n",
       "    <tr>\n",
       "      <th>...</th>\n",
       "      <td>...</td>\n",
       "      <td>...</td>\n",
       "      <td>...</td>\n",
       "      <td>...</td>\n",
       "    </tr>\n",
       "    <tr>\n",
       "      <th>chr9:9961010-9961092</th>\n",
       "      <td>1.022724</td>\n",
       "      <td>chr9</td>\n",
       "      <td>9961010</td>\n",
       "      <td>9961092</td>\n",
       "    </tr>\n",
       "    <tr>\n",
       "      <th>chrX:114694676-114694758</th>\n",
       "      <td>1.952495</td>\n",
       "      <td>chrX</td>\n",
       "      <td>114694676</td>\n",
       "      <td>114694758</td>\n",
       "    </tr>\n",
       "    <tr>\n",
       "      <th>chrX:134296640-134296721</th>\n",
       "      <td>1.326962</td>\n",
       "      <td>chrX</td>\n",
       "      <td>134296640</td>\n",
       "      <td>134296721</td>\n",
       "    </tr>\n",
       "    <tr>\n",
       "      <th>chrX:42432096-42432178</th>\n",
       "      <td>1.432373</td>\n",
       "      <td>chrX</td>\n",
       "      <td>42432096</td>\n",
       "      <td>42432178</td>\n",
       "    </tr>\n",
       "    <tr>\n",
       "      <th>chrX:51684780-51684862</th>\n",
       "      <td>0.950248</td>\n",
       "      <td>chrX</td>\n",
       "      <td>51684780</td>\n",
       "      <td>51684862</td>\n",
       "    </tr>\n",
       "  </tbody>\n",
       "</table>\n",
       "<p>403 rows × 4 columns</p>\n",
       "</div>"
      ],
      "text/plain": [
       "                           CRE_norm_expression_WT_all    chr      start  \\\n",
       "Element_id                                                                \n",
       "chr10:108456620-108456701                    2.292053  chr10  108456620   \n",
       "chr10:110940873-110940954                    1.026702  chr10  110940873   \n",
       "chr10:115312950-115313031                    1.818395  chr10  115312950   \n",
       "chr10:128631710-128631792                    1.059821  chr10  128631710   \n",
       "chr10:18597642-18597724                      0.827090  chr10   18597642   \n",
       "...                                               ...    ...        ...   \n",
       "chr9:9961010-9961092                         1.022724   chr9    9961010   \n",
       "chrX:114694676-114694758                     1.952495   chrX  114694676   \n",
       "chrX:134296640-134296721                     1.326962   chrX  134296640   \n",
       "chrX:42432096-42432178                       1.432373   chrX   42432096   \n",
       "chrX:51684780-51684862                       0.950248   chrX   51684780   \n",
       "\n",
       "                                 end  \n",
       "Element_id                            \n",
       "chr10:108456620-108456701  108456701  \n",
       "chr10:110940873-110940954  110940954  \n",
       "chr10:115312950-115313031  115313031  \n",
       "chr10:128631710-128631792  128631792  \n",
       "chr10:18597642-18597724     18597724  \n",
       "...                              ...  \n",
       "chr9:9961010-9961092         9961092  \n",
       "chrX:114694676-114694758   114694758  \n",
       "chrX:134296640-134296721   134296721  \n",
       "chrX:42432096-42432178      42432178  \n",
       "chrX:51684780-51684862      51684862  \n",
       "\n",
       "[403 rows x 4 columns]"
      ]
     },
     "execution_count": 11,
     "metadata": {},
     "output_type": "execute_result"
    }
   ],
   "source": [
    "sdata.seqs_annot"
   ]
  },
  {
   "cell_type": "markdown",
   "metadata": {
    "tags": []
   },
   "source": [
    "## Data Visualization"
   ]
  },
  {
   "cell_type": "code",
   "execution_count": 12,
   "metadata": {
    "execution": {
     "iopub.execute_input": "2023-02-06T21:42:02.246667Z",
     "iopub.status.busy": "2023-02-06T21:42:02.246159Z",
     "iopub.status.idle": "2023-02-06T21:42:02.255759Z",
     "shell.execute_reply": "2023-02-06T21:42:02.254503Z",
     "shell.execute_reply.started": "2023-02-06T21:42:02.246628Z"
    },
    "tags": []
   },
   "outputs": [],
   "source": [
    "# Add this to sanitize seqs\n",
    "sdata = sdata[~np.array([seq is np.nan for seq in sdata.seqs])]"
   ]
  },
  {
   "cell_type": "code",
   "execution_count": 13,
   "metadata": {
    "execution": {
     "iopub.execute_input": "2023-02-06T21:42:03.475536Z",
     "iopub.status.busy": "2023-02-06T21:42:03.475059Z",
     "iopub.status.idle": "2023-02-06T21:42:04.279087Z",
     "shell.execute_reply": "2023-02-06T21:42:04.277947Z",
     "shell.execute_reply.started": "2023-02-06T21:42:03.475473Z"
    },
    "tags": []
   },
   "outputs": [
    {
     "data": {
      "image/png": "[encoded data removed]",
      "text/plain": [
       "<Figure size 720x360 with 1 Axes>"
      ]
     },
     "metadata": {
      "needs_background": "light"
     },
     "output_type": "display_data"
    }
   ],
   "source": [
    "# Add this to some kind of preprocess seqs or seqs metrics\n",
    "sdata[\"seq_len\"] = [len(seq) for seq in sdata.seqs]\n",
    "eu.pl.histplot(\n",
    "    sdata, \n",
    "    keys=\"seq_len\", \n",
    "    orient=\"h\"\n",
    ")"
   ]
  },
  {
   "cell_type": "code",
   "execution_count": 15,
   "metadata": {
    "execution": {
     "iopub.execute_input": "2023-02-06T21:42:24.377805Z",
     "iopub.status.busy": "2023-02-06T21:42:24.377247Z",
     "iopub.status.idle": "2023-02-06T21:42:25.383273Z",
     "shell.execute_reply": "2023-02-06T21:42:25.381985Z",
     "shell.execute_reply.started": "2023-02-06T21:42:24.377765Z"
    },
    "tags": []
   },
   "outputs": [
    {
     "name": "stdout",
     "output_type": "stream",
     "text": [
      "0\n"
     ]
    },
    {
     "data": {
      "image/png": "[encoded data removed]",
      "text/plain": [
       "<Figure size 1000x500 with 1 Axes>"
      ]
     },
     "metadata": {},
     "output_type": "display_data"
    }
   ],
   "source": [
    "# Chceck the potential target to start\n",
    "eu.pl.histplot(\n",
    "    sdata,\n",
    "    keys=\"CRE_norm_expression_WT_all\",\n",
    "    orient=\"h\"\n",
    ")\n",
    "print(sdata[\"CRE_norm_expression_WT_all\"].isna().sum())"
   ]
  },
  {
   "cell_type": "markdown",
   "metadata": {
    "tags": []
   },
   "source": [
    "## Preprocessing"
   ]
  },
  {
   "cell_type": "code",
   "execution_count": 16,
   "metadata": {
    "execution": {
     "iopub.execute_input": "2023-02-06T21:42:33.570056Z",
     "iopub.status.busy": "2023-02-06T21:42:33.569194Z",
     "iopub.status.idle": "2023-02-06T21:42:33.634616Z",
     "shell.execute_reply": "2023-02-06T21:42:33.633601Z",
     "shell.execute_reply.started": "2023-02-06T21:42:33.570016Z"
    },
    "tags": []
   },
   "outputs": [
    {
     "data": {
      "application/vnd.jupyter.widget-view+json": {
       "model_id": "c7d093d893c94f05a7007c0681f944cc",
       "version_major": 2,
       "version_minor": 0
      },
      "text/plain": [
       "One-hot encoding sequences:   0%|          | 0/403 [00:00<?, ?it/s]"
      ]
     },
     "metadata": {},
     "output_type": "display_data"
    },
    {
     "name": "stdout",
     "output_type": "stream",
     "text": [
      "SeqData object modified:\n",
      "\tohe_seqs: None -> 403 ohe_seqs added\n"
     ]
    }
   ],
   "source": [
    "# One-hot-encode, though this is no bueno\n",
    "eu.pp.ohe_seqs_sdata(sdata, maxlen=sdata[\"seq_len\"].max())"
   ]
  },
  {
   "cell_type": "code",
   "execution_count": 19,
   "metadata": {
    "execution": {
     "iopub.execute_input": "2023-02-06T21:42:54.276016Z",
     "iopub.status.busy": "2023-02-06T21:42:54.275623Z",
     "iopub.status.idle": "2023-02-06T21:42:54.284024Z",
     "shell.execute_reply": "2023-02-06T21:42:54.282589Z",
     "shell.execute_reply.started": "2023-02-06T21:42:54.275979Z"
    },
    "tags": []
   },
   "outputs": [],
   "source": [
    "# Add function registry for normalization\n",
    "sdata[\"log_CRE_norm_expression_WT_all\"] = np.log2(sdata[\"CRE_norm_expression_WT_all\"])"
   ]
  },
  {
   "cell_type": "code",
   "execution_count": 20,
   "metadata": {
    "execution": {
     "iopub.execute_input": "2023-02-06T21:42:58.243223Z",
     "iopub.status.busy": "2023-02-06T21:42:58.242839Z",
     "iopub.status.idle": "2023-02-06T21:42:59.022209Z",
     "shell.execute_reply": "2023-02-06T21:42:59.021225Z",
     "shell.execute_reply.started": "2023-02-06T21:42:58.243187Z"
    },
    "tags": []
   },
   "outputs": [
    {
     "data": {
      "image/png": "[encoded data removed]",
      "text/plain": [
       "<Figure size 1000x500 with 1 Axes>"
      ]
     },
     "metadata": {},
     "output_type": "display_data"
    }
   ],
   "source": [
    "# Check log normalization\n",
    "eu.pl.histplot(\n",
    "    sdata,\n",
    "    keys=\"log_CRE_norm_expression_WT_all\",\n",
    "    orient=\"h\",\n",
    "    bins=100\n",
    ")"
   ]
  },
  {
   "cell_type": "code",
   "execution_count": 21,
   "metadata": {
    "execution": {
     "iopub.execute_input": "2023-02-06T21:43:00.559917Z",
     "iopub.status.busy": "2023-02-06T21:43:00.559391Z",
     "iopub.status.idle": "2023-02-06T21:43:00.567633Z",
     "shell.execute_reply": "2023-02-06T21:43:00.566291Z",
     "shell.execute_reply.started": "2023-02-06T21:43:00.559868Z"
    },
    "tags": []
   },
   "outputs": [],
   "source": [
    "# Clean up features to use\n",
    "sdata.seqs_annot = sdata.seqs_annot.replace({True: 1, False: 0})"
   ]
  },
  {
   "cell_type": "code",
   "execution_count": 22,
   "metadata": {
    "execution": {
     "iopub.execute_input": "2023-02-06T21:43:03.241858Z",
     "iopub.status.busy": "2023-02-06T21:43:03.241312Z",
     "iopub.status.idle": "2023-02-06T21:43:03.252240Z",
     "shell.execute_reply": "2023-02-06T21:43:03.251028Z",
     "shell.execute_reply.started": "2023-02-06T21:43:03.241794Z"
    },
    "tags": []
   },
   "outputs": [
    {
     "name": "stdout",
     "output_type": "stream",
     "text": [
      "SeqData object modified:\n",
      "    seqs_annot:\n",
      "        + train_val\n"
     ]
    }
   ],
   "source": [
    "eu.pp.train_test_split_sdata(sdata, split=0.5)"
   ]
  },
  {
   "cell_type": "code",
   "execution_count": 24,
   "metadata": {
    "execution": {
     "iopub.execute_input": "2023-02-06T21:43:10.243819Z",
     "iopub.status.busy": "2023-02-06T21:43:10.243282Z",
     "iopub.status.idle": "2023-02-06T21:43:10.251681Z",
     "shell.execute_reply": "2023-02-06T21:43:10.250389Z",
     "shell.execute_reply.started": "2023-02-06T21:43:10.243781Z"
    },
    "tags": []
   },
   "outputs": [],
   "source": [
    "nan_mask = np.isnan(sdata[\"log_CRE_norm_expression_WT_all\"])\n",
    "sdata = sdata[~nan_mask]"
   ]
  },
  {
   "cell_type": "code",
   "execution_count": 25,
   "metadata": {
    "execution": {
     "iopub.execute_input": "2023-02-06T21:43:11.412927Z",
     "iopub.status.busy": "2023-02-06T21:43:11.412383Z",
     "iopub.status.idle": "2023-02-06T21:43:11.419905Z",
     "shell.execute_reply": "2023-02-06T21:43:11.418702Z",
     "shell.execute_reply.started": "2023-02-06T21:43:11.412890Z"
    },
    "tags": []
   },
   "outputs": [
    {
     "data": {
      "text/plain": [
       "SeqData object with = 403 seqs\n",
       "seqs = (403,)\n",
       "names = (403,)\n",
       "rev_seqs = None\n",
       "ohe_seqs = (403, 4, 82)\n",
       "ohe_rev_seqs = None\n",
       "seqs_annot: 'CRE_norm_expression_WT_all', 'chr', 'start', 'end', 'seq_len', 'log_CRE_norm_expression_WT_all', 'train_val'\n",
       "pos_annot: None\n",
       "seqsm: None\n",
       "uns: None"
      ]
     },
     "execution_count": 25,
     "metadata": {},
     "output_type": "execute_result"
    }
   ],
   "source": [
    "sdata"
   ]
  },
  {
   "cell_type": "markdown",
   "metadata": {},
   "source": [
    "# DONE!"
   ]
  },
  {
   "cell_type": "markdown",
   "metadata": {},
   "source": [
    "---"
   ]
  }
 ],
 "metadata": {
  "kernelspec": {
   "display_name": "Python 3.7 eugene_dev",
   "language": "python",
   "name": "eugene_dev"
  },
  "language_info": {
   "codemirror_mode": {
    "name": "ipython",
    "version": 3
   },
   "file_extension": ".py",
   "mimetype": "text/x-python",
   "name": "python",
   "nbconvert_exporter": "python",
   "pygments_lexer": "ipython3",
   "version": "3.7.12"
  },
  "vscode": {
   "interpreter": {
    "hash": "949777d72b0d2535278d3dc13498b2535136f6dfe0678499012e853ee9abcab1"
   }
  }
 },
 "nbformat": 4,
 "nbformat_minor": 4
}
