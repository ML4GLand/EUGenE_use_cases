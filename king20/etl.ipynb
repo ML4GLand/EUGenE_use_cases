{
 "cells": [
  {
   "cell_type": "code",
   "execution_count": 1,
   "metadata": {
    "execution": {
     "iopub.execute_input": "2023-02-06T22:41:25.764832Z",
     "iopub.status.busy": "2023-02-06T22:41:25.764364Z",
     "iopub.status.idle": "2023-02-06T22:42:04.800702Z",
     "shell.execute_reply": "2023-02-06T22:42:04.799525Z",
     "shell.execute_reply.started": "2023-02-06T22:41:25.764704Z"
    },
    "tags": []
   },
   "outputs": [
    {
     "name": "stderr",
     "output_type": "stream",
     "text": [
      "Global seed set to 13\n"
     ]
    }
   ],
   "source": [
    "import os\n",
    "import numpy as np\n",
    "import pandas as pd\n",
    "import eugene as eu"
   ]
  },
  {
   "cell_type": "code",
   "execution_count": 2,
   "metadata": {
    "execution": {
     "iopub.execute_input": "2023-02-06T22:42:04.806133Z",
     "iopub.status.busy": "2023-02-06T22:42:04.805833Z",
     "iopub.status.idle": "2023-02-06T22:42:04.935681Z",
     "shell.execute_reply": "2023-02-06T22:42:04.934755Z",
     "shell.execute_reply.started": "2023-02-06T22:42:04.806103Z"
    },
    "tags": []
   },
   "outputs": [],
   "source": [
    "import sys\n",
    "sys.path.append(\"/cellar/users/aklie/projects/use_cases/king20/\")\n",
    "from utils import *"
   ]
  },
  {
   "cell_type": "code",
   "execution_count": 3,
   "metadata": {
    "execution": {
     "iopub.execute_input": "2023-02-06T22:42:04.946980Z",
     "iopub.status.busy": "2023-02-06T22:42:04.946659Z",
     "iopub.status.idle": "2023-02-06T22:42:04.951333Z",
     "shell.execute_reply": "2023-02-06T22:42:04.950525Z",
     "shell.execute_reply.started": "2023-02-06T22:42:04.946950Z"
    },
    "tags": []
   },
   "outputs": [],
   "source": [
    "dataset_dir = \"/cellar/users/aklie/data/eugene/\""
   ]
  },
  {
   "cell_type": "markdown",
   "metadata": {
    "jp-MarkdownHeadingCollapsed": true,
    "tags": []
   },
   "source": [
    "# Synthetic sequences"
   ]
  },
  {
   "cell_type": "code",
   "execution_count": 111,
   "metadata": {},
   "outputs": [
    {
     "name": "stdout",
     "output_type": "stream",
     "text": [
      "Design spreadsheet already exists at /cellar/users/aklie/data/eugene/king20/design.xlsx\n",
      "Model spreadsheet already exists at /cellar/users/aklie/data/eugene/king20/models.xlsx\n"
     ]
    }
   ],
   "source": [
    "sdata = king20(\"SYN\", dataset_dir=dataset_dir, return_sdata=True)"
   ]
  },
  {
   "cell_type": "code",
   "execution_count": 112,
   "metadata": {
    "execution": {
     "iopub.execute_input": "2022-11-19T19:03:07.485224Z",
     "iopub.status.busy": "2022-11-19T19:03:07.484833Z",
     "iopub.status.idle": "2022-11-19T19:03:12.135751Z",
     "shell.execute_reply": "2022-11-19T19:03:12.134100Z",
     "shell.execute_reply.started": "2022-11-19T19:03:07.485193Z"
    },
    "tags": []
   },
   "outputs": [],
   "source": [
    "# Add this to sanitize seqs\n",
    "sdata = sdata[~np.array([seq is np.nan for seq in sdata.seqs])]"
   ]
  },
  {
   "cell_type": "code",
   "execution_count": 8,
   "metadata": {
    "execution": {
     "iopub.execute_input": "2023-02-06T22:43:14.323634Z",
     "iopub.status.busy": "2023-02-06T22:43:14.323183Z",
     "iopub.status.idle": "2023-02-06T22:43:14.331906Z",
     "shell.execute_reply": "2023-02-06T22:43:14.330637Z",
     "shell.execute_reply.started": "2023-02-06T22:43:14.323601Z"
    }
   },
   "outputs": [],
   "source": [
    "seq_len_sdata(sdata)"
   ]
  },
  {
   "cell_type": "code",
   "execution_count": 115,
   "metadata": {
    "execution": {
     "iopub.execute_input": "2022-11-19T19:03:22.439587Z",
     "iopub.status.busy": "2022-11-19T19:03:22.439215Z",
     "iopub.status.idle": "2022-11-19T19:03:27.160361Z",
     "shell.execute_reply": "2022-11-19T19:03:27.159487Z",
     "shell.execute_reply.started": "2022-11-19T19:03:22.439556Z"
    },
    "tags": []
   },
   "outputs": [
    {
     "data": {
      "application/vnd.jupyter.widget-view+json": {
       "model_id": "9f16bd9d49c34bbeb0136c0aff22ab1a",
       "version_major": 2,
       "version_minor": 0
      },
      "text/plain": [
       "One-hot encoding sequences:   0%|          | 0/636 [00:00<?, ?it/s]"
      ]
     },
     "metadata": {},
     "output_type": "display_data"
    },
    {
     "name": "stdout",
     "output_type": "stream",
     "text": [
      "SeqData object modified:\n",
      "\tohe_seqs: None -> 636 ohe_seqs added\n"
     ]
    }
   ],
   "source": [
    "# One-hot-encode, though this is no bueno\n",
    "eu.pp.ohe_seqs_sdata(sdata, maxlen=sdata[\"seq_len\"].max())"
   ]
  },
  {
   "cell_type": "code",
   "execution_count": 116,
   "metadata": {
    "execution": {
     "iopub.execute_input": "2022-11-19T19:03:27.161885Z",
     "iopub.status.busy": "2022-11-19T19:03:27.161519Z",
     "iopub.status.idle": "2022-11-19T19:03:31.777193Z",
     "shell.execute_reply": "2022-11-19T19:03:31.775908Z",
     "shell.execute_reply.started": "2022-11-19T19:03:27.161855Z"
    },
    "tags": []
   },
   "outputs": [],
   "source": [
    "# Add function registry for normalization\n",
    "sdata[\"log_CRE_normalized_mean\"] = np.log2(sdata[\"CRE_normalized_mean\"])"
   ]
  },
  {
   "cell_type": "code",
   "execution_count": 118,
   "metadata": {
    "execution": {
     "iopub.execute_input": "2022-11-19T19:03:37.396805Z",
     "iopub.status.busy": "2022-11-19T19:03:37.396439Z",
     "iopub.status.idle": "2022-11-19T19:03:41.946847Z",
     "shell.execute_reply": "2022-11-19T19:03:41.945745Z",
     "shell.execute_reply.started": "2022-11-19T19:03:37.396776Z"
    },
    "tags": []
   },
   "outputs": [],
   "source": [
    "# Clean up features to use\n",
    "sdata.seqs_annot = sdata.seqs_annot.replace({True: 1, False: 0})"
   ]
  },
  {
   "cell_type": "code",
   "execution_count": 119,
   "metadata": {
    "execution": {
     "iopub.execute_input": "2022-11-19T19:03:41.948528Z",
     "iopub.status.busy": "2022-11-19T19:03:41.948092Z",
     "iopub.status.idle": "2022-11-19T19:03:46.630874Z",
     "shell.execute_reply": "2022-11-19T19:03:46.629345Z",
     "shell.execute_reply.started": "2022-11-19T19:03:41.948495Z"
    },
    "tags": []
   },
   "outputs": [
    {
     "name": "stdout",
     "output_type": "stream",
     "text": [
      "SeqData object modified:\n",
      "    seqs_annot:\n",
      "        + train_val\n"
     ]
    }
   ],
   "source": [
    "# Train and test split\n",
    "eu.pp.train_test_split_sdata(sdata, split=0.5)"
   ]
  },
  {
   "cell_type": "code",
   "execution_count": 120,
   "metadata": {
    "execution": {
     "iopub.execute_input": "2022-11-19T19:03:46.637017Z",
     "iopub.status.busy": "2022-11-19T19:03:46.636648Z",
     "iopub.status.idle": "2022-11-19T19:03:51.218115Z",
     "shell.execute_reply": "2022-11-19T19:03:51.217124Z",
     "shell.execute_reply.started": "2022-11-19T19:03:46.636983Z"
    },
    "tags": []
   },
   "outputs": [],
   "source": [
    "# Drop nan values\n",
    "nan_mask = np.isnan(sdata[\"log_CRE_normalized_mean\"])\n",
    "sdata = sdata[~nan_mask]"
   ]
  },
  {
   "cell_type": "code",
   "execution_count": 121,
   "metadata": {
    "execution": {
     "iopub.execute_input": "2022-11-19T19:03:51.220044Z",
     "iopub.status.busy": "2022-11-19T19:03:51.219534Z",
     "iopub.status.idle": "2022-11-19T19:03:55.884730Z",
     "shell.execute_reply": "2022-11-19T19:03:55.883748Z",
     "shell.execute_reply.started": "2022-11-19T19:03:51.220008Z"
    },
    "tags": []
   },
   "outputs": [
    {
     "data": {
      "text/plain": [
       "SeqData object with = 636 seqs\n",
       "seqs = (624,)\n",
       "names = (624,)\n",
       "rev_seqs = None\n",
       "ohe_seqs = (624, 4, 80)\n",
       "ohe_rev_seqs = None\n",
       "seqs_annot: 'Element_id_simplified', 'Class', 'CRE_normalized_mean', 'O_presence', 'S_presence', 'K_presence', 'E_presence', 'Position.4_O', 'Position.4_S', 'Position.4_K', 'Position.4_E', 'Position.3_O', 'Position.3_S', 'Position.3_K', 'Position.3_E', 'Position.2_O', 'Position.2_S', 'Position.2_K', 'Position.2_E', 'Position.1_O', 'Position.1_S', 'Position.1_K', 'Position.1_E', 'seq_len', 'log_CRE_normalized_mean', 'train_val'\n",
       "pos_annot: None\n",
       "seqsm: None\n",
       "uns: None"
      ]
     },
     "execution_count": 121,
     "metadata": {},
     "output_type": "execute_result"
    }
   ],
   "source": [
    "sdata"
   ]
  },
  {
   "cell_type": "code",
   "execution_count": 125,
   "metadata": {},
   "outputs": [],
   "source": [
    "sdata.write_h5sd(os.path.join(dataset_dir, \"king20\", \"SYN.h5sd\"))"
   ]
  },
  {
   "cell_type": "markdown",
   "metadata": {},
   "source": [
    "# Genomic sequences"
   ]
  },
  {
   "cell_type": "code",
   "execution_count": 88,
   "metadata": {
    "execution": {
     "iopub.execute_input": "2023-02-06T23:17:35.283918Z",
     "iopub.status.busy": "2023-02-06T23:17:35.283443Z",
     "iopub.status.idle": "2023-02-06T23:17:37.890114Z",
     "shell.execute_reply": "2023-02-06T23:17:37.888582Z",
     "shell.execute_reply.started": "2023-02-06T23:17:35.283886Z"
    },
    "tags": []
   },
   "outputs": [
    {
     "name": "stdout",
     "output_type": "stream",
     "text": [
      "Design spreadsheet already exists at /cellar/users/aklie/data/eugene/king20/design.xlsx\n",
      "Model spreadsheet already exists at /cellar/users/aklie/data/eugene/king20/models.xlsx\n",
      "Downloading king20 gkmsvm fasta to /cellar/users/aklie/data/eugene/king20/GEN.fasta\n",
      "Finished downloading king20 gkmsvm fasta to /cellar/users/aklie/data/eugene/king20/GEN.fasta\n"
     ]
    }
   ],
   "source": [
    "sdata = king20(\"GEN\", dataset_dir=dataset_dir, return_sdata=True)"
   ]
  },
  {
   "cell_type": "code",
   "execution_count": 89,
   "metadata": {
    "execution": {
     "iopub.execute_input": "2023-02-06T23:17:37.893917Z",
     "iopub.status.busy": "2023-02-06T23:17:37.893237Z",
     "iopub.status.idle": "2023-02-06T23:17:37.904094Z",
     "shell.execute_reply": "2023-02-06T23:17:37.903036Z",
     "shell.execute_reply.started": "2023-02-06T23:17:37.893856Z"
    },
    "tags": []
   },
   "outputs": [],
   "source": [
    "sdata.seqs_annot[\"Class\"] = [row[-1] for row in sdata.seqs_annot.index.str.split(\"_\", 1)]"
   ]
  },
  {
   "cell_type": "code",
   "execution_count": 90,
   "metadata": {
    "execution": {
     "iopub.execute_input": "2023-02-06T23:17:37.905634Z",
     "iopub.status.busy": "2023-02-06T23:17:37.905216Z",
     "iopub.status.idle": "2023-02-06T23:17:37.921187Z",
     "shell.execute_reply": "2023-02-06T23:17:37.920223Z",
     "shell.execute_reply.started": "2023-02-06T23:17:37.905602Z"
    },
    "tags": []
   },
   "outputs": [
    {
     "data": {
      "text/plain": [
       "All_Mutated    407\n",
       "Genomic        403\n",
       "Name: Class, dtype: int64"
      ]
     },
     "execution_count": 90,
     "metadata": {},
     "output_type": "execute_result"
    }
   ],
   "source": [
    "sdata[\"Class\"].value_counts()"
   ]
  },
  {
   "cell_type": "code",
   "execution_count": 91,
   "metadata": {
    "execution": {
     "iopub.execute_input": "2023-02-06T23:17:37.923257Z",
     "iopub.status.busy": "2023-02-06T23:17:37.922942Z",
     "iopub.status.idle": "2023-02-06T23:17:37.934702Z",
     "shell.execute_reply": "2023-02-06T23:17:37.933730Z",
     "shell.execute_reply.started": "2023-02-06T23:17:37.923228Z"
    },
    "tags": []
   },
   "outputs": [],
   "source": [
    "sdata = sdata[sdata[\"Class\"] == \"Genomic\"]"
   ]
  },
  {
   "cell_type": "code",
   "execution_count": 92,
   "metadata": {
    "execution": {
     "iopub.execute_input": "2023-02-06T23:17:38.400273Z",
     "iopub.status.busy": "2023-02-06T23:17:38.399899Z",
     "iopub.status.idle": "2023-02-06T23:17:38.405389Z",
     "shell.execute_reply": "2023-02-06T23:17:38.404400Z",
     "shell.execute_reply.started": "2023-02-06T23:17:38.400244Z"
    },
    "tags": []
   },
   "outputs": [],
   "source": [
    "seq_len_sdata(sdata)"
   ]
  },
  {
   "cell_type": "code",
   "execution_count": 93,
   "metadata": {
    "execution": {
     "iopub.execute_input": "2023-02-06T23:17:38.704988Z",
     "iopub.status.busy": "2023-02-06T23:17:38.704603Z",
     "iopub.status.idle": "2023-02-06T23:17:38.761369Z",
     "shell.execute_reply": "2023-02-06T23:17:38.760410Z",
     "shell.execute_reply.started": "2023-02-06T23:17:38.704959Z"
    },
    "tags": []
   },
   "outputs": [
    {
     "data": {
      "application/vnd.jupyter.widget-view+json": {
       "model_id": "9d083f95b4aa4749bee8c0def1bb7178",
       "version_major": 2,
       "version_minor": 0
      },
      "text/plain": [
       "One-hot encoding sequences:   0%|          | 0/403 [00:00<?, ?it/s]"
      ]
     },
     "metadata": {},
     "output_type": "display_data"
    },
    {
     "name": "stdout",
     "output_type": "stream",
     "text": [
      "SeqData object modified:\n",
      "\tohe_seqs: None -> 403 ohe_seqs added\n"
     ]
    }
   ],
   "source": [
    "# One-hot-encode, though this is no bueno\n",
    "eu.pp.ohe_seqs_sdata(sdata, maxlen=sdata[\"seq_len\"].max())"
   ]
  },
  {
   "cell_type": "code",
   "execution_count": 94,
   "metadata": {
    "execution": {
     "iopub.execute_input": "2023-02-06T23:17:42.513002Z",
     "iopub.status.busy": "2023-02-06T23:17:42.512473Z",
     "iopub.status.idle": "2023-02-06T23:17:42.518941Z",
     "shell.execute_reply": "2023-02-06T23:17:42.517968Z",
     "shell.execute_reply.started": "2023-02-06T23:17:42.512970Z"
    },
    "tags": []
   },
   "outputs": [],
   "source": [
    "# Add function registry for normalization\n",
    "sdata[\"log_CRE_norm_expression_WT_all\"] = np.log2(sdata[\"CRE_norm_expression_WT_all\"])"
   ]
  },
  {
   "cell_type": "code",
   "execution_count": 95,
   "metadata": {
    "execution": {
     "iopub.execute_input": "2023-02-06T23:17:51.288691Z",
     "iopub.status.busy": "2023-02-06T23:17:51.288197Z",
     "iopub.status.idle": "2023-02-06T23:17:51.295681Z",
     "shell.execute_reply": "2023-02-06T23:17:51.294682Z",
     "shell.execute_reply.started": "2023-02-06T23:17:51.288657Z"
    },
    "tags": []
   },
   "outputs": [],
   "source": [
    "# Drop nan values\n",
    "nan_mask = np.isnan(sdata[\"log_CRE_norm_expression_WT_all\"])\n",
    "sdata = sdata[~nan_mask]"
   ]
  },
  {
   "cell_type": "code",
   "execution_count": 57,
   "metadata": {
    "execution": {
     "iopub.execute_input": "2023-02-06T23:09:09.284703Z",
     "iopub.status.busy": "2023-02-06T23:09:09.284279Z",
     "iopub.status.idle": "2023-02-06T23:09:09.290366Z",
     "shell.execute_reply": "2023-02-06T23:09:09.289535Z",
     "shell.execute_reply.started": "2023-02-06T23:09:09.284671Z"
    },
    "tags": []
   },
   "outputs": [],
   "source": [
    "# Get top 25% of CRE and bottom 25% of CRE\n",
    "top_25 = sdata[\"CRE_norm_expression_WT_all\"].quantile(0.75)"
   ]
  },
  {
   "cell_type": "code",
   "execution_count": 58,
   "metadata": {
    "execution": {
     "iopub.execute_input": "2023-02-06T23:09:09.657821Z",
     "iopub.status.busy": "2023-02-06T23:09:09.657395Z",
     "iopub.status.idle": "2023-02-06T23:09:09.662547Z",
     "shell.execute_reply": "2023-02-06T23:09:09.661721Z",
     "shell.execute_reply.started": "2023-02-06T23:09:09.657778Z"
    },
    "tags": []
   },
   "outputs": [],
   "source": [
    "top_25_mask = sdata[\"CRE_norm_expression_WT_all\"] > top_25\n",
    "bottom_75_mask = sdata[\"CRE_norm_expression_WT_all\"] <= top_25"
   ]
  },
  {
   "cell_type": "code",
   "execution_count": 59,
   "metadata": {
    "execution": {
     "iopub.execute_input": "2023-02-06T23:09:10.832266Z",
     "iopub.status.busy": "2023-02-06T23:09:10.831846Z",
     "iopub.status.idle": "2023-02-06T23:09:10.838546Z",
     "shell.execute_reply": "2023-02-06T23:09:10.837638Z",
     "shell.execute_reply.started": "2023-02-06T23:09:10.832235Z"
    },
    "tags": []
   },
   "outputs": [
    {
     "data": {
      "text/plain": [
       "(203, 607)"
      ]
     },
     "execution_count": 59,
     "metadata": {},
     "output_type": "execute_result"
    }
   ],
   "source": [
    "top_25_mask.sum(), bottom_75_mask.sum()"
   ]
  },
  {
   "cell_type": "code",
   "execution_count": 60,
   "metadata": {
    "execution": {
     "iopub.execute_input": "2023-02-06T23:09:12.284366Z",
     "iopub.status.busy": "2023-02-06T23:09:12.283974Z",
     "iopub.status.idle": "2023-02-06T23:09:12.289451Z",
     "shell.execute_reply": "2023-02-06T23:09:12.288539Z",
     "shell.execute_reply.started": "2023-02-06T23:09:12.284336Z"
    },
    "tags": []
   },
   "outputs": [],
   "source": [
    "# Annotate if in top 25%\n",
    "sdata[\"top_25\"] = top_25_mask.astype(int)"
   ]
  },
  {
   "cell_type": "code",
   "execution_count": 61,
   "metadata": {
    "execution": {
     "iopub.execute_input": "2023-02-06T23:09:12.491348Z",
     "iopub.status.busy": "2023-02-06T23:09:12.490967Z",
     "iopub.status.idle": "2023-02-06T23:09:12.498441Z",
     "shell.execute_reply": "2023-02-06T23:09:12.497529Z",
     "shell.execute_reply.started": "2023-02-06T23:09:12.491318Z"
    },
    "tags": []
   },
   "outputs": [
    {
     "data": {
      "text/plain": [
       "0    607\n",
       "1    203\n",
       "Name: top_25, dtype: int64"
      ]
     },
     "execution_count": 61,
     "metadata": {},
     "output_type": "execute_result"
    }
   ],
   "source": [
    "sdata[\"top_25\"].value_counts()"
   ]
  },
  {
   "cell_type": "code",
   "execution_count": 62,
   "metadata": {
    "execution": {
     "iopub.execute_input": "2023-02-06T23:09:14.285103Z",
     "iopub.status.busy": "2023-02-06T23:09:14.284666Z",
     "iopub.status.idle": "2023-02-06T23:09:14.291240Z",
     "shell.execute_reply": "2023-02-06T23:09:14.290418Z",
     "shell.execute_reply.started": "2023-02-06T23:09:14.285073Z"
    },
    "tags": []
   },
   "outputs": [],
   "source": [
    "eu.pp.train_test_split_sdata(sdata, split=0.7)"
   ]
  },
  {
   "cell_type": "code",
   "execution_count": 63,
   "metadata": {
    "execution": {
     "iopub.execute_input": "2023-02-06T23:09:14.293066Z",
     "iopub.status.busy": "2023-02-06T23:09:14.292717Z",
     "iopub.status.idle": "2023-02-06T23:09:14.319894Z",
     "shell.execute_reply": "2023-02-06T23:09:14.318704Z",
     "shell.execute_reply.started": "2023-02-06T23:09:14.293037Z"
    },
    "tags": []
   },
   "outputs": [
    {
     "data": {
      "text/html": [
       "<div>\n",
       "<style scoped>\n",
       "    .dataframe tbody tr th:only-of-type {\n",
       "        vertical-align: middle;\n",
       "    }\n",
       "\n",
       "    .dataframe tbody tr th {\n",
       "        vertical-align: top;\n",
       "    }\n",
       "\n",
       "    .dataframe thead th {\n",
       "        text-align: right;\n",
       "    }\n",
       "</style>\n",
       "<table border=\"1\" class=\"dataframe\">\n",
       "  <thead>\n",
       "    <tr style=\"text-align: right;\">\n",
       "      <th>top_25</th>\n",
       "      <th>0</th>\n",
       "      <th>1</th>\n",
       "    </tr>\n",
       "    <tr>\n",
       "      <th>train_val</th>\n",
       "      <th></th>\n",
       "      <th></th>\n",
       "    </tr>\n",
       "  </thead>\n",
       "  <tbody>\n",
       "    <tr>\n",
       "      <th>False</th>\n",
       "      <td>182</td>\n",
       "      <td>61</td>\n",
       "    </tr>\n",
       "    <tr>\n",
       "      <th>True</th>\n",
       "      <td>425</td>\n",
       "      <td>142</td>\n",
       "    </tr>\n",
       "  </tbody>\n",
       "</table>\n",
       "</div>"
      ],
      "text/plain": [
       "top_25       0    1\n",
       "train_val          \n",
       "False      182   61\n",
       "True       425  142"
      ]
     },
     "execution_count": 63,
     "metadata": {},
     "output_type": "execute_result"
    }
   ],
   "source": [
    "pd.crosstab(sdata[\"train_val\"], sdata[\"top_25\"])"
   ]
  },
  {
   "cell_type": "code",
   "execution_count": 64,
   "metadata": {
    "execution": {
     "iopub.execute_input": "2023-02-06T23:09:16.509559Z",
     "iopub.status.busy": "2023-02-06T23:09:16.509144Z",
     "iopub.status.idle": "2023-02-06T23:09:16.530857Z",
     "shell.execute_reply": "2023-02-06T23:09:16.529718Z",
     "shell.execute_reply.started": "2023-02-06T23:09:16.509528Z"
    },
    "tags": []
   },
   "outputs": [],
   "source": [
    "sdata.write_h5sd(os.path.join(dataset_dir, \"king20\", \"GEN.h5sd\"))"
   ]
  },
  {
   "cell_type": "markdown",
   "metadata": {},
   "source": [
    "## gkm-SVM sequence prep"
   ]
  },
  {
   "cell_type": "code",
   "execution_count": 103,
   "metadata": {
    "execution": {
     "iopub.execute_input": "2023-02-06T23:29:26.406828Z",
     "iopub.status.busy": "2023-02-06T23:29:26.406362Z",
     "iopub.status.idle": "2023-02-06T23:29:26.413720Z",
     "shell.execute_reply": "2023-02-06T23:29:26.412517Z",
     "shell.execute_reply.started": "2023-02-06T23:29:26.406797Z"
    },
    "tags": []
   },
   "outputs": [
    {
     "data": {
      "text/plain": [
       "SeqData object with = 202 seqs\n",
       "seqs = (202,)\n",
       "names = (202,)\n",
       "rev_seqs = None\n",
       "ohe_seqs = (202, 4, 82)\n",
       "ohe_rev_seqs = None\n",
       "seqs_annot: 'CRE_norm_expression_WT_all', 'range', 'Class', 'seq_len', 'log_CRE_norm_expression_WT_all', 'top_25'\n",
       "pos_annot: None\n",
       "seqsm: None\n",
       "uns: None"
      ]
     },
     "execution_count": 103,
     "metadata": {},
     "output_type": "execute_result"
    }
   ],
   "source": [
    "sdata"
   ]
  },
  {
   "cell_type": "code",
   "execution_count": 97,
   "metadata": {
    "execution": {
     "iopub.execute_input": "2023-02-06T23:18:01.678879Z",
     "iopub.status.busy": "2023-02-06T23:18:01.678331Z",
     "iopub.status.idle": "2023-02-06T23:18:01.686863Z",
     "shell.execute_reply": "2023-02-06T23:18:01.685941Z",
     "shell.execute_reply.started": "2023-02-06T23:18:01.678835Z"
    },
    "tags": []
   },
   "outputs": [],
   "source": [
    "# Get top 25% of CRE and bottom 25% of CRE\n",
    "top_25 = sdata[\"CRE_norm_expression_WT_all\"].quantile(0.75)\n",
    "bottom_25 = sdata[\"CRE_norm_expression_WT_all\"].quantile(0.25)"
   ]
  },
  {
   "cell_type": "code",
   "execution_count": 98,
   "metadata": {
    "execution": {
     "iopub.execute_input": "2023-02-06T23:18:02.285473Z",
     "iopub.status.busy": "2023-02-06T23:18:02.285078Z",
     "iopub.status.idle": "2023-02-06T23:18:02.290755Z",
     "shell.execute_reply": "2023-02-06T23:18:02.289557Z",
     "shell.execute_reply.started": "2023-02-06T23:18:02.285443Z"
    },
    "tags": []
   },
   "outputs": [],
   "source": [
    "top_25_mask = sdata[\"CRE_norm_expression_WT_all\"] > top_25\n",
    "bottom_25_mask = sdata[\"CRE_norm_expression_WT_all\"] < bottom_25"
   ]
  },
  {
   "cell_type": "code",
   "execution_count": 99,
   "metadata": {
    "execution": {
     "iopub.execute_input": "2023-02-06T23:18:06.286654Z",
     "iopub.status.busy": "2023-02-06T23:18:06.286188Z",
     "iopub.status.idle": "2023-02-06T23:18:06.294378Z",
     "shell.execute_reply": "2023-02-06T23:18:06.293468Z",
     "shell.execute_reply.started": "2023-02-06T23:18:06.286621Z"
    },
    "tags": []
   },
   "outputs": [],
   "source": [
    "# Keep only top 25% and bottom 25%\n",
    "sdata = sdata[top_25_mask | bottom_25_mask]\n",
    "\n",
    "# Annotate if in top 25%\n",
    "sdata[\"top_25\"] = top_25_mask.astype(int)"
   ]
  },
  {
   "cell_type": "code",
   "execution_count": 100,
   "metadata": {
    "execution": {
     "iopub.execute_input": "2023-02-06T23:18:06.296337Z",
     "iopub.status.busy": "2023-02-06T23:18:06.296033Z",
     "iopub.status.idle": "2023-02-06T23:18:06.310399Z",
     "shell.execute_reply": "2023-02-06T23:18:06.309481Z",
     "shell.execute_reply.started": "2023-02-06T23:18:06.296308Z"
    },
    "tags": []
   },
   "outputs": [
    {
     "data": {
      "text/plain": [
       "1    101\n",
       "0    101\n",
       "Name: top_25, dtype: int64"
      ]
     },
     "execution_count": 100,
     "metadata": {},
     "output_type": "execute_result"
    }
   ],
   "source": [
    "sdata[\"top_25\"].value_counts()"
   ]
  },
  {
   "cell_type": "code",
   "execution_count": 104,
   "metadata": {
    "execution": {
     "iopub.execute_input": "2023-02-06T23:29:33.635358Z",
     "iopub.status.busy": "2023-02-06T23:29:33.634917Z",
     "iopub.status.idle": "2023-02-06T23:29:33.644201Z",
     "shell.execute_reply": "2023-02-06T23:29:33.643080Z",
     "shell.execute_reply.started": "2023-02-06T23:29:33.635327Z"
    }
   },
   "outputs": [
    {
     "name": "stdout",
     "output_type": "stream",
     "text": [
      "SeqData object modified:\n",
      "    seqs_annot:\n",
      "        + train_val\n"
     ]
    }
   ],
   "source": [
    "eu.pp.train_test_split_sdata(sdata, split=0.8)"
   ]
  },
  {
   "cell_type": "code",
   "execution_count": 108,
   "metadata": {
    "execution": {
     "iopub.execute_input": "2023-02-06T23:30:42.287897Z",
     "iopub.status.busy": "2023-02-06T23:30:42.287395Z",
     "iopub.status.idle": "2023-02-06T23:30:42.316541Z",
     "shell.execute_reply": "2023-02-06T23:30:42.315703Z",
     "shell.execute_reply.started": "2023-02-06T23:30:42.287866Z"
    },
    "tags": []
   },
   "outputs": [],
   "source": [
    "eu.external.gkm_svm.to_fasta(\n",
    "    sdata,\n",
    "    target_key=\"top_25\",\n",
    "    train_key=\"train_val\",\n",
    "    out_dir=os.path.join(dataset_dir, \"king20\", \"fasta\"),\n",
    "    file_name=\"GEN\"\n",
    ")"
   ]
  },
  {
   "cell_type": "code",
   "execution_count": 107,
   "metadata": {
    "execution": {
     "iopub.execute_input": "2023-02-06T23:30:07.608561Z",
     "iopub.status.busy": "2023-02-06T23:30:07.608096Z",
     "iopub.status.idle": "2023-02-06T23:30:07.637290Z",
     "shell.execute_reply": "2023-02-06T23:30:07.636360Z",
     "shell.execute_reply.started": "2023-02-06T23:30:07.608528Z"
    },
    "tags": []
   },
   "outputs": [],
   "source": [
    "eu.external.gkm_svm.to_fasta(\n",
    "    sdata,\n",
    "    target_key=\"log_CRE_norm_expression_WT_all\",\n",
    "    train_key=\"train_val\",\n",
    "    out_dir=os.path.join(dataset_dir, \"king20\", \"fasta\"),\n",
    "    task=\"regression\",\n",
    "    file_name=\"GEN\"\n",
    ")"
   ]
  },
  {
   "cell_type": "code",
   "execution_count": 109,
   "metadata": {
    "execution": {
     "iopub.execute_input": "2023-02-06T23:31:47.489440Z",
     "iopub.status.busy": "2023-02-06T23:31:47.488988Z",
     "iopub.status.idle": "2023-02-06T23:31:47.515659Z",
     "shell.execute_reply": "2023-02-06T23:31:47.514722Z",
     "shell.execute_reply.started": "2023-02-06T23:31:47.489408Z"
    },
    "tags": []
   },
   "outputs": [],
   "source": [
    "sdata.write_h5sd(os.path.join(dataset_dir, \"king20\", \"GEN_gkm_svm.h5sd\"))"
   ]
  },
  {
   "cell_type": "markdown",
   "metadata": {},
   "source": [
    "# DONE!"
   ]
  },
  {
   "cell_type": "markdown",
   "metadata": {},
   "source": [
    "---"
   ]
  }
 ],
 "metadata": {
  "kernelspec": {
   "display_name": "Python 3.7 eugene_dev",
   "language": "python",
   "name": "eugene_dev"
  },
  "language_info": {
   "codemirror_mode": {
    "name": "ipython",
    "version": 3
   },
   "file_extension": ".py",
   "mimetype": "text/x-python",
   "name": "python",
   "nbconvert_exporter": "python",
   "pygments_lexer": "ipython3",
   "version": "3.7.12"
  }
 },
 "nbformat": 4,
 "nbformat_minor": 4
}
