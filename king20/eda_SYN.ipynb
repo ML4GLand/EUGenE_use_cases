{
 "cells": [
  {
   "cell_type": "markdown",
   "metadata": {},
   "source": [
    "# King et al 2020 Exploratory Data Analysis"
   ]
  },
  {
   "cell_type": "markdown",
   "metadata": {
    "tags": []
   },
   "source": [
    "**Authorship:**<br>\n",
    "Created by: Adam Klie, *11/18/2022*<br>\n",
    "Last updated: Adam Klie, *02/04/2023*\n",
    "***\n",
    "**Description:**\n",
    "Notebook to explore the CRE MPRA dataset from King et al 2020. More info can be found here: https://www.notion.so/adamklie/king20-01bc9b4d143944e49a238d8eb1d84a8d\n",
    "***"
   ]
  },
  {
   "cell_type": "code",
   "execution_count": 1,
   "metadata": {
    "execution": {
     "iopub.execute_input": "2023-02-06T20:10:54.748564Z",
     "iopub.status.busy": "2023-02-06T20:10:54.748198Z",
     "iopub.status.idle": "2023-02-06T20:10:57.407281Z",
     "shell.execute_reply": "2023-02-06T20:10:57.406039Z",
     "shell.execute_reply.started": "2023-02-06T20:10:54.748462Z"
    },
    "tags": []
   },
   "outputs": [],
   "source": [
    "import os\n",
    "import numpy as np\n",
    "import pandas as pd"
   ]
  },
  {
   "cell_type": "markdown",
   "metadata": {
    "jp-MarkdownHeadingCollapsed": true,
    "tags": []
   },
   "source": [
    "# Load data"
   ]
  },
  {
   "cell_type": "code",
   "execution_count": 2,
   "metadata": {
    "execution": {
     "iopub.execute_input": "2023-02-06T20:10:57.412340Z",
     "iopub.status.busy": "2023-02-06T20:10:57.411953Z",
     "iopub.status.idle": "2023-02-06T20:10:57.417401Z",
     "shell.execute_reply": "2023-02-06T20:10:57.416110Z",
     "shell.execute_reply.started": "2023-02-06T20:10:57.412307Z"
    },
    "tags": []
   },
   "outputs": [],
   "source": [
    "dataset_dir = \"/cellar/users/aklie/data/eugene/\""
   ]
  },
  {
   "cell_type": "code",
   "execution_count": 3,
   "metadata": {
    "execution": {
     "iopub.execute_input": "2023-02-06T20:10:57.422465Z",
     "iopub.status.busy": "2023-02-06T20:10:57.422169Z",
     "iopub.status.idle": "2023-02-06T20:10:57.431738Z",
     "shell.execute_reply": "2023-02-06T20:10:57.430940Z",
     "shell.execute_reply.started": "2023-02-06T20:10:57.422436Z"
    },
    "tags": []
   },
   "outputs": [],
   "source": [
    "design_file = os.path.join(dataset_dir, \"king20\", \"design.xlsx\")"
   ]
  },
  {
   "cell_type": "code",
   "execution_count": 4,
   "metadata": {
    "execution": {
     "iopub.execute_input": "2023-02-06T20:10:57.436240Z",
     "iopub.status.busy": "2023-02-06T20:10:57.435960Z",
     "iopub.status.idle": "2023-02-06T20:10:59.269849Z",
     "shell.execute_reply": "2023-02-06T20:10:59.267784Z",
     "shell.execute_reply.started": "2023-02-06T20:10:57.436212Z"
    },
    "tags": []
   },
   "outputs": [],
   "source": [
    "synthetic_design_df = pd.read_excel(design_file, sheet_name=1)"
   ]
  },
  {
   "cell_type": "markdown",
   "metadata": {
    "jp-MarkdownHeadingCollapsed": true,
    "tags": []
   },
   "source": [
    "# Check how many sequences and barcodes we have\n",
    "Note we have 8 barcodes per sequence, so we need to collapse based on sequence."
   ]
  },
  {
   "cell_type": "code",
   "execution_count": 5,
   "metadata": {
    "execution": {
     "iopub.execute_input": "2023-02-06T20:10:59.276532Z",
     "iopub.status.busy": "2023-02-06T20:10:59.276155Z",
     "iopub.status.idle": "2023-02-06T20:10:59.299481Z",
     "shell.execute_reply": "2023-02-06T20:10:59.298227Z",
     "shell.execute_reply.started": "2023-02-06T20:10:59.276477Z"
    },
    "tags": []
   },
   "outputs": [
    {
     "data": {
      "text/plain": [
       "112"
      ]
     },
     "execution_count": 5,
     "metadata": {},
     "output_type": "execute_result"
    }
   ],
   "source": [
    "# How many Basal barcodes are there\n",
    "len(synthetic_design_df[synthetic_design_df[\"Element_id\"] == \"Basal\"])"
   ]
  },
  {
   "cell_type": "code",
   "execution_count": 6,
   "metadata": {
    "execution": {
     "iopub.execute_input": "2023-02-06T20:10:59.304082Z",
     "iopub.status.busy": "2023-02-06T20:10:59.303707Z",
     "iopub.status.idle": "2023-02-06T20:10:59.330329Z",
     "shell.execute_reply": "2023-02-06T20:10:59.329392Z",
     "shell.execute_reply.started": "2023-02-06T20:10:59.304053Z"
    },
    "tags": []
   },
   "outputs": [
    {
     "data": {
      "text/plain": [
       "12"
      ]
     },
     "execution_count": 6,
     "metadata": {},
     "output_type": "execute_result"
    }
   ],
   "source": [
    "# How many none \"SYN\" sequences do we have?\n",
    "len(synthetic_design_df[synthetic_design_df[\"Element_id\"].str.contains(\"Scalar\")].groupby(\"Sequence\").count())"
   ]
  },
  {
   "cell_type": "code",
   "execution_count": 7,
   "metadata": {
    "execution": {
     "iopub.execute_input": "2023-02-06T20:10:59.334732Z",
     "iopub.status.busy": "2023-02-06T20:10:59.334361Z",
     "iopub.status.idle": "2023-02-06T20:10:59.346422Z",
     "shell.execute_reply": "2023-02-06T20:10:59.345523Z",
     "shell.execute_reply.started": "2023-02-06T20:10:59.334702Z"
    },
    "tags": []
   },
   "outputs": [
    {
     "data": {
      "text/plain": [
       "0"
      ]
     },
     "execution_count": 7,
     "metadata": {},
     "output_type": "execute_result"
    }
   ],
   "source": [
    "# Do we have any sequences with more or less than 8 barcodes?\n",
    "(synthetic_design_df.groupby(\"Sequence\").count()[\"Barcode\"] != 8).sum()"
   ]
  },
  {
   "cell_type": "code",
   "execution_count": 8,
   "metadata": {
    "execution": {
     "iopub.execute_input": "2023-02-06T20:10:59.350466Z",
     "iopub.status.busy": "2023-02-06T20:10:59.350134Z",
     "iopub.status.idle": "2023-02-06T20:10:59.360323Z",
     "shell.execute_reply": "2023-02-06T20:10:59.359421Z",
     "shell.execute_reply.started": "2023-02-06T20:10:59.350437Z"
    },
    "tags": []
   },
   "outputs": [
    {
     "data": {
      "text/plain": [
       "1"
      ]
     },
     "execution_count": 8,
     "metadata": {},
     "output_type": "execute_result"
    }
   ],
   "source": [
    "# Basal should\n",
    "(synthetic_design_df.groupby(\"Element_id\").count()[\"Barcode\"] != 8).sum()"
   ]
  },
  {
   "cell_type": "code",
   "execution_count": 9,
   "metadata": {
    "execution": {
     "iopub.execute_input": "2023-02-06T20:10:59.361868Z",
     "iopub.status.busy": "2023-02-06T20:10:59.361489Z",
     "iopub.status.idle": "2023-02-06T20:10:59.389762Z",
     "shell.execute_reply": "2023-02-06T20:10:59.388938Z",
     "shell.execute_reply.started": "2023-02-06T20:10:59.361839Z"
    },
    "tags": []
   },
   "outputs": [
    {
     "data": {
      "text/plain": [
       "0"
      ]
     },
     "execution_count": 9,
     "metadata": {},
     "output_type": "execute_result"
    }
   ],
   "source": [
    "# Make sure all the Sequences that are the same have the same Element_id\n",
    "(synthetic_design_df.groupby(\"Sequence\").agg(lambda x: len(set(x)))[\"Element_id\"] != 1).sum()"
   ]
  },
  {
   "cell_type": "code",
   "execution_count": 10,
   "metadata": {
    "execution": {
     "iopub.execute_input": "2023-02-06T20:10:59.391214Z",
     "iopub.status.busy": "2023-02-06T20:10:59.390852Z",
     "iopub.status.idle": "2023-02-06T20:10:59.399781Z",
     "shell.execute_reply": "2023-02-06T20:10:59.398838Z",
     "shell.execute_reply.started": "2023-02-06T20:10:59.391186Z"
    },
    "tags": []
   },
   "outputs": [
    {
     "data": {
      "text/plain": [
       "637"
      ]
     },
     "execution_count": 10,
     "metadata": {},
     "output_type": "execute_result"
    }
   ],
   "source": [
    "# Collapse based on Sequence column\n",
    "synthetic_design_df = synthetic_design_df.drop_duplicates(subset=\"Sequence\")\n",
    "len(synthetic_design_df)"
   ]
  },
  {
   "cell_type": "markdown",
   "metadata": {
    "jp-MarkdownHeadingCollapsed": true,
    "tags": []
   },
   "source": [
    "# Explore how the sequences are composed"
   ]
  },
  {
   "cell_type": "code",
   "execution_count": 11,
   "metadata": {
    "execution": {
     "iopub.execute_input": "2023-02-06T20:10:59.401228Z",
     "iopub.status.busy": "2023-02-06T20:10:59.400869Z",
     "iopub.status.idle": "2023-02-06T20:10:59.412200Z",
     "shell.execute_reply": "2023-02-06T20:10:59.411382Z",
     "shell.execute_reply.started": "2023-02-06T20:10:59.401200Z"
    },
    "tags": []
   },
   "outputs": [
    {
     "data": {
      "text/plain": [
       "637"
      ]
     },
     "execution_count": 11,
     "metadata": {},
     "output_type": "execute_result"
    }
   ],
   "source": [
    "# Split full site sequence into individual site positions\n",
    "site_sequence = [el[0] for el in synthetic_design_df[\"Element_id\"].str.split(\"_\")]\n",
    "site_sequence_split = [el.split(\"-\") for el in site_sequence]\n",
    "len(site_sequence_split)"
   ]
  },
  {
   "cell_type": "code",
   "execution_count": 12,
   "metadata": {
    "execution": {
     "iopub.execute_input": "2023-02-06T20:10:59.417888Z",
     "iopub.status.busy": "2023-02-06T20:10:59.417493Z",
     "iopub.status.idle": "2023-02-06T20:10:59.426940Z",
     "shell.execute_reply": "2023-02-06T20:10:59.426077Z",
     "shell.execute_reply.started": "2023-02-06T20:10:59.417860Z"
    },
    "tags": []
   },
   "outputs": [
    {
     "data": {
      "text/plain": [
       "637"
      ]
     },
     "execution_count": 12,
     "metadata": {},
     "output_type": "execute_result"
    }
   ],
   "source": [
    "# Pad the shorter lists with np.nan\n",
    "max_len = max([len(el) for el in site_sequence_split])\n",
    "site_sequence_split_padded = [el + [np.nan] * (max_len - len(el)) for el in site_sequence_split]\n",
    "len(site_sequence_split_padded)"
   ]
  },
  {
   "cell_type": "code",
   "execution_count": 13,
   "metadata": {
    "execution": {
     "iopub.execute_input": "2023-02-06T20:10:59.428291Z",
     "iopub.status.busy": "2023-02-06T20:10:59.427933Z",
     "iopub.status.idle": "2023-02-06T20:10:59.443840Z",
     "shell.execute_reply": "2023-02-06T20:10:59.442776Z",
     "shell.execute_reply.started": "2023-02-06T20:10:59.428264Z"
    },
    "tags": []
   },
   "outputs": [],
   "source": [
    "# Add the site sequences to the dataframe\n",
    "synthetic_design_df[[\"site_1\", \"site_2\", \"site_3\", \"site_4\"]] = site_sequence_split_padded"
   ]
  },
  {
   "cell_type": "code",
   "execution_count": 14,
   "metadata": {
    "execution": {
     "iopub.execute_input": "2023-02-06T20:10:59.445214Z",
     "iopub.status.busy": "2023-02-06T20:10:59.444854Z",
     "iopub.status.idle": "2023-02-06T20:10:59.461616Z",
     "shell.execute_reply": "2023-02-06T20:10:59.460715Z",
     "shell.execute_reply.started": "2023-02-06T20:10:59.445186Z"
    },
    "tags": []
   },
   "outputs": [
    {
     "data": {
      "text/plain": [
       "Er     72\n",
       "Kf     72\n",
       "Sr     72\n",
       "Ef     72\n",
       "Sf     72\n",
       "Kr     72\n",
       "Or     72\n",
       "Of     72\n",
       "NaN    61\n",
       "Name: site_3, dtype: int64"
      ]
     },
     "execution_count": 14,
     "metadata": {},
     "output_type": "execute_result"
    }
   ],
   "source": [
    "# Check how many position 3 TFBS's we have\n",
    "synthetic_design_df[\"site_3\"].value_counts(dropna=False)"
   ]
  },
  {
   "cell_type": "code",
   "execution_count": 15,
   "metadata": {
    "execution": {
     "iopub.execute_input": "2023-02-06T20:10:59.462989Z",
     "iopub.status.busy": "2023-02-06T20:10:59.462615Z",
     "iopub.status.idle": "2023-02-06T20:10:59.477002Z",
     "shell.execute_reply": "2023-02-06T20:10:59.476183Z",
     "shell.execute_reply.started": "2023-02-06T20:10:59.462961Z"
    },
    "tags": []
   },
   "outputs": [
    {
     "data": {
      "text/plain": [
       "NaN    253\n",
       "Sf      48\n",
       "Er      48\n",
       "Of      48\n",
       "Or      48\n",
       "Ef      48\n",
       "Kf      48\n",
       "Kr      48\n",
       "Sr      48\n",
       "Name: site_4, dtype: int64"
      ]
     },
     "execution_count": 15,
     "metadata": {},
     "output_type": "execute_result"
    }
   ],
   "source": [
    "# Check how many position 4 TFBS's we have\n",
    "synthetic_design_df[\"site_4\"].value_counts(dropna=False)"
   ]
  },
  {
   "cell_type": "code",
   "execution_count": 16,
   "metadata": {
    "execution": {
     "iopub.execute_input": "2023-02-06T20:10:59.478357Z",
     "iopub.status.busy": "2023-02-06T20:10:59.477995Z",
     "iopub.status.idle": "2023-02-06T20:10:59.492341Z",
     "shell.execute_reply": "2023-02-06T20:10:59.491462Z",
     "shell.execute_reply.started": "2023-02-06T20:10:59.478329Z"
    },
    "tags": []
   },
   "outputs": [
    {
     "data": {
      "text/plain": [
       "Or          78\n",
       "Kf          78\n",
       "Kr          78\n",
       "Ef          78\n",
       "Of          78\n",
       "Sf          78\n",
       "Sr          78\n",
       "Er          78\n",
       "SfOfSfKf     1\n",
       "KfEfSfEf     1\n",
       "KrSrSfSr     1\n",
       "KfSfKfEr     1\n",
       "KfOrSr       1\n",
       "OfOrOfOr     1\n",
       "KfSrOfKr     1\n",
       "OrKrEf       1\n",
       "SrKf         1\n",
       "EfOrOf       1\n",
       "SrKfSrKr     1\n",
       "Basal        1\n",
       "KfKfErSr     1\n",
       "Name: site_1, dtype: int64"
      ]
     },
     "execution_count": 16,
     "metadata": {},
     "output_type": "execute_result"
    }
   ],
   "source": [
    "# Check how many position 1 TFBS's we have, this is where the 12 \"Scalar\" labeled sequence come out\n",
    "synthetic_design_df[\"site_1\"].value_counts(dropna=False)"
   ]
  },
  {
   "cell_type": "code",
   "execution_count": 17,
   "metadata": {
    "execution": {
     "iopub.execute_input": "2023-02-06T20:10:59.493753Z",
     "iopub.status.busy": "2023-02-06T20:10:59.493356Z",
     "iopub.status.idle": "2023-02-06T20:10:59.505738Z",
     "shell.execute_reply": "2023-02-06T20:10:59.504935Z",
     "shell.execute_reply.started": "2023-02-06T20:10:59.493724Z"
    },
    "tags": []
   },
   "outputs": [
    {
     "data": {
      "text/plain": [
       "637"
      ]
     },
     "execution_count": 17,
     "metadata": {},
     "output_type": "execute_result"
    }
   ],
   "source": [
    "# Drop the Barcode column\n",
    "synthetic_design_df.drop(\"Barcode\", axis=1, inplace=True)\n",
    "len(synthetic_design_df)"
   ]
  },
  {
   "cell_type": "code",
   "execution_count": 18,
   "metadata": {
    "execution": {
     "iopub.execute_input": "2023-02-06T20:10:59.507286Z",
     "iopub.status.busy": "2023-02-06T20:10:59.506726Z",
     "iopub.status.idle": "2023-02-06T20:10:59.518723Z",
     "shell.execute_reply": "2023-02-06T20:10:59.517924Z",
     "shell.execute_reply.started": "2023-02-06T20:10:59.507258Z"
    },
    "tags": []
   },
   "outputs": [
    {
     "data": {
      "text/plain": [
       "636"
      ]
     },
     "execution_count": 18,
     "metadata": {},
     "output_type": "execute_result"
    }
   ],
   "source": [
    "# Drop the row with Element_id \"Basal\"\n",
    "synthetic_design_df = synthetic_design_df[synthetic_design_df[\"Element_id\"] != \"Basal\"]\n",
    "len(synthetic_design_df)"
   ]
  },
  {
   "cell_type": "code",
   "execution_count": 19,
   "metadata": {
    "execution": {
     "iopub.execute_input": "2023-02-06T20:10:59.520640Z",
     "iopub.status.busy": "2023-02-06T20:10:59.520083Z",
     "iopub.status.idle": "2023-02-06T20:10:59.533468Z",
     "shell.execute_reply": "2023-02-06T20:10:59.532448Z",
     "shell.execute_reply.started": "2023-02-06T20:10:59.520591Z"
    },
    "tags": []
   },
   "outputs": [
    {
     "data": {
      "text/plain": [
       "636"
      ]
     },
     "execution_count": 19,
     "metadata": {},
     "output_type": "execute_result"
    }
   ],
   "source": [
    "# Pull out the sequences\n",
    "sequences = synthetic_design_df[\"Sequence\"].values\n",
    "len(sequences)"
   ]
  },
  {
   "cell_type": "markdown",
   "metadata": {
    "jp-MarkdownHeadingCollapsed": true,
    "tags": []
   },
   "source": [
    "# SeqData analysis"
   ]
  },
  {
   "cell_type": "code",
   "execution_count": 52,
   "metadata": {
    "execution": {
     "iopub.execute_input": "2023-02-06T20:15:22.753281Z",
     "iopub.status.busy": "2023-02-06T20:15:22.752921Z",
     "iopub.status.idle": "2023-02-06T20:15:22.758385Z",
     "shell.execute_reply": "2023-02-06T20:15:22.757152Z",
     "shell.execute_reply.started": "2023-02-06T20:15:22.753246Z"
    },
    "tags": []
   },
   "outputs": [],
   "source": [
    "import seqdata as sd\n",
    "from seqdata._preprocess.basic import reverse_complement_seq"
   ]
  },
  {
   "cell_type": "code",
   "execution_count": 21,
   "metadata": {
    "execution": {
     "iopub.execute_input": "2023-02-06T20:11:00.476064Z",
     "iopub.status.busy": "2023-02-06T20:11:00.475731Z",
     "iopub.status.idle": "2023-02-06T20:11:00.486063Z",
     "shell.execute_reply": "2023-02-06T20:11:00.485229Z",
     "shell.execute_reply.started": "2023-02-06T20:11:00.476033Z"
    },
    "tags": []
   },
   "outputs": [
    {
     "data": {
      "text/plain": [
       "SeqData object with = 636 seqs\n",
       "seqs = (636,)\n",
       "names = (636,)\n",
       "rev_seqs = None\n",
       "ohe_seqs = None\n",
       "ohe_rev_seqs = None\n",
       "seqs_annot: 'site_1', 'site_2', 'site_3', 'site_4'\n",
       "pos_annot: None\n",
       "seqsm: None\n",
       "uns: None"
      ]
     },
     "execution_count": 21,
     "metadata": {},
     "output_type": "execute_result"
    }
   ],
   "source": [
    "# Create a SeqData object\n",
    "sdata = sd.SeqData(\n",
    "    seqs=sequences,\n",
    "    names=synthetic_design_df[\"Element_id\"].values,\n",
    "    seqs_annot=synthetic_design_df.drop(\"Sequence\", axis=1).set_index(\"Element_id\"),\n",
    ")\n",
    "sdata"
   ]
  },
  {
   "cell_type": "code",
   "execution_count": 22,
   "metadata": {
    "execution": {
     "iopub.execute_input": "2023-02-06T20:11:00.487611Z",
     "iopub.status.busy": "2023-02-06T20:11:00.487120Z",
     "iopub.status.idle": "2023-02-06T20:11:00.501728Z",
     "shell.execute_reply": "2023-02-06T20:11:00.500942Z",
     "shell.execute_reply.started": "2023-02-06T20:11:00.487581Z"
    },
    "tags": []
   },
   "outputs": [],
   "source": [
    "# Simple function to incorporate into SeqData for measuring seq lens\n",
    "def seq_len(seq, ohe=False):\n",
    "    if ohe:\n",
    "        return seq.shape[1]\n",
    "    else:\n",
    "        return len(seq)\n",
    "\n",
    "def seq_lens(seqs, ohe=False):\n",
    "    if ohe:\n",
    "        return np.array([seq.shape[1] for seq in seqs])\n",
    "    else:\n",
    "        return np.array([len(seq) for seq in seqs])\n",
    "\n",
    "def seq_len_sdata(sdata, copy=False):\n",
    "    if sdata.seqs is not None:\n",
    "        sdata[\"seq_len\"] = seq_lens(sdata.seqs, ohe=False)\n",
    "    elif sdata.ohe_seqs is not None:\n",
    "        sdata[\"seq_len\"] = seq_lens(sdata.ohe_seqs, ohe=True)\n",
    "    else:\n",
    "        raise ValueError(\"No sequences found in sdata\")"
   ]
  },
  {
   "cell_type": "code",
   "execution_count": 23,
   "metadata": {
    "execution": {
     "iopub.execute_input": "2023-02-06T20:11:00.503152Z",
     "iopub.status.busy": "2023-02-06T20:11:00.502804Z",
     "iopub.status.idle": "2023-02-06T20:11:00.516835Z",
     "shell.execute_reply": "2023-02-06T20:11:00.515959Z",
     "shell.execute_reply.started": "2023-02-06T20:11:00.503124Z"
    },
    "tags": []
   },
   "outputs": [
    {
     "data": {
      "text/plain": [
       "array([], dtype=object)"
      ]
     },
     "execution_count": 23,
     "metadata": {},
     "output_type": "execute_result"
    }
   ],
   "source": [
    "# Make sure Basal didn't sneak in\n",
    "sdata.seqs[np.where(sdata.names==\"Basal\")[0]]"
   ]
  },
  {
   "cell_type": "code",
   "execution_count": 24,
   "metadata": {
    "execution": {
     "iopub.execute_input": "2023-02-06T20:11:00.518240Z",
     "iopub.status.busy": "2023-02-06T20:11:00.517889Z",
     "iopub.status.idle": "2023-02-06T20:11:00.532649Z",
     "shell.execute_reply": "2023-02-06T20:11:00.531874Z",
     "shell.execute_reply.started": "2023-02-06T20:11:00.518211Z"
    },
    "tags": []
   },
   "outputs": [
    {
     "data": {
      "text/plain": [
       "80    392\n",
       "60    195\n",
       "40     49\n",
       "Name: seq_len, dtype: int64"
      ]
     },
     "execution_count": 24,
     "metadata": {},
     "output_type": "execute_result"
    }
   ],
   "source": [
    "# Calculate seq lens\n",
    "seq_len_sdata(sdata)\n",
    "sdata[\"seq_len\"].value_counts()"
   ]
  },
  {
   "cell_type": "code",
   "execution_count": null,
   "metadata": {},
   "outputs": [],
   "source": [
    "# Building block - replace all X with .\n",
    "building_block = \"AGCTA(C|G)XXXXXXXXXXXXGT\"\n",
    "building_block = building_block.replace(\"X\", \".\")\n",
    "building_block"
   ]
  },
  {
   "cell_type": "code",
   "execution_count": 67,
   "metadata": {
    "execution": {
     "iopub.execute_input": "2023-02-06T20:16:59.769449Z",
     "iopub.status.busy": "2023-02-06T20:16:59.769106Z",
     "iopub.status.idle": "2023-02-06T20:16:59.776050Z",
     "shell.execute_reply": "2023-02-06T20:16:59.774835Z",
     "shell.execute_reply.started": "2023-02-06T20:16:59.769415Z"
    },
    "tags": []
   },
   "outputs": [],
   "source": [
    "# These are the motifs described in a previous publication from this group\n",
    "sox2 = \"GCTCATTGTTTC\"\n",
    "pou5f1 = \"GGGATGCTAATC\"\n",
    "esrrb = \"GTTCAAGGTCAC\"\n",
    "klf4 = \"GGGGTGGGGCCG\"\n",
    "sox2_rev = reverse_complement_seq(sox2)\n",
    "pou5f1_rev = reverse_complement_seq(pouf5f1)\n",
    "esrrb_rev = reverse_complement_seq(esrrb)\n",
    "klf4_rev = reverse_complement_seq(klf4)"
   ]
  },
  {
   "cell_type": "code",
   "execution_count": 68,
   "metadata": {
    "execution": {
     "iopub.execute_input": "2023-02-06T20:17:00.149018Z",
     "iopub.status.busy": "2023-02-06T20:17:00.148406Z",
     "iopub.status.idle": "2023-02-06T20:17:00.156944Z",
     "shell.execute_reply": "2023-02-06T20:17:00.155733Z",
     "shell.execute_reply.started": "2023-02-06T20:17:00.148979Z"
    },
    "tags": []
   },
   "outputs": [],
   "source": [
    "# Get a list of spans for all the building block instances in each sequence, some may overlap\n",
    "import re\n",
    "def get_spans(seq, pattern):\n",
    "    return [m.span() for m in re.finditer(pattern, seq)]\n",
    "building_block_spans = [get_spans(seq, building_block) for seq in sequences]"
   ]
  },
  {
   "cell_type": "code",
   "execution_count": 69,
   "metadata": {
    "execution": {
     "iopub.execute_input": "2023-02-06T20:17:00.159058Z",
     "iopub.status.busy": "2023-02-06T20:17:00.158693Z",
     "iopub.status.idle": "2023-02-06T20:17:00.171987Z",
     "shell.execute_reply": "2023-02-06T20:17:00.170868Z",
     "shell.execute_reply.started": "2023-02-06T20:17:00.159024Z"
    },
    "tags": []
   },
   "outputs": [
    {
     "data": {
      "text/plain": [
       "([(0, 20), (20, 40), (40, 60), (60, 80)], 636)"
      ]
     },
     "execution_count": 69,
     "metadata": {},
     "output_type": "execute_result"
    }
   ],
   "source": [
    "# Check the spans for the sequences for the building block\n",
    "building_block_spans[0], len(building_block_spans)"
   ]
  },
  {
   "cell_type": "code",
   "execution_count": 71,
   "metadata": {
    "execution": {
     "iopub.execute_input": "2023-02-06T20:17:07.882589Z",
     "iopub.status.busy": "2023-02-06T20:17:07.882162Z",
     "iopub.status.idle": "2023-02-06T20:17:07.899727Z",
     "shell.execute_reply": "2023-02-06T20:17:07.898679Z",
     "shell.execute_reply.started": "2023-02-06T20:17:07.882548Z"
    },
    "tags": []
   },
   "outputs": [],
   "source": [
    "# Get the spans for each consensus as defined above\n",
    "sox2_spans = [get_spans(seq, sox2) for seq in sequences]\n",
    "pou5f1_spans = [get_spans(seq, pou5f1) for seq in sequences]\n",
    "esrrb_spans = [get_spans(seq, esrrb) for seq in sequences]\n",
    "klf4_spans = [get_spans(seq, klf4) for seq in sequences]\n",
    "sox2_rev_spans = [get_spans(seq, sox2_rev) for seq in sequences]\n",
    "pou5f1_rev_spans = [get_spans(seq, pou5f1_rev) for seq in sequences]\n",
    "esrrb_rev_spans = [get_spans(seq, esrrb_rev) for seq in sequences]\n",
    "klf4_rev_spans = [get_spans(seq, klf4_rev) for seq in sequences]"
   ]
  },
  {
   "cell_type": "code",
   "execution_count": 74,
   "metadata": {
    "execution": {
     "iopub.execute_input": "2023-02-06T20:17:23.092341Z",
     "iopub.status.busy": "2023-02-06T20:17:23.092005Z",
     "iopub.status.idle": "2023-02-06T20:17:23.106430Z",
     "shell.execute_reply": "2023-02-06T20:17:23.105388Z",
     "shell.execute_reply.started": "2023-02-06T20:17:23.092305Z"
    },
    "tags": []
   },
   "outputs": [],
   "source": [
    "# Add these to the dataframe\n",
    "sdata.seqs_annot[\"sox2_spans\"] = sox2_spans\n",
    "sdata.seqs_annot[\"pouf51_spans\"] = pou5f1_spans\n",
    "sdata.seqs_annot[\"esrrb_spans\"] = esrrb_spans\n",
    "sdata.seqs_annot[\"klf4_spans\"] = klf4_spans\n",
    "sdata.seqs_annot[\"sox2_rev_spans\"] = sox2_rev_spans\n",
    "sdata.seqs_annot[\"pouf51_rev_spans\"] = pou5f1_rev_spans\n",
    "sdata.seqs_annot[\"esrrb_rev_spans\"] = esrrb_rev_spans\n",
    "sdata.seqs_annot[\"klf4_rev_spans\"] = klf4_rev_spans"
   ]
  },
  {
   "cell_type": "code",
   "execution_count": 75,
   "metadata": {
    "execution": {
     "iopub.execute_input": "2023-02-06T20:18:41.823247Z",
     "iopub.status.busy": "2023-02-06T20:18:41.822755Z",
     "iopub.status.idle": "2023-02-06T20:18:41.890823Z",
     "shell.execute_reply": "2023-02-06T20:18:41.889830Z",
     "shell.execute_reply.started": "2023-02-06T20:18:41.823209Z"
    }
   },
   "outputs": [
    {
     "data": {
      "text/html": [
       "<div>\n",
       "<style scoped>\n",
       "    .dataframe tbody tr th:only-of-type {\n",
       "        vertical-align: middle;\n",
       "    }\n",
       "\n",
       "    .dataframe tbody tr th {\n",
       "        vertical-align: top;\n",
       "    }\n",
       "\n",
       "    .dataframe thead th {\n",
       "        text-align: right;\n",
       "    }\n",
       "</style>\n",
       "<table border=\"1\" class=\"dataframe\">\n",
       "  <thead>\n",
       "    <tr style=\"text-align: right;\">\n",
       "      <th></th>\n",
       "      <th>site_1</th>\n",
       "      <th>site_2</th>\n",
       "      <th>site_3</th>\n",
       "      <th>site_4</th>\n",
       "      <th>seq_len</th>\n",
       "      <th>sox2_spans</th>\n",
       "      <th>pouf51_spans</th>\n",
       "      <th>esrrb_spans</th>\n",
       "      <th>klf4_spans</th>\n",
       "      <th>sox2_rev_spans</th>\n",
       "      <th>pouf51_rev_spans</th>\n",
       "      <th>esrrb_rev_spans</th>\n",
       "      <th>klf4_rev_spans</th>\n",
       "    </tr>\n",
       "    <tr>\n",
       "      <th>Element_id</th>\n",
       "      <th></th>\n",
       "      <th></th>\n",
       "      <th></th>\n",
       "      <th></th>\n",
       "      <th></th>\n",
       "      <th></th>\n",
       "      <th></th>\n",
       "      <th></th>\n",
       "      <th></th>\n",
       "      <th></th>\n",
       "      <th></th>\n",
       "      <th></th>\n",
       "      <th></th>\n",
       "    </tr>\n",
       "  </thead>\n",
       "  <tbody>\n",
       "    <tr>\n",
       "      <th>Or-Kr-Er-Sf_synthetic</th>\n",
       "      <td>Or</td>\n",
       "      <td>Kr</td>\n",
       "      <td>Er</td>\n",
       "      <td>Sf</td>\n",
       "      <td>80</td>\n",
       "      <td>[(66, 78)]</td>\n",
       "      <td>[]</td>\n",
       "      <td>[]</td>\n",
       "      <td>[]</td>\n",
       "      <td>[]</td>\n",
       "      <td>[(6, 18)]</td>\n",
       "      <td>[(46, 58)]</td>\n",
       "      <td>[(26, 38)]</td>\n",
       "    </tr>\n",
       "    <tr>\n",
       "      <th>Er-Or_synthetic</th>\n",
       "      <td>Er</td>\n",
       "      <td>Or</td>\n",
       "      <td>NaN</td>\n",
       "      <td>NaN</td>\n",
       "      <td>40</td>\n",
       "      <td>[]</td>\n",
       "      <td>[]</td>\n",
       "      <td>[]</td>\n",
       "      <td>[]</td>\n",
       "      <td>[]</td>\n",
       "      <td>[(26, 38)]</td>\n",
       "      <td>[(6, 18)]</td>\n",
       "      <td>[]</td>\n",
       "    </tr>\n",
       "    <tr>\n",
       "      <th>Or-Sr-Kf-Er_synthetic</th>\n",
       "      <td>Or</td>\n",
       "      <td>Sr</td>\n",
       "      <td>Kf</td>\n",
       "      <td>Er</td>\n",
       "      <td>80</td>\n",
       "      <td>[]</td>\n",
       "      <td>[]</td>\n",
       "      <td>[]</td>\n",
       "      <td>[(46, 58)]</td>\n",
       "      <td>[(26, 38)]</td>\n",
       "      <td>[(6, 18)]</td>\n",
       "      <td>[(66, 78)]</td>\n",
       "      <td>[]</td>\n",
       "    </tr>\n",
       "    <tr>\n",
       "      <th>Kf-Er-Sr-Of_synthetic</th>\n",
       "      <td>Kf</td>\n",
       "      <td>Er</td>\n",
       "      <td>Sr</td>\n",
       "      <td>Of</td>\n",
       "      <td>80</td>\n",
       "      <td>[]</td>\n",
       "      <td>[(66, 78)]</td>\n",
       "      <td>[]</td>\n",
       "      <td>[(6, 18)]</td>\n",
       "      <td>[(46, 58)]</td>\n",
       "      <td>[]</td>\n",
       "      <td>[(26, 38)]</td>\n",
       "      <td>[]</td>\n",
       "    </tr>\n",
       "    <tr>\n",
       "      <th>Kr-Sf-Ef-Or_synthetic</th>\n",
       "      <td>Kr</td>\n",
       "      <td>Sf</td>\n",
       "      <td>Ef</td>\n",
       "      <td>Or</td>\n",
       "      <td>80</td>\n",
       "      <td>[(26, 38)]</td>\n",
       "      <td>[]</td>\n",
       "      <td>[(46, 58)]</td>\n",
       "      <td>[]</td>\n",
       "      <td>[]</td>\n",
       "      <td>[(66, 78)]</td>\n",
       "      <td>[]</td>\n",
       "      <td>[(6, 18)]</td>\n",
       "    </tr>\n",
       "    <tr>\n",
       "      <th>...</th>\n",
       "      <td>...</td>\n",
       "      <td>...</td>\n",
       "      <td>...</td>\n",
       "      <td>...</td>\n",
       "      <td>...</td>\n",
       "      <td>...</td>\n",
       "      <td>...</td>\n",
       "      <td>...</td>\n",
       "      <td>...</td>\n",
       "      <td>...</td>\n",
       "      <td>...</td>\n",
       "      <td>...</td>\n",
       "      <td>...</td>\n",
       "    </tr>\n",
       "    <tr>\n",
       "      <th>Sr-Kf-Ef-Of_synthetic</th>\n",
       "      <td>Sr</td>\n",
       "      <td>Kf</td>\n",
       "      <td>Ef</td>\n",
       "      <td>Of</td>\n",
       "      <td>80</td>\n",
       "      <td>[]</td>\n",
       "      <td>[(66, 78)]</td>\n",
       "      <td>[(46, 58)]</td>\n",
       "      <td>[(26, 38)]</td>\n",
       "      <td>[(6, 18)]</td>\n",
       "      <td>[]</td>\n",
       "      <td>[]</td>\n",
       "      <td>[]</td>\n",
       "    </tr>\n",
       "    <tr>\n",
       "      <th>Sr-Ef-Kf_synthetic</th>\n",
       "      <td>Sr</td>\n",
       "      <td>Ef</td>\n",
       "      <td>Kf</td>\n",
       "      <td>NaN</td>\n",
       "      <td>60</td>\n",
       "      <td>[]</td>\n",
       "      <td>[]</td>\n",
       "      <td>[(26, 38)]</td>\n",
       "      <td>[(46, 58)]</td>\n",
       "      <td>[(6, 18)]</td>\n",
       "      <td>[]</td>\n",
       "      <td>[]</td>\n",
       "      <td>[]</td>\n",
       "    </tr>\n",
       "    <tr>\n",
       "      <th>Kr-Sf-Or_synthetic</th>\n",
       "      <td>Kr</td>\n",
       "      <td>Sf</td>\n",
       "      <td>Or</td>\n",
       "      <td>NaN</td>\n",
       "      <td>60</td>\n",
       "      <td>[(26, 38)]</td>\n",
       "      <td>[]</td>\n",
       "      <td>[]</td>\n",
       "      <td>[]</td>\n",
       "      <td>[]</td>\n",
       "      <td>[(46, 58)]</td>\n",
       "      <td>[]</td>\n",
       "      <td>[(6, 18)]</td>\n",
       "    </tr>\n",
       "    <tr>\n",
       "      <th>Er-Sf_synthetic</th>\n",
       "      <td>Er</td>\n",
       "      <td>Sf</td>\n",
       "      <td>NaN</td>\n",
       "      <td>NaN</td>\n",
       "      <td>40</td>\n",
       "      <td>[(26, 38)]</td>\n",
       "      <td>[]</td>\n",
       "      <td>[]</td>\n",
       "      <td>[]</td>\n",
       "      <td>[]</td>\n",
       "      <td>[]</td>\n",
       "      <td>[(6, 18)]</td>\n",
       "      <td>[]</td>\n",
       "    </tr>\n",
       "    <tr>\n",
       "      <th>Er-Of-Sr-Kr_synthetic</th>\n",
       "      <td>Er</td>\n",
       "      <td>Of</td>\n",
       "      <td>Sr</td>\n",
       "      <td>Kr</td>\n",
       "      <td>80</td>\n",
       "      <td>[]</td>\n",
       "      <td>[(26, 38)]</td>\n",
       "      <td>[]</td>\n",
       "      <td>[]</td>\n",
       "      <td>[(46, 58)]</td>\n",
       "      <td>[]</td>\n",
       "      <td>[(6, 18)]</td>\n",
       "      <td>[(66, 78)]</td>\n",
       "    </tr>\n",
       "  </tbody>\n",
       "</table>\n",
       "<p>636 rows × 13 columns</p>\n",
       "</div>"
      ],
      "text/plain": [
       "                      site_1 site_2 site_3 site_4  seq_len  sox2_spans  \\\n",
       "Element_id                                                               \n",
       "Or-Kr-Er-Sf_synthetic     Or     Kr     Er     Sf       80  [(66, 78)]   \n",
       "Er-Or_synthetic           Er     Or    NaN    NaN       40          []   \n",
       "Or-Sr-Kf-Er_synthetic     Or     Sr     Kf     Er       80          []   \n",
       "Kf-Er-Sr-Of_synthetic     Kf     Er     Sr     Of       80          []   \n",
       "Kr-Sf-Ef-Or_synthetic     Kr     Sf     Ef     Or       80  [(26, 38)]   \n",
       "...                      ...    ...    ...    ...      ...         ...   \n",
       "Sr-Kf-Ef-Of_synthetic     Sr     Kf     Ef     Of       80          []   \n",
       "Sr-Ef-Kf_synthetic        Sr     Ef     Kf    NaN       60          []   \n",
       "Kr-Sf-Or_synthetic        Kr     Sf     Or    NaN       60  [(26, 38)]   \n",
       "Er-Sf_synthetic           Er     Sf    NaN    NaN       40  [(26, 38)]   \n",
       "Er-Of-Sr-Kr_synthetic     Er     Of     Sr     Kr       80          []   \n",
       "\n",
       "                      pouf51_spans esrrb_spans  klf4_spans sox2_rev_spans  \\\n",
       "Element_id                                                                  \n",
       "Or-Kr-Er-Sf_synthetic           []          []          []             []   \n",
       "Er-Or_synthetic                 []          []          []             []   \n",
       "Or-Sr-Kf-Er_synthetic           []          []  [(46, 58)]     [(26, 38)]   \n",
       "Kf-Er-Sr-Of_synthetic   [(66, 78)]          []   [(6, 18)]     [(46, 58)]   \n",
       "Kr-Sf-Ef-Or_synthetic           []  [(46, 58)]          []             []   \n",
       "...                            ...         ...         ...            ...   \n",
       "Sr-Kf-Ef-Of_synthetic   [(66, 78)]  [(46, 58)]  [(26, 38)]      [(6, 18)]   \n",
       "Sr-Ef-Kf_synthetic              []  [(26, 38)]  [(46, 58)]      [(6, 18)]   \n",
       "Kr-Sf-Or_synthetic              []          []          []             []   \n",
       "Er-Sf_synthetic                 []          []          []             []   \n",
       "Er-Of-Sr-Kr_synthetic   [(26, 38)]          []          []     [(46, 58)]   \n",
       "\n",
       "                      pouf51_rev_spans esrrb_rev_spans klf4_rev_spans  \n",
       "Element_id                                                             \n",
       "Or-Kr-Er-Sf_synthetic        [(6, 18)]      [(46, 58)]     [(26, 38)]  \n",
       "Er-Or_synthetic             [(26, 38)]       [(6, 18)]             []  \n",
       "Or-Sr-Kf-Er_synthetic        [(6, 18)]      [(66, 78)]             []  \n",
       "Kf-Er-Sr-Of_synthetic               []      [(26, 38)]             []  \n",
       "Kr-Sf-Ef-Or_synthetic       [(66, 78)]              []      [(6, 18)]  \n",
       "...                                ...             ...            ...  \n",
       "Sr-Kf-Ef-Of_synthetic               []              []             []  \n",
       "Sr-Ef-Kf_synthetic                  []              []             []  \n",
       "Kr-Sf-Or_synthetic          [(46, 58)]              []      [(6, 18)]  \n",
       "Er-Sf_synthetic                     []       [(6, 18)]             []  \n",
       "Er-Of-Sr-Kr_synthetic               []       [(6, 18)]     [(66, 78)]  \n",
       "\n",
       "[636 rows x 13 columns]"
      ]
     },
     "execution_count": 75,
     "metadata": {},
     "output_type": "execute_result"
    }
   ],
   "source": [
    "# Check for those that have a site 2, see if the element IDs match up with the spans for these Scalar seqs\n",
    "sdata.seqs_annot"
   ]
  },
  {
   "cell_type": "code",
   "execution_count": 77,
   "metadata": {
    "execution": {
     "iopub.execute_input": "2023-02-06T20:19:37.272004Z",
     "iopub.status.busy": "2023-02-06T20:19:37.271432Z",
     "iopub.status.idle": "2023-02-06T20:19:37.328831Z",
     "shell.execute_reply": "2023-02-06T20:19:37.327559Z",
     "shell.execute_reply.started": "2023-02-06T20:19:37.271969Z"
    },
    "tags": []
   },
   "outputs": [
    {
     "data": {
      "text/html": [
       "<div>\n",
       "<style scoped>\n",
       "    .dataframe tbody tr th:only-of-type {\n",
       "        vertical-align: middle;\n",
       "    }\n",
       "\n",
       "    .dataframe tbody tr th {\n",
       "        vertical-align: top;\n",
       "    }\n",
       "\n",
       "    .dataframe thead th {\n",
       "        text-align: right;\n",
       "    }\n",
       "</style>\n",
       "<table border=\"1\" class=\"dataframe\">\n",
       "  <thead>\n",
       "    <tr style=\"text-align: right;\">\n",
       "      <th></th>\n",
       "      <th>site_1</th>\n",
       "      <th>site_2</th>\n",
       "      <th>site_3</th>\n",
       "      <th>site_4</th>\n",
       "      <th>seq_len</th>\n",
       "      <th>sox2_spans</th>\n",
       "      <th>pouf51_spans</th>\n",
       "      <th>esrrb_spans</th>\n",
       "      <th>klf4_spans</th>\n",
       "      <th>sox2_rev_spans</th>\n",
       "      <th>pouf51_rev_spans</th>\n",
       "      <th>esrrb_rev_spans</th>\n",
       "      <th>klf4_rev_spans</th>\n",
       "    </tr>\n",
       "    <tr>\n",
       "      <th>Element_id</th>\n",
       "      <th></th>\n",
       "      <th></th>\n",
       "      <th></th>\n",
       "      <th></th>\n",
       "      <th></th>\n",
       "      <th></th>\n",
       "      <th></th>\n",
       "      <th></th>\n",
       "      <th></th>\n",
       "      <th></th>\n",
       "      <th></th>\n",
       "      <th></th>\n",
       "      <th></th>\n",
       "    </tr>\n",
       "  </thead>\n",
       "  <tbody>\n",
       "    <tr>\n",
       "      <th>SrKfSrKr_CMF-Scalar</th>\n",
       "      <td>SrKfSrKr</td>\n",
       "      <td>NaN</td>\n",
       "      <td>NaN</td>\n",
       "      <td>NaN</td>\n",
       "      <td>80</td>\n",
       "      <td>[]</td>\n",
       "      <td>[]</td>\n",
       "      <td>[]</td>\n",
       "      <td>[]</td>\n",
       "      <td>[(6, 18), (46, 58)]</td>\n",
       "      <td>[]</td>\n",
       "      <td>[]</td>\n",
       "      <td>[]</td>\n",
       "    </tr>\n",
       "    <tr>\n",
       "      <th>KfSrOfKr_CMF-Scalar</th>\n",
       "      <td>KfSrOfKr</td>\n",
       "      <td>NaN</td>\n",
       "      <td>NaN</td>\n",
       "      <td>NaN</td>\n",
       "      <td>80</td>\n",
       "      <td>[]</td>\n",
       "      <td>[(46, 58)]</td>\n",
       "      <td>[]</td>\n",
       "      <td>[]</td>\n",
       "      <td>[(26, 38)]</td>\n",
       "      <td>[]</td>\n",
       "      <td>[]</td>\n",
       "      <td>[]</td>\n",
       "    </tr>\n",
       "    <tr>\n",
       "      <th>EfOrOf_CMF-Scalar</th>\n",
       "      <td>EfOrOf</td>\n",
       "      <td>NaN</td>\n",
       "      <td>NaN</td>\n",
       "      <td>NaN</td>\n",
       "      <td>60</td>\n",
       "      <td>[]</td>\n",
       "      <td>[(46, 58)]</td>\n",
       "      <td>[(6, 18)]</td>\n",
       "      <td>[]</td>\n",
       "      <td>[]</td>\n",
       "      <td>[(26, 38)]</td>\n",
       "      <td>[]</td>\n",
       "      <td>[]</td>\n",
       "    </tr>\n",
       "    <tr>\n",
       "      <th>SrKf_CMF-Scalar</th>\n",
       "      <td>SrKf</td>\n",
       "      <td>NaN</td>\n",
       "      <td>NaN</td>\n",
       "      <td>NaN</td>\n",
       "      <td>40</td>\n",
       "      <td>[]</td>\n",
       "      <td>[]</td>\n",
       "      <td>[]</td>\n",
       "      <td>[]</td>\n",
       "      <td>[(6, 18)]</td>\n",
       "      <td>[]</td>\n",
       "      <td>[]</td>\n",
       "      <td>[]</td>\n",
       "    </tr>\n",
       "    <tr>\n",
       "      <th>OrKrEf_CMF-Scalar</th>\n",
       "      <td>OrKrEf</td>\n",
       "      <td>NaN</td>\n",
       "      <td>NaN</td>\n",
       "      <td>NaN</td>\n",
       "      <td>60</td>\n",
       "      <td>[]</td>\n",
       "      <td>[]</td>\n",
       "      <td>[(46, 58)]</td>\n",
       "      <td>[]</td>\n",
       "      <td>[]</td>\n",
       "      <td>[(6, 18)]</td>\n",
       "      <td>[]</td>\n",
       "      <td>[]</td>\n",
       "    </tr>\n",
       "    <tr>\n",
       "      <th>SfOfSfKf_CMF-Scalar</th>\n",
       "      <td>SfOfSfKf</td>\n",
       "      <td>NaN</td>\n",
       "      <td>NaN</td>\n",
       "      <td>NaN</td>\n",
       "      <td>80</td>\n",
       "      <td>[(6, 18), (46, 58)]</td>\n",
       "      <td>[(26, 38)]</td>\n",
       "      <td>[]</td>\n",
       "      <td>[]</td>\n",
       "      <td>[]</td>\n",
       "      <td>[]</td>\n",
       "      <td>[]</td>\n",
       "      <td>[]</td>\n",
       "    </tr>\n",
       "    <tr>\n",
       "      <th>OfOrOfOr_CMF-Scalar</th>\n",
       "      <td>OfOrOfOr</td>\n",
       "      <td>NaN</td>\n",
       "      <td>NaN</td>\n",
       "      <td>NaN</td>\n",
       "      <td>80</td>\n",
       "      <td>[]</td>\n",
       "      <td>[(6, 18), (46, 58)]</td>\n",
       "      <td>[]</td>\n",
       "      <td>[]</td>\n",
       "      <td>[]</td>\n",
       "      <td>[(26, 38), (66, 78)]</td>\n",
       "      <td>[]</td>\n",
       "      <td>[]</td>\n",
       "    </tr>\n",
       "    <tr>\n",
       "      <th>KfOrSr_CMF-Scalar</th>\n",
       "      <td>KfOrSr</td>\n",
       "      <td>NaN</td>\n",
       "      <td>NaN</td>\n",
       "      <td>NaN</td>\n",
       "      <td>60</td>\n",
       "      <td>[]</td>\n",
       "      <td>[]</td>\n",
       "      <td>[]</td>\n",
       "      <td>[]</td>\n",
       "      <td>[(46, 58)]</td>\n",
       "      <td>[(26, 38)]</td>\n",
       "      <td>[]</td>\n",
       "      <td>[]</td>\n",
       "    </tr>\n",
       "    <tr>\n",
       "      <th>KfSfKfEr_CMF-Scalar</th>\n",
       "      <td>KfSfKfEr</td>\n",
       "      <td>NaN</td>\n",
       "      <td>NaN</td>\n",
       "      <td>NaN</td>\n",
       "      <td>80</td>\n",
       "      <td>[(26, 38)]</td>\n",
       "      <td>[]</td>\n",
       "      <td>[]</td>\n",
       "      <td>[]</td>\n",
       "      <td>[]</td>\n",
       "      <td>[]</td>\n",
       "      <td>[(66, 78)]</td>\n",
       "      <td>[]</td>\n",
       "    </tr>\n",
       "    <tr>\n",
       "      <th>KrSrSfSr_CMF-Scalar</th>\n",
       "      <td>KrSrSfSr</td>\n",
       "      <td>NaN</td>\n",
       "      <td>NaN</td>\n",
       "      <td>NaN</td>\n",
       "      <td>80</td>\n",
       "      <td>[(46, 58)]</td>\n",
       "      <td>[]</td>\n",
       "      <td>[]</td>\n",
       "      <td>[]</td>\n",
       "      <td>[(26, 38), (66, 78)]</td>\n",
       "      <td>[]</td>\n",
       "      <td>[]</td>\n",
       "      <td>[]</td>\n",
       "    </tr>\n",
       "    <tr>\n",
       "      <th>KfEfSfEf_CMF-Scalar</th>\n",
       "      <td>KfEfSfEf</td>\n",
       "      <td>NaN</td>\n",
       "      <td>NaN</td>\n",
       "      <td>NaN</td>\n",
       "      <td>80</td>\n",
       "      <td>[(46, 58)]</td>\n",
       "      <td>[]</td>\n",
       "      <td>[(26, 38), (66, 78)]</td>\n",
       "      <td>[]</td>\n",
       "      <td>[]</td>\n",
       "      <td>[]</td>\n",
       "      <td>[]</td>\n",
       "      <td>[]</td>\n",
       "    </tr>\n",
       "    <tr>\n",
       "      <th>KfKfErSr_CMF-Scalar</th>\n",
       "      <td>KfKfErSr</td>\n",
       "      <td>NaN</td>\n",
       "      <td>NaN</td>\n",
       "      <td>NaN</td>\n",
       "      <td>80</td>\n",
       "      <td>[]</td>\n",
       "      <td>[]</td>\n",
       "      <td>[]</td>\n",
       "      <td>[]</td>\n",
       "      <td>[(66, 78)]</td>\n",
       "      <td>[]</td>\n",
       "      <td>[(46, 58)]</td>\n",
       "      <td>[]</td>\n",
       "    </tr>\n",
       "  </tbody>\n",
       "</table>\n",
       "</div>"
      ],
      "text/plain": [
       "                       site_1 site_2 site_3 site_4  seq_len  \\\n",
       "Element_id                                                    \n",
       "SrKfSrKr_CMF-Scalar  SrKfSrKr    NaN    NaN    NaN       80   \n",
       "KfSrOfKr_CMF-Scalar  KfSrOfKr    NaN    NaN    NaN       80   \n",
       "EfOrOf_CMF-Scalar      EfOrOf    NaN    NaN    NaN       60   \n",
       "SrKf_CMF-Scalar          SrKf    NaN    NaN    NaN       40   \n",
       "OrKrEf_CMF-Scalar      OrKrEf    NaN    NaN    NaN       60   \n",
       "SfOfSfKf_CMF-Scalar  SfOfSfKf    NaN    NaN    NaN       80   \n",
       "OfOrOfOr_CMF-Scalar  OfOrOfOr    NaN    NaN    NaN       80   \n",
       "KfOrSr_CMF-Scalar      KfOrSr    NaN    NaN    NaN       60   \n",
       "KfSfKfEr_CMF-Scalar  KfSfKfEr    NaN    NaN    NaN       80   \n",
       "KrSrSfSr_CMF-Scalar  KrSrSfSr    NaN    NaN    NaN       80   \n",
       "KfEfSfEf_CMF-Scalar  KfEfSfEf    NaN    NaN    NaN       80   \n",
       "KfKfErSr_CMF-Scalar  KfKfErSr    NaN    NaN    NaN       80   \n",
       "\n",
       "                              sox2_spans         pouf51_spans  \\\n",
       "Element_id                                                      \n",
       "SrKfSrKr_CMF-Scalar                   []                   []   \n",
       "KfSrOfKr_CMF-Scalar                   []           [(46, 58)]   \n",
       "EfOrOf_CMF-Scalar                     []           [(46, 58)]   \n",
       "SrKf_CMF-Scalar                       []                   []   \n",
       "OrKrEf_CMF-Scalar                     []                   []   \n",
       "SfOfSfKf_CMF-Scalar  [(6, 18), (46, 58)]           [(26, 38)]   \n",
       "OfOrOfOr_CMF-Scalar                   []  [(6, 18), (46, 58)]   \n",
       "KfOrSr_CMF-Scalar                     []                   []   \n",
       "KfSfKfEr_CMF-Scalar           [(26, 38)]                   []   \n",
       "KrSrSfSr_CMF-Scalar           [(46, 58)]                   []   \n",
       "KfEfSfEf_CMF-Scalar           [(46, 58)]                   []   \n",
       "KfKfErSr_CMF-Scalar                   []                   []   \n",
       "\n",
       "                              esrrb_spans klf4_spans        sox2_rev_spans  \\\n",
       "Element_id                                                                   \n",
       "SrKfSrKr_CMF-Scalar                    []         []   [(6, 18), (46, 58)]   \n",
       "KfSrOfKr_CMF-Scalar                    []         []            [(26, 38)]   \n",
       "EfOrOf_CMF-Scalar               [(6, 18)]         []                    []   \n",
       "SrKf_CMF-Scalar                        []         []             [(6, 18)]   \n",
       "OrKrEf_CMF-Scalar              [(46, 58)]         []                    []   \n",
       "SfOfSfKf_CMF-Scalar                    []         []                    []   \n",
       "OfOrOfOr_CMF-Scalar                    []         []                    []   \n",
       "KfOrSr_CMF-Scalar                      []         []            [(46, 58)]   \n",
       "KfSfKfEr_CMF-Scalar                    []         []                    []   \n",
       "KrSrSfSr_CMF-Scalar                    []         []  [(26, 38), (66, 78)]   \n",
       "KfEfSfEf_CMF-Scalar  [(26, 38), (66, 78)]         []                    []   \n",
       "KfKfErSr_CMF-Scalar                    []         []            [(66, 78)]   \n",
       "\n",
       "                         pouf51_rev_spans esrrb_rev_spans klf4_rev_spans  \n",
       "Element_id                                                                \n",
       "SrKfSrKr_CMF-Scalar                    []              []             []  \n",
       "KfSrOfKr_CMF-Scalar                    []              []             []  \n",
       "EfOrOf_CMF-Scalar              [(26, 38)]              []             []  \n",
       "SrKf_CMF-Scalar                        []              []             []  \n",
       "OrKrEf_CMF-Scalar               [(6, 18)]              []             []  \n",
       "SfOfSfKf_CMF-Scalar                    []              []             []  \n",
       "OfOrOfOr_CMF-Scalar  [(26, 38), (66, 78)]              []             []  \n",
       "KfOrSr_CMF-Scalar              [(26, 38)]              []             []  \n",
       "KfSfKfEr_CMF-Scalar                    []      [(66, 78)]             []  \n",
       "KrSrSfSr_CMF-Scalar                    []              []             []  \n",
       "KfEfSfEf_CMF-Scalar                    []              []             []  \n",
       "KfKfErSr_CMF-Scalar                    []      [(46, 58)]             []  "
      ]
     },
     "execution_count": 77,
     "metadata": {},
     "output_type": "execute_result"
    }
   ],
   "source": [
    "# Check for those that have a site 2, see if the element IDs match up with the spans for these Scalar seqs, seems to be missing the klf4\n",
    "sdata.seqs_annot[sdata.seqs_annot[\"site_2\"].isna()]"
   ]
  },
  {
   "cell_type": "markdown",
   "metadata": {
    "jp-MarkdownHeadingCollapsed": true,
    "tags": []
   },
   "source": [
    "# Analyze motifs for TFBS"
   ]
  },
  {
   "cell_type": "code",
   "execution_count": 47,
   "metadata": {
    "execution": {
     "iopub.execute_input": "2023-02-06T20:14:10.118459Z",
     "iopub.status.busy": "2023-02-06T20:14:10.118092Z",
     "iopub.status.idle": "2023-02-06T20:14:10.124399Z",
     "shell.execute_reply": "2023-02-06T20:14:10.123253Z",
     "shell.execute_reply.started": "2023-02-06T20:14:10.118425Z"
    },
    "tags": []
   },
   "outputs": [],
   "source": [
    "import motifdata as md\n",
    "from motifdata._Motif import Motif\n",
    "from motifdata._Motif import MotifSet\n",
    "from seqdata._preprocess.encode import decode_seq\n",
    "from seqdata._preprocess.utils import _token2one_hot"
   ]
  },
  {
   "cell_type": "code",
   "execution_count": 29,
   "metadata": {
    "execution": {
     "iopub.execute_input": "2023-02-06T20:11:46.597131Z",
     "iopub.status.busy": "2023-02-06T20:11:46.596723Z",
     "iopub.status.idle": "2023-02-06T20:11:46.602564Z",
     "shell.execute_reply": "2023-02-06T20:11:46.601451Z",
     "shell.execute_reply.started": "2023-02-06T20:11:46.597093Z"
    },
    "tags": []
   },
   "outputs": [],
   "source": [
    "# Define where the motifs downloaded from JASPAR are\n",
    "motif_dir = os.path.join(dataset_dir, \"king20\", \"motifs\")"
   ]
  },
  {
   "cell_type": "code",
   "execution_count": 30,
   "metadata": {
    "execution": {
     "iopub.execute_input": "2023-02-06T20:11:47.657134Z",
     "iopub.status.busy": "2023-02-06T20:11:47.656751Z",
     "iopub.status.idle": "2023-02-06T20:11:47.664777Z",
     "shell.execute_reply": "2023-02-06T20:11:47.663587Z",
     "shell.execute_reply.started": "2023-02-06T20:11:47.657099Z"
    },
    "tags": []
   },
   "outputs": [
    {
     "data": {
      "text/plain": [
       "'AGCTA(C|G)............GT'"
      ]
     },
     "execution_count": 30,
     "metadata": {},
     "output_type": "execute_result"
    }
   ],
   "source": [
    "# Building block - replace all X with .\n",
    "building_block = \"AGCTA(C|G)XXXXXXXXXXXXGT\"\n",
    "building_block = building_block.replace(\"X\", \".\")\n",
    "building_block"
   ]
  },
  {
   "cell_type": "code",
   "execution_count": 36,
   "metadata": {
    "execution": {
     "iopub.execute_input": "2023-02-06T20:12:28.731267Z",
     "iopub.status.busy": "2023-02-06T20:12:28.730875Z",
     "iopub.status.idle": "2023-02-06T20:12:28.738999Z",
     "shell.execute_reply": "2023-02-06T20:12:28.737935Z",
     "shell.execute_reply.started": "2023-02-06T20:12:28.731232Z"
    },
    "tags": []
   },
   "outputs": [],
   "source": [
    "# Test out the load of a motif from MEME\n",
    "klf4_motif = md._io.read_meme(os.path.join(motif_dir, \"MA0039.2.meme\"))"
   ]
  },
  {
   "cell_type": "code",
   "execution_count": 37,
   "metadata": {
    "execution": {
     "iopub.execute_input": "2023-02-06T20:12:28.871246Z",
     "iopub.status.busy": "2023-02-06T20:12:28.870872Z",
     "iopub.status.idle": "2023-02-06T20:12:28.877890Z",
     "shell.execute_reply": "2023-02-06T20:12:28.876722Z",
     "shell.execute_reply.started": "2023-02-06T20:12:28.871211Z"
    },
    "tags": []
   },
   "outputs": [
    {
     "data": {
      "text/plain": [
       "'+ -'"
      ]
     },
     "execution_count": 37,
     "metadata": {},
     "output_type": "execute_result"
    }
   ],
   "source": [
    "# Print the strands\n",
    "klf4_motif.strands"
   ]
  },
  {
   "cell_type": "code",
   "execution_count": 38,
   "metadata": {
    "execution": {
     "iopub.execute_input": "2023-02-06T20:12:29.095886Z",
     "iopub.status.busy": "2023-02-06T20:12:29.095448Z",
     "iopub.status.idle": "2023-02-06T20:12:29.102254Z",
     "shell.execute_reply": "2023-02-06T20:12:29.101082Z",
     "shell.execute_reply.started": "2023-02-06T20:12:29.095852Z"
    },
    "tags": []
   },
   "outputs": [
    {
     "data": {
      "text/plain": [
       "{'MA0039.2': Motif MA0039.2 (Klf4) with 10 positions}"
      ]
     },
     "execution_count": 38,
     "metadata": {},
     "output_type": "execute_result"
    }
   ],
   "source": [
    "# Print the motifs\n",
    "klf4_motif.motifs"
   ]
  },
  {
   "cell_type": "code",
   "execution_count": 40,
   "metadata": {
    "execution": {
     "iopub.execute_input": "2023-02-06T20:12:55.230096Z",
     "iopub.status.busy": "2023-02-06T20:12:55.229538Z",
     "iopub.status.idle": "2023-02-06T20:12:55.329078Z",
     "shell.execute_reply": "2023-02-06T20:12:55.327965Z",
     "shell.execute_reply.started": "2023-02-06T20:12:55.230059Z"
    },
    "tags": []
   },
   "outputs": [],
   "source": [
    "# Now just load directly from Jaspar\n",
    "jaspar_pwms = md._io.load_jaspar(motif_accs=[\"MA0141.1\", \"MA0039.2\", \"MA0142.1\"])"
   ]
  },
  {
   "cell_type": "code",
   "execution_count": 41,
   "metadata": {
    "execution": {
     "iopub.execute_input": "2023-02-06T20:13:00.094304Z",
     "iopub.status.busy": "2023-02-06T20:13:00.093935Z",
     "iopub.status.idle": "2023-02-06T20:13:00.101286Z",
     "shell.execute_reply": "2023-02-06T20:13:00.100218Z",
     "shell.execute_reply.started": "2023-02-06T20:13:00.094268Z"
    }
   },
   "outputs": [
    {
     "data": {
      "text/plain": [
       "{'MA0141.1': Motif MA0141.1 (Esrrb) with 12 positions,\n",
       " 'MA0039.2': Motif MA0039.2 (Klf4) with 10 positions,\n",
       " 'MA0142.1': Motif MA0142.1 (Pou5f1::Sox2) with 15 positions}"
      ]
     },
     "execution_count": 41,
     "metadata": {},
     "output_type": "execute_result"
    }
   ],
   "source": [
    "# Check the motifs\n",
    "jaspar_pwms.motifs"
   ]
  },
  {
   "cell_type": "code",
   "execution_count": 42,
   "metadata": {
    "execution": {
     "iopub.execute_input": "2023-02-06T20:13:15.271534Z",
     "iopub.status.busy": "2023-02-06T20:13:15.271095Z",
     "iopub.status.idle": "2023-02-06T20:13:15.276916Z",
     "shell.execute_reply": "2023-02-06T20:13:15.275809Z",
     "shell.execute_reply.started": "2023-02-06T20:13:15.271467Z"
    }
   },
   "outputs": [],
   "source": [
    "# Grab the POU5F1-SOX2 composite to clean up\n",
    "pouf5f1_sox2_jaspar = jaspar_pwms[\"MA0142.1\"]"
   ]
  },
  {
   "cell_type": "code",
   "execution_count": 45,
   "metadata": {
    "execution": {
     "iopub.execute_input": "2023-02-06T20:13:39.427986Z",
     "iopub.status.busy": "2023-02-06T20:13:39.427576Z",
     "iopub.status.idle": "2023-02-06T20:13:39.434904Z",
     "shell.execute_reply": "2023-02-06T20:13:39.433784Z",
     "shell.execute_reply.started": "2023-02-06T20:13:39.427951Z"
    }
   },
   "outputs": [],
   "source": [
    "# Clean the motifs\n",
    "sox2_jaspar = Motif(\n",
    "    name=\"Sox2\",\n",
    "    identifier= \"Sox2\",\n",
    "    pfm=pouf5f1_sox2_jaspar.pfm[:8],\n",
    "    length=8,\n",
    "    consensus=pouf5f1_sox2_jaspar.consensus[:8],\n",
    ")\n",
    "pouf5f1_jaspar = Motif(\n",
    "    name=\"Pouf5f1\",\n",
    "    identifier= \"Pouf5f1\",\n",
    "    pfm=pouf5f1_sox2_jaspar.pfm[8:],\n",
    "    length=7,\n",
    "    consensus=pouf5f1_sox2_jaspar.consensus[8:],\n",
    ")\n",
    "essrb_jaspar = jaspar_pwms.motifs[\"MA0141.1\"]\n",
    "klf4_jaspar = jaspar_pwms.motifs[\"MA0039.2\"]"
   ]
  },
  {
   "cell_type": "code",
   "execution_count": 48,
   "metadata": {
    "execution": {
     "iopub.execute_input": "2023-02-06T20:14:12.256082Z",
     "iopub.status.busy": "2023-02-06T20:14:12.255699Z",
     "iopub.status.idle": "2023-02-06T20:14:12.262559Z",
     "shell.execute_reply": "2023-02-06T20:14:12.261183Z",
     "shell.execute_reply.started": "2023-02-06T20:14:12.256046Z"
    },
    "tags": []
   },
   "outputs": [],
   "source": [
    "# Generate a motif set\n",
    "motif_dict = {\n",
    "    \"Sox2\": sox2_jaspar,\n",
    "    \"Pouf5f1\": pouf5f1_jaspar,\n",
    "    \"Essrb\": essrb_jaspar,\n",
    "    \"Klf4\": klf4_jaspar,\n",
    "}\n",
    "motif_set = MotifSet(\n",
    "    motifs=motif_dict,\n",
    "    alphabet=\"ACGT\",\n",
    "    background={'A': 0.25, 'C': 0.25, 'G': 0.25, 'T': 0.25},\n",
    "    strands='+ -',\n",
    "    version=\"4\"\n",
    ")"
   ]
  },
  {
   "cell_type": "code",
   "execution_count": 49,
   "metadata": {
    "execution": {
     "iopub.execute_input": "2023-02-06T20:14:27.402249Z",
     "iopub.status.busy": "2023-02-06T20:14:27.401879Z",
     "iopub.status.idle": "2023-02-06T20:14:27.414758Z",
     "shell.execute_reply": "2023-02-06T20:14:27.413335Z",
     "shell.execute_reply.started": "2023-02-06T20:14:27.402214Z"
    }
   },
   "outputs": [
    {
     "name": "stdout",
     "output_type": "stream",
     "text": [
      "Saved pfm in MEME format as: /cellar/users/aklie/data/eugene/king20/motifs/all_pwms.meme\n"
     ]
    }
   ],
   "source": [
    "# Write the set to a file\n",
    "md._io.write_meme(motif_set, os.path.join(motif_dir, \"all_pwms.meme\"))"
   ]
  },
  {
   "cell_type": "code",
   "execution_count": 50,
   "metadata": {
    "execution": {
     "iopub.execute_input": "2023-02-06T20:14:36.106353Z",
     "iopub.status.busy": "2023-02-06T20:14:36.106019Z",
     "iopub.status.idle": "2023-02-06T20:14:36.112416Z",
     "shell.execute_reply": "2023-02-06T20:14:36.111158Z",
     "shell.execute_reply.started": "2023-02-06T20:14:36.106321Z"
    }
   },
   "outputs": [
    {
     "name": "stdout",
     "output_type": "stream",
     "text": [
      "CTTTGTTA\n",
      "TGCAAAT\n",
      "AGCTCAAGGTCA\n",
      "TGGGTGGGGC\n"
     ]
    }
   ],
   "source": [
    "# Print out the consensus motifs\n",
    "print(sox2_jaspar.consensus)\n",
    "print(pouf5f1_jaspar.consensus)\n",
    "print(essrb_jaspar.consensus)\n",
    "print(klf4_jaspar.consensus)"
   ]
  },
  {
   "cell_type": "code",
   "execution_count": 10,
   "metadata": {
    "execution": {
     "iopub.execute_input": "2022-11-20T17:43:54.362431Z",
     "iopub.status.busy": "2022-11-20T17:43:54.362038Z",
     "iopub.status.idle": "2022-11-20T18:13:17.890406Z",
     "shell.execute_reply": "2022-11-20T18:13:17.889101Z",
     "shell.execute_reply.started": "2022-11-20T17:43:54.362387Z"
    },
    "tags": []
   },
   "outputs": [
    {
     "name": "stdout",
     "output_type": "stream",
     "text": [
      "Downloading king20 design spreadsheet to /cellar/users/aklie/data/eugene/king20/design.xlsx\n",
      "Finished downloading king20 design spreadsheet to /cellar/users/aklie/data/eugene/king20/design.xlsx\n",
      "Downloading king20 model spreadsheet to /cellar/users/aklie/data/eugene/king20/models.xlsx\n",
      "Finished downloading king20 spreadsheet to /cellar/users/aklie/data/eugene/king20/models.xlsx\n"
     ]
    }
   ],
   "source": [
    "sdata = king20(\"SYN\", dataset_dir=dataset_dir, return_sdata=True)"
   ]
  },
  {
   "cell_type": "markdown",
   "metadata": {
    "jp-MarkdownHeadingCollapsed": true,
    "tags": []
   },
   "source": [
    "# Test scanning Sox2 ChIP peaks for Sox2 motifs defined above"
   ]
  },
  {
   "cell_type": "code",
   "execution_count": 79,
   "metadata": {
    "execution": {
     "iopub.execute_input": "2023-02-06T20:26:24.536875Z",
     "iopub.status.busy": "2023-02-06T20:26:24.536545Z",
     "iopub.status.idle": "2023-02-06T20:26:24.541361Z",
     "shell.execute_reply": "2023-02-06T20:26:24.540312Z",
     "shell.execute_reply.started": "2023-02-06T20:26:24.536847Z"
    }
   },
   "outputs": [],
   "source": [
    "import os\n",
    "import sys"
   ]
  },
  {
   "cell_type": "code",
   "execution_count": null,
   "metadata": {},
   "outputs": [],
   "source": [
    "!wget wget https://ftp.ncbi.nlm.nih.gov/geo/series/GSE11nnn/GSE11431/suppl/GSE11431_readme.txt\n",
    "!wget https://www.ncbi.nlm.nih.gov/geo/query/acc.cgi?acc=GSE11431"
   ]
  },
  {
   "cell_type": "markdown",
   "metadata": {
    "jp-MarkdownHeadingCollapsed": true,
    "tags": []
   },
   "source": [
    "## Step 1: Liftover peak regions coordinates from mm8 to mm10\n",
    "More detailed directions on how to get this set-up on your machine can be found on the Notion."
   ]
  },
  {
   "cell_type": "code",
   "execution_count": null,
   "metadata": {},
   "outputs": [],
   "source": [
    "!wget http://hgdownload.cse.ucsc.edu/admin/exe/linux.x86_64/liftOver -O /cellar/users/aklie/opt/ucsc/liftOver\n",
    "!wget https://hgdownload.soe.ucsc.edu/goldenPath/mm8/liftOver/mm8ToMm10.over.chain.gz -O /cellar/users/aklie/opt/ucsc/mm8ToMm10.over.chain.gz"
   ]
  },
  {
   "cell_type": "code",
   "execution_count": 6,
   "metadata": {},
   "outputs": [
    {
     "name": "stdout",
     "output_type": "stream",
     "text": [
      "/cellar/users/aklie/opt/ucsc/liftOver /cellar/users/aklie/data/eugene/king20/GSE11431/GSM288347_Sox2.bed /cellar/users/aklie/opt/ucsc/mm8ToMm10.over.chain.gz /cellar/users/aklie/data/eugene/king20/GSE11431/GSM288347_Sox2_mm10.bed /cellar/users/aklie/data/eugene/king20/GSE11431/GSM288347_Sox2_mm10_unmapped.bed\n"
     ]
    }
   ],
   "source": [
    "%%bash\n",
    "lo_path=/cellar/users/aklie/opt/ucsc/liftOver\n",
    "chain_path=/cellar/users/aklie/opt/ucsc/mm8ToMm10.over.chain.gz\n",
    "prebed_path=/cellar/users/aklie/data/eugene/king20/GSE11431/GSM288347_Sox2.bed\n",
    "postbed_path=/cellar/users/aklie/data/eugene/king20/GSE11431/GSM288347_Sox2_mm10.bed\n",
    "unmapped_path=/cellar/users/aklie/data/eugene/king20/GSE11431/GSM288347_Sox2_mm10_unmapped.bed\n",
    "echo $lo_path $prebed_path $chain_path $postbed_path $unmapped_path"
   ]
  },
  {
   "cell_type": "markdown",
   "metadata": {
    "jp-MarkdownHeadingCollapsed": true,
    "tags": []
   },
   "source": [
    "## Step 2: Extend peaks and remove blacklisted regions"
   ]
  },
  {
   "cell_type": "code",
   "execution_count": null,
   "metadata": {},
   "outputs": [],
   "source": [
    "!wget http://hgdownload.cse.ucsc.edu/goldenpath/mm10/bigZips/mm10.chrom.sizes -O data/mm10.chrom.sizes\n",
    "!wget https://github.com/Boyle-Lab/Blacklist/raw/master/lists/mm10-blacklist.v2.bed.gz -O data/mm10-blacklist.v2.bed.gz\n",
    "!wget http://hgdownload.cse.ucsc.edu/goldenpath/mm10/bigZips/mm10.fa.gz -O data/mm10.fa.gz\n",
    "!gunzip data/mm10-blacklist.v2.bed.gz\n",
    "!gunzip data/mm10.fa.gz"
   ]
  },
  {
   "cell_type": "code",
   "execution_count": 80,
   "metadata": {
    "execution": {
     "iopub.execute_input": "2023-02-06T20:26:26.083369Z",
     "iopub.status.busy": "2023-02-06T20:26:26.083059Z",
     "iopub.status.idle": "2023-02-06T20:26:43.648268Z",
     "shell.execute_reply": "2023-02-06T20:26:43.646551Z",
     "shell.execute_reply.started": "2023-02-06T20:26:26.083341Z"
    },
    "tags": []
   },
   "outputs": [],
   "source": [
    "# Have to do this to get pybedtols to work\n",
    "bin_dir = os.path.dirname(sys.executable)\n",
    "os.environ[\"PATH\"] += os.pathsep + bin_dir\n",
    "from pybedtools import paths\n",
    "paths._set_bedtools_path(bin_dir)\n",
    "from pybedtools import BedTool"
   ]
  },
  {
   "cell_type": "code",
   "execution_count": 81,
   "metadata": {
    "execution": {
     "iopub.execute_input": "2023-02-06T20:26:43.650964Z",
     "iopub.status.busy": "2023-02-06T20:26:43.650548Z",
     "iopub.status.idle": "2023-02-06T20:26:43.656368Z",
     "shell.execute_reply": "2023-02-06T20:26:43.655378Z",
     "shell.execute_reply.started": "2023-02-06T20:26:43.650929Z"
    }
   },
   "outputs": [],
   "source": [
    "# Get the bed file path\n",
    "peaks_dir = os.path.join(dataset_dir, \"king20\", \"GSE11431\")\n",
    "sox2_bed = os.path.join(peaks_dir, \"GSM288347_Sox2.bed.gz\")"
   ]
  },
  {
   "cell_type": "code",
   "execution_count": 82,
   "metadata": {
    "execution": {
     "iopub.execute_input": "2023-02-06T20:27:03.392477Z",
     "iopub.status.busy": "2023-02-06T20:27:03.391753Z",
     "iopub.status.idle": "2023-02-06T20:27:13.789622Z",
     "shell.execute_reply": "2023-02-06T20:27:13.788336Z",
     "shell.execute_reply.started": "2023-02-06T20:27:03.392433Z"
    }
   },
   "outputs": [
    {
     "name": "stdout",
     "output_type": "stream",
     "text": [
      "chr1\t3011454\t3011479\t0\t0\t+\n",
      " chr1\t3011556\t3011581\t0\t0\t+\n",
      " chr1\t3012228\t3012253\t0\t0\t-\n",
      " chr1\t3012409\t3012434\t0\t0\t+\n",
      " chr1\t3012677\t3012702\t0\t0\t+\n",
      " chr1\t3013081\t3013106\t0\t0\t+\n",
      " chr1\t3013224\t3013249\t0\t0\t-\n",
      " chr1\t3013732\t3013757\t0\t0\t+\n",
      " chr1\t3014445\t3014470\t0\t0\t+\n",
      " chr1\t3018959\t3018984\t0\t0\t+\n",
      " "
     ]
    }
   ],
   "source": [
    "# Create a bed tool object\n",
    "sox2_chip = BedTool(os.path.join(peaks_dir, \"GSM288347_Sox2_mm10.bed\"))\n",
    "sox2_chip.sort().head()"
   ]
  },
  {
   "cell_type": "code",
   "execution_count": 15,
   "metadata": {},
   "outputs": [
    {
     "data": {
      "text/plain": [
       "<BedTool(/cellar/users/aklie/data/eugene/king20/GSE11431/GSM288347_Sox2_mm10_100bp.bed)>"
      ]
     },
     "execution_count": 15,
     "metadata": {},
     "output_type": "execute_result"
    }
   ],
   "source": [
    "# Extend each peak 100bp, remove blacklisted regions and save to new bed\n",
    "sox2_chip.slop(b=100, g=\"/cellar/users/aklie/data/eugene/king20/mm10.chrom.sizes\") \\\n",
    ".sort().merge().subtract(\"/cellar/users/aklie/data/eugene/king20/mm10-blacklist.v2.bed\") \\\n",
    ".saveas(os.path.join(peaks_dir, \"GSM288347_Sox2_mm10_100bp.bed\"))"
   ]
  },
  {
   "cell_type": "code",
   "execution_count": null,
   "metadata": {},
   "outputs": [],
   "source": [
    "# Convert bed to fasta\n",
    "BedTool(os.path.join(peaks_dir, \"GSM288347_Sox2_mm10_100bp.bed\")) \\\n",
    ".sequence(fi=os.path.join(dataset_dir, \"mm10.fa\")), \\\n",
    ".save_seqs(os.path.join(peaks_dir, \"GSM288347_Sox2_mm10_100bp.fa\")"
   ]
  },
  {
   "cell_type": "markdown",
   "metadata": {
    "jp-MarkdownHeadingCollapsed": true,
    "tags": []
   },
   "source": [
    "## Step 3: Run FIMO on these regions with motifs"
   ]
  },
  {
   "cell_type": "code",
   "execution_count": 22,
   "metadata": {},
   "outputs": [
    {
     "name": "stdout",
     "output_type": "stream",
     "text": [
      "/cellar/users/aklie/opt/meme/bin/fimo --thresh 1e-3 /cellar/users/aklie/opt/meme/bin/fimo /cellar/users/aklie/data/eugene/king20/motifs/all_pwms.meme /cellar/users/aklie/data/eugene/king20/GSE11431/GSM288347_Sox2_mm10_100bp.fa\n"
     ]
    }
   ],
   "source": [
    "%%bash\n",
    "fimo_path=/cellar/users/aklie/opt/meme/bin/fimo\n",
    "motif_path=/cellar/users/aklie/data/eugene/king20/motifs/all_pwms.meme\n",
    "fasta_path=/cellar/users/aklie/data/eugene/king20/GSE11431/GSM288347_Sox2_mm10_100bp.fa\n",
    "output_dir=/cellar/users/aklie/data/eugene/king20/fimo\n",
    "echo $fimo_path--thresh 1e-3 --o $output_dir $motif_path $fasta_path"
   ]
  },
  {
   "cell_type": "markdown",
   "metadata": {
    "jp-MarkdownHeadingCollapsed": true,
    "tags": []
   },
   "source": [
    "# EUGENe analysis"
   ]
  },
  {
   "cell_type": "code",
   "execution_count": 5,
   "metadata": {
    "execution": {
     "iopub.execute_input": "2023-02-06T21:45:37.788702Z",
     "iopub.status.busy": "2023-02-06T21:45:37.788182Z",
     "iopub.status.idle": "2023-02-06T21:45:38.022707Z",
     "shell.execute_reply": "2023-02-06T21:45:38.021447Z",
     "shell.execute_reply.started": "2023-02-06T21:45:37.788664Z"
    },
    "tags": []
   },
   "outputs": [],
   "source": [
    "import sys\n",
    "sys.path.append(\"/cellar/users/aklie/projects/use_cases/king20/\")\n",
    "from utils import *\n",
    "import eugene as eu"
   ]
  },
  {
   "cell_type": "code",
   "execution_count": 6,
   "metadata": {
    "execution": {
     "iopub.execute_input": "2023-02-06T21:45:38.323888Z",
     "iopub.status.busy": "2023-02-06T21:45:38.323350Z",
     "iopub.status.idle": "2023-02-06T21:45:38.330177Z",
     "shell.execute_reply": "2023-02-06T21:45:38.328641Z",
     "shell.execute_reply.started": "2023-02-06T21:45:38.323849Z"
    },
    "tags": []
   },
   "outputs": [],
   "source": [
    "dataset_dir = \"/cellar/users/aklie/data/eugene/\""
   ]
  },
  {
   "cell_type": "code",
   "execution_count": 7,
   "metadata": {
    "execution": {
     "iopub.execute_input": "2023-02-06T21:45:38.333033Z",
     "iopub.status.busy": "2023-02-06T21:45:38.332455Z",
     "iopub.status.idle": "2023-02-06T21:45:41.704336Z",
     "shell.execute_reply": "2023-02-06T21:45:41.703205Z",
     "shell.execute_reply.started": "2023-02-06T21:45:38.332997Z"
    },
    "tags": []
   },
   "outputs": [
    {
     "name": "stdout",
     "output_type": "stream",
     "text": [
      "Design spreadsheet already exists at /cellar/users/aklie/data/eugene/king20/design.xlsx\n",
      "Model spreadsheet already exists at /cellar/users/aklie/data/eugene/king20/models.xlsx\n"
     ]
    }
   ],
   "source": [
    "sdata = king20(dataset=\"SYN\", dataset_dir=dataset_dir)"
   ]
  },
  {
   "cell_type": "code",
   "execution_count": 8,
   "metadata": {
    "execution": {
     "iopub.execute_input": "2023-02-06T21:45:44.247142Z",
     "iopub.status.busy": "2023-02-06T21:45:44.246741Z",
     "iopub.status.idle": "2023-02-06T21:45:44.262299Z",
     "shell.execute_reply": "2023-02-06T21:45:44.261067Z",
     "shell.execute_reply.started": "2023-02-06T21:45:44.247098Z"
    }
   },
   "outputs": [
    {
     "data": {
      "text/plain": [
       "SeqData object with = 637 seqs\n",
       "seqs = (637,)\n",
       "names = (637,)\n",
       "rev_seqs = None\n",
       "ohe_seqs = None\n",
       "ohe_rev_seqs = None\n",
       "seqs_annot: 'Element_id_simplified', 'Class', 'CRE_normalized_mean', 'O_presence', 'S_presence', 'K_presence', 'E_presence', 'Position.4_O', 'Position.4_S', 'Position.4_K', 'Position.4_E', 'Position.3_O', 'Position.3_S', 'Position.3_K', 'Position.3_E', 'Position.2_O', 'Position.2_S', 'Position.2_K', 'Position.2_E', 'Position.1_O', 'Position.1_S', 'Position.1_K', 'Position.1_E'\n",
       "pos_annot: None\n",
       "seqsm: None\n",
       "uns: None"
      ]
     },
     "execution_count": 8,
     "metadata": {},
     "output_type": "execute_result"
    }
   ],
   "source": [
    "sdata"
   ]
  },
  {
   "cell_type": "markdown",
   "metadata": {
    "jp-MarkdownHeadingCollapsed": true,
    "tags": []
   },
   "source": [
    "## Data Visualization"
   ]
  },
  {
   "cell_type": "code",
   "execution_count": 14,
   "metadata": {
    "execution": {
     "iopub.execute_input": "2023-02-06T21:47:32.888574Z",
     "iopub.status.busy": "2023-02-06T21:47:32.888086Z",
     "iopub.status.idle": "2023-02-06T21:47:32.897350Z",
     "shell.execute_reply": "2023-02-06T21:47:32.896008Z",
     "shell.execute_reply.started": "2023-02-06T21:47:32.888530Z"
    },
    "tags": []
   },
   "outputs": [],
   "source": [
    "sdata = sdata[~np.array([seq is np.nan for seq in sdata.seqs])]"
   ]
  },
  {
   "cell_type": "code",
   "execution_count": 15,
   "metadata": {
    "execution": {
     "iopub.execute_input": "2023-02-06T21:47:33.832660Z",
     "iopub.status.busy": "2023-02-06T21:47:33.832162Z",
     "iopub.status.idle": "2023-02-06T21:47:33.839789Z",
     "shell.execute_reply": "2023-02-06T21:47:33.838296Z",
     "shell.execute_reply.started": "2023-02-06T21:47:33.832624Z"
    },
    "tags": []
   },
   "outputs": [],
   "source": [
    "# Get seq lens\n",
    "seq_len_sdata(sdata)"
   ]
  },
  {
   "cell_type": "code",
   "execution_count": 16,
   "metadata": {
    "execution": {
     "iopub.execute_input": "2023-02-06T21:47:34.758357Z",
     "iopub.status.busy": "2023-02-06T21:47:34.757811Z",
     "iopub.status.idle": "2023-02-06T21:47:35.672144Z",
     "shell.execute_reply": "2023-02-06T21:47:35.671058Z",
     "shell.execute_reply.started": "2023-02-06T21:47:34.758308Z"
    },
    "tags": []
   },
   "outputs": [
    {
     "data": {
      "image/png": "[encoded data removed]",
      "text/plain": [
       "<Figure size 720x360 with 1 Axes>"
      ]
     },
     "metadata": {
      "needs_background": "light"
     },
     "output_type": "display_data"
    }
   ],
   "source": [
    "# Add this to some kind of preprocess seqs or seqs metrics\n",
    "eu.pl.histplot(\n",
    "    sdata, \n",
    "    keys=\"seq_len\", \n",
    "    orient=\"h\"\n",
    ")"
   ]
  },
  {
   "cell_type": "code",
   "execution_count": 17,
   "metadata": {
    "execution": {
     "iopub.execute_input": "2023-02-06T21:47:36.249344Z",
     "iopub.status.busy": "2023-02-06T21:47:36.249000Z",
     "iopub.status.idle": "2023-02-06T21:47:36.845166Z",
     "shell.execute_reply": "2023-02-06T21:47:36.844120Z",
     "shell.execute_reply.started": "2023-02-06T21:47:36.249310Z"
    },
    "tags": []
   },
   "outputs": [
    {
     "name": "stdout",
     "output_type": "stream",
     "text": [
      "12\n"
     ]
    },
    {
     "data": {
      "image/png": "[encoded data removed]",
      "text/plain": [
       "<Figure size 1000x500 with 1 Axes>"
      ]
     },
     "metadata": {},
     "output_type": "display_data"
    }
   ],
   "source": [
    "# Chceck the potential target to start\n",
    "eu.pl.histplot(\n",
    "    sdata,\n",
    "    keys=\"CRE_normalized_mean\",\n",
    "    orient=\"h\"\n",
    ")\n",
    "print(sdata[\"CRE_normalized_mean\"].isna().sum())"
   ]
  },
  {
   "cell_type": "markdown",
   "metadata": {
    "jp-MarkdownHeadingCollapsed": true,
    "tags": []
   },
   "source": [
    "## Preprocessing"
   ]
  },
  {
   "cell_type": "code",
   "execution_count": 18,
   "metadata": {
    "execution": {
     "iopub.execute_input": "2023-02-06T21:47:38.607071Z",
     "iopub.status.busy": "2023-02-06T21:47:38.606659Z",
     "iopub.status.idle": "2023-02-06T21:47:38.684352Z",
     "shell.execute_reply": "2023-02-06T21:47:38.683213Z",
     "shell.execute_reply.started": "2023-02-06T21:47:38.607032Z"
    },
    "tags": []
   },
   "outputs": [
    {
     "data": {
      "application/vnd.jupyter.widget-view+json": {
       "model_id": "4b1b3e250c2e432d992ca67c4601bc5b",
       "version_major": 2,
       "version_minor": 0
      },
      "text/plain": [
       "One-hot encoding sequences:   0%|          | 0/636 [00:00<?, ?it/s]"
      ]
     },
     "metadata": {},
     "output_type": "display_data"
    },
    {
     "name": "stdout",
     "output_type": "stream",
     "text": [
      "SeqData object modified:\n",
      "\tohe_seqs: None -> 636 ohe_seqs added\n"
     ]
    }
   ],
   "source": [
    "# One-hot-encode, though this is no bueno\n",
    "eu.pp.ohe_seqs_sdata(sdata, maxlen=sdata[\"seq_len\"].max())"
   ]
  },
  {
   "cell_type": "code",
   "execution_count": 19,
   "metadata": {
    "execution": {
     "iopub.execute_input": "2023-02-06T21:47:40.247341Z",
     "iopub.status.busy": "2023-02-06T21:47:40.246956Z",
     "iopub.status.idle": "2023-02-06T21:47:40.254844Z",
     "shell.execute_reply": "2023-02-06T21:47:40.253286Z",
     "shell.execute_reply.started": "2023-02-06T21:47:40.247304Z"
    },
    "tags": []
   },
   "outputs": [],
   "source": [
    "# Add function registry for normalization\n",
    "sdata[\"log_CRE_normalized_mean\"] = np.log2(sdata[\"CRE_normalized_mean\"])"
   ]
  },
  {
   "cell_type": "code",
   "execution_count": 20,
   "metadata": {
    "execution": {
     "iopub.execute_input": "2023-02-06T21:47:41.461394Z",
     "iopub.status.busy": "2023-02-06T21:47:41.461005Z",
     "iopub.status.idle": "2023-02-06T21:47:42.386569Z",
     "shell.execute_reply": "2023-02-06T21:47:42.385363Z",
     "shell.execute_reply.started": "2023-02-06T21:47:41.461343Z"
    },
    "tags": []
   },
   "outputs": [
    {
     "data": {
      "image/png": "[encoded data removed]",
      "text/plain": [
       "<Figure size 1000x500 with 1 Axes>"
      ]
     },
     "metadata": {},
     "output_type": "display_data"
    }
   ],
   "source": [
    "# Check log normalization\n",
    "eu.pl.histplot(\n",
    "    sdata,\n",
    "    keys=\"log_CRE_normalized_mean\",\n",
    "    orient=\"h\",\n",
    "    bins=100\n",
    ")"
   ]
  },
  {
   "cell_type": "code",
   "execution_count": 21,
   "metadata": {
    "execution": {
     "iopub.execute_input": "2023-02-06T21:47:43.255241Z",
     "iopub.status.busy": "2023-02-06T21:47:43.254838Z",
     "iopub.status.idle": "2023-02-06T21:47:43.271129Z",
     "shell.execute_reply": "2023-02-06T21:47:43.270045Z",
     "shell.execute_reply.started": "2023-02-06T21:47:43.255200Z"
    },
    "tags": []
   },
   "outputs": [],
   "source": [
    "# Clean up features to use\n",
    "sdata.seqs_annot = sdata.seqs_annot.replace({True: 1, False: 0})"
   ]
  },
  {
   "cell_type": "code",
   "execution_count": 22,
   "metadata": {
    "execution": {
     "iopub.execute_input": "2023-02-06T21:47:44.255033Z",
     "iopub.status.busy": "2023-02-06T21:47:44.254633Z",
     "iopub.status.idle": "2023-02-06T21:47:44.265926Z",
     "shell.execute_reply": "2023-02-06T21:47:44.264557Z",
     "shell.execute_reply.started": "2023-02-06T21:47:44.254997Z"
    },
    "tags": []
   },
   "outputs": [
    {
     "name": "stdout",
     "output_type": "stream",
     "text": [
      "SeqData object modified:\n",
      "    seqs_annot:\n",
      "        + train_val\n"
     ]
    }
   ],
   "source": [
    "eu.pp.train_test_split_sdata(sdata, split=0.5)"
   ]
  },
  {
   "cell_type": "code",
   "execution_count": 23,
   "metadata": {
    "execution": {
     "iopub.execute_input": "2023-02-06T21:47:45.374166Z",
     "iopub.status.busy": "2023-02-06T21:47:45.373775Z",
     "iopub.status.idle": "2023-02-06T21:47:45.382674Z",
     "shell.execute_reply": "2023-02-06T21:47:45.381027Z",
     "shell.execute_reply.started": "2023-02-06T21:47:45.374129Z"
    },
    "tags": []
   },
   "outputs": [],
   "source": [
    "nan_mask = np.isnan(sdata[\"log_CRE_normalized_mean\"])\n",
    "sdata = sdata[~nan_mask]"
   ]
  },
  {
   "cell_type": "code",
   "execution_count": 24,
   "metadata": {
    "execution": {
     "iopub.execute_input": "2023-02-06T21:47:45.853449Z",
     "iopub.status.busy": "2023-02-06T21:47:45.853104Z",
     "iopub.status.idle": "2023-02-06T21:47:45.860730Z",
     "shell.execute_reply": "2023-02-06T21:47:45.859455Z",
     "shell.execute_reply.started": "2023-02-06T21:47:45.853415Z"
    },
    "tags": []
   },
   "outputs": [
    {
     "data": {
      "text/plain": [
       "SeqData object with = 624 seqs\n",
       "seqs = (624,)\n",
       "names = (624,)\n",
       "rev_seqs = None\n",
       "ohe_seqs = (624, 4, 80)\n",
       "ohe_rev_seqs = None\n",
       "seqs_annot: 'Element_id_simplified', 'Class', 'CRE_normalized_mean', 'O_presence', 'S_presence', 'K_presence', 'E_presence', 'Position.4_O', 'Position.4_S', 'Position.4_K', 'Position.4_E', 'Position.3_O', 'Position.3_S', 'Position.3_K', 'Position.3_E', 'Position.2_O', 'Position.2_S', 'Position.2_K', 'Position.2_E', 'Position.1_O', 'Position.1_S', 'Position.1_K', 'Position.1_E', 'seq_len', 'log_CRE_normalized_mean', 'train_val'\n",
       "pos_annot: None\n",
       "seqsm: None\n",
       "uns: None"
      ]
     },
     "execution_count": 24,
     "metadata": {},
     "output_type": "execute_result"
    }
   ],
   "source": [
    "sdata"
   ]
  },
  {
   "cell_type": "markdown",
   "metadata": {},
   "source": [
    "# DONE!"
   ]
  },
  {
   "cell_type": "markdown",
   "metadata": {},
   "source": [
    "---"
   ]
  }
 ],
 "metadata": {
  "kernelspec": {
   "display_name": "Python 3.7 eugene_dev",
   "language": "python",
   "name": "eugene_dev"
  },
  "language_info": {
   "codemirror_mode": {
    "name": "ipython",
    "version": 3
   },
   "file_extension": ".py",
   "mimetype": "text/x-python",
   "name": "python",
   "nbconvert_exporter": "python",
   "pygments_lexer": "ipython3",
   "version": "3.7.12"
  },
  "vscode": {
   "interpreter": {
    "hash": "949777d72b0d2535278d3dc13498b2535136f6dfe0678499012e853ee9abcab1"
   }
  }
 },
 "nbformat": 4,
 "nbformat_minor": 4
}
