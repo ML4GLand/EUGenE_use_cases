{
 "cells": [
  {
   "attachments": {},
   "cell_type": "markdown",
   "metadata": {},
   "source": [
    "# Testing EUGENe Basenji2 Inference\n",
    "**Authorship:**\n",
    "Adam Klie (last updated: *09/21/2023*)\n",
    "***\n",
    "**Description:**\n",
    "This notebook is a work in progress, currently generating the proper environment for testing the Basenji repo models for inference. Once the environment is set up, we will test the models on a small example dataset."
   ]
  },
  {
   "attachments": {},
   "cell_type": "markdown",
   "metadata": {},
   "source": [
    "# Set-up"
   ]
  },
  {
   "cell_type": "code",
   "execution_count": null,
   "metadata": {},
   "outputs": [],
   "source": [
    "import eugene\n",
    "import torch\n",
    "import json\n",
    "import lightning.pytorch as pl\n",
    "import xarray as xr\n",
    "import numpy as np"
   ]
  },
  {
   "attachments": {},
   "cell_type": "markdown",
   "metadata": {},
   "source": [
    "# Load data into SeqData xarray"
   ]
  },
  {
   "cell_type": "code",
   "execution_count": null,
   "metadata": {},
   "outputs": [],
   "source": [
    "import os, wget\n",
    "if not os.path.exists(\"test-sample.pt\"):\n",
    "    wget.download(\"https://github.com/lucidrains/enformer-pytorch/raw/main/data/test-sample.pt\")"
   ]
  },
  {
   "cell_type": "code",
   "execution_count": null,
   "metadata": {},
   "outputs": [],
   "source": [
    "data = torch.load(\"test-sample.pt\")"
   ]
  },
  {
   "cell_type": "code",
   "execution_count": null,
   "metadata": {},
   "outputs": [],
   "source": [
    "seq = data[\"sequence\"].cpu().numpy()[np.newaxis, :, :]\n",
    "target = data[\"target\"].cpu().numpy()\n",
    "sdata = xr.Dataset(\n",
    "    data_vars=dict(\n",
    "        ohe_seq=([\"_sequence\", \"length\", \"_ohe\"], seq),\n",
    "        target=([\"target_length\", \"_targets\"], target),\n",
    "        train_val=([\"_sequence\"], [True])\n",
    "    ),\n",
    "    attrs=dict(max_jitter=0),\n",
    ")"
   ]
  },
  {
   "attachments": {},
   "cell_type": "markdown",
   "metadata": {},
   "source": [
    "# Set up model using Basenji2"
   ]
  },
  {
   "cell_type": "code",
   "execution_count": null,
   "metadata": {},
   "outputs": [],
   "source": [
    "# Change basenji2-pytorch-main to basenji2 and add __init__.py\n",
    "from basenji2.basenji2_pytorch import Basenji2, params"
   ]
  },
  {
   "cell_type": "code",
   "execution_count": null,
   "metadata": {},
   "outputs": [],
   "source": [
    "model_weights = \"basenji2.pth\"\n",
    "\n",
    "with open(params) as params_open:\n",
    "    model_params = json.load(params_open)[\"model\"]\n",
    "\n",
    "basenji2 = Basenji2(model_params)\n",
    "basenji2.load_state_dict(torch.load(model_weights), strict=False)\n",
    "basenji2 = basenji2.cpu()"
   ]
  },
  {
   "cell_type": "code",
   "execution_count": null,
   "metadata": {},
   "outputs": [],
   "source": [
    "class Basenji2Wrap(torch.nn.Module):\n",
    "    def __init__(self):\n",
    "        super().__init__()\n",
    "        self.model = basenji2\n",
    "        self.input_len = sdata[\"ohe_seq\"].values.shape[1]\n",
    "        self.output_dim = [1024]\n",
    "\n",
    "    def forward(self, x):\n",
    "        print(x.shape)\n",
    "        x = np.transpose(np.squeeze(x))\n",
    "        print(x.shape)\n",
    "        return self.model(x)"
   ]
  },
  {
   "cell_type": "code",
   "execution_count": null,
   "metadata": {},
   "outputs": [],
   "source": [
    "from eugene.models import SequenceModule\n",
    "model = SequenceModule(\n",
    "    arch = Basenji2Wrap()\n",
    ")"
   ]
  },
  {
   "cell_type": "code",
   "execution_count": null,
   "metadata": {},
   "outputs": [],
   "source": [
    "model.summary()"
   ]
  },
  {
   "attachments": {},
   "cell_type": "markdown",
   "metadata": {},
   "source": [
    "# Test model"
   ]
  },
  {
   "cell_type": "code",
   "execution_count": null,
   "metadata": {},
   "outputs": [],
   "source": [
    "out = model.predict(x = sdata[\"ohe_seq\"].values)"
   ]
  },
  {
   "attachments": {},
   "cell_type": "markdown",
   "metadata": {},
   "source": [
    "# DONE!"
   ]
  },
  {
   "attachments": {},
   "cell_type": "markdown",
   "metadata": {},
   "source": [
    "---"
   ]
  }
 ],
 "metadata": {
  "kernelspec": {
   "display_name": "base",
   "language": "python",
   "name": "python3"
  },
  "language_info": {
   "codemirror_mode": {
    "name": "ipython",
    "version": 3
   },
   "file_extension": ".py",
   "mimetype": "text/x-python",
   "name": "python",
   "nbconvert_exporter": "python",
   "pygments_lexer": "ipython3",
   "version": "3.10.9"
  },
  "orig_nbformat": 4
 },
 "nbformat": 4,
 "nbformat_minor": 2
}
