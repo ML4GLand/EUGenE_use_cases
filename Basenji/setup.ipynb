{
 "cells": [
  {
   "attachments": {},
   "cell_type": "markdown",
   "metadata": {},
   "source": [
    "# Installation and download to work with Basenji models\n",
    "**Authorship:**\n",
    "Adam Klie (last updated: *07/19/2023*)\n",
    "***\n",
    "**Description:**\n",
    "Set-up computational environments and data for working with Basenji models from multiple sources.\n",
    "\n",
    "- David Kelley's [Basenji]() repository\n",
    "- David Laub's [basenji2-pytorch]() repository\n",
    "- Kipoi's [Basenji]() model\n",
    "***"
   ]
  },
  {
   "attachments": {},
   "cell_type": "markdown",
   "metadata": {},
   "source": [
    "# Code"
   ]
  },
  {
   "attachments": {},
   "cell_type": "markdown",
   "metadata": {},
   "source": [
    "## Clone David's repo\n",
    "Commands to get a Basenji environment set up on a local machine as of 07/19/2023.\n",
    "\n",
    "```bash\n",
    "git clone https://github.com/calico/basenji.git\n",
    "cd basenji\n",
    "mamba env create -f environment.yml\n",
    "mamba install tensorflow-gpu\n",
    "python setup.py develop --no-deps\n",
    "```\n",
    "\n",
    "or\n",
    "\n",
    "```bash\n",
    "git clone https://github.com/calico/basenji.git\n",
    "cd basenji\n",
    "mamba env create -f prespecified.yml\n",
    "mamba install tensorflow-gpu\n",
    "python setup.py develop --no-deps\n",
    "```"
   ]
  },
  {
   "attachments": {},
   "cell_type": "markdown",
   "metadata": {},
   "source": [
    "## Clone David's repo ;)\n",
    "Commands for getting David Laub's Basenji in PyTorch set up on a local machine as of 07/19/2023.\n",
    "\n",
    "If you have an env already set up:\n",
    "```bash\n",
    "mamba activate ml4gland\n",
    "git clone https://github.com/d-laub/basenji2-pytorch.git\n",
    "```\n",
    "\n",
    "If you don't have an env already set up:\n",
    "```bash\n",
    "git clone https://github.com/d-laub/basenji2-pytorch.git\n",
    "cd basenji2-pytorch\n",
    "mamba env create -f environment.yml\n",
    "cwd=$(pwd)\n",
    "export PYTHONPATH=$PYTHONPATH:$cwd\n",
    "```"
   ]
  },
  {
   "attachments": {},
   "cell_type": "markdown",
   "metadata": {},
   "source": [
    "# Kipoi repository"
   ]
  },
  {
   "attachments": {},
   "cell_type": "markdown",
   "metadata": {},
   "source": [
    "# Data"
   ]
  },
  {
   "attachments": {},
   "cell_type": "markdown",
   "metadata": {},
   "source": [
    "## Initial submission wig files that were used for training\n",
    "I think this matches the Kipoi version: https://github.com/calico/basenji/issues/16"
   ]
  },
  {
   "cell_type": "code",
   "execution_count": 2,
   "metadata": {},
   "outputs": [
    {
     "name": "stderr",
     "output_type": "stream",
     "text": [
      "--2023-07-19 08:26:32--  https://storage.googleapis.com/131k/sample_wigs.txt\n",
      "Resolving storage.googleapis.com (storage.googleapis.com)... 142.250.68.48, 142.250.188.240, 142.250.72.176, ...\n",
      "Connecting to storage.googleapis.com (storage.googleapis.com)|142.250.68.48|:443... connected.\n",
      "HTTP request sent, awaiting response... 200 OK\n",
      "Length: 470211 (459K) [text/plain]\n",
      "Saving to: ‘sample_wigs.txt’\n",
      "\n",
      "     0K .......... .......... .......... .......... .......... 10% 18.6M 0s\n",
      "    50K .......... .......... .......... .......... .......... 21% 17.2M 0s\n",
      "   100K .......... .......... .......... .......... .......... 32% 25.3M 0s\n",
      "   150K .......... .......... .......... .......... .......... 43% 46.2M 0s\n",
      "   200K .......... .......... .......... .......... .......... 54% 28.8M 0s\n",
      "   250K .......... .......... .......... .......... .......... 65%  146M 0s\n",
      "   300K .......... .......... .......... .......... .......... 76%  247M 0s\n",
      "   350K .......... .......... .......... .......... .......... 87%  106M 0s\n",
      "   400K .......... .......... .......... .......... .......... 97% 71.8M 0s\n",
      "   450K .........                                             100%  223M=0.01s\n",
      "\n",
      "2023-07-19 08:26:33 (37.8 MB/s) - ‘sample_wigs.txt’ saved [470211/470211]\n",
      "\n"
     ]
    }
   ],
   "source": [
    "%%bash\n",
    "cd /cellar/users/aklie/projects/ML4GLand/use_cases/Basenji\n",
    "mkdir -p data\n",
    "cd data\n",
    "wget https://storage.googleapis.com/131k/sample_wigs.txt"
   ]
  }
 ],
 "metadata": {
  "kernelspec": {
   "display_name": "Python 3.9 ml4gland",
   "language": "python",
   "name": "ml4gland"
  },
  "language_info": {
   "codemirror_mode": {
    "name": "ipython",
    "version": 3
   },
   "file_extension": ".py",
   "mimetype": "text/x-python",
   "name": "python",
   "nbconvert_exporter": "python",
   "pygments_lexer": "ipython3",
   "version": "3.9.16"
  },
  "orig_nbformat": 4
 },
 "nbformat": 4,
 "nbformat_minor": 2
}
