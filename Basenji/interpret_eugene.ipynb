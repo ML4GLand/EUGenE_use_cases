{
 "cells": [
  {
   "attachments": {},
   "cell_type": "markdown",
   "metadata": {},
   "source": [
    "# Fine tuning Basenji2 with PyTorch\n",
    "**Authorship:**\n",
    "Adam Klie (last updated: *07/19/2023*)\n",
    "***\n",
    "**Description:**\n",
    "This notebook demonstrates how to fine-tune a pre-trained Basenji2 model with PyTorch. The PyTorch implementation is detailed in the setup.ipynb notebook.\n",
    "***"
   ]
  },
  {
   "attachments": {},
   "cell_type": "markdown",
   "metadata": {},
   "source": [
    "# Set-up"
   ]
  },
  {
   "cell_type": "code",
   "execution_count": null,
   "metadata": {},
   "outputs": [],
   "source": [
    "# General imports\n",
    "import os\n",
    "import json\n",
    "import torch\n",
    "\n",
    "# In case the PYTHONPATH is not set\n",
    "import sys\n",
    "sys.path.append('/cellar/users/aklie/opt/ml4gland/basenji2-pytorch')\n",
    "\n",
    "# Clean cuda mem\n",
    "import gc\n",
    "torch.cuda.empty_cache()\n",
    "gc.collect()"
   ]
  },
  {
   "attachments": {},
   "cell_type": "markdown",
   "metadata": {},
   "source": []
  },
  {
   "cell_type": "code",
   "execution_count": null,
   "metadata": {},
   "outputs": [],
   "source": []
  }
 ],
 "metadata": {
  "kernelspec": {
   "display_name": "Python 3.7 eugene_dev",
   "language": "python",
   "name": "eugene_dev"
  },
  "language_info": {
   "codemirror_mode": {
    "name": "ipython",
    "version": 3
   },
   "file_extension": ".py",
   "mimetype": "text/x-python",
   "name": "python",
   "nbconvert_exporter": "python",
   "pygments_lexer": "ipython3",
   "version": "3.7.12"
  }
 },
 "nbformat": 4,
 "nbformat_minor": 4
}
