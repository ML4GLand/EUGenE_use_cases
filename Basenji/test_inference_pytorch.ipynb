{
 "cells": [
  {
   "attachments": {},
   "cell_type": "markdown",
   "metadata": {},
   "source": [
    "# Testing PyTorch Basenji2 for inference\n",
    "**Authorship:**\n",
    "Adam Klie (last updated: *07/19/2023*)\n",
    "***\n",
    "**Description:**\n",
    "Test the PyTorch implementation of Basenji2 for inference on some randomly generated sequences. This is a good place to check if your installation is working properly.\n",
    "***"
   ]
  },
  {
   "attachments": {},
   "cell_type": "markdown",
   "metadata": {},
   "source": [
    "# Set-up"
   ]
  },
  {
   "cell_type": "code",
   "execution_count": 59,
   "metadata": {},
   "outputs": [
    {
     "data": {
      "text/plain": [
       "0"
      ]
     },
     "execution_count": 59,
     "metadata": {},
     "output_type": "execute_result"
    }
   ],
   "source": [
    "# General imports\n",
    "import os\n",
    "import json\n",
    "import torch\n",
    "import torchinfo\n",
    "\n",
    "# In case the PYTHONPATH is not set\n",
    "import sys\n",
    "sys.path.append('/cellar/users/aklie/opt/ml4gland/basenji2-pytorch')\n",
    "\n",
    "# Clean cuda mem\n",
    "import gc\n",
    "torch.cuda.empty_cache()\n",
    "gc.collect()"
   ]
  },
  {
   "cell_type": "code",
   "execution_count": 36,
   "metadata": {},
   "outputs": [],
   "source": [
    "# Import the code for loading the PyTorch model\n",
    "from basenji2_pytorch import Basenji2, params # or PLBasenji2 to use training parameters from Kelley et al. 2020\n",
    "\n",
    "# Define the path to your downloaded weights\n",
    "model_weights = '/cellar/users/aklie/projects/ML4GLand/models/Basenji/basenji2.pth'  # TODO: Change this to your path"
   ]
  },
  {
   "cell_type": "code",
   "execution_count": 67,
   "metadata": {},
   "outputs": [],
   "source": [
    "# Open up the model config file\n",
    "with open(params) as params_open:\n",
    "    params = json.load(params_open)\n",
    "    model_params = params['model']\n",
    "    train_params = params['train']"
   ]
  },
  {
   "attachments": {},
   "cell_type": "markdown",
   "metadata": {},
   "source": [
    "# Load in the PyTorch model"
   ]
  },
  {
   "cell_type": "code",
   "execution_count": 43,
   "metadata": {},
   "outputs": [],
   "source": [
    "# Create the model\n",
    "basenji2 = Basenji2(model_params)"
   ]
  },
  {
   "cell_type": "code",
   "execution_count": 42,
   "metadata": {},
   "outputs": [
    {
     "data": {
      "text/plain": [
       "<All keys matched successfully>"
      ]
     },
     "execution_count": 42,
     "metadata": {},
     "output_type": "execute_result"
    }
   ],
   "source": [
    "# Load the weights\n",
    "basenji2.load_state_dict(torch.load(model_weights), strict=False)"
   ]
  },
  {
   "cell_type": "code",
   "execution_count": 47,
   "metadata": {},
   "outputs": [
    {
     "data": {
      "text/plain": [
       "===================================================================================================================\n",
       "Layer (type:depth-idx)                                            Output Shape              Param #\n",
       "===================================================================================================================\n",
       "Basenji2                                                          [1, 896, 5313]            --\n",
       "├─Sequential: 1-1                                                 [1, 896, 5313]            --\n",
       "│    └─Sequential: 2-1                                            [1, 1536, 896]            --\n",
       "│    │    └─BasenjiConvBlock: 3-1                                 [1, 288, 65536]           17,856\n",
       "│    │    └─BasenjiConvTower: 3-2                                 [1, 768, 1024]            7,720,099\n",
       "│    │    └─BasenjiDilatedResidual: 3-3                           [1, 768, 1024]            13,001,472\n",
       "│    │    └─Cropping1d: 3-4                                       [1, 768, 896]             --\n",
       "│    │    └─BasenjiConvBlock: 3-5                                 [1, 1536, 896]            1,182,720\n",
       "│    │    └─GELU: 3-6                                             [1, 1536, 896]            --\n",
       "│    └─Sequential: 2-2                                            [1, 896, 5313]            --\n",
       "│    │    └─BasenjiFinal: 3-7                                     [1, 896, 5313]            8,166,081\n",
       "===================================================================================================================\n",
       "Total params: 30,088,228\n",
       "Trainable params: 30,088,228\n",
       "Non-trainable params: 0\n",
       "Total mult-adds (G): 109.32\n",
       "===================================================================================================================\n",
       "Input size (MB): 2.10\n",
       "Forward/backward pass size (MB): 1700.08\n",
       "Params size (MB): 120.35\n",
       "Estimated Total Size (MB): 1822.53\n",
       "==================================================================================================================="
      ]
     },
     "execution_count": 47,
     "metadata": {},
     "output_type": "execute_result"
    }
   ],
   "source": [
    "# Print the model summary\n",
    "torchinfo.summary(basenji2, input_size=(1, 4, 131072))"
   ]
  },
  {
   "cell_type": "code",
   "execution_count": 53,
   "metadata": {},
   "outputs": [
    {
     "data": {
      "text/plain": [
       "Basenji2(\n",
       "  (model): Sequential(\n",
       "    (trunk): Sequential(\n",
       "      (0): BasenjiConvBlock(\n",
       "        (block): Sequential(\n",
       "          (0): GELU(approximate='none')\n",
       "          (1): Conv1d(4, 288, kernel_size=(15,), stride=(1,), padding=same, bias=False)\n",
       "          (2): BatchNorm1d(288, eps=0.001, momentum=0.09999999999999998, affine=True, track_running_stats=True)\n",
       "          (3): KerasMaxPool1d(\n",
       "            (pool): MaxPool1d(kernel_size=2, stride=2, padding=0, dilation=1, ceil_mode=False)\n",
       "          )\n",
       "        )\n",
       "      )\n",
       "      (1): BasenjiConvTower(\n",
       "        (tower): Sequential(\n",
       "          (0): BasenjiConvBlock(\n",
       "            (block): Sequential(\n",
       "              (0): GELU(approximate='none')\n",
       "              (1): Conv1d(288, 339, kernel_size=(5,), stride=(1,), padding=same, bias=False)\n",
       "              (2): BatchNorm1d(339, eps=0.001, momentum=0.09999999999999998, affine=True, track_running_stats=True)\n",
       "              (3): KerasMaxPool1d(\n",
       "                (pool): MaxPool1d(kernel_size=2, stride=2, padding=0, dilation=1, ceil_mode=False)\n",
       "              )\n",
       "            )\n",
       "          )\n",
       "          (1): BasenjiConvBlock(\n",
       "            (block): Sequential(\n",
       "              (0): GELU(approximate='none')\n",
       "              (1): Conv1d(339, 399, kernel_size=(5,), stride=(1,), padding=same, bias=False)\n",
       "              (2): BatchNorm1d(399, eps=0.001, momentum=0.09999999999999998, affine=True, track_running_stats=True)\n",
       "              (3): KerasMaxPool1d(\n",
       "                (pool): MaxPool1d(kernel_size=2, stride=2, padding=0, dilation=1, ceil_mode=False)\n",
       "              )\n",
       "            )\n",
       "          )\n",
       "          (2): BasenjiConvBlock(\n",
       "            (block): Sequential(\n",
       "              (0): GELU(approximate='none')\n",
       "              (1): Conv1d(399, 470, kernel_size=(5,), stride=(1,), padding=same, bias=False)\n",
       "              (2): BatchNorm1d(470, eps=0.001, momentum=0.09999999999999998, affine=True, track_running_stats=True)\n",
       "              (3): KerasMaxPool1d(\n",
       "                (pool): MaxPool1d(kernel_size=2, stride=2, padding=0, dilation=1, ceil_mode=False)\n",
       "              )\n",
       "            )\n",
       "          )\n",
       "          (3): BasenjiConvBlock(\n",
       "            (block): Sequential(\n",
       "              (0): GELU(approximate='none')\n",
       "              (1): Conv1d(470, 554, kernel_size=(5,), stride=(1,), padding=same, bias=False)\n",
       "              (2): BatchNorm1d(554, eps=0.001, momentum=0.09999999999999998, affine=True, track_running_stats=True)\n",
       "              (3): KerasMaxPool1d(\n",
       "                (pool): MaxPool1d(kernel_size=2, stride=2, padding=0, dilation=1, ceil_mode=False)\n",
       "              )\n",
       "            )\n",
       "          )\n",
       "          (4): BasenjiConvBlock(\n",
       "            (block): Sequential(\n",
       "              (0): GELU(approximate='none')\n",
       "              (1): Conv1d(554, 652, kernel_size=(5,), stride=(1,), padding=same, bias=False)\n",
       "              (2): BatchNorm1d(652, eps=0.001, momentum=0.09999999999999998, affine=True, track_running_stats=True)\n",
       "              (3): KerasMaxPool1d(\n",
       "                (pool): MaxPool1d(kernel_size=2, stride=2, padding=0, dilation=1, ceil_mode=False)\n",
       "              )\n",
       "            )\n",
       "          )\n",
       "          (5): BasenjiConvBlock(\n",
       "            (block): Sequential(\n",
       "              (0): GELU(approximate='none')\n",
       "              (1): Conv1d(652, 768, kernel_size=(5,), stride=(1,), padding=same, bias=False)\n",
       "              (2): BatchNorm1d(768, eps=0.001, momentum=0.09999999999999998, affine=True, track_running_stats=True)\n",
       "              (3): KerasMaxPool1d(\n",
       "                (pool): MaxPool1d(kernel_size=2, stride=2, padding=0, dilation=1, ceil_mode=False)\n",
       "              )\n",
       "            )\n",
       "          )\n",
       "        )\n",
       "      )\n",
       "      (2): BasenjiDilatedResidual(\n",
       "        (block): Sequential(\n",
       "          (0): Residual(\n",
       "            (module): Sequential(\n",
       "              (0): BasenjiConvBlock(\n",
       "                (block): Sequential(\n",
       "                  (0): GELU(approximate='none')\n",
       "                  (1): Conv1d(768, 384, kernel_size=(3,), stride=(1,), padding=same, bias=False)\n",
       "                  (2): BatchNorm1d(384, eps=0.001, momentum=0.09999999999999998, affine=True, track_running_stats=True)\n",
       "                )\n",
       "              )\n",
       "              (1): BasenjiConvBlock(\n",
       "                (block): Sequential(\n",
       "                  (0): GELU(approximate='none')\n",
       "                  (1): Conv1d(384, 768, kernel_size=(1,), stride=(1,), padding=same, bias=False)\n",
       "                  (2): BatchNorm1d(768, eps=0.001, momentum=0.09999999999999998, affine=True, track_running_stats=True)\n",
       "                  (3): Dropout(p=0.3, inplace=False)\n",
       "                )\n",
       "              )\n",
       "            )\n",
       "          )\n",
       "          (1): Residual(\n",
       "            (module): Sequential(\n",
       "              (0): BasenjiConvBlock(\n",
       "                (block): Sequential(\n",
       "                  (0): GELU(approximate='none')\n",
       "                  (1): Conv1d(768, 384, kernel_size=(3,), stride=(1,), padding=same, dilation=(2,), bias=False)\n",
       "                  (2): BatchNorm1d(384, eps=0.001, momentum=0.09999999999999998, affine=True, track_running_stats=True)\n",
       "                )\n",
       "              )\n",
       "              (1): BasenjiConvBlock(\n",
       "                (block): Sequential(\n",
       "                  (0): GELU(approximate='none')\n",
       "                  (1): Conv1d(384, 768, kernel_size=(1,), stride=(1,), padding=same, bias=False)\n",
       "                  (2): BatchNorm1d(768, eps=0.001, momentum=0.09999999999999998, affine=True, track_running_stats=True)\n",
       "                  (3): Dropout(p=0.3, inplace=False)\n",
       "                )\n",
       "              )\n",
       "            )\n",
       "          )\n",
       "          (2): Residual(\n",
       "            (module): Sequential(\n",
       "              (0): BasenjiConvBlock(\n",
       "                (block): Sequential(\n",
       "                  (0): GELU(approximate='none')\n",
       "                  (1): Conv1d(768, 384, kernel_size=(3,), stride=(1,), padding=same, dilation=(3,), bias=False)\n",
       "                  (2): BatchNorm1d(384, eps=0.001, momentum=0.09999999999999998, affine=True, track_running_stats=True)\n",
       "                )\n",
       "              )\n",
       "              (1): BasenjiConvBlock(\n",
       "                (block): Sequential(\n",
       "                  (0): GELU(approximate='none')\n",
       "                  (1): Conv1d(384, 768, kernel_size=(1,), stride=(1,), padding=same, bias=False)\n",
       "                  (2): BatchNorm1d(768, eps=0.001, momentum=0.09999999999999998, affine=True, track_running_stats=True)\n",
       "                  (3): Dropout(p=0.3, inplace=False)\n",
       "                )\n",
       "              )\n",
       "            )\n",
       "          )\n",
       "          (3): Residual(\n",
       "            (module): Sequential(\n",
       "              (0): BasenjiConvBlock(\n",
       "                (block): Sequential(\n",
       "                  (0): GELU(approximate='none')\n",
       "                  (1): Conv1d(768, 384, kernel_size=(3,), stride=(1,), padding=same, dilation=(4,), bias=False)\n",
       "                  (2): BatchNorm1d(384, eps=0.001, momentum=0.09999999999999998, affine=True, track_running_stats=True)\n",
       "                )\n",
       "              )\n",
       "              (1): BasenjiConvBlock(\n",
       "                (block): Sequential(\n",
       "                  (0): GELU(approximate='none')\n",
       "                  (1): Conv1d(384, 768, kernel_size=(1,), stride=(1,), padding=same, bias=False)\n",
       "                  (2): BatchNorm1d(768, eps=0.001, momentum=0.09999999999999998, affine=True, track_running_stats=True)\n",
       "                  (3): Dropout(p=0.3, inplace=False)\n",
       "                )\n",
       "              )\n",
       "            )\n",
       "          )\n",
       "          (4): Residual(\n",
       "            (module): Sequential(\n",
       "              (0): BasenjiConvBlock(\n",
       "                (block): Sequential(\n",
       "                  (0): GELU(approximate='none')\n",
       "                  (1): Conv1d(768, 384, kernel_size=(3,), stride=(1,), padding=same, dilation=(6,), bias=False)\n",
       "                  (2): BatchNorm1d(384, eps=0.001, momentum=0.09999999999999998, affine=True, track_running_stats=True)\n",
       "                )\n",
       "              )\n",
       "              (1): BasenjiConvBlock(\n",
       "                (block): Sequential(\n",
       "                  (0): GELU(approximate='none')\n",
       "                  (1): Conv1d(384, 768, kernel_size=(1,), stride=(1,), padding=same, bias=False)\n",
       "                  (2): BatchNorm1d(768, eps=0.001, momentum=0.09999999999999998, affine=True, track_running_stats=True)\n",
       "                  (3): Dropout(p=0.3, inplace=False)\n",
       "                )\n",
       "              )\n",
       "            )\n",
       "          )\n",
       "          (5): Residual(\n",
       "            (module): Sequential(\n",
       "              (0): BasenjiConvBlock(\n",
       "                (block): Sequential(\n",
       "                  (0): GELU(approximate='none')\n",
       "                  (1): Conv1d(768, 384, kernel_size=(3,), stride=(1,), padding=same, dilation=(9,), bias=False)\n",
       "                  (2): BatchNorm1d(384, eps=0.001, momentum=0.09999999999999998, affine=True, track_running_stats=True)\n",
       "                )\n",
       "              )\n",
       "              (1): BasenjiConvBlock(\n",
       "                (block): Sequential(\n",
       "                  (0): GELU(approximate='none')\n",
       "                  (1): Conv1d(384, 768, kernel_size=(1,), stride=(1,), padding=same, bias=False)\n",
       "                  (2): BatchNorm1d(768, eps=0.001, momentum=0.09999999999999998, affine=True, track_running_stats=True)\n",
       "                  (3): Dropout(p=0.3, inplace=False)\n",
       "                )\n",
       "              )\n",
       "            )\n",
       "          )\n",
       "          (6): Residual(\n",
       "            (module): Sequential(\n",
       "              (0): BasenjiConvBlock(\n",
       "                (block): Sequential(\n",
       "                  (0): GELU(approximate='none')\n",
       "                  (1): Conv1d(768, 384, kernel_size=(3,), stride=(1,), padding=same, dilation=(14,), bias=False)\n",
       "                  (2): BatchNorm1d(384, eps=0.001, momentum=0.09999999999999998, affine=True, track_running_stats=True)\n",
       "                )\n",
       "              )\n",
       "              (1): BasenjiConvBlock(\n",
       "                (block): Sequential(\n",
       "                  (0): GELU(approximate='none')\n",
       "                  (1): Conv1d(384, 768, kernel_size=(1,), stride=(1,), padding=same, bias=False)\n",
       "                  (2): BatchNorm1d(768, eps=0.001, momentum=0.09999999999999998, affine=True, track_running_stats=True)\n",
       "                  (3): Dropout(p=0.3, inplace=False)\n",
       "                )\n",
       "              )\n",
       "            )\n",
       "          )\n",
       "          (7): Residual(\n",
       "            (module): Sequential(\n",
       "              (0): BasenjiConvBlock(\n",
       "                (block): Sequential(\n",
       "                  (0): GELU(approximate='none')\n",
       "                  (1): Conv1d(768, 384, kernel_size=(3,), stride=(1,), padding=same, dilation=(21,), bias=False)\n",
       "                  (2): BatchNorm1d(384, eps=0.001, momentum=0.09999999999999998, affine=True, track_running_stats=True)\n",
       "                )\n",
       "              )\n",
       "              (1): BasenjiConvBlock(\n",
       "                (block): Sequential(\n",
       "                  (0): GELU(approximate='none')\n",
       "                  (1): Conv1d(384, 768, kernel_size=(1,), stride=(1,), padding=same, bias=False)\n",
       "                  (2): BatchNorm1d(768, eps=0.001, momentum=0.09999999999999998, affine=True, track_running_stats=True)\n",
       "                  (3): Dropout(p=0.3, inplace=False)\n",
       "                )\n",
       "              )\n",
       "            )\n",
       "          )\n",
       "          (8): Residual(\n",
       "            (module): Sequential(\n",
       "              (0): BasenjiConvBlock(\n",
       "                (block): Sequential(\n",
       "                  (0): GELU(approximate='none')\n",
       "                  (1): Conv1d(768, 384, kernel_size=(3,), stride=(1,), padding=same, dilation=(32,), bias=False)\n",
       "                  (2): BatchNorm1d(384, eps=0.001, momentum=0.09999999999999998, affine=True, track_running_stats=True)\n",
       "                )\n",
       "              )\n",
       "              (1): BasenjiConvBlock(\n",
       "                (block): Sequential(\n",
       "                  (0): GELU(approximate='none')\n",
       "                  (1): Conv1d(384, 768, kernel_size=(1,), stride=(1,), padding=same, bias=False)\n",
       "                  (2): BatchNorm1d(768, eps=0.001, momentum=0.09999999999999998, affine=True, track_running_stats=True)\n",
       "                  (3): Dropout(p=0.3, inplace=False)\n",
       "                )\n",
       "              )\n",
       "            )\n",
       "          )\n",
       "          (9): Residual(\n",
       "            (module): Sequential(\n",
       "              (0): BasenjiConvBlock(\n",
       "                (block): Sequential(\n",
       "                  (0): GELU(approximate='none')\n",
       "                  (1): Conv1d(768, 384, kernel_size=(3,), stride=(1,), padding=same, dilation=(48,), bias=False)\n",
       "                  (2): BatchNorm1d(384, eps=0.001, momentum=0.09999999999999998, affine=True, track_running_stats=True)\n",
       "                )\n",
       "              )\n",
       "              (1): BasenjiConvBlock(\n",
       "                (block): Sequential(\n",
       "                  (0): GELU(approximate='none')\n",
       "                  (1): Conv1d(384, 768, kernel_size=(1,), stride=(1,), padding=same, bias=False)\n",
       "                  (2): BatchNorm1d(768, eps=0.001, momentum=0.09999999999999998, affine=True, track_running_stats=True)\n",
       "                  (3): Dropout(p=0.3, inplace=False)\n",
       "                )\n",
       "              )\n",
       "            )\n",
       "          )\n",
       "          (10): Residual(\n",
       "            (module): Sequential(\n",
       "              (0): BasenjiConvBlock(\n",
       "                (block): Sequential(\n",
       "                  (0): GELU(approximate='none')\n",
       "                  (1): Conv1d(768, 384, kernel_size=(3,), stride=(1,), padding=same, dilation=(72,), bias=False)\n",
       "                  (2): BatchNorm1d(384, eps=0.001, momentum=0.09999999999999998, affine=True, track_running_stats=True)\n",
       "                )\n",
       "              )\n",
       "              (1): BasenjiConvBlock(\n",
       "                (block): Sequential(\n",
       "                  (0): GELU(approximate='none')\n",
       "                  (1): Conv1d(384, 768, kernel_size=(1,), stride=(1,), padding=same, bias=False)\n",
       "                  (2): BatchNorm1d(768, eps=0.001, momentum=0.09999999999999998, affine=True, track_running_stats=True)\n",
       "                  (3): Dropout(p=0.3, inplace=False)\n",
       "                )\n",
       "              )\n",
       "            )\n",
       "          )\n",
       "        )\n",
       "      )\n",
       "      (3): Cropping1d()\n",
       "      (4): BasenjiConvBlock(\n",
       "        (block): Sequential(\n",
       "          (0): GELU(approximate='none')\n",
       "          (1): Conv1d(768, 1536, kernel_size=(1,), stride=(1,), padding=same, bias=False)\n",
       "          (2): BatchNorm1d(1536, eps=0.001, momentum=0.09999999999999998, affine=True, track_running_stats=True)\n",
       "          (3): Dropout(p=0.05, inplace=False)\n",
       "        )\n",
       "      )\n",
       "      (5): GELU(approximate='none')\n",
       "    )\n",
       "    (head): Sequential(\n",
       "      (final): BasenjiFinal(\n",
       "        (block): Sequential(\n",
       "          (0): Rearrange('b c l -> b l c')\n",
       "          (1): Linear(in_features=1536, out_features=5313, bias=True)\n",
       "          (2): BasenjiSoftplus()\n",
       "        )\n",
       "      )\n",
       "    )\n",
       "  )\n",
       ")"
      ]
     },
     "execution_count": 53,
     "metadata": {},
     "output_type": "execute_result"
    }
   ],
   "source": [
    "# Send Basenji2 to CPU and capture the output\n",
    "basenji2.cpu().eval()"
   ]
  },
  {
   "attachments": {},
   "cell_type": "markdown",
   "metadata": {},
   "source": [
    "# Test inference on single sequence"
   ]
  },
  {
   "cell_type": "code",
   "execution_count": 54,
   "metadata": {},
   "outputs": [],
   "source": [
    "import seqpro as sp"
   ]
  },
  {
   "cell_type": "code",
   "execution_count": 55,
   "metadata": {},
   "outputs": [],
   "source": [
    "# Generate a random sequence\n",
    "seqs = sp.random_seqs((1, 131072), sp.alphabets.DNA)"
   ]
  },
  {
   "cell_type": "code",
   "execution_count": 56,
   "metadata": {},
   "outputs": [],
   "source": [
    "# One-hot encode the sequence and make it a PyTorch tensor\n",
    "ohe_seqs = torch.tensor(sp.ohe(seqs, alphabet=sp.alphabets.DNA), dtype=torch.float32).permute(0, 2, 1).to('cpu')"
   ]
  },
  {
   "cell_type": "code",
   "execution_count": 57,
   "metadata": {},
   "outputs": [
    {
     "name": "stdout",
     "output_type": "stream",
     "text": [
      "Size of sequence in memory: 2.097152 MB\n"
     ]
    }
   ],
   "source": [
    "# See how big this sequence is in memory\n",
    "print(f\"Size of sequence in memory: {ohe_seqs.element_size() * ohe_seqs.nelement() / 1e6} MB\")"
   ]
  },
  {
   "cell_type": "code",
   "execution_count": 58,
   "metadata": {},
   "outputs": [
    {
     "data": {
      "text/plain": [
       "torch.Size([1, 896, 5313])"
      ]
     },
     "execution_count": 58,
     "metadata": {},
     "output_type": "execute_result"
    }
   ],
   "source": [
    "# Run the sequence through the model\n",
    "basenji2(ohe_seqs).shape"
   ]
  },
  {
   "attachments": {},
   "cell_type": "markdown",
   "metadata": {},
   "source": [
    "# DONE!"
   ]
  },
  {
   "attachments": {},
   "cell_type": "markdown",
   "metadata": {},
   "source": [
    "---"
   ]
  }
 ],
 "metadata": {
  "kernelspec": {
   "display_name": "Python 3.9 ml4gland",
   "language": "python",
   "name": "ml4gland"
  },
  "orig_nbformat": 4
 },
 "nbformat": 4,
 "nbformat_minor": 2
}
